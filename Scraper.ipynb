{
 "cells": [
  {
   "cell_type": "code",
   "execution_count": null,
   "metadata": {
    "collapsed": true
   },
   "outputs": [],
   "source": []
  },
  {
   "cell_type": "code",
   "execution_count": 92,
   "metadata": {
    "collapsed": false
   },
   "outputs": [
    {
     "name": "stderr",
     "output_type": "stream",
     "text": [
      "WARNING: Method definition scrape_notebook(Any) in module Main at In[31]:15 overwritten at In[92]:15.\n",
      "WARNING: Method definition #scrape_notebook(Array{Any, 1}, Main.#scrape_notebook, Any) in module Main overwritten.\n",
      "\u001b[1m\u001b[31mWARNING: replacing docs for 'scrape_notebook :: Tuple{Any}' in module 'Main'.\u001b[0m\n",
      "WARNING: Method definition latest_scrapedict() in module Main at In[66]:9 overwritten at In[92]:48.\n",
      "WARNING: Method definition #latest_scrapedict(Array{Any, 1}, Main.#latest_scrapedict) in module Main overwritten.\n",
      "\u001b[1m\u001b[31mWARNING: replacing docs for 'latest_scrapedict :: Tuple{}' in module 'Main'.\u001b[0m\n",
      "WARNING: Method definition scrape_all_notebooks() in module Main at In[91]:3 overwritten at In[92]:75.\n",
      "WARNING: Method definition #scrape_all_notebooks(Array{Any, 1}, Main.#scrape_all_notebooks) in module Main overwritten.\n"
     ]
    },
    {
     "data": {
      "text/plain": [
       "1-element Array{Any,1}:\n",
       " \"Scraper.ipynb\""
      ]
     },
     "execution_count": 92,
     "metadata": {},
     "output_type": "execute_result"
    }
   ],
   "source": [
    "#@include_me   scraper.jl\n",
    "\n",
    "using JSON\n",
    "\n",
    "\"\"\"\n",
    "filenames_written = scrape_notebook(notebook_filename; verbose=false, includemagic=\"#@include_me\")\n",
    "\n",
    "Goes through a file notebook_filename, assuming it is an ipynb, and looks for code cells that start with\n",
    "includemagic, followed by whitespace, followed by a string (which we shall call filename). \n",
    "When such a code cell is found, its contents are written into filename.\n",
    "\n",
    "Returns an array with the written filenames\n",
    "\n",
    "\"\"\"\n",
    "function scrape_notebook(notebook_filename; verbose=false, includemagic=\"#@include_me\")\n",
    "\n",
    "    filenames = [];    \n",
    "    A = JSON.parse(readstring(notebook_filename))\n",
    "    for mycell in A[\"cells\"]\n",
    "        if mycell[\"cell_type\"] == \"code\"\n",
    "            lines = mycell[\"source\"]\n",
    "            if length(lines)>0\n",
    "                m= match(Regex(@sprintf(\"(?<include>%s)\\\\s*(?<filename>\\\\S*)\", includemagic)), lines[1])\n",
    "                if typeof(m)!=Void && length(m[\"filename\"])>0\n",
    "                    if verbose; @printf(\"Writing out file %s\\n\", m[\"filename\"]); end\n",
    "                    filenames = [filenames ; m[\"filename\"]]\n",
    "                    f = open(m[\"filename\"], \"w\")\n",
    "                    for i=2:length(lines)\n",
    "                        write(f, lines[i])\n",
    "                    end\n",
    "                    close(f)\n",
    "                end\n",
    "            end\n",
    "        end\n",
    "    end\n",
    "\n",
    "    return filenames\n",
    "end\n",
    "\n",
    "\n",
    "\n",
    "\"\"\"\n",
    "latest = latest_scrapedict(; scrapedir=\".scrapedir\", scrapefile=\"scrapelist\")\n",
    "\n",
    "Returns a dictionary that maps filenames to strings representing when they were\n",
    "last scraped.  This information is stored in a human-readable text file, scrapedir/scrapefile\n",
    "\n",
    "\"\"\"\n",
    "function latest_scrapedict(; scrapedir=\".scrapedir\", scrapefile=\"scrapelist\")\n",
    "    if !isdir(scrapedir); mkdir(scrapedir); end;\n",
    "    sfile = scrapedir * \"/\" * scrapefile\n",
    "    if !isfile(sfile);\n",
    "        return Dict()\n",
    "    end\n",
    "    \n",
    "    answer = Dict()\n",
    "    try\n",
    "        A = readdlm(sfile, ',')\n",
    "        for i=1:size(A,1)\n",
    "            get!(answer, A[i,1], lstrip(A[i,2]))\n",
    "        end\n",
    "    catch\n",
    "        answer = Dict()\n",
    "    end\n",
    "    return answer\n",
    "end\n",
    "\n",
    "\n",
    "\n",
    "\"\"\"\n",
    "rescraped = scrape_all_notebooks(; scrapedir=\".scrapedir\", scrapefile=\"scrapelist\", verbose=false)\n",
    "\n",
    "\n",
    "\"\"\"\n",
    "function scrape_all_notebooks(; scrapedir=\".scrapedir\", scrapefile=\"scrapelist\", verbose=false)\n",
    "\n",
    "    latest = latest_scrapedict(scrapedir=scrapedir, scrapefile=scrapefile)\n",
    "\n",
    "    rescraped = []\n",
    "    for f in filter(x -> endswith(x, \".ipynb\"), readdir())\n",
    "        if ~haskey(latest, f) || DateTime(latest[f]) < Dates.unix2datetime(stat(f).mtime) - Dates.Hour(4)\n",
    "            if verbose; @printf(\"Will look into notebook %s\\n\", f); end\n",
    "            rescraped = [rescraped; f]\n",
    "            scrape_notebook(f)\n",
    "            if haskey(latest, f)\n",
    "                latest[f] = string(now())\n",
    "            else\n",
    "                get!(latest, f, string(now()))\n",
    "            end\n",
    "        end\n",
    "    end\n",
    "\n",
    "    sfile = scrapedir * \"/\" * scrapefile\n",
    "    sf = open(sfile, \"w\")\n",
    "    for k in keys(latest)\n",
    "        write(sf, @sprintf(\"%s, %s\\n\", k, latest[k]))\n",
    "    end\n",
    "    close(sf)\n",
    "    \n",
    "    return rescraped\n",
    "end\n",
    "\n",
    "scrape_all_notebooks()\n"
   ]
  },
  {
   "cell_type": "code",
   "execution_count": null,
   "metadata": {
    "collapsed": false
   },
   "outputs": [],
   "source": []
  }
 ],
 "metadata": {
  "kernelspec": {
   "display_name": "Julia 0.5.2",
   "language": "julia",
   "name": "julia-0.5"
  },
  "language_info": {
   "file_extension": ".jl",
   "mimetype": "application/julia",
   "name": "julia",
   "version": "0.5.2"
  }
 },
 "nbformat": 4,
 "nbformat_minor": 0
}
