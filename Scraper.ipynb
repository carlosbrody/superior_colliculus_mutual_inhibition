{
 "cells": [
  {
   "cell_type": "markdown",
   "metadata": {},
   "source": [
    "**Tired of working with notebooks but having to manually make copies of cells where you define functions so other notebooks or other scripts can use them?  The solution is in this notebook.**\n",
    "\n",
    "This notebook contains the code for \"scraper.jl\", a facility that periodically (every 2 secs) scans jupyter notebooks in a directory, looking within them for code cells that start with a line \"#@include_me filename\". The code in that cell is copied into that filename. (If multiple cells in a notebook use the same #@include_me and filename, they are all appended into that filename.)\n",
    "\n",
    "The system maintain a database of when it last scraped each notebook; scraping of a notebook only runs if the notebook has been modified more recently than its last scraping, which happens infrequently, so the CPU load is very light.\n",
    "\n",
    "To run the system, put it in a directory, make sure that this notebook itself has been scraped into the file scraper.jl (you could run \"scrape_notebook(\"Scraper.ipynb\"; verbose=true)\" to do that), and then, within that directory run\n",
    "\n",
    "shell>  julia scraper.jl &\n",
    "\n",
    "This will do the periodic scraping in the background. All you have to do is to remember to include the first line #@include_me  filename  in cells that you want put into files, the rest is taken care of automatically.\n"
   ]
  },
  {
   "cell_type": "markdown",
   "metadata": {},
   "source": [
    "<h1 id=\"tocheading\">TABLE OF CONTENTS</h1>\n",
    "<div id=\"toc\"></div>\n",
    "\n",
    "**Updates to the table of contents are periodic, but run the cell below to first start or force an update.**"
   ]
  },
  {
   "cell_type": "code",
   "execution_count": 3,
   "metadata": {
    "collapsed": false
   },
   "outputs": [
    {
     "data": {
      "application/javascript": [
       "$.getScript('make_table_of_contents.js')\n"
      ]
     },
     "metadata": {},
     "output_type": "display_data"
    }
   ],
   "source": [
    "macro javascript_str(s) display(\"text/javascript\", s); end\n",
    "\n",
    "javascript\"\"\"\n",
    "$.getScript('make_table_of_contents.js')\n",
    "\"\"\""
   ]
  },
  {
   "cell_type": "code",
   "execution_count": null,
   "metadata": {
    "collapsed": true
   },
   "outputs": [],
   "source": [
    "#@include_me   scraper.jl\n",
    "\n",
    "using JSON"
   ]
  },
  {
   "cell_type": "markdown",
   "metadata": {},
   "source": [
    "# Function that scrapes a single notebook for julia code"
   ]
  },
  {
   "cell_type": "code",
   "execution_count": 5,
   "metadata": {
    "collapsed": false
   },
   "outputs": [
    {
     "name": "stderr",
     "output_type": "stream",
     "text": [
      "WARNING: Method definition scrape_notebook(Any) in module Main at In[2]:20 overwritten at In[5]:21.\n",
      "WARNING: Method definition #scrape_notebook(Array{Any, 1}, Main.#scrape_notebook, Any) in module Main overwritten.\n",
      "\u001b[1m\u001b[31mWARNING: replacing docs for 'scrape_notebook :: Tuple{Any}' in module 'Main'.\u001b[0m\n"
     ]
    },
    {
     "data": {
      "text/plain": [
       "scrape_notebook"
      ]
     },
     "execution_count": 5,
     "metadata": {},
     "output_type": "execute_result"
    }
   ],
   "source": [
    "#@include_me   scraper.jl\n",
    "\n",
    "# Scrape a notebook for julia code that should be written into an indicated file\n",
    "\n",
    "\"\"\"\n",
    "filenames_written = scrape_notebook(notebook_filename; verbose=false, includemagic=\"#@include_me\",\n",
    "    update_db=false)\n",
    "\n",
    "Goes through a file notebook_filename, assuming it is an ipynb, and looks for code cells that start with\n",
    "includemagic, followed by whitespace, followed by a string (which we shall call filename). \n",
    "When such a code cell is found, its contents are written into filename.\n",
    "\n",
    "If more than one cell uses the same filename, then the first one starts the file, and subsequent cells\n",
    "append to it.\n",
    "\n",
    "Returns an array with the written filenames\n",
    "\n",
    "\"\"\"\n",
    "function scrape_notebook(notebook_filename; verbose=false, includemagic=\"#@include_me\", update_db=false)\n",
    "\n",
    "    filenames = [];    # List of output files found in this notebook\n",
    "    try \n",
    "        A = JSON.parse(readstring(notebook_filename))\n",
    "    catch y\n",
    "        @printf(\"\\n=======\\n\\n   WARNING!!! Ran into trouble trying to JSON parse file %s\\n\\n\", notebook_filename)\n",
    "        @printf(\"Error was \"); print(y); print(\"\\n\\n======\\n\")\n",
    "        return filenames\n",
    "    end\n",
    "    \n",
    "    \n",
    "    for mycell in A[\"cells\"]\n",
    "        if mycell[\"cell_type\"] == \"code\"   \n",
    "            lines = mycell[\"source\"]\n",
    "            if length(lines)>0           # We only consider code cells that are not empty\n",
    "                m= match(Regex(@sprintf(\"(?<include>%s)\\\\s*(?<filename>\\\\S*)\", includemagic)), lines[1])\n",
    "                if typeof(m)!=Void && length(m[\"filename\"])>0  # proceed if we got a match and got a filename\n",
    "                    if any(filenames .== m[\"filename\"]); \n",
    "                        f = open(m[\"filename\"], \"a\")           # we'll append if we already had that filename\n",
    "                        if verbose; @printf(\"Appending to file %s\\n\", m[\"filename\"]); end\n",
    "                    else\n",
    "                        f = open(m[\"filename\"], \"w\")           # otherwise open fresh for writing\n",
    "                        filenames = [filenames ; m[\"filename\"]]\n",
    "                        if verbose; @printf(\"Writing out file %s\\n\", m[\"filename\"]); end\n",
    "                    end\n",
    "                    # Now write out the contents of the cell, with a warning at the top:\n",
    "                    write(f, @sprintf(\"# DON'T MODIFY THIS FILE -- the source is in file %s\\n\\n\", notebook_filename))\n",
    "                    for i=2:length(lines)\n",
    "                        write(f, lines[i])\n",
    "                    end\n",
    "                    write(f, \"\\n\\n\\n\")\n",
    "                    close(f)\n",
    "                end\n",
    "            end\n",
    "        end\n",
    "    end\n",
    "    \n",
    "    if update_db && length(filenames)>0\n",
    "        latest = latest_scrapedict();\n",
    "        if haskey(latest, notebook_filename)\n",
    "            latest[notebook_filename] = string(now())\n",
    "        else\n",
    "            get!(latest, notebook_filename, string(now()))\n",
    "        end\n",
    "\n",
    "        if verbose; @printf(\"Refreshing database with info about %s\\n\", notebook_filename) end;\n",
    "        write_scrapedict(latest)\n",
    "    end\n",
    "\n",
    "    return filenames\n",
    "end"
   ]
  },
  {
   "cell_type": "code",
   "execution_count": 2,
   "metadata": {
    "collapsed": false
   },
   "outputs": [
    {
     "data": {
      "text/plain": [
       "UndefVarError"
      ]
     },
     "execution_count": 2,
     "metadata": {},
     "output_type": "execute_result"
    }
   ],
   "source": []
  },
  {
   "cell_type": "markdown",
   "metadata": {},
   "source": [
    "### Example:"
   ]
  },
  {
   "cell_type": "code",
   "execution_count": 3,
   "metadata": {
    "collapsed": false
   },
   "outputs": [
    {
     "name": "stdout",
     "output_type": "stream",
     "text": [
      "Writing out file scraper.jl\n",
      "Appending to file scraper.jl\n",
      "Appending to file scraper.jl\n",
      "Appending to file scraper.jl\n",
      "Appending to file scraper.jl\n",
      "Refreshing database with info about Scraper.ipynb\n"
     ]
    },
    {
     "data": {
      "text/plain": [
       "1-element Array{Any,1}:\n",
       " \"scraper.jl\""
      ]
     },
     "execution_count": 3,
     "metadata": {},
     "output_type": "execute_result"
    }
   ],
   "source": [
    "scrape_notebook(\"Scraper.ipynb\"; verbose=true, update_db=true)"
   ]
  },
  {
   "cell_type": "markdown",
   "metadata": {},
   "source": [
    "# Reading the database of scraped notebooks"
   ]
  },
  {
   "cell_type": "code",
   "execution_count": 1,
   "metadata": {
    "collapsed": false
   },
   "outputs": [
    {
     "data": {
      "text/plain": [
       "write_scrapedict"
      ]
     },
     "execution_count": 1,
     "metadata": {},
     "output_type": "execute_result"
    }
   ],
   "source": [
    "#@include_me   scraper.jl\n",
    "\n",
    "# Get database of scraped files\n",
    "\n",
    "\"\"\"\n",
    "latest = latest_scrapedict(; scrapedir=\".scrapedir\", scrapefile=\"scrapelist\")\n",
    "\n",
    "Returns a dictionary that maps filenames to strings representing when they were\n",
    "last scraped.  This information is stored in a human-readable text file, scrapedir/scrapefile\n",
    "\n",
    "\"\"\"\n",
    "function latest_scrapedict(; scrapedir=\".scrapedir\", scrapefile=\"scrapelist\")\n",
    "    if !isdir(scrapedir); mkdir(scrapedir); end;\n",
    "    sfile = scrapedir * \"/\" * scrapefile\n",
    "    if !isfile(sfile);\n",
    "        return Dict()\n",
    "    end\n",
    "    \n",
    "    answer = Dict()\n",
    "    try\n",
    "        A = readdlm(sfile, ',')\n",
    "        for i=1:size(A,1)\n",
    "            get!(answer, lstrip(A[i,2]), A[i,1])\n",
    "        end\n",
    "    catch\n",
    "        answer = Dict()\n",
    "    end\n",
    "    return answer\n",
    "end\n",
    "\n",
    "\n",
    "\"\"\"\n",
    "write_scrapedict(latest; scrapedir=\".scrapedir\", scrapefile=\"scrapelist\")\n",
    "\n",
    "Writes a dictionary containing filename-latest_scrape_time_string pairs into a file\n",
    "\n",
    "\"\"\"\n",
    "function write_scrapedict(latest; scrapedir=\".scrapedir\", scrapefile=\"scrapelist\")\n",
    "\n",
    "    sfile = scrapedir * \"/\" * scrapefile\n",
    "    sf = open(sfile, \"w\")\n",
    "    for k in keys(latest)\n",
    "        write(sf, @sprintf(\"%s, %s\\n\", latest[k], k))\n",
    "    end\n",
    "    close(sf)\n",
    "\n",
    "end"
   ]
  },
  {
   "cell_type": "markdown",
   "metadata": {},
   "source": [
    "### Example"
   ]
  },
  {
   "cell_type": "code",
   "execution_count": null,
   "metadata": {
    "collapsed": false
   },
   "outputs": [],
   "source": [
    "latest_scrapedict()"
   ]
  },
  {
   "cell_type": "markdown",
   "metadata": {},
   "source": [
    "# Iterate over all notebooks in a directory"
   ]
  },
  {
   "cell_type": "code",
   "execution_count": null,
   "metadata": {
    "collapsed": false
   },
   "outputs": [],
   "source": [
    "#@include_me   scraper.jl\n",
    "\n",
    "# Go through all notebooks in directory and scrape them if they've been modified after their last\n",
    "# scrape time.\n",
    "\n",
    "\"\"\"\n",
    "rescraped = scrape_all_notebooks(; scrapedir=\".scrapedir\", scrapefile=\"scrapelist\", verbose=false)\n",
    "\n",
    "\n",
    "\"\"\"\n",
    "function scrape_all_notebooks(; scrapedir=\".scrapedir\", scrapefile=\"scrapelist\", verbose=false)\n",
    "\n",
    "    latest = latest_scrapedict(scrapedir=scrapedir, scrapefile=scrapefile)\n",
    "\n",
    "    rescraped = []\n",
    "    for f in filter(x -> endswith(x, \".ipynb\"), readdir())\n",
    "        if ~haskey(latest, f) || DateTime(latest[f]) < Dates.unix2datetime(stat(f).mtime) - Dates.Hour(4)\n",
    "            if verbose; @printf(\"Will look into notebook %s\\n\", f); end\n",
    "            rescraped = [rescraped; f]\n",
    "            scrape_notebook(f)\n",
    "            if haskey(latest, f)\n",
    "                latest[f] = string(now())\n",
    "            else\n",
    "                get!(latest, f, string(now()))\n",
    "            end\n",
    "        end\n",
    "    end\n",
    "\n",
    "    if length(rescraped)>0\n",
    "        write_scrapedict(latest; scrapedir=scrapedir, scrapefile=scrapefile)\n",
    "    end\n",
    "    \n",
    "    return rescraped\n",
    "end\n",
    "\n"
   ]
  },
  {
   "cell_type": "code",
   "execution_count": null,
   "metadata": {
    "collapsed": false
   },
   "outputs": [],
   "source": [
    "latest = latest_scrapedict()\n",
    "Dates.unix2datetime(stat(\"Cost\\ Function\\ Minimization\\ and\\ Hessian\\ Utilities.ipynb\").mtime)-Dates.Hour(4)\n",
    "DateTime(latest[\"Cost Function Minimization and Hessian Utilities.ipynb\"]) - \n",
    "(Dates.unix2datetime(stat(\"Cost\\ Function\\ Minimization\\ and\\ Hessian\\ Utilities.ipynb\").mtime)-Dates.Hour(4))"
   ]
  },
  {
   "cell_type": "markdown",
   "metadata": {},
   "source": [
    "### Example"
   ]
  },
  {
   "cell_type": "code",
   "execution_count": null,
   "metadata": {
    "collapsed": false
   },
   "outputs": [],
   "source": [
    "scrape_all_notebooks(; verbose=true)"
   ]
  },
  {
   "cell_type": "markdown",
   "metadata": {},
   "source": [
    "# Periodically run yourself, or, update the indicated notebook and quit"
   ]
  },
  {
   "cell_type": "code",
   "execution_count": 9,
   "metadata": {
    "collapsed": false
   },
   "outputs": [
    {
     "name": "stderr",
     "output_type": "stream",
     "text": [
      "WARNING: Method definition scraperobot() in module Main at In[6]:4 overwritten at In[9]:4.\n"
     ]
    }
   ],
   "source": [
    "#@include_me  scraper.jl\n",
    "\n",
    "function scraperobot()\n",
    "    while true\n",
    "        scrape_all_notebooks()\n",
    "        sleep(2)\n",
    "    end\n",
    "end\n",
    "\n",
    "\n",
    "if length(ARGS)==0\n",
    "    scraperobot()\n",
    "elseif any(ARGS[1] .== [\"-h\", \"--h\", \"-help\", \"--help\"])\n",
    "        @printf(\"\\nUsage: julia scraper.jl &     to run the scraping robot in the background\\n\\n\")\n",
    "        @printf(\"   OR\\n\\n\")\n",
    "        @printf(\"julia scraper.jl notebook1.ipynb [notebook2.ipynb ...]   to scrape the indicated notebooks, then stop.\\n\\n\")\n",
    "else\n",
    "    for nf in ARGS\n",
    "        if endswith(nf, \".ipynb\") && isfile(nf)\n",
    "            scrape_notebook(nf; verbose=true, update_db=true)\n",
    "        end\n",
    "    end\n",
    "end\n"
   ]
  }
 ],
 "metadata": {
  "kernelspec": {
   "display_name": "Julia 0.5.2",
   "language": "julia",
   "name": "julia-0.5"
  },
  "language_info": {
   "file_extension": ".jl",
   "mimetype": "application/julia",
   "name": "julia",
   "version": "0.5.2"
  }
 },
 "nbformat": 4,
 "nbformat_minor": 0
}
