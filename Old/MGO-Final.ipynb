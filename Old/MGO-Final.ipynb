{
 "cells": [
  {
   "cell_type": "markdown",
   "metadata": {},
   "source": [
    "# Preliminaries"
   ]
  },
  {
   "cell_type": "code",
   "execution_count": 1,
   "metadata": {
    "collapsed": false
   },
   "outputs": [
    {
     "data": {
      "text/plain": [
       "\"We define functions to convert Duals, the variable types used by ForwardDiff, \\nto Floats. This is useful if we want to print out the value of a variable \\n(since print doesn't know how to Duals). Note that after being converted to a Float, no\\ndifferentiation by ForwardDiff can happen!  e.g. after\\n    x = convert(Float64, y)\\nForwardDiff can still differentiate y, but it can't differentiate x\\n\""
      ]
     },
     "execution_count": 1,
     "metadata": {},
     "output_type": "execute_result"
    }
   ],
   "source": [
    "using PyCall\n",
    "using PyPlot\n",
    "using ForwardDiff\n",
    "using DiffBase\n",
    "using MAT\n",
    "\n",
    "pygui(true)\n",
    "\n",
    "import Base.convert\n",
    "convert(::Type{Float64}, x::ForwardDiff.Dual) = Float64(x.value)\n",
    "function convert(::Array{Float64}, x::Array{ForwardDiff.Dual}) \n",
    "    y = zeros(size(x)); \n",
    "    for i in 1:prod(size(x)) \n",
    "        y[i] = convert(Float64, x[i]) \n",
    "    end\n",
    "    return y\n",
    "end\n",
    "\n",
    "include(\"hessian_utils.jl\")\n",
    "\n",
    "\"\"\"\n",
    "We define functions to convert Duals, the variable types used by ForwardDiff, \n",
    "to Floats. This is useful if we want to print out the value of a variable \n",
    "(since print doesn't know how to Duals). Note that after being converted to a Float, no\n",
    "differentiation by ForwardDiff can happen!  e.g. after\n",
    "    x = convert(Float64, y)\n",
    "ForwardDiff can still differentiate y, but it can't differentiate x\n",
    "\"\"\"\n",
    "\n",
    "\n"
   ]
  },
  {
   "cell_type": "markdown",
   "metadata": {},
   "source": [
    "# Main dynamics function"
   ]
  },
  {
   "cell_type": "code",
   "execution_count": 2,
   "metadata": {
    "collapsed": false
   },
   "outputs": [
    {
     "data": {
      "text/plain": [
       "([0,5,10,15,20,25,30,35,40,45  …  1955,1960,1965,1970,1975,1980,1985,1990,1995,2000],\n",
       "[-51.0 -51.5027 … -41.5664 -40.1409; -51.0 -52.2959 … -65.2765 -65.1614],\n",
       "\n",
       "[0.401312 0.354097 … 0.966864 0.980991; 0.401312 0.285289 … 0.00221432 0.00231836],\n",
       "\n",
       "[0 -20; -20 0])"
      ]
     },
     "execution_count": 2,
     "metadata": {},
     "output_type": "execute_result"
    }
   ],
   "source": [
    "function mgo_dynamics(;cue_period=500, delay_period=1000, response_period=500,\n",
    "    const_E=15, theta=5, U_rest=-60, U_init=-51, Uth=-50, g_leak=1, response_extra_E=5, \n",
    "    nderivs=0, difforder=0, dt=5, tau=80, sigma=0.4, rule_input=0, w_self=0, w_other=-20,\n",
    "    do_plot=false, plot_only_V = false, fignum=1)\n",
    "\n",
    "    t = [0:dt:(cue_period+delay_period+response_period);]\n",
    "    U = ForwardDiffZeros(2, length(t), nderivs=nderivs, difforder=difforder)\n",
    "    V = ForwardDiffZeros(2, length(t), nderivs=nderivs, difforder=difforder)\n",
    "    \n",
    "    W = [w_self w_other ; w_other w_self]\n",
    "    \n",
    "    U[:,1] = U_init\n",
    "    V[:,1] = 0.5*(1 + tanh((U[:,1]-Uth)/theta))\n",
    "    \n",
    "    for i in [2:length(t);]\n",
    "        dUdt = W*V[:,i-1] + g_leak*(U_rest - U[:,i-1]) + const_E\n",
    "\n",
    "        if t[i] < cue_period\n",
    "            dUdt += [rule_input, -rule_input]''\n",
    "        elseif t[i]>=cue_period + delay_period\n",
    "            dUdt += response_extra_E\n",
    "        end\n",
    "        \n",
    "        U[:,i] = U[:,i-1] + (dt/tau)*dUdt + sigma*randn(2,1)*sqrt(dt) \n",
    "        V[:,i] = 0.5*(1 + tanh((U[:,i]-Uth)/theta))\n",
    "    end\n",
    "    \n",
    "    if do_plot\n",
    "        figure(fignum)\n",
    "        if !plot_only_V; subplot(2,1,1); end\n",
    "        h = plot(t, V'); \n",
    "        setp(h[1], color=[0, 0, 1])\n",
    "        setp(h[2], color=[1, 0, 0])\n",
    "        ylabel(\"V\")\n",
    "\n",
    "        ax = gca()\n",
    "        yl = [ylim()[1], ylim()[2]]\n",
    "        vlines([cue_period, cue_period+delay_period], -0.05, 1.05, linewidth=2)\n",
    "        if yl[1]<0.02; yl[1] = -0.02; end\n",
    "        if yl[2]>0.98; yl[2] = 1.02;  end\n",
    "        ylim(yl)\n",
    "        grid(true)\n",
    "\n",
    "        if ~plot_only_V\n",
    "            subplot(2,1,2);\n",
    "            h = plot(t, U'); \n",
    "            setp(h[1], color=[0, 0, 1])\n",
    "            setp(h[2], color=[1, 0, 0])\n",
    "            ylabel(\"U\")\n",
    "\n",
    "            ax = gca()\n",
    "            yl = [ylim()[1], ylim()[2]]\n",
    "            vlines([cue_period, cue_period+delay_period], yl[1], yl[2], linewidth=2)\n",
    "            xlabel(\"t\")\n",
    "            grid(true)\n",
    "        end\n",
    "    end\n",
    "\n",
    "    return t, U, V, W\n",
    "end\n",
    "\n",
    "\n",
    "figure(1); clf();\n",
    "mgo_dynamics(do_plot=true, plot_only_V=true, const_E=15, sigma=0.4, dt=5, w_other=-20, rule_input=-0.25, response_extra_E=1)"
   ]
  },
  {
   "cell_type": "markdown",
   "metadata": {},
   "source": [
    "# Plot psychometric function"
   ]
  },
  {
   "cell_type": "code",
   "execution_count": 4,
   "metadata": {
    "collapsed": false
   },
   "outputs": [
    {
     "name": "stdout",
     "output_type": "stream",
     "text": [
      "Done 1\n",
      "Done 2\n"
     ]
    },
    {
     "name": "stderr",
     "output_type": "stream",
     "text": [
      "WARNING: Method definition psychometric() in module Main at In[3]:4 overwritten at In[4]:4.\n",
      "WARNING: Method definition #psychometric(Array{Any, 1}, Main.#psychometric) in module Main overwritten.\n"
     ]
    },
    {
     "name": "stdout",
     "output_type": "stream",
     "text": [
      "Done 3\n",
      "Done 4\n",
      "Done 5\n",
      "Done 6\n",
      "Done 7\n",
      "Done 8\n",
      "Done 9\n",
      "Done 10\n",
      "Done 11\n",
      "PyPlot.Figure(PyObject <matplotlib.figure.Figure object at 0x32a12cc10>)\n"
     ]
    },
    {
     "data": {
      "image/png": "[encoded data removed]",
      "text/plain": [
       "PyPlot.Figure(PyObject <matplotlib.figure.Figure object at 0x32a12cc10>)"
      ]
     },
     "execution_count": 4,
     "metadata": {},
     "output_type": "execute_result"
    }
   ],
   "source": [
    "ntrials = 100\n",
    "inputs = [-1:0.2:1;]*4\n",
    "function psychometric(;ntrials=100, inputs=[-1:0.2:1;]*4, do_plot=false, pars...)\n",
    "    fracright = zeros(size(inputs))\n",
    "    wentright = zeros(1, ntrials)\n",
    "\n",
    "    for input in [1:length(inputs);]\n",
    "        for i in [1:ntrials;]\n",
    "            outs = mgo_dynamics(;do_plot=do_plot, rule_input=inputs[input], pars...)[3][:,end]  # get the V matrix final point\n",
    "            if outs[1] > outs[2]\n",
    "                wentright[i] = 1\n",
    "            else\n",
    "                wentright[i] = 0\n",
    "            end\n",
    "            fracright[input] = mean(wentright)\n",
    "            # @printf \"     i: %d\\n\" i\n",
    "        end\n",
    "        @printf \"Done %d\\n\" input\n",
    "    end\n",
    "\n",
    "    figure(2); clf();\n",
    "    plot(inputs, fracright, \"b.-\")\n",
    "    ylabel(\"Fraction Right\")\n",
    "    xlabel(\"rule_input\")\n",
    "    grid(true)\n",
    "    println(figure(2))\n",
    "\n",
    "    return  inputs, fracright\n",
    "end;\n",
    "\n",
    "psychometric(ntrials=ntrials, inputs=inputs, dt=5, sigma=0.4);\n",
    "\n",
    "figure(1); clf();\n",
    "for i in [1:10;]\n",
    "    mgo_dynamics(do_plot=true, dt=5, sigma=0.4, rule_input=1.5)\n",
    "end\n",
    "\n",
    "figure(2)"
   ]
  },
  {
   "cell_type": "markdown",
   "metadata": {},
   "source": [
    "# Cost function"
   ]
  },
  {
   "cell_type": "code",
   "execution_count": 5,
   "metadata": {
    "collapsed": false
   },
   "outputs": [
    {
     "name": "stdout",
     "output_type": "stream",
     "text": [
      "                              cost1=0.00249449, cost2=-0.049923, mean(hits)=0.750, mean(diffs)=0.998\n",
      "                              cost1=0.0452278, cost2=-0.00259525, mean(hits)=0.587, mean(diffs)=0.052\n"
     ]
    },
    {
     "data": {
      "text/plain": [
       "2-element Array{Float64,1}:\n",
       " -0.371116 \n",
       " -0.0149961"
      ]
     },
     "execution_count": 5,
     "metadata": {},
     "output_type": "execute_result"
    }
   ],
   "source": [
    "function make_dict(args, x::Vector)\n",
    "    kwargs = Dict();\n",
    "    for i in [1:length(args);]\n",
    "        kwargs = merge(kwargs, Dict(Symbol(args[i]) => x[i]))\n",
    "    end\n",
    "    return kwargs\n",
    "end \n",
    "\n",
    "function Jcost(;target=0.8, ntrials=10, theta1=0.15, theta2=0.2, beta=0.05, seedrand = 300, verbose=true,\n",
    "    rulestrength = 2, nderivs=0, difforder=0, do_plot=false, plot_trials=1, max_sigma=1, min_sigma=0.05, \n",
    "    params...)\n",
    "\n",
    "    function sigma_cost(;max_sigma=1, min_sigma=0.05, sigma=0.5, params...)\n",
    "        if sigma<max_sigma && min_sigma<sigma;\n",
    "            return 0\n",
    "        elseif max_sigma <= sigma\n",
    "            return cosh((sigma-max_sigma)/0.1)-1.0\n",
    "        elseif sigma <= min_sigma\n",
    "            return cosh((min_sigma-sigma)/0.1)-1.0\n",
    "        end\n",
    "    end\n",
    "\n",
    "    if !isnan(seedrand)\n",
    "        srand(seedrand)\n",
    "    else  # if the random seed is passed as NaN, use the system time in milliseconds\n",
    "        srand(convert(Int64, round(1000*time())))\n",
    "    end\n",
    "    \n",
    "    if isempty(size(plot_trials))\n",
    "        plot_trials = [plot_trials]\n",
    "    end;\n",
    "\n",
    "    Vouts1 = ForwardDiffZeros(2, ntrials, nderivs=nderivs, difforder=difforder)\n",
    "    Vouts2 = ForwardDiffZeros(2, ntrials, nderivs=nderivs, difforder=difforder)\n",
    "\n",
    "    if do_plot; figure(1); clf(); subplot(2,1,1); end\n",
    "    for i in [1:ntrials;]\n",
    "        if do_plot && ~isempty(find(plot_trials.==i))\n",
    "            Vouts1[:,i] = mgo_dynamics(;do_plot=true, plot_only_V=true, rule_input=rulestrength,  nderivs=nderivs, difforder=difforder, params...)[3][:,end]\n",
    "        else\n",
    "            Vouts1[:,i] = mgo_dynamics(;rule_input=rulestrength,  nderivs=nderivs, difforder=difforder, params...)[3][:,end]\n",
    "        end\n",
    "    end\n",
    "    if do_plot; subplot(2,1,2); end\n",
    "    for i in [1:ntrials;]\n",
    "        if do_plot && ~isempty(find(plot_trials.==i))\n",
    "            Vouts2[:,i] = mgo_dynamics(;do_plot=true, plot_only_V=true, rule_input=-rulestrength, nderivs=nderivs, difforder=difforder, params...)[3][:,end]\n",
    "        else\n",
    "            Vouts2[:,i] = mgo_dynamics(;rule_input=-rulestrength, nderivs=nderivs, difforder=difforder, params...)[3][:,end]\n",
    "        end\n",
    "    end\n",
    "    \n",
    "    hits1 = 0.5*(1 + tanh.((Vouts1[1,:]  - Vouts1[2,:])/theta1))\n",
    "    hits2 = 0.5*(1 + tanh.((Vouts2[2,:]  - Vouts2[1,:])/theta1))\n",
    "    hits  = [hits1 ; hits2]\n",
    "    diffs1   = tanh((Vouts1[1,:]  - Vouts1[2,:]) /theta2).^2\n",
    "    diffs2   = tanh((Vouts2[1,:]  - Vouts2[2,:]) /theta2).^2\n",
    "    diffs = [diffs1 ; diffs2]\n",
    "        \n",
    "    cost1 = (mean(hits) - target)^2 \n",
    "    cost2 = -mean(diffs) \n",
    "    \n",
    "    if verbose\n",
    "        @printf(\"                              cost1=%g, cost2=%g, mean(hits)=%.3f, mean(diffs)=%.3f\\n\", \n",
    "            convert(Float64, cost1), beta*convert(Float64, cost2), \n",
    "            convert(Float64, mean(hits)), convert(Float64, mean(diffs)))\n",
    "    end\n",
    "    \n",
    "    if do_plot\n",
    "        figure(2); clf();\n",
    "        subplot(2,1,1)\n",
    "        plot(1:2*ntrials, hits, \".\"); vlines(ntrials+0.5, ylim()[1], ylim()[2]) \n",
    "        xlim(-1, ntrials*2+1)\n",
    "        title(\"hits\")\n",
    "\n",
    "        subplot(2,1,2)\n",
    "        plot(1:2*ntrials, diffs, \".\"); vlines(ntrials+0.5, ylim()[1], ylim()[2]) \n",
    "        xlim(-1, ntrials*2+1)\n",
    "        title(\"diffs\")\n",
    "    end\n",
    "    \n",
    "    return cost1 + beta*cost2 + sigma_cost(;max_sigma=max_sigma, min_sigma=min_sigma, params...), hits, diffs\n",
    "end\n",
    "\n",
    "cost, hits, diffs = Jcost(do_plot=true, plot_trials=[1:10;], sigma=0.4)\n",
    "hits'\n",
    "\n",
    "keyword_gradient((;pars...) -> Jcost(;do_plot=false, pars...)[1], [\"sigma\", \"const_E\"], [0.1, 1.2])"
   ]
  },
  {
   "cell_type": "markdown",
   "metadata": {},
   "source": [
    "# Minimal system optimization"
   ]
  },
  {
   "cell_type": "markdown",
   "metadata": {},
   "source": [
    "### Plotting the system itself"
   ]
  },
  {
   "cell_type": "code",
   "execution_count": 6,
   "metadata": {
    "collapsed": false
   },
   "outputs": [
    {
     "name": "stdout",
     "output_type": "stream",
     "text": [
      "Done 1\n",
      "Done 2\n",
      "Done 3\n",
      "Done 4\n",
      "Done 5\n",
      "Done 6\n",
      "Done 7\n",
      "Done 8\n",
      "Done 9\n",
      "Done 10\n",
      "Done 11\n",
      "PyPlot.Figure(PyObject <matplotlib.figure.Figure object at 0x32a12cc10>)\n"
     ]
    },
    {
     "data": {
      "text/plain": [
       "([-5,-4,-3,-2,-1,0,1,2,3,4,5],[0.025,0.025,0.125,0.175,0.275,0.475,0.675,0.875,0.9,1.0,1.0])"
      ]
     },
     "execution_count": 6,
     "metadata": {},
     "output_type": "execute_result"
    }
   ],
   "source": [
    "figure(1); clf();\n",
    "for i=[1:40;]\n",
    "    mgo_dynamics(do_plot=true, dt=25, cue_period=200, delay_period=200, response_period=300, sigma=0.4, const_E=15, \n",
    "        w_self=0, w_other=-20, rule_input=2)\n",
    "end\n",
    "\n",
    "figure(2); clf();\n",
    "psychometric(dt=25, cue_period=200, delay_period=200, response_period=300, sigma=0.4, \n",
    "const_E=15, w_self=0, w_other=-20, inputs=[-5:1:5;], ntrials=40)"
   ]
  },
  {
   "cell_type": "code",
   "execution_count": 7,
   "metadata": {
    "collapsed": false
   },
   "outputs": [
    {
     "name": "stdout",
     "output_type": "stream",
     "text": [
      "                              cost1=0.0440213, cost2=-0.0466114, mean(hits)=0.590, mean(diffs)=0.932\n"
     ]
    },
    {
     "data": {
      "text/plain": [
       "(-0.002590163318211415,[0.999998,0.999998,0.00229818,0.0639038,5.96483e-6,0.316463,0.999997,0.999997,0.999997,0.999997  …  0.99556,0.999974,0.999998,0.999996,0.999981,0.999997,0.983838,0.999996,1.83421e-6,2.22352e-6],[0.999809,0.999811,0.958813,0.584251,0.999517,0.0789662,0.999707,0.999741,0.999677,0.999679  …  0.933291,0.998526,0.999761,0.999614,0.998833,0.999717,0.83221,0.999631,0.999801,0.99977])"
      ]
     },
     "execution_count": 7,
     "metadata": {},
     "output_type": "execute_result"
    }
   ],
   "source": [
    "Jcost(beta=0.05, rulestrength=2, ntrials=40,do_plot=true, plot_trials=[5,6,7,8,9], dt=25, sigma=0.7,\n",
    "    cue_period=200, delay_period=200, response_period=300, const_E=15, w_self=0, w_other=-20)"
   ]
  },
  {
   "cell_type": "markdown",
   "metadata": {},
   "source": [
    "### Now the minimization.\n",
    "\n",
    "#### After some effort, looking pretty good! In the space of [const_E, w_self, w_other, sigma], can start from pretty arbitrary points and get good target % correct and nice-looking separation in output activity.\n",
    "\n",
    "Some of the lessons learnt:\n",
    "\n",
    "1. The cost function is doing ok. Narrow range for theta1 (hit/miss border) and a low beta=0.01, so that the diff measure only begins to matter once the cost function is doing good.\n",
    "2. We need a boundary on sigma!  Too big and the simulations become unstable. Too small and see problem #3 immediately below. For MGO, \"soft wall\" boundaries of 0.05 and 0.6 were good.\n",
    "3. We're really trying to operate on probability distributions-- if we could do Fokker-Planck, we would. So it is important that sigma not be too small (if sigma is too small, it corresponds in the Fokker-Planck world to small ball distributions, which might have no mass crossing the decision threshold and therefore no derivative with respect to log-likelihood for binary choice data).  \n",
    "4. Similarly, we want the number of trials being run to be large-ish (n=200 seems ok for MGO?), so that we're covering the range of possible outputs and the probability distribution is reasonably represented. In particular, we want at least a few trials that end up near the decision border, even when we're near the final desired parameter values, since these are the trials that give us a not-too-small derivative magnitude. With n=1000, there seem to be enough trials near the decision border that things work ok. With smaller n, we could get idiosyncratically stuck.\n",
    "5. In sum, put your resources into large # of trials and decent noise for reasonable representation of the probability distribution. Don't spend your resources on many unnecessary timesteps.\n",
    "6. There are lots of local minima. So, we go for\n",
    "\n",
    "And a general one for the simulations:\n",
    "\n",
    "6. Adding sigma to U leads to better scaling w.r.t. dt than adding it to dUdt (because dUdt gets multiplied again by dt).  If we add it to U, then scaling by sqrt(dt) means very similar results for a wide range of dts.\n"
   ]
  },
  {
   "cell_type": "markdown",
   "metadata": {},
   "source": [
    "# Final setup-- try different random starts and noisy trials if necessary"
   ]
  },
  {
   "cell_type": "code",
   "execution_count": null,
   "metadata": {
    "collapsed": false
   },
   "outputs": [],
   "source": [
    "args = [\"const_E\", \"w_self\", \"w_other\", \"sigma\", \"rulestrength\"]\n",
    "bbox = [-20 20 ;\n",
    "        -16 16 ; \n",
    "        -16 16 ; \n",
    "        0.05 0.6 ; \n",
    "        0.1  3]\n",
    "\n",
    "\n",
    "ntrials =  200\n",
    "max_attempts = 50\n",
    "figure(4); clf();\n",
    "nruns = 20\n",
    "attempts_needed = zeros(1, nruns)\n",
    "final_costs     = zeros(1, nruns)\n",
    "randseeds       = zeros(Int64, 1, nruns)\n",
    "final_params    = zeros(length(args), nruns)\n",
    "\n",
    "for k in [1:nruns;]            \n",
    "    local i\n",
    "    local params\n",
    "    local trajectory\n",
    "    \n",
    "    for i in [1:max_attempts;]                        \n",
    "        randseeds[k] = convert(Int64, rem(round(time()*1e12), 1e6))\n",
    "        \n",
    "        \n",
    "        func = (;pars...) -> Jcost(;beta=0.01, min_sigma=0.01, max_sigma=20, \n",
    "        rulestrength=2, ntrials=ntrials, seedrand=randseeds[k],    \n",
    "            do_plot=false, plot_trials=[5,6,7,8,9], verbose=false, dt=25, \n",
    "            cue_period=200, delay_period=200, response_period=300,  \n",
    "            pars...)[1]\n",
    "\n",
    "        seed = rand(length(args),1)[:].*(bbox[:,2]-bbox[:,1]) + bbox[:,1]\n",
    "\n",
    "        params, trajectory = bbox_Hessian_keyword_minimization(seed, args, bbox, func, hardbox=false,\n",
    "            verbose=false, tol=1e-12, start_eta=1, wallwidth_factor=0.18);\n",
    "\n",
    "        @printf \"Attempt %d with seed %d ended with cost %g\\n\" i randseeds[k] trajectory[2,end]\n",
    "\n",
    "        if trajectory[2,end] <= -0.005\n",
    "            @printf \"        ---success!\\n\"        \n",
    "            break    \n",
    "        end\n",
    "    end\n",
    "\n",
    "    \n",
    "    final_params[:,k] = params\n",
    "    final_costs[k] = trajectory[2,end]\n",
    "    attempts_needed[k] = i\n",
    "    @printf \"\\n---------- Finished run %d --------\\n\" k\n",
    "end\n",
    "\n",
    "matwrite(\"attempt_distribution.mat\", Dict(\"attempts_needed\" => attempts_needed, \"ntrials\"=>ntrials, \n",
    "\"max_attempts\" => max_attempts, \"randseeds\"=>randseeds, \"final_costs\"=>final_costs, \"final_params\"=>final_params,\n",
    "\"args\"=>args, \"bbox\"=>bbox, \"ntrials\"=>ntrials))\n",
    "\n",
    "figure(4); clf();\n",
    "ax = gca();\n",
    "ax[:hist](attempts_needed');\n",
    "xlabel(\"no. of atempts needed\")\n",
    "ylabel(\"no. of runs\")"
   ]
  },
  {
   "cell_type": "code",
   "execution_count": null,
   "metadata": {
    "collapsed": false
   },
   "outputs": [],
   "source": [
    "\n",
    "\"\"\"\n",
    "macro   load_dict(D)    Use to load and assign all variables in a dictionary loaded by matread\n",
    "\n",
    "EXAMPLE:\n",
    "\n",
    "eval(@load_dict(matread(\"attempt_distribution.mat\")))\n",
    "\n",
    "\"\"\"\n",
    "macro load_dict(U)\n",
    "    quote\n",
    "        local P = :(A=B;)\n",
    "        for k in keys($(esc(U)))\n",
    "            P.args[1].args[1] = Symbol(k)\n",
    "            P.args[1].args[2] = $(esc(U))[k]\n",
    "            P.args = [P.args[1:end]; copy(P.args[1])]\n",
    "        end\n",
    "        P.args = P.args[1:end-1]\n",
    "        P\n",
    "    end\n",
    "end\n",
    "\n",
    "eval(@load_dict(matread(\"attempt_distribution.mat\")))\n",
    "\n",
    "figure(4);\n",
    "clf()\n",
    "println(args)\n",
    "plot(final_params[1,:], final_params[5,:], \"o\")\n",
    "\n",
    "func = (;pars...) -> Jcost(;beta=0.01, min_sigma=0.01, max_sigma=20, \n",
    "    rulestrength=2, ntrials=ntrials, seedrand=randseeds[1],    \n",
    "    do_plot=false, plot_trials=[5,6,7,8,9], verbose=false, dt=25, \n",
    "    cue_period=200, delay_period=200, response_period=300,  \n",
    "    pars...)[1]\n",
    "\n",
    "value, grad, hess = keyword_vgh(func, args, final_params[:,1])\n",
    "\n",
    "eig((hess))[2]"
   ]
  },
  {
   "cell_type": "markdown",
   "metadata": {},
   "source": [
    "### ---  end final setup ----"
   ]
  },
  {
   "cell_type": "markdown",
   "metadata": {},
   "source": [
    "# Exploring automatic setting of hit and diff tanh widths"
   ]
  },
  {
   "cell_type": "code",
   "execution_count": null,
   "metadata": {
    "collapsed": false
   },
   "outputs": [],
   "source": [
    "function Jcost2(;target=0.8, ntrials=10, theta1=0.15, theta2=0.2, thetascale=0.8, beta=0.05, \n",
    "    seedrand = 300, verbose=true, rulestrength = 2, nderivs=0, difforder=0, do_plot=false, plot_trials=1, \n",
    "    params...)    \n",
    "    \n",
    "    if !isnan(seedrand)\n",
    "        srand(seedrand)\n",
    "    else  # if the random seed is passed as NaN, use the system time in milliseconds\n",
    "        srand(convert(Int64, round(1000*time())))\n",
    "    end\n",
    "    \n",
    "    if isempty(size(plot_trials))\n",
    "        plot_trials = [plot_trials]\n",
    "    end;\n",
    "\n",
    "    Vouts1 = ForwardDiffZeros(2, ntrials, nderivs=nderivs, difforder=difforder)\n",
    "    Vouts2 = ForwardDiffZeros(2, ntrials, nderivs=nderivs, difforder=difforder)\n",
    "\n",
    "    if do_plot; figure(1); clf(); subplot(2,1,1); end\n",
    "    for i in [1:ntrials;]\n",
    "        if do_plot && ~isempty(find(plot_trials.==i))\n",
    "            Vouts1[:,i] = mgo_dynamics(;do_plot=true, plot_only_V=true, rule_input=rulestrength,  nderivs=nderivs, difforder=difforder, params...)[3][:,end]\n",
    "        else\n",
    "            Vouts1[:,i] = mgo_dynamics(;rule_input=rulestrength,  nderivs=nderivs, difforder=difforder, params...)[3][:,end]\n",
    "        end\n",
    "    end\n",
    "    if do_plot; subplot(2,1,2); end\n",
    "    for i in [1:ntrials;]\n",
    "        if do_plot && ~isempty(find(plot_trials.==i))\n",
    "            Vouts2[:,i] = mgo_dynamics(;do_plot=true, plot_only_V=true, rule_input=-rulestrength, nderivs=nderivs, difforder=difforder, params...)[3][:,end]\n",
    "        else\n",
    "            Vouts2[:,i] = mgo_dynamics(;rule_input=-rulestrength, nderivs=nderivs, difforder=difforder, params...)[3][:,end]\n",
    "        end\n",
    "    end\n",
    "    \n",
    "#    sdev1 = [Vouts1[1,:] - Vo]\n",
    "    \n",
    "    hits1 = 0.5*(1 + tanh.((Vouts1[1,:]  - Vouts1[2,:])/theta1))\n",
    "    hits2 = 0.5*(1 + tanh.((Vouts2[2,:]  - Vouts2[1,:])/theta1))\n",
    "    hits  = [hits1 ; hits2]\n",
    "    diffs1   = tanh((Vouts1[1,:]  - Vouts1[2,:]) /theta2).^2\n",
    "    diffs2   = tanh((Vouts2[1,:]  - Vouts2[2,:]) /theta2).^2\n",
    "    diffs = [diffs1 ; diffs2]\n",
    "        \n",
    "    cost1 = (mean(hits) - target)^2 \n",
    "    cost2 = -mean(diffs) \n",
    "    \n",
    "    if verbose\n",
    "        @printf(\"                              cost1=%g, cost2=%g, mean(hits)=%.3f, mean(diffs)=%.3f\\n\", \n",
    "            convert(Float64, cost1), beta*convert(Float64, cost2), \n",
    "            convert(Float64, mean(hits)), convert(Float64, mean(diffs)))\n",
    "    end\n",
    "    \n",
    "    if do_plot\n",
    "        figure(2); clf();\n",
    "        subplot(2,1,1)\n",
    "        plot(1:2*ntrials, hits, \".\"); vlines(ntrials+0.5, ylim()[1], ylim()[2]) \n",
    "        xlim(-1, ntrials*2+1)\n",
    "        title(\"hits\")\n",
    "\n",
    "        subplot(2,1,2)\n",
    "        plot(1:2*ntrials, diffs, \".\"); vlines(ntrials+0.5, ylim()[1], ylim()[2]) \n",
    "        xlim(-1, ntrials*2+1)\n",
    "        title(\"diffs\")\n",
    "    end\n",
    "    \n",
    "    return cost1 + beta*cost2, hits, diffs, Vouts1, Vouts2\n",
    "end\n",
    "\n",
    "cost, hits, diffs, Vouts1, Vouts2 = Jcost2(do_plot=true, plot_trials=[1:10;], sigma=0.4)\n",
    "hits'\n",
    "\n",
    "keyword_gradient((;pars...) -> Jcost2(;do_plot=false, pars...)[1], [\"sigma\", \"const_E\"], [0.1, 1.2])"
   ]
  },
  {
   "cell_type": "code",
   "execution_count": null,
   "metadata": {
    "collapsed": false
   },
   "outputs": [],
   "source": [
    "cost, hits, diffs, Vouts1, Vouts2 = Jcost2(do_plot=true, plot_trials=1:10, ntrials=30, sigma=0.005, seedrand=200)\n",
    "Z = [Vouts1[1,:] - Vouts1[2,:]; Vouts2[1,:] - Vouts2[2,:]]\n",
    "sqrt(var(Z))\n",
    "figure(3); clf();\n",
    "plot(Z, \".\")\n",
    "tZ = tanh(Z/0.2).^2\n",
    "plot(tZ, \"r.\")\n",
    "\n",
    "g1 = keyword_gradient((;pars...) -> Jcost2(;do_plot=true, plot_trials=1:10, # theta1=1.5, theta2=2,\n",
    "    ntrials=30, sigma=0.005, seedrand=200, pars...)[1], [\"const_E\"], [15])\n"
   ]
  },
  {
   "cell_type": "code",
   "execution_count": null,
   "metadata": {
    "collapsed": false
   },
   "outputs": [],
   "source": [
    "g2/g1"
   ]
  },
  {
   "cell_type": "code",
   "execution_count": null,
   "metadata": {
    "collapsed": false
   },
   "outputs": [],
   "source": [
    "args = [\"const_E\", \"w_self\", \"w_other\", \"sigma\", \"rulestrength\"]\n",
    "bbox = [-200 200 ;\n",
    "        -16 16 ; \n",
    "        -160 160 ; \n",
    "        0.0001 0.6 ; \n",
    "        0.1  3]\n",
    "\n",
    "func = (;pars...) -> Jcost(;beta=0.01, min_sigma=0.01, max_sigma=20, \n",
    "    rulestrength=2, ntrials=ntrials, seedrand=220,    \n",
    "    do_plot=false, plot_trials=[5,6,7,8,9], verbose=true, dt=25, \n",
    "    cue_period=200, delay_period=200, response_period=300,  \n",
    "    pars...)[1]\n",
    "\n",
    "seed = [50, 0, -60, 0.0001, 2]\n",
    "\n",
    "params, trajectory = bbox_Hessian_keyword_minimization(seed, args, bbox, func, hardbox=false,\n",
    "verbose=true, tol=1e-12, start_eta=1, wallwidth_factor=0.18)\n",
    "\n"
   ]
  },
  {
   "cell_type": "code",
   "execution_count": null,
   "metadata": {
    "collapsed": false
   },
   "outputs": [],
   "source": [
    "trajectory[2,end]"
   ]
  }
 ],
 "metadata": {
  "kernelspec": {
   "display_name": "Julia 0.5.2",
   "language": "julia",
   "name": "julia-0.5"
  },
  "language_info": {
   "file_extension": ".jl",
   "mimetype": "application/julia",
   "name": "julia",
   "version": "0.5.2"
  }
 },
 "nbformat": 4,
 "nbformat_minor": 0
}
