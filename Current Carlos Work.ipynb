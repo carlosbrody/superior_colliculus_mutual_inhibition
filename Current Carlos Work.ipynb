{
 "cells": [
  {
   "cell_type": "markdown",
   "metadata": {},
   "source": [
    "<h1 id=\"tocheading\">TABLE OF CONTENTS</h1>\n",
    "<div id=\"toc\"></div>\n",
    "\n",
    "**Updates to the table of contents are periodic, but run the cell below to first start or force an update.**"
   ]
  },
  {
   "cell_type": "code",
   "execution_count": null,
   "metadata": {
    "collapsed": false
   },
   "outputs": [],
   "source": [
    "macro javascript_str(s) display(\"text/javascript\", s); end\n",
    "\n",
    "javascript\"\"\"\n",
    "$.getScript('make_table_of_contents.js')\n",
    "\"\"\""
   ]
  },
  {
   "cell_type": "code",
   "execution_count": null,
   "metadata": {
    "collapsed": false
   },
   "outputs": [],
   "source": []
  },
  {
   "cell_type": "markdown",
   "metadata": {},
   "source": [
    "# Analyzing runs from reduced_farm.jl : analyze_reduced_farm.jl"
   ]
  },
  {
   "cell_type": "code",
   "execution_count": null,
   "metadata": {
    "collapsed": true
   },
   "outputs": [],
   "source": [
    "#@include_me  analyze_reduced_farm.jl\n",
    "\n",
    "include(\"pro_anti.jl\")\n",
    "\n",
    "#\n",
    "#  We're assuming that results of reduced_farm.jl were already generated.\n",
    "#"
   ]
  },
  {
   "cell_type": "code",
   "execution_count": null,
   "metadata": {
    "collapsed": false
   },
   "outputs": [],
   "source": [
    "#@include_me  analyze_reduced_farm.jl\n",
    "\n",
    "\"\"\"\n",
    "hBP, hBA, d = function show_run(run_name, ntrials=100; farmdir=\"FarmFields\", further_pars...)\n",
    "\n",
    "Given a string representing the filename of a run generated in reduced_farm.jl\n",
    "(for example, \"farm_C3_0027.jld\"), tries to load that file from within \"FarmFields/\"\n",
    "runs it to plot 30 Pro trials in figure 1 and 30 Anti trials in figure 2,\n",
    "and indicates in those figures the corresponding number of binarized hits.\n",
    "\n",
    "Any further parameters override the contents of the farm and are passed on to \n",
    "run_ntrials(), so for example you can set rule_and_delay_period=0.2\n",
    "\n",
    "# RETURNS:\n",
    "\n",
    "- hBP, hBA   binarized Pro % hit and Anti % hit\n",
    "\n",
    "- d          the raw dictionary obtained from first loading the file.\n",
    "\n",
    "\"\"\"\n",
    "function show_run(run_name, ntrials=100; farmdir=\"FarmFields\", further_pars...)\n",
    "\n",
    "    pygui(true)\n",
    "    figure(1); clf();\n",
    "    figure(2); clf();\n",
    "\n",
    "    if endswith(farmdir, \"/\"); farmdir=farmdir[1:end-1]; end;\n",
    "    \n",
    "    if endswith(run_name, \".jld\")\n",
    "        d = load(farmdir * \"/\" * run_name)\n",
    "\n",
    "        extra_pars = d[\"extra_pars\"]\n",
    "        mypars     = d[\"mypars\"]\n",
    "        args       = d[\"args\"]\n",
    "        pars       = d[\"pars\"]\n",
    "    elseif endswith(run_name, \".mat\")                                \n",
    "        d = matread(farmdir * \"/\" * run_name)\n",
    "        \n",
    "        extra_pars = Dict()\n",
    "        mypars     = symbol_key_ize(d[\"model_params\"])\n",
    "        args       = d[\"args\"]\n",
    "        pars       = d[\"pars\"]\n",
    "    else\n",
    "        error(\"Whoa, I only know how to load .mat and .jld files\")\n",
    "    end\n",
    "\n",
    "    delete!(extra_pars, :plot_list)   # we want our own plot_list\n",
    "    delete!(extra_pars, :seedrand)    # don't use the farm's seedrand. (Could change this if wanted)\n",
    "\n",
    "    # Add or replace alternative period values if needed\n",
    "    # if rule_and_delay_period != nothing; extra_pars[:rule_and_delay_period] = rule_and_delay_period; end;\n",
    "    # if target_period         != nothing; extra_pars[:target_period]         = target_period;         end;\n",
    "    # if post_target_period    != nothing; extra_pars[:post_target_period]    = post_target_period;    end;\n",
    "\n",
    "    # Run it\n",
    "    proVs, antiVs = run_ntrials(ntrials, ntrials; plot_list=[1:30;], \n",
    "        merge(make_dict(args, pars, merge(mypars, extra_pars)), Dict(further_pars))...)[1:2]\n",
    "\n",
    "    # Add titles with the binarized hit rates\n",
    "    hBP = 100*length(find(proVs[1,:]  .> proVs[4,:])) /size(proVs, 2)\n",
    "    hBA = 100*length(find(antiVs[4,:] .> antiVs[1,:]))/size(antiVs,2)\n",
    "\n",
    "    figure(1); subplot(3,1,1); title(@sprintf(\"%s: binarized Pro  hits = %.1f %%\\n\", run_name, hBP))\n",
    "    figure(2); subplot(3,1,1); title(@sprintf(\"%s: binarized Anti hits = %.1f %%\\n\", run_name, hBA))\n",
    "    \n",
    "    return hBP, hBA, d\n",
    "end\n",
    "\n"
   ]
  },
  {
   "cell_type": "code",
   "execution_count": 161,
   "metadata": {
    "collapsed": false
   },
   "outputs": [
    {
     "name": "stdout",
     "output_type": "stream",
     "text": [
      "62.86 % good runs out of 70\n"
     ]
    }
   ],
   "source": [
    "#@include_me analyze_reduced_farm.jl\n",
    "\n",
    "# IDENTIFY GOOD RUNS FROM FARM\n",
    "\n",
    "I = results = files = 0\n",
    "\n",
    "farm_id = \"C4\"; farmdir = \"FarmFields\"\n",
    "farm_id = \"C6\"; farmdir = \"../NewFarms\"\n",
    "farm_id = \"C10\"; farmdir = \"../NewFarms\"\n",
    "\n",
    "recompute_me = true; if recompute_me || !isfile(\"Temp/\" * farm_id * \"_results.jld\")\n",
    "    results = zeros(0,4)\n",
    "    files = []\n",
    "    for f in filter(x -> startswith(x, \"farm_\" * farm_id * \"_\"), readdir(farmdir * \"/\"))\n",
    "\n",
    "        hBP, hBA, dP, dA= load(farmdir * \"/\" * f, \"hBP\", \"hBA\", \"dP\", \"dA\")\n",
    "        results = [results; [hBP hBA dP dA]]; \n",
    "        files   = [files ; f]\n",
    "        if length(files)>71; break; end;\n",
    "    end\n",
    "    \n",
    "    I = find((results[:,1] .> 0.85) .& (results[:,2] .> 0.65) .& (results[:,3].>0.9) .& (results[:,4].>0.9) .&\n",
    "                ((results[:,1]-results[:,2]) .> 0.1) )\n",
    "\n",
    "    @save \"Temp/\" * farm_id * \"_results.jld\" results files I\n",
    "else\n",
    "    I, results, files = load(\"Temp/\" * farm_id *\"_results.jld\", \"I\", \"results\", \"files\");\n",
    "end\n",
    "\n",
    "@printf(\"%.2f %% good runs out of %d\\n\", 100*length(I)/length(files), length(files))\n"
   ]
  },
  {
   "cell_type": "code",
   "execution_count": null,
   "metadata": {
    "collapsed": false
   },
   "outputs": [],
   "source": [
    "files[I]"
   ]
  },
  {
   "cell_type": "code",
   "execution_count": 156,
   "metadata": {
    "collapsed": false
   },
   "outputs": [
    {
     "name": "stdout",
     "output_type": "stream",
     "text": [
      "n=1 farm_C6_0001.jld: -0.0009920749971403522  hBP=0.89, hBA=0.69 dP=0.99 dA=0.99\n",
      "n=1 farm_C6_0002.jld: -0.000996982637802106  hBP=0.85, hBA=0.73 dP=1.00 dA=0.99\n",
      "n=2 farm_C6_0003.jld: 0.05967167743577417  hBP=0.60, hBA=0.39 dP=0.70 dA=0.69\n",
      "n=1 farm_C6_0004.jld: -0.0009910104723029373  hBP=0.86, hBA=0.66 dP=0.98 dA=0.98\n",
      "n=1 farm_C6_0005.jld: -0.0009996789614871414  hBP=0.92, hBA=0.73 dP=1.00 dA=0.99\n",
      "n=1 farm_C6_0006.jld: -0.0009773551393710894  hBP=0.87, hBA=0.70 dP=0.99 dA=0.97\n",
      "n=1 farm_C6_0007.jld: -0.000988437890662487  hBP=0.88, hBA=0.67 dP=1.00 dA=0.98\n",
      "n=1 farm_C6_0008.jld: -0.0009883901829702876  hBP=0.91, hBA=0.71 dP=1.00 dA=0.98\n",
      "n=1 farm_C6_0009.jld: -0.000990580455383993  hBP=0.90, hBA=0.72 dP=1.00 dA=0.99\n",
      "n=1 farm_C6_0010.jld: -0.0009980104780751224  hBP=0.90, hBA=0.75 dP=1.00 dA=0.99\n",
      "n=1 farm_C6_0011.jld: -0.0009958000411572725  hBP=0.87, hBA=0.76 dP=1.00 dA=0.99\n",
      "n=1 farm_C6_0012.jld: -0.000997176112960153  hBP=0.93, hBA=0.74 dP=1.00 dA=0.99\n",
      "n=1 farm_C6_0013.jld: -0.0009999932554138724  hBP=0.92, hBA=0.72 dP=1.00 dA=0.99\n",
      "n=1 farm_C6_0014.jld: -0.000996371484961912  hBP=0.92, hBA=0.70 dP=0.99 dA=0.99\n",
      "n=2 farm_C6_0015.jld: 0.05727130176399074  hBP=0.59, hBA=0.42 dP=0.40 dA=0.39\n",
      "n=1 farm_C6_0016.jld: -0.0009989505032499612  hBP=0.86, hBA=0.73 dP=1.00 dA=0.99\n",
      "n=2 farm_C6_0017.jld: -0.0009918051347714433  hBP=0.91, hBA=0.76 dP=1.00 dA=0.99\n",
      "n=2 farm_C6_0018.jld: 0.060295774283303724  hBP=0.61, hBA=0.38 dP=0.64 dA=0.65\n",
      "n=1 farm_C6_0019.jld: -0.0009999935048411197  hBP=0.91, hBA=0.75 dP=0.99 dA=1.00\n",
      "n=1 farm_C6_0020.jld: -0.0009937228088649575  hBP=0.90, hBA=0.69 dP=0.99 dA=0.99\n",
      "n=1 farm_C6_0021.jld: -0.000998442794216654  hBP=0.91, hBA=0.75 dP=0.99 dA=0.99\n",
      "n=1 farm_C6_0022.jld: -0.0009963083467436008  hBP=0.87, hBA=0.71 dP=1.00 dA=0.99\n",
      "n=1 farm_C6_0023.jld: -0.000993698345071262  hBP=0.92, hBA=0.71 dP=1.00 dA=0.99\n",
      "n=1 farm_C6_0024.jld: -0.0009909659119059294  hBP=0.90, hBA=0.71 dP=1.00 dA=0.98\n",
      "n=1 farm_C6_0025.jld: -0.0009764280119586012  hBP=0.92, hBA=0.68 dP=1.00 dA=0.96\n",
      "n=2 farm_C6_0026.jld: 0.07987917069245418  hBP=0.03, hBA=0.79 dP=0.00 dA=0.40\n",
      "n=1 farm_C6_0027.jld: -0.0009868136412901172  hBP=0.89, hBA=0.71 dP=0.99 dA=0.98\n",
      "n=2 farm_C6_0028.jld: 0.0895625909394224  hBP=1.00, hBA=0.00 dP=0.01 dA=0.01\n",
      "n=1 farm_C6_0029.jld: -0.0009965218653605699  hBP=0.87, hBA=0.75 dP=1.00 dA=0.99\n",
      "n=2 farm_C6_0030.jld: 0.07975817422524539  hBP=0.75, hBA=0.48 dP=0.02 dA=0.46\n",
      "n=1 farm_C6_0031.jld: -0.0009980586414538217  hBP=0.92, hBA=0.74 dP=1.00 dA=0.99\n",
      "n=2 farm_C6_0032.jld: 0.04569028839741703  hBP=0.88, hBA=0.28 dP=0.26 dA=0.01\n",
      "n=2 farm_C6_0033.jld: 0.019606780132579278  hBP=0.98, hBA=0.19 dP=0.81 dA=0.00\n",
      "n=1 farm_C6_0034.jld: -0.0009885710381357469  hBP=0.88, hBA=0.69 dP=1.00 dA=0.96\n",
      "n=2 farm_C6_0035.jld: -0.0004440638571337095  hBP=0.85, hBA=0.89 dP=0.78 dA=0.09\n",
      "n=2 farm_C6_0036.jld: 0.06539587975105665  hBP=0.62, hBA=0.40 dP=0.88 dA=0.89\n",
      "n=1 farm_C6_0037.jld: -0.0009999935038735306  hBP=0.85, hBA=0.68 dP=1.00 dA=1.00\n",
      "n=2 farm_C6_0038.jld: 0.09535872291218278  hBP=0.50, hBA=0.50 dP=0.01 dA=0.00\n",
      "n=1 farm_C6_0039.jld: -0.0009960530909657584  hBP=0.91, hBA=0.72 dP=0.99 dA=0.99\n",
      "n=2 farm_C6_0040.jld: 0.09999999999892883  hBP=0.58, hBA=0.42 dP=0.00 dA=0.00\n",
      "n=1 farm_C6_0041.jld: -0.0009999906951196707  hBP=0.89, hBA=0.68 dP=1.00 dA=0.99\n",
      "n=1 farm_C6_0042.jld: -0.0009996864123353257  hBP=0.89, hBA=0.71 dP=1.00 dA=0.99\n",
      "n=1 farm_C6_0043.jld: -0.0009929643095612543  hBP=0.92, hBA=0.67 dP=1.00 dA=0.98\n",
      "n=1 farm_C6_0044.jld: -0.0009999932438334135  hBP=0.87, hBA=0.70 dP=1.00 dA=1.00\n",
      "n=2 farm_C6_0045.jld: 0.07859699153735346  hBP=0.00, hBA=0.74 dP=0.01 dA=0.84\n",
      "n=2 farm_C6_0046.jld: 0.019600049935163323  hBP=0.92, hBA=0.44 dP=0.77 dA=0.00\n",
      "n=2 farm_C6_0047.jld: 0.01960497966476574  hBP=1.00, hBA=0.00 dP=0.77 dA=0.00\n",
      "n=2 farm_C6_0048.jld: 0.019604785056795696  hBP=1.00, hBA=0.31 dP=0.77 dA=0.00\n",
      "n=1 farm_C6_0049.jld: -0.0009997924808646094  hBP=0.92, hBA=0.67 dP=1.00 dA=0.99\n",
      "n=2 farm_C6_0050.jld: 0.04025715708872549  hBP=0.61, hBA=0.38 dP=0.77 dA=0.77\n",
      "n=1 farm_C6_0051.jld: -0.0009915440905832074  hBP=0.89, hBA=0.69 dP=0.98 dA=0.99\n",
      "n=2 farm_C6_0052.jld: 0.07937181945791423  hBP=0.59, hBA=0.40 dP=0.10 dA=0.04\n",
      "n=2 farm_C6_0053.jld: 0.10000057270211475  hBP=0.65, hBA=0.36 dP=0.00 dA=0.00\n",
      "n=1 farm_C6_0054.jld: -0.0009767627996872638  hBP=0.89, hBA=0.69 dP=0.97 dA=0.97\n",
      "n=1 farm_C6_0055.jld: -0.000999993504305825  hBP=0.91, hBA=0.73 dP=1.00 dA=1.00\n",
      "n=1 farm_C6_0056.jld: -0.0009970502699472408  hBP=0.89, hBA=0.68 dP=1.00 dA=0.99\n",
      "n=1 farm_C6_0057.jld: -0.000995537487880689  hBP=0.88, hBA=0.69 dP=0.99 dA=0.98\n",
      "n=2 farm_C6_0058.jld: 0.0639416126756574  hBP=0.66, hBA=0.35 dP=0.52 dA=0.56\n",
      "n=2 farm_C6_0059.jld: 0.03836160150454061  hBP=1.00, hBA=0.00 dP=0.65 dA=0.15\n",
      "n=2 farm_C6_0060.jld: 0.019145749422952316  hBP=0.91, hBA=0.50 dP=0.56 dA=0.01\n",
      "n=2 farm_C6_0061.jld: 0.08981252815887444  hBP=0.50, hBA=0.50 dP=1.00 dA=1.00\n",
      "n=2 farm_C6_0062.jld: 0.027746910178815053  hBP=0.77, hBA=0.61 dP=0.40 dA=0.08\n",
      "n=2 farm_C6_0063.jld: 0.0799016378221284  hBP=0.05, hBA=0.89 dP=0.00 dA=0.30\n",
      "n=2 farm_C6_0064.jld: 0.06706864908887775  hBP=0.70, hBA=0.39 dP=0.10 dA=0.18\n",
      "n=2 farm_C6_0065.jld: 0.01909366205960078  hBP=0.98, hBA=0.40 dP=0.81 dA=0.03\n",
      "n=1 farm_C6_0066.jld: -0.0009889466423711607  hBP=0.86, hBA=0.71 dP=0.99 dA=0.97\n",
      "n=2 farm_C6_0067.jld: 0.019841833214546096  hBP=0.97, hBA=0.31 dP=0.45 dA=0.00\n",
      "n=2 farm_C6_0068.jld: 0.051958389556354415  hBP=0.62, hBA=0.38 dP=0.64 dA=0.65\n",
      "n=1 farm_C6_0069.jld: -0.0009947641677011405  hBP=0.93, hBA=0.65 dP=1.00 dA=0.99\n",
      "n=2 farm_C6_0070.jld: 0.047370384952158395  hBP=0.57, hBA=0.42 dP=0.85 dA=0.85\n",
      "n=2 farm_C6_0071.jld: 0.07959955907517169  hBP=0.24, hBA=0.73 dP=0.01 dA=0.81\n",
      "n=1 farm_C6_0072.jld: -0.0009983582329494275  hBP=0.87, hBA=0.69 dP=1.00 dA=0.99\n",
      "n=2 farm_C6_0073.jld: 0.019646032056240374  hBP=1.00, hBA=0.00 dP=0.72 dA=0.00\n",
      "n=2 farm_C6_0074.jld: 0.019782469382330605  hBP=0.89, hBA=0.46 dP=0.61 dA=0.00\n",
      "n=2 farm_C6_0075.jld: 0.05926490478462026  hBP=0.60, hBA=0.40 dP=0.39 dA=0.38\n",
      "n=2 farm_C6_0076.jld: 0.023521860191804914  hBP=0.89, hBA=0.22 dP=0.48 dA=0.04\n",
      "n=2 farm_C6_0077.jld: 0.019725806257226502  hBP=0.93, hBA=0.46 dP=0.60 dA=0.00\n",
      "n=1 farm_C6_0078.jld: -0.0009966547275198207  hBP=0.88, hBA=0.72 dP=1.00 dA=0.99\n",
      "n=2 farm_C6_0079.jld: 0.020028835829679525  hBP=0.97, hBA=0.28 dP=0.23 dA=0.00\n",
      "n=1 farm_C6_0080.jld: -0.0009991799230638899  hBP=0.89, hBA=0.74 dP=1.00 dA=0.99\n",
      "n=2 farm_C6_0081.jld: 0.06244560906538751  hBP=0.81, hBA=0.26 dP=0.08 dA=0.18\n",
      "n=2 farm_C6_0082.jld: 0.019600156590837844  hBP=0.92, hBA=0.33 dP=0.77 dA=0.00\n",
      "n=1 farm_C6_0083.jld: -0.000997406294990075  hBP=0.90, hBA=0.68 dP=1.00 dA=0.98\n",
      "n=2 farm_C6_0084.jld: 0.07857861451477352  hBP=0.02, hBA=0.67 dP=0.02 dA=0.87\n",
      "n=2 farm_C6_0085.jld: 0.07981355335502725  hBP=0.00, hBA=1.00 dP=0.00 dA=0.39\n",
      "n=2 farm_C6_0086.jld: 0.04761891076979346  hBP=0.94, hBA=0.32 dP=0.09 dA=0.17\n",
      "n=2 farm_C6_0087.jld: 0.09291277530436066  hBP=0.98, hBA=0.00 dP=0.03 dA=0.01\n",
      "n=2 farm_C6_0088.jld: 0.0981448356423659  hBP=0.63, hBA=0.37 dP=0.00 dA=0.00\n",
      "n=1 farm_C6_0089.jld: -0.0009957448903606919  hBP=0.94, hBA=0.67 dP=1.00 dA=0.99\n",
      "n=2 farm_C6_0090.jld: 0.07125996172537609  hBP=0.63, hBA=0.38 dP=0.41 dA=0.43\n",
      "n=1 farm_C6_0091.jld: -0.0009996857175221935  hBP=0.89, hBA=0.71 dP=1.00 dA=1.00\n",
      "n=1 farm_C6_0092.jld: -0.0009945626059874818  hBP=0.90, hBA=0.69 dP=0.99 dA=0.99\n",
      "n=1 farm_C6_0093.jld: -0.0009931010388836616  hBP=0.85, hBA=0.65 dP=1.00 dA=0.99\n",
      "n=2 farm_C6_0094.jld: 0.07992071285405915  hBP=0.02, hBA=0.90 dP=0.00 dA=0.37\n",
      "n=2 farm_C6_0095.jld: 0.016146918006975694  hBP=0.90, hBA=0.48 dP=0.95 dA=1.00\n",
      "n=2 farm_C6_0096.jld: 0.019612032685900532  hBP=0.89, hBA=0.26 dP=0.82 dA=0.00\n",
      "n=1 farm_C6_0097.jld: -0.0009870042610469652  hBP=0.91, hBA=0.73 dP=1.00 dA=0.97\n",
      "n=2 farm_C6_0098.jld: 0.018675577867669203  hBP=1.00, hBA=0.35 dP=0.71 dA=0.01\n",
      "n=2 farm_C6_0099.jld: 0.07981543186168223  hBP=0.01, hBA=0.99 dP=0.00 dA=0.42\n",
      "n=2 farm_C6_0100.jld: -0.0009914255658402594  hBP=0.92, hBA=0.75 dP=0.99 dA=0.99\n",
      "n=2 farm_C6_0101.jld: 0.040826010238353055  hBP=1.00, hBA=0.00 dP=0.60 dA=0.12\n",
      "n=2 farm_C6_0102.jld: 0.05177609234068654  hBP=0.60, hBA=0.47 dP=0.34 dA=0.18\n",
      "n=1 farm_C6_0103.jld: -0.0009967499174433178  hBP=0.93, hBA=0.68 dP=0.99 dA=0.99\n",
      "n=1 farm_C6_0104.jld: -0.0009938960433731197  hBP=0.88, hBA=0.70 dP=0.99 dA=0.99\n",
      "n=1 farm_C6_0105.jld: -0.000994136220394596  hBP=0.89, hBA=0.67 dP=0.99 dA=0.98\n",
      "n=1 farm_C6_0106.jld: -0.0009982696306598394  hBP=0.95, hBA=0.65 dP=1.00 dA=0.99\n",
      "n=2 farm_C6_0107.jld: 0.09361199336756333  hBP=0.42, hBA=0.59 dP=0.01 dA=0.07\n",
      "n=1 farm_C6_0108.jld: -0.0009745192425355606  hBP=0.85, hBA=0.71 dP=0.97 dA=0.96\n",
      "n=2 farm_C6_0109.jld: 0.01960673993363535  hBP=0.98, hBA=0.16 dP=0.80 dA=0.00\n",
      "n=2 farm_C6_0110.jld: 0.09999873771047578  hBP=0.61, hBA=0.39 dP=0.00 dA=0.00\n",
      "n=2 farm_C6_0111.jld: 0.07959194387131509  hBP=0.00, hBA=0.71 dP=0.00 dA=0.81\n",
      "n=2 farm_C6_0112.jld: 0.09549444785404004  hBP=0.51, hBA=0.48 dP=0.00 dA=0.00\n",
      "n=2 farm_C6_0113.jld: 0.07661836709619792  hBP=0.01, hBA=0.75 dP=0.02 dA=0.86\n",
      "n=1 farm_C6_0114.jld: -0.0009999772813756266  hBP=0.90, hBA=0.69 dP=0.99 dA=0.99\n",
      "n=2 farm_C6_0115.jld: -0.0007780326544572791  hBP=0.86, hBA=0.79 dP=0.98 dA=0.64\n",
      "n=1 farm_C6_0116.jld: -0.0009829923719420657  hBP=0.86, hBA=0.68 dP=0.99 dA=0.97\n",
      "n=1 farm_C6_0117.jld: -0.0009784544307061072  hBP=0.88, hBA=0.69 dP=0.99 dA=0.96\n",
      "n=2 farm_C6_0118.jld: -0.0009852552938829236  hBP=0.95, hBA=0.70 dP=0.98 dA=0.98\n",
      "n=1 farm_C6_0119.jld: -0.0009999925920163495  hBP=0.91, hBA=0.70 dP=1.00 dA=0.99\n",
      "n=2 farm_C6_0120.jld: 0.05202527280115435  hBP=0.73, hBA=0.39 dP=0.25 dA=0.26\n",
      "n=1 farm_C6_0121.jld: -0.0009989733204178355  hBP=0.90, hBA=0.67 dP=1.00 dA=0.99\n",
      "n=2 farm_C6_0122.jld: 0.03879818859858573  hBP=0.93, hBA=0.38 dP=0.09 dA=0.03\n",
      "n=2 farm_C6_0123.jld: 0.08910284347621969  hBP=0.74, hBA=0.24 dP=0.03 dA=0.06\n",
      "n=2 farm_C6_0124.jld: 0.0996147939428537  hBP=0.58, hBA=0.43 dP=0.00 dA=0.02\n",
      "n=2 farm_C6_0125.jld: 0.04046309169825876  hBP=1.00, hBA=0.00 dP=0.45 dA=0.17\n",
      "n=2 farm_C6_0126.jld: 0.07956833902066696  hBP=0.01, hBA=0.75 dP=0.01 dA=0.83\n",
      "n=1 farm_C6_0127.jld: -0.0009980313212553174  hBP=0.86, hBA=0.73 dP=1.00 dA=0.99\n",
      "n=2 farm_C6_0128.jld: 0.05479280444082996  hBP=0.36, hBA=0.84 dP=0.34 dA=0.14\n",
      "n=2 farm_C6_0129.jld: -0.000992971676330312  hBP=0.92, hBA=0.68 dP=0.99 dA=0.99\n",
      "n=1 farm_C6_0130.jld: -0.0009672443543887225  hBP=0.88, hBA=0.71 dP=0.99 dA=0.94\n",
      "n=1 farm_C6_0131.jld: -0.0009951945560482372  hBP=0.89, hBA=0.66 dP=1.00 dA=0.99\n",
      "n=1 farm_C6_0132.jld: -0.0009963222680260844  hBP=0.92, hBA=0.74 dP=1.00 dA=0.98\n",
      "n=1 farm_C6_0133.jld: -0.0009999168146294169  hBP=0.86, hBA=0.72 dP=1.00 dA=0.99\n",
      "n=2 farm_C6_0134.jld: 0.10135958208695987  hBP=0.51, hBA=0.49 dP=0.00 dA=0.01\n",
      "n=2 farm_C6_0135.jld: 0.0656268499962154  hBP=0.56, hBA=0.43 dP=0.82 dA=0.82\n",
      "n=2 farm_C6_0136.jld: -0.0009808826913149772  hBP=0.86, hBA=0.70 dP=1.00 dA=0.97\n",
      "n=2 farm_C6_0137.jld: -0.0009700900564989204  hBP=0.88, hBA=0.69 dP=0.99 dA=0.96\n",
      "n=1 farm_C6_0138.jld: -0.0009878108235114983  hBP=0.91, hBA=0.73 dP=1.00 dA=0.99\n",
      "n=2 farm_C6_0139.jld: 0.1114022648387628  hBP=0.51, hBA=0.50 dP=0.93 dA=0.95\n",
      "n=1 farm_C6_0140.jld: -0.0009985804051372163  hBP=0.91, hBA=0.72 dP=1.00 dA=1.00\n",
      "n=2 farm_C6_0141.jld: 0.0570812746146825  hBP=0.56, hBA=0.44 dP=0.59 dA=0.59\n",
      "n=2 farm_C6_0142.jld: 0.0427027824746843  hBP=0.90, hBA=0.01 dP=0.34 dA=0.04\n",
      "n=2 farm_C6_0143.jld: 0.08806758091017579  hBP=0.73, hBA=0.27 dP=0.05 dA=0.05\n",
      "n=2 farm_C6_0144.jld: 0.08735566009168697  hBP=0.93, hBA=0.02 dP=0.05 dA=0.00\n",
      "n=1 farm_C6_0145.jld: -0.0009907196953248165  hBP=0.88, hBA=0.77 dP=1.00 dA=0.99\n",
      "n=2 farm_C6_0146.jld: 0.031047510359319484  hBP=1.00, hBA=0.00 dP=0.57 dA=0.06\n",
      "n=2 farm_C6_0147.jld: -0.0009964755698872686  hBP=0.89, hBA=0.65 dP=0.99 dA=0.98\n",
      "n=1 farm_C6_0148.jld: -0.0009937388455494463  hBP=0.90, hBA=0.69 dP=1.00 dA=0.99\n",
      "n=1 farm_C6_0149.jld: -0.0009933035195913722  hBP=0.91, hBA=0.64 dP=0.99 dA=0.98\n",
      "n=2 farm_C6_0150.jld: -0.0009999925786834977  hBP=0.88, hBA=0.64 dP=1.00 dA=1.00\n",
      "n=2 farm_C6_0151.jld: -0.0009999933962294772  hBP=0.92, hBA=0.63 dP=1.00 dA=0.99\n",
      "n=1 farm_C6_0152.jld: -0.0009999907743671415  hBP=0.90, hBA=0.69 dP=1.00 dA=0.99\n",
      "n=2 farm_C6_0153.jld: 0.01986537662947993  hBP=0.99, hBA=0.00 dP=0.41 dA=0.00\n",
      "n=2 farm_C6_0154.jld: 0.07962505678542103  hBP=0.00, hBA=0.76 dP=0.00 dA=0.78\n",
      "n=2 farm_C6_0155.jld: 0.07957299439989896  hBP=0.01, hBA=0.72 dP=0.01 dA=0.86\n",
      "n=1 farm_C6_0156.jld: -0.0009999916900759868  hBP=0.91, hBA=0.70 dP=1.00 dA=1.00\n",
      "n=2 farm_C6_0157.jld: 0.08716194010148215  hBP=0.66, hBA=0.34 dP=0.07 dA=0.08\n",
      "n=2 farm_C6_0158.jld: 0.019614414601746122  hBP=1.00, hBA=0.00 dP=0.77 dA=0.00\n",
      "n=2 farm_C6_0159.jld: 0.019046572378460257  hBP=0.91, hBA=0.34 dP=0.92 dA=0.00\n",
      "n=2 farm_C6_0160.jld: 0.06332846972464182  hBP=0.55, hBA=0.44 dP=0.47 dA=0.47\n",
      "n=1 farm_C6_0161.jld: -0.0009967496107350698  hBP=0.90, hBA=0.70 dP=1.00 dA=0.99\n",
      "n=2 farm_C6_0162.jld: 0.014325899759401194  hBP=0.88, hBA=0.47 dP=0.97 dA=0.99\n",
      "n=2 farm_C6_0163.jld: 0.01960440634375587  hBP=0.96, hBA=0.35 dP=0.80 dA=0.00\n",
      "n=1 farm_C6_0164.jld: -0.0009992943705751582  hBP=0.89, hBA=0.72 dP=1.00 dA=0.99\n",
      "n=2 farm_C6_0165.jld: 0.019355941012118738  hBP=0.97, hBA=0.37 dP=0.39 dA=0.01\n",
      "n=1 farm_C6_0166.jld: -0.0009879532463335922  hBP=0.85, hBA=0.66 dP=0.99 dA=0.97\n",
      "n=2 farm_C6_0167.jld: 0.09999020198659775  hBP=0.58, hBA=0.40 dP=0.00 dA=0.00\n",
      "n=2 farm_C6_0168.jld: 0.08774471203133309  hBP=0.99, hBA=0.01 dP=0.02 dA=0.02\n",
      "n=2 farm_C6_0169.jld: 0.08488387232730053  hBP=0.67, hBA=0.43 dP=0.02 dA=0.29\n",
      "n=2 farm_C6_0170.jld: -0.0009999933461461153  hBP=0.88, hBA=0.66 dP=1.00 dA=1.00\n",
      "n=1 farm_C6_0171.jld: -0.0009996299813499327  hBP=0.88, hBA=0.76 dP=1.00 dA=0.99\n",
      "n=2 farm_C6_0172.jld: 0.08431453340795311  hBP=0.54, hBA=0.47 dP=0.22 dA=0.23\n",
      "n=1 farm_C6_0173.jld: -0.0009999517239300466  hBP=0.89, hBA=0.73 dP=0.99 dA=0.99\n",
      "n=2 farm_C6_0174.jld: 0.051494476137510646  hBP=0.57, hBA=0.44 dP=0.69 dA=0.68\n",
      "n=1 farm_C6_0175.jld: -0.0009996447292709289  hBP=0.88, hBA=0.71 dP=1.00 dA=0.99\n",
      "n=1 farm_C6_0176.jld: -0.0009920160422404426  hBP=0.90, hBA=0.74 dP=1.00 dA=0.99\n",
      "n=2 farm_C6_0177.jld: -0.0009895743359377934  hBP=0.87, hBA=0.66 dP=0.98 dA=0.98\n",
      "n=1 farm_C6_0178.jld: -0.000999415457815495  hBP=0.86, hBA=0.70 dP=1.00 dA=0.99\n",
      "n=1 farm_C6_0179.jld: -0.0009995458646812766  hBP=0.91, hBA=0.71 dP=1.00 dA=0.99\n",
      "n=2 farm_C6_0180.jld: 0.02378997145209302  hBP=1.00, hBA=0.00 dP=0.66 dA=0.03\n",
      "n=1 farm_C6_0181.jld: -0.0009999920698634923  hBP=0.89, hBA=0.67 dP=1.00 dA=1.00\n",
      "n=2 farm_C6_0182.jld: -0.000998914061749786  hBP=0.91, hBA=0.74 dP=1.00 dA=1.00\n",
      "n=2 farm_C6_0183.jld: -0.000999934093930852  hBP=0.88, hBA=0.74 dP=1.00 dA=1.00\n",
      "n=2 farm_C6_0184.jld: 0.07987907444127991  hBP=0.02, hBA=0.87 dP=0.00 dA=0.48\n",
      "n=1 farm_C6_0185.jld: -0.0009991018440669774  hBP=0.92, hBA=0.72 dP=1.00 dA=0.99\n",
      "n=1 farm_C6_0186.jld: -0.0009999933934388458  hBP=0.90, hBA=0.73 dP=1.00 dA=1.00\n",
      "n=1 farm_C6_0187.jld: -0.0009840892509478004  hBP=0.89, hBA=0.67 dP=0.96 dA=0.98\n",
      "n=1 farm_C6_0188.jld: -0.0009981122076774048  hBP=0.87, hBA=0.68 dP=0.99 dA=0.99\n",
      "n=2 farm_C6_0189.jld: 0.01940619666414922  hBP=0.97, hBA=0.50 dP=0.29 dA=0.02\n",
      "n=2 farm_C6_0190.jld: -0.0009895784125942234  hBP=0.89, hBA=0.66 dP=1.00 dA=0.98\n",
      "n=1 farm_C6_0191.jld: -0.0009716588298829379  hBP=0.88, hBA=0.71 dP=0.98 dA=0.95\n",
      "n=2 farm_C6_0192.jld: 0.09088379105794131  hBP=0.96, hBA=0.07 dP=0.01 dA=0.01\n",
      "n=2 farm_C6_0193.jld: 0.07014258838984981  hBP=0.67, hBA=0.36 dP=0.12 dA=0.18\n",
      "n=2 farm_C6_0194.jld: 0.01910383942099715  hBP=0.99, hBA=0.31 dP=0.84 dA=0.03\n",
      "n=2 farm_C6_0195.jld: 0.06262500992303317  hBP=0.50, hBA=0.51 dP=1.00 dA=1.00\n",
      "n=1 farm_C6_0196.jld: -0.0009999807919884225  hBP=0.93, hBA=0.66 dP=1.00 dA=1.00\n",
      "n=2 farm_C6_0197.jld: -0.0008351751791037236  hBP=0.91, hBA=0.76 dP=0.97 dA=0.73\n",
      "n=2 farm_C6_0198.jld: 0.0961282817500068  hBP=0.50, hBA=0.49 dP=0.01 dA=0.03\n",
      "n=2 farm_C6_0199.jld: -0.0009918006133133805  hBP=0.90, hBA=0.69 dP=0.99 dA=0.98\n",
      "n=1 farm_C6_0200.jld: -0.0009990358198678064  hBP=0.92, hBA=0.73 dP=1.00 dA=1.00\n",
      "n=2 farm_C6_0201.jld: 0.02531085661299143  hBP=0.85, hBA=0.24 dP=0.42 dA=0.14\n",
      "n=2 farm_C6_0202.jld: 0.06928918001433558  hBP=0.94, hBA=0.09 dP=0.10 dA=0.03\n",
      "n=1 farm_C6_0203.jld: -0.0009900927845419513  hBP=0.88, hBA=0.71 dP=1.00 dA=0.99\n",
      "n=1 farm_C6_0204.jld: -0.0009999933213537282  hBP=0.86, hBA=0.66 dP=1.00 dA=0.99\n",
      "n=2 farm_C6_0205.jld: 0.01961118817949352  hBP=1.00, hBA=0.05 dP=0.78 dA=0.00\n",
      "n=2 farm_C6_0206.jld: 0.018552023101487014  hBP=0.92, hBA=0.36 dP=0.95 dA=0.01\n",
      "n=2 farm_C6_0207.jld: 0.01833719185550176  hBP=0.92, hBA=0.49 dP=0.47 dA=0.06\n",
      "n=2 farm_C6_0208.jld: 0.10000154059523596  hBP=0.56, hBA=0.45 dP=0.00 dA=0.00\n",
      "n=1 farm_C6_0209.jld: -0.0009979835700551006  hBP=0.85, hBA=0.70 dP=1.00 dA=0.99\n",
      "n=1 farm_C6_0210.jld: -0.000989807107189173  hBP=0.85, hBA=0.70 dP=1.00 dA=0.99\n",
      "n=1 farm_C6_0211.jld: -0.0009704015291310327  hBP=0.87, hBA=0.66 dP=0.99 dA=0.95\n",
      "n=1 farm_C6_0212.jld: -0.0009882210162176675  hBP=0.85, hBA=0.67 dP=1.00 dA=0.97\n",
      "n=1 farm_C6_0213.jld: -0.0009986201997068706  hBP=0.91, hBA=0.72 dP=1.00 dA=0.99\n",
      "n=1 farm_C6_0214.jld: -0.0009954993941719843  hBP=0.90, hBA=0.70 dP=1.00 dA=0.98\n",
      "n=1 farm_C6_0215.jld: -0.0009962472033325095  hBP=0.89, hBA=0.73 dP=1.00 dA=0.98\n",
      "n=2 farm_C6_0216.jld: 0.010257744589160714  hBP=0.89, hBA=0.49 dP=0.98 dA=1.00\n",
      "n=2 farm_C6_0217.jld: -0.000999726661534596  hBP=0.91, hBA=0.62 dP=1.00 dA=0.99\n",
      "n=1 farm_C6_0218.jld: -0.000981118178164582  hBP=0.89, hBA=0.73 dP=0.99 dA=0.97\n",
      "n=1 farm_C6_0219.jld: -0.0009989203552693475  hBP=0.90, hBA=0.67 dP=1.00 dA=1.00\n",
      "n=1 farm_C6_0220.jld: -0.0009999818972473782  hBP=0.92, hBA=0.69 dP=1.00 dA=1.00\n",
      "n=1 farm_C6_0221.jld: -0.0009957392903085073  hBP=0.88, hBA=0.75 dP=0.99 dA=0.99\n",
      "n=2 farm_C6_0222.jld: 0.019655791731482665  hBP=0.98, hBA=0.18 dP=0.75 dA=0.01\n",
      "n=1 farm_C6_0223.jld: -0.0009949130793363305  hBP=0.90, hBA=0.75 dP=1.00 dA=0.98\n",
      "n=2 farm_C6_0224.jld: 0.018557342553225258  hBP=0.92, hBA=0.26 dP=0.93 dA=0.01\n",
      "n=2 farm_C6_0225.jld: 0.01962100393991547  hBP=1.00, hBA=0.00 dP=0.78 dA=0.00\n",
      "n=2 farm_C6_0226.jld: 0.09236861003865444  hBP=0.00, hBA=0.96 dP=0.00 dA=0.02\n",
      "n=1 farm_C6_0227.jld: -0.000995531883151527  hBP=0.86, hBA=0.76 dP=1.00 dA=0.99\n",
      "n=2 farm_C6_0228.jld: 0.04635363669651995  hBP=0.50, hBA=0.86 dP=0.06 dA=0.04\n",
      "n=1 farm_C6_0229.jld: -0.0009952723371594468  hBP=0.93, hBA=0.70 dP=1.00 dA=0.99\n",
      "n=2 farm_C6_0230.jld: 0.09074750229044858  hBP=0.91, hBA=0.01 dP=0.00 dA=0.00\n",
      "n=1 farm_C6_0231.jld: -0.0009921067473776274  hBP=0.89, hBA=0.63 dP=1.00 dA=0.98\n",
      "n=2 farm_C6_0232.jld: 0.07987758194031559  hBP=0.14, hBA=0.81 dP=0.00 dA=0.54\n",
      "n=2 farm_C6_0233.jld: -0.0009980438844234961  hBP=0.90, hBA=0.73 dP=1.00 dA=0.99\n",
      "n=1 farm_C6_0234.jld: -0.0009954539017723914  hBP=0.90, hBA=0.72 dP=1.00 dA=0.99\n",
      "n=2 farm_C6_0235.jld: 0.019610360720913652  hBP=0.91, hBA=0.46 dP=0.78 dA=0.00\n",
      "n=1 farm_C6_0236.jld: -0.0009711103552600473  hBP=0.87, hBA=0.72 dP=0.99 dA=0.97\n",
      "n=1 farm_C6_0237.jld: -0.0009939457985081446  hBP=0.90, hBA=0.71 dP=1.00 dA=0.99\n",
      "n=2 farm_C6_0238.jld: 0.0195215484086208  hBP=0.90, hBA=0.43 dP=0.94 dA=0.00\n",
      "n=2 farm_C6_0239.jld: 0.019089925535144513  hBP=0.97, hBA=0.32 dP=0.86 dA=0.00\n",
      "n=2 farm_C6_0240.jld: 0.07959073620369088  hBP=0.01, hBA=0.70 dP=0.00 dA=0.83\n",
      "n=2 farm_C6_0241.jld: 0.05120064052821574  hBP=0.58, hBA=0.41 dP=0.85 dA=0.85\n",
      "n=2 farm_C6_0242.jld: -0.0009979627252709204  hBP=0.91, hBA=0.69 dP=1.00 dA=0.99\n",
      "n=2 farm_C6_0243.jld: 0.01935891037691264  hBP=0.98, hBA=0.35 dP=0.16 dA=0.03\n",
      "n=2 farm_C6_0244.jld: -0.0009997456244684449  hBP=0.92, hBA=0.67 dP=0.99 dA=0.99\n",
      "n=2 farm_C6_0245.jld: 0.07859504710639485  hBP=0.02, hBA=0.73 dP=0.01 dA=0.81\n",
      "n=2 farm_C6_0246.jld: -0.0007959108224939438  hBP=0.91, hBA=0.70 dP=0.95 dA=0.61\n",
      "n=1 farm_C6_0247.jld: -0.0009924395815255225  hBP=0.89, hBA=0.68 dP=1.00 dA=0.99\n",
      "n=2 farm_C6_0248.jld: 0.019612138792801093  hBP=1.00, hBA=0.00 dP=0.82 dA=0.00\n",
      "n=1 farm_C6_0249.jld: -0.0009793308591712886  hBP=0.91, hBA=0.67 dP=0.99 dA=0.96\n",
      "n=2 farm_C6_0250.jld: 0.030191203952813734  hBP=0.85, hBA=0.45 dP=0.58 dA=0.95\n",
      "n=1 farm_C6_0251.jld: -0.0009992717181979325  hBP=0.85, hBA=0.68 dP=1.00 dA=0.99\n",
      "n=2 farm_C6_0252.jld: 0.06686603088894007  hBP=0.64, hBA=0.30 dP=0.30 dA=0.22\n",
      "n=2 farm_C6_0253.jld: 0.08528317023664768  hBP=0.81, hBA=0.11 dP=0.00 dA=0.00\n",
      "n=1 farm_C6_0254.jld: -0.0009971986998336528  hBP=0.89, hBA=0.74 dP=1.00 dA=0.99\n",
      "\n",
      " For ntries=1, success rate 100.00%, for ntries=2, rate 13.29%\n"
     ]
    },
    {
     "data": {
      "text/plain": [
       "3×2 Array{Any,2}:\n",
       "    \"nguys\"     \"ngoods\"\n",
       " 111         111        \n",
       " 143          19        "
      ]
     },
     "execution_count": 156,
     "metadata": {},
     "output_type": "execute_result"
    }
   ],
   "source": [
    "# Sanity check on whether we are getting results in the trajectory that matches algorithm\n",
    "# behavior\n",
    "\n",
    "ngoods = [0, 0]\n",
    "nguys  = [0, 0]\n",
    "\n",
    "farm_id = \"C6\"; farmdir = \"../NewFarms\"\n",
    "for f in filter(x -> startswith(x, \"farm_\" * farm_id * \"_\"), readdir(farmdir * \"/\"))\n",
    "    d = load(farmdir * \"/\" * f)\n",
    "    @printf(\"n=%d %s: \", d[\"ntries\"], f); \n",
    "    if d[\"ntries\"]==1\n",
    "        print(d[\"traj1\"][2,end])        \n",
    "        nguys[1] += 1\n",
    "        ngoods[1] += d[\"traj1\"][2,end] <= -0.0009 ? 1 : 0\n",
    "    else\n",
    "        print(d[\"traj3\"][2,end])\n",
    "        nguys[2] += 1\n",
    "        ngoods[2] += d[\"traj3\"][2,end] <= -0.0009 ? 1 : 0\n",
    "    end\n",
    "    @printf(\"  hBP=%.2f, hBA=%.2f dP=%.2f dA=%.2f\", d[\"hBP\"][1], d[\"hBA\"][1], \n",
    "        d[\"dP\"][1], d[\"dA\"][1])\n",
    "    @printf(\"\\n\")\n",
    "end\n",
    "\n",
    "@printf(\"\\n For ntries=1, success rate %.2f%%, for ntries=2, rate %.2f%%\\n\", 100*ngoods[1]/nguys[1], 100*ngoods[2]/nguys[2])\n",
    "\n",
    "[\"nguys\" \"ngoods\" ; [nguys ngoods]]"
   ]
  },
  {
   "cell_type": "code",
   "execution_count": null,
   "metadata": {
    "collapsed": false
   },
   "outputs": [],
   "source": [
    "# For C6:\n",
    "\n",
    "For ntries=1, success rate 100.00%, for ntries=2, rate 13.29%\n",
    "Out[84]:\n",
    "3×2 Array{Any,2}:\n",
    "    \"nguys\"     \"ngoods\"\n",
    " 111         111        \n",
    " 143          19     \n",
    "    \n",
    "    \n",
    "# For C7:\n",
    "For ntries=1, success rate 100.00%, for ntries=2, rate 10.71%\n",
    "Out[85]:\n",
    "3×2 Array{Any,2}:\n",
    "    \"nguys\"     \"ngoods\"\n",
    " 107         107        \n",
    " 140          15      "
   ]
  },
  {
   "cell_type": "code",
   "execution_count": 157,
   "metadata": {
    "collapsed": false
   },
   "outputs": [
    {
     "name": "stdout",
     "output_type": "stream",
     "text": [
      "farm_C10_0001.jld: qu_out[1]=0.10, cost=-0.000996848\n",
      "farm_C10_0002.jld: qu_out[1]=0.10, cost=-0.000999655\n",
      "farm_C10_0003.jld: qu_out[1]=0.10, cost=-0.000995379\n",
      "farm_C10_0004.jld: qu_out[1]=0.10, cost=-0.00099767\n",
      "farm_C10_0005.jld: qu_out[1]=0.20, cost=-0.000999994\n",
      "farm_C10_0006.jld: qu_out[1]=0.20, cost=-0.000987124\n",
      "farm_C10_0007.jld: qu_out[1]=0.10, cost=-0.000999989\n",
      "farm_C10_0008.jld: qu_out[1]=0.10, cost=-0.000999986\n",
      "farm_C10_0009.jld: qu_out[1]=0.10, cost=-0.000988272\n",
      "farm_C10_0010.jld: qu_out[1]=0.20, cost=-0.0009938\n",
      "farm_C10_0011.jld: qu_out[1]=0.10, cost=-0.000991577\n",
      "farm_C10_0012.jld: qu_out[1]=0.10, cost=-0.000995605\n",
      "farm_C10_0013.jld: qu_out[1]=0.10, cost=-0.000999725\n",
      "farm_C10_0014.jld: qu_out[1]=0.10, cost=-0.000992697\n",
      "farm_C10_0015.jld: qu_out[1]=0.10, cost=-0.000998946\n",
      "farm_C10_0016.jld: qu_out[1]=0.10, cost=-0.000999182\n",
      "farm_C10_0017.jld: qu_out[1]=0.20, cost=-0.000508604\n",
      "farm_C10_0018.jld: qu_out[1]=0.10, cost=-0.000995968\n",
      "farm_C10_0019.jld: qu_out[1]=0.10, cost=-0.000989548\n",
      "farm_C10_0020.jld: qu_out[1]=0.20, cost=-0.000999985\n",
      "farm_C10_0021.jld: qu_out[1]=0.10, cost=-0.000990599\n",
      "farm_C10_0022.jld: qu_out[1]=0.20, cost=-0.000499169\n",
      "farm_C10_0023.jld: qu_out[1]=0.20, cost=-0.000994219\n",
      "farm_C10_0024.jld: qu_out[1]=0.20, cost=-0.000599284\n",
      "farm_C10_0025.jld: qu_out[1]=0.30, cost=-0.000988455\n",
      "farm_C10_0026.jld: qu_out[1]=0.30, cost=-0.000997066\n",
      "farm_C10_0027.jld: qu_out[1]=0.30, cost=-0.000997616\n",
      "farm_C10_0028.jld: qu_out[1]=0.10, cost=-0.000981689\n",
      "farm_C10_0029.jld: qu_out[1]=0.10, cost=-0.000999403\n",
      "farm_C10_0030.jld: qu_out[1]=0.00, cost=0.0729852\n",
      "farm_C10_0031.jld: qu_out[1]=0.20, cost=-0.000999975\n",
      "farm_C10_0032.jld: qu_out[1]=0.20, cost=-0.000475476\n",
      "farm_C10_0033.jld: qu_out[1]=0.30, cost=-0.000996399\n",
      "farm_C10_0034.jld: qu_out[1]=0.20, cost=-0.000999992\n",
      "farm_C10_0035.jld: qu_out[1]=0.20, cost=-0.000995342\n",
      "farm_C10_0036.jld: qu_out[1]=0.10, cost=-0.000998166\n",
      "farm_C10_0037.jld: qu_out[1]=0.30, cost=-0.000999241\n",
      "farm_C10_0038.jld: qu_out[1]=0.40, cost=-0.000975995\n",
      "farm_C10_0039.jld: qu_out[1]=0.30, cost=-0.000989732\n",
      "farm_C10_0040.jld: qu_out[1]=0.10, cost=-0.000994308\n",
      "farm_C10_0041.jld: qu_out[1]=0.00, cost=0.0190134\n",
      "farm_C10_0042.jld: qu_out[1]=0.20, cost=-0.000997385\n",
      "farm_C10_0043.jld: qu_out[1]=0.20, cost=-0.000523364\n",
      "farm_C10_0044.jld: qu_out[1]=0.20, cost=-0.000978485\n",
      "farm_C10_0045.jld: qu_out[1]=0.10, cost=-0.000444757\n",
      "farm_C10_0046.jld: qu_out[1]=0.10, cost=-0.000998952\n",
      "farm_C10_0047.jld: qu_out[1]=0.10, cost=-0.000995446\n",
      "farm_C10_0048.jld: qu_out[1]=0.30, cost=-0.000999986\n",
      "farm_C10_0049.jld: qu_out[1]=0.30, cost=-0.000975668\n",
      "farm_C10_0050.jld: qu_out[1]=0.30, cost=-0.000729945\n"
     ]
    }
   ],
   "source": [
    "farm_id = \"C10\"; farmdir = \"../NewFarms\"\n",
    "for f in filter(x -> startswith(x, \"farm_\" * farm_id * \"_\"), readdir(farmdir * \"/\"))\n",
    "    d = load(farmdir * \"/\" * f)\n",
    "\n",
    "    @printf(\"%s: qu_out[1]=%.2f, cost=%g\\n\", f, d[\"qu_out\"][1], d[\"traj3\"][2,end]); \n",
    "end"
   ]
  },
  {
   "cell_type": "code",
   "execution_count": 210,
   "metadata": {
    "collapsed": false
   },
   "outputs": [
    {
     "data": {
      "text/plain": [
       "PyObject Text(0.5,1,'minimization with pre-check')"
      ]
     },
     "execution_count": 210,
     "metadata": {},
     "output_type": "execute_result"
    }
   ],
   "source": [
    "pygui(true)\n",
    "figure(1); clf();\n",
    "\n",
    "myouts = copy(outs);\n",
    "maxx   = -0.0007\n",
    "\n",
    "myouts[myouts[:,1].>maxx,1] = maxx\n",
    "myouts[myouts[:,2].>maxx,2] = maxx\n",
    "\n",
    "ax1 = subplot(2,1,1);\n",
    "plt[:hist](outs[:,1]*1000,-1:0.01:maxx*1000)\n",
    "vlines(-0.95, ylim()[1], ylim()[2], color=\"r\", linestyle=\"--\")\n",
    "ylabel(\"# of runs\")\n",
    "title(\"standard minimization -- left of red dashed line is a good run\")\n",
    "remove_xtick_labels()\n",
    "\n",
    "\n",
    "ax2 = subplot(2,1,2)\n",
    "plt[:hist](outs[:,2]*1000,-1:0.01:maxx*1000)\n",
    "vlines(-0.95, ylim()[1], ylim()[2], color=\"r\", linestyle=\"--\")\n",
    "xlabel(\"Final training cost/1000\")\n",
    "ylabel(\"# of runs\")\n",
    "title(\"minimization with pre-check\")\n",
    "\n"
   ]
  },
  {
   "cell_type": "code",
   "execution_count": 212,
   "metadata": {
    "collapsed": false
   },
   "outputs": [
    {
     "data": {
      "text/plain": [
       "97×2 Array{Float64,2}:\n",
       " -0.000992075  -0.000996848\n",
       " -0.000996983  -0.000999655\n",
       "  0.0596717    -0.000995379\n",
       " -0.00099101   -0.00099767 \n",
       " -0.000999679  -0.000999994\n",
       " -0.000977355  -0.000987124\n",
       " -0.000988438  -0.000999989\n",
       " -0.00098839   -0.000999986\n",
       " -0.00099058   -0.000988272\n",
       " -0.00099801   -0.0009938  \n",
       " -0.0009958    -0.000991577\n",
       " -0.000997176  -0.000995605\n",
       " -0.000999993  -0.000999725\n",
       "  ⋮                        \n",
       "  0.0196       -0.000999909\n",
       "  0.0480947    -0.000958385\n",
       "  0.0196001    -0.000997303\n",
       " -0.000995745  -0.000827584\n",
       "  0.0701043     0.0489064  \n",
       " -0.000999686  -0.000992905\n",
       " -0.000994563  -0.000844172\n",
       " -0.000993101   0.0197546  \n",
       "  0.0182703    -0.000997401\n",
       "  0.0449214    -0.00099347 \n",
       "  0.020247      0.0678375  \n",
       " -0.000987004  -0.000988269"
      ]
     },
     "execution_count": 212,
     "metadata": {},
     "output_type": "execute_result"
    }
   ],
   "source": [
    "outs"
   ]
  },
  {
   "cell_type": "code",
   "execution_count": null,
   "metadata": {
    "collapsed": false
   },
   "outputs": [],
   "source": [
    "mypars, extra_pars, start_pars, qu_out, args, bbox = load(\"../NewFarms/farm_C10_0008.jld\", \n",
    "    \"mypars\", \"extra_pars\", \"start_pars\", \"qu_out\", \"args\", \"bbox\")\n",
    "\n",
    "\n",
    "func1 =  (;params...) -> JJ(mypars[:nPro], mypars[:nAnti]; verbose=false, \n",
    "    merge(merge(mypars, extra_pars), Dict(params))...)[1]\n",
    "    \n",
    "            \n",
    "pars3, traj3, cost3, cpm_traj3, ftraj3 = bbox_Hessian_keyword_minimization(start_pars, \n",
    "    args, bbox, func1, \n",
    "    start_eta = 0.01, tol=1e-12, \n",
    "    verbose=true, verbose_every=1, maxiter=maxiter1)\n",
    "\n"
   ]
  },
  {
   "cell_type": "code",
   "execution_count": null,
   "metadata": {
    "collapsed": false
   },
   "outputs": [],
   "source": [
    "        cost, cost1s, cost2s, hP, hA, dP, dA, hBP, hBA = JJ(10000, 10000; verbose=false, \n",
    "            make_dict(args, pars3, merge(merge(mypars, extra_pars)))...)\n",
    "        \n"
   ]
  },
  {
   "cell_type": "code",
   "execution_count": null,
   "metadata": {
    "collapsed": false
   },
   "outputs": [],
   "source": [
    "[hBP, hBA, dP, dA]'"
   ]
  },
  {
   "cell_type": "code",
   "execution_count": null,
   "metadata": {
    "collapsed": false
   },
   "outputs": [],
   "source": [
    "        cost, cost1s, cost2s, hP, hA, dP, dA, hBP, hBA = JJ(200, 200; verbose=false, \n",
    "            make_dict(args, pars3, merge(merge(mypars, extra_pars)))...)\n"
   ]
  },
  {
   "cell_type": "code",
   "execution_count": null,
   "metadata": {
    "collapsed": false
   },
   "outputs": [],
   "source": [
    "[hBP, hBA, dP, dA]'"
   ]
  },
  {
   "cell_type": "code",
   "execution_count": 154,
   "metadata": {
    "collapsed": false
   },
   "outputs": [
    {
     "data": {
      "text/plain": [
       "1×2 Array{Float64,2}:\n",
       " 0.0353553  0.025"
      ]
     },
     "execution_count": 154,
     "metadata": {},
     "output_type": "execute_result"
    }
   ],
   "source": [
    "[0.5/sqrt(200) 0.5/sqrt(400)]"
   ]
  },
  {
   "cell_type": "code",
   "execution_count": null,
   "metadata": {
    "collapsed": false
   },
   "outputs": [],
   "source": [
    "d = load(\"../NewFarms/farm_C6_0002.jld\")\n",
    "\n",
    "mypars     = d[\"mypars\"]\n",
    "extra_pars = d[\"extra_pars\"] \n",
    "args       = d[\"args\"]\n",
    "pars1      = d[\"pars1\"]\n",
    "\n",
    "cost, cost1s, cost2s, hP, hA, dP, dA, hBP, hBA = JJ(400, 400; verbose=false, \n",
    "            make_dict(args, pars1, merge(merge(mypars, extra_pars)))...)\n"
   ]
  },
  {
   "cell_type": "code",
   "execution_count": null,
   "metadata": {
    "collapsed": false
   },
   "outputs": [],
   "source": [
    "extra_pars[:seedrand]"
   ]
  },
  {
   "cell_type": "code",
   "execution_count": null,
   "metadata": {
    "collapsed": false
   },
   "outputs": [],
   "source": [
    "~( abs(hBP[1]-0.9)<0.075 && abs(hBA[1]-0.7)<0.075 && dP[1] > 0.8 && dA[1] > 0.8)"
   ]
  },
  {
   "cell_type": "code",
   "execution_count": null,
   "metadata": {
    "collapsed": false
   },
   "outputs": [],
   "source": [
    "#@include_me  analyze_reduced_farm.jl\n",
    "\n",
    "\"\"\"\n",
    "    go_over_good_runs(files, I)\n",
    "\n",
    "Given a list of files, and a list of indices into those files, iterates over the indicated\n",
    "filenames, running show_run() on them, and then asking for user input.\n",
    "\"\"\"\n",
    "function go_over_good_runs(files, I)\n",
    "    for k=1:length(I)\n",
    "        show_run(files[I[k]])\n",
    "\n",
    "        @printf(\"Any key to continue, q to quit: \")\n",
    "        ans = chomp(readline())\n",
    "        if ans==\"q\" || ans==\"Q\"\n",
    "            break\n",
    "        end\n",
    "    end\n",
    "end\n"
   ]
  },
  {
   "cell_type": "code",
   "execution_count": null,
   "metadata": {
    "collapsed": false
   },
   "outputs": [],
   "source": [
    "go_over_good_runs(files, I)"
   ]
  },
  {
   "cell_type": "code",
   "execution_count": null,
   "metadata": {
    "collapsed": false
   },
   "outputs": [],
   "source": [
    "#@include_me analyze_reduced_farm.jl\n",
    "\n",
    "# show_run(\"farm_C3_0027.jld\", 400; opto_times=[\"trial_start\", \"trial_end\"], opto_strength=0.75)\n",
    "# show_run(\"farm_C3_0027.jld\", 400; opto_times=[\"target_start-0.5\", \"target_start\"], opto_strength=0, \n",
    "#   const_pro_bias=0, anti_rule_strength=0.05)\n",
    "show_run(\"farm_C3_0027.jld\", 400; opto_times=[\"target_start+0.016\", \"target_end\"], opto_strength=0.4, \n",
    "    const_pro_bias=0.02476, anti_rule_strength=0.054)"
   ]
  },
  {
   "cell_type": "code",
   "execution_count": null,
   "metadata": {
    "collapsed": false
   },
   "outputs": [],
   "source": [
    "#@include_me analyze_reduced_farm.jl\n",
    "\n",
    "#  TARGET PERIOD OPTO\n",
    "\n",
    "run_name = \"farm_C3_0027.jld\"\n",
    "recompute_me = false; if recompute_me\n",
    "    ostrengths = 0.5:0.1:1\n",
    "    phits      = zeros(1, length(ostrengths))\n",
    "    ahits      = zeros(1, length(ostrengths))\n",
    "\n",
    "    for i=1:length(ostrengths)\n",
    "        phits[i], ahits[i] = show_run(run_name, 4000; \n",
    "        opto_times=[\"target_start+0.016\", \"target_end+0.016\"], opto_strength=ostrengths[i])\n",
    "        @printf(\"ostrength=%g, phits=%.1f, ahits=%.1f\\n\", ostrengths[i], phits[i], ahits[i])\n",
    "    end\n",
    "\n",
    "    @save(\"Temp/opto_target.jld\", ostrengths, ahits, phits)\n",
    "else\n",
    "    ostrengths, ahits, phits = load(\"Temp/opto_target.jld\", \"ostrengths\", \"ahits\", \"phits\")\n",
    "end\n",
    "\n",
    "figure(3);clf();\n",
    "plot(ostrengths, phits[:], \".-\", ostrengths, ahits[:], \".-\")\n",
    "legend([\"pro\", \"anti\"])\n",
    "xlabel(\"opto strength\")\n",
    "ylabel(\"binarized hits\")\n",
    "title(run_name * \" : TARGET PERIOD opto\")\n",
    "grid(\"on\")\n",
    "\n",
    "\n",
    "#  DELAY PERIOD OPTO  ---------\n",
    "\n",
    "recompute_me = false; if recompute_me\n",
    "    ostrengths = 0.5:0.1:1\n",
    "    phits      = zeros(1, length(ostrengths))\n",
    "    ahits      = zeros(1, length(ostrengths))\n",
    "\n",
    "    for i=1:length(ostrengths)\n",
    "        phits[i], ahits[i] = show_run(run_name, 4000; \n",
    "        opto_times=[\"target_start-0.5\", \"target_start\"], opto_strength=ostrengths[i])\n",
    "        @printf(\"ostrength=%g, phits=%.1f, ahits=%.1f\\n\", ostrengths[i], phits[i], ahits[i])\n",
    "    end\n",
    "    @save(\"Temp/opto_delay.jld\", ostrengths, ahits, phits)\n",
    "else\n",
    "    ostrengths, ahits, phits = load(\"Temp/opto_delay.jld\", \"ostrengths\", \"ahits\", \"phits\")\n",
    "end\n",
    "\n",
    "figure(4);clf();\n",
    "plot(ostrengths, phits[:], \".-\", ostrengths, ahits[:], \".-\")\n",
    "legend([\"pro\", \"anti\"])\n",
    "xlabel(\"opto strength\")\n",
    "ylabel(\"binarized hits\")\n",
    "title(run_name * \" : last 500 ms of DELAY PERIOD opto\")\n",
    "grid(\"on\")"
   ]
  },
  {
   "cell_type": "code",
   "execution_count": null,
   "metadata": {
    "collapsed": false
   },
   "outputs": [],
   "source": []
  },
  {
   "cell_type": "markdown",
   "metadata": {},
   "source": [
    "## workspace for double_search.jl"
   ]
  },
  {
   "cell_type": "code",
   "execution_count": null,
   "metadata": {
    "collapsed": false
   },
   "outputs": [],
   "source": [
    "extra_pars[:seedrand] = 1510799260433 # Int64(round(1000*time()))   # 1510782006169 causes lin.alg error but then looks like it'll succeed\n",
    "srand(extra_pars[:seedrand])\n",
    "\n",
    "    args = []; seed = []; bbox = Dict()\n",
    "    for k in keys(search_conditions)\n",
    "        search_box = search_conditions[k][2]\n",
    "        args = [args; String(k)]\n",
    "        # --- search within the indicated search range:\n",
    "        myseed = search_conditions[k][1] + search_range*(rand()-0.5)*diff(search_box); myseed = myseed[1]\n",
    "        if myseed > search_box[2]; myseed = search_box[2]; end\n",
    "        if myseed < search_box[1]; myseed = search_box[1]; end\n",
    "        seed = [seed ;  myseed]\n",
    "        # --- No search, just start at the indicated position:\n",
    "        # seed = [seed ; search_conditions[k][1]]\n",
    "        bbox = merge(bbox, Dict(k => Array{Float64}(search_conditions[k][3])))\n",
    "    end\n",
    "    args = Array{String}(args)\n",
    "    seed = Array{Float64}(seed)\n",
    "\n",
    "\n",
    "func1 =  (;params...) -> JJ(mypars[:nPro], mypars[:nAnti]; verbose=false, \n",
    "    merge(merge(mypars, extra_pars), Dict(params))...)[1]\n",
    "\n",
    "t_pars = [0.378, 0.164, 0.001, -0.203, 0.589, -0.673, 0.105, -0.582, 0.471]\n",
    "\n",
    "pars, traj, cost, cpm_traj, ftraj = bbox_Hessian_keyword_minimization(t_pars, args, bbox, func1, \n",
    "    start_eta = 0.1, tol=1e-12, \n",
    "    verbose=true, verbose_every=1, maxiter=1000)\n"
   ]
  },
  {
   "cell_type": "code",
   "execution_count": null,
   "metadata": {
    "collapsed": false
   },
   "outputs": [],
   "source": [
    "testruns = 1600\n",
    "\n",
    "pars = [0.356712, 0.000825015, 0.0218232, -0.0364268, 0.678269, -2.97884, 0.153528, -0.484789, 1.07313]\n",
    "\n",
    "cost, cost1s, cost2s, hP, hA, dP, dA, hBP, hBA = JJ(testruns, testruns; verbose=false, \n",
    "                make_dict(args, pars, merge(merge(mypars, extra_pars)))...)\n"
   ]
  },
  {
   "cell_type": "code",
   "execution_count": null,
   "metadata": {
    "collapsed": false
   },
   "outputs": [],
   "source": [
    "G = load(\"FarmFields/farm_C4_0041.jld\")"
   ]
  },
  {
   "cell_type": "code",
   "execution_count": null,
   "metadata": {
    "collapsed": false
   },
   "outputs": [],
   "source": [
    "( abs(hBP[1]-0.9)<0.05 && abs(hBA[1]-0.7)<0.05 && dP[1] > 0.8 && dA[1] > 0.8)"
   ]
  },
  {
   "cell_type": "code",
   "execution_count": null,
   "metadata": {
    "collapsed": false
   },
   "outputs": [],
   "source": []
  },
  {
   "cell_type": "code",
   "execution_count": null,
   "metadata": {
    "collapsed": false
   },
   "outputs": [],
   "source": [
    "    args = []; seed = []; bbox = Dict()\n",
    "    for k in keys(search_conditions)\n",
    "        search_box = search_conditions[k][2]\n",
    "        args = [args; String(k)]\n",
    "        # --- search within the indicated search range:\n",
    "        myseed = search_conditions[k][1] + search_range*(rand()-0.5)*diff(search_box); myseed = myseed[1]\n",
    "        if myseed > search_box[2]; myseed = search_box[2]; end\n",
    "        if myseed < search_box[1]; myseed = search_box[1]; end\n",
    "        seed = [seed ;  myseed]\n",
    "        # --- No search, just start at the indicated position:\n",
    "        # seed = [seed ; search_conditions[k][1]]\n",
    "        bbox = merge(bbox, Dict(k => Array{Float64}(search_conditions[k][3])))\n",
    "    end\n",
    "    args = Array{String}(args)\n",
    "    seed = Array{Float64}(seed)\n",
    "\n",
    "\n",
    "    maxiter1 = 10;  # for func1, the regular search\n",
    "    maxiter2 = 20;  # for func2, the reduced search\n",
    "\n",
    "    func1 =  (;params...) -> JJ(mypars[:nPro], mypars[:nAnti]; verbose=false, \n",
    "    merge(merge(mypars, extra_pars), Dict(params))...)[1]\n",
    "    \n",
    "    # For func2:\n",
    "    extra_pars[:opto_conditions] = []    \n",
    "    extra_pars[:plot_list] = [1:10;]    \n",
    "    extra_pars[:plot_condition] = 0\n",
    "\n",
    "    func2 =  (;params...) -> new_J(10, 10; verbose=false, merge(merge(mypars, extra_pars), Dict(params))...)\n",
    "\n",
    "    # For func2:\n",
    "    # This function will get the output of new_J() at each iteration, and will return \"true\", stopping\n",
    "    # the minimization, if hBP and hBA are both above a threshold.\n",
    "    function stopping_func(;cost=0, func_out=[], ignored_extra_params...)\n",
    "        costf, dP, dA, hBP, hBA = func_out\n",
    "        return hBP[1]>=0.6 && hBA[1] >= 0.6\n",
    "    end\n",
    "\n",
    "        extra_pars[:plot_list] = []\n",
    "        cost, cost1s, cost2s, hP, hA, dP, dA, hBP, hBA = JJ(100, 100; verbose=false, \n",
    "            make_dict(args, seed, merge(merge(mypars, extra_pars)))...)\n"
   ]
  },
  {
   "cell_type": "code",
   "execution_count": null,
   "metadata": {
    "collapsed": false
   },
   "outputs": [],
   "source": [
    "dA"
   ]
  },
  {
   "cell_type": "code",
   "execution_count": null,
   "metadata": {
    "collapsed": true
   },
   "outputs": [],
   "source": []
  },
  {
   "cell_type": "code",
   "execution_count": null,
   "metadata": {
    "collapsed": false
   },
   "outputs": [],
   "source": [
    "search_conditions = Dict(   # :param    default_start   search_box  bound_box\n",
    ":vW     =>                   [mypars[:vW],                       [-0.5, 0.5],  [-3,   3]], \n",
    ":hW     =>                   [mypars[:hW],                       [-0.5, 0.5],  [-3,   3]],\n",
    ":dW     =>                   [mypars[:dW],                       [-0.5, 0.5],  [-3,   3]],\n",
    ":sW     =>                   [mypars[:sW],                       [0,    0.5],  [0,    3]],\n",
    ":sigma  =>                   [0.11,                              [0.1,  0.2],  [0.1, 0.4]],\n",
    ":constant_excitation      => [mypars[:constant_excitation],      [-1,     1],  [-2,   2]], \n",
    ":target_period_excitation => [mypars[:target_period_excitation], [0.001,0.5],  [0     4]],\n",
    ":right_light_excitation   => [mypars[:right_light_excitation],   [0.05, 0.5],  [0.05, 4]],\n",
    ":const_pro_bias           => [mypars[:const_pro_bias],           [-0.5, 0.5],  [-2,   2]],\n",
    "# :opto_strength            => [mypars[:opto_strength],            [0.7, 0.99],  [0,    1]],\n",
    ")\n",
    "\n",
    "\n",
    "\n",
    "args = []; seed = []; bbox = Dict()\n",
    "\n",
    "for k in keys(search_conditions)\n",
    "    search_box = search_conditions[k][2]\n",
    "    args = [args; String(k)]\n",
    "    # myseed = rand()*diff(search_box) + search_box[1]; myseed = myseed[1]    \n",
    "    # seed = [seed ;  myseed]    \n",
    "    seed = [seed ; search_conditions[k][1]]    \n",
    "    bbox = merge(bbox, Dict(k => Array{Float64}(search_conditions[k][3])))    \n",
    "end\n",
    "args = Array{String}(args)\n",
    "seed = Array{Float64}(seed)\n",
    "\n",
    "func =  (;params...) -> new_J(10, 10; verbose=true,  merge(merge(mypars, extra_pars), Dict(params))...)[1]\n",
    "\n",
    "pars, traj, cost, cpm_traj, ftraj = bbox_Hessian_keyword_minimization(seed, args, bbox, func, \n",
    "            start_eta = 0.1, tol=1e-12, \n",
    "            verbose=true, verbose_every=1, maxiter=1000)\n"
   ]
  },
  {
   "cell_type": "code",
   "execution_count": null,
   "metadata": {
    "collapsed": true
   },
   "outputs": [],
   "source": []
  },
  {
   "cell_type": "code",
   "execution_count": null,
   "metadata": {
    "collapsed": true
   },
   "outputs": [],
   "source": []
  },
  {
   "cell_type": "code",
   "execution_count": null,
   "metadata": {
    "collapsed": false
   },
   "outputs": [],
   "source": [
    "\n",
    "\n",
    "mypars = Dict(\n",
    ":init_add               =>          0,\n",
    ":const_add              =>          0,\n",
    ":noise                  =>          Any[],\n",
    ":input                  =>          0,\n",
    ":seedrand               =>          1510340076445,\n",
    ":start_anti             =>          [-0.5, -0.5, -0.5, -0.5],\n",
    ":start_pro              =>          [-0.5, -0.5, -0.5, -0.5],\n",
    ":rule_and_delay_period  =>          1.2,\n",
    ":rule_and_delay_periods =>          [1.2],\n",
    ":target_period          =>          0.3,\n",
    ":target_periods         =>          [0.3],\n",
    ":post_target_period     =>          0.3,\n",
    ":post_target_periods    =>          [0.3],\n",
    ":anti_rule_strength     =>          0.054,\n",
    ":U_rest                 =>          0,\n",
    ":theta                  =>          0.05,\n",
    ":beta                   =>          0.5,\n",
    ":g_leak                 =>          1,\n",
    ":nsteps                 =>          301,\n",
    ":dt                     =>          0.024,\n",
    ":tau                    =>          0.09,\n",
    ":right_light_excitation =>          0.49924152955481954,\n",
    ":opto_strength          =>          0.85,\n",
    ":opto_periods           =>          String[\n",
    "                                    \"trial_start\" \"trial_start\"; \n",
    "                                    \"trial_start\" \"trial_end\"; \n",
    "                                    \"trial_start\" \"target_start/2\"; \n",
    "                                    \"target_start/2\" \"target_start\"; \n",
    "                                    \"target_start\" \"target_end\"],\n",
    ":opto_targets          =>           [\n",
    "                                    0.9 0.7; \n",
    "                                    0.9 0.5; \n",
    "                                    0.9 0.7; \n",
    "                                    0.9 0.5; \n",
    "                                    0.9 0.7],\n",
    ":theta2 => 0.15,\n",
    ":theta1 => 0.05,\n",
    ":sigma => 0.01,\n",
    ":cbeta => 0.04,\n",
    ":sW => 0.6416875048295452,\n",
    ":hW => 0.054701836208134846,\n",
    ":dW => 0.1267124266934907,\n",
    ":vW => -1.588850577499782,\n",
    ":constant_excitation => -0.37242520737694207,\n",
    ":const_pro_bias => 0.04366897857834884,\n",
    ":target_period_excitation => 0.15315254453690974,\n",
    ":right_light_pro_extra => 0,\n",
    ":pro_rule_strength => 0.05,\n",
    ":nPro => 100,\n",
    ":nAnti => 100,\n",
    ")\n"
   ]
  },
  {
   "cell_type": "code",
   "execution_count": null,
   "metadata": {
    "collapsed": false
   },
   "outputs": [],
   "source": [
    "\n",
    "\n",
    "extra_pars = Dict(\n",
    ":plot_list        =>   [1:10;], \n",
    ":plot_condition   =>   1,\n",
    ":verbose          =>   true,\n",
    ":opto_conditions  =>   Array{Any}(0, 4),\n",
    ")\n",
    "\n",
    "\n",
    "search_conditions = Dict(   # :param    default_start   search_box  bound_box\n",
    ":vW     =>                   [mypars[:vW],                       [-0.5, 0.5],  [-3,   3]], \n",
    ":hW     =>                   [mypars[:hW],                       [-0.5, 0.5],  [-3,   3]],\n",
    ":dW     =>                   [mypars[:dW],                       [-0.5, 0.5],  [-3,   3]],\n",
    ":sW     =>                   [mypars[:sW],                       [0,    0.5],  [0,    3]],\n",
    ":sigma  =>                   [0.11,                              [0.1,  0.2],  [0.1, 0.4]],\n",
    ":constant_excitation      => [mypars[:constant_excitation],      [-1,     1],  [-2,   2]], \n",
    ":target_period_excitation => [mypars[:target_period_excitation], [0.001,0.5],  [0     4]],\n",
    ":right_light_excitation   => [mypars[:right_light_excitation],   [0.05, 0.5],  [0.05, 4]],\n",
    ":const_pro_bias           => [mypars[:const_pro_bias],           [-0.5, 0.5],  [-2,   2]],\n",
    "# :opto_strength            => [mypars[:opto_strength],            [0.7, 0.99],  [0,    1]],\n",
    ")\n",
    "\n"
   ]
  },
  {
   "cell_type": "code",
   "execution_count": null,
   "metadata": {
    "collapsed": false
   },
   "outputs": [],
   "source": [
    "a=(1, 2, 3, 4, \"5\")\n",
    "\n",
    "b,c,d,e,f = a\n",
    "f\n"
   ]
  },
  {
   "cell_type": "code",
   "execution_count": null,
   "metadata": {
    "collapsed": true
   },
   "outputs": [],
   "source": []
  },
  {
   "cell_type": "code",
   "execution_count": null,
   "metadata": {
    "collapsed": true
   },
   "outputs": [],
   "source": [
    "#@include_me interesting_minimization.jl\n",
    "\n",
    "include(\"pro_anti.jl\")"
   ]
  },
  {
   "cell_type": "code",
   "execution_count": null,
   "metadata": {
    "collapsed": false
   },
   "outputs": [],
   "source": [
    "#@include_me interesting_minimization.jl\n",
    "\n",
    "pygui(true)\n",
    "d = load(\"FarmFields/farm_C3_0005.jld\")\n",
    "mypars     = d[\"mypars\"]\n",
    "extra_pars = d[\"extra_pars\"] \n",
    "\n",
    "seed = d[\"seed\"]\n",
    "args = d[\"args\"]\n",
    "bbox = d[\"bbox\"]\n",
    "\n",
    "extra_pars[:opto_conditions] = []\n",
    "extra_pars[:plot_list] = [1:10;]\n",
    "extra_pars[:plot_condition] = 1\n",
    "\n",
    "# This function will get the output of new_J() at each iteration, and will return \"true\", stopping\n",
    "# the minimization, if hBP and hBA are both above a threshold.\n",
    "function stopping_func(;cost=0, func_out=[], ignored_extra_params...)\n",
    "    costf, dP, dA, hBP, hBA = func_out\n",
    "    return hBP[1]>=0.6 && hBA[1] >= 0.6\n",
    "end\n",
    "\n",
    "func =  (;params...) -> new_J(10, 10; verbose=true, merge(merge(mypars, extra_pars), Dict(params))...)\n",
    "\n",
    "t_pars, traj, cost, cpm_traj, ftraj = bbox_Hessian_keyword_minimization(seed, args, bbox, func, \n",
    "    stopping_function = stopping_func, \n",
    "start_eta = 0.1, tol=1e-12, verbose=true, verbose_every=1, maxiter=2000)\n"
   ]
  },
  {
   "cell_type": "code",
   "execution_count": null,
   "metadata": {
    "collapsed": false
   },
   "outputs": [],
   "source": []
  },
  {
   "cell_type": "code",
   "execution_count": null,
   "metadata": {
    "collapsed": false
   },
   "outputs": [],
   "source": [
    "t_pars = pars"
   ]
  },
  {
   "cell_type": "code",
   "execution_count": null,
   "metadata": {
    "collapsed": false
   },
   "outputs": [],
   "source": [
    "#@include_me  interesting_minimization.jl\n",
    "\n",
    "seed = t_pars\n",
    "\n",
    "func =  (;params...) -> JJ(mypars[:nPro], mypars[:nAnti]; verbose=false, \n",
    "    merge(merge(mypars, extra_pars), Dict(params))...)\n",
    "\n",
    "\n",
    "pars, traj, cost, cpm_traj, ftraj = bbox_Hessian_keyword_minimization(seed, args, bbox, func, \n",
    "    start_eta = 0.1, tol=1e-12, verbose=true, verbose_every=1, maxiter=1000)\n"
   ]
  },
  {
   "cell_type": "code",
   "execution_count": null,
   "metadata": {
    "collapsed": false
   },
   "outputs": [],
   "source": [
    "README = \"\"\"\n",
    "For the code that generated this file, see interesting_minimization.jl.\n",
    "\n",
    "The thing that is interesting, is that at the end of ths minimization, things are going VERY slowly, \n",
    "and cos theta is almost always close to 0! What is going on?  What is the landscape like around\n",
    "there? Are we really taking nicely-directed Hessian jumps?  Or is the wall screwing that up?\n",
    "\"\"\"\n",
    "\n",
    "@save \"Temp/interesting_minimization.jld\"\n"
   ]
  },
  {
   "cell_type": "code",
   "execution_count": null,
   "metadata": {
    "collapsed": false
   },
   "outputs": [],
   "source": [
    "gu = true\n",
    "\n",
    "@printf(\"gu is %s\\n\", false)"
   ]
  },
  {
   "cell_type": "code",
   "execution_count": null,
   "metadata": {
    "collapsed": false
   },
   "outputs": [],
   "source": [
    "\n",
    "\n",
    "\n",
    "fbasename = \"FarmFields/farm_C4_\"\n",
    "\n",
    "# while true\n",
    "    args = []; seed = []; bbox = Dict()\n",
    "    for k in keys(search_conditions)\n",
    "        search_box = search_conditions[k][2]\n",
    "        args = [args; String(k)]\n",
    "        myseed = rand()*diff(search_box) + search_box[1]; myseed = myseed[1]\n",
    "        seed = [seed ;  myseed]\n",
    "        # seed = [seed ; search_conditions[k][1]]\n",
    "        bbox = merge(bbox, Dict(k => Array{Float64}(search_conditions[k][3])))\n",
    "    end\n",
    "    args = Array{String}(args)\n",
    "    seed = Array{Float64}(seed)\n",
    "\n",
    "\n",
    "\n",
    "    func =  (;params...) -> new_J(10, 10; verbose=true, \n",
    "        merge(merge(mypars, extra_pars), Dict(params))...)[1]\n",
    "\n",
    "    try\n",
    "        pars, traj, cost, cpm_traj, ftraj = bbox_Hessian_keyword_minimization(seed, args, bbox, func, \n",
    "            start_eta = 0.1, tol=1e-12, \n",
    "            verbose=true, verbose_every=1, maxiter=1000)\n",
    "\n",
    "\n",
    "        cost, cost1s, cost2s, hP, hA, dP, dA, hBP, hBA = JJ(10000, 10000; verbose=false, \n",
    "        make_dict(args, pars, merge(merge(mypars, extra_pars)))...)\n",
    "\n",
    "        myfilename = next_file(fbasename, 4)\n",
    "        myfilename = myfilename*\".jld\"\n",
    "        # write file\n",
    "        save(myfilename, Dict(\"nPro\"=>mypars[:nPro], \"nAnti\"=>mypars[:nAnti], \n",
    "        \"mypars\"=>mypars, \"extra_pars\"=>extra_pars, \"args\"=>args, \"seed\"=>seed, \"bbox\"=>bbox, \n",
    "        \"pars\"=>pars, \"traj\"=>traj, \"cost\"=>cost, \"cpm_traj\"=>cpm_traj, \"ftraj\"=>ftraj,\n",
    "        \"hP\"=>hP, \"hA\"=>hA, \"dP\"=>dP, \"dA\"=>dA, \"hBP\"=>hBP, \"hBA\"=>hBA))\n",
    "    catch\n",
    "        @printf(\"\\n\\nWhoopsety, unkown error!   Trying new random seed.\\n\\n\")\n",
    "    end\n",
    "# end"
   ]
  },
  {
   "cell_type": "code",
   "execution_count": null,
   "metadata": {
    "collapsed": true
   },
   "outputs": [],
   "source": []
  },
  {
   "cell_type": "markdown",
   "metadata": {},
   "source": [
    "# Alex-style runs"
   ]
  },
  {
   "cell_type": "code",
   "execution_count": null,
   "metadata": {
    "collapsed": true
   },
   "outputs": [],
   "source": [
    "using ForwardDiff\n",
    "using DiffBase\n",
    "using MAT\n",
    "using PyPlot\n"
   ]
  },
  {
   "cell_type": "code",
   "execution_count": null,
   "metadata": {
    "collapsed": false
   },
   "outputs": [],
   "source": [
    "include(\"pro_anti.jl\")"
   ]
  },
  {
   "cell_type": "code",
   "execution_count": null,
   "metadata": {
    "collapsed": true
   },
   "outputs": [],
   "source": [
    "FarmName = \"CARLOS_TEST\"\n",
    "\n",
    "\n",
    "#Define core model parameters\n",
    "model_params = Dict(\n",
    ":dt     =>  0.002,      # Changed hyper-parameter\n",
    ":tau    =>  0.02,       # Changed hyper-parameter\n",
    ":vW     =>  -1.7, #FIT parameter\n",
    ":hW     =>  -1.7, #FIT parameter\n",
    ":sW     =>  0.2,  #FIT parameter\n",
    ":dW     =>  0,    #FIT parameter\n",
    ":nsteps =>  2, \n",
    ":noise  =>  [], \n",
    ":sigma  =>  0.08, #FIT parameter\n",
    ":input  =>  0,    #### Alex thinks this is out-dated \n",
    ":g_leak =>  1,          # Changed hyper-parameter\n",
    ":U_rest =>  0,          # Changed hyper-parameter\n",
    ":theta  =>  0.05,       # Changed hyper-parameter\n",
    ":beta   =>  0.5,        # Changed hyper-parameter \n",
    ":sw     =>  0.2,  #### Alex thinks this is out-dated\n",
    ":hw     =>  -1.7, #### Alex thinks this is out-dated\n",
    ":vw     =>  -1.7, #### Alex thinks this is out-dated\n",
    ":constant_excitation      => 0.19, #FIT  parameter\n",
    ":anti_rule_strength       => 0.05,      # Changed hyper-parameter\n",
    ":pro_rule_strength        => 0.05,      # Changed hyper-parameter\n",
    ":target_period_excitation => 1,    #FIT  parameter\n",
    ":right_light_excitation   => 0.5,  #FIT parameter\n",
    ":right_light_pro_extra    => 0,\n",
    ":const_add                => 0, \n",
    ":init_add                 => 0, \n",
    ":rule_and_delay_period    => 0.4,\n",
    ":target_period            => 0.1,\n",
    ":post_target_period       => 0.5,\n",
    ":const_pro_bias           => 0,    #FIT parameter\n",
    ":nPro                     => 100,\n",
    ":nAnti                    => 100,\n",
    ":theta1                   => 0.01,\n",
    ":theta2                   => 0.15,\n",
    ":start_pro                => [-0.5, -0.5, -0.5, -0.5],\n",
    ":start_anti               => [-0.5, -0.5, -0.5, -0.5],\n",
    ":opto_strength  => .7,             #FIT parameter\n",
    ":opto_periods   => [-1.1 -1; 0 20;0 50; 50 100; 100 20],  \n",
    "# The opto \"conditions\" correspond to the rows of opto_periods.\n",
    "# all conditions are in seconds relative to start of the trial\n",
    "# any value before 0 gets changed to 0\n",
    "# any value after the end of trial gets changed to end of trial\n",
    "# Special values allow for variable durations\n",
    "#  20 codes for \"end of trial\"\n",
    "#  -1 codes for \"start of trial\"\n",
    "# 100 codes for \"end of rule and delay period\"\n",
    "# 200 codes for \"end of target period\"\n",
    "# -------------------------------------------------------------\n",
    "# first column is frachit Pro, next column is Anti, rows are conditions\n",
    "# Actual Opto targets\n",
    "#:opto_targets   => [.75 .73;.77 .58;.75 .74; .72 .66;.73 .75] \n",
    "# Fake Targets\n",
    ":opto_targets => [.9 .7; .9 .5; .9 .7; .9 .5; .9 .7]  \n",
    ");\n",
    "\n",
    "# ======= ARGUMENTS AND SEED VALUES:\n",
    "args = [\"sW\", \"vW\", \"hW\", \"dW\", \"constant_excitation\", \"right_light_excitation\", \"target_period_excitation\", \"const_pro_bias\", \"sigma\",\"opto_strength\"];\n",
    "seed = [0.001,  -1.58,   -0.05,  0.001,    0.001,                0.6,                       0.001,                        0.0427,              0.05, .9];   \n",
    "# ======= BOUNDING BOX:\n",
    "bbox = Dict(:sW=>[0 3], :vW=>[-3 3], :hW=>[-3 3], :dW=>[-3 3], :constant_excitation=>[-2 2],\n",
    ":right_light_excitation=>[0.05 4], :target_period_excitation=>[0 4], :const_pro_bias=>[-2 2],\n",
    ":sigma=>[0.1 0.4],:opto_strength=>[0 1]);\n",
    "\n",
    "# ======== SEARCH ZONE:\n",
    "sbox = Dict(:sW=>[0 .5], :vW=>[-.5 .5], :hW=>[-.5 .5], :dW=>[-.5 .5],\n",
    ":constant_excitation=>[-.5 .5], :right_light_excitation=>[0.05 .5], :target_period_excitation=>[0.001 .5],:const_pro_bias=>[-.5 .5], :sigma=>[0.1 .2],:opto_strength=>[.7 .99]);\n",
    "\n",
    "# define a few hyper parameters\n",
    "cbetas = [4e-3];\n",
    "rule_and_delay_periods = [0.2];\n",
    "post_target_periods    = [0.05];\n",
    "num_eval_runs           = 1000;\n",
    "num_optimize_iter       = 2000;\n",
    "num_optimize_restarts   = 100;\n",
    "\n",
    "# define base filename\n",
    "fbasename = \"FarmFields/farm_\"*string(FarmName);\n",
    "\n",
    "for i=1:num_optimize_restarts   # Iterate this many optimizations\n",
    "for cb in cbetas                # Iterate over beta values, if there are multiple\n",
    "    # figure out initial seed for random number generator\n",
    "    sr = convert(Int64, round(time()))\n",
    "    srand(sr);\n",
    "\n",
    "    dista=rand();\n",
    "    println(\"dista\")\n",
    "    println(dista)\n",
    "    myseed1 = copy(seed);\n",
    "\n",
    "    # get initial parameter values by sampling from sbox\n",
    "    myseed = ForwardDiffZeros(length(args),1);\n",
    "    for j=1:length(args)\n",
    "        sym = Symbol(args[j])\n",
    "        if haskey(sbox, sym)\n",
    "#           myseed[j] = sbox[sym][1] + diff(sbox[sym],2)[1]*rand();\n",
    "            myseed[j] = dista*(sbox[sym][1] + diff(sbox[sym],2)[1]*rand())+(1-dista)*myseed1[j];\n",
    "        if myseed[j] > bbox[sym][2]\n",
    "            myseed[j] =bbox[sym][2] - 0.1;\n",
    "        elseif myseed[j] < bbox[sym][1]\n",
    "            myseed[j] =bbox[sym][1]+0.1;\n",
    "        end\n",
    "        else\n",
    "            myseed[j] = seed[j];\n",
    "        end\n",
    "    end\n",
    "\n",
    "    # define opto function with just value output\n",
    "    func =  (;params...) -> JJ(model_params[:nPro], model_params[:nAnti]; \n",
    "        rule_and_delay_periods=rule_and_delay_periods, \n",
    "        theta1=model_params[:theta1], theta2=model_params[:theta2], \n",
    "        post_target_periods=post_target_periods, seedrand=sr, cbeta=cb, \n",
    "        verbose=false, merge(model_params, Dict(params))...)[1]\n",
    "    \n",
    "    # run optimization with all parameters\n",
    "    @printf(\"Going with seed = \"); print_vector_g(myseed); print(\"\\n\")\n",
    "    pars, traj, cost, cpm_traj = bbox_Hessian_keyword_minimization(myseed, args, bbox, func, start_eta = 1, tol=1e-12, verbose=true, verbose_every=10, maxiter=num_optimize_iter)\n",
    "    @printf(\"Came out with cost %g and pars = \", cost); print_vector_g(pars); print(\"\\n\\n\")\n",
    "\n",
    "    # get gradient and hessian at end of optimization \n",
    "    value, grad, hess = keyword_vgh(func, args, pars)\n",
    "\n",
    "    # define function with all outputs, evaluate on training noise\n",
    "    t_standard_func =  (;params...) -> JJ_opto(model_params[:nPro], model_params[:nAnti]; rule_and_delay_periods=rule_and_delay_periods, theta1=model_params[:theta1], theta2=model_params[:theta2], post_target_periods=post_target_periods, seedrand=sr, cbeta=cb, verbose=false, merge(model_params, Dict(params))...)\n",
    "\n",
    "    # run opto model with all outputs, evaluate on training noise\n",
    "    t_opto_scost, t_opto_scost1, t_opto_scost2, t_opto_hitsP,t_opto_hitsA, t_opto_diffsP, t_opto_diffsA, t_opto_bP, t_opto_bA = t_standard_func(;make_dict(args, pars, model_params)...)\n",
    "    \n",
    "   ## evaluate for long form info\n",
    "    # reset random number generator for testing purposes\n",
    "    test_sr = convert(Int64, round(time()))\n",
    "    srand(test_sr); \n",
    "\n",
    "    # define function with all outputs, evaluate on test noise\n",
    "    standard_func =  (;params...) -> JJ_opto(num_eval_runs, num_eval_runs; rule_and_delay_periods=rule_and_delay_periods, theta1=model_params[:theta1], theta2=model_params[:theta2], post_target_periods=post_target_periods, seedrand=test_sr, cbeta=cb, verbose=false, merge(model_params, Dict(params))...)\n",
    "\n",
    "    # run opto model with all outputs, evaluate on test noise\n",
    "    opto_scost, opto_scost1, opto_scost2, opto_hitsP,opto_hitsA, opto_diffsP, opto_diffsA, opto_bP, opto_bA = standard_func(;make_dict(args, pars, model_params)...)\n",
    "\n",
    "   ## Save this run out to a file\n",
    "    # get filename\n",
    "    myfilename = next_file(fbasename, 4)\n",
    "    myfilename = myfilename*\".mat\"\n",
    "    # write file\n",
    "    matwrite(myfilename, Dict(\"args\"=>args, \"myseed\"=>myseed, \"pars\"=>pars, \"traj\"=>traj, \"cost\"=>cost, \"cpm_traj\"=>cpm_traj, \"nPro\"=>model_params[:nPro], \"nAnti\"=>model_params[:nAnti], \"sr\"=>sr, \"cb\"=>cb, \"theta1\"=>model_params[:theta1], \"theta2\"=>model_params[:theta2],\"value\"=>value,\"grad\"=>grad, \"hess\"=>hess, \"model_params\"=>ascii_key_ize(model_params), \"bbox\"=>ascii_key_ize(bbox), \"sbox\"=>ascii_key_ize(sbox), \"rule_and_delay_periods\"=>rule_and_delay_periods, \"post_target_periods\"=>post_target_periods, \"opto_scost\"=>opto_scost, \"opto_scost1\"=>opto_scost1, \"opto_scost2\"=>opto_scost2, \"opto_hitsP\"=>opto_hitsP, \"opto_hitsA\"=>opto_hitsA, \"opto_diffsP\"=>opto_diffsP, \"opto_diffsA\"=>opto_diffsA,\"test_sr\"=>test_sr,\"opto_bP\"=>opto_bP, \"opto_bA\"=>opto_bA, \"t_opto_scost\"=>t_opto_scost, \"t_opto_scost1\"=>t_opto_scost1, \"t_opto_scost2\"=>t_opto_scost2, \"t_opto_hitsP\"=>t_opto_hitsP, \"t_opto_hitsA\"=>t_opto_hitsA, \"t_opto_diffsP\"=>t_opto_diffsP, \"t_opto_diffsA\"=>t_opto_diffsA,\"t_opto_bP\"=>t_opto_bP, \"t_opto_bA\"=>t_opto_bA,\"dista\"=>dista  ))\n",
    "end\n",
    "end\n",
    "\n"
   ]
  },
  {
   "cell_type": "code",
   "execution_count": null,
   "metadata": {
    "collapsed": true
   },
   "outputs": [],
   "source": []
  },
  {
   "cell_type": "code",
   "execution_count": null,
   "metadata": {
    "collapsed": false,
    "scrolled": true
   },
   "outputs": [],
   "source": [
    "using HypothesisTests"
   ]
  },
  {
   "cell_type": "code",
   "execution_count": null,
   "metadata": {
    "collapsed": false
   },
   "outputs": [],
   "source": [
    "N = 20\n",
    "x = 1+0.2*randn(N,1); y = x - 0.05 + 0.1*randn(N,1);\n",
    "\n",
    "\n",
    "using PyPlot\n",
    "pygui(true)\n",
    "\n",
    "figure(1); clf();\n",
    "subplot(1,2,1)\n",
    "\n",
    "for i=1:N\n",
    "    plot([1, 2], [x[i], y[i]], \"b.-\")\n",
    "end\n",
    "\n",
    "p = pvalue(OneSampleTTest(x[:], y[:]))\n",
    "\n",
    "title(\"Paired t-test :  p<\" * @sprintf(\"%.4g\", p))\n",
    "\n",
    "\n",
    "subplot(1,2,2)\n",
    "plot(x-y, \"b.\")"
   ]
  },
  {
   "cell_type": "code",
   "execution_count": null,
   "metadata": {
    "collapsed": false
   },
   "outputs": [],
   "source": []
  },
  {
   "cell_type": "code",
   "execution_count": null,
   "metadata": {
    "collapsed": false
   },
   "outputs": [],
   "source": []
  },
  {
   "cell_type": "code",
   "execution_count": null,
   "metadata": {
    "collapsed": false
   },
   "outputs": [],
   "source": []
  },
  {
   "cell_type": "markdown",
   "metadata": {},
   "source": [
    "# Marino's model in Marino's parameter settings"
   ]
  },
  {
   "cell_type": "code",
   "execution_count": null,
   "metadata": {
    "collapsed": false
   },
   "outputs": [],
   "source": [
    "#@include_me  scaling_up_dt.jl\n",
    "\n",
    "# In its own cell so we can run it just once\n",
    "\n",
    "include(\"pro_anti.jl\")   # Loads all the necessary pre-requisites\n"
   ]
  },
  {
   "cell_type": "code",
   "execution_count": null,
   "metadata": {
    "collapsed": false
   },
   "outputs": [],
   "source": [
    "#@include_me  scaling_up_dt.jl\n",
    "\n",
    "model_params, F, nPro, nAnti = load_run(\"farm_LD0003\"; farmdir=\"goodfarms\")\n",
    "\n",
    "# mypars = merge(model_params, Dict(:post_target_periods=>0.05))\n",
    "\n",
    "cost, cost1s, cost2s, hP, hA, dP, dA, hBP, hBA, proValls, antiValls, opto_fraction, pro_input, anti_input = \n",
    "JJ(model_params[:nPro], model_params[:nAnti]; verbose=true, model_details=true, model_params...);\n",
    "\n",
    "\n",
    "epochs = [\"control\";\"full\";\"rule\";\"delay\";\"choice\"]\n",
    "titles  = [\"epochs\" \"hitP\" \"hitA\" \"diffP\" \"diffA\" \"hBP\" \"hBA\"]\n",
    "\n",
    "@printf(\"\\n\\n--- The original run:\\n\\n\")\n",
    "\n",
    "sleep(0.5)  # A pause just to make sure everything has printed out \n",
    "display([titles; epochs hP hA dP dA hBP hBA])\n"
   ]
  },
  {
   "cell_type": "code",
   "execution_count": null,
   "metadata": {
    "collapsed": false
   },
   "outputs": [],
   "source": [
    "#@include_me  scaling_up_dt.jl\n",
    "\n",
    "# Now scale things to make dt and tau are much larger, and involve 0.25 x the timesteps\n",
    "\n",
    "mypars = merge(model_params, Dict(:opto_times=>[0 0]))  # default is no opto\n",
    "\n",
    "mypars = merge(model_params, Dict(\n",
    ":dt=>0.024,\n",
    ":tau=>0.09,\n",
    ":rule_and_delay_period=>1.2,\n",
    ":target_period=>0.3,\n",
    ":post_target_period=>0.3,\n",
    ":anti_rule_strength=>0.054,\n",
    "# :post_target_period=>0.05, \n",
    "# :rule_and_delay_period=>0.8, \n",
    "# :opto_times=>[0 0],\n",
    "# :opto_times=>[\"target_start/2\" \"target_start\"],\n",
    "# :opto_times=>[\"target_start\", \"target_end\"],\n",
    ":opto_strength=>0.85,\n",
    "))# , :rule_and_delay_period=>0.8))\n",
    "\n",
    "\n",
    "mypars[:rule_and_delay_periods] = [mypars[:rule_and_delay_period]]\n",
    "mypars[:target_periods]         = [mypars[:target_period]]\n",
    "mypars[:post_target_periods]    = [mypars[:post_target_period]]\n",
    "\n",
    "mypars[:opto_periods] = [\n",
    "    \"trial_start\"     \"trial_start\"  ;\n",
    "    \"trial_start\"     \"trial_end\"    ; \n",
    "    \"trial_start\"     \"target_start/2\"  ;\n",
    "    \"target_start/2\"  \"target_start\"  ;\n",
    "    \"target_start\"    \"target_end\"\n",
    "];\n"
   ]
  },
  {
   "cell_type": "code",
   "execution_count": null,
   "metadata": {
    "collapsed": false
   },
   "outputs": [],
   "source": [
    "#@include_me  scaling_up_dt.jl\n",
    "\n",
    "# And run with these params.  \n",
    "\n",
    "# We run 1000 trials of Pro and ANti each, just to get a good estimate of probability correct in each condition\n",
    "\n",
    "mypars[:seedrand] = Int64(round(time()*1000))\n",
    "\n",
    "ntrials = 1000\n",
    "\n",
    "cost, cost1s, cost2s, hP, hA, dP, dA, hBP, hBA, proValls, antiValls, opto_fraction, pro_input, anti_input = \n",
    "JJ(ntrials, ntrials; verbose=true, model_details=true, mypars...);\n",
    "\n",
    "@printf(\"\\n\\n--- The hand-modified run at dt=0.024 at 4x fewer timesteps than the original:\\n\\n\")\n",
    "\n",
    "\n",
    "sleep(0.5)  # A pause just to make sure everything has printed out \n",
    "display([titles; epochs hP hA dP dA hBP hBA])\n"
   ]
  },
  {
   "cell_type": "code",
   "execution_count": null,
   "metadata": {
    "collapsed": false
   },
   "outputs": [],
   "source": [
    "#@include_me  scaling_up_dt.jl\n",
    "\n",
    "# Finally, display some trajectories:\n",
    "\n",
    "pygui(true)\n",
    "\n",
    "# This example is with opto during the delay\n",
    "\n",
    "mypars = merge(mypars, Dict(\n",
    "# :opto_times => [\"target_start/2\"    \"target_start\"],\n",
    ":opto_times => [0    0],\n",
    ":sigma=>0.01\n",
    "))\n",
    "\n",
    "\n",
    "proVs, antiVs, pro_fullV, anti_fullV, opto_fraction, pro_input, anti_input = run_ntrials(1000, 1000; \n",
    "    plot_list=[1:40;], profig=1, antifig=2, opto_units = 1:4, mypars...);\n",
    "\n",
    "Np = size(proVs,2); Na = size(antiVs,2)\n",
    "@printf(\"hBP = %g, hBA = %g\\n\", length(find(proVs[1,:] .>= proVs[4,:]))/Np, length(find(antiVs[4,:] .> antiVs[1,:]))/Na)\n",
    "\n",
    "@printf(\"\\n\\n\\n---\\n\\nmypars contains all the parameters for the new run with the scaled up dt, tau, etc.\\n\\n\")\n"
   ]
  },
  {
   "cell_type": "code",
   "execution_count": null,
   "metadata": {
    "collapsed": false
   },
   "outputs": [],
   "source": [
    "mypars[:dt]"
   ]
  },
  {
   "cell_type": "code",
   "execution_count": null,
   "metadata": {
    "collapsed": false
   },
   "outputs": [],
   "source": [
    "# Print out mypars in full\n",
    "@printf(\"\\n\\nmypars = Dict(\\n\")\n",
    "for (k,v) in mypars\n",
    "    @printf(\":%s => \", k); print(v); print(\",\\n\")\n",
    "end\n",
    "@printf(\")\\n\\n\")"
   ]
  },
  {
   "cell_type": "markdown",
   "metadata": {},
   "source": [
    "# Make a set of reduced nsteps params and run with them"
   ]
  },
  {
   "cell_type": "code",
   "execution_count": null,
   "metadata": {
    "collapsed": false
   },
   "outputs": [],
   "source": [
    "\n",
    "mypars = Dict(\n",
    ":init_add               =>          0,\n",
    ":const_add              =>          0,\n",
    ":noise                  =>          Any[],\n",
    ":input                  =>          0,\n",
    ":seedrand               =>          1510340076445,\n",
    ":start_anti             =>          [-0.5, -0.5, -0.5, -0.5],\n",
    ":start_pro              =>          [-0.5, -0.5, -0.5, -0.5],\n",
    ":rule_and_delay_period  =>          1.2,\n",
    ":rule_and_delay_periods =>          [1.2],\n",
    ":target_period          =>          0.3,\n",
    ":target_periods         =>          [0.3],\n",
    ":post_target_period     =>          0.3,\n",
    ":post_target_periods    =>          [0.3],\n",
    ":anti_rule_strength     =>          0.054,\n",
    ":U_rest                 =>          0,\n",
    ":theta                  =>          0.05,\n",
    ":beta                   =>          0.5,\n",
    ":g_leak                 =>          1,\n",
    ":nsteps                 =>          301,\n",
    ":dt                     =>          0.024,\n",
    ":tau                    =>          0.09,\n",
    ":right_light_excitation =>          0.49924152955481954,\n",
    ":opto_strength          =>          0.85,\n",
    ":opto_periods           =>          String[\n",
    "                                    \"trial_start\" \"trial_start\"; \n",
    "                                    \"trial_start\" \"trial_end\"; \n",
    "                                    \"trial_start\" \"target_start/2\"; \n",
    "                                    \"target_start/2\" \"target_start\"; \n",
    "                                    \"target_start\" \"target_end\"],\n",
    ":opto_targets          =>           [\n",
    "                                    0.9 0.7; \n",
    "                                    0.9 0.5; \n",
    "                                    0.9 0.7; \n",
    "                                    0.9 0.5; \n",
    "                                    0.9 0.7],\n",
    ":theta2 => 0.15,\n",
    ":theta1 => 0.05,\n",
    ":sigma => 0.01,\n",
    ":cbeta => 0.04,\n",
    ":sW => 0.6416875048295452,\n",
    ":hW => 0.054701836208134846,\n",
    ":dW => 0.1267124266934907,\n",
    ":vW => -1.588850577499782,\n",
    ":constant_excitation => -0.37242520737694207,\n",
    ":const_pro_bias => 0.04366897857834884,\n",
    ":target_period_excitation => 0.15315254453690974,\n",
    ":right_light_pro_extra => 0,\n",
    ":pro_rule_strength => 0.05,\n",
    ":nPro => 100,\n",
    ":nAnti => 100,\n",
    ")\n"
   ]
  },
  {
   "cell_type": "code",
   "execution_count": null,
   "metadata": {
    "collapsed": false
   },
   "outputs": [],
   "source": [
    "\n",
    "extra_pars = Dict(\n",
    ":plot_list        =>   [1:5;], \n",
    ":plot_conditions  =>   true,\n",
    ":verbose          =>   true,\n",
    ":opto_periods     =>   String[\"trial_start\" \"trial_start\"],\n",
    ":opto_targets     =>   [0.9,  0.7],\n",
    ":opto_times       =>   [\"trial_start\", \"trial_start\"],       # This one is for run_ntrials\n",
    ":seedrand         =>   Int64(round(time()*1000)),\n",
    ")\n",
    "\n",
    "\n",
    "# proVs, antiVs, pro_fullV, anti_fullV, opto_fraction, pro_input, anti_input = run_ntrials(1000, 1000; \n",
    "#    merge(mypars, extra_pars)...);\n",
    "\n",
    "\n",
    "JJ(mypars[:nPro], mypars[:nAnti]; merge(mypars, extra_pars)...)[1]\n"
   ]
  },
  {
   "cell_type": "code",
   "execution_count": null,
   "metadata": {
    "collapsed": false
   },
   "outputs": [],
   "source": [
    "extra_pars[:search_range] = 0.4\n",
    "extra_pars"
   ]
  },
  {
   "cell_type": "markdown",
   "metadata": {},
   "source": [
    "# Try a search : reduced_farm.jl\n",
    "\n",
    "`Temp/answers.jld`   contains the result of taking the result of scaling_up_dt.jl, and then optimizing it on control alone, with Pro target=0.9, Anti target = 0.7.  It optimizes very very well."
   ]
  },
  {
   "cell_type": "code",
   "execution_count": null,
   "metadata": {
    "collapsed": false
   },
   "outputs": [],
   "source": [
    "#@include_me reduced_farm.jl\n",
    "\n",
    "include(\"pro_anti.jl\")\n",
    "\n"
   ]
  },
  {
   "cell_type": "code",
   "execution_count": null,
   "metadata": {
    "collapsed": false
   },
   "outputs": [],
   "source": []
  },
  {
   "cell_type": "code",
   "execution_count": null,
   "metadata": {
    "collapsed": false
   },
   "outputs": [],
   "source": [
    "@load(\"FarmFields/farm_C3_0027.jld\")"
   ]
  },
  {
   "cell_type": "code",
   "execution_count": null,
   "metadata": {
    "collapsed": false
   },
   "outputs": [],
   "source": [
    "[args pars]"
   ]
  },
  {
   "cell_type": "code",
   "execution_count": null,
   "metadata": {
    "collapsed": false
   },
   "outputs": [],
   "source": [
    "mypars[:tau]"
   ]
  },
  {
   "cell_type": "code",
   "execution_count": null,
   "metadata": {
    "collapsed": false
   },
   "outputs": [],
   "source": [
    "#@include_me reduced_farm.jl\n",
    "\n",
    "\n",
    "mypars = Dict(\n",
    ":init_add               =>          0,\n",
    ":const_add              =>          0,\n",
    ":noise                  =>          Any[],\n",
    ":input                  =>          0,\n",
    ":start_anti             =>          [-0.5, -0.5, -0.5, -0.5],\n",
    ":start_pro              =>          [-0.5, -0.5, -0.5, -0.5],\n",
    ":rule_and_delay_period  =>          1.2,\n",
    ":rule_and_delay_periods =>          [1.2],\n",
    ":target_period          =>          0.3,\n",
    ":target_periods         =>          [0.3],\n",
    ":post_target_period     =>          0.3,\n",
    ":post_target_periods    =>          [0.3],\n",
    ":anti_rule_strength     =>          0.054,\n",
    ":U_rest                 =>          0,\n",
    ":theta                  =>          0.05,\n",
    ":beta                   =>          0.5,\n",
    ":g_leak                 =>          1,\n",
    ":nsteps                 =>          301,\n",
    ":dt                     =>          0.024,\n",
    ":tau                    =>          0.09,\n",
    ":right_light_excitation =>          0.49924152955481954,\n",
    ":opto_strength          =>          0.85,\n",
    ":opto_periods           =>          String[\n",
    "                                    \"trial_start\" \"trial_start\"; \n",
    "                                    \"trial_start\" \"trial_end\"; \n",
    "                                    \"trial_start\" \"target_start/2\"; \n",
    "                                    \"target_start/2\" \"target_start\"; \n",
    "                                    \"target_start\" \"target_end\"],\n",
    ":opto_targets          =>           [\n",
    "                                    0.9 0.7; \n",
    "                                    0.9 0.5; \n",
    "                                    0.9 0.7; \n",
    "                                    0.9 0.5; \n",
    "                                    0.9 0.7],\n",
    ":theta2 => 0.15,\n",
    ":theta1 => 0.05,\n",
    ":sigma => 0.01,\n",
    ":cbeta => 0.04,\n",
    ":sW => 0.6416875048295452,\n",
    ":hW => 0.054701836208134846,\n",
    ":dW => 0.1267124266934907,\n",
    ":vW => -1.588850577499782,\n",
    ":constant_excitation => -0.37242520737694207,\n",
    ":const_pro_bias => 0.04366897857834884,\n",
    ":target_period_excitation => 0.15315254453690974,\n",
    ":right_light_pro_extra => 0,\n",
    ":pro_rule_strength => 0.05,\n",
    ":nPro => 100,\n",
    ":nAnti => 100,\n",
    ")\n"
   ]
  },
  {
   "cell_type": "code",
   "execution_count": null,
   "metadata": {
    "collapsed": false
   },
   "outputs": [],
   "source": [
    "#@include_me  reduced_farm.jl\n",
    "\n",
    "\n",
    "extra_pars = Dict(\n",
    ":plot_list        =>   [], \n",
    ":plot_conditions  =>   true,\n",
    ":verbose          =>   true,\n",
    ":opto_periods     =>   String[\"trial_start\" \"trial_start-0.1\"],\n",
    ":opto_targets     =>   [0.9,  0.7],\n",
    ":opto_times       =>   [\"trial_start\", \"trial_start-0.1\"],       # This one is for run_ntrials\n",
    ":cbeta            =>   0.001,\n",
    ":search_range     =>   1.2,\n",
    ")\n",
    "\n",
    "\n",
    "search_conditions = Dict(   # :param    default_start   search_box  bound_box\n",
    ":vW     =>                   [mypars[:vW],                       [-0.5, 0.5],  [-3,   3]], \n",
    ":hW     =>                   [mypars[:hW],                       [-0.5, 0.5],  [-3,   3]],\n",
    ":dW     =>                   [mypars[:dW],                       [-0.5, 0.5],  [-3,   3]],\n",
    ":sW     =>                   [mypars[:sW],                       [0,    0.5],  [0,    3]],\n",
    ":sigma  =>                   [0.11,                              [0.1,  0.2],  [0.1, 0.4]],\n",
    ":constant_excitation      => [mypars[:constant_excitation],      [-1,     1],  [-2,   2]], \n",
    ":target_period_excitation => [mypars[:target_period_excitation], [0.001,0.5],  [0     4]],\n",
    ":right_light_excitation   => [mypars[:right_light_excitation],   [0.05, 0.5],  [0.05, 4]],\n",
    ":const_pro_bias           => [mypars[:const_pro_bias],           [-0.5, 0.5],  [-2,   2]],\n",
    "# :opto_strength            => [mypars[:opto_strength],            [0.7, 0.99],  [0,    1]],\n",
    ")\n",
    "\n",
    "\n"
   ]
  },
  {
   "cell_type": "markdown",
   "metadata": {},
   "source": [
    "### Loop for reduced_farm.jl"
   ]
  },
  {
   "cell_type": "code",
   "execution_count": null,
   "metadata": {
    "collapsed": false
   },
   "outputs": [],
   "source": [
    "#@include_me  reduced_farm.jl\n",
    "\n",
    "extra_pars[:seedrand] = Int64(round(time()*1000))\n",
    "srand(extra_pars[:seedrand])\n",
    "\n",
    "@printf(\"\\n\\n\\nStarting with random seed %d\\n\\n\\n\", extra_pars[:seedrand])\n",
    "\n",
    "search_range = extra_pars[:search_range]; \n",
    "\n",
    "fbasename = \"FarmFields/farm_C5_\"\n",
    "\n",
    "while true\n",
    "    args = []; seed = []; bbox = Dict()\n",
    "    for k in keys(search_conditions)\n",
    "        search_box = search_conditions[k][2]\n",
    "        args = [args; String(k)]\n",
    "        myseed = search_conditions[k][1] + search_range*(rand()-0.5)*diff(search_box); myseed = myseed[1]\n",
    "        if myseed > search_box[2]; myseed = search_box[2]; end\n",
    "        if myseed < search_box[1]; myseed = search_box[1]; end\n",
    "        seed = [seed ;  myseed]\n",
    "        # seed = [seed ; search_conditions[k][1]]\n",
    "        bbox = merge(bbox, Dict(k => Array{Float64}(search_conditions[k][3])))\n",
    "    end\n",
    "    args = Array{String}(args)\n",
    "    seed = Array{Float64}(seed)\n",
    "\n",
    "\n",
    "    # Make sure to keep the noise frozen over the search, meaning JJ() needs the seedrand parameter\n",
    "    func =  (;params...) -> JJ(mypars[:nPro], mypars[:nAnti]; verbose=true, \n",
    "        merge(merge(mypars, extra_pars), Dict(params))...)[1]\n",
    "\n",
    "    try\n",
    "        pars, traj, cost, cpm_traj, ftraj = bbox_Hessian_keyword_minimization(seed, args, bbox, func, \n",
    "            start_eta = 0.1, tol=1e-12, \n",
    "            verbose=true, verbose_every=1, maxiter=1000)\n",
    "\n",
    "\n",
    "        cost, cost1s, cost2s, hP, hA, dP, dA, hBP, hBA = JJ(1000, 1000; verbose=false, \n",
    "        make_dict(args, pars, merge(merge(mypars, extra_pars)))...)\n",
    "\n",
    "        myfilename = next_file(fbasename, 4)\n",
    "        myfilename = myfilename*\".jld\"\n",
    "        # write file\n",
    "        save(myfilename, Dict(\"nPro\"=>mypars[:nPro], \"nAnti\"=>mypars[:nAnti], \n",
    "        \"mypars\"=>mypars, \"extra_pars\"=>extra_pars, \"args\"=>args, \"seed\"=>seed, \"bbox\"=>bbox, \n",
    "        \"pars\"=>pars, \"traj\"=>traj, \"cost\"=>cost, \"cpm_traj\"=>cpm_traj, \"ftraj\"=>ftraj,\n",
    "        \"hP\"=>hP, \"hA\"=>hA, \"dP\"=>dP, \"dA\"=>dA, \"hBP\"=>hBP, \"hBA\"=>hBA))\n",
    "    catch y\n",
    "        if isa(y, InterruptException); throw(InterruptException()); end\n",
    "        @printf(\"\\n\\nWhoopsety, unkown error!\\n\\n\");\n",
    "        @printf(\"Error was :\\n\"); print(y); @printf(\"\\n\\nTrying new random seed.\\n\\n\")\n",
    "    end\n",
    "\n",
    "    # Change the frozen noise random seed so we don't get stuck in one loop    \n",
    "    extra_pars[:seedrand] = extra_pars[:seedrand]+1\n",
    "end"
   ]
  },
  {
   "cell_type": "code",
   "execution_count": null,
   "metadata": {
    "collapsed": false
   },
   "outputs": [],
   "source": []
  },
  {
   "cell_type": "code",
   "execution_count": null,
   "metadata": {
    "collapsed": false
   },
   "outputs": [],
   "source": [
    "effective_search_box = Dict()\n",
    "for k in keys(search_conditions)\n",
    "    search_box = search_conditions[k][2]\n",
    "    ebox = zeros(1,2)\n",
    "    ebox[1] = search_conditions[k][1] - 0.5*diff(search_box)[1]\n",
    "    ebox[2] = search_conditions[k][1] + 0.5*diff(search_box)[1]\n",
    "    effective_search_box[k] = ebox\n",
    "end\n",
    "\n",
    "effective_search_box"
   ]
  },
  {
   "cell_type": "code",
   "execution_count": null,
   "metadata": {
    "collapsed": true
   },
   "outputs": [],
   "source": []
  },
  {
   "cell_type": "code",
   "execution_count": null,
   "metadata": {
    "collapsed": false
   },
   "outputs": [],
   "source": []
  },
  {
   "cell_type": "markdown",
   "metadata": {
    "collapsed": false
   },
   "source": [
    "# Analyze a Marino goodfarm:"
   ]
  },
  {
   "cell_type": "code",
   "execution_count": null,
   "metadata": {
    "collapsed": false
   },
   "outputs": [],
   "source": [
    "include(\"pro_anti.jl\")"
   ]
  },
  {
   "cell_type": "code",
   "execution_count": null,
   "metadata": {
    "collapsed": false
   },
   "outputs": [],
   "source": [
    "hBP, hBA, d = show_run(\"farm_LA0001.mat\", 100; farmdir=\"goodfarms\", opto_times=[\"target_start-0.2\", \"target_start\"], \n",
    "const_pro_bias = 0.0, opto_strength = 0)"
   ]
  },
  {
   "cell_type": "code",
   "execution_count": null,
   "metadata": {
    "collapsed": false
   },
   "outputs": [],
   "source": [
    "model_params = symbol_key_ize(d[\"model_params\"])\n",
    "[d[\"args\"] d[\"pars\"]]"
   ]
  },
  {
   "cell_type": "code",
   "execution_count": null,
   "metadata": {
    "collapsed": true
   },
   "outputs": [],
   "source": [
    "show_run(\"farm_LD0053.mat\", 100; farmdir=\"goodfarms\", opto_times=[\"target_start-2\", \"target_end-2\"],\n",
    "    const_pro_bias=0.04745, rule_and_delay_period=0.4, right_light_excitation=0.4)\n"
   ]
  },
  {
   "cell_type": "code",
   "execution_count": null,
   "metadata": {
    "collapsed": false
   },
   "outputs": [],
   "source": [
    "model_params, F, nPro, nAnti = load_run(\"farm_LD0053.mat\"; farmdir=\"goodfarms\")"
   ]
  },
  {
   "cell_type": "code",
   "execution_count": null,
   "metadata": {
    "collapsed": false
   },
   "outputs": [],
   "source": [
    "[F[\"args\"] F[\"pars\"]]"
   ]
  },
  {
   "cell_type": "code",
   "execution_count": null,
   "metadata": {
    "collapsed": false
   },
   "outputs": [],
   "source": [
    "model_params[:opto_periods] = [\n",
    "    \"trial_start-0.1\"   \"trial_start-0.1\"; \n",
    "    \"trial_start\"       \"trial_end\" ; \n",
    "    \"trial_start\"       \"trial_start+0.2\" ; \n",
    "    \"target_start-0.2\"  \"target_start\"  ;\n",
    "    \"target_start\"      \"trial_end\"\n",
    "]\n",
    "\n",
    "model_params[:opto_targets]\n",
    "\n"
   ]
  },
  {
   "cell_type": "code",
   "execution_count": null,
   "metadata": {
    "collapsed": false
   },
   "outputs": [],
   "source": [
    "pygui(true)\n",
    "cost, cost1s, cost2s, hP, hA, dP, dA, hBP, hBA, proValls, antiValls = JJ(100, 100; plot_list=[1:10;], \n",
    "    plot_conditions=[false, false, false, true, false], verbose=true, model_details=true, model_params...);"
   ]
  },
  {
   "cell_type": "code",
   "execution_count": null,
   "metadata": {
    "collapsed": false
   },
   "outputs": [],
   "source": [
    "include(\"farm_plotting_carlos.jl\")"
   ]
  },
  {
   "cell_type": "code",
   "execution_count": null,
   "metadata": {
    "collapsed": false
   },
   "outputs": [],
   "source": []
  },
  {
   "cell_type": "code",
   "execution_count": null,
   "metadata": {
    "collapsed": false
   },
   "outputs": [],
   "source": [
    "show_run(\"farm_C3_0002.jld\")\n"
   ]
  },
  {
   "cell_type": "code",
   "execution_count": null,
   "metadata": {
    "collapsed": false
   },
   "outputs": [],
   "source": [
    "figure(1); subplot(3,1,1); title(@sprintf(\"%s: binarized Pro  hits = %.1f %%\\n\", run_name, 97.3))\n"
   ]
  },
  {
   "cell_type": "code",
   "execution_count": null,
   "metadata": {
    "collapsed": true
   },
   "outputs": [],
   "source": [
    "# @save \"Temp/answers.jld\" \n",
    "# @load \"Temp/answers.jld\""
   ]
  },
  {
   "cell_type": "code",
   "execution_count": null,
   "metadata": {
    "collapsed": false
   },
   "outputs": [],
   "source": [
    "@load \"Temp/answers3.jld\""
   ]
  },
  {
   "cell_type": "code",
   "execution_count": null,
   "metadata": {
    "collapsed": false
   },
   "outputs": [],
   "source": [
    "[args pars seed]"
   ]
  },
  {
   "cell_type": "code",
   "execution_count": null,
   "metadata": {
    "collapsed": false
   },
   "outputs": [],
   "source": [
    "pygui(true)\n",
    "figure(1); clf();\n",
    "\n",
    "delete!(extra_pars, :plot_list)\n",
    "delete!(extra_pars, :seedrand)\n",
    "\n",
    "more_pars = Dict(\n",
    "# :post_target_period => 0.25,\n",
    ":rule_and_delay_period => 2,\n",
    ")\n",
    "proVs, antiVs = run_ntrials(1000, 1000; plot_list=[1:10;], make_dict(args, pars, merge(merge(mypars, extra_pars), more_pars))...)[1:2]\n",
    "\n",
    "@printf(\"Binarized Pro hits = %.1f %%\\n\", 100*length(find(proVs[1,:] .> proVs[4,:]))/size(proVs,2))\n",
    "@printf(\"Binarized Anti hits = %.1f %%\\n\", 100*length(find(antiVs[4,:] .> antiVs[1,:]))/size(antiVs,2))"
   ]
  },
  {
   "cell_type": "code",
   "execution_count": null,
   "metadata": {
    "collapsed": false
   },
   "outputs": [],
   "source": []
  },
  {
   "cell_type": "code",
   "execution_count": null,
   "metadata": {
    "collapsed": false
   },
   "outputs": [],
   "source": [
    "search_conditions"
   ]
  },
  {
   "cell_type": "code",
   "execution_count": null,
   "metadata": {
    "collapsed": false
   },
   "outputs": [],
   "source": [
    "include(\"pro_anti.jl\")"
   ]
  },
  {
   "cell_type": "code",
   "execution_count": null,
   "metadata": {
    "collapsed": false
   },
   "outputs": [],
   "source": [
    "bbox[:dW]"
   ]
  },
  {
   "cell_type": "code",
   "execution_count": null,
   "metadata": {
    "collapsed": false
   },
   "outputs": [],
   "source": [
    "[1, [2,3], 4]\n"
   ]
  },
  {
   "cell_type": "code",
   "execution_count": null,
   "metadata": {
    "collapsed": false
   },
   "outputs": [],
   "source": []
  },
  {
   "cell_type": "code",
   "execution_count": null,
   "metadata": {
    "collapsed": false
   },
   "outputs": [],
   "source": [
    "#  size(proValls)  (4, 301, 100, 5)\n",
    "\n",
    "figure(3); clf(); N=40\n",
    "\n",
    "t = 0:size(proValls, 2)-1; t = model_params[:dt]*t\n",
    "\n",
    "figure(3); clf();\n",
    "for i=1:N \n",
    "    plot_PA(t, 0, proValls[:,:,i,1], fignum=3, plot_Us=false,\n",
    "    rule_and_delay_period=model_params[:rule_and_delay_period], target_period=model_params[:target_period],\n",
    "    post_target_period = model_params[:post_target_period])\n",
    "end\n",
    "\n",
    "figure(4); clf();\n",
    "for i=1:N \n",
    "    plot_PA(t, 0, antiValls[:,:,i,1], fignum=4, plot_Us=false,\n",
    "    rule_and_delay_period=model_params[:rule_and_delay_period], target_period=model_params[:target_period],\n",
    "    post_target_period = model_params[:post_target_period])\n",
    "end\n"
   ]
  },
  {
   "cell_type": "code",
   "execution_count": null,
   "metadata": {
    "collapsed": false
   },
   "outputs": [],
   "source": [
    "print(model_params)"
   ]
  },
  {
   "cell_type": "code",
   "execution_count": null,
   "metadata": {
    "collapsed": false
   },
   "outputs": [],
   "source": []
  },
  {
   "cell_type": "code",
   "execution_count": null,
   "metadata": {
    "collapsed": false
   },
   "outputs": [],
   "source": []
  },
  {
   "cell_type": "code",
   "execution_count": null,
   "metadata": {
    "collapsed": false
   },
   "outputs": [],
   "source": [
    "# Define core model parameters\n",
    "model_params = Dict(\n",
    ":dt     =>  0.002, \n",
    ":tau    =>  0.02, \n",
    ":vW     =>  -1.58,\n",
    ":hW     =>  -0.05,\n",
    ":sW     =>  0,\n",
    ":dW     =>  0,\n",
    ":nsteps =>  301, \n",
    ":noise  =>  [], \n",
    ":sigma  =>  0.08, \n",
    ":input  =>  0, \n",
    ":g_leak =>  1, \n",
    ":U_rest =>  0,\n",
    ":theta  =>  0.05, \n",
    ":beta   =>  0.5, \n",
    ":constant_excitation      => 0, \n",
    ":anti_rule_strength       => 0.05,\n",
    ":pro_rule_strength        => 0.05, \n",
    ":target_period_excitation => 0,\n",
    ":right_light_excitation   => 0.6, \n",
    ":right_light_pro_extra    => 0,\n",
    ":const_add                => 0, \n",
    ":init_add                 => 0, \n",
    ":rule_and_delay_period    => 0.2,\n",
    ":target_period            => 0.1,\n",
    ":post_target_period       => 0.1,\n",
    ":const_pro_bias           => 0.0427,\n",
    ":nPro                     => 100,\n",
    ":nAnti                    => 100,\n",
    ":theta1                   => 0.05,\n",
    ":theta2                   => 0.15,\n",
    ":opto_strength  => .9,\n",
    ":opto_periods   => [\n",
    "    0               0 ; \n",
    "    0              \"trial_end\" ;\n",
    "    \"target_start/2\"  \"target_start\";\n",
    "    \"target_start\"    \"target_end\"],  \n",
    "# set of opto conditions, in seconds, with 0 the start \n",
    "# of the trial (i.e. start of rule_and_delay_period), anything before 0 or after end of trial gets ignored.\n",
    "#:opto_targets   => [.75 .73;.77 .58;.75 .74;.72 .66;.73 .75] \n",
    ":opto_targets => [\n",
    "    .9      .7; \n",
    "    .9      .5; \n",
    "    .9      .55; \n",
    "    .9      .7;\n",
    "    ],  # first column is frachit Pro, next column is Anti, rows are conditions\n",
    "# The \"conditions\" correspond to the rows of opto_periods.\n",
    ");\n",
    "\n",
    "\n",
    "# ======= ARGUMENTS AND SEED VALUES:\n",
    "args = [\"sW\", \"vW\", \"hW\", \"dW\", \"constant_excitation\", \"right_light_excitation\", \"target_period_excitation\"]\n",
    "seed = [0.001,  -1.58,   -0.05,  0.001,    0.001,                0.6,                       0.001]   \n",
    "args = [args ; [\"const_pro_bias\", \"sigma\",\"opto_strength\", \"pro_rule_strength\", \"anti_rule_strength\"]];\n",
    "seed = [seed ; [  0.0427,            .05,      .9,              0.05,                0.05]];\n",
    "\n",
    "# ======= BOUNDING BOX:\n",
    "bbox = Dict(:sW=>[0 3], :vW=>[-3 3], :hW=>[-3 3], :dW=>[-3 3], :constant_excitation=>[-2 2],\n",
    ":right_light_excitation=>[0.05 4], :target_period_excitation=>[0 4], :const_pro_bias=>[-2 2],\n",
    ":sigma=>[0.01 0.2],:opto_strength=>[0 1]);\n",
    "\n",
    "# ======== SEARCH ZONE:\n",
    "sbox = Dict(:sW=>[0 .5], :vW=>[-.5 .5], :hW=>[-.5 .5], :dW=>[-.5 .5],\n",
    ":constant_excitation=>[-.5 .5], :right_light_excitation=>[0.05 .5], :target_period_excitation=>[0.001 .5],:const_pro_bias=>[-.5 .5], :sigma=>[0.02 0.19],:opto_strength=>[.7 .99]);\n",
    "\n",
    "# define a few hyper parameters\n",
    "cbetas = [0.04];\n",
    "rule_and_delay_periods = [0.2];\n",
    "post_target_periods    = [0.1];\n",
    "num_eval_runs           = 100;\n",
    "num_optimize_iter       = 2000;\n",
    "num_optimize_restarts   = 1;\n",
    "\n",
    "\n",
    "cb = 0.04\n",
    "\n",
    "# figure out initial seed for random number generator\n",
    "sr = convert(Int64, round(time()))\n",
    "srand(sr);\n",
    "\n",
    "mypars = merge(model_params, Dict(:opto_times => [\"target_start\", \"target_end\"], :rule_and_delay_period=>0.2,\n",
    ":anti_rule_strength=>0.06))\n",
    "# mypars = merge(model_params, Dict(:opto_times => [0 0], :rule_and_delay_period=>0.1,\n",
    "# :anti_rule_strength=>0.06))\n",
    "pygui(true)\n",
    "proVs, antiVs, pro_fullV, anti_fullV, opto_fraction, pro_input, anti_input = run_ntrials(15, 15; \n",
    "plot_list=[1:15;], profig=1, antifig=2, opto_units = 1:4, mypars...)\n",
    "\n",
    "# define opto function with just value output\n",
    "func =  (;params...) -> JJ(model_params[:nPro], model_params[:nAnti]; \n",
    "    rule_and_delay_periods=rule_and_delay_periods, theta1=model_params[:theta1], theta2=model_params[:theta2], \n",
    "    post_target_periods=post_target_periods, seedrand=sr, cbeta=cb, verbose=true, \n",
    "    merge(mypars, Dict(params))...)[1]\n",
    "\n",
    "\n",
    "# cost, cost1s, cost2s, hP, hA, dP, dA, hBP, hBA = JJ(model_params[:nPro], model_params[:nAnti]; \n",
    "#     rule_and_delay_periods=rule_and_delay_periods, theta1=model_params[:theta1], theta2=model_params[:theta2], \n",
    "#     post_target_periods=post_target_periods, seedrand=sr, cbeta=cb, verbose=true, model_params...)\n",
    "    "
   ]
  },
  {
   "cell_type": "code",
   "execution_count": null,
   "metadata": {
    "collapsed": false
   },
   "outputs": [],
   "source": [
    "@printf(\"Going with seed = \"); print_vector_g(seed); print(\"\\n\")\n",
    "pars, traj, cost, cpm_traj, ftraj = bbox_Hessian_keyword_minimization(seed, args, bbox, func, \n",
    "    start_eta = 1, tol=1e-12, verbose=true, verbose_every=1, maxiter=num_optimize_iter)\n",
    "@printf(\"Came out with cost %g and pars = \", cost); print_vector_g(pars); print(\"\\n\\n\")\n"
   ]
  },
  {
   "cell_type": "code",
   "execution_count": null,
   "metadata": {
    "collapsed": true
   },
   "outputs": [],
   "source": []
  },
  {
   "cell_type": "code",
   "execution_count": null,
   "metadata": {
    "collapsed": true
   },
   "outputs": [],
   "source": []
  },
  {
   "cell_type": "code",
   "execution_count": null,
   "metadata": {
    "collapsed": true
   },
   "outputs": [],
   "source": []
  },
  {
   "cell_type": "code",
   "execution_count": null,
   "metadata": {
    "collapsed": true
   },
   "outputs": [],
   "source": [
    "# run optimization with all parameters\n",
    "@printf(\"Going with seed = \"); print_vector_g(seed); print(\"\\n\")\n",
    "pars, traj, cost, cpm_traj, ftraj = bbox_Hessian_keyword_minimization(seed, args, bbox, func, \n",
    "    start_eta = 1, tol=1e-12, verbose=true, verbose_every=1, maxiter=num_optimize_iter)\n",
    "@printf(\"Came out with cost %g and pars = \", cost); print_vector_g(pars); print(\"\\n\\n\")\n",
    "\n",
    "    # get gradient and hessian at end of optimization \n",
    "    value, grad, hess = keyword_vgh(func, args, pars)\n",
    "\n",
    "    # define function with all outputs, evaluate on training noise\n",
    "    t_standard_func =  (;params...) -> JJ_opto(model_params[:nPro], model_params[:nAnti]; rule_and_delay_periods=rule_and_delay_periods, theta1=model_params[:theta1], theta2=model_params[:theta2], post_target_periods=post_target_periods, seedrand=sr, cbeta=cb, verbose=false, merge(model_params, Dict(params))...)\n",
    "\n",
    "    # run opto model with all outputs, evaluate on training noise\n",
    "    t_opto_scost, t_opto_scost1, t_opto_scost2, t_opto_hitsP,t_opto_hitsA, t_opto_diffsP, t_opto_diffsA, t_opto_bP, t_opto_bA = t_standard_func(;make_dict(args, pars, model_params)...)\n",
    "    \n",
    "   ## evaluate for long form info\n",
    "    # reset random number generator for testing purposes\n",
    "    test_sr = convert(Int64, round(time()))\n",
    "    srand(test_sr); \n",
    "\n",
    "    # define function with all outputs, evaluate on test noise\n",
    "    standard_func =  (;params...) -> JJ_opto(num_eval_runs, num_eval_runs; rule_and_delay_periods=rule_and_delay_periods, theta1=model_params[:theta1], theta2=model_params[:theta2], post_target_periods=post_target_periods, seedrand=test_sr, cbeta=cb, verbose=false, merge(model_params, Dict(params))...)\n",
    "\n",
    "    # run opto model with all outputs, evaluate on test noise\n",
    "    opto_scost, opto_scost1, opto_scost2, opto_hitsP,opto_hitsA, opto_diffsP, opto_diffsA, opto_bP, opto_bA = standard_func(;make_dict(args, pars, model_params)...)\n",
    "\n",
    "    # define non-opto model with all outputs, to check opto model, evaluate on test noise\n",
    "    standard_func =  (;params...) -> JJ(num_eval_runs, num_eval_runs; rule_and_delay_periods=rule_and_delay_periods, theta1=model_params[:theta1], theta2=model_params[:theta2], post_target_periods=post_target_periods, seedrand=test_sr, cbeta=cb, verbose=false, merge(model_params, Dict(params))...)\n",
    "\n",
    "    # run non-opto model with all outputs, evaluate on test noise\n",
    "    scost, scost1, scost2, hitsP,hitsA, diffsP, diffsA = standard_func(;make_dict(args, pars, model_params)...)\n",
    " \n",
    "   ## Save this run out to a file\n",
    "    # get filename\n",
    "    myfilename = next_file(fbasename, 4)\n",
    "    myfilename = myfilename*\".mat\"\n",
    "    # write file\n",
    "    matwrite(myfilename, Dict(\"args\"=>args, \"myseed\"=>myseed, \"dista\"=>dista, \"pars\"=>pars, \"traj\"=>traj, \"cost\"=>cost, \"cpm_traj\"=>cpm_traj, \"nPro\"=>model_params[:nPro], \"nAnti\"=>model_params[:nAnti], \"sr\"=>sr, \"cb\"=>cb, \"theta1\"=>model_params[:theta1], \"theta2\"=>model_params[:theta2],\"value\"=>value,\"grad\"=>grad, \"hess\"=>hess, \"scost\"=>scost, \"scost1\"=>scost1, \"scost2\"=>scost2, \"hitsP\"=>hitsP,\"hitsA\"=>hitsA, \"diffsP\"=>diffsP, \"diffsA\"=>diffsA, \"model_params\"=>ascii_key_ize(model_params), \"bbox\"=>ascii_key_ize(bbox), \"sbox\"=>ascii_key_ize(sbox), \"rule_and_delay_periods\"=>rule_and_delay_periods, \"post_target_periods\"=>post_target_periods, \"opto_scost\"=>opto_scost, \"opto_scost1\"=>opto_scost1, \"opto_scost2\"=>opto_scost2, \"opto_hitsP\"=>opto_hitsP, \"opto_hitsA\"=>opto_hitsA, \"opto_diffsP\"=>opto_diffsP, \"opto_diffsA\"=>opto_diffsA,\"test_sr\"=>test_sr,\"opto_bP\"=>opto_bP, \"opto_bA\"=>opto_bA, \"t_opto_scost\"=>t_opto_scost, \"t_opto_scost1\"=>t_opto_scost1, \"t_opto_scost2\"=>t_opto_scost2, \"t_opto_hitsP\"=>t_opto_hitsP, \"t_opto_hitsA\"=>t_opto_hitsA, \"t_opto_diffsP\"=>t_opto_diffsP, \"t_opto_diffsA\"=>t_opto_diffsA,\"t_opto_bP\"=>t_opto_bP, \"t_opto_bA\"=>t_opto_bA  ))\n",
    "end\n",
    "end"
   ]
  }
 ],
 "metadata": {
  "kernelspec": {
   "display_name": "Julia 0.6.0",
   "language": "julia",
   "name": "julia-0.6"
  },
  "language_info": {
   "file_extension": ".jl",
   "mimetype": "application/julia",
   "name": "julia",
   "version": "0.6.0"
  }
 },
 "nbformat": 4,
 "nbformat_minor": 0
}
