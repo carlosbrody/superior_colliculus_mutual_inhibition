{
 "cells": [
  {
   "cell_type": "markdown",
   "metadata": {},
   "source": [
    "<h1 id=\"tocheading\">TABLE OF CONTENTS</h1>\n",
    "<div id=\"toc\"></div>\n",
    "\n",
    "**Updates to the table of contents are periodic, but run the cell below to first start or force an update.**"
   ]
  },
  {
   "cell_type": "code",
   "execution_count": null,
   "metadata": {
    "collapsed": false
   },
   "outputs": [],
   "source": [
    "macro javascript_str(s) display(\"text/javascript\", s); end\n",
    "\n",
    "javascript\"\"\"\n",
    "$.getScript('make_table_of_contents.js')\n",
    "\"\"\""
   ]
  },
  {
   "cell_type": "markdown",
   "metadata": {},
   "source": [
    "# New cost function -- double_search.jl"
   ]
  },
  {
   "cell_type": "code",
   "execution_count": 2,
   "metadata": {
    "collapsed": false
   },
   "outputs": [
    {
     "name": "stderr",
     "output_type": "stream",
     "text": [
      "\u001b[1m\u001b[33mWARNING: \u001b[39m\u001b[22m\u001b[33mreplacing docs for 'remove_xtick_labels :: Union{Tuple{Any}, Tuple{}}' in module 'Main'.\u001b[39m\n",
      "\u001b[1m\u001b[33mWARNING: \u001b[39m\u001b[22m\u001b[33mreplacing docs for 'print_vector :: Tuple{Any}' in module 'Main'.\u001b[39m\n",
      "\u001b[1m\u001b[33mWARNING: \u001b[39m\u001b[22m\u001b[33mreplacing docs for 'print_vector_g :: Tuple{Any}' in module 'Main'.\u001b[39m\n",
      "\u001b[1m\u001b[33mWARNING: \u001b[39m\u001b[22m\u001b[33mreplacing docs for 'two_level_copy :: Tuple{Any}' in module 'Main'.\u001b[39m\n",
      "\u001b[1m\u001b[33mWARNING: \u001b[39m\u001b[22m\u001b[33mreplacing docs for 'next_file :: Tuple{Any,Any}' in module 'Main'.\u001b[39m\n",
      "\u001b[1m\u001b[33mWARNING: \u001b[39m\u001b[22m\u001b[33mreplacing docs for 'ascii_key_ize :: Tuple{Any}' in module 'Main'.\u001b[39m\n",
      "\u001b[1m\u001b[33mWARNING: \u001b[39m\u001b[22m\u001b[33mreplacing docs for 'symbol_key_ize :: Tuple{Any}' in module 'Main'.\u001b[39m\n",
      "\u001b[1m\u001b[33mWARNING: \u001b[39m\u001b[22m\u001b[33mreplacing docs for 'vectorize_dict :: Tuple{Any,Any}' in module 'Main'.\u001b[39m\n",
      "\u001b[1m\u001b[33mWARNING: \u001b[39m\u001b[22m\u001b[33mreplacing docs for 'make_dict :: Union{Tuple{Any,Any,Any}, Tuple{Any,Any}}' in module 'Main'.\u001b[39m\n",
      "\u001b[1m\u001b[33mWARNING: \u001b[39m\u001b[22m\u001b[33mreplacing docs for 'FDversion :: Tuple{}' in module 'Main'.\u001b[39m\n",
      "\u001b[1m\u001b[33mWARNING: \u001b[39m\u001b[22m\u001b[33mreplacing docs for 'get_eltype :: Tuple{Any}' in module 'Main'.\u001b[39m\n",
      "\u001b[1m\u001b[33mWARNING: \u001b[39m\u001b[22m\u001b[33mreplacing docs for 'get_value :: Tuple{Any}' in module 'Main'.\u001b[39m\n",
      "\u001b[1m\u001b[33mWARNING: \u001b[39m\u001b[22m\u001b[33mreplacing docs for 'vgh :: Tuple{Any,Any}' in module 'Main'.\u001b[39m\n",
      "\u001b[1m\u001b[33mWARNING: \u001b[39m\u001b[22m\u001b[33mreplacing docs for 'keyword_vgh :: Tuple{Any,Any,Any}' in module 'Main'.\u001b[39m\n",
      "\u001b[1m\u001b[33mWARNING: \u001b[39m\u001b[22m\u001b[33mreplacing docs for 'one_d_minimizer :: Tuple{Any,Any}' in module 'Main'.\u001b[39m\n",
      "\u001b[1m\u001b[33mWARNING: \u001b[39m\u001b[22m\u001b[33mreplacing docs for 'constrained_parabolic_minimization :: Tuple{Any,Any,Any}' in module 'Main'.\u001b[39m\n",
      "\u001b[1m\u001b[33mWARNING: \u001b[39m\u001b[22m\u001b[33mreplacing docs for 'wallwrap :: Tuple{Any,Any}' in module 'Main'.\u001b[39m\n",
      "\u001b[1m\u001b[33mWARNING: \u001b[39m\u001b[22m\u001b[33mreplacing docs for 'vector_wrap :: Tuple{Any,Any,Any}' in module 'Main'.\u001b[39m\n",
      "\u001b[1m\u001b[33mWARNING: \u001b[39m\u001b[22m\u001b[33mreplacing docs for 'inverse_wall :: Tuple{Any,Any,Any}' in module 'Main'.\u001b[39m\n",
      "\u001b[1m\u001b[33mWARNING: \u001b[39m\u001b[22m\u001b[33mreplacing docs for 'inverse_wall :: Tuple{Any,Any}' in module 'Main'.\u001b[39m\n",
      "\u001b[1m\u001b[33mWARNING: \u001b[39m\u001b[22m\u001b[33mreplacing docs for 'adaptive_gradient_minimization :: Tuple{Any,Any}' in module 'Main'.\u001b[39m\n",
      "\u001b[1m\u001b[33mWARNING: \u001b[39m\u001b[22m\u001b[33mreplacing docs for 'trust_region_Hessian_minimization :: Tuple{Any,Any}' in module 'Main'.\u001b[39m\n",
      "\u001b[1m\u001b[33mWARNING: \u001b[39m\u001b[22m\u001b[33mreplacing docs for 'bbox_Hessian_keyword_minimization :: NTuple{4,Any}' in module 'Main'.\u001b[39m\n",
      "\u001b[1m\u001b[33mWARNING: \u001b[39m\u001b[22m\u001b[33mreplacing docs for 'forwardModel :: Tuple{Any}' in module 'Main'.\u001b[39m\n",
      "\u001b[1m\u001b[33mWARNING: \u001b[39m\u001b[22m\u001b[33mreplacing docs for 'backwardsModel :: Tuple{Any}' in module 'Main'.\u001b[39m\n",
      "\u001b[1m\u001b[33mWARNING: \u001b[39m\u001b[22m\u001b[33mreplacing docs for 'plot_PA :: Tuple{Any,Any,Any}' in module 'Main'.\u001b[39m\n",
      "\u001b[1m\u001b[33mWARNING: \u001b[39m\u001b[22m\u001b[33mreplacing docs for 'parse_opto_times :: Tuple{Any,Any}' in module 'Main'.\u001b[39m\n",
      "\u001b[1m\u001b[33mWARNING: \u001b[39m\u001b[22m\u001b[33mreplacing docs for 'make_input :: Tuple{Any}' in module 'Main'.\u001b[39m\n",
      "\u001b[1m\u001b[33mWARNING: \u001b[39m\u001b[22m\u001b[33mreplacing docs for 'run_ntrials :: Tuple{Any,Any}' in module 'Main'.\u001b[39m\n",
      "\u001b[1m\u001b[33mWARNING: \u001b[39m\u001b[22m\u001b[33mreplacing docs for 'JJ :: Tuple{Any,Any}' in module 'Main'.\u001b[39m\n",
      "\u001b[1m\u001b[33mWARNING: \u001b[39m\u001b[22m\u001b[33mreplacing docs for 'load_run :: Tuple{Any}' in module 'Main'.\u001b[39m\n"
     ]
    }
   ],
   "source": [
    "#@include_me double_search.jl\n",
    "\n",
    "README_TOP = \"\"\"\n",
    "\n",
    "File to try a non-opto regular search; if that doesn't work, try first using few trials\n",
    "and a target V[1]-V[4] using new_J() to find seed params; and then try again from there.\n",
    "\n",
    "\"\"\"\n",
    "\n",
    "include(\"pro_anti.jl\")"
   ]
  },
  {
   "cell_type": "code",
   "execution_count": 3,
   "metadata": {
    "collapsed": false
   },
   "outputs": [
    {
     "data": {
      "text/plain": [
       "new_J"
      ]
     },
     "execution_count": 3,
     "metadata": {},
     "output_type": "execute_result"
    }
   ],
   "source": [
    "#@include_me double_search.jl\n",
    "\n",
    "\"\"\"\n",
    "cost, costf, dP, dA, hBP, hBA, proValls, antiValls = \n",
    "    new_J(nPro, nAnti; pro_target_diff=0.1, anti_target_diff=0.1, \n",
    "    opto_conditions = Array{Any}(0,4), plot_condition = 0,\n",
    "    verbose=false, pre_string=\"\", seedrand=NaN, \n",
    "    rule_and_delay_periods = nothing, target_periods = nothing, post_target_periods = nothing,\n",
    "    plot_list = [], model_params...)\n",
    "\n",
    "Runs a proAnti network, with a cost that simply asks for a certain fixed, signed, difference\n",
    "between the Pro units on Pro trials and another fixed, signed, difference between Anti units.\n",
    "Note that there is nothing about per cent correct here! E.g., 100% of Pro trials have the same target.\n",
    "Like JJ(), this function can, if desired, run across multiple opto conditions and multiple period \n",
    "durations and returns resulting total cost.\n",
    "\n",
    "(The motivation is to use a search on this new_J() to seed starting param values for the full JJ().)\n",
    "\n",
    "If rule_and_delay_periods, target_periods, and post_target_periods are not passed, it tries to get them from \n",
    "their singular (not plural) versions in model_params, e.g., model_params[:rule_and_delay_period]. NOTE that this\n",
    "is not what JJ() does for target_period.\n",
    "\n",
    "# PARAMETERS:\n",
    "\n",
    "- nPro, nAnti    The number of Pro and the number of Anti trials to run\n",
    "\n",
    "- pro_target     The target V[1] - V[4] for Pro trials.\n",
    "\n",
    "- anti_target    The target V[4] - V[1] for Anti trials\n",
    "\n",
    "- opto_conditions    Each row is the [start_time, end_time, pro_target, anti_target] for an opto condition. \n",
    "                The first two columns follow the rules of `parse_opto_times()`: they can be arbitrary Julia \n",
    "                expressions involving the terms trial_start, target_start, target_end, and trial_end.\n",
    "\n",
    "- plot_condition   If non-zero, should be an integer in the range of the rows of opto_conditions, and\n",
    "                indicates which condition to plot.  A zero means don't plot any of them.\n",
    "\n",
    "- seedrand      If sets, calls srand() on the value to initialize the random number generator.\n",
    "\n",
    "- verbose       If true, prints out diagnostic information to the console.\n",
    "\n",
    "- pre_string    Relevant only under verbose=true, a string that gets printed out before the rest of the verbose info.\n",
    "\n",
    "- rule_and_delay_periods    Vector, indicating set of rule_and_delay_period lengths to iterate over, \n",
    "                            while testing set of opto_periods, etc. on each one. \n",
    "                            Deafult is to do a single one, as picked out from model_params[:rule_and_delay_period]\n",
    "\n",
    "- target_periods            Vector, indicating set of target_perdiod lengths to iterate over, \n",
    "                            while testing set of opto_periods, etc. on each one.\n",
    "                            ** DEFAULT IS TO USE 0.1**, not to pick it out from model_params\n",
    "\n",
    "- post_target_periods       Vector, indicating set of post_target_period lengths to iterate over, \n",
    "                            while testing set of opto_periods, etc. on each one. \n",
    "                            Deafult is to do a single one, as picked out from model_params[:post_target_period]\n",
    " \n",
    "- plot_list                 A list of trial numbers to plot in each condition, e.g.  [1:10;]\n",
    "\n",
    "- model_params              Any remaining keyword-value params are passed as is on to run_ntrials \n",
    "\n",
    "\n",
    ", get_value(costf), get_value(dP), get_value(dA), get_value(hBP), get_value(hBA), \n",
    "        get_value(proValls), get_value(antiValls)\n",
    "\n",
    "# RETURNS:\n",
    "\n",
    "- cost   The net cost, composed of squared error cost (promoting signed V[1]-V[4] differences close to the desired ones).\n",
    "\n",
    "- costf  A matrix, with cost for each opto x period_length condition\n",
    "\n",
    "- dP     squared error cost, mean of (V[1]-V[4] - pro_target)^2 on Pro trials\n",
    "    \n",
    "- dA     squared error cost, mean of (V[4]-V[1] - anti_target)^2  on Anti trials\n",
    "    \n",
    "- hBP    Pro binarized hits, as computed by binarizing (equivalent to theta1->0)\n",
    "    \n",
    "- hBA    Anti binarized hits\n",
    "\n",
    "- proValls   record of full V as a function of time for Pro trials\n",
    "\n",
    "- antiValls  record of full V as a function of time for Anti trials\n",
    "\n",
    "\n",
    "\"\"\"\n",
    "\n",
    "function new_J(nPro, nAnti; pro_target_diff=0.1, anti_target_diff=0.1, \n",
    "    opto_conditions = Array{Any}(0,4), plot_condition = 0,\n",
    "    verbose=false, pre_string=\"\", seedrand=NaN, \n",
    "    rule_and_delay_periods = nothing, target_periods = nothing, post_target_periods = nothing,\n",
    "    plot_list = [], model_params...)\n",
    "\n",
    "    if FDversion() < 0.6\n",
    "        error(\"Sorry, new_J() runs only on Julia 0.6 or higher\")\n",
    "    end\n",
    "    \n",
    "\n",
    "    # All the variables that we MIGHT choose to differentiate w.r.t. go into this bag -- further down\n",
    "    # we'll use get_eltype(varbag) to check for any of them being ForwardDiff.Dual.\n",
    "    # That is how we'll tell whether new matrices should be regular numbers of ForwardDiff.Dual's.\n",
    "    # *** if you add a new variable you'll want to differentiate w.r.t., it should be added here too ***\n",
    "    varbag = (pro_target_diff, anti_target_diff, opto_conditions, model_params)\n",
    "    # print(\"get_eltype(varbag)=\"); print(get_eltype(varbag)); print(\"\\n\")\n",
    "    \n",
    "    # If the plurals of the periods are not passed in, then use the singular in model_params as the default:\n",
    "    if rule_and_delay_periods==nothing\n",
    "        rule_and_delay_periods = model_params[:rule_and_delay_period]\n",
    "    end\n",
    "    if target_periods==nothing        \n",
    "        target_periods = model_params[:target_period]\n",
    "    end\n",
    "    if post_target_periods==nothing\n",
    "         post_target_periods = model_params[:post_target_period]\n",
    "    end\n",
    "    \n",
    "    if size(opto_conditions,1)==0  # if there's no opto that is being asked for\n",
    "        # Then run with only a single opto_period request, with no opto, and control targets as our targets\n",
    "        opto_conditions = [\"trial_start-1\" \"trial_start-1\" pro_target_diff anti_target_diff]\n",
    "    end\n",
    "    \n",
    "    if size(opto_conditions,2) != 4\n",
    "        try\n",
    "            # Make sure its rows are 4 cols\n",
    "            opto_conditions = reshape(opto_conditions, Int64(round(length(opto_periods)/4)), 4) \n",
    "        catch\n",
    "            error(\"Something is wrong with opto_periods -- it should have 4 columns\")\n",
    "        end\n",
    "    end\n",
    "    \n",
    "    noptos     = size(opto_conditions,1)  # of opto conditions\n",
    "    nruns_each = length(rule_and_delay_periods)*length(target_periods)*length(post_target_periods)    # runs per opto condition\n",
    "    nruns      = nruns_each*noptos  # total conditions\n",
    "\n",
    "    costf = zeros(get_eltype(varbag), noptos, nruns)\n",
    "    \n",
    "    dP  = zeros(noptos, nruns_each);   # Pro  diffs\n",
    "    dA  = zeros(noptos, nruns_each);   # Anti diffs\n",
    "    hBP = zeros(noptos, nruns_each);   # Pro binarized hits\n",
    "    hBA = zeros(noptos, nruns_each);   # Anti binarized hits\n",
    "\n",
    "    proValls         = [];\n",
    "    antiValls        = [];\n",
    "    opto_fraction    = [];\n",
    "    pro_input        = [];\n",
    "    anti_input       = [];\n",
    "    \n",
    "    for nopto=1:noptos # iterate over each opto inactivation period\n",
    "        # @printf(\"size(hBP) is %d, %d\\n\", size(hBP,1), size(hBP,2))\n",
    "\n",
    "        # reset random number generator for each opto period, so it cant over fit noise samples\n",
    "        if ~isnan(seedrand); srand(seedrand); end\n",
    "\n",
    "        n = 0  # n is a counter over all period duration conditions\n",
    "        totHitsP = totHitsA = totDiffsP = totDiffsA = 0\n",
    "        for i in rule_and_delay_periods\n",
    "            for j in target_periods\n",
    "                for k = post_target_periods\n",
    "                    n += 1\n",
    "\n",
    "                    # include this opto inactivation in the parameters to pass on\n",
    "                    my_params = make_dict([\"rule_and_delay_period\",\"target_period\",\"post_target_period\"], [i,j,k])\n",
    "                    my_params = make_dict([\"opto_times\"], [reshape(opto_conditions[nopto,1:2], 1, 2)], my_params)\n",
    "                    my_params = merge(Dict(model_params), my_params)  # my_params takes precedence\n",
    "\n",
    "                    my_plot_list = []\n",
    "                    if plot_condition == nopto; my_plot_list = plot_list; else myplot_list=[]; end\n",
    "\n",
    "                    # print(\"model params is \" ); print(model_params); print(\"\\n\")\n",
    "                    proVs, antiVs, proVall, antiVall, opto_fraction,pro_input,anti_input =\n",
    "                        run_ntrials(nPro, nAnti; plot_list=my_plot_list, my_params...)\n",
    "\n",
    "                    if length(proValls)==0\n",
    "                        proValls = zeros(4, size(proVall,2), size(proVall,3), noptos)\n",
    "                    end\n",
    "                    if length(antiValls)==0\n",
    "                        antiValls = zeros(4, size(antiVall,2), size(antiVall,3), noptos)\n",
    "                    end\n",
    "                    proValls[:,:,:,nopto]  = get_value(proVall)  # make sure they're not stored as ForwardDiff Duals\n",
    "                    antiValls[:,:,:,nopto] = get_value(antiVall)\n",
    "                    \n",
    "                    diffsP = proVs[1,:]  - proVs[4,:]\n",
    "                    diffsA = antiVs[4,:] - antiVs[1,:]\n",
    "                    \n",
    "                    # set up storage  -- we do get_value() to make sure to from ForwardDiff.Dual into Float64 if necessary\n",
    "                    dP[nopto, n] = sqrt(mean((get_value(diffsP) - opto_conditions[nopto,3]).^2));\n",
    "                    dA[nopto, n] = sqrt(mean((get_value(diffsA) - opto_conditions[nopto,4]).^2));\n",
    "                    hBP[nopto, n] = get_value(sum(proVs[1,:] .>= proVs[4,:,])/nPro);\n",
    "                    hBA[nopto, n] = get_value(sum(antiVs[4,:] .>  antiVs[1,:,])/nAnti);                    \n",
    "                    \n",
    "                    if nPro>0 && nAnti>0\n",
    "                        # cost can accept ForwardDiff.Dual, so no get_value() for them\n",
    "                        costf[nopto, n] = (nPro *mean((diffsP - opto_conditions[nopto,3]).^2) +\n",
    "                                         nAnti*mean((diffsA - opto_conditions[nopto,4]).^2))/(nPro+nAnti)\n",
    "                    elseif nPro>0\n",
    "                        costf[nopto, n] = mean((diffsP - opto_conditions[nopto,3]).^2)\n",
    "                    else\n",
    "                        costf[nopto, n] = mean((diffsA - opto_conditions[nopto,4]).^2)\n",
    "                    end\n",
    "                end\n",
    "            end\n",
    "        end\n",
    "    \n",
    "        if verbose\n",
    "            pcost = mean(costf[nopto,:])   # partial costs\n",
    "            \n",
    "            # Notice the get_value() calls below, to transform ForwardDiff Duals into Float64s\n",
    "            @printf(\"%s\", pre_string)\n",
    "            @printf(\"Opto condition # %d\\n\", nopto)\n",
    "            @printf(\"     - %d - cost=%g\\n\", nopto, get_value(pcost))\n",
    "            if nPro>0 && nAnti>0\n",
    "                @printf(\"     - %d - hBP=%g, dP=%g, hBA=%g, dA=%g\\n\", nopto, \n",
    "                    mean(hBP[nopto,:]), mean(dP[nopto,:]), mean(hBA[nopto,:]), mean(dA[nopto,:]))\n",
    "            elseif nPro>0\n",
    "                @printf(\"     - %d - hBP=%g, dP=%g\\n\", nopto, mean(hBP[nopto,:]), mean(dP[nopto,:]))\n",
    "            else\n",
    "                @printf(\"     - %d - hBA=%g, dA=%g\\n\", nopto, mean(hBA[nopto,:]), mean(dA[nopto,:]))\n",
    "            end        \n",
    "        end\n",
    "    end\n",
    "        \n",
    "    cost = mean(costf)\n",
    "\n",
    "    if verbose\n",
    "        @printf(\"%s\", pre_string)\n",
    "        @printf(\"OVERALL\\n\")\n",
    "        @printf(\"     -- cost=%g\\n\", get_value(cost))\n",
    "    end\n",
    "    \n",
    "\n",
    "    # The scalar cost should be differentiable, the others should be regular Float64s\n",
    "    return cost, get_value(costf), get_value(dP), get_value(dA), get_value(hBP), get_value(hBA), \n",
    "        get_value(proValls), get_value(antiValls)\n",
    "end                    "
   ]
  },
  {
   "cell_type": "code",
   "execution_count": null,
   "metadata": {
    "collapsed": false
   },
   "outputs": [],
   "source": [
    "pygui(true)\n",
    "figure(1); clf();\n",
    "figure(2); clf();\n",
    "\n",
    "extra_pars[:seedrand] =  Int64(round(time()*1000))\n",
    "\n",
    "cost, costf, dP, dA, hBP, hBA, proValls, antiValls = new_J(10, 10; verbose=true, merge(mypars, extra_pars)...)\n",
    "\n",
    "hBP\n"
   ]
  },
  {
   "cell_type": "code",
   "execution_count": null,
   "metadata": {
    "collapsed": false
   },
   "outputs": [],
   "source": []
  },
  {
   "cell_type": "code",
   "execution_count": 4,
   "metadata": {
    "collapsed": false
   },
   "outputs": [
    {
     "data": {
      "text/plain": [
       "Dict{Symbol,Array{Any,1}} with 9 entries:\n",
       "  :dW                       => Any[0.126712, [-0.5, 0.5], [-3, 3]]\n",
       "  :target_period_excitation => Any[0.153153, [0.001, 0.5], [0 4]]\n",
       "  :const_pro_bias           => Any[0.043669, [-0.5, 0.5], [-2, 2]]\n",
       "  :hW                       => Any[0.0547018, [-0.5, 0.5], [-3, 3]]\n",
       "  :sW                       => Any[0.641688, [0.0, 0.5], [0, 3]]\n",
       "  :vW                       => Any[-1.58885, [-0.5, 0.5], [-3, 3]]\n",
       "  :sigma                    => Any[0.11, [0.1, 0.2], [0.1, 0.4]]\n",
       "  :constant_excitation      => Any[-0.372425, [-1, 1], [-2, 2]]\n",
       "  :right_light_excitation   => Any[0.499242, [0.05, 0.5], [0.05, 4.0]]"
      ]
     },
     "execution_count": 4,
     "metadata": {},
     "output_type": "execute_result"
    }
   ],
   "source": [
    "#@include_me double_search.jl\n",
    "\n",
    "\n",
    "mypars = Dict(\n",
    ":init_add               =>          0,\n",
    ":const_add              =>          0,\n",
    ":noise                  =>          Any[],\n",
    ":input                  =>          0,\n",
    ":start_anti             =>          [-0.5, -0.5, -0.5, -0.5],\n",
    ":start_pro              =>          [-0.5, -0.5, -0.5, -0.5],\n",
    ":rule_and_delay_period  =>          1.2,\n",
    ":rule_and_delay_periods =>          [1.2],\n",
    ":target_period          =>          0.3,\n",
    ":target_periods         =>          [0.3],\n",
    ":post_target_period     =>          0.3,\n",
    ":post_target_periods    =>          [0.3],\n",
    ":anti_rule_strength     =>          0.054,\n",
    ":U_rest                 =>          0,\n",
    ":theta                  =>          0.05,\n",
    ":beta                   =>          0.5,\n",
    ":g_leak                 =>          1,\n",
    ":nsteps                 =>          301,\n",
    ":dt                     =>          0.024,\n",
    ":tau                    =>          0.09,\n",
    ":right_light_excitation =>          0.49924152955481954,\n",
    ":opto_strength          =>          0.85,\n",
    ":opto_periods           =>          String[\n",
    "                                    \"trial_start\" \"trial_start\"; \n",
    "                                    \"trial_start\" \"trial_end\"; \n",
    "                                    \"trial_start\" \"target_start/2\"; \n",
    "                                    \"target_start/2\" \"target_start\"; \n",
    "                                    \"target_start\" \"target_end\"],\n",
    ":opto_targets          =>           [\n",
    "                                    0.9 0.7; \n",
    "                                    0.9 0.5; \n",
    "                                    0.9 0.7; \n",
    "                                    0.9 0.5; \n",
    "                                    0.9 0.7],\n",
    ":theta2 => 0.15,\n",
    ":theta1 => 0.05,\n",
    ":sigma => 0.01,\n",
    ":cbeta => 0.04,\n",
    ":sW => 0.6416875048295452,\n",
    ":hW => 0.054701836208134846,\n",
    ":dW => 0.1267124266934907,\n",
    ":vW => -1.588850577499782,\n",
    ":constant_excitation => -0.37242520737694207,\n",
    ":const_pro_bias => 0.04366897857834884,\n",
    ":target_period_excitation => 0.15315254453690974,\n",
    ":right_light_pro_extra => 0,\n",
    ":pro_rule_strength => 0.05,\n",
    ":nPro => 200,\n",
    ":nAnti => 200,\n",
    ")\n",
    "\n",
    "\n",
    "extra_pars = Dict(\n",
    ":plot_list        =>   [], \n",
    ":plot_conditions  =>   true,\n",
    ":verbose          =>   true,\n",
    ":opto_periods     =>   String[\"trial_start\" \"trial_start-0.1\"],\n",
    ":opto_targets     =>   [0.9,  0.7],\n",
    ":opto_times       =>   [\"trial_start\", \"trial_start-0.1\"],       # This one is for run_ntrials\n",
    ":cbeta            =>   0.001,\n",
    ":search_range     =>   1.2,\n",
    ")\n",
    "\n",
    "\n",
    "search_conditions = Dict(   # :param    default_start   search_box  bound_box\n",
    ":vW     =>                   [mypars[:vW],                       [-0.5, 0.5],  [-3,   3]], \n",
    ":hW     =>                   [mypars[:hW],                       [-0.5, 0.5],  [-3,   3]],\n",
    ":dW     =>                   [mypars[:dW],                       [-0.5, 0.5],  [-3,   3]],\n",
    ":sW     =>                   [mypars[:sW],                       [0,    0.5],  [0,    3]],\n",
    ":sigma  =>                   [0.11,                              [0.1,  0.2],  [0.1, 0.4]],\n",
    ":constant_excitation      => [mypars[:constant_excitation],      [-1,     1],  [-2,   2]], \n",
    ":target_period_excitation => [mypars[:target_period_excitation], [0.001,0.5],  [0     4]],\n",
    ":right_light_excitation   => [mypars[:right_light_excitation],   [0.05, 0.5],  [0.05, 4]],\n",
    ":const_pro_bias           => [mypars[:const_pro_bias],           [-0.5, 0.5],  [-2,   2]],\n",
    "# :opto_strength            => [mypars[:opto_strength],            [0.7, 0.99],  [0,    1]],\n",
    ")\n",
    "\n"
   ]
  },
  {
   "cell_type": "markdown",
   "metadata": {},
   "source": [
    "### Loop for double_search.jl"
   ]
  },
  {
   "cell_type": "code",
   "execution_count": 67,
   "metadata": {
    "collapsed": false
   },
   "outputs": [
    {
     "name": "stdout",
     "output_type": "stream",
     "text": [
      "\n",
      "\n",
      "\n",
      "Starting with random seed 1510958290269\n",
      "\n",
      "\n",
      "\n",
      "\n",
      "--- new run ---\n",
      "\n",
      "0: eta=0.1 ps=[0.500, 0.020, 0.149, 0.466, 0.500, -0.500, 0.100, -1.000, 0.500]\n",
      "new_J(): Opto condition # 1\n",
      "     - 1 - cost=0.0100572\n",
      "     - 1 - hBP=0.575, dP=0.0994998, hBA=0.425, dA=0.101066\n",
      "new_J(): OVERALL\n",
      "     -- cost=0.0100572\n",
      "\n",
      "\n",
      "Whoopsety, unkown error!\n",
      "\n",
      "Error was :\n",
      "Base.LinAlg.SingularException(7)\n",
      "\n",
      "Trying new random seed.\n",
      "\n",
      "\n",
      "\n",
      "--- new run ---\n",
      "\n",
      "0: eta=0.1 ps=[-0.429, 0.001, -0.155, 0.400, 0.399, -0.500, 0.160, -1.000, 0.264]\n",
      "new_J(): Opto condition # 1\n",
      "     - 1 - cost=0.0099822\n",
      "     - 1 - hBP=0.55, dP=0.0999165, hBA=0.5, dA=0.0999054\n",
      "new_J(): OVERALL\n",
      "     -- cost=0.0099822\n",
      "new_J(): Opto condition # 1\n",
      "     - 1 - cost=0.00997142\n",
      "     - 1 - hBP=0.525, dP=0.0999502, hBA=0.55, dA=0.0997637\n",
      "new_J(): OVERALL\n",
      "     -- cost=0.00997142\n",
      "1: eta=0.11 cost=0.00997142 jtype=constrained costheta=-1.000 ps=[-0.422276, 0.001, -0.0847118, 0.400978, 0.398837, -0.503857, 0.196969, -0.96128, 0.264452]\n",
      "new_J(): Opto condition # 1\n",
      "     - 1 - cost=0.0099591\n",
      "     - 1 - hBP=0.525, dP=0.100046, hBA=0.55, dA=0.0995436\n",
      "new_J(): OVERALL\n",
      "     -- cost=0.0099591\n",
      "2: eta=0.121 cost=0.0099591 jtype=constrained costheta=-0.980 ps=[-0.407887, 0.001, 0.000270793, 0.401965, 0.398997, -0.513784, 0.21685, -0.911431, 0.264442]\n",
      "new_J(): Opto condition # 1\n",
      "     - 1 - cost=0.00994713\n",
      "     - 1 - hBP=0.525, dP=0.0998951, hBA=0.525, dA=0.0995752\n",
      "new_J(): OVERALL\n",
      "     -- cost=0.00994713\n",
      "3: eta=0.1331 cost=0.00994713 jtype=constrained costheta=-0.990 ps=[-0.374429, 0.00100001, 0.0733116, 0.403258, 0.398835, -0.540138, 0.170298, -0.858299, 0.264446]\n",
      "new_J(): Opto condition # 1\n",
      "     - 1 - cost=0.00993437\n",
      "     - 1 - hBP=0.55, dP=0.0996734, hBA=0.525, dA=0.0996692\n",
      "new_J(): OVERALL\n",
      "     -- cost=0.00993437\n",
      "4: eta=0.14641 cost=0.00993437 jtype=constrained costheta=-0.971 ps=[-0.318163, 0.00100001, 0.121475, 0.404409, 0.398373, -0.584113, 0.134282, -0.794858, 0.264562]\n",
      "new_J(): Opto condition # 1\n",
      "     - 1 - cost=0.00991808\n",
      "     - 1 - hBP=0.55, dP=0.0995461, hBA=0.525, dA=0.099633\n",
      "new_J(): OVERALL\n",
      "     -- cost=0.00991808\n",
      "5: eta=0.161051 cost=0.00991808 jtype=constrained costheta=-0.858 ps=[-0.236647, 0.00100003, 0.105713, 0.394716, 0.39977, -0.643582, 0.118712, -0.7183, 0.265259]\n",
      "new_J(): Opto condition # 1\n",
      "     - 1 - cost=0.00988051\n",
      "     - 1 - hBP=0.55, dP=0.0994252, hBA=0.55, dA=0.0993764\n",
      "new_J(): OVERALL\n",
      "     -- cost=0.00988051\n",
      "6: eta=0.177156 cost=0.00988051 jtype=constrained costheta=-0.967 ps=[-0.158931, 0.00100006, 0.0625452, 0.373137, 0.407899, -0.697306, 0.112326, -0.61775, 0.267156]\n",
      "new_J(): Opto condition # 1\n",
      "     - 1 - cost=0.00963156\n",
      "     - 1 - hBP=0.575, dP=0.0976578, hBA=0.575, dA=0.0986209\n",
      "new_J(): OVERALL\n",
      "     -- cost=0.00963156\n",
      "7: eta=0.194872 cost=0.00963156 jtype=constrained costheta=-0.991 ps=[-0.0997988, 0.00100011, 0.0351373, 0.350533, 0.426646, -0.741091, 0.10931, -0.480143, 0.270513]\n",
      "new_J(): Opto condition # 1\n",
      "     - 1 - cost=0.00930867\n",
      "     - 1 - hBP=0.6, dP=0.09637, hBA=0.775, dA=0.0965927\n",
      "new_J(): OVERALL\n",
      "     -- cost=0.00930867\n",
      "About to break -- stop_func_out = true, tol=1e-12, new_cost-cost=-0.000322896, eta=0.194872\n",
      "0: eta=0.1 ps=[-0.065, 0.001, 0.021, 0.346, 0.458, -0.771, 0.108, -0.310, 0.274]\n",
      "Opto condition # 1\n",
      "     - 1 - cost=0.0824747, cost1=0.0824877, cost2=-1.29453e-05\n",
      "     - 1 - mean(hitsP)=0.534329, mean(diffsP)=0.024313 mean(hitsA)=0.523195, mean(diffsA)=0.00157756\n",
      "OVERALL\n",
      "     -- cost=0.0824747, cost1=0.0824877, cost2=-1.29453e-05\n",
      "Opto condition # 1\n",
      "     - 1 - cost=0.0558948, cost1=0.0559231, cost2=-2.83115e-05\n",
      "     - 1 - mean(hitsP)=0.610808, mean(diffsP)=0.0402303 mean(hitsA)=0.53203, mean(diffsA)=0.0163927\n",
      "OVERALL\n",
      "     -- cost=0.0558948, cost1=0.0559231, cost2=-2.83115e-05\n",
      "eta going down: cost (new-old)/expect = 0.376 new_cost-cost=-0.0265799 and jumptype='constrained'\n",
      "1: eta=0.05 cost=0.0824747 jtype=constrained costheta=NaN ps=[-0.0648605, 0.00100015, 0.0214486, 0.345856, 0.458202, -0.770885, 0.108176, -0.310379, 0.273757]\n",
      "Opto condition # 1\n",
      "     - 1 - cost=0.0606819, cost1=0.0607085, cost2=-2.65241e-05\n",
      "     - 1 - mean(hitsP)=0.577497, mean(diffsP)=0.0420237 mean(hitsA)=0.568059, mean(diffsA)=0.0110245\n",
      "OVERALL\n",
      "     -- cost=0.0606819, cost1=0.0607085, cost2=-2.65241e-05\n",
      "2: eta=0.055 cost=0.0606819 jtype=constrained costheta=-0.996 ps=[-0.0592036, 0.00100014, 0.0236509, 0.310857, 0.454889, -0.770585, 0.108061, -0.343589, 0.274009]\n",
      "Opto condition # 1\n",
      "     - 1 - cost=0.0617832, cost1=0.0618006, cost2=-1.74281e-05\n",
      "     - 1 - mean(hitsP)=0.570149, mean(diffsP)=0.0247591 mean(hitsA)=0.578347, mean(diffsA)=0.0100971\n",
      "OVERALL\n",
      "     -- cost=0.0617832, cost1=0.0618006, cost2=-1.74281e-05\n",
      "eta going down: cost (new-old)/expect = -0.031 new_cost-cost=0.00110124 and jumptype='constrained'\n",
      "3: eta=0.0275 cost=0.0606819 jtype=constrained costheta=NaN ps=[-0.0592036, 0.00100014, 0.0236509, 0.310857, 0.454889, -0.770585, 0.108061, -0.343589, 0.274009]\n",
      "Opto condition # 1\n",
      "     - 1 - cost=0.0499714, cost1=0.0499983, cost2=-2.69276e-05\n",
      "     - 1 - mean(hitsP)=0.609536, mean(diffsP)=0.0439382 mean(hitsA)=0.574991, mean(diffsA)=0.00991701\n",
      "OVERALL\n",
      "     -- cost=0.0499714, cost1=0.0499983, cost2=-2.69276e-05\n",
      "4: eta=0.03025 cost=0.0499714 jtype=constrained costheta=-0.985 ps=[-0.053812, 0.00100013, 0.00794417, 0.292631, 0.455866, -0.772162, 0.107945, -0.354747, 0.27425]\n",
      "Opto condition # 1\n",
      "     - 1 - cost=0.0406816, cost1=0.0407141, cost2=-3.24329e-05\n",
      "     - 1 - mean(hitsP)=0.636571, mean(diffsP)=0.05215 mean(hitsA)=0.590304, mean(diffsA)=0.0127157\n",
      "OVERALL\n",
      "     -- cost=0.0406816, cost1=0.0407141, cost2=-3.24329e-05\n",
      "5: eta=0.033275 cost=0.0406816 jtype=constrained costheta=-0.817 ps=[-0.0426878, 0.00100013, 0.0112136, 0.27101, 0.462451, -0.778045, 0.107692, -0.345738, 0.274966]\n",
      "Opto condition # 1\n",
      "     - 1 - cost=0.0305891, cost1=0.0306281, cost2=-3.89384e-05\n",
      "     - 1 - mean(hitsP)=0.669157, mean(diffsP)=0.061639 mean(hitsA)=0.610737, mean(diffsA)=0.0162377\n",
      "OVERALL\n",
      "     -- cost=0.0305891, cost1=0.0306281, cost2=-3.89384e-05\n",
      "6: eta=0.0366025 cost=0.0305891 jtype=constrained costheta=-0.996 ps=[-0.0299358, 0.00100012, 0.0116533, 0.246494, 0.469539, -0.78438, 0.107431, -0.336761, 0.275747]\n",
      "Opto condition # 1\n",
      "     - 1 - cost=0.0198005, cost1=0.0198498, cost2=-4.93667e-05\n",
      "     - 1 - mean(hitsP)=0.71054, mean(diffsP)=0.0768891 mean(hitsA)=0.63832, mean(diffsA)=0.0218444\n",
      "OVERALL\n",
      "     -- cost=0.0198005, cost1=0.0198498, cost2=-4.93667e-05\n",
      "7: eta=0.0402628 cost=0.0198005 jtype=constrained costheta=-1.000 ps=[-0.0153892, 0.00100012, 0.0116987, 0.219726, 0.477402, -0.791295, 0.107163, -0.32678, 0.276599]\n",
      "Opto condition # 1\n",
      "     - 1 - cost=0.00972847, cost1=0.00979568, cost2=-6.72147e-05\n",
      "     - 1 - mean(hitsP)=0.762252, mean(diffsP)=0.102756 mean(hitsA)=0.675163, mean(diffsA)=0.0316735\n",
      "OVERALL\n",
      "     -- cost=0.00972847, cost1=0.00979568, cost2=-6.72147e-05\n",
      "8: eta=0.044289 cost=0.00972847 jtype=constrained costheta=-1.000 ps=[0.000983288, 0.00100011, 0.0118752, 0.190467, 0.486235, -0.79889, 0.106881, -0.315865, 0.277536]\n",
      "Opto condition # 1\n",
      "     - 1 - cost=0.0029538, cost1=0.00305269, cost2=-9.8886e-05\n",
      "     - 1 - mean(hitsP)=0.823914, mean(diffsP)=0.147645 mean(hitsA)=0.717785, mean(diffsA)=0.0501269\n",
      "OVERALL\n",
      "     -- cost=0.0029538, cost1=0.00305269, cost2=-9.8886e-05\n",
      "9: eta=0.0487179 cost=0.0029538 jtype=constrained costheta=-0.998 ps=[0.0175599, 0.0010001, 0.0138021, 0.157444, 0.496732, -0.807274, 0.106556, -0.306177, 0.278608]\n",
      "Opto condition # 1\n",
      "     - 1 - cost=0.0229147, cost1=0.0230415, cost2=-0.000126865\n",
      "     - 1 - mean(hitsP)=0.867137, mean(diffsP)=0.189305 mean(hitsA)=0.487861, mean(diffsA)=0.0644256\n",
      "OVERALL\n",
      "     -- cost=0.0229147, cost1=0.0230415, cost2=-0.000126865\n",
      "eta going down: cost (new-old)/expect = -3.410 new_cost-cost=0.0199609 and jumptype='constrained'\n",
      "10: eta=0.024359 cost=0.0029538 jtype=constrained costheta=NaN ps=[0.0175599, 0.0010001, 0.0138021, 0.157444, 0.496732, -0.807274, 0.106556, -0.306177, 0.278608]\n",
      "Opto condition # 1\n",
      "     - 1 - cost=0.00260285, cost1=0.00271617, cost2=-0.000113315\n",
      "     - 1 - mean(hitsP)=0.848725, mean(diffsP)=0.170081 mean(hitsA)=0.647054, mean(diffsA)=0.0565477\n",
      "OVERALL\n",
      "     -- cost=0.00260285, cost1=0.00271617, cost2=-0.000113315\n",
      "eta going down: cost (new-old)/expect = 0.135 new_cost-cost=-0.000350953 and jumptype='constrained'\n",
      "11: eta=0.0121795 cost=0.0029538 jtype=constrained costheta=NaN ps=[0.0175599, 0.0010001, 0.0138021, 0.157444, 0.496732, -0.807274, 0.106556, -0.306177, 0.278608]\n",
      "Opto condition # 1\n",
      "     - 1 - cost=0.00183425, cost1=0.00194188, cost2=-0.000107632\n",
      "     - 1 - mean(hitsP)=0.837685, mean(diffsP)=0.159775 mean(hitsA)=0.699258, mean(diffsA)=0.0554881\n",
      "OVERALL\n",
      "     -- cost=0.00183425, cost1=0.00194188, cost2=-0.000107632\n",
      "12: eta=0.0133974 cost=0.00183425 jtype=constrained costheta=-0.970 ps=[0.0211452, 0.0010001, 0.0194964, 0.148114, 0.498018, -0.808362, 0.106498, -0.308862, 0.278797]\n",
      "Opto condition # 1\n",
      "     - 1 - cost=0.000845588, cost1=0.000966366, cost2=-0.000120778\n",
      "     - 1 - mean(hitsP)=0.856038, mean(diffsP)=0.179153 mean(hitsA)=0.699734, mean(diffsA)=0.0624026\n",
      "OVERALL\n",
      "     -- cost=0.000845588, cost1=0.000966366, cost2=-0.000120778\n",
      "13: eta=0.0147372 cost=0.000845588 jtype=constrained costheta=-0.988 ps=[0.0263764, 0.00100009, 0.0209883, 0.137618, 0.500866, -0.810652, 0.106411, -0.307, 0.279111]\n",
      "Opto condition # 1\n",
      "     - 1 - cost=0.00016192, cost1=0.000299252, cost2=-0.000137332\n",
      "     - 1 - mean(hitsP)=0.87557, mean(diffsP)=0.203538 mean(hitsA)=0.698702, mean(diffsA)=0.0711262\n",
      "OVERALL\n",
      "     -- cost=0.00016192, cost1=0.000299252, cost2=-0.000137332\n",
      "14: eta=0.0162109 cost=0.00016192 jtype=constrained costheta=-0.995 ps=[0.0322617, 0.00100009, 0.0225564, 0.126273, 0.504071, -0.813218, 0.106317, -0.304543, 0.279462]\n",
      "Opto condition # 1\n",
      "     - 1 - cost=-0.000149257, cost1=9.57974e-06, cost2=-0.000158837\n",
      "     - 1 - mean(hitsP)=0.895881, mean(diffsP)=0.234512 mean(hitsA)=0.698519, mean(diffsA)=0.0831621\n",
      "OVERALL\n",
      "     -- cost=-0.000149257, cost1=9.57974e-06, cost2=-0.000158837\n",
      "15: eta=0.017832 cost=-0.000149257 jtype=constrained costheta=-0.954 ps=[0.0395609, 0.00100008, 0.0239219, 0.114322, 0.507589, -0.816067, 0.10624, -0.301212, 0.279844]\n",
      "Opto condition # 1\n",
      "     - 1 - cost=-0.000159717, cost1=4.94662e-07, cost2=-0.000160212\n",
      "     - 1 - mean(hitsP)=0.900988, mean(diffsP)=0.239264 mean(hitsA)=0.699888, mean(diffsA)=0.0811598\n",
      "OVERALL\n",
      "     -- cost=-0.000159717, cost1=4.94662e-07, cost2=-0.000160212\n",
      "16: eta=0.0196152 cost=-0.000159717 jtype=constrained costheta=-0.101 ps=[0.0333475, 0.00100007, 0.0244026, 0.11293, 0.512071, -0.825323, 0.105477, -0.303869, 0.280425]\n",
      "Opto condition # 1\n",
      "     - 1 - cost=0.000300232, cost1=0.000455475, cost2=-0.000155243\n",
      "     - 1 - mean(hitsP)=0.872669, mean(diffsP)=0.202443 mean(hitsA)=0.687194, mean(diffsA)=0.108043\n",
      "OVERALL\n",
      "     -- cost=0.000300232, cost1=0.000455475, cost2=-0.000155243\n",
      "eta going down: cost (new-old)/expect = -22.943 new_cost-cost=0.000459949 and jumptype='constrained'\n",
      "17: eta=0.00980759 cost=-0.000159717 jtype=constrained costheta=NaN ps=[0.0333475, 0.00100007, 0.0244026, 0.11293, 0.512071, -0.825323, 0.105477, -0.303869, 0.280425]\n",
      "Opto condition # 1\n",
      "     - 1 - cost=-0.000140518, cost1=2.1513e-05, cost2=-0.000162031\n",
      "     - 1 - mean(hitsP)=0.894053, mean(diffsP)=0.230387 mean(hitsA)=0.697233, mean(diffsA)=0.093675\n",
      "OVERALL\n",
      "     -- cost=-0.000140518, cost1=2.1513e-05, cost2=-0.000162031\n",
      "eta going down: cost (new-old)/expect = -2.315 new_cost-cost=1.91994e-05 and jumptype='constrained'\n",
      "18: eta=0.00490379 cost=-0.000159717 jtype=constrained costheta=NaN ps=[0.0333475, 0.00100007, 0.0244026, 0.11293, 0.512071, -0.825323, 0.105477, -0.303869, 0.280425]\n",
      "Opto condition # 1\n",
      "     - 1 - cost=-0.000162089, cost1=3.66704e-07, cost2=-0.000162456\n",
      "     - 1 - mean(hitsP)=0.899405, mean(diffsP)=0.23769 mean(hitsA)=0.699384, mean(diffsA)=0.0872222\n",
      "OVERALL\n",
      "     -- cost=-0.000162089, cost1=3.66704e-07, cost2=-0.000162456\n",
      "19: eta=0.00539417 cost=-0.000162089 jtype=constrained costheta=-0.487 ps=[0.0346916, 0.00100008, 0.0261475, 0.114286, 0.51249, -0.825292, 0.10553, -0.299929, 0.280398]\n"
     ]
    },
    {
     "ename": "LoadError",
     "evalue": "\u001b[91mInterruptException:\u001b[39m",
     "output_type": "error",
     "traceback": [
      "\u001b[91mInterruptException:\u001b[39m",
      "",
      "Stacktrace:",
      " [1] \u001b[1mmacro expansion\u001b[22m\u001b[22m at \u001b[1m./In[67]:106\u001b[22m\u001b[22m [inlined]",
      " [2] \u001b[1manonymous\u001b[22m\u001b[22m at \u001b[1m./<missing>:?\u001b[22m\u001b[22m",
      " [3] \u001b[1minclude_string\u001b[22m\u001b[22m\u001b[1m(\u001b[22m\u001b[22m::String, ::String\u001b[1m)\u001b[22m\u001b[22m at \u001b[1m./loading.jl:515\u001b[22m\u001b[22m"
     ]
    }
   ],
   "source": [
    "#@include_me double_search.jl\n",
    "ftraj2 = []; cost2 = [];\n",
    "extra_pars[:seedrand] = 1510958290269 # Int64(round(1000*time()))   # 1510782006169 causes lin.alg error but then looks like it'll succeed\n",
    "srand(extra_pars[:seedrand])\n",
    "\n",
    "search_range = extra_pars[:search_range]; \n",
    "\n",
    "README = \"\"\"\n",
    "\n",
    "Farm C9: Like C8, only do a single full search, first new_J() then full search,\n",
    "no pre-search. But only use the params found by new_J() if they ended up ok\n",
    "\n",
    "\"\"\"\n",
    "\n",
    "if !isdir(\"../NewFarms\"); mkdir(\"../NewFarms\"); end\n",
    "fbasename = \"../NewFarms/farm_C9_\"\n",
    "# If we wanted a unique identifier per processor run the following line would help:\n",
    "# if ~isnull(tryparse(Int64, ARGS[1])); fbasename = fbasename * ARGS[1] * \"_\"; end\n",
    "\n",
    "@printf(\"\\n\\n\\nStarting with random seed %d\\n\\n\\n\", extra_pars[:seedrand])\n",
    "\n",
    "while true\n",
    "    \n",
    "    @printf(\"\\n\\n--- new run ---\\n\\n\")\n",
    "    args = []; seed = []; bbox = Dict()\n",
    "    for k in keys(search_conditions)\n",
    "        search_box = search_conditions[k][2]\n",
    "        args = [args; String(k)]\n",
    "        # --- search within the indicated search range:\n",
    "        myseed = search_conditions[k][1] + search_range*(rand()-0.5)*diff(search_box); myseed = myseed[1]\n",
    "        if myseed > search_box[2]; myseed = search_box[2]; end\n",
    "        if myseed < search_box[1]; myseed = search_box[1]; end\n",
    "        seed = [seed ;  myseed]\n",
    "        # --- No search, just start at the indicated position:\n",
    "        # seed = [seed ; search_conditions[k][1]]\n",
    "        bbox = merge(bbox, Dict(k => Array{Float64}(search_conditions[k][3])))\n",
    "    end\n",
    "    args = Array{String}(args)\n",
    "    seed = Array{Float64}(seed)\n",
    "\n",
    "\n",
    "    maxiter1 = 1000;   # for func1, the regular search\n",
    "    maxiter2 = 2000;  # for func2, the reduced search\n",
    "    testruns = 10000; # Number of trials for evaluating the results of the model. 10000 is a good number \n",
    "\n",
    "\n",
    "    # Make sure to keep the noise frozen over the search, meaning JJ() needs the seedrand parameter\n",
    "    func1 =  (;params...) -> JJ(mypars[:nPro], mypars[:nAnti]; verbose=false, \n",
    "        merge(merge(mypars, extra_pars), Dict(params))...)[1]\n",
    "    \n",
    "    # For func2:\n",
    "    extra_pars[:opto_conditions] = []    \n",
    "    extra_pars[:plot_condition] = 0\n",
    "\n",
    "    # new_J() has to be allowed to return all its outputs, so that\n",
    "    # stopping_func can use some of them\n",
    "    func2 =  (;params...) -> new_J(40, 40; pre_string=\"new_J(): \", \n",
    "        verbose=false, merge(merge(mypars, extra_pars), Dict(params))...)\n",
    "\n",
    "    # For func2:\n",
    "    # This function will get the output of new_J() at each iteration, and will return \"true\", stopping\n",
    "    # the minimization, if hBP and hBA are both above a threshold.\n",
    "    function stopping_func(;cost=0, func_out=[], ignored_extra_params...)\n",
    "        costf, dP, dA, hBP, hBA = func_out\n",
    "        return hBP[1]>=0.6 && hBA[1] >= 0.6\n",
    "    end\n",
    "\n",
    "\n",
    "    try\n",
    "        ntries = 2\n",
    "\n",
    "        extra_pars[:plot_list] = []\n",
    "\n",
    "        # First with func2 for new_J()\n",
    "        pars2, traj2, cost2, cpm_traj2, ftraj2 = bbox_Hessian_keyword_minimization(seed, \n",
    "            args, bbox, func2, \n",
    "            stopping_function = stopping_func, \n",
    "            start_eta = 0.1, tol=1e-12, verbose=true, verbose_every=1, maxiter=maxiter2)\n",
    "\n",
    "        # If this resulted in a place that look good, use it, otherwise start afresh:\n",
    "        if stopping_func(;cost=cost2, func_out=ftraj2[3,end]); start_pars=pars2; else start_pars=seed; end\n",
    "\n",
    "        # Then with func1 for JJ()\n",
    "        pars3, traj3, cost3, cpm_traj3, ftraj3 = bbox_Hessian_keyword_minimization(pars2, \n",
    "            args, bbox, func1, \n",
    "            start_eta = 0.1, tol=1e-12, \n",
    "            verbose=true, verbose_every=1, maxiter=maxiter1)\n",
    "            \n",
    "        cost, cost1s, cost2s, hP, hA, dP, dA, hBP, hBA = JJ(testruns, testruns; verbose=false, \n",
    "            make_dict(args, pars3, merge(merge(mypars, extra_pars)))...)\n",
    "        \n",
    "        myfilename = next_file(fbasename, 4)\n",
    "        myfilename = myfilename*\".jld\"\n",
    "\n",
    "        @printf(\"\\n\\n ****** writing to file %s *******\\n\\n\", myfilename)\n",
    "        \n",
    "        # write file\n",
    "        save(myfilename, Dict(\"README\"=>README, \"nPro\"=>mypars[:nPro], \"nAnti\"=>mypars[:nAnti], \"ntries\"=>ntries, \n",
    "            \"mypars\"=>mypars, \"extra_pars\"=>extra_pars, \"args\"=>args, \"seed\"=>seed, \"bbox\"=>bbox, \n",
    "            \"pars2\"=>pars2, \"traj2\"=>traj2, \"cost2\"=>cost2, \"cpm_traj2\"=>cpm_traj2, \n",
    "            \"pars3\"=>pars3, \"traj3\"=>traj3, \"cost3\"=>cost3, \"cpm_traj3\"=>cpm_traj3, \"ftraj3\"=>ftraj3,\n",
    "            \"cost\"=>cost, \"cost1s\"=>cost1s, \"cost2s\"=>cost2s,\n",
    "            \"hP\"=>hP, \"hA\"=>hA, \"dP\"=>dP, \"dA\"=>dA, \"hBP\"=>hBP, \"hBA\"=>hBA))\n",
    "\n",
    "    catch y\n",
    "        if isa(y, InterruptException); throw(InterruptException()); end\n",
    "        @printf(\"\\n\\nWhoopsety, unkown error!\\n\\n\");\n",
    "        @printf(\"Error was :\\n\"); print(y); @printf(\"\\n\\nTrying new random seed.\\n\\n\")\n",
    "    end\n",
    "\n",
    "    # Change random seed so we don't get stuck in one loop\n",
    "    extra_pars[:seedrand] = extra_pars[:seedrand]+1\n",
    "end"
   ]
  },
  {
   "cell_type": "code",
   "execution_count": 57,
   "metadata": {
    "collapsed": false
   },
   "outputs": [
    {
     "name": "stdout",
     "output_type": "stream",
     "text": [
      "\n",
      "\n",
      "\n",
      "Starting with random seed 1510958290269\n",
      "\n",
      "\n",
      "0: eta=0.1 ps=[0.500, 0.020, 0.149, 0.466, 0.500, -0.500, 0.100, -1.000, 0.500]\n",
      "new_J(): Opto condition # 1\n",
      "     - 1 - cost=0.0100572\n",
      "     - 1 - hBP=0.575, dP=0.0994998, hBA=0.425, dA=0.101066\n",
      "new_J(): OVERALL\n",
      "     -- cost=0.0100572\n"
     ]
    },
    {
     "ename": "LoadError",
     "evalue": "\u001b[91mBase.LinAlg.SingularException(7)\u001b[39m",
     "output_type": "error",
     "traceback": [
      "\u001b[91mBase.LinAlg.SingularException(7)\u001b[39m",
      "",
      "Stacktrace:",
      " [1] \u001b[1minv!\u001b[22m\u001b[22m at \u001b[1m./linalg/lu.jl:308\u001b[22m\u001b[22m [inlined]",
      " [2] \u001b[1minv\u001b[22m\u001b[22m\u001b[1m(\u001b[22m\u001b[22m::Base.LinAlg.LU{Float64,Array{Float64,2}}\u001b[1m)\u001b[22m\u001b[22m at \u001b[1m./linalg/lu.jl:310\u001b[22m\u001b[22m",
      " [3] \u001b[1minv\u001b[22m\u001b[22m\u001b[1m(\u001b[22m\u001b[22m::Array{Float64,2}\u001b[1m)\u001b[22m\u001b[22m at \u001b[1m./linalg/dense.jl:659\u001b[22m\u001b[22m",
      " [4] \u001b[1m#bbox_Hessian_keyword_minimization#350\u001b[22m\u001b[22m\u001b[1m(\u001b[22m\u001b[22m::Float64, ::Float64, ::Int64, ::Float64, ::Function, ::Bool, ::Int64, ::Int64, ::Bool, ::Bool, ::String, ::#bbox_Hessian_keyword_minimization, ::Array{Float64,1}, ::Array{String,1}, ::Dict{Any,Any}, ::##397#399\u001b[1m)\u001b[22m\u001b[22m at \u001b[1m/Users/carlos/Papers/MarinoPagan/ProAnti/Carlos/superior_colliculus_mutual_inhibition/optimization_utils.jl:487\u001b[22m\u001b[22m",
      " [5] \u001b[1m(::#kw##bbox_Hessian_keyword_minimization)\u001b[22m\u001b[22m\u001b[1m(\u001b[22m\u001b[22m::Array{Any,1}, ::#bbox_Hessian_keyword_minimization, ::Array{Float64,1}, ::Array{String,1}, ::Dict{Any,Any}, ::Function\u001b[1m)\u001b[22m\u001b[22m at \u001b[1m./<missing>:0\u001b[22m\u001b[22m",
      " [6] \u001b[1minclude_string\u001b[22m\u001b[22m\u001b[1m(\u001b[22m\u001b[22m::String, ::String\u001b[1m)\u001b[22m\u001b[22m at \u001b[1m./loading.jl:515\u001b[22m\u001b[22m"
     ]
    }
   ],
   "source": [
    "# TRASH TRASH TRASH\n",
    "\n",
    "ftraj2 = []; cost2 = [];\n",
    "extra_pars[:seedrand] = 1510958290269 # Int64(round(1000*time()))   # 1510782006169 causes lin.alg error but then looks like it'll succeed\n",
    "srand(extra_pars[:seedrand])\n",
    "\n",
    "search_range = extra_pars[:search_range]; \n",
    "\n",
    "@printf(\"\\n\\n\\nStarting with random seed %d\\n\\n\\n\", extra_pars[:seedrand])\n",
    "\n",
    "    args = []; seed = []; bbox = Dict()\n",
    "    for k in keys(search_conditions)\n",
    "        search_box = search_conditions[k][2]\n",
    "        args = [args; String(k)]\n",
    "        # --- search within the indicated search range:\n",
    "        myseed = search_conditions[k][1] + search_range*(rand()-0.5)*diff(search_box); myseed = myseed[1]\n",
    "        if myseed > search_box[2]; myseed = search_box[2]; end\n",
    "        if myseed < search_box[1]; myseed = search_box[1]; end\n",
    "        seed = [seed ;  myseed]\n",
    "        # --- No search, just start at the indicated position:\n",
    "        # seed = [seed ; search_conditions[k][1]]\n",
    "        bbox = merge(bbox, Dict(k => Array{Float64}(search_conditions[k][3])))\n",
    "    end\n",
    "    args = Array{String}(args)\n",
    "    seed = Array{Float64}(seed)\n",
    "\n",
    "\n",
    "    maxiter1 = 1000;   # for func1, the regular search\n",
    "    maxiter2 = 2000;  # for func2, the reduced search\n",
    "    testruns = 10000; # Number of trials for evaluating the results of the model. 10000 is a good number \n",
    "\n",
    "\n",
    "    # Make sure to keep the noise frozen over the search, meaning JJ() needs the seedrand parameter\n",
    "    func1 =  (;params...) -> JJ(mypars[:nPro], mypars[:nAnti]; verbose=false, \n",
    "        merge(merge(mypars, extra_pars), Dict(params))...)[1]\n",
    "    \n",
    "    # For func2:\n",
    "    extra_pars[:opto_conditions] = []    \n",
    "    extra_pars[:plot_condition] = 0\n",
    "\n",
    "    # new_J() has to be allowed to return all its outputs, so that\n",
    "    # stopping_func can use some of them\n",
    "    func2 =  (;params...) -> new_J(40, 40; pre_string=\"new_J(): \", \n",
    "        verbose=false, merge(merge(mypars, extra_pars), Dict(params))...)\n",
    "\n",
    "    # For func2:\n",
    "    # This function will get the output of new_J() at each iteration, and will return \"true\", stopping\n",
    "    # the minimization, if hBP and hBA are both above a threshold.\n",
    "    function stopping_func(;cost=0, func_out=[], ignored_extra_params...)\n",
    "        costf, dP, dA, hBP, hBA = func_out\n",
    "        return hBP[1]>=0.6 && hBA[1] >= 0.6\n",
    "    end\n",
    "\n",
    "\n",
    "        extra_pars[:plot_list] = []\n",
    "\n",
    "        # First with func2 for new_J()\n",
    "        pars2, traj2, cost2, cpm_traj2, ftraj2 = bbox_Hessian_keyword_minimization(seed, \n",
    "            args, bbox, func2, \n",
    "            stopping_function = stopping_func, \n",
    "            start_eta = 0.1, tol=1e-12, verbose=true, verbose_every=1, maxiter=maxiter2)\n"
   ]
  },
  {
   "cell_type": "code",
   "execution_count": 58,
   "metadata": {
    "collapsed": false
   },
   "outputs": [
    {
     "name": "stdout",
     "output_type": "stream",
     "text": [
      "\n",
      "\n",
      "--- new run ---\n",
      "\n",
      "0: eta=0.1 ps=[-0.429, 0.001, -0.155, 0.400, 0.399, -0.500, 0.160, -1.000, 0.264]\n",
      "new_J(): Opto condition # 1\n",
      "     - 1 - cost=0.0099822\n",
      "     - 1 - hBP=0.55, dP=0.0999165, hBA=0.5, dA=0.0999054\n",
      "new_J(): OVERALL\n",
      "     -- cost=0.0099822\n",
      "new_J(): Opto condition # 1\n",
      "     - 1 - cost=0.00997142\n",
      "     - 1 - hBP=0.525, dP=0.0999502, hBA=0.55, dA=0.0997637\n",
      "new_J(): OVERALL\n",
      "     -- cost=0.00997142\n",
      "1: eta=0.11 cost=0.00997142 jtype=constrained costheta=-1.000 ps=[-0.422276, 0.001, -0.0847118, 0.400978, 0.398837, -0.503857, 0.196969, -0.96128, 0.264452]\n",
      "new_J(): Opto condition # 1\n",
      "     - 1 - cost=0.0099591\n",
      "     - 1 - hBP=0.525, dP=0.100046, hBA=0.55, dA=0.0995436\n",
      "new_J(): OVERALL\n",
      "     -- cost=0.0099591\n",
      "2: eta=0.121 cost=0.0099591 jtype=constrained costheta=-0.980 ps=[-0.407887, 0.001, 0.000270793, 0.401965, 0.398997, -0.513784, 0.21685, -0.911431, 0.264442]\n",
      "new_J(): Opto condition # 1\n",
      "     - 1 - cost=0.00994713\n",
      "     - 1 - hBP=0.525, dP=0.0998951, hBA=0.525, dA=0.0995752\n",
      "new_J(): OVERALL\n",
      "     -- cost=0.00994713\n",
      "3: eta=0.1331 cost=0.00994713 jtype=constrained costheta=-0.990 ps=[-0.374429, 0.00100001, 0.0733116, 0.403258, 0.398835, -0.540138, 0.170298, -0.858299, 0.264446]\n",
      "new_J(): Opto condition # 1\n",
      "     - 1 - cost=0.00993437\n",
      "     - 1 - hBP=0.55, dP=0.0996734, hBA=0.525, dA=0.0996692\n",
      "new_J(): OVERALL\n",
      "     -- cost=0.00993437\n",
      "4: eta=0.14641 cost=0.00993437 jtype=constrained costheta=-0.971 ps=[-0.318163, 0.00100001, 0.121475, 0.404409, 0.398373, -0.584113, 0.134282, -0.794858, 0.264562]\n",
      "new_J(): Opto condition # 1\n",
      "     - 1 - cost=0.00991808\n",
      "     - 1 - hBP=0.55, dP=0.0995461, hBA=0.525, dA=0.099633\n",
      "new_J(): OVERALL\n",
      "     -- cost=0.00991808\n",
      "5: eta=0.161051 cost=0.00991808 jtype=constrained costheta=-0.858 ps=[-0.236647, 0.00100003, 0.105713, 0.394716, 0.39977, -0.643582, 0.118712, -0.7183, 0.265259]\n",
      "new_J(): Opto condition # 1\n",
      "     - 1 - cost=0.00988051\n",
      "     - 1 - hBP=0.55, dP=0.0994252, hBA=0.55, dA=0.0993764\n",
      "new_J(): OVERALL\n",
      "     -- cost=0.00988051\n",
      "6: eta=0.177156 cost=0.00988051 jtype=constrained costheta=-0.967 ps=[-0.158931, 0.00100006, 0.0625452, 0.373137, 0.407899, -0.697306, 0.112326, -0.61775, 0.267156]\n",
      "new_J(): Opto condition # 1\n",
      "     - 1 - cost=0.00963156\n",
      "     - 1 - hBP=0.575, dP=0.0976578, hBA=0.575, dA=0.0986209\n",
      "new_J(): OVERALL\n",
      "     -- cost=0.00963156\n",
      "7: eta=0.194872 cost=0.00963156 jtype=constrained costheta=-0.991 ps=[-0.0997988, 0.00100011, 0.0351373, 0.350533, 0.426646, -0.741091, 0.10931, -0.480143, 0.270513]\n",
      "new_J(): Opto condition # 1\n",
      "     - 1 - cost=0.00930867\n",
      "     - 1 - hBP=0.6, dP=0.09637, hBA=0.775, dA=0.0965927\n",
      "new_J(): OVERALL\n",
      "     -- cost=0.00930867\n",
      "About to break -- stop_func_out = true, tol=1e-12, new_cost-cost=-0.000322896, eta=0.194872\n"
     ]
    },
    {
     "data": {
      "text/plain": [
       "([-0.0648605, 0.00100015, 0.0214486, 0.345856, 0.458202, -0.770885, 0.108176, -0.310379, 0.273757], [0.1 0.11 … 0.194872 0.194872; 0.0099822 0.00997142 … 0.00963156 0.00930867; … ; -1.0 -0.96128 … -0.480143 -0.310379; 0.26446 0.264452 … 0.270513 0.273757], 0.009308666163021975, [6.0 69.0 … 5.0 0.0; 0.0 0.0 … 0.0 0.0; 0.0 1.92593e-34 … 7.70372e-34 0.0; -1.10515e-5 -1.4093e-5 … -0.00201862 0.0], Any[[-5.03378e-6, -1.19412e-9, -6.41891e-5, -4.02205e-7, -1.70532e-7, 2.80622e-6, -4.39626e-5, -4.59356e-5, 3.66948e-8] [-1.05869e-5, -1.6806e-9, -8.87332e-5, -7.73924e-7, -3.02593e-7, 6.79327e-6, -4.59802e-5, -6.47471e-5, 5.3307e-8] … [-0.000833089, -1.0618e-6, -0.000244135, 0.000128838, -0.00113966, 0.000728074, 0.000207516, -0.00369462, -0.00033328] [-0.00188041, 3.21329e-6, -0.00210065, 0.00904815, 0.00166737, -0.00024886, 0.000548634, 0.00754862, -0.000416611]; [-1.30243e-6 -4.26405e-9 … -2.88031e-5 -7.12949e-7; -4.26405e-9 -1.1928e-9 … -1.40527e-9 5.59815e-11; … ; -2.88031e-5 -1.40527e-9 … -0.000118994 2.73686e-7; -7.12949e-7 5.59815e-11 … 2.73686e-7 7.83777e-8] [-3.18496e-6 -8.86054e-9 … -6.01277e-5 -1.49572e-6; -8.86054e-9 -1.6787e-9 … -1.86858e-10 3.09454e-11; … ; -6.01277e-5 -1.86858e-10 … -0.000100092 3.971e-7; -1.49572e-6 3.09454e-11 … 3.971e-7 1.34864e-7] … [-0.00249209 -2.84691e-6 … -0.010884 -0.00067574; -2.84691e-6 -1.0618e-6 … -9.47282e-6 -1.04045e-6; … ; -0.010884 -9.47282e-6 … -0.0512258 -0.00460357; -0.00067574 -1.04045e-6 … -0.00460357 -0.000535898] [-0.00916119 1.52175e-5 … 0.0320336 0.000132206; 1.52175e-5 3.19052e-6 … -5.70194e-5 4.77953e-7; … ; 0.0320336 -5.70194e-5 … -0.176715 0.00194826; 0.000132206 4.77953e-7 … 0.00194826 -0.000120415]; ([0.0099822], [0.0999165], [0.0999054], [0.55], [0.5], [0.0997505 0.0585371 … 0.00749868 0.00736124; 0.0997505 0.0581319 … 0.0116926 0.0128186; 0.0997505 0.0589854 … 0.0197012 0.0180692; 0.0997505 0.0557488 … 0.00843594 0.00997189]\n",
       "\n",
       "[0.0997505 0.0461678 … 0.00708411 0.00723669; 0.0997505 0.0628272 … 0.0134404 0.0133915; 0.0997505 0.0575876 … 0.0141464 0.0138303; 0.0997505 0.0547321 … 0.00780091 0.00653498]\n",
       "\n",
       "[0.0997505 0.0471068 … 0.00640672 0.00736633; 0.0997505 0.0562719 … 0.0133278 0.013961; 0.0997505 0.0559125 … 0.0132157 0.0130913; 0.0997505 0.0633629 … 0.00750607 0.00821412]\n",
       "\n",
       "...\n",
       "\n",
       "[0.0997505 0.0597072 … 0.00809567 0.00908701; 0.0997505 0.0712355 … 0.0177208 0.0167702; 0.0997505 0.0577319 … 0.0185578 0.0186241; 0.0997505 0.0492925 … 0.00812301 0.00796301]\n",
       "\n",
       "[0.0997505 0.0479838 … 0.00875093 0.00752932; 0.0997505 0.0645192 … 0.0125341 0.013868; 0.0997505 0.0665376 … 0.0134127 0.0121979; 0.0997505 0.0650356 … 0.00706297 0.0071926]\n",
       "\n",
       "[0.0997505 0.0604778 … 0.00707247 0.00737675; 0.0997505 0.0702262 … 0.01759 0.0132178; 0.0997505 0.0640282 … 0.0147476 0.0185968; 0.0997505 0.056719 … 0.00693124 0.00721158], [0.0997505 0.0516145 … 0.00911503 0.008509; 0.0997505 0.0741651 … 0.0129114 0.0123075; 0.0997505 0.0585982 … 0.0119625 0.0134108; 0.0997505 0.0562552 … 0.00937177 0.00948065]\n",
       "\n",
       "[0.0997505 0.0532257 … 0.00836997 0.00810173; 0.0997505 0.0680801 … 0.0152171 0.0156742; 0.0997505 0.0620657 … 0.0133881 0.0135289; 0.0997505 0.056463 … 0.0089609 0.00959532]\n",
       "\n",
       "[0.0997505 0.0562973 … 0.0087706 0.0079811; 0.0997505 0.0574317 … 0.0192301 0.0190686; 0.0997505 0.0737061 … 0.0163078 0.0171466; 0.0997505 0.0557001 … 0.0107425 0.010899]\n",
       "\n",
       "...\n",
       "\n",
       "[0.0997505 0.0449438 … 0.00598439 0.00710433; 0.0997505 0.0629492 … 0.014119 0.0146122; 0.0997505 0.0656662 … 0.0156119 0.0137034; 0.0997505 0.0446366 … 0.00669967 0.00630946]\n",
       "\n",
       "[0.0997505 0.0637155 … 0.0073152 0.00770414; 0.0997505 0.0567412 … 0.0188705 0.0170633; 0.0997505 0.0649993 … 0.0157847 0.0131928; 0.0997505 0.0560162 … 0.00743886 0.00779019]\n",
       "\n",
       "[0.0997505 0.0592126 … 0.0106211 0.00979315; 0.0997505 0.0680762 … 0.0136086 0.0142555; 0.0997505 0.0657051 … 0.0145718 0.0148115; 0.0997505 0.0610159 … 0.00772617 0.00794866]) ([0.00997142], [0.0999502], [0.0997637], [0.525], [0.55], [0.0997505 0.0664602 … 0.0114769 0.0112299; 0.0997505 0.0599564 … 0.012577 0.0141338; 0.0997505 0.0610405 … 0.0240885 0.0216887; 0.0997505 0.0626114 … 0.0133627 0.0163791]\n",
       "\n",
       "[0.0997505 0.0496938 … 0.0106388 0.0109478; 0.0997505 0.0659606 … 0.0150275 0.014988; 0.0997505 0.0592668 … 0.0161293 0.0156828; 0.0997505 0.0612174 … 0.0120659 0.00971298]\n",
       "\n",
       "[0.0997505 0.0509371 … 0.00942725 0.0112082; 0.0997505 0.0576057 … 0.0148355 0.0157493; 0.0997505 0.0571533 … 0.0147997 0.0146356; 0.0997505 0.0732059 … 0.0115417 0.0128853]\n",
       "\n",
       "...\n",
       "\n",
       "[0.0997505 0.0680861 … 0.0125409 0.0144752; 0.0997505 0.0769436 … 0.0210894 0.0197551; 0.0997505 0.0594495 … 0.0224976 0.0226009; 0.0997505 0.0538509 … 0.0126893 0.0123805]\n",
       "\n",
       "[0.0997505 0.0521029 … 0.0138566 0.011542; 0.0997505 0.0681478 … 0.0137185 0.0155771; 0.0997505 0.0707724 … 0.0150407 0.0133887; 0.0997505 0.0755675 … 0.0107344 0.010972]\n",
       "\n",
       "[0.0997505 0.0691605 … 0.0106596 0.0112343; 0.0997505 0.0756107 … 0.0208303 0.0147115; 0.0997505 0.0675119 … 0.0169088 0.0225111; 0.0997505 0.0639463 … 0.0104828 0.0109917], [0.0997505 0.0576445 … 0.0145917 0.0134392; 0.0997505 0.0798464 … 0.0142023 0.0134187; 0.0997505 0.0597926 … 0.013031 0.0149993; 0.0997505 0.0640452 … 0.0152165 0.0154323]\n",
       "\n",
       "[0.0997505 0.0598541 … 0.0130931 0.01261; 0.0997505 0.0718926 … 0.0174519 0.0181321; 0.0997505 0.0641732 … 0.0150277 0.0152177; 0.0997505 0.0643344 … 0.0143507 0.0156084]\n",
       "\n",
       "[0.0997505 0.0641037 … 0.0138361 0.0123602; 0.0997505 0.0583312 … 0.0233002 0.0230912; 0.0997505 0.0792416 … 0.0191789 0.0203796; 0.0997505 0.0632738 … 0.0178805 0.0182135]\n",
       "\n",
       "...\n",
       "\n",
       "[0.0997505 0.0486506 … 0.00866217 0.010708; 0.0997505 0.0652977 … 0.0159373 0.0166759; 0.0997505 0.0687765 … 0.0181822 0.0155025; 0.0997505 0.0482429 … 0.0100327 0.00931155]\n",
       "\n",
       "[0.0997505 0.0745518 … 0.0110917 0.0118334; 0.0997505 0.0574692 … 0.0227488 0.0201644; 0.0997505 0.0679199 … 0.0184127 0.0147824; 0.0997505 0.063713 … 0.0114114 0.012066]\n",
       "\n",
       "[0.0997505 0.0681799 … 0.0175444 0.0159256; 0.0997505 0.0718876 … 0.015191 0.0161107; 0.0997505 0.0688266 … 0.0166669 0.0169972; 0.0997505 0.070721 … 0.0119736 0.0124029]) … ([0.00963156], [0.0976578], [0.0986209], [0.575], [0.575], [0.0997505 0.115146 … 0.192074 0.184353; 0.0997505 0.0987144 … 0.0486499 0.0546829; 0.0997505 0.0996602 … 0.0793806 0.0763183; 0.0997505 0.111589 … 0.194814 0.206718]\n",
       "\n",
       "[0.0997505 0.0988166 … 0.143044 0.142845; 0.0997505 0.103858 … 0.0757697 0.0767675; 0.0997505 0.0981087 … 0.0801356 0.0795262; 0.0997505 0.110275 … 0.147384 0.131505]\n",
       "\n",
       "[0.0997505 0.10011 … 0.15376 0.16183; 0.0997505 0.0966361 … 0.064179 0.0687875; 0.0997505 0.0962317 … 0.0668865 0.0678126; 0.0997505 0.121154 … 0.16507 0.169582]\n",
       "\n",
       "...\n",
       "\n",
       "[0.0997505 0.116619 … 0.153535 0.161567; 0.0997505 0.112742 … 0.0899587 0.0885076; 0.0997505 0.0982696 … 0.0977239 0.0986981; 0.0997505 0.103083 … 0.148894 0.145352]\n",
       "\n",
       "[0.0997505 0.101309 … 0.191429 0.171767; 0.0997505 0.105678 … 0.0570573 0.062887; 0.0997505 0.107827 … 0.0691834 0.0658898; 0.0997505 0.123195 … 0.160072 0.158923]\n",
       "\n",
       "[0.0997505 0.117584 … 0.163322 0.16161; 0.0997505 0.111696 … 0.0759544 0.0657665; 0.0997505 0.105152 … 0.0709605 0.0848173; 0.0997505 0.112834 … 0.160036 0.158893], [0.0997505 0.104598 … 0.163657 0.157923; 0.0997505 0.117627 … 0.0743374 0.0716917; 0.0997505 0.100872 … 0.0705737 0.075361; 0.0997505 0.11057 … 0.167998 0.169759]\n",
       "\n",
       "[0.0997505 0.106693 … 0.135169 0.133812; 0.0997505 0.111243 … 0.0953704 0.0964024; 0.0997505 0.10473 … 0.0877013 0.0870815; 0.0997505 0.110833 … 0.144957 0.151885]\n",
       "\n",
       "[0.0997505 0.110623 … 0.133002 0.126869; 0.0997505 0.0995562 … 0.115861 0.114368; 0.0997505 0.117152 … 0.103027 0.104437; 0.0997505 0.109865 … 0.154266 0.157197]\n",
       "\n",
       "...\n",
       "\n",
       "[0.0997505 0.0956466 … 0.11499 0.126388; 0.0997505 0.1057 … 0.0864731 0.0901087; 0.0997505 0.108654 … 0.0955971 0.0884498; 0.0997505 0.0952228 … 0.124378 0.117955]\n",
       "\n",
       "[0.0997505 0.119795 … 0.121786 0.124749; 0.0997505 0.0987728 … 0.113128 0.106596; 0.0997505 0.107934 … 0.100119 0.0897464; 0.0997505 0.110267 … 0.124648 0.127792]\n",
       "\n",
       "[0.0997505 0.114279 … 0.162626 0.156828; 0.0997505 0.111239 … 0.0837784 0.0851467; 0.0997505 0.108696 … 0.0930869 0.093041; 0.0997505 0.116507 … 0.133084 0.13633]) ([0.00930867], [0.09637], [0.0965927], [0.6], [0.775], [0.0997505 0.133552 … 0.75378 0.745744; 0.0997505 0.116414 … 0.0140663 0.0156493; 0.0997505 0.117496 … 0.0229436 0.0217296; 0.0997505 0.129551 … 0.760541 0.776572]\n",
       "\n",
       "[0.0997505 0.115132 … 0.73003 0.726823; 0.0997505 0.122293 … 0.0176139 0.0181287; 0.0997505 0.115721 … 0.018795 0.0188335; 0.0997505 0.128072 … 0.738197 0.709242]\n",
       "\n",
       "[0.0997505 0.116596 … 0.716716 0.72795; 0.0997505 0.114035 … 0.0173781 0.0187349; 0.0997505 0.113572 … 0.0179477 0.0182137; 0.0997505 0.140296 … 0.734075 0.739809]\n",
       "\n",
       "...\n",
       "\n",
       "[0.0997505 0.135207 … 0.740557 0.752014; 0.0997505 0.13241 … 0.0215494 0.0211978; 0.0997505 0.115905 … 0.024209 0.0243383; 0.0997505 0.119958 … 0.734172 0.729224]\n",
       "\n",
       "[0.0997505 0.117953 … 0.762992 0.738871; 0.0997505 0.124369 … 0.0153931 0.0169614; 0.0997505 0.126818 … 0.0191132 0.0181378; 0.0997505 0.142583 … 0.725272 0.723788]\n",
       "\n",
       "[0.0997505 0.13629 … 0.735885 0.733756; 0.0997505 0.131221 … 0.0201542 0.017287; 0.0997505 0.123768 … 0.0189266 0.0227788; 0.0997505 0.130952 … 0.729183 0.727762], [0.0997505 0.12161 … 0.0332808 0.0332792; 0.0997505 0.138026 … 0.615121 0.59631; 0.0997505 0.118945 … 0.592169 0.601301; 0.0997505 0.128342 … 0.0376809 0.0392827]\n",
       "\n",
       "[0.0997505 0.123974 … 0.0447072 0.0447763; 0.0997505 0.130773 … 0.548668 0.549332; 0.0997505 0.123351 … 0.51058 0.508993; 0.0997505 0.128638 … 0.0562338 0.0588659]\n",
       "\n",
       "[0.0997505 0.128402 … 0.0580039 0.0539913; 0.0997505 0.117439 … 0.534315 0.535751; 0.0997505 0.137487 … 0.487653 0.499125; 0.0997505 0.127549 … 0.0769422 0.0763595]\n",
       "\n",
       "...\n",
       "\n",
       "[0.0997505 0.111486 … 0.0207383 0.0242532; 0.0997505 0.124459 … 0.668333 0.667525; 0.0997505 0.127827 … 0.674635 0.650246; 0.0997505 0.111006 … 0.0259813 0.0249244]\n",
       "\n",
       "[0.0997505 0.138706 … 0.0246092 0.0254706; 0.0997505 0.116543 … 0.712031 0.695664; 0.0997505 0.127005 … 0.6799 0.651048; 0.0997505 0.128001 … 0.0262517 0.0273215]\n",
       "\n",
       "[0.0997505 0.132514 … 0.0307019 0.0303046; 0.0997505 0.130769 … 0.669371 0.667633; 0.0997505 0.127874 … 0.67662 0.672132; 0.0997505 0.135016 … 0.0259048 0.027041])])"
      ]
     },
     "execution_count": 58,
     "metadata": {},
     "output_type": "execute_result"
    }
   ],
   "source": [
    "    extra_pars[:seedrand] = extra_pars[:seedrand]+1\n",
    "\n",
    "    @printf(\"\\n\\n--- new run ---\\n\\n\")\n",
    "    args = []; seed = []; bbox = Dict()\n",
    "    for k in keys(search_conditions)\n",
    "        search_box = search_conditions[k][2]\n",
    "        args = [args; String(k)]\n",
    "        # --- search within the indicated search range:\n",
    "        myseed = search_conditions[k][1] + search_range*(rand()-0.5)*diff(search_box); myseed = myseed[1]\n",
    "        if myseed > search_box[2]; myseed = search_box[2]; end\n",
    "        if myseed < search_box[1]; myseed = search_box[1]; end\n",
    "        seed = [seed ;  myseed]\n",
    "        # --- No search, just start at the indicated position:\n",
    "        # seed = [seed ; search_conditions[k][1]]\n",
    "        bbox = merge(bbox, Dict(k => Array{Float64}(search_conditions[k][3])))\n",
    "    end\n",
    "    args = Array{String}(args)\n",
    "    seed = Array{Float64}(seed)\n",
    "\n",
    "\n",
    "        pars2, traj2, cost2, cpm_traj2, ftraj2 = bbox_Hessian_keyword_minimization(seed, \n",
    "            args, bbox, func2, \n",
    "            stopping_function = stopping_func, \n",
    "            start_eta = 0.1, tol=1e-12, verbose=true, verbose_every=1, maxiter=maxiter2)\n"
   ]
  },
  {
   "cell_type": "code",
   "execution_count": null,
   "metadata": {
    "collapsed": false
   },
   "outputs": [],
   "source": []
  },
  {
   "cell_type": "code",
   "execution_count": null,
   "metadata": {
    "collapsed": false
   },
   "outputs": [],
   "source": []
  },
  {
   "cell_type": "code",
   "execution_count": null,
   "metadata": {
    "collapsed": false
   },
   "outputs": [],
   "source": [
    "func2(;make_dict(args, pars2)...)"
   ]
  },
  {
   "cell_type": "code",
   "execution_count": 66,
   "metadata": {
    "collapsed": false
   },
   "outputs": [
    {
     "data": {
      "text/plain": [
       "true"
      ]
     },
     "execution_count": 66,
     "metadata": {},
     "output_type": "execute_result"
    }
   ],
   "source": [
    "G = ftraj2[3,end]\n",
    "length(G)\n",
    "\n",
    "function stopping_func(;cost=0, func_out=[], ignored_extra_params...)\n",
    "    costf, dP, dA, hBP, hBA = func_out\n",
    "    return hBP[1]>=0.6 && hBA[1] >= 0.6\n",
    "end\n",
    "\n",
    "stopping_func(;cost=cost2, func_out=ftraj2[3,end])\n"
   ]
  },
  {
   "cell_type": "code",
   "execution_count": null,
   "metadata": {
    "collapsed": false
   },
   "outputs": [],
   "source": []
  },
  {
   "cell_type": "markdown",
   "metadata": {},
   "source": [
    "# Analyzing runs from reduced_farm.jl : analyze_reduced_farm.jl"
   ]
  },
  {
   "cell_type": "code",
   "execution_count": null,
   "metadata": {
    "collapsed": true
   },
   "outputs": [],
   "source": [
    "#@include_me  analyze_reduced_farm.jl\n",
    "\n",
    "include(\"pro_anti.jl\")\n",
    "\n",
    "#\n",
    "#  We're assuming that results of reduced_farm.jl were already generated.\n",
    "#"
   ]
  },
  {
   "cell_type": "code",
   "execution_count": null,
   "metadata": {
    "collapsed": false
   },
   "outputs": [],
   "source": [
    "#@include_me  analyze_reduced_farm.jl\n",
    "\n",
    "\"\"\"\n",
    "hBP, hBA, d = function show_run(run_name, ntrials=100; farmdir=\"FarmFields\", further_pars...)\n",
    "\n",
    "Given a string representing the filename of a run generated in reduced_farm.jl\n",
    "(for example, \"farm_C3_0027.jld\"), tries to load that file from within \"FarmFields/\"\n",
    "runs it to plot 30 Pro trials in figure 1 and 30 Anti trials in figure 2,\n",
    "and indicates in those figures the corresponding number of binarized hits.\n",
    "\n",
    "Any further parameters override the contents of the farm and are passed on to \n",
    "run_ntrials(), so for example you can set rule_and_delay_period=0.2\n",
    "\n",
    "# RETURNS:\n",
    "\n",
    "- hBP, hBA   binarized Pro % hit and Anti % hit\n",
    "\n",
    "- d          the raw dictionary obtained from first loading the file.\n",
    "\n",
    "\"\"\"\n",
    "function show_run(run_name, ntrials=100; farmdir=\"FarmFields\", further_pars...)\n",
    "\n",
    "    pygui(true)\n",
    "    figure(1); clf();\n",
    "    figure(2); clf();\n",
    "\n",
    "    if endswith(farmdir, \"/\"); farmdir=farmdir[1:end-1]; end;\n",
    "    \n",
    "    if endswith(run_name, \".jld\")\n",
    "        d = load(farmdir * \"/\" * run_name)\n",
    "\n",
    "        extra_pars = d[\"extra_pars\"]\n",
    "        mypars     = d[\"mypars\"]\n",
    "        args       = d[\"args\"]\n",
    "        pars       = d[\"pars\"]\n",
    "    elseif endswith(run_name, \".mat\")                                \n",
    "        d = matread(farmdir * \"/\" * run_name)\n",
    "        \n",
    "        extra_pars = Dict()\n",
    "        mypars     = symbol_key_ize(d[\"model_params\"])\n",
    "        args       = d[\"args\"]\n",
    "        pars       = d[\"pars\"]\n",
    "    else\n",
    "        error(\"Whoa, I only know how to load .mat and .jld files\")\n",
    "    end\n",
    "\n",
    "    delete!(extra_pars, :plot_list)   # we want our own plot_list\n",
    "    delete!(extra_pars, :seedrand)    # don't use the farm's seedrand. (Could change this if wanted)\n",
    "\n",
    "    # Add or replace alternative period values if needed\n",
    "    # if rule_and_delay_period != nothing; extra_pars[:rule_and_delay_period] = rule_and_delay_period; end;\n",
    "    # if target_period         != nothing; extra_pars[:target_period]         = target_period;         end;\n",
    "    # if post_target_period    != nothing; extra_pars[:post_target_period]    = post_target_period;    end;\n",
    "\n",
    "    # Run it\n",
    "    proVs, antiVs = run_ntrials(ntrials, ntrials; plot_list=[1:30;], \n",
    "        merge(make_dict(args, pars, merge(mypars, extra_pars)), Dict(further_pars))...)[1:2]\n",
    "\n",
    "    # Add titles with the binarized hit rates\n",
    "    hBP = 100*length(find(proVs[1,:]  .> proVs[4,:])) /size(proVs, 2)\n",
    "    hBA = 100*length(find(antiVs[4,:] .> antiVs[1,:]))/size(antiVs,2)\n",
    "\n",
    "    figure(1); subplot(3,1,1); title(@sprintf(\"%s: binarized Pro  hits = %.1f %%\\n\", run_name, hBP))\n",
    "    figure(2); subplot(3,1,1); title(@sprintf(\"%s: binarized Anti hits = %.1f %%\\n\", run_name, hBA))\n",
    "    \n",
    "    return hBP, hBA, d\n",
    "end\n",
    "\n"
   ]
  },
  {
   "cell_type": "code",
   "execution_count": 19,
   "metadata": {
    "collapsed": false
   },
   "outputs": [
    {
     "name": "stdout",
     "output_type": "stream",
     "text": [
      "52.04 % good runs\n"
     ]
    }
   ],
   "source": [
    "#@include_me analyze_reduced_farm.jl\n",
    "\n",
    "# IDENTIFY GOOD RUNS FROM FARM\n",
    "\n",
    "I = results = files = 0\n",
    "\n",
    "farm_id = \"C4\"; farmdir = \"FarmFields\"\n",
    "farm_id = \"C6\"; farmdir = \"../NewFarms\"\n",
    "farm_id = \"C6\"; farmdir = \"../NewFarms\"\n",
    "\n",
    "recompute_me = true; if recompute_me || !isfile(\"Temp/\" * farm_id * \"_results.jld\")\n",
    "    results = zeros(0,4)\n",
    "    files = []\n",
    "    for f in filter(x -> startswith(x, \"farm_\" * farm_id * \"_\"), readdir(farmdir * \"/\"))\n",
    "\n",
    "        hBP, hBA, dP, dA= load(farmdir * \"/\" * f, \"hBP\", \"hBA\", \"dP\", \"dA\")\n",
    "        results = [results; [hBP hBA dP dA]]; \n",
    "        files   = [files ; f]\n",
    "    end\n",
    "    \n",
    "    I = find((results[:,1] .> 0.85) .& (results[:,2] .> 0.65) .& (results[:,3].>0.9) .& (results[:,4].>0.9) .&\n",
    "                ((results[:,1]-results[:,2]) .> 0.15) )\n",
    "\n",
    "    @save \"Temp/\" * farm_id * \"_results.jld\" results files I\n",
    "else\n",
    "    I, results, files = load(\"Temp/\" * farm_id *\"_results.jld\", \"I\", \"results\", \"files\");\n",
    "end\n",
    "\n",
    "@printf(\"%.2f %% good runs\\n\", 100*length(I)/length(files))\n"
   ]
  },
  {
   "cell_type": "code",
   "execution_count": null,
   "metadata": {
    "collapsed": false
   },
   "outputs": [],
   "source": [
    "files[I]"
   ]
  },
  {
   "cell_type": "code",
   "execution_count": 17,
   "metadata": {
    "collapsed": false
   },
   "outputs": [
    {
     "name": "stdout",
     "output_type": "stream",
     "text": [
      "n=1 farm_C6_0001.jld: -0.0009903029971390963  hBP=0.90, hBA=0.68 dP=1.00 dA=0.98\n",
      "n=1 farm_C6_0002.jld: -0.0009976968949600518  hBP=0.86, hBA=0.75 dP=0.99 dA=0.99\n",
      "n=1 farm_C6_0003.jld: -0.0009988908652475799  hBP=0.87, hBA=0.70 dP=1.00 dA=0.99\n",
      "n=1 farm_C6_0004.jld: -0.000997021726587734  hBP=0.90, hBA=0.72 dP=1.00 dA=0.99\n",
      "n=1 farm_C6_0005.jld: -0.0009999871920712523  hBP=0.87, hBA=0.69 dP=1.00 dA=1.00\n",
      "n=1 farm_C6_0006.jld: -0.0009857890823455505  hBP=0.88, hBA=0.75 dP=0.99 dA=0.97\n",
      "n=1 farm_C6_0007.jld: -0.0009962907956387534  hBP=0.88, hBA=0.70 dP=1.00 dA=0.99\n",
      "n=1 farm_C6_0008.jld: -0.00099393538259116  hBP=0.89, hBA=0.71 dP=0.99 dA=0.98\n",
      "n=1 farm_C6_0009.jld: -0.0009937452607150247  hBP=0.89, hBA=0.68 dP=1.00 dA=0.99\n",
      "n=1 farm_C6_0010.jld: -0.000993798601891312  hBP=0.90, hBA=0.69 dP=0.99 dA=0.98\n",
      "n=1 farm_C6_0011.jld: -0.000967268497377754  hBP=0.93, hBA=0.70 dP=1.00 dA=0.94\n",
      "n=1 farm_C6_0012.jld: -0.0009889484768736377  hBP=0.89, hBA=0.73 dP=1.00 dA=0.98\n",
      "n=1 farm_C6_0013.jld: -0.0009928483864056615  hBP=0.92, hBA=0.74 dP=1.00 dA=0.99\n",
      "n=2 farm_C6_0014.jld: -0.0009997408396759516  hBP=0.90, hBA=0.58 dP=1.00 dA=0.99\n",
      "n=1 farm_C6_0015.jld: -0.0009729322342479671  hBP=0.89, hBA=0.73 dP=0.99 dA=0.94\n",
      "n=1 farm_C6_0016.jld: -0.0009999934967057594  hBP=0.86, hBA=0.66 dP=1.00 dA=1.00\n",
      "n=2 farm_C6_0017.jld: 0.09001297608272085  hBP=1.00, hBA=0.00 dP=0.01 dA=0.01\n",
      "n=1 farm_C6_0018.jld: -0.000991805215463639  hBP=0.88, hBA=0.69 dP=0.99 dA=0.98\n",
      "n=1 farm_C6_0019.jld: -0.0009879688914398368  hBP=0.90, hBA=0.68 dP=1.00 dA=0.97\n",
      "n=1 farm_C6_0020.jld: -0.0009994654085616868  hBP=0.91, hBA=0.75 dP=1.00 dA=0.99\n",
      "n=1 farm_C6_0021.jld: -0.0009839234278928328  hBP=0.88, hBA=0.72 dP=0.99 dA=0.97\n",
      "n=1 farm_C6_0022.jld: -0.0009843709041499255  hBP=0.86, hBA=0.69 dP=0.99 dA=0.98\n",
      "n=1 farm_C6_0023.jld: -0.0009937456931649923  hBP=0.87, hBA=0.72 dP=1.00 dA=0.98\n",
      "n=1 farm_C6_0024.jld: -0.000999968408908519  hBP=0.90, hBA=0.68 dP=1.00 dA=1.00\n",
      "n=1 farm_C6_0025.jld: -0.000992373110325613  hBP=0.94, hBA=0.70 dP=1.00 dA=0.99\n",
      "n=1 farm_C6_0026.jld: -0.0009763111036849005  hBP=0.90, hBA=0.70 dP=0.97 dA=0.96\n",
      "n=1 farm_C6_0027.jld: -0.0009927079679791719  hBP=0.88, hBA=0.71 dP=0.99 dA=0.98\n",
      "n=1 farm_C6_0028.jld: -0.0009914089089523813  hBP=0.92, hBA=0.75 dP=0.99 dA=0.99\n",
      "n=1 farm_C6_0029.jld: -0.0009886924239132567  hBP=0.86, hBA=0.75 dP=1.00 dA=0.98\n",
      "n=1 farm_C6_0030.jld: -0.0009951326695939956  hBP=0.84, hBA=0.67 dP=0.99 dA=0.98\n",
      "n=1 farm_C6_0031.jld: -0.0009905253138915134  hBP=0.89, hBA=0.66 dP=0.99 dA=0.99\n",
      "n=1 farm_C6_0032.jld: -0.000995085519920803  hBP=0.93, hBA=0.68 dP=0.99 dA=0.99\n",
      "n=2 farm_C6_0033.jld: 0.07358640605601387  hBP=0.68, hBA=0.33 dP=0.09 dA=0.07\n",
      "n=1 farm_C6_0034.jld: -0.0009998728669264624  hBP=0.88, hBA=0.65 dP=1.00 dA=1.00\n",
      "n=1 farm_C6_0035.jld: -0.0009962597428189752  hBP=0.91, hBA=0.76 dP=0.99 dA=0.98\n",
      "n=1 farm_C6_0036.jld: -0.0009932147087506693  hBP=0.86, hBA=0.70 dP=1.00 dA=0.99\n",
      "n=1 farm_C6_0037.jld: -0.0009981141401948317  hBP=0.90, hBA=0.72 dP=1.00 dA=1.00\n",
      "n=2 farm_C6_0038.jld: 0.06328814985521955  hBP=0.66, hBA=0.34 dP=0.43 dA=0.43\n",
      "n=1 farm_C6_0039.jld: -0.0009983616065518098  hBP=0.91, hBA=0.71 dP=1.00 dA=0.99\n",
      "n=1 farm_C6_0040.jld: -0.0009982256519455884  hBP=0.91, hBA=0.73 dP=1.00 dA=0.99\n",
      "n=1 farm_C6_0041.jld: -0.0009994025835621736  hBP=0.90, hBA=0.69 dP=0.99 dA=1.00\n",
      "n=2 farm_C6_0042.jld: 0.04449854743743784  hBP=0.78, hBA=0.28 dP=0.36 dA=0.04\n",
      "n=2 farm_C6_0043.jld: 0.06766165753533684  hBP=0.60, hBA=0.41 dP=0.68 dA=0.68\n",
      "n=2 farm_C6_0044.jld: 0.07362348638366618  hBP=0.04, hBA=0.66 dP=0.04 dA=0.89\n",
      "n=2 farm_C6_0045.jld: 0.021053440583644296  hBP=0.88, hBA=0.44 dP=0.99 dA=0.99\n",
      "n=1 farm_C6_0046.jld: -0.0009999934811844439  hBP=0.84, hBA=0.68 dP=0.99 dA=0.99\n",
      "n=2 farm_C6_0047.jld: 0.027815629343205035  hBP=0.89, hBA=0.47 dP=0.96 dA=1.00\n",
      "n=1 farm_C6_0048.jld: -0.0009963886256293003  hBP=0.91, hBA=0.69 dP=1.00 dA=0.99\n",
      "n=1 farm_C6_0049.jld: -0.0009949389641834873  hBP=0.92, hBA=0.70 dP=1.00 dA=0.98\n",
      "n=2 farm_C6_0050.jld: 0.1115421303536163  hBP=0.50, hBA=0.49 dP=1.00 dA=1.00\n",
      "n=1 farm_C6_0051.jld: -0.0009989873494072698  hBP=0.87, hBA=0.64 dP=1.00 dA=0.99\n",
      "n=1 farm_C6_0052.jld: -0.0009854935233989124  hBP=0.84, hBA=0.73 dP=0.99 dA=0.98\n",
      "n=1 farm_C6_0053.jld: -0.0009988492732764757  hBP=0.88, hBA=0.66 dP=1.00 dA=0.99\n",
      "n=2 farm_C6_0054.jld: 0.06484538003775372  hBP=0.62, hBA=0.37 dP=0.69 dA=0.69\n",
      "n=1 farm_C6_0055.jld: -0.0009956983572706499  hBP=0.92, hBA=0.74 dP=1.00 dA=0.99\n",
      "n=1 farm_C6_0056.jld: -0.0009999626698891147  hBP=0.92, hBA=0.70 dP=1.00 dA=1.00\n",
      "n=2 farm_C6_0057.jld: 0.10000000000027014  hBP=0.50, hBA=0.50 dP=0.00 dA=0.00\n",
      "n=1 farm_C6_0058.jld: -0.0009877748529689872  hBP=0.85, hBA=0.73 dP=1.00 dA=0.98\n",
      "n=1 farm_C6_0059.jld: -0.0009990639080017553  hBP=0.90, hBA=0.69 dP=1.00 dA=0.99\n",
      "n=1 farm_C6_0060.jld: -0.000992699356435078  hBP=0.93, hBA=0.66 dP=0.98 dA=0.96\n",
      "n=2 farm_C6_0061.jld: 0.058406109478450915  hBP=0.58, hBA=0.41 dP=0.59 dA=0.60\n",
      "n=2 farm_C6_0062.jld: -0.0005341991903194673  hBP=0.88, hBA=0.98 dP=0.98 dA=0.09\n",
      "n=1 farm_C6_0063.jld: -0.0009999922084299373  hBP=0.93, hBA=0.74 dP=1.00 dA=1.00\n",
      "n=1 farm_C6_0064.jld: -0.0009985310102928883  hBP=0.89, hBA=0.73 dP=1.00 dA=0.99\n",
      "n=1 farm_C6_0065.jld: -0.0009990215864123897  hBP=0.85, hBA=0.63 dP=1.00 dA=1.00\n",
      "n=2 farm_C6_0066.jld: 0.06530891992097232  hBP=0.63, hBA=0.40 dP=0.24 dA=0.39\n",
      "n=1 farm_C6_0067.jld: -0.0009311842243857735  hBP=0.87, hBA=0.68 dP=0.97 dA=0.90\n",
      "n=2 farm_C6_0068.jld: 0.09040957313653492  hBP=1.00, hBA=0.00 dP=0.01 dA=0.01\n",
      "n=1 farm_C6_0069.jld: -0.000999397443192592  hBP=0.91, hBA=0.68 dP=1.00 dA=0.99\n",
      "n=1 farm_C6_0070.jld: -0.0009946188462849374  hBP=0.89, hBA=0.71 dP=1.00 dA=0.98\n",
      "n=2 farm_C6_0071.jld: -0.0007062392733503633  hBP=0.92, hBA=0.83 dP=0.95 dA=0.44\n",
      "n=2 farm_C6_0072.jld: 0.07716024510806543  hBP=0.50, hBA=0.51 dP=0.17 dA=0.37\n",
      "n=2 farm_C6_0073.jld: 0.07498596171534656  hBP=0.89, hBA=0.16 dP=0.05 dA=0.16\n",
      "n=2 farm_C6_0074.jld: 0.10000000000063235  hBP=0.57, hBA=0.42 dP=0.00 dA=0.00\n",
      "n=1 farm_C6_0075.jld: -0.000992106717906048  hBP=0.93, hBA=0.64 dP=0.99 dA=0.98\n",
      "n=2 farm_C6_0076.jld: -0.0009960141825071066  hBP=0.93, hBA=0.72 dP=1.00 dA=0.99\n",
      "n=2 farm_C6_0077.jld: 0.013464002275767927  hBP=0.92, hBA=0.49 dP=0.98 dA=1.00\n",
      "n=1 farm_C6_0078.jld: -0.0009931545908367673  hBP=0.84, hBA=0.69 dP=0.99 dA=0.98\n",
      "n=2 farm_C6_0079.jld: 0.016524314841479395  hBP=0.90, hBA=0.49 dP=0.45 dA=0.11\n",
      "n=1 farm_C6_0080.jld: -0.0009984473905499396  hBP=0.90, hBA=0.71 dP=1.00 dA=0.99\n",
      "n=1 farm_C6_0081.jld: -0.0009933641900176293  hBP=0.91, hBA=0.74 dP=1.00 dA=0.98\n",
      "n=1 farm_C6_0082.jld: -0.0009823404933392117  hBP=0.89, hBA=0.73 dP=0.98 dA=0.97\n",
      "n=1 farm_C6_0083.jld: -0.0009956619579650165  hBP=0.91, hBA=0.63 dP=1.00 dA=0.99\n",
      "n=2 farm_C6_0084.jld: -0.0009999928588311905  hBP=0.90, hBA=0.70 dP=1.00 dA=1.00\n",
      "n=1 farm_C6_0085.jld: -0.000911296310361765  hBP=0.93, hBA=0.66 dP=0.99 dA=0.84\n",
      "n=1 farm_C6_0086.jld: -0.0009977950453910896  hBP=0.91, hBA=0.68 dP=1.00 dA=1.00\n",
      "n=2 farm_C6_0087.jld: 0.04526667134991396  hBP=0.91, hBA=0.01 dP=0.28 dA=0.03\n",
      "n=2 farm_C6_0088.jld: 0.05124075107170154  hBP=0.90, hBA=0.31 dP=0.37 dA=0.12\n",
      "n=2 farm_C6_0089.jld: 0.08088279941299303  hBP=0.64, hBA=0.38 dP=0.22 dA=0.26\n",
      "n=2 farm_C6_0090.jld: 0.08445512108898473  hBP=0.66, hBA=0.33 dP=0.34 dA=0.34\n",
      "n=2 farm_C6_0091.jld: 0.09076071639201592  hBP=1.00, hBA=0.00 dP=0.01 dA=0.01\n",
      "n=1 farm_C6_0092.jld: -0.000988806374160333  hBP=0.88, hBA=0.69 dP=1.00 dA=0.98\n",
      "n=2 farm_C6_0093.jld: 0.08894082576963389  hBP=0.95, hBA=0.05 dP=0.02 dA=0.03\n",
      "n=2 farm_C6_0094.jld: 0.07958965441812618  hBP=0.00, hBA=0.69 dP=0.00 dA=0.81\n",
      "n=1 farm_C6_0095.jld: -0.0009960607265306087  hBP=0.90, hBA=0.67 dP=1.00 dA=0.98\n",
      "n=2 farm_C6_0096.jld: 0.019567744561766732  hBP=0.94, hBA=0.39 dP=0.89 dA=0.00\n",
      "n=1 farm_C6_0097.jld: -0.0009997180137372354  hBP=0.92, hBA=0.73 dP=1.00 dA=0.99\n",
      "n=2 farm_C6_0098.jld: 0.014045560545263486  hBP=0.91, hBA=0.48 dP=0.43 dA=0.03\n",
      "\n",
      " For ntries=1, success rate 100.00%, for ntries=2, rate 9.09%\n"
     ]
    }
   ],
   "source": [
    "# Sanity check on whether we are getting results in the trajectory that matches algorithm\n",
    "# behavior\n",
    "\n",
    "ngoods = [0, 0]\n",
    "nguys  = [0, 0]\n",
    "\n",
    "farm_id = \"C6\"; farmdir = \"../NewFarms\"\n",
    "for f in filter(x -> startswith(x, \"farm_\" * farm_id * \"_\"), readdir(farmdir * \"/\"))\n",
    "    d = load(farmdir * \"/\" * f)\n",
    "    @printf(\"n=%d %s: \", d[\"ntries\"], f); \n",
    "    if d[\"ntries\"]==1\n",
    "        print(d[\"traj1\"][2,end])        \n",
    "        nguys[1] += 1\n",
    "        ngoods[1] += d[\"traj1\"][2,end] <= -0.0009 ? 1 : 0\n",
    "    else\n",
    "        print(d[\"traj3\"][2,end])\n",
    "        nguys[2] += 1\n",
    "        ngoods[2] += d[\"traj3\"][2,end] <= -0.0009 ? 1 : 0\n",
    "    end\n",
    "    @printf(\"  hBP=%.2f, hBA=%.2f dP=%.2f dA=%.2f\", d[\"hBP\"][1], d[\"hBA\"][1], \n",
    "        d[\"dP\"][1], d[\"dA\"][1])\n",
    "    @printf(\"\\n\")\n",
    "end\n",
    "\n",
    "@printf(\"\\n For ntries=1, success rate %.2f%%, for ntries=2, rate %.2f%%\\n\", 100*ngoods[1]/nguys[1], 100*ngoods[2]/nguys[2])"
   ]
  },
  {
   "cell_type": "code",
   "execution_count": 18,
   "metadata": {
    "collapsed": false
   },
   "outputs": [
    {
     "data": {
      "text/plain": [
       "2×2 Array{Int64,2}:\n",
       " 65  65\n",
       " 33   3"
      ]
     },
     "execution_count": 18,
     "metadata": {},
     "output_type": "execute_result"
    }
   ],
   "source": [
    "[nguys ngoods]"
   ]
  },
  {
   "cell_type": "code",
   "execution_count": null,
   "metadata": {
    "collapsed": false
   },
   "outputs": [],
   "source": [
    "d = load(\"../NewFarms/farm_C6_0002.jld\")\n",
    "\n",
    "mypars     = d[\"mypars\"]\n",
    "extra_pars = d[\"extra_pars\"] \n",
    "args       = d[\"args\"]\n",
    "pars1      = d[\"pars1\"]\n",
    "\n",
    "cost, cost1s, cost2s, hP, hA, dP, dA, hBP, hBA = JJ(400, 400; verbose=false, \n",
    "            make_dict(args, pars1, merge(merge(mypars, extra_pars)))...)\n"
   ]
  },
  {
   "cell_type": "code",
   "execution_count": null,
   "metadata": {
    "collapsed": false
   },
   "outputs": [],
   "source": [
    "extra_pars[:seedrand]"
   ]
  },
  {
   "cell_type": "code",
   "execution_count": null,
   "metadata": {
    "collapsed": false
   },
   "outputs": [],
   "source": [
    "~( abs(hBP[1]-0.9)<0.075 && abs(hBA[1]-0.7)<0.075 && dP[1] > 0.8 && dA[1] > 0.8)"
   ]
  },
  {
   "cell_type": "code",
   "execution_count": null,
   "metadata": {
    "collapsed": false
   },
   "outputs": [],
   "source": [
    "#@include_me  analyze_reduced_farm.jl\n",
    "\n",
    "\"\"\"\n",
    "    go_over_good_runs(files, I)\n",
    "\n",
    "Given a list of files, and a list of indices into those files, iterates over the indicated\n",
    "filenames, running show_run() on them, and then asking for user input.\n",
    "\"\"\"\n",
    "function go_over_good_runs(files, I)\n",
    "    for k=1:length(I)\n",
    "        show_run(files[I[k]])\n",
    "\n",
    "        @printf(\"Any key to continue, q to quit: \")\n",
    "        ans = chomp(readline())\n",
    "        if ans==\"q\" || ans==\"Q\"\n",
    "            break\n",
    "        end\n",
    "    end\n",
    "end\n"
   ]
  },
  {
   "cell_type": "code",
   "execution_count": null,
   "metadata": {
    "collapsed": false
   },
   "outputs": [],
   "source": [
    "go_over_good_runs(files, I)"
   ]
  },
  {
   "cell_type": "code",
   "execution_count": null,
   "metadata": {
    "collapsed": false
   },
   "outputs": [],
   "source": [
    "#@include_me analyze_reduced_farm.jl\n",
    "\n",
    "# show_run(\"farm_C3_0027.jld\", 400; opto_times=[\"trial_start\", \"trial_end\"], opto_strength=0.75)\n",
    "# show_run(\"farm_C3_0027.jld\", 400; opto_times=[\"target_start-0.5\", \"target_start\"], opto_strength=0, \n",
    "#   const_pro_bias=0, anti_rule_strength=0.05)\n",
    "show_run(\"farm_C3_0027.jld\", 400; opto_times=[\"target_start+0.016\", \"target_end\"], opto_strength=0.4, \n",
    "    const_pro_bias=0.02476, anti_rule_strength=0.054)"
   ]
  },
  {
   "cell_type": "code",
   "execution_count": null,
   "metadata": {
    "collapsed": false
   },
   "outputs": [],
   "source": [
    "#@include_me analyze_reduced_farm.jl\n",
    "\n",
    "#  TARGET PERIOD OPTO\n",
    "\n",
    "run_name = \"farm_C3_0027.jld\"\n",
    "recompute_me = false; if recompute_me\n",
    "    ostrengths = 0.5:0.1:1\n",
    "    phits      = zeros(1, length(ostrengths))\n",
    "    ahits      = zeros(1, length(ostrengths))\n",
    "\n",
    "    for i=1:length(ostrengths)\n",
    "        phits[i], ahits[i] = show_run(run_name, 4000; \n",
    "        opto_times=[\"target_start+0.016\", \"target_end+0.016\"], opto_strength=ostrengths[i])\n",
    "        @printf(\"ostrength=%g, phits=%.1f, ahits=%.1f\\n\", ostrengths[i], phits[i], ahits[i])\n",
    "    end\n",
    "\n",
    "    @save(\"Temp/opto_target.jld\", ostrengths, ahits, phits)\n",
    "else\n",
    "    ostrengths, ahits, phits = load(\"Temp/opto_target.jld\", \"ostrengths\", \"ahits\", \"phits\")\n",
    "end\n",
    "\n",
    "figure(3);clf();\n",
    "plot(ostrengths, phits[:], \".-\", ostrengths, ahits[:], \".-\")\n",
    "legend([\"pro\", \"anti\"])\n",
    "xlabel(\"opto strength\")\n",
    "ylabel(\"binarized hits\")\n",
    "title(run_name * \" : TARGET PERIOD opto\")\n",
    "grid(\"on\")\n",
    "\n",
    "\n",
    "#  DELAY PERIOD OPTO  ---------\n",
    "\n",
    "recompute_me = false; if recompute_me\n",
    "    ostrengths = 0.5:0.1:1\n",
    "    phits      = zeros(1, length(ostrengths))\n",
    "    ahits      = zeros(1, length(ostrengths))\n",
    "\n",
    "    for i=1:length(ostrengths)\n",
    "        phits[i], ahits[i] = show_run(run_name, 4000; \n",
    "        opto_times=[\"target_start-0.5\", \"target_start\"], opto_strength=ostrengths[i])\n",
    "        @printf(\"ostrength=%g, phits=%.1f, ahits=%.1f\\n\", ostrengths[i], phits[i], ahits[i])\n",
    "    end\n",
    "    @save(\"Temp/opto_delay.jld\", ostrengths, ahits, phits)\n",
    "else\n",
    "    ostrengths, ahits, phits = load(\"Temp/opto_delay.jld\", \"ostrengths\", \"ahits\", \"phits\")\n",
    "end\n",
    "\n",
    "figure(4);clf();\n",
    "plot(ostrengths, phits[:], \".-\", ostrengths, ahits[:], \".-\")\n",
    "legend([\"pro\", \"anti\"])\n",
    "xlabel(\"opto strength\")\n",
    "ylabel(\"binarized hits\")\n",
    "title(run_name * \" : last 500 ms of DELAY PERIOD opto\")\n",
    "grid(\"on\")"
   ]
  },
  {
   "cell_type": "code",
   "execution_count": null,
   "metadata": {
    "collapsed": false
   },
   "outputs": [],
   "source": []
  },
  {
   "cell_type": "markdown",
   "metadata": {},
   "source": [
    "## workspace for double_search.jl"
   ]
  },
  {
   "cell_type": "code",
   "execution_count": null,
   "metadata": {
    "collapsed": false
   },
   "outputs": [],
   "source": [
    "extra_pars[:seedrand] = 1510799260433 # Int64(round(1000*time()))   # 1510782006169 causes lin.alg error but then looks like it'll succeed\n",
    "srand(extra_pars[:seedrand])\n",
    "\n",
    "    args = []; seed = []; bbox = Dict()\n",
    "    for k in keys(search_conditions)\n",
    "        search_box = search_conditions[k][2]\n",
    "        args = [args; String(k)]\n",
    "        # --- search within the indicated search range:\n",
    "        myseed = search_conditions[k][1] + search_range*(rand()-0.5)*diff(search_box); myseed = myseed[1]\n",
    "        if myseed > search_box[2]; myseed = search_box[2]; end\n",
    "        if myseed < search_box[1]; myseed = search_box[1]; end\n",
    "        seed = [seed ;  myseed]\n",
    "        # --- No search, just start at the indicated position:\n",
    "        # seed = [seed ; search_conditions[k][1]]\n",
    "        bbox = merge(bbox, Dict(k => Array{Float64}(search_conditions[k][3])))\n",
    "    end\n",
    "    args = Array{String}(args)\n",
    "    seed = Array{Float64}(seed)\n",
    "\n",
    "\n",
    "func1 =  (;params...) -> JJ(mypars[:nPro], mypars[:nAnti]; verbose=false, \n",
    "    merge(merge(mypars, extra_pars), Dict(params))...)[1]\n",
    "\n",
    "t_pars = [0.378, 0.164, 0.001, -0.203, 0.589, -0.673, 0.105, -0.582, 0.471]\n",
    "\n",
    "pars, traj, cost, cpm_traj, ftraj = bbox_Hessian_keyword_minimization(t_pars, args, bbox, func1, \n",
    "    start_eta = 0.1, tol=1e-12, \n",
    "    verbose=true, verbose_every=1, maxiter=1000)\n"
   ]
  },
  {
   "cell_type": "code",
   "execution_count": null,
   "metadata": {
    "collapsed": false
   },
   "outputs": [],
   "source": [
    "testruns = 1600\n",
    "\n",
    "pars = [0.356712, 0.000825015, 0.0218232, -0.0364268, 0.678269, -2.97884, 0.153528, -0.484789, 1.07313]\n",
    "\n",
    "cost, cost1s, cost2s, hP, hA, dP, dA, hBP, hBA = JJ(testruns, testruns; verbose=false, \n",
    "                make_dict(args, pars, merge(merge(mypars, extra_pars)))...)\n"
   ]
  },
  {
   "cell_type": "code",
   "execution_count": null,
   "metadata": {
    "collapsed": false
   },
   "outputs": [],
   "source": [
    "G = load(\"FarmFields/farm_C4_0041.jld\")"
   ]
  },
  {
   "cell_type": "code",
   "execution_count": null,
   "metadata": {
    "collapsed": false
   },
   "outputs": [],
   "source": [
    "( abs(hBP[1]-0.9)<0.05 && abs(hBA[1]-0.7)<0.05 && dP[1] > 0.8 && dA[1] > 0.8)"
   ]
  },
  {
   "cell_type": "code",
   "execution_count": null,
   "metadata": {
    "collapsed": false
   },
   "outputs": [],
   "source": []
  },
  {
   "cell_type": "code",
   "execution_count": null,
   "metadata": {
    "collapsed": false
   },
   "outputs": [],
   "source": [
    "    args = []; seed = []; bbox = Dict()\n",
    "    for k in keys(search_conditions)\n",
    "        search_box = search_conditions[k][2]\n",
    "        args = [args; String(k)]\n",
    "        # --- search within the indicated search range:\n",
    "        myseed = search_conditions[k][1] + search_range*(rand()-0.5)*diff(search_box); myseed = myseed[1]\n",
    "        if myseed > search_box[2]; myseed = search_box[2]; end\n",
    "        if myseed < search_box[1]; myseed = search_box[1]; end\n",
    "        seed = [seed ;  myseed]\n",
    "        # --- No search, just start at the indicated position:\n",
    "        # seed = [seed ; search_conditions[k][1]]\n",
    "        bbox = merge(bbox, Dict(k => Array{Float64}(search_conditions[k][3])))\n",
    "    end\n",
    "    args = Array{String}(args)\n",
    "    seed = Array{Float64}(seed)\n",
    "\n",
    "\n",
    "    maxiter1 = 10;  # for func1, the regular search\n",
    "    maxiter2 = 20;  # for func2, the reduced search\n",
    "\n",
    "    func1 =  (;params...) -> JJ(mypars[:nPro], mypars[:nAnti]; verbose=false, \n",
    "    merge(merge(mypars, extra_pars), Dict(params))...)[1]\n",
    "    \n",
    "    # For func2:\n",
    "    extra_pars[:opto_conditions] = []    \n",
    "    extra_pars[:plot_list] = [1:10;]    \n",
    "    extra_pars[:plot_condition] = 0\n",
    "\n",
    "    func2 =  (;params...) -> new_J(10, 10; verbose=false, merge(merge(mypars, extra_pars), Dict(params))...)\n",
    "\n",
    "    # For func2:\n",
    "    # This function will get the output of new_J() at each iteration, and will return \"true\", stopping\n",
    "    # the minimization, if hBP and hBA are both above a threshold.\n",
    "    function stopping_func(;cost=0, func_out=[], ignored_extra_params...)\n",
    "        costf, dP, dA, hBP, hBA = func_out\n",
    "        return hBP[1]>=0.6 && hBA[1] >= 0.6\n",
    "    end\n",
    "\n",
    "        extra_pars[:plot_list] = []\n",
    "        cost, cost1s, cost2s, hP, hA, dP, dA, hBP, hBA = JJ(100, 100; verbose=false, \n",
    "            make_dict(args, seed, merge(merge(mypars, extra_pars)))...)\n"
   ]
  },
  {
   "cell_type": "code",
   "execution_count": null,
   "metadata": {
    "collapsed": false
   },
   "outputs": [],
   "source": [
    "dA"
   ]
  },
  {
   "cell_type": "code",
   "execution_count": null,
   "metadata": {
    "collapsed": true
   },
   "outputs": [],
   "source": []
  },
  {
   "cell_type": "code",
   "execution_count": null,
   "metadata": {
    "collapsed": false
   },
   "outputs": [],
   "source": [
    "search_conditions = Dict(   # :param    default_start   search_box  bound_box\n",
    ":vW     =>                   [mypars[:vW],                       [-0.5, 0.5],  [-3,   3]], \n",
    ":hW     =>                   [mypars[:hW],                       [-0.5, 0.5],  [-3,   3]],\n",
    ":dW     =>                   [mypars[:dW],                       [-0.5, 0.5],  [-3,   3]],\n",
    ":sW     =>                   [mypars[:sW],                       [0,    0.5],  [0,    3]],\n",
    ":sigma  =>                   [0.11,                              [0.1,  0.2],  [0.1, 0.4]],\n",
    ":constant_excitation      => [mypars[:constant_excitation],      [-1,     1],  [-2,   2]], \n",
    ":target_period_excitation => [mypars[:target_period_excitation], [0.001,0.5],  [0     4]],\n",
    ":right_light_excitation   => [mypars[:right_light_excitation],   [0.05, 0.5],  [0.05, 4]],\n",
    ":const_pro_bias           => [mypars[:const_pro_bias],           [-0.5, 0.5],  [-2,   2]],\n",
    "# :opto_strength            => [mypars[:opto_strength],            [0.7, 0.99],  [0,    1]],\n",
    ")\n",
    "\n",
    "\n",
    "\n",
    "args = []; seed = []; bbox = Dict()\n",
    "\n",
    "for k in keys(search_conditions)\n",
    "    search_box = search_conditions[k][2]\n",
    "    args = [args; String(k)]\n",
    "    # myseed = rand()*diff(search_box) + search_box[1]; myseed = myseed[1]    \n",
    "    # seed = [seed ;  myseed]    \n",
    "    seed = [seed ; search_conditions[k][1]]    \n",
    "    bbox = merge(bbox, Dict(k => Array{Float64}(search_conditions[k][3])))    \n",
    "end\n",
    "args = Array{String}(args)\n",
    "seed = Array{Float64}(seed)\n",
    "\n",
    "func =  (;params...) -> new_J(10, 10; verbose=true,  merge(merge(mypars, extra_pars), Dict(params))...)[1]\n",
    "\n",
    "pars, traj, cost, cpm_traj, ftraj = bbox_Hessian_keyword_minimization(seed, args, bbox, func, \n",
    "            start_eta = 0.1, tol=1e-12, \n",
    "            verbose=true, verbose_every=1, maxiter=1000)\n"
   ]
  },
  {
   "cell_type": "code",
   "execution_count": null,
   "metadata": {
    "collapsed": true
   },
   "outputs": [],
   "source": []
  },
  {
   "cell_type": "code",
   "execution_count": null,
   "metadata": {
    "collapsed": true
   },
   "outputs": [],
   "source": []
  },
  {
   "cell_type": "code",
   "execution_count": null,
   "metadata": {
    "collapsed": false
   },
   "outputs": [],
   "source": [
    "\n",
    "\n",
    "mypars = Dict(\n",
    ":init_add               =>          0,\n",
    ":const_add              =>          0,\n",
    ":noise                  =>          Any[],\n",
    ":input                  =>          0,\n",
    ":seedrand               =>          1510340076445,\n",
    ":start_anti             =>          [-0.5, -0.5, -0.5, -0.5],\n",
    ":start_pro              =>          [-0.5, -0.5, -0.5, -0.5],\n",
    ":rule_and_delay_period  =>          1.2,\n",
    ":rule_and_delay_periods =>          [1.2],\n",
    ":target_period          =>          0.3,\n",
    ":target_periods         =>          [0.3],\n",
    ":post_target_period     =>          0.3,\n",
    ":post_target_periods    =>          [0.3],\n",
    ":anti_rule_strength     =>          0.054,\n",
    ":U_rest                 =>          0,\n",
    ":theta                  =>          0.05,\n",
    ":beta                   =>          0.5,\n",
    ":g_leak                 =>          1,\n",
    ":nsteps                 =>          301,\n",
    ":dt                     =>          0.024,\n",
    ":tau                    =>          0.09,\n",
    ":right_light_excitation =>          0.49924152955481954,\n",
    ":opto_strength          =>          0.85,\n",
    ":opto_periods           =>          String[\n",
    "                                    \"trial_start\" \"trial_start\"; \n",
    "                                    \"trial_start\" \"trial_end\"; \n",
    "                                    \"trial_start\" \"target_start/2\"; \n",
    "                                    \"target_start/2\" \"target_start\"; \n",
    "                                    \"target_start\" \"target_end\"],\n",
    ":opto_targets          =>           [\n",
    "                                    0.9 0.7; \n",
    "                                    0.9 0.5; \n",
    "                                    0.9 0.7; \n",
    "                                    0.9 0.5; \n",
    "                                    0.9 0.7],\n",
    ":theta2 => 0.15,\n",
    ":theta1 => 0.05,\n",
    ":sigma => 0.01,\n",
    ":cbeta => 0.04,\n",
    ":sW => 0.6416875048295452,\n",
    ":hW => 0.054701836208134846,\n",
    ":dW => 0.1267124266934907,\n",
    ":vW => -1.588850577499782,\n",
    ":constant_excitation => -0.37242520737694207,\n",
    ":const_pro_bias => 0.04366897857834884,\n",
    ":target_period_excitation => 0.15315254453690974,\n",
    ":right_light_pro_extra => 0,\n",
    ":pro_rule_strength => 0.05,\n",
    ":nPro => 100,\n",
    ":nAnti => 100,\n",
    ")\n"
   ]
  },
  {
   "cell_type": "code",
   "execution_count": null,
   "metadata": {
    "collapsed": false
   },
   "outputs": [],
   "source": [
    "\n",
    "\n",
    "extra_pars = Dict(\n",
    ":plot_list        =>   [1:10;], \n",
    ":plot_condition   =>   1,\n",
    ":verbose          =>   true,\n",
    ":opto_conditions  =>   Array{Any}(0, 4),\n",
    ")\n",
    "\n",
    "\n",
    "search_conditions = Dict(   # :param    default_start   search_box  bound_box\n",
    ":vW     =>                   [mypars[:vW],                       [-0.5, 0.5],  [-3,   3]], \n",
    ":hW     =>                   [mypars[:hW],                       [-0.5, 0.5],  [-3,   3]],\n",
    ":dW     =>                   [mypars[:dW],                       [-0.5, 0.5],  [-3,   3]],\n",
    ":sW     =>                   [mypars[:sW],                       [0,    0.5],  [0,    3]],\n",
    ":sigma  =>                   [0.11,                              [0.1,  0.2],  [0.1, 0.4]],\n",
    ":constant_excitation      => [mypars[:constant_excitation],      [-1,     1],  [-2,   2]], \n",
    ":target_period_excitation => [mypars[:target_period_excitation], [0.001,0.5],  [0     4]],\n",
    ":right_light_excitation   => [mypars[:right_light_excitation],   [0.05, 0.5],  [0.05, 4]],\n",
    ":const_pro_bias           => [mypars[:const_pro_bias],           [-0.5, 0.5],  [-2,   2]],\n",
    "# :opto_strength            => [mypars[:opto_strength],            [0.7, 0.99],  [0,    1]],\n",
    ")\n",
    "\n"
   ]
  },
  {
   "cell_type": "code",
   "execution_count": null,
   "metadata": {
    "collapsed": false
   },
   "outputs": [],
   "source": [
    "a=(1, 2, 3, 4, \"5\")\n",
    "\n",
    "b,c,d,e,f = a\n",
    "f\n"
   ]
  },
  {
   "cell_type": "code",
   "execution_count": null,
   "metadata": {
    "collapsed": true
   },
   "outputs": [],
   "source": []
  },
  {
   "cell_type": "code",
   "execution_count": null,
   "metadata": {
    "collapsed": true
   },
   "outputs": [],
   "source": [
    "#@include_me interesting_minimization.jl\n",
    "\n",
    "include(\"pro_anti.jl\")"
   ]
  },
  {
   "cell_type": "code",
   "execution_count": null,
   "metadata": {
    "collapsed": false
   },
   "outputs": [],
   "source": [
    "#@include_me interesting_minimization.jl\n",
    "\n",
    "pygui(true)\n",
    "d = load(\"FarmFields/farm_C3_0005.jld\")\n",
    "mypars     = d[\"mypars\"]\n",
    "extra_pars = d[\"extra_pars\"] \n",
    "\n",
    "seed = d[\"seed\"]\n",
    "args = d[\"args\"]\n",
    "bbox = d[\"bbox\"]\n",
    "\n",
    "extra_pars[:opto_conditions] = []\n",
    "extra_pars[:plot_list] = [1:10;]\n",
    "extra_pars[:plot_condition] = 1\n",
    "\n",
    "# This function will get the output of new_J() at each iteration, and will return \"true\", stopping\n",
    "# the minimization, if hBP and hBA are both above a threshold.\n",
    "function stopping_func(;cost=0, func_out=[], ignored_extra_params...)\n",
    "    costf, dP, dA, hBP, hBA = func_out\n",
    "    return hBP[1]>=0.6 && hBA[1] >= 0.6\n",
    "end\n",
    "\n",
    "func =  (;params...) -> new_J(10, 10; verbose=true, merge(merge(mypars, extra_pars), Dict(params))...)\n",
    "\n",
    "t_pars, traj, cost, cpm_traj, ftraj = bbox_Hessian_keyword_minimization(seed, args, bbox, func, \n",
    "    stopping_function = stopping_func, \n",
    "start_eta = 0.1, tol=1e-12, verbose=true, verbose_every=1, maxiter=2000)\n"
   ]
  },
  {
   "cell_type": "code",
   "execution_count": null,
   "metadata": {
    "collapsed": false
   },
   "outputs": [],
   "source": []
  },
  {
   "cell_type": "code",
   "execution_count": null,
   "metadata": {
    "collapsed": false
   },
   "outputs": [],
   "source": [
    "t_pars = pars"
   ]
  },
  {
   "cell_type": "code",
   "execution_count": null,
   "metadata": {
    "collapsed": false
   },
   "outputs": [],
   "source": [
    "#@include_me  interesting_minimization.jl\n",
    "\n",
    "seed = t_pars\n",
    "\n",
    "func =  (;params...) -> JJ(mypars[:nPro], mypars[:nAnti]; verbose=false, \n",
    "    merge(merge(mypars, extra_pars), Dict(params))...)\n",
    "\n",
    "\n",
    "pars, traj, cost, cpm_traj, ftraj = bbox_Hessian_keyword_minimization(seed, args, bbox, func, \n",
    "    start_eta = 0.1, tol=1e-12, verbose=true, verbose_every=1, maxiter=1000)\n"
   ]
  },
  {
   "cell_type": "code",
   "execution_count": null,
   "metadata": {
    "collapsed": false
   },
   "outputs": [],
   "source": [
    "README = \"\"\"\n",
    "For the code that generated this file, see interesting_minimization.jl.\n",
    "\n",
    "The thing that is interesting, is that at the end of ths minimization, things are going VERY slowly, \n",
    "and cos theta is almost always close to 0! What is going on?  What is the landscape like around\n",
    "there? Are we really taking nicely-directed Hessian jumps?  Or is the wall screwing that up?\n",
    "\"\"\"\n",
    "\n",
    "@save \"Temp/interesting_minimization.jld\"\n"
   ]
  },
  {
   "cell_type": "code",
   "execution_count": null,
   "metadata": {
    "collapsed": false
   },
   "outputs": [],
   "source": [
    "gu = true\n",
    "\n",
    "@printf(\"gu is %s\\n\", false)"
   ]
  },
  {
   "cell_type": "code",
   "execution_count": null,
   "metadata": {
    "collapsed": false
   },
   "outputs": [],
   "source": [
    "\n",
    "\n",
    "\n",
    "fbasename = \"FarmFields/farm_C4_\"\n",
    "\n",
    "# while true\n",
    "    args = []; seed = []; bbox = Dict()\n",
    "    for k in keys(search_conditions)\n",
    "        search_box = search_conditions[k][2]\n",
    "        args = [args; String(k)]\n",
    "        myseed = rand()*diff(search_box) + search_box[1]; myseed = myseed[1]\n",
    "        seed = [seed ;  myseed]\n",
    "        # seed = [seed ; search_conditions[k][1]]\n",
    "        bbox = merge(bbox, Dict(k => Array{Float64}(search_conditions[k][3])))\n",
    "    end\n",
    "    args = Array{String}(args)\n",
    "    seed = Array{Float64}(seed)\n",
    "\n",
    "\n",
    "\n",
    "    func =  (;params...) -> new_J(10, 10; verbose=true, \n",
    "        merge(merge(mypars, extra_pars), Dict(params))...)[1]\n",
    "\n",
    "    try\n",
    "        pars, traj, cost, cpm_traj, ftraj = bbox_Hessian_keyword_minimization(seed, args, bbox, func, \n",
    "            start_eta = 0.1, tol=1e-12, \n",
    "            verbose=true, verbose_every=1, maxiter=1000)\n",
    "\n",
    "\n",
    "        cost, cost1s, cost2s, hP, hA, dP, dA, hBP, hBA = JJ(10000, 10000; verbose=false, \n",
    "        make_dict(args, pars, merge(merge(mypars, extra_pars)))...)\n",
    "\n",
    "        myfilename = next_file(fbasename, 4)\n",
    "        myfilename = myfilename*\".jld\"\n",
    "        # write file\n",
    "        save(myfilename, Dict(\"nPro\"=>mypars[:nPro], \"nAnti\"=>mypars[:nAnti], \n",
    "        \"mypars\"=>mypars, \"extra_pars\"=>extra_pars, \"args\"=>args, \"seed\"=>seed, \"bbox\"=>bbox, \n",
    "        \"pars\"=>pars, \"traj\"=>traj, \"cost\"=>cost, \"cpm_traj\"=>cpm_traj, \"ftraj\"=>ftraj,\n",
    "        \"hP\"=>hP, \"hA\"=>hA, \"dP\"=>dP, \"dA\"=>dA, \"hBP\"=>hBP, \"hBA\"=>hBA))\n",
    "    catch\n",
    "        @printf(\"\\n\\nWhoopsety, unkown error!   Trying new random seed.\\n\\n\")\n",
    "    end\n",
    "# end"
   ]
  },
  {
   "cell_type": "code",
   "execution_count": null,
   "metadata": {
    "collapsed": true
   },
   "outputs": [],
   "source": []
  },
  {
   "cell_type": "markdown",
   "metadata": {},
   "source": [
    "# Alex-style runs"
   ]
  },
  {
   "cell_type": "code",
   "execution_count": null,
   "metadata": {
    "collapsed": true
   },
   "outputs": [],
   "source": [
    "using ForwardDiff\n",
    "using DiffBase\n",
    "using MAT\n",
    "using PyPlot\n"
   ]
  },
  {
   "cell_type": "code",
   "execution_count": null,
   "metadata": {
    "collapsed": false
   },
   "outputs": [],
   "source": [
    "include(\"pro_anti.jl\")"
   ]
  },
  {
   "cell_type": "code",
   "execution_count": null,
   "metadata": {
    "collapsed": true
   },
   "outputs": [],
   "source": [
    "FarmName = \"CARLOS_TEST\"\n",
    "\n",
    "\n",
    "#Define core model parameters\n",
    "model_params = Dict(\n",
    ":dt     =>  0.002,      # Changed hyper-parameter\n",
    ":tau    =>  0.02,       # Changed hyper-parameter\n",
    ":vW     =>  -1.7, #FIT parameter\n",
    ":hW     =>  -1.7, #FIT parameter\n",
    ":sW     =>  0.2,  #FIT parameter\n",
    ":dW     =>  0,    #FIT parameter\n",
    ":nsteps =>  2, \n",
    ":noise  =>  [], \n",
    ":sigma  =>  0.08, #FIT parameter\n",
    ":input  =>  0,    #### Alex thinks this is out-dated \n",
    ":g_leak =>  1,          # Changed hyper-parameter\n",
    ":U_rest =>  0,          # Changed hyper-parameter\n",
    ":theta  =>  0.05,       # Changed hyper-parameter\n",
    ":beta   =>  0.5,        # Changed hyper-parameter \n",
    ":sw     =>  0.2,  #### Alex thinks this is out-dated\n",
    ":hw     =>  -1.7, #### Alex thinks this is out-dated\n",
    ":vw     =>  -1.7, #### Alex thinks this is out-dated\n",
    ":constant_excitation      => 0.19, #FIT  parameter\n",
    ":anti_rule_strength       => 0.05,      # Changed hyper-parameter\n",
    ":pro_rule_strength        => 0.05,      # Changed hyper-parameter\n",
    ":target_period_excitation => 1,    #FIT  parameter\n",
    ":right_light_excitation   => 0.5,  #FIT parameter\n",
    ":right_light_pro_extra    => 0,\n",
    ":const_add                => 0, \n",
    ":init_add                 => 0, \n",
    ":rule_and_delay_period    => 0.4,\n",
    ":target_period            => 0.1,\n",
    ":post_target_period       => 0.5,\n",
    ":const_pro_bias           => 0,    #FIT parameter\n",
    ":nPro                     => 100,\n",
    ":nAnti                    => 100,\n",
    ":theta1                   => 0.01,\n",
    ":theta2                   => 0.15,\n",
    ":start_pro                => [-0.5, -0.5, -0.5, -0.5],\n",
    ":start_anti               => [-0.5, -0.5, -0.5, -0.5],\n",
    ":opto_strength  => .7,             #FIT parameter\n",
    ":opto_periods   => [-1.1 -1; 0 20;0 50; 50 100; 100 20],  \n",
    "# The opto \"conditions\" correspond to the rows of opto_periods.\n",
    "# all conditions are in seconds relative to start of the trial\n",
    "# any value before 0 gets changed to 0\n",
    "# any value after the end of trial gets changed to end of trial\n",
    "# Special values allow for variable durations\n",
    "#  20 codes for \"end of trial\"\n",
    "#  -1 codes for \"start of trial\"\n",
    "# 100 codes for \"end of rule and delay period\"\n",
    "# 200 codes for \"end of target period\"\n",
    "# -------------------------------------------------------------\n",
    "# first column is frachit Pro, next column is Anti, rows are conditions\n",
    "# Actual Opto targets\n",
    "#:opto_targets   => [.75 .73;.77 .58;.75 .74; .72 .66;.73 .75] \n",
    "# Fake Targets\n",
    ":opto_targets => [.9 .7; .9 .5; .9 .7; .9 .5; .9 .7]  \n",
    ");\n",
    "\n",
    "# ======= ARGUMENTS AND SEED VALUES:\n",
    "args = [\"sW\", \"vW\", \"hW\", \"dW\", \"constant_excitation\", \"right_light_excitation\", \"target_period_excitation\", \"const_pro_bias\", \"sigma\",\"opto_strength\"];\n",
    "seed = [0.001,  -1.58,   -0.05,  0.001,    0.001,                0.6,                       0.001,                        0.0427,              0.05, .9];   \n",
    "# ======= BOUNDING BOX:\n",
    "bbox = Dict(:sW=>[0 3], :vW=>[-3 3], :hW=>[-3 3], :dW=>[-3 3], :constant_excitation=>[-2 2],\n",
    ":right_light_excitation=>[0.05 4], :target_period_excitation=>[0 4], :const_pro_bias=>[-2 2],\n",
    ":sigma=>[0.1 0.4],:opto_strength=>[0 1]);\n",
    "\n",
    "# ======== SEARCH ZONE:\n",
    "sbox = Dict(:sW=>[0 .5], :vW=>[-.5 .5], :hW=>[-.5 .5], :dW=>[-.5 .5],\n",
    ":constant_excitation=>[-.5 .5], :right_light_excitation=>[0.05 .5], :target_period_excitation=>[0.001 .5],:const_pro_bias=>[-.5 .5], :sigma=>[0.1 .2],:opto_strength=>[.7 .99]);\n",
    "\n",
    "# define a few hyper parameters\n",
    "cbetas = [4e-3];\n",
    "rule_and_delay_periods = [0.2];\n",
    "post_target_periods    = [0.05];\n",
    "num_eval_runs           = 1000;\n",
    "num_optimize_iter       = 2000;\n",
    "num_optimize_restarts   = 100;\n",
    "\n",
    "# define base filename\n",
    "fbasename = \"FarmFields/farm_\"*string(FarmName);\n",
    "\n",
    "for i=1:num_optimize_restarts   # Iterate this many optimizations\n",
    "for cb in cbetas                # Iterate over beta values, if there are multiple\n",
    "    # figure out initial seed for random number generator\n",
    "    sr = convert(Int64, round(time()))\n",
    "    srand(sr);\n",
    "\n",
    "    dista=rand();\n",
    "    println(\"dista\")\n",
    "    println(dista)\n",
    "    myseed1 = copy(seed);\n",
    "\n",
    "    # get initial parameter values by sampling from sbox\n",
    "    myseed = ForwardDiffZeros(length(args),1);\n",
    "    for j=1:length(args)\n",
    "        sym = Symbol(args[j])\n",
    "        if haskey(sbox, sym)\n",
    "#           myseed[j] = sbox[sym][1] + diff(sbox[sym],2)[1]*rand();\n",
    "            myseed[j] = dista*(sbox[sym][1] + diff(sbox[sym],2)[1]*rand())+(1-dista)*myseed1[j];\n",
    "        if myseed[j] > bbox[sym][2]\n",
    "            myseed[j] =bbox[sym][2] - 0.1;\n",
    "        elseif myseed[j] < bbox[sym][1]\n",
    "            myseed[j] =bbox[sym][1]+0.1;\n",
    "        end\n",
    "        else\n",
    "            myseed[j] = seed[j];\n",
    "        end\n",
    "    end\n",
    "\n",
    "    # define opto function with just value output\n",
    "    func =  (;params...) -> JJ(model_params[:nPro], model_params[:nAnti]; \n",
    "        rule_and_delay_periods=rule_and_delay_periods, \n",
    "        theta1=model_params[:theta1], theta2=model_params[:theta2], \n",
    "        post_target_periods=post_target_periods, seedrand=sr, cbeta=cb, \n",
    "        verbose=false, merge(model_params, Dict(params))...)[1]\n",
    "    \n",
    "    # run optimization with all parameters\n",
    "    @printf(\"Going with seed = \"); print_vector_g(myseed); print(\"\\n\")\n",
    "    pars, traj, cost, cpm_traj = bbox_Hessian_keyword_minimization(myseed, args, bbox, func, start_eta = 1, tol=1e-12, verbose=true, verbose_every=10, maxiter=num_optimize_iter)\n",
    "    @printf(\"Came out with cost %g and pars = \", cost); print_vector_g(pars); print(\"\\n\\n\")\n",
    "\n",
    "    # get gradient and hessian at end of optimization \n",
    "    value, grad, hess = keyword_vgh(func, args, pars)\n",
    "\n",
    "    # define function with all outputs, evaluate on training noise\n",
    "    t_standard_func =  (;params...) -> JJ_opto(model_params[:nPro], model_params[:nAnti]; rule_and_delay_periods=rule_and_delay_periods, theta1=model_params[:theta1], theta2=model_params[:theta2], post_target_periods=post_target_periods, seedrand=sr, cbeta=cb, verbose=false, merge(model_params, Dict(params))...)\n",
    "\n",
    "    # run opto model with all outputs, evaluate on training noise\n",
    "    t_opto_scost, t_opto_scost1, t_opto_scost2, t_opto_hitsP,t_opto_hitsA, t_opto_diffsP, t_opto_diffsA, t_opto_bP, t_opto_bA = t_standard_func(;make_dict(args, pars, model_params)...)\n",
    "    \n",
    "   ## evaluate for long form info\n",
    "    # reset random number generator for testing purposes\n",
    "    test_sr = convert(Int64, round(time()))\n",
    "    srand(test_sr); \n",
    "\n",
    "    # define function with all outputs, evaluate on test noise\n",
    "    standard_func =  (;params...) -> JJ_opto(num_eval_runs, num_eval_runs; rule_and_delay_periods=rule_and_delay_periods, theta1=model_params[:theta1], theta2=model_params[:theta2], post_target_periods=post_target_periods, seedrand=test_sr, cbeta=cb, verbose=false, merge(model_params, Dict(params))...)\n",
    "\n",
    "    # run opto model with all outputs, evaluate on test noise\n",
    "    opto_scost, opto_scost1, opto_scost2, opto_hitsP,opto_hitsA, opto_diffsP, opto_diffsA, opto_bP, opto_bA = standard_func(;make_dict(args, pars, model_params)...)\n",
    "\n",
    "   ## Save this run out to a file\n",
    "    # get filename\n",
    "    myfilename = next_file(fbasename, 4)\n",
    "    myfilename = myfilename*\".mat\"\n",
    "    # write file\n",
    "    matwrite(myfilename, Dict(\"args\"=>args, \"myseed\"=>myseed, \"pars\"=>pars, \"traj\"=>traj, \"cost\"=>cost, \"cpm_traj\"=>cpm_traj, \"nPro\"=>model_params[:nPro], \"nAnti\"=>model_params[:nAnti], \"sr\"=>sr, \"cb\"=>cb, \"theta1\"=>model_params[:theta1], \"theta2\"=>model_params[:theta2],\"value\"=>value,\"grad\"=>grad, \"hess\"=>hess, \"model_params\"=>ascii_key_ize(model_params), \"bbox\"=>ascii_key_ize(bbox), \"sbox\"=>ascii_key_ize(sbox), \"rule_and_delay_periods\"=>rule_and_delay_periods, \"post_target_periods\"=>post_target_periods, \"opto_scost\"=>opto_scost, \"opto_scost1\"=>opto_scost1, \"opto_scost2\"=>opto_scost2, \"opto_hitsP\"=>opto_hitsP, \"opto_hitsA\"=>opto_hitsA, \"opto_diffsP\"=>opto_diffsP, \"opto_diffsA\"=>opto_diffsA,\"test_sr\"=>test_sr,\"opto_bP\"=>opto_bP, \"opto_bA\"=>opto_bA, \"t_opto_scost\"=>t_opto_scost, \"t_opto_scost1\"=>t_opto_scost1, \"t_opto_scost2\"=>t_opto_scost2, \"t_opto_hitsP\"=>t_opto_hitsP, \"t_opto_hitsA\"=>t_opto_hitsA, \"t_opto_diffsP\"=>t_opto_diffsP, \"t_opto_diffsA\"=>t_opto_diffsA,\"t_opto_bP\"=>t_opto_bP, \"t_opto_bA\"=>t_opto_bA,\"dista\"=>dista  ))\n",
    "end\n",
    "end\n",
    "\n"
   ]
  },
  {
   "cell_type": "code",
   "execution_count": null,
   "metadata": {
    "collapsed": true
   },
   "outputs": [],
   "source": []
  },
  {
   "cell_type": "code",
   "execution_count": null,
   "metadata": {
    "collapsed": false,
    "scrolled": true
   },
   "outputs": [],
   "source": [
    "using HypothesisTests"
   ]
  },
  {
   "cell_type": "code",
   "execution_count": null,
   "metadata": {
    "collapsed": false
   },
   "outputs": [],
   "source": [
    "N = 20\n",
    "x = 1+0.2*randn(N,1); y = x - 0.05 + 0.1*randn(N,1);\n",
    "\n",
    "\n",
    "using PyPlot\n",
    "pygui(true)\n",
    "\n",
    "figure(1); clf();\n",
    "subplot(1,2,1)\n",
    "\n",
    "for i=1:N\n",
    "    plot([1, 2], [x[i], y[i]], \"b.-\")\n",
    "end\n",
    "\n",
    "p = pvalue(OneSampleTTest(x[:], y[:]))\n",
    "\n",
    "title(\"Paired t-test :  p<\" * @sprintf(\"%.4g\", p))\n",
    "\n",
    "\n",
    "subplot(1,2,2)\n",
    "plot(x-y, \"b.\")"
   ]
  },
  {
   "cell_type": "code",
   "execution_count": null,
   "metadata": {
    "collapsed": false
   },
   "outputs": [],
   "source": []
  },
  {
   "cell_type": "code",
   "execution_count": null,
   "metadata": {
    "collapsed": false
   },
   "outputs": [],
   "source": []
  },
  {
   "cell_type": "code",
   "execution_count": null,
   "metadata": {
    "collapsed": false
   },
   "outputs": [],
   "source": []
  },
  {
   "cell_type": "markdown",
   "metadata": {},
   "source": [
    "# Marino's model in Marino's parameter settings"
   ]
  },
  {
   "cell_type": "code",
   "execution_count": null,
   "metadata": {
    "collapsed": false
   },
   "outputs": [],
   "source": [
    "#@include_me  scaling_up_dt.jl\n",
    "\n",
    "# In its own cell so we can run it just once\n",
    "\n",
    "include(\"pro_anti.jl\")   # Loads all the necessary pre-requisites\n"
   ]
  },
  {
   "cell_type": "code",
   "execution_count": null,
   "metadata": {
    "collapsed": false
   },
   "outputs": [],
   "source": [
    "#@include_me  scaling_up_dt.jl\n",
    "\n",
    "model_params, F, nPro, nAnti = load_run(\"farm_LD0003\"; farmdir=\"goodfarms\")\n",
    "\n",
    "# mypars = merge(model_params, Dict(:post_target_periods=>0.05))\n",
    "\n",
    "cost, cost1s, cost2s, hP, hA, dP, dA, hBP, hBA, proValls, antiValls, opto_fraction, pro_input, anti_input = \n",
    "JJ(model_params[:nPro], model_params[:nAnti]; verbose=true, model_details=true, model_params...);\n",
    "\n",
    "\n",
    "epochs = [\"control\";\"full\";\"rule\";\"delay\";\"choice\"]\n",
    "titles  = [\"epochs\" \"hitP\" \"hitA\" \"diffP\" \"diffA\" \"hBP\" \"hBA\"]\n",
    "\n",
    "@printf(\"\\n\\n--- The original run:\\n\\n\")\n",
    "\n",
    "sleep(0.5)  # A pause just to make sure everything has printed out \n",
    "display([titles; epochs hP hA dP dA hBP hBA])\n"
   ]
  },
  {
   "cell_type": "code",
   "execution_count": null,
   "metadata": {
    "collapsed": false
   },
   "outputs": [],
   "source": [
    "#@include_me  scaling_up_dt.jl\n",
    "\n",
    "# Now scale things to make dt and tau are much larger, and involve 0.25 x the timesteps\n",
    "\n",
    "mypars = merge(model_params, Dict(:opto_times=>[0 0]))  # default is no opto\n",
    "\n",
    "mypars = merge(model_params, Dict(\n",
    ":dt=>0.024,\n",
    ":tau=>0.09,\n",
    ":rule_and_delay_period=>1.2,\n",
    ":target_period=>0.3,\n",
    ":post_target_period=>0.3,\n",
    ":anti_rule_strength=>0.054,\n",
    "# :post_target_period=>0.05, \n",
    "# :rule_and_delay_period=>0.8, \n",
    "# :opto_times=>[0 0],\n",
    "# :opto_times=>[\"target_start/2\" \"target_start\"],\n",
    "# :opto_times=>[\"target_start\", \"target_end\"],\n",
    ":opto_strength=>0.85,\n",
    "))# , :rule_and_delay_period=>0.8))\n",
    "\n",
    "\n",
    "mypars[:rule_and_delay_periods] = [mypars[:rule_and_delay_period]]\n",
    "mypars[:target_periods]         = [mypars[:target_period]]\n",
    "mypars[:post_target_periods]    = [mypars[:post_target_period]]\n",
    "\n",
    "mypars[:opto_periods] = [\n",
    "    \"trial_start\"     \"trial_start\"  ;\n",
    "    \"trial_start\"     \"trial_end\"    ; \n",
    "    \"trial_start\"     \"target_start/2\"  ;\n",
    "    \"target_start/2\"  \"target_start\"  ;\n",
    "    \"target_start\"    \"target_end\"\n",
    "];\n"
   ]
  },
  {
   "cell_type": "code",
   "execution_count": null,
   "metadata": {
    "collapsed": false
   },
   "outputs": [],
   "source": [
    "#@include_me  scaling_up_dt.jl\n",
    "\n",
    "# And run with these params.  \n",
    "\n",
    "# We run 1000 trials of Pro and ANti each, just to get a good estimate of probability correct in each condition\n",
    "\n",
    "mypars[:seedrand] = Int64(round(time()*1000))\n",
    "\n",
    "ntrials = 1000\n",
    "\n",
    "cost, cost1s, cost2s, hP, hA, dP, dA, hBP, hBA, proValls, antiValls, opto_fraction, pro_input, anti_input = \n",
    "JJ(ntrials, ntrials; verbose=true, model_details=true, mypars...);\n",
    "\n",
    "@printf(\"\\n\\n--- The hand-modified run at dt=0.024 at 4x fewer timesteps than the original:\\n\\n\")\n",
    "\n",
    "\n",
    "sleep(0.5)  # A pause just to make sure everything has printed out \n",
    "display([titles; epochs hP hA dP dA hBP hBA])\n"
   ]
  },
  {
   "cell_type": "code",
   "execution_count": null,
   "metadata": {
    "collapsed": false
   },
   "outputs": [],
   "source": [
    "#@include_me  scaling_up_dt.jl\n",
    "\n",
    "# Finally, display some trajectories:\n",
    "\n",
    "pygui(true)\n",
    "\n",
    "# This example is with opto during the delay\n",
    "\n",
    "mypars = merge(mypars, Dict(\n",
    "# :opto_times => [\"target_start/2\"    \"target_start\"],\n",
    ":opto_times => [0    0],\n",
    ":sigma=>0.01\n",
    "))\n",
    "\n",
    "\n",
    "proVs, antiVs, pro_fullV, anti_fullV, opto_fraction, pro_input, anti_input = run_ntrials(1000, 1000; \n",
    "    plot_list=[1:40;], profig=1, antifig=2, opto_units = 1:4, mypars...);\n",
    "\n",
    "Np = size(proVs,2); Na = size(antiVs,2)\n",
    "@printf(\"hBP = %g, hBA = %g\\n\", length(find(proVs[1,:] .>= proVs[4,:]))/Np, length(find(antiVs[4,:] .> antiVs[1,:]))/Na)\n",
    "\n",
    "@printf(\"\\n\\n\\n---\\n\\nmypars contains all the parameters for the new run with the scaled up dt, tau, etc.\\n\\n\")\n"
   ]
  },
  {
   "cell_type": "code",
   "execution_count": null,
   "metadata": {
    "collapsed": false
   },
   "outputs": [],
   "source": [
    "mypars[:dt]"
   ]
  },
  {
   "cell_type": "code",
   "execution_count": null,
   "metadata": {
    "collapsed": false
   },
   "outputs": [],
   "source": [
    "# Print out mypars in full\n",
    "@printf(\"\\n\\nmypars = Dict(\\n\")\n",
    "for (k,v) in mypars\n",
    "    @printf(\":%s => \", k); print(v); print(\",\\n\")\n",
    "end\n",
    "@printf(\")\\n\\n\")"
   ]
  },
  {
   "cell_type": "markdown",
   "metadata": {},
   "source": [
    "# Make a set of reduced nsteps params and run with them"
   ]
  },
  {
   "cell_type": "code",
   "execution_count": null,
   "metadata": {
    "collapsed": false
   },
   "outputs": [],
   "source": [
    "\n",
    "mypars = Dict(\n",
    ":init_add               =>          0,\n",
    ":const_add              =>          0,\n",
    ":noise                  =>          Any[],\n",
    ":input                  =>          0,\n",
    ":seedrand               =>          1510340076445,\n",
    ":start_anti             =>          [-0.5, -0.5, -0.5, -0.5],\n",
    ":start_pro              =>          [-0.5, -0.5, -0.5, -0.5],\n",
    ":rule_and_delay_period  =>          1.2,\n",
    ":rule_and_delay_periods =>          [1.2],\n",
    ":target_period          =>          0.3,\n",
    ":target_periods         =>          [0.3],\n",
    ":post_target_period     =>          0.3,\n",
    ":post_target_periods    =>          [0.3],\n",
    ":anti_rule_strength     =>          0.054,\n",
    ":U_rest                 =>          0,\n",
    ":theta                  =>          0.05,\n",
    ":beta                   =>          0.5,\n",
    ":g_leak                 =>          1,\n",
    ":nsteps                 =>          301,\n",
    ":dt                     =>          0.024,\n",
    ":tau                    =>          0.09,\n",
    ":right_light_excitation =>          0.49924152955481954,\n",
    ":opto_strength          =>          0.85,\n",
    ":opto_periods           =>          String[\n",
    "                                    \"trial_start\" \"trial_start\"; \n",
    "                                    \"trial_start\" \"trial_end\"; \n",
    "                                    \"trial_start\" \"target_start/2\"; \n",
    "                                    \"target_start/2\" \"target_start\"; \n",
    "                                    \"target_start\" \"target_end\"],\n",
    ":opto_targets          =>           [\n",
    "                                    0.9 0.7; \n",
    "                                    0.9 0.5; \n",
    "                                    0.9 0.7; \n",
    "                                    0.9 0.5; \n",
    "                                    0.9 0.7],\n",
    ":theta2 => 0.15,\n",
    ":theta1 => 0.05,\n",
    ":sigma => 0.01,\n",
    ":cbeta => 0.04,\n",
    ":sW => 0.6416875048295452,\n",
    ":hW => 0.054701836208134846,\n",
    ":dW => 0.1267124266934907,\n",
    ":vW => -1.588850577499782,\n",
    ":constant_excitation => -0.37242520737694207,\n",
    ":const_pro_bias => 0.04366897857834884,\n",
    ":target_period_excitation => 0.15315254453690974,\n",
    ":right_light_pro_extra => 0,\n",
    ":pro_rule_strength => 0.05,\n",
    ":nPro => 100,\n",
    ":nAnti => 100,\n",
    ")\n"
   ]
  },
  {
   "cell_type": "code",
   "execution_count": null,
   "metadata": {
    "collapsed": false
   },
   "outputs": [],
   "source": [
    "\n",
    "extra_pars = Dict(\n",
    ":plot_list        =>   [1:5;], \n",
    ":plot_conditions  =>   true,\n",
    ":verbose          =>   true,\n",
    ":opto_periods     =>   String[\"trial_start\" \"trial_start\"],\n",
    ":opto_targets     =>   [0.9,  0.7],\n",
    ":opto_times       =>   [\"trial_start\", \"trial_start\"],       # This one is for run_ntrials\n",
    ":seedrand         =>   Int64(round(time()*1000)),\n",
    ")\n",
    "\n",
    "\n",
    "# proVs, antiVs, pro_fullV, anti_fullV, opto_fraction, pro_input, anti_input = run_ntrials(1000, 1000; \n",
    "#    merge(mypars, extra_pars)...);\n",
    "\n",
    "\n",
    "JJ(mypars[:nPro], mypars[:nAnti]; merge(mypars, extra_pars)...)[1]\n"
   ]
  },
  {
   "cell_type": "code",
   "execution_count": null,
   "metadata": {
    "collapsed": false
   },
   "outputs": [],
   "source": [
    "extra_pars[:search_range] = 0.4\n",
    "extra_pars"
   ]
  },
  {
   "cell_type": "markdown",
   "metadata": {},
   "source": [
    "# Try a search : reduced_farm.jl\n",
    "\n",
    "`Temp/answers.jld`   contains the result of taking the result of scaling_up_dt.jl, and then optimizing it on control alone, with Pro target=0.9, Anti target = 0.7.  It optimizes very very well."
   ]
  },
  {
   "cell_type": "code",
   "execution_count": null,
   "metadata": {
    "collapsed": false
   },
   "outputs": [],
   "source": [
    "#@include_me reduced_farm.jl\n",
    "\n",
    "include(\"pro_anti.jl\")\n",
    "\n"
   ]
  },
  {
   "cell_type": "code",
   "execution_count": null,
   "metadata": {
    "collapsed": false
   },
   "outputs": [],
   "source": []
  },
  {
   "cell_type": "code",
   "execution_count": null,
   "metadata": {
    "collapsed": false
   },
   "outputs": [],
   "source": [
    "@load(\"FarmFields/farm_C3_0027.jld\")"
   ]
  },
  {
   "cell_type": "code",
   "execution_count": null,
   "metadata": {
    "collapsed": false
   },
   "outputs": [],
   "source": [
    "[args pars]"
   ]
  },
  {
   "cell_type": "code",
   "execution_count": null,
   "metadata": {
    "collapsed": false
   },
   "outputs": [],
   "source": [
    "mypars[:tau]"
   ]
  },
  {
   "cell_type": "code",
   "execution_count": null,
   "metadata": {
    "collapsed": false
   },
   "outputs": [],
   "source": [
    "#@include_me reduced_farm.jl\n",
    "\n",
    "\n",
    "mypars = Dict(\n",
    ":init_add               =>          0,\n",
    ":const_add              =>          0,\n",
    ":noise                  =>          Any[],\n",
    ":input                  =>          0,\n",
    ":start_anti             =>          [-0.5, -0.5, -0.5, -0.5],\n",
    ":start_pro              =>          [-0.5, -0.5, -0.5, -0.5],\n",
    ":rule_and_delay_period  =>          1.2,\n",
    ":rule_and_delay_periods =>          [1.2],\n",
    ":target_period          =>          0.3,\n",
    ":target_periods         =>          [0.3],\n",
    ":post_target_period     =>          0.3,\n",
    ":post_target_periods    =>          [0.3],\n",
    ":anti_rule_strength     =>          0.054,\n",
    ":U_rest                 =>          0,\n",
    ":theta                  =>          0.05,\n",
    ":beta                   =>          0.5,\n",
    ":g_leak                 =>          1,\n",
    ":nsteps                 =>          301,\n",
    ":dt                     =>          0.024,\n",
    ":tau                    =>          0.09,\n",
    ":right_light_excitation =>          0.49924152955481954,\n",
    ":opto_strength          =>          0.85,\n",
    ":opto_periods           =>          String[\n",
    "                                    \"trial_start\" \"trial_start\"; \n",
    "                                    \"trial_start\" \"trial_end\"; \n",
    "                                    \"trial_start\" \"target_start/2\"; \n",
    "                                    \"target_start/2\" \"target_start\"; \n",
    "                                    \"target_start\" \"target_end\"],\n",
    ":opto_targets          =>           [\n",
    "                                    0.9 0.7; \n",
    "                                    0.9 0.5; \n",
    "                                    0.9 0.7; \n",
    "                                    0.9 0.5; \n",
    "                                    0.9 0.7],\n",
    ":theta2 => 0.15,\n",
    ":theta1 => 0.05,\n",
    ":sigma => 0.01,\n",
    ":cbeta => 0.04,\n",
    ":sW => 0.6416875048295452,\n",
    ":hW => 0.054701836208134846,\n",
    ":dW => 0.1267124266934907,\n",
    ":vW => -1.588850577499782,\n",
    ":constant_excitation => -0.37242520737694207,\n",
    ":const_pro_bias => 0.04366897857834884,\n",
    ":target_period_excitation => 0.15315254453690974,\n",
    ":right_light_pro_extra => 0,\n",
    ":pro_rule_strength => 0.05,\n",
    ":nPro => 100,\n",
    ":nAnti => 100,\n",
    ")\n"
   ]
  },
  {
   "cell_type": "code",
   "execution_count": null,
   "metadata": {
    "collapsed": false
   },
   "outputs": [],
   "source": [
    "#@include_me  reduced_farm.jl\n",
    "\n",
    "\n",
    "extra_pars = Dict(\n",
    ":plot_list        =>   [], \n",
    ":plot_conditions  =>   true,\n",
    ":verbose          =>   true,\n",
    ":opto_periods     =>   String[\"trial_start\" \"trial_start-0.1\"],\n",
    ":opto_targets     =>   [0.9,  0.7],\n",
    ":opto_times       =>   [\"trial_start\", \"trial_start-0.1\"],       # This one is for run_ntrials\n",
    ":cbeta            =>   0.001,\n",
    ":search_range     =>   1.2,\n",
    ")\n",
    "\n",
    "\n",
    "search_conditions = Dict(   # :param    default_start   search_box  bound_box\n",
    ":vW     =>                   [mypars[:vW],                       [-0.5, 0.5],  [-3,   3]], \n",
    ":hW     =>                   [mypars[:hW],                       [-0.5, 0.5],  [-3,   3]],\n",
    ":dW     =>                   [mypars[:dW],                       [-0.5, 0.5],  [-3,   3]],\n",
    ":sW     =>                   [mypars[:sW],                       [0,    0.5],  [0,    3]],\n",
    ":sigma  =>                   [0.11,                              [0.1,  0.2],  [0.1, 0.4]],\n",
    ":constant_excitation      => [mypars[:constant_excitation],      [-1,     1],  [-2,   2]], \n",
    ":target_period_excitation => [mypars[:target_period_excitation], [0.001,0.5],  [0     4]],\n",
    ":right_light_excitation   => [mypars[:right_light_excitation],   [0.05, 0.5],  [0.05, 4]],\n",
    ":const_pro_bias           => [mypars[:const_pro_bias],           [-0.5, 0.5],  [-2,   2]],\n",
    "# :opto_strength            => [mypars[:opto_strength],            [0.7, 0.99],  [0,    1]],\n",
    ")\n",
    "\n",
    "\n"
   ]
  },
  {
   "cell_type": "markdown",
   "metadata": {},
   "source": [
    "### Loop for reduced_farm.jl"
   ]
  },
  {
   "cell_type": "code",
   "execution_count": null,
   "metadata": {
    "collapsed": false
   },
   "outputs": [],
   "source": [
    "#@include_me  reduced_farm.jl\n",
    "\n",
    "extra_pars[:seedrand] = Int64(round(time()*1000))\n",
    "srand(extra_pars[:seedrand])\n",
    "\n",
    "@printf(\"\\n\\n\\nStarting with random seed %d\\n\\n\\n\", extra_pars[:seedrand])\n",
    "\n",
    "search_range = extra_pars[:search_range]; \n",
    "\n",
    "fbasename = \"FarmFields/farm_C5_\"\n",
    "\n",
    "while true\n",
    "    args = []; seed = []; bbox = Dict()\n",
    "    for k in keys(search_conditions)\n",
    "        search_box = search_conditions[k][2]\n",
    "        args = [args; String(k)]\n",
    "        myseed = search_conditions[k][1] + search_range*(rand()-0.5)*diff(search_box); myseed = myseed[1]\n",
    "        if myseed > search_box[2]; myseed = search_box[2]; end\n",
    "        if myseed < search_box[1]; myseed = search_box[1]; end\n",
    "        seed = [seed ;  myseed]\n",
    "        # seed = [seed ; search_conditions[k][1]]\n",
    "        bbox = merge(bbox, Dict(k => Array{Float64}(search_conditions[k][3])))\n",
    "    end\n",
    "    args = Array{String}(args)\n",
    "    seed = Array{Float64}(seed)\n",
    "\n",
    "\n",
    "    # Make sure to keep the noise frozen over the search, meaning JJ() needs the seedrand parameter\n",
    "    func =  (;params...) -> JJ(mypars[:nPro], mypars[:nAnti]; verbose=true, \n",
    "        merge(merge(mypars, extra_pars), Dict(params))...)[1]\n",
    "\n",
    "    try\n",
    "        pars, traj, cost, cpm_traj, ftraj = bbox_Hessian_keyword_minimization(seed, args, bbox, func, \n",
    "            start_eta = 0.1, tol=1e-12, \n",
    "            verbose=true, verbose_every=1, maxiter=1000)\n",
    "\n",
    "\n",
    "        cost, cost1s, cost2s, hP, hA, dP, dA, hBP, hBA = JJ(1000, 1000; verbose=false, \n",
    "        make_dict(args, pars, merge(merge(mypars, extra_pars)))...)\n",
    "\n",
    "        myfilename = next_file(fbasename, 4)\n",
    "        myfilename = myfilename*\".jld\"\n",
    "        # write file\n",
    "        save(myfilename, Dict(\"nPro\"=>mypars[:nPro], \"nAnti\"=>mypars[:nAnti], \n",
    "        \"mypars\"=>mypars, \"extra_pars\"=>extra_pars, \"args\"=>args, \"seed\"=>seed, \"bbox\"=>bbox, \n",
    "        \"pars\"=>pars, \"traj\"=>traj, \"cost\"=>cost, \"cpm_traj\"=>cpm_traj, \"ftraj\"=>ftraj,\n",
    "        \"hP\"=>hP, \"hA\"=>hA, \"dP\"=>dP, \"dA\"=>dA, \"hBP\"=>hBP, \"hBA\"=>hBA))\n",
    "    catch y\n",
    "        if isa(y, InterruptException); throw(InterruptException()); end\n",
    "        @printf(\"\\n\\nWhoopsety, unkown error!\\n\\n\");\n",
    "        @printf(\"Error was :\\n\"); print(y); @printf(\"\\n\\nTrying new random seed.\\n\\n\")\n",
    "    end\n",
    "\n",
    "    # Change the frozen noise random seed so we don't get stuck in one loop    \n",
    "    extra_pars[:seedrand] = extra_pars[:seedrand]+1\n",
    "end"
   ]
  },
  {
   "cell_type": "code",
   "execution_count": null,
   "metadata": {
    "collapsed": false
   },
   "outputs": [],
   "source": []
  },
  {
   "cell_type": "code",
   "execution_count": null,
   "metadata": {
    "collapsed": false
   },
   "outputs": [],
   "source": [
    "effective_search_box = Dict()\n",
    "for k in keys(search_conditions)\n",
    "    search_box = search_conditions[k][2]\n",
    "    ebox = zeros(1,2)\n",
    "    ebox[1] = search_conditions[k][1] - 0.5*diff(search_box)[1]\n",
    "    ebox[2] = search_conditions[k][1] + 0.5*diff(search_box)[1]\n",
    "    effective_search_box[k] = ebox\n",
    "end\n",
    "\n",
    "effective_search_box"
   ]
  },
  {
   "cell_type": "code",
   "execution_count": null,
   "metadata": {
    "collapsed": true
   },
   "outputs": [],
   "source": []
  },
  {
   "cell_type": "code",
   "execution_count": null,
   "metadata": {
    "collapsed": false
   },
   "outputs": [],
   "source": []
  },
  {
   "cell_type": "markdown",
   "metadata": {
    "collapsed": false
   },
   "source": [
    "# Analyze a Marino goodfarm:"
   ]
  },
  {
   "cell_type": "code",
   "execution_count": null,
   "metadata": {
    "collapsed": false
   },
   "outputs": [],
   "source": [
    "include(\"pro_anti.jl\")"
   ]
  },
  {
   "cell_type": "code",
   "execution_count": null,
   "metadata": {
    "collapsed": false
   },
   "outputs": [],
   "source": [
    "hBP, hBA, d = show_run(\"farm_LA0001.mat\", 100; farmdir=\"goodfarms\", opto_times=[\"target_start-0.2\", \"target_start\"], \n",
    "const_pro_bias = 0.0, opto_strength = 0)"
   ]
  },
  {
   "cell_type": "code",
   "execution_count": null,
   "metadata": {
    "collapsed": false
   },
   "outputs": [],
   "source": [
    "model_params = symbol_key_ize(d[\"model_params\"])\n",
    "[d[\"args\"] d[\"pars\"]]"
   ]
  },
  {
   "cell_type": "code",
   "execution_count": null,
   "metadata": {
    "collapsed": true
   },
   "outputs": [],
   "source": [
    "show_run(\"farm_LD0053.mat\", 100; farmdir=\"goodfarms\", opto_times=[\"target_start-2\", \"target_end-2\"],\n",
    "    const_pro_bias=0.04745, rule_and_delay_period=0.4, right_light_excitation=0.4)\n"
   ]
  },
  {
   "cell_type": "code",
   "execution_count": null,
   "metadata": {
    "collapsed": false
   },
   "outputs": [],
   "source": [
    "model_params, F, nPro, nAnti = load_run(\"farm_LD0053.mat\"; farmdir=\"goodfarms\")"
   ]
  },
  {
   "cell_type": "code",
   "execution_count": null,
   "metadata": {
    "collapsed": false
   },
   "outputs": [],
   "source": [
    "[F[\"args\"] F[\"pars\"]]"
   ]
  },
  {
   "cell_type": "code",
   "execution_count": null,
   "metadata": {
    "collapsed": false
   },
   "outputs": [],
   "source": [
    "model_params[:opto_periods] = [\n",
    "    \"trial_start-0.1\"   \"trial_start-0.1\"; \n",
    "    \"trial_start\"       \"trial_end\" ; \n",
    "    \"trial_start\"       \"trial_start+0.2\" ; \n",
    "    \"target_start-0.2\"  \"target_start\"  ;\n",
    "    \"target_start\"      \"trial_end\"\n",
    "]\n",
    "\n",
    "model_params[:opto_targets]\n",
    "\n"
   ]
  },
  {
   "cell_type": "code",
   "execution_count": null,
   "metadata": {
    "collapsed": false
   },
   "outputs": [],
   "source": [
    "pygui(true)\n",
    "cost, cost1s, cost2s, hP, hA, dP, dA, hBP, hBA, proValls, antiValls = JJ(100, 100; plot_list=[1:10;], \n",
    "    plot_conditions=[false, false, false, true, false], verbose=true, model_details=true, model_params...);"
   ]
  },
  {
   "cell_type": "code",
   "execution_count": null,
   "metadata": {
    "collapsed": false
   },
   "outputs": [],
   "source": [
    "include(\"farm_plotting_carlos.jl\")"
   ]
  },
  {
   "cell_type": "code",
   "execution_count": null,
   "metadata": {
    "collapsed": false
   },
   "outputs": [],
   "source": []
  },
  {
   "cell_type": "code",
   "execution_count": null,
   "metadata": {
    "collapsed": false
   },
   "outputs": [],
   "source": [
    "show_run(\"farm_C3_0002.jld\")\n"
   ]
  },
  {
   "cell_type": "code",
   "execution_count": null,
   "metadata": {
    "collapsed": false
   },
   "outputs": [],
   "source": [
    "figure(1); subplot(3,1,1); title(@sprintf(\"%s: binarized Pro  hits = %.1f %%\\n\", run_name, 97.3))\n"
   ]
  },
  {
   "cell_type": "code",
   "execution_count": null,
   "metadata": {
    "collapsed": true
   },
   "outputs": [],
   "source": [
    "# @save \"Temp/answers.jld\" \n",
    "# @load \"Temp/answers.jld\""
   ]
  },
  {
   "cell_type": "code",
   "execution_count": null,
   "metadata": {
    "collapsed": false
   },
   "outputs": [],
   "source": [
    "@load \"Temp/answers3.jld\""
   ]
  },
  {
   "cell_type": "code",
   "execution_count": null,
   "metadata": {
    "collapsed": false
   },
   "outputs": [],
   "source": [
    "[args pars seed]"
   ]
  },
  {
   "cell_type": "code",
   "execution_count": null,
   "metadata": {
    "collapsed": false
   },
   "outputs": [],
   "source": [
    "pygui(true)\n",
    "figure(1); clf();\n",
    "\n",
    "delete!(extra_pars, :plot_list)\n",
    "delete!(extra_pars, :seedrand)\n",
    "\n",
    "more_pars = Dict(\n",
    "# :post_target_period => 0.25,\n",
    ":rule_and_delay_period => 2,\n",
    ")\n",
    "proVs, antiVs = run_ntrials(1000, 1000; plot_list=[1:10;], make_dict(args, pars, merge(merge(mypars, extra_pars), more_pars))...)[1:2]\n",
    "\n",
    "@printf(\"Binarized Pro hits = %.1f %%\\n\", 100*length(find(proVs[1,:] .> proVs[4,:]))/size(proVs,2))\n",
    "@printf(\"Binarized Anti hits = %.1f %%\\n\", 100*length(find(antiVs[4,:] .> antiVs[1,:]))/size(antiVs,2))"
   ]
  },
  {
   "cell_type": "code",
   "execution_count": null,
   "metadata": {
    "collapsed": false
   },
   "outputs": [],
   "source": []
  },
  {
   "cell_type": "code",
   "execution_count": null,
   "metadata": {
    "collapsed": false
   },
   "outputs": [],
   "source": [
    "search_conditions"
   ]
  },
  {
   "cell_type": "code",
   "execution_count": null,
   "metadata": {
    "collapsed": false
   },
   "outputs": [],
   "source": [
    "include(\"pro_anti.jl\")"
   ]
  },
  {
   "cell_type": "code",
   "execution_count": null,
   "metadata": {
    "collapsed": false
   },
   "outputs": [],
   "source": [
    "bbox[:dW]"
   ]
  },
  {
   "cell_type": "code",
   "execution_count": null,
   "metadata": {
    "collapsed": false
   },
   "outputs": [],
   "source": [
    "[1, [2,3], 4]\n"
   ]
  },
  {
   "cell_type": "code",
   "execution_count": null,
   "metadata": {
    "collapsed": false
   },
   "outputs": [],
   "source": []
  },
  {
   "cell_type": "code",
   "execution_count": null,
   "metadata": {
    "collapsed": false
   },
   "outputs": [],
   "source": [
    "#  size(proValls)  (4, 301, 100, 5)\n",
    "\n",
    "figure(3); clf(); N=40\n",
    "\n",
    "t = 0:size(proValls, 2)-1; t = model_params[:dt]*t\n",
    "\n",
    "figure(3); clf();\n",
    "for i=1:N \n",
    "    plot_PA(t, 0, proValls[:,:,i,1], fignum=3, plot_Us=false,\n",
    "    rule_and_delay_period=model_params[:rule_and_delay_period], target_period=model_params[:target_period],\n",
    "    post_target_period = model_params[:post_target_period])\n",
    "end\n",
    "\n",
    "figure(4); clf();\n",
    "for i=1:N \n",
    "    plot_PA(t, 0, antiValls[:,:,i,1], fignum=4, plot_Us=false,\n",
    "    rule_and_delay_period=model_params[:rule_and_delay_period], target_period=model_params[:target_period],\n",
    "    post_target_period = model_params[:post_target_period])\n",
    "end\n"
   ]
  },
  {
   "cell_type": "code",
   "execution_count": null,
   "metadata": {
    "collapsed": false
   },
   "outputs": [],
   "source": [
    "print(model_params)"
   ]
  },
  {
   "cell_type": "code",
   "execution_count": null,
   "metadata": {
    "collapsed": false
   },
   "outputs": [],
   "source": []
  },
  {
   "cell_type": "code",
   "execution_count": null,
   "metadata": {
    "collapsed": false
   },
   "outputs": [],
   "source": []
  },
  {
   "cell_type": "code",
   "execution_count": null,
   "metadata": {
    "collapsed": false
   },
   "outputs": [],
   "source": [
    "# Define core model parameters\n",
    "model_params = Dict(\n",
    ":dt     =>  0.002, \n",
    ":tau    =>  0.02, \n",
    ":vW     =>  -1.58,\n",
    ":hW     =>  -0.05,\n",
    ":sW     =>  0,\n",
    ":dW     =>  0,\n",
    ":nsteps =>  301, \n",
    ":noise  =>  [], \n",
    ":sigma  =>  0.08, \n",
    ":input  =>  0, \n",
    ":g_leak =>  1, \n",
    ":U_rest =>  0,\n",
    ":theta  =>  0.05, \n",
    ":beta   =>  0.5, \n",
    ":constant_excitation      => 0, \n",
    ":anti_rule_strength       => 0.05,\n",
    ":pro_rule_strength        => 0.05, \n",
    ":target_period_excitation => 0,\n",
    ":right_light_excitation   => 0.6, \n",
    ":right_light_pro_extra    => 0,\n",
    ":const_add                => 0, \n",
    ":init_add                 => 0, \n",
    ":rule_and_delay_period    => 0.2,\n",
    ":target_period            => 0.1,\n",
    ":post_target_period       => 0.1,\n",
    ":const_pro_bias           => 0.0427,\n",
    ":nPro                     => 100,\n",
    ":nAnti                    => 100,\n",
    ":theta1                   => 0.05,\n",
    ":theta2                   => 0.15,\n",
    ":opto_strength  => .9,\n",
    ":opto_periods   => [\n",
    "    0               0 ; \n",
    "    0              \"trial_end\" ;\n",
    "    \"target_start/2\"  \"target_start\";\n",
    "    \"target_start\"    \"target_end\"],  \n",
    "# set of opto conditions, in seconds, with 0 the start \n",
    "# of the trial (i.e. start of rule_and_delay_period), anything before 0 or after end of trial gets ignored.\n",
    "#:opto_targets   => [.75 .73;.77 .58;.75 .74;.72 .66;.73 .75] \n",
    ":opto_targets => [\n",
    "    .9      .7; \n",
    "    .9      .5; \n",
    "    .9      .55; \n",
    "    .9      .7;\n",
    "    ],  # first column is frachit Pro, next column is Anti, rows are conditions\n",
    "# The \"conditions\" correspond to the rows of opto_periods.\n",
    ");\n",
    "\n",
    "\n",
    "# ======= ARGUMENTS AND SEED VALUES:\n",
    "args = [\"sW\", \"vW\", \"hW\", \"dW\", \"constant_excitation\", \"right_light_excitation\", \"target_period_excitation\"]\n",
    "seed = [0.001,  -1.58,   -0.05,  0.001,    0.001,                0.6,                       0.001]   \n",
    "args = [args ; [\"const_pro_bias\", \"sigma\",\"opto_strength\", \"pro_rule_strength\", \"anti_rule_strength\"]];\n",
    "seed = [seed ; [  0.0427,            .05,      .9,              0.05,                0.05]];\n",
    "\n",
    "# ======= BOUNDING BOX:\n",
    "bbox = Dict(:sW=>[0 3], :vW=>[-3 3], :hW=>[-3 3], :dW=>[-3 3], :constant_excitation=>[-2 2],\n",
    ":right_light_excitation=>[0.05 4], :target_period_excitation=>[0 4], :const_pro_bias=>[-2 2],\n",
    ":sigma=>[0.01 0.2],:opto_strength=>[0 1]);\n",
    "\n",
    "# ======== SEARCH ZONE:\n",
    "sbox = Dict(:sW=>[0 .5], :vW=>[-.5 .5], :hW=>[-.5 .5], :dW=>[-.5 .5],\n",
    ":constant_excitation=>[-.5 .5], :right_light_excitation=>[0.05 .5], :target_period_excitation=>[0.001 .5],:const_pro_bias=>[-.5 .5], :sigma=>[0.02 0.19],:opto_strength=>[.7 .99]);\n",
    "\n",
    "# define a few hyper parameters\n",
    "cbetas = [0.04];\n",
    "rule_and_delay_periods = [0.2];\n",
    "post_target_periods    = [0.1];\n",
    "num_eval_runs           = 100;\n",
    "num_optimize_iter       = 2000;\n",
    "num_optimize_restarts   = 1;\n",
    "\n",
    "\n",
    "cb = 0.04\n",
    "\n",
    "# figure out initial seed for random number generator\n",
    "sr = convert(Int64, round(time()))\n",
    "srand(sr);\n",
    "\n",
    "mypars = merge(model_params, Dict(:opto_times => [\"target_start\", \"target_end\"], :rule_and_delay_period=>0.2,\n",
    ":anti_rule_strength=>0.06))\n",
    "# mypars = merge(model_params, Dict(:opto_times => [0 0], :rule_and_delay_period=>0.1,\n",
    "# :anti_rule_strength=>0.06))\n",
    "pygui(true)\n",
    "proVs, antiVs, pro_fullV, anti_fullV, opto_fraction, pro_input, anti_input = run_ntrials(15, 15; \n",
    "plot_list=[1:15;], profig=1, antifig=2, opto_units = 1:4, mypars...)\n",
    "\n",
    "# define opto function with just value output\n",
    "func =  (;params...) -> JJ(model_params[:nPro], model_params[:nAnti]; \n",
    "    rule_and_delay_periods=rule_and_delay_periods, theta1=model_params[:theta1], theta2=model_params[:theta2], \n",
    "    post_target_periods=post_target_periods, seedrand=sr, cbeta=cb, verbose=true, \n",
    "    merge(mypars, Dict(params))...)[1]\n",
    "\n",
    "\n",
    "# cost, cost1s, cost2s, hP, hA, dP, dA, hBP, hBA = JJ(model_params[:nPro], model_params[:nAnti]; \n",
    "#     rule_and_delay_periods=rule_and_delay_periods, theta1=model_params[:theta1], theta2=model_params[:theta2], \n",
    "#     post_target_periods=post_target_periods, seedrand=sr, cbeta=cb, verbose=true, model_params...)\n",
    "    "
   ]
  },
  {
   "cell_type": "code",
   "execution_count": null,
   "metadata": {
    "collapsed": false
   },
   "outputs": [],
   "source": [
    "@printf(\"Going with seed = \"); print_vector_g(seed); print(\"\\n\")\n",
    "pars, traj, cost, cpm_traj, ftraj = bbox_Hessian_keyword_minimization(seed, args, bbox, func, \n",
    "    start_eta = 1, tol=1e-12, verbose=true, verbose_every=1, maxiter=num_optimize_iter)\n",
    "@printf(\"Came out with cost %g and pars = \", cost); print_vector_g(pars); print(\"\\n\\n\")\n"
   ]
  },
  {
   "cell_type": "code",
   "execution_count": null,
   "metadata": {
    "collapsed": true
   },
   "outputs": [],
   "source": []
  },
  {
   "cell_type": "code",
   "execution_count": null,
   "metadata": {
    "collapsed": true
   },
   "outputs": [],
   "source": []
  },
  {
   "cell_type": "code",
   "execution_count": null,
   "metadata": {
    "collapsed": true
   },
   "outputs": [],
   "source": []
  },
  {
   "cell_type": "code",
   "execution_count": null,
   "metadata": {
    "collapsed": true
   },
   "outputs": [],
   "source": [
    "# run optimization with all parameters\n",
    "@printf(\"Going with seed = \"); print_vector_g(seed); print(\"\\n\")\n",
    "pars, traj, cost, cpm_traj, ftraj = bbox_Hessian_keyword_minimization(seed, args, bbox, func, \n",
    "    start_eta = 1, tol=1e-12, verbose=true, verbose_every=1, maxiter=num_optimize_iter)\n",
    "@printf(\"Came out with cost %g and pars = \", cost); print_vector_g(pars); print(\"\\n\\n\")\n",
    "\n",
    "    # get gradient and hessian at end of optimization \n",
    "    value, grad, hess = keyword_vgh(func, args, pars)\n",
    "\n",
    "    # define function with all outputs, evaluate on training noise\n",
    "    t_standard_func =  (;params...) -> JJ_opto(model_params[:nPro], model_params[:nAnti]; rule_and_delay_periods=rule_and_delay_periods, theta1=model_params[:theta1], theta2=model_params[:theta2], post_target_periods=post_target_periods, seedrand=sr, cbeta=cb, verbose=false, merge(model_params, Dict(params))...)\n",
    "\n",
    "    # run opto model with all outputs, evaluate on training noise\n",
    "    t_opto_scost, t_opto_scost1, t_opto_scost2, t_opto_hitsP,t_opto_hitsA, t_opto_diffsP, t_opto_diffsA, t_opto_bP, t_opto_bA = t_standard_func(;make_dict(args, pars, model_params)...)\n",
    "    \n",
    "   ## evaluate for long form info\n",
    "    # reset random number generator for testing purposes\n",
    "    test_sr = convert(Int64, round(time()))\n",
    "    srand(test_sr); \n",
    "\n",
    "    # define function with all outputs, evaluate on test noise\n",
    "    standard_func =  (;params...) -> JJ_opto(num_eval_runs, num_eval_runs; rule_and_delay_periods=rule_and_delay_periods, theta1=model_params[:theta1], theta2=model_params[:theta2], post_target_periods=post_target_periods, seedrand=test_sr, cbeta=cb, verbose=false, merge(model_params, Dict(params))...)\n",
    "\n",
    "    # run opto model with all outputs, evaluate on test noise\n",
    "    opto_scost, opto_scost1, opto_scost2, opto_hitsP,opto_hitsA, opto_diffsP, opto_diffsA, opto_bP, opto_bA = standard_func(;make_dict(args, pars, model_params)...)\n",
    "\n",
    "    # define non-opto model with all outputs, to check opto model, evaluate on test noise\n",
    "    standard_func =  (;params...) -> JJ(num_eval_runs, num_eval_runs; rule_and_delay_periods=rule_and_delay_periods, theta1=model_params[:theta1], theta2=model_params[:theta2], post_target_periods=post_target_periods, seedrand=test_sr, cbeta=cb, verbose=false, merge(model_params, Dict(params))...)\n",
    "\n",
    "    # run non-opto model with all outputs, evaluate on test noise\n",
    "    scost, scost1, scost2, hitsP,hitsA, diffsP, diffsA = standard_func(;make_dict(args, pars, model_params)...)\n",
    " \n",
    "   ## Save this run out to a file\n",
    "    # get filename\n",
    "    myfilename = next_file(fbasename, 4)\n",
    "    myfilename = myfilename*\".mat\"\n",
    "    # write file\n",
    "    matwrite(myfilename, Dict(\"args\"=>args, \"myseed\"=>myseed, \"dista\"=>dista, \"pars\"=>pars, \"traj\"=>traj, \"cost\"=>cost, \"cpm_traj\"=>cpm_traj, \"nPro\"=>model_params[:nPro], \"nAnti\"=>model_params[:nAnti], \"sr\"=>sr, \"cb\"=>cb, \"theta1\"=>model_params[:theta1], \"theta2\"=>model_params[:theta2],\"value\"=>value,\"grad\"=>grad, \"hess\"=>hess, \"scost\"=>scost, \"scost1\"=>scost1, \"scost2\"=>scost2, \"hitsP\"=>hitsP,\"hitsA\"=>hitsA, \"diffsP\"=>diffsP, \"diffsA\"=>diffsA, \"model_params\"=>ascii_key_ize(model_params), \"bbox\"=>ascii_key_ize(bbox), \"sbox\"=>ascii_key_ize(sbox), \"rule_and_delay_periods\"=>rule_and_delay_periods, \"post_target_periods\"=>post_target_periods, \"opto_scost\"=>opto_scost, \"opto_scost1\"=>opto_scost1, \"opto_scost2\"=>opto_scost2, \"opto_hitsP\"=>opto_hitsP, \"opto_hitsA\"=>opto_hitsA, \"opto_diffsP\"=>opto_diffsP, \"opto_diffsA\"=>opto_diffsA,\"test_sr\"=>test_sr,\"opto_bP\"=>opto_bP, \"opto_bA\"=>opto_bA, \"t_opto_scost\"=>t_opto_scost, \"t_opto_scost1\"=>t_opto_scost1, \"t_opto_scost2\"=>t_opto_scost2, \"t_opto_hitsP\"=>t_opto_hitsP, \"t_opto_hitsA\"=>t_opto_hitsA, \"t_opto_diffsP\"=>t_opto_diffsP, \"t_opto_diffsA\"=>t_opto_diffsA,\"t_opto_bP\"=>t_opto_bP, \"t_opto_bA\"=>t_opto_bA  ))\n",
    "end\n",
    "end"
   ]
  }
 ],
 "metadata": {
  "kernelspec": {
   "display_name": "Julia 0.6.0",
   "language": "julia",
   "name": "julia-0.6"
  },
  "language_info": {
   "file_extension": ".jl",
   "mimetype": "application/julia",
   "name": "julia",
   "version": "0.6.0"
  }
 },
 "nbformat": 4,
 "nbformat_minor": 0
}
