{
 "cells": [
  {
   "cell_type": "markdown",
   "metadata": {},
   "source": [
    "# Marino's model in Marino's parameter settings"
   ]
  },
  {
   "cell_type": "code",
   "execution_count": 1,
   "metadata": {
    "collapsed": false
   },
   "outputs": [
    {
     "data": {
      "text/plain": [
       "load_run"
      ]
     },
     "execution_count": 1,
     "metadata": {},
     "output_type": "execute_result"
    }
   ],
   "source": [
    "# In its own cell so we can run it just once\n",
    "\n",
    "include(\"pro_anti.jl\")   # Loads all the necessary pre-requisites\n"
   ]
  },
  {
   "cell_type": "code",
   "execution_count": 38,
   "metadata": {
    "collapsed": false
   },
   "outputs": [],
   "source": [
    "# Define core model parameters\n",
    "model_params = Dict(\n",
    ":dt     =>  0.002, \n",
    ":tau    =>  0.02, \n",
    ":vW     =>  -1.58,\n",
    ":hW     =>  -0.05,\n",
    ":sW     =>  0,\n",
    ":dW     =>  0,\n",
    ":nsteps =>  301, \n",
    ":noise  =>  [], \n",
    ":sigma  =>  0.08, \n",
    ":input  =>  0, \n",
    ":g_leak =>  1, \n",
    ":U_rest =>  0,\n",
    ":theta  =>  0.05, \n",
    ":beta   =>  0.5, \n",
    ":constant_excitation      => 0, \n",
    ":anti_rule_strength       => 0.05,\n",
    ":pro_rule_strength        => 0.05, \n",
    ":target_period_excitation => 0,\n",
    ":right_light_excitation   => 0.6, \n",
    ":right_light_pro_extra    => 0,\n",
    ":const_add                => 0, \n",
    ":init_add                 => 0, \n",
    ":rule_and_delay_period    => 0.2,\n",
    ":target_period            => 0.1,\n",
    ":post_target_period       => 0.1,\n",
    ":const_pro_bias           => 0.0427,\n",
    ":nPro                     => 100,\n",
    ":nAnti                    => 100,\n",
    ":theta1                   => 0.05,\n",
    ":theta2                   => 0.15,\n",
    ":opto_strength  => .9,\n",
    ":opto_periods   => [\n",
    "    0               0 ; \n",
    "    0              \"trial_end\" ;\n",
    "    \"target_start/2\"  \"target_start\";\n",
    "    \"target_start\"    \"target_end\"],  \n",
    "# set of opto conditions, in seconds, with 0 the start \n",
    "# of the trial (i.e. start of rule_and_delay_period), anything before 0 or after end of trial gets ignored.\n",
    "#:opto_targets   => [.75 .73;.77 .58;.75 .74;.72 .66;.73 .75] \n",
    ":opto_targets => [\n",
    "    .9      .7; \n",
    "    .9      .5; \n",
    "    .9      .55; \n",
    "    .9      .7;\n",
    "    ],  # first column is frachit Pro, next column is Anti, rows are conditions\n",
    "# The \"conditions\" correspond to the rows of opto_periods.\n",
    ");\n",
    "\n",
    "\n",
    "# ======= ARGUMENTS AND SEED VALUES:\n",
    "args = [\"sW\", \"vW\", \"hW\", \"dW\", \"constant_excitation\", \"right_light_excitation\", \"target_period_excitation\"]\n",
    "seed = [0.001,  -1.58,   -0.05,  0.001,    0.001,                0.6,                       0.001]   \n",
    "args = [args ; [\"const_pro_bias\", \"sigma\",\"opto_strength\", \"pro_rule_strength\", \"anti_rule_strength\"]];\n",
    "seed = [seed ; [  0.0427,            .05,      .9,              0.05,                0.05]];\n",
    "\n",
    "# ======= BOUNDING BOX:\n",
    "bbox = Dict(:sW=>[0 3], :vW=>[-3 3], :hW=>[-3 3], :dW=>[-3 3], :constant_excitation=>[-2 2],\n",
    ":right_light_excitation=>[0.05 4], :target_period_excitation=>[0 4], :const_pro_bias=>[-2 2],\n",
    ":sigma=>[0.01 0.2],:opto_strength=>[0 1]);\n",
    "\n",
    "# ======== SEARCH ZONE:\n",
    "sbox = Dict(:sW=>[0 .5], :vW=>[-.5 .5], :hW=>[-.5 .5], :dW=>[-.5 .5],\n",
    ":constant_excitation=>[-.5 .5], :right_light_excitation=>[0.05 .5], :target_period_excitation=>[0.001 .5],:const_pro_bias=>[-.5 .5], :sigma=>[0.02 0.19],:opto_strength=>[.7 .99]);\n",
    "\n",
    "# define a few hyper parameters\n",
    "cbetas = [0.04];\n",
    "rule_and_delay_periods = [0.2];\n",
    "post_target_periods    = [0.1];\n",
    "num_eval_runs           = 100;\n",
    "num_optimize_iter       = 2000;\n",
    "num_optimize_restarts   = 1;\n",
    "\n",
    "\n",
    "cb = 0.04\n",
    "\n",
    "# figure out initial seed for random number generator\n",
    "sr = convert(Int64, round(time()))\n",
    "srand(sr);\n",
    "\n",
    "mypars = merge(model_params, Dict(:opto_times => [\"target_start\", \"target_end\"], :rule_and_delay_period=>0.2,\n",
    ":anti_rule_strength=>0.06))\n",
    "# mypars = merge(model_params, Dict(:opto_times => [0 0], :rule_and_delay_period=>0.1,\n",
    "# :anti_rule_strength=>0.06))\n",
    "pygui(true)\n",
    "proVs, antiVs, pro_fullV, anti_fullV, opto_fraction, pro_input, anti_input = run_ntrials(15, 15; \n",
    "plot_list=[1:15;], profig=1, antifig=2, opto_units = 1:4, mypars...)\n",
    "\n",
    "# define opto function with just value output\n",
    "func =  (;params...) -> JJ(model_params[:nPro], model_params[:nAnti]; \n",
    "    rule_and_delay_periods=rule_and_delay_periods, theta1=model_params[:theta1], theta2=model_params[:theta2], \n",
    "    post_target_periods=post_target_periods, seedrand=sr, cbeta=cb, verbose=true, \n",
    "    merge(mypars, Dict(params))...)[1]\n",
    "\n",
    "\n",
    "# cost, cost1s, cost2s, hP, hA, dP, dA, hBP, hBA = JJ(model_params[:nPro], model_params[:nAnti]; \n",
    "#     rule_and_delay_periods=rule_and_delay_periods, theta1=model_params[:theta1], theta2=model_params[:theta2], \n",
    "#     post_target_periods=post_target_periods, seedrand=sr, cbeta=cb, verbose=true, model_params...)\n",
    "    "
   ]
  },
  {
   "cell_type": "code",
   "execution_count": 39,
   "metadata": {
    "collapsed": false
   },
   "outputs": [
    {
     "name": "stdout",
     "output_type": "stream",
     "text": [
      "Going with seed = [0.001, -1.58, -0.05, 0.001, 0.001, 0.6, 0.001, 0.0427, 0.05, 0.9, 0.05, 0.05]\n",
      "0: eta=1 ps=[0.001, -1.580, -0.050, 0.001, 0.001, 0.600, 0.001, 0.043, 0.050, 0.900, 0.050, 0.050]\n",
      "Opto condition # 1\n",
      "     - 1 - cost=0.00967201, cost1=0.0128087, cost2=-0.00313672\n",
      "     - 1 - mean(hitsP)=0.969158, mean(diffsP)=0.278507 mean(hitsA)=0.387451, mean(diffsA)=0.348837\n",
      "Opto condition # 2\n",
      "     - 2 - cost=0.0117545, cost1=0.0139329, cost2=-0.00217838\n",
      "     - 2 - mean(hitsP)=0.967123, mean(diffsP)=0.268395 mean(hitsA)=0.172956, mean(diffsA)=0.167281\n",
      "Opto condition # 3\n",
      "     - 3 - cost=0.0126378, cost1=0.0158546, cost2=-0.00321686\n",
      "     - 3 - mean(hitsP)=0.973269, mean(diffsP)=0.297372 mean(hitsA)=0.201476, mean(diffsA)=0.346\n",
      "Opto condition # 4\n",
      "     - 4 - cost=0.0212839, cost1=0.0241292, cost2=-0.00284533\n",
      "     - 4 - mean(hitsP)=0.976805, mean(diffsP)=0.316004 mean(hitsA)=0.267409, mean(diffsA)=0.253061\n",
      "OVERALL\n",
      "     -- cost=0.013837, cost1=0.0166814, cost2=-0.00284432\n",
      "Opto condition # 1\n",
      "     - 1 - cost=0.0963667, cost1=0.098916, cost2=-0.00254927\n",
      "     - 1 - mean(hitsP)=0.051329, mean(diffsP)=0.267577 mean(hitsA)=0.433382, mean(diffsA)=0.242277\n",
      "Opto condition # 2\n",
      "     - 2 - cost=0.0888844, cost1=0.0912904, cost2=-0.00240599\n",
      "     - 2 - mean(hitsP)=0.0495971, mean(diffsP)=0.272454 mean(hitsA)=0.415514, mean(diffsA)=0.208743\n"
     ]
    },
    {
     "ename": "LoadError",
     "evalue": "\u001b[91mInterruptException:\u001b[39m",
     "output_type": "error",
     "traceback": [
      "\u001b[91mInterruptException:\u001b[39m",
      "",
      "Stacktrace:",
      " [1] \u001b[1margtail\u001b[22m\u001b[22m\u001b[1m(\u001b[22m\u001b[22m::Base.Slice{Base.OneTo{Int64}}, ::Int64, ::Vararg{Int64,N} where N\u001b[1m)\u001b[22m\u001b[22m at \u001b[1m./essentials.jl:0\u001b[22m\u001b[22m",
      " [2] \u001b[1munsafe_view\u001b[22m\u001b[22m\u001b[1m(\u001b[22m\u001b[22m::Array{ForwardDiff.Dual{ForwardDiff.Tag{##11#13{##26#28,Array{String,1}},0x096989b645fcecd8},ForwardDiff.Dual{ForwardDiff.Tag{Void,0xb046287d533b082d},Float64,12},12},2}, ::Base.Slice{Base.OneTo{Int64}}, ::Vararg{Union{AbstractArray, Real},N} where N\u001b[1m)\u001b[22m\u001b[22m at \u001b[1m./subarray.jl:119\u001b[22m\u001b[22m",
      " [3] \u001b[1mview\u001b[22m\u001b[22m\u001b[1m(\u001b[22m\u001b[22m::Array{ForwardDiff.Dual{ForwardDiff.Tag{##11#13{##26#28,Array{String,1}},0x096989b645fcecd8},ForwardDiff.Dual{ForwardDiff.Tag{Void,0xb046287d533b082d},Float64,12},12},2}, ::Colon, ::Vararg{Any,N} where N\u001b[1m)\u001b[22m\u001b[22m at \u001b[1m./subarray.jl:114\u001b[22m\u001b[22m",
      " [4] \u001b[1mdotview\u001b[22m\u001b[22m\u001b[1m(\u001b[22m\u001b[22m::Array{ForwardDiff.Dual{ForwardDiff.Tag{##11#13{##26#28,Array{String,1}},0x096989b645fcecd8},ForwardDiff.Dual{ForwardDiff.Tag{Void,0xb046287d533b082d},Float64,12},12},2}, ::Colon, ::Vararg{Any,N} where N\u001b[1m)\u001b[22m\u001b[22m at \u001b[1m./broadcast.jl:537\u001b[22m\u001b[22m",
      " [5] \u001b[1m#forwardModel#30\u001b[22m\u001b[22m\u001b[1m(\u001b[22m\u001b[22m::ForwardDiff.Dual{ForwardDiff.Tag{##11#13{##26#28,Array{String,1}},0x096989b645fcecd8},ForwardDiff.Dual{ForwardDiff.Tag{Void,0xb046287d533b082d},Float64,12},12}, ::UnitRange{Int64}, ::Array{Any,2}, ::Float64, ::Float64, ::Int64, ::Array{ForwardDiff.Dual{ForwardDiff.Tag{##11#13{##26#28,Array{String,1}},0x096989b645fcecd8},ForwardDiff.Dual{ForwardDiff.Tag{Void,0xb046287d533b082d},Float64,12},12},2}, ::Array{Any,1}, ::Array{ForwardDiff.Dual{ForwardDiff.Tag{##11#13{##26#28,Array{String,1}},0x096989b645fcecd8},ForwardDiff.Dual{ForwardDiff.Tag{Void,0xb046287d533b082d},Float64,12},12},2}, ::Int64, ::Int64, ::Int64, ::Bool, ::Int64, ::Int64, ::Bool, ::Int64, ::Bool, ::ForwardDiff.Dual{ForwardDiff.Tag{##11#13{##26#28,Array{String,1}},0x096989b645fcecd8},ForwardDiff.Dual{ForwardDiff.Tag{Void,0xb046287d533b082d},Float64,12},12}, ::Int64, ::Int64, ::Float64, ::Float64, ::Bool, ::Array{Any,1}, ::#forwardModel, ::Array{Float64,1}\u001b[1m)\u001b[22m\u001b[22m at \u001b[1m/Users/carlos/Papers/MarinoPagan/ProAnti/Carlos/superior_colliculus_mutual_inhibition/rate_networks.jl:254\u001b[22m\u001b[22m",
      " [6] \u001b[1m(::#kw##forwardModel)\u001b[22m\u001b[22m\u001b[1m(\u001b[22m\u001b[22m::Array{Any,1}, ::#forwardModel, ::Array{Float64,1}\u001b[1m)\u001b[22m\u001b[22m at \u001b[1m./<missing>:0\u001b[22m\u001b[22m",
      " [7] \u001b[1m#run_ntrials#54\u001b[22m\u001b[22m\u001b[1m(\u001b[22m\u001b[22m::Array{Any,1}, ::Array{Float64,1}, ::Array{Float64,1}, ::Int64, ::Int64, ::Bool, ::Bool, ::Dict{Any,Any}, ::UnitRange{Int64}, ::Int64, ::Int64, ::Array{Any,1}, ::#run_ntrials, ::Int64, ::Int64\u001b[1m)\u001b[22m\u001b[22m at \u001b[1m/Users/carlos/Papers/MarinoPagan/ProAnti/Carlos/superior_colliculus_mutual_inhibition/pro_anti.jl:396\u001b[22m\u001b[22m",
      " [8] \u001b[1m(::#kw##run_ntrials)\u001b[22m\u001b[22m\u001b[1m(\u001b[22m\u001b[22m::Array{Any,1}, ::#run_ntrials, ::Int64, ::Int64\u001b[1m)\u001b[22m\u001b[22m at \u001b[1m./<missing>:0\u001b[22m\u001b[22m",
      " [9] \u001b[1m#JJ#55\u001b[22m\u001b[22m\u001b[1m(\u001b[22m\u001b[22m::Float64, ::Float64, ::Array{Float64,2}, ::Array{Any,2}, ::Bool, ::Float64, ::Float64, ::Float64, ::Bool, ::String, ::Int64, ::Int64, ::Array{Float64,1}, ::Array{Float64,1}, ::Array{Float64,1}, ::Bool, ::Array{Any,1}, ::Int64, ::Int64, ::Array{Any,1}, ::#JJ, ::Int64, ::Int64\u001b[1m)\u001b[22m\u001b[22m at \u001b[1m/Users/carlos/Papers/MarinoPagan/ProAnti/Carlos/superior_colliculus_mutual_inhibition/pro_anti.jl:541\u001b[22m\u001b[22m",
      " [10] \u001b[1m(::#kw##JJ)\u001b[22m\u001b[22m\u001b[1m(\u001b[22m\u001b[22m::Array{Any,1}, ::#JJ, ::Int64, ::Int64\u001b[1m)\u001b[22m\u001b[22m at \u001b[1m./<missing>:0\u001b[22m\u001b[22m",
      " [11] \u001b[1m##78#79\u001b[22m\u001b[22m\u001b[1m(\u001b[22m\u001b[22m::Array{Any,1}, ::Function\u001b[1m)\u001b[22m\u001b[22m at \u001b[1m./In[38]:91\u001b[22m\u001b[22m",
      " [12] \u001b[1m(::#kw###78#80)\u001b[22m\u001b[22m\u001b[1m(\u001b[22m\u001b[22m::Array{Any,1}, ::##78#80\u001b[1m)\u001b[22m\u001b[22m at \u001b[1m./<missing>:0\u001b[22m\u001b[22m",
      " [13] \u001b[1m(::###26#27#29{Dict{Symbol,Any},##78#80})\u001b[22m\u001b[22m\u001b[1m(\u001b[22m\u001b[22m::Array{Any,1}, ::Function\u001b[1m)\u001b[22m\u001b[22m at \u001b[1m/Users/carlos/Papers/MarinoPagan/ProAnti/Carlos/superior_colliculus_mutual_inhibition/hessian_utils.jl:1138\u001b[22m\u001b[22m",
      " [14] \u001b[1m(::#kw###26#28)\u001b[22m\u001b[22m\u001b[1m(\u001b[22m\u001b[22m::Array{Any,1}, ::##26#28\u001b[1m)\u001b[22m\u001b[22m at \u001b[1m./<missing>:0\u001b[22m\u001b[22m",
      " [15] \u001b[1m(::##11#13{##26#28,Array{String,1}})\u001b[22m\u001b[22m\u001b[1m(\u001b[22m\u001b[22m::Array{ForwardDiff.Dual{ForwardDiff.Tag{##11#13{##26#28,Array{String,1}},0x096989b645fcecd8},ForwardDiff.Dual{ForwardDiff.Tag{Void,0xb046287d533b082d},Float64,12},12},1}\u001b[1m)\u001b[22m\u001b[22m at \u001b[1m/Users/carlos/Papers/MarinoPagan/ProAnti/Carlos/superior_colliculus_mutual_inhibition/hessian_utils.jl:400\u001b[22m\u001b[22m",
      " [16] \u001b[1mvector_mode_gradient!\u001b[22m\u001b[22m\u001b[1m(\u001b[22m\u001b[22m::DiffResults.MutableDiffResult{1,ForwardDiff.Dual{ForwardDiff.Tag{Void,0xb046287d533b082d},Float64,12},Tuple{Array{ForwardDiff.Dual{ForwardDiff.Tag{Void,0xb046287d533b082d},Float64,12},1}}}, ::##11#13{##26#28,Array{String,1}}, ::Array{ForwardDiff.Dual{ForwardDiff.Tag{Void,0xb046287d533b082d},Float64,12},1}, ::ForwardDiff.GradientConfig{ForwardDiff.Tag{##11#13{##26#28,Array{String,1}},0x096989b645fcecd8},ForwardDiff.Dual{ForwardDiff.Tag{Void,0xb046287d533b082d},Float64,12},12,Array{ForwardDiff.Dual{ForwardDiff.Tag{##11#13{##26#28,Array{String,1}},0x096989b645fcecd8},ForwardDiff.Dual{ForwardDiff.Tag{Void,0xb046287d533b082d},Float64,12},12},1}}\u001b[1m)\u001b[22m\u001b[22m at \u001b[1m/Users/carlos/.julia/v0.6/ForwardDiff/src/gradient.jl:100\u001b[22m\u001b[22m",
      " [17] \u001b[1mgradient!\u001b[22m\u001b[22m\u001b[1m(\u001b[22m\u001b[22m::DiffResults.MutableDiffResult{1,ForwardDiff.Dual{ForwardDiff.Tag{Void,0xb046287d533b082d},Float64,12},Tuple{Array{ForwardDiff.Dual{ForwardDiff.Tag{Void,0xb046287d533b082d},Float64,12},1}}}, ::##11#13{##26#28,Array{String,1}}, ::Array{ForwardDiff.Dual{ForwardDiff.Tag{Void,0xb046287d533b082d},Float64,12},1}, ::ForwardDiff.GradientConfig{ForwardDiff.Tag{##11#13{##26#28,Array{String,1}},0x096989b645fcecd8},ForwardDiff.Dual{ForwardDiff.Tag{Void,0xb046287d533b082d},Float64,12},12,Array{ForwardDiff.Dual{ForwardDiff.Tag{##11#13{##26#28,Array{String,1}},0x096989b645fcecd8},ForwardDiff.Dual{ForwardDiff.Tag{Void,0xb046287d533b082d},Float64,12},12},1}}\u001b[1m)\u001b[22m\u001b[22m at \u001b[1m/Users/carlos/.julia/v0.6/ForwardDiff/src/gradient.jl:35\u001b[22m\u001b[22m",
      " [18] \u001b[1m(::ForwardDiff.##55#56{##11#13{##26#28,Array{String,1}},ForwardDiff.HessianConfig{ForwardDiff.Tag{##11#13{##26#28,Array{String,1}},0x096989b645fcecd8},Float64,12,Array{ForwardDiff.Dual{ForwardDiff.Tag{##11#13{##26#28,Array{String,1}},0x096989b645fcecd8},ForwardDiff.Dual{ForwardDiff.Tag{Void,0xb046287d533b082d},Float64,12},12},1},0xb046287d533b082d,Tuple{Array{ForwardDiff.Dual{ForwardDiff.Tag{Void,0xb046287d533b082d},Float64,12},1},Array{ForwardDiff.Dual{ForwardDiff.Tag{Void,0xb046287d533b082d},Float64,12},1}}}})\u001b[22m\u001b[22m\u001b[1m(\u001b[22m\u001b[22m::Array{ForwardDiff.Dual{ForwardDiff.Tag{Void,0xb046287d533b082d},Float64,12},1}, ::Array{ForwardDiff.Dual{ForwardDiff.Tag{Void,0xb046287d533b082d},Float64,12},1}\u001b[1m)\u001b[22m\u001b[22m at \u001b[1m/Users/carlos/.julia/v0.6/ForwardDiff/src/hessian.jl:47\u001b[22m\u001b[22m",
      " [19] \u001b[1mvector_mode_dual_eval\u001b[22m\u001b[22m\u001b[1m(\u001b[22m\u001b[22m::ForwardDiff.##55#56{##11#13{##26#28,Array{String,1}},ForwardDiff.HessianConfig{ForwardDiff.Tag{##11#13{##26#28,Array{String,1}},0x096989b645fcecd8},Float64,12,Array{ForwardDiff.Dual{ForwardDiff.Tag{##11#13{##26#28,Array{String,1}},0x096989b645fcecd8},ForwardDiff.Dual{ForwardDiff.Tag{Void,0xb046287d533b082d},Float64,12},12},1},0xb046287d533b082d,Tuple{Array{ForwardDiff.Dual{ForwardDiff.Tag{Void,0xb046287d533b082d},Float64,12},1},Array{ForwardDiff.Dual{ForwardDiff.Tag{Void,0xb046287d533b082d},Float64,12},1}}}}, ::Array{Float64,1}, ::Array{Float64,1}, ::ForwardDiff.JacobianConfig{ForwardDiff.Tag{Void,0xb046287d533b082d},Float64,12,Tuple{Array{ForwardDiff.Dual{ForwardDiff.Tag{Void,0xb046287d533b082d},Float64,12},1},Array{ForwardDiff.Dual{ForwardDiff.Tag{Void,0xb046287d533b082d},Float64,12},1}}}\u001b[1m)\u001b[22m\u001b[22m at \u001b[1m/Users/carlos/.julia/v0.6/ForwardDiff/src/apiutils.jl:43\u001b[22m\u001b[22m",
      " [20] \u001b[1mvector_mode_jacobian!\u001b[22m\u001b[22m at \u001b[1m/Users/carlos/.julia/v0.6/ForwardDiff/src/jacobian.jl:156\u001b[22m\u001b[22m [inlined]",
      " [21] \u001b[1mjacobian!\u001b[22m\u001b[22m\u001b[1m(\u001b[22m\u001b[22m::Array{Float64,2}, ::ForwardDiff.##55#56{##11#13{##26#28,Array{String,1}},ForwardDiff.HessianConfig{ForwardDiff.Tag{##11#13{##26#28,Array{String,1}},0x096989b645fcecd8},Float64,12,Array{ForwardDiff.Dual{ForwardDiff.Tag{##11#13{##26#28,Array{String,1}},0x096989b645fcecd8},ForwardDiff.Dual{ForwardDiff.Tag{Void,0xb046287d533b082d},Float64,12},12},1},0xb046287d533b082d,Tuple{Array{ForwardDiff.Dual{ForwardDiff.Tag{Void,0xb046287d533b082d},Float64,12},1},Array{ForwardDiff.Dual{ForwardDiff.Tag{Void,0xb046287d533b082d},Float64,12},1}}}}, ::Array{Float64,1}, ::Array{Float64,1}, ::ForwardDiff.JacobianConfig{ForwardDiff.Tag{Void,0xb046287d533b082d},Float64,12,Tuple{Array{ForwardDiff.Dual{ForwardDiff.Tag{Void,0xb046287d533b082d},Float64,12},1},Array{ForwardDiff.Dual{ForwardDiff.Tag{Void,0xb046287d533b082d},Float64,12},1}}}\u001b[1m)\u001b[22m\u001b[22m at \u001b[1m/Users/carlos/.julia/v0.6/ForwardDiff/src/jacobian.jl:69\u001b[22m\u001b[22m",
      " [22] \u001b[1mhessian!\u001b[22m\u001b[22m at \u001b[1m/Users/carlos/.julia/v0.6/ForwardDiff/src/hessian.jl:51\u001b[22m\u001b[22m [inlined]",
      " [23] \u001b[1mhessian!\u001b[22m\u001b[22m\u001b[1m(\u001b[22m\u001b[22m::DiffResults.MutableDiffResult{2,Float64,Tuple{Array{Float64,1},Array{Float64,2}}}, ::##11#13{##26#28,Array{String,1}}, ::Array{Float64,1}\u001b[1m)\u001b[22m\u001b[22m at \u001b[1m/Users/carlos/.julia/v0.6/ForwardDiff/src/hessian.jl:45\u001b[22m\u001b[22m",
      " [24] \u001b[1mvgh\u001b[22m\u001b[22m\u001b[1m(\u001b[22m\u001b[22m::Function, ::Array{Float64,1}\u001b[1m)\u001b[22m\u001b[22m at \u001b[1m/Users/carlos/Papers/MarinoPagan/ProAnti/Carlos/superior_colliculus_mutual_inhibition/constrained_parabolic_minimization.jl:66\u001b[22m\u001b[22m",
      " [25] \u001b[1mkeyword_vgh\u001b[22m\u001b[22m\u001b[1m(\u001b[22m\u001b[22m::##26#28, ::Array{String,1}, ::Array{Float64,1}\u001b[1m)\u001b[22m\u001b[22m at \u001b[1m/Users/carlos/Papers/MarinoPagan/ProAnti/Carlos/superior_colliculus_mutual_inhibition/hessian_utils.jl:400\u001b[22m\u001b[22m",
      " [26] \u001b[1m#bbox_Hessian_keyword_minimization#25\u001b[22m\u001b[22m\u001b[1m(\u001b[22m\u001b[22m::Int64, ::Float64, ::Int64, ::Bool, ::Int64, ::Int64, ::Bool, ::Bool, ::String, ::#bbox_Hessian_keyword_minimization, ::Array{Float64,1}, ::Array{String,1}, ::Dict{Symbol,Any}, ::##78#80\u001b[1m)\u001b[22m\u001b[22m at \u001b[1m/Users/carlos/Papers/MarinoPagan/ProAnti/Carlos/superior_colliculus_mutual_inhibition/hessian_utils.jl:1223\u001b[22m\u001b[22m",
      " [27] \u001b[1m(::#kw##bbox_Hessian_keyword_minimization)\u001b[22m\u001b[22m\u001b[1m(\u001b[22m\u001b[22m::Array{Any,1}, ::#bbox_Hessian_keyword_minimization, ::Array{Float64,1}, ::Array{String,1}, ::Dict{Symbol,Any}, ::Function\u001b[1m)\u001b[22m\u001b[22m at \u001b[1m./<missing>:0\u001b[22m\u001b[22m",
      " [28] \u001b[1minclude_string\u001b[22m\u001b[22m\u001b[1m(\u001b[22m\u001b[22m::String, ::String\u001b[1m)\u001b[22m\u001b[22m at \u001b[1m./loading.jl:515\u001b[22m\u001b[22m"
     ]
    }
   ],
   "source": [
    "@printf(\"Going with seed = \"); print_vector_g(seed); print(\"\\n\")\n",
    "pars, traj, cost, cpm_traj, ftraj = bbox_Hessian_keyword_minimization(seed, args, bbox, func, \n",
    "    start_eta = 1, tol=1e-12, verbose=true, verbose_every=1, maxiter=num_optimize_iter)\n",
    "@printf(\"Came out with cost %g and pars = \", cost); print_vector_g(pars); print(\"\\n\\n\")\n"
   ]
  },
  {
   "cell_type": "code",
   "execution_count": null,
   "metadata": {
    "collapsed": true
   },
   "outputs": [],
   "source": []
  },
  {
   "cell_type": "code",
   "execution_count": null,
   "metadata": {
    "collapsed": true
   },
   "outputs": [],
   "source": []
  },
  {
   "cell_type": "code",
   "execution_count": null,
   "metadata": {
    "collapsed": true
   },
   "outputs": [],
   "source": []
  },
  {
   "cell_type": "code",
   "execution_count": null,
   "metadata": {
    "collapsed": true
   },
   "outputs": [],
   "source": [
    "# run optimization with all parameters\n",
    "@printf(\"Going with seed = \"); print_vector_g(seed); print(\"\\n\")\n",
    "pars, traj, cost, cpm_traj, ftraj = bbox_Hessian_keyword_minimization(seed, args, bbox, func, \n",
    "    start_eta = 1, tol=1e-12, verbose=true, verbose_every=1, maxiter=num_optimize_iter)\n",
    "@printf(\"Came out with cost %g and pars = \", cost); print_vector_g(pars); print(\"\\n\\n\")\n",
    "\n",
    "    # get gradient and hessian at end of optimization \n",
    "    value, grad, hess = keyword_vgh(func, args, pars)\n",
    "\n",
    "    # define function with all outputs, evaluate on training noise\n",
    "    t_standard_func =  (;params...) -> JJ_opto(model_params[:nPro], model_params[:nAnti]; rule_and_delay_periods=rule_and_delay_periods, theta1=model_params[:theta1], theta2=model_params[:theta2], post_target_periods=post_target_periods, seedrand=sr, cbeta=cb, verbose=false, merge(model_params, Dict(params))...)\n",
    "\n",
    "    # run opto model with all outputs, evaluate on training noise\n",
    "    t_opto_scost, t_opto_scost1, t_opto_scost2, t_opto_hitsP,t_opto_hitsA, t_opto_diffsP, t_opto_diffsA, t_opto_bP, t_opto_bA = t_standard_func(;make_dict(args, pars, model_params)...)\n",
    "    \n",
    "   ## evaluate for long form info\n",
    "    # reset random number generator for testing purposes\n",
    "    test_sr = convert(Int64, round(time()))\n",
    "    srand(test_sr); \n",
    "\n",
    "    # define function with all outputs, evaluate on test noise\n",
    "    standard_func =  (;params...) -> JJ_opto(num_eval_runs, num_eval_runs; rule_and_delay_periods=rule_and_delay_periods, theta1=model_params[:theta1], theta2=model_params[:theta2], post_target_periods=post_target_periods, seedrand=test_sr, cbeta=cb, verbose=false, merge(model_params, Dict(params))...)\n",
    "\n",
    "    # run opto model with all outputs, evaluate on test noise\n",
    "    opto_scost, opto_scost1, opto_scost2, opto_hitsP,opto_hitsA, opto_diffsP, opto_diffsA, opto_bP, opto_bA = standard_func(;make_dict(args, pars, model_params)...)\n",
    "\n",
    "    # define non-opto model with all outputs, to check opto model, evaluate on test noise\n",
    "    standard_func =  (;params...) -> JJ(num_eval_runs, num_eval_runs; rule_and_delay_periods=rule_and_delay_periods, theta1=model_params[:theta1], theta2=model_params[:theta2], post_target_periods=post_target_periods, seedrand=test_sr, cbeta=cb, verbose=false, merge(model_params, Dict(params))...)\n",
    "\n",
    "    # run non-opto model with all outputs, evaluate on test noise\n",
    "    scost, scost1, scost2, hitsP,hitsA, diffsP, diffsA = standard_func(;make_dict(args, pars, model_params)...)\n",
    " \n",
    "   ## Save this run out to a file\n",
    "    # get filename\n",
    "    myfilename = next_file(fbasename, 4)\n",
    "    myfilename = myfilename*\".mat\"\n",
    "    # write file\n",
    "    matwrite(myfilename, Dict(\"args\"=>args, \"myseed\"=>myseed, \"dista\"=>dista, \"pars\"=>pars, \"traj\"=>traj, \"cost\"=>cost, \"cpm_traj\"=>cpm_traj, \"nPro\"=>model_params[:nPro], \"nAnti\"=>model_params[:nAnti], \"sr\"=>sr, \"cb\"=>cb, \"theta1\"=>model_params[:theta1], \"theta2\"=>model_params[:theta2],\"value\"=>value,\"grad\"=>grad, \"hess\"=>hess, \"scost\"=>scost, \"scost1\"=>scost1, \"scost2\"=>scost2, \"hitsP\"=>hitsP,\"hitsA\"=>hitsA, \"diffsP\"=>diffsP, \"diffsA\"=>diffsA, \"model_params\"=>ascii_key_ize(model_params), \"bbox\"=>ascii_key_ize(bbox), \"sbox\"=>ascii_key_ize(sbox), \"rule_and_delay_periods\"=>rule_and_delay_periods, \"post_target_periods\"=>post_target_periods, \"opto_scost\"=>opto_scost, \"opto_scost1\"=>opto_scost1, \"opto_scost2\"=>opto_scost2, \"opto_hitsP\"=>opto_hitsP, \"opto_hitsA\"=>opto_hitsA, \"opto_diffsP\"=>opto_diffsP, \"opto_diffsA\"=>opto_diffsA,\"test_sr\"=>test_sr,\"opto_bP\"=>opto_bP, \"opto_bA\"=>opto_bA, \"t_opto_scost\"=>t_opto_scost, \"t_opto_scost1\"=>t_opto_scost1, \"t_opto_scost2\"=>t_opto_scost2, \"t_opto_hitsP\"=>t_opto_hitsP, \"t_opto_hitsA\"=>t_opto_hitsA, \"t_opto_diffsP\"=>t_opto_diffsP, \"t_opto_diffsA\"=>t_opto_diffsA,\"t_opto_bP\"=>t_opto_bP, \"t_opto_bA\"=>t_opto_bA  ))\n",
    "end\n",
    "end"
   ]
  }
 ],
 "metadata": {
  "kernelspec": {
   "display_name": "Julia 0.6.0",
   "language": "julia",
   "name": "julia-0.6"
  },
  "language_info": {
   "file_extension": ".jl",
   "mimetype": "application/julia",
   "name": "julia",
   "version": "0.6.0"
  }
 },
 "nbformat": 4,
 "nbformat_minor": 0
}
