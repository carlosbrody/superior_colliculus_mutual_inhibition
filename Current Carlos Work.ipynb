{
 "cells": [
  {
   "cell_type": "markdown",
   "metadata": {},
   "source": [
    "<h1 id=\"tocheading\">TABLE OF CONTENTS</h1>\n",
    "<div id=\"toc\"></div>\n",
    "\n",
    "**Updates to the table of contents are periodic, but run the cell below to first start or force an update.**"
   ]
  },
  {
   "cell_type": "code",
   "execution_count": null,
   "metadata": {
    "collapsed": false
   },
   "outputs": [],
   "source": [
    "macro javascript_str(s) display(\"text/javascript\", s); end\n",
    "\n",
    "javascript\"\"\"\n",
    "$.getScript('make_table_of_contents.js')\n",
    "\"\"\""
   ]
  },
  {
   "cell_type": "markdown",
   "metadata": {},
   "source": [
    "# Utilities for the results database\n",
    "\n",
    "The database is assumed to be a dictionary, with keys that are strings. One key, `\"args\"`, should hold a vector of strings identifying the parameters minimized. All other keys should have vectors or matrices that have nruns rows, each row corresponding to a run. They may have multiple columns, corresponding to multiple entries for that run (e.g., there is typically a `\"params\"` key that has, for each run, the values of all the arguments, i.e., it will have as many columns as `\"args\"` is long.\n",
    "\n",
    "Some **required** keys include\n",
    "\n",
    "* `\"args\"` a vector of strings, indicating the name of the trained arguments, common across runs\n",
    "* `\"params\"`  Float64 matrix, values of the parameters corresponding to args\n",
    "\n",
    "Some **typical** keys include\n",
    "\n",
    "* `\"tcost\"`  Training cost\n",
    "* `\"cost\"`   Test cost\n",
    "* `\"files\"`  Name of the file in which the run is stored\n",
    "\n"
   ]
  },
  {
   "cell_type": "code",
   "execution_count": 223,
   "metadata": {
    "collapsed": false
   },
   "outputs": [
    {
     "data": {
      "text/plain": [
       "selectize (generic function with 2 methods)"
      ]
     },
     "execution_count": 223,
     "metadata": {},
     "output_type": "execute_result"
    }
   ],
   "source": [
    "\"\"\"\n",
    "\"\"\"\n",
    "function selectize(res, selector::String)\n",
    "    nruns  = size(res[\"params\"],1)\n",
    "    mykeys = setdiff(keys(res), [\"args\"])    \n",
    "    args   = res[\"args\"]\n",
    "    \n",
    "    I = zeros(nruns,1)\n",
    "    for i=1:nruns\n",
    "        myDict = Dict()\n",
    "        for k in mykeys\n",
    "            if k==\"params\"\n",
    "                for a=1:length(args)\n",
    "                    myDict[args[a]] = res[k][i,a]\n",
    "                end\n",
    "            else\n",
    "                myDict[k] = res[k][i]\n",
    "            end        \n",
    "        end\n",
    "        I[i] = replacer(selector, myDict)\n",
    "    end\n",
    "    I = find(I .!= 0)\n",
    "    \n",
    "    myres = copy(res)\n",
    "    for k in mykeys\n",
    "        myres[k] = res[k][I,:]\n",
    "    end\n",
    "    \n",
    "    return myres, I\n",
    "end"
   ]
  },
  {
   "cell_type": "code",
   "execution_count": 235,
   "metadata": {
    "collapsed": false
   },
   "outputs": [
    {
     "name": "stdout",
     "output_type": "stream",
     "text": [
      "key cost, run 1\n",
      "key params, run 1\n",
      "key z, run 1\n",
      "key cost, run 2\n",
      "key params, run 2\n",
      "key z, run 2\n",
      "key cost, run 3\n",
      "key params, run 3\n",
      "key z, run 3\n",
      "key cost, run 4\n",
      "key params, run 4\n",
      "key z, run 4\n",
      "key cost, run 5\n",
      "key params, run 5\n",
      "key z, run 5\n",
      "key cost, run 6\n",
      "key params, run 6\n",
      "key z, run 6\n",
      "[1.0; 0.0; 1.0; 1.0; 0.0; 1.0]\n"
     ]
    },
    {
     "data": {
      "text/plain": [
       "4-element Array{Float64,1}:\n",
       " 0.454257\n",
       " 0.989829\n",
       " 0.614056\n",
       " 0.730101"
      ]
     },
     "execution_count": 235,
     "metadata": {},
     "output_type": "execute_result"
    },
    {
     "name": "stdout",
     "output_type": "stream",
     "text": [
      "You selected file MiniFarms/farm_C17_Farms025_0165.jld\n",
      "anti_rule_strength  \t\t0.123764\n",
      "right_light_excitation\t\t1.8034\n",
      "sW                  \t\t1.42384\n",
      "sigma               \t\t-0.349608\n",
      "opto_strength       \t\t0.49607\n",
      "const_pro_bias      \t\t0.0434069\n",
      "dW                  \t\t0.385437\n",
      "target_period_excitation\t\t-1.19886\n",
      "hW                  \t\t0.249509\n",
      "vW                  \t\t-0.417882\n",
      "pro_rule_strength   \t\t0.0534352\n",
      "constant_excitation \t\t-0.7241\n",
      "You selected file MiniFarms/farm_C17_Farms024_0114.jld\n",
      "anti_rule_strength  \t\t0.106605\n",
      "right_light_excitation\t\t1.54474\n",
      "sW                  \t\t1.57738\n",
      "sigma               \t\t0.278245\n",
      "opto_strength       \t\t0.402333\n",
      "const_pro_bias      \t\t0.0441954\n",
      "dW                  \t\t0.447085\n",
      "target_period_excitation\t\t-0.902554\n",
      "hW                  \t\t0.292386\n",
      "vW                  \t\t-0.637033\n",
      "pro_rule_strength   \t\t0.0308962\n",
      "constant_excitation \t\t-0.747265\n"
     ]
    }
   ],
   "source": [
    "testres = Dict(\"args\"=>[\"t1\", \"t2\", \"p1\", \"p2\"], \"params\"=>rand(6,4), \"cost\"=>[1;2;3;4;5;6], \"z\"=>[6;5;4;3;2;1])\n",
    "testres[\"cost\"][6]\n",
    "selectize(testres, \"p1  > 0.4\")[\"params\"][:,3]"
   ]
  },
  {
   "cell_type": "markdown",
   "metadata": {},
   "source": [
    "# Optimizing the C17 farms"
   ]
  },
  {
   "cell_type": "code",
   "execution_count": null,
   "metadata": {
    "collapsed": false
   },
   "outputs": [],
   "source": [
    "#@include_me  optimizing_C17.jl\n",
    "\n",
    "\n",
    "include(\"pro_anti.jl\")"
   ]
  },
  {
   "cell_type": "code",
   "execution_count": null,
   "metadata": {
    "collapsed": false
   },
   "outputs": [],
   "source": [
    "#@include_me  optimizing_C17.jl\n",
    "\n",
    "mypars = Dict(\n",
    ":init_add               =>          0,\n",
    ":const_add              =>          0,\n",
    ":noise                  =>          Any[],\n",
    ":input                  =>          0,\n",
    ":start_anti             =>          [-0.5, -0.5, -0.5, -0.5],\n",
    ":start_pro              =>          [-0.5, -0.5, -0.5, -0.5],\n",
    ":rule_and_delay_period  =>          1.2,\n",
    ":rule_and_delay_periods =>          [1.2],\n",
    ":target_period          =>          0.3,\n",
    ":target_periods         =>          [0.3],\n",
    ":post_target_period     =>          0.3,\n",
    ":post_target_periods    =>          [0.3],\n",
    ":anti_rule_strength     =>          0.054,\n",
    ":U_rest                 =>          0,\n",
    ":theta                  =>          0.05,\n",
    ":beta                   =>          0.5,\n",
    ":g_leak                 =>          1,\n",
    ":nsteps                 =>          301,\n",
    ":dt                     =>          0.024,\n",
    ":tau                    =>          0.09,\n",
    ":right_light_excitation =>          0.49924152955481954,\n",
    ":opto_strength          =>          0.85,\n",
    ":opto_periods           =>          String[\n",
    "                                    \"trial_start\" \"trial_start\"; \n",
    "                                    \"trial_start\" \"trial_end\"; \n",
    "                                    \"trial_start\" \"target_start/2\"; \n",
    "                                    \"target_start/2\" \"target_start\"; \n",
    "                                    \"target_start\" \"target_end\"],\n",
    ":opto_targets          =>           [\n",
    "                                    0.9 0.7; \n",
    "                                    0.9 0.5; \n",
    "                                    0.9 0.7; \n",
    "                                    0.9 0.5; \n",
    "                                    0.9 0.7],\n",
    ":theta2 => 0.15,\n",
    ":theta1 => 0.05,\n",
    ":sigma => 0.01,\n",
    ":cbeta => 0.04,\n",
    ":sW => 0.6416875048295452,\n",
    ":hW => 0.054701836208134846,\n",
    ":dW => 0.1267124266934907,\n",
    ":vW => -1.588850577499782,\n",
    ":constant_excitation => -0.37242520737694207,\n",
    ":const_pro_bias => 0.04366897857834884,\n",
    ":target_period_excitation => 0.15315254453690974,\n",
    ":right_light_pro_extra => 0,\n",
    ":pro_rule_strength => 0.05,\n",
    ":nPro => 200,\n",
    ":nAnti => 200,\n",
    ")\n",
    "\n",
    "\n",
    "extra_pars = Dict(\n",
    ":plot_list        =>   [], \n",
    ":plot_conditions  =>   true,\n",
    ":verbose          =>   true,\n",
    ":opto_periods     =>   String[\"trial_start\" \"trial_start-0.1\"],\n",
    ":opto_targets     =>   [0.9,  0.7],\n",
    ":opto_times       =>   [\"trial_start\", \"trial_start-0.1\"],       # This one is for run_ntrials\n",
    ":cbeta            =>   0.001,\n",
    ":search_range     =>   1.2,\n",
    ")\n",
    "\n",
    "search_conditions = Dict(   # :param    default_start   search_box  bound_box\n",
    ":vW     =>                   [mypars[:vW],                       [-0.5, 0.5],  [-5,   5]], \n",
    ":hW     =>                   [mypars[:hW],                       [-0.5, 0.5],  [-5,   5]],\n",
    ":dW     =>                   [mypars[:dW],                       [-0.5, 0.5],  [-5,   5]],\n",
    ":sW     =>                   [mypars[:sW],                       [0,    0.5],  [-5,   5]],\n",
    ":sigma  =>                   [0.11,                              [0.1,  0.2],  [-2,   2]],\n",
    ":constant_excitation      => [mypars[:constant_excitation],      [-1,     1],  [-30, 30]], \n",
    ":target_period_excitation => [mypars[:target_period_excitation], [0.001,0.5],  [-30  30]],\n",
    ":right_light_excitation   => [mypars[:right_light_excitation],   [0.05, 0.5],  [-30, 30]],\n",
    ":const_pro_bias           => [mypars[:const_pro_bias],           [-0.5, 0.5],  [-30, 30]],\n",
    ":opto_strength            => [mypars[:opto_strength],            [0,      1],  [0,    1]],\n",
    ":pro_rule_strength        => [mypars[:pro_rule_strength],        [0,   0.2,],  [0,   30]],\n",
    ":anti_rule_strength       => [mypars[:anti_rule_strength],       [0,   0.2,],  [0,   30]],\n",
    ")\n",
    "\n",
    "\n",
    "bbox = Dict()\n",
    "for k in keys(search_conditions)\n",
    "    bbox = merge(bbox, Dict(k=>search_conditions[k][3]))\n",
    "end\n",
    "bbox\n"
   ]
  },
  {
   "cell_type": "code",
   "execution_count": null,
   "metadata": {
    "collapsed": false
   },
   "outputs": [],
   "source": [
    "#@include_me  optimizing_C17.jl\n",
    "\n",
    "README = \"\"\"\n",
    "Attempt to optimize the C17 farms, starting from all ending points that had\n",
    "test costs <= 0.\n",
    "\"\"\"\n",
    "\n",
    "if ~isnull(tryparse(Int64, ARGS[1])); my_run_number = parse(Int64, ARGS[1]); \n",
    "else                                  my_run_number = 1; \n",
    "end\n",
    "if ~isnull(tryparse(Int64, ARGS[2])); tot_n_runs    = parse(Int64, ARGS[2]); \n",
    "else                                  tot_n_runs = 1; \n",
    "end\n",
    "\n",
    "source_dir = \"MiniFarms\"\n",
    "optim_dir  = \"Optimized_C17_Farms\"\n",
    "cost_threshold = 0   # only work with test costs less than this\n",
    "\n",
    "if ~isdir(optim_dir); mkdir(optim_dir); end\n",
    "\n",
    "\n",
    "f = readdir(source_dir)\n",
    "nloops = 0\n",
    "\n",
    "while my_run_number + (nloops*tot_n_runs) <= length(f)\n",
    "    myfile = f[my_run_number + (nloops*tot_n_runs)]\n",
    "    @printf(\"\\n\\n*** %d %s: grabbing file %s ***\\n\\n\", my_run_number, \n",
    "        Dates.format(now(), \"e, dd u yyyy HH:MM:SS\"), myfile)\n",
    "    mypars, extra_pars, args, seed, test_cost = load(source_dir * \"/\" * myfile, \n",
    "        \"mypars\", \"extra_pars\", \"args\", \"pars3\", \"cost\")\n",
    "\n",
    "    if test_cost <= 0\n",
    "        mypars[:nPro]  = 1600\n",
    "        mypars[:nAnti] = 1600\n",
    "\n",
    "        maxiter1 = 1000;   # for func1, the regular search\n",
    "        testruns = 10000;  # Number of trials for evaluating the results of the model. 10000 is a good number \n",
    "\n",
    "        func1 =  (;params...) -> JJ(mypars[:nPro], mypars[:nAnti]; verbose=false, \n",
    "            merge(merge(mypars, extra_pars), Dict(params))...)[1]\n",
    "\n",
    "        try\n",
    "            pars3, traj3, cost3, cpm_traj3, ftraj3 = bbox_Hessian_keyword_minimization(seed, \n",
    "                args, bbox, func1, \n",
    "                start_eta = 0.01, tol=1e-12, \n",
    "                verbose=true, verbose_every=1, maxiter=maxiter1)\n",
    "\n",
    "            # evaluate the result with many trials, for accuracy\n",
    "            cost, cost1s, cost2s, hP, hA, dP, dA, hBP, hBA = JJ(testruns, testruns; verbose=false, \n",
    "                make_dict(args, pars3, merge(merge(mypars, extra_pars)))...)\n",
    "\n",
    "            # Write out the results\n",
    "            myfilename = optim_dir * \"/\" * myfile\n",
    "\n",
    "            @printf(\"\\n\\n ****** writing to file %s *******\\n\\n\", myfilename)\n",
    "\n",
    "            # write file\n",
    "            save(myfilename, Dict(\"README\"=>README, \"nPro\"=>mypars[:nPro], \"nAnti\"=>mypars[:nAnti], \n",
    "                \"mypars\"=>mypars, \"extra_pars\"=>extra_pars, \"args\"=>args, \"seed\"=>seed, \n",
    "                \"pars3\"=>pars3, \"traj3\"=>traj3, \"cost3\"=>cost3, \"cpm_traj3\"=>cpm_traj3, \"ftraj3\"=>ftraj3,\n",
    "                \"cost\"=>cost, \"cost1s\"=>cost1s, \"cost2s\"=>cost2s,\n",
    "                \"hP\"=>hP, \"hA\"=>hA, \"dP\"=>dP, \"dA\"=>dA, \"hBP\"=>hBP, \"hBA\"=>hBA))\n",
    "\n",
    "        catch y\n",
    "            # Interrupts should not get caught:\n",
    "            if isa(y, InterruptException); throw(InterruptException()); end\n",
    "\n",
    "            # Other errors get caught and a warning is issued but then we run again\n",
    "            @printf(\"\\n\\nWhoopsety, unkown error!\\n\\n\");\n",
    "            @printf(\"Error was :\\n\"); print(y); @printf(\"\\n\\nTrying new random seed.\\n\\n\")\n",
    "        end\n",
    "    end\n",
    "    \n",
    "    nloops += 1\n",
    "end"
   ]
  },
  {
   "cell_type": "code",
   "execution_count": null,
   "metadata": {
    "collapsed": false
   },
   "outputs": [],
   "source": [
    "G[\"extra_pars\"]"
   ]
  },
  {
   "cell_type": "markdown",
   "metadata": {},
   "source": [
    "# An attempt at opto after reduced_farm.jl\n",
    "\n",
    "No pre-search yet, but might add it after"
   ]
  },
  {
   "cell_type": "code",
   "execution_count": null,
   "metadata": {
    "collapsed": false
   },
   "outputs": [],
   "source": [
    "#@include_me  opto_reduced.jl\n",
    "\n",
    "\n",
    "include(\"pro_anti.jl\")"
   ]
  },
  {
   "cell_type": "code",
   "execution_count": null,
   "metadata": {
    "collapsed": false
   },
   "outputs": [],
   "source": [
    "#@include_me  opto_reduced.jl\n",
    "\n",
    "mypars = Dict(\n",
    ":init_add               =>          0,\n",
    ":const_add              =>          0,\n",
    ":noise                  =>          Any[],\n",
    ":input                  =>          0,\n",
    ":start_anti             =>          [-0.5, -0.5, -0.5, -0.5],\n",
    ":start_pro              =>          [-0.5, -0.5, -0.5, -0.5],\n",
    ":rule_and_delay_period  =>          1.2,\n",
    ":rule_and_delay_periods =>          [1.2],\n",
    ":target_period          =>          0.3,\n",
    ":target_periods         =>          [0.3],\n",
    ":post_target_period     =>          0.3,\n",
    ":post_target_periods    =>          [0.3],\n",
    ":anti_rule_strength     =>          0.054,\n",
    ":U_rest                 =>          0,\n",
    ":theta                  =>          0.05,\n",
    ":beta                   =>          0.5,\n",
    ":g_leak                 =>          1,\n",
    ":nsteps                 =>          301,\n",
    ":dt                     =>          0.024,\n",
    ":tau                    =>          0.09,\n",
    ":right_light_excitation =>          0.49924152955481954,\n",
    ":opto_strength          =>          0.85,\n",
    ":opto_periods           =>          String[\n",
    "                                    \"trial_start\" \"trial_start\"; \n",
    "                                    \"trial_start\" \"trial_end\"; \n",
    "                                    \"trial_start\" \"target_start/2\"; \n",
    "                                    \"target_start/2\" \"target_start\"; \n",
    "                                    \"target_start\" \"target_end\"],\n",
    ":opto_targets          =>           [\n",
    "                                    0.9 0.7; \n",
    "                                    0.9 0.5; \n",
    "                                    0.9 0.7; \n",
    "                                    0.9 0.5; \n",
    "                                    0.9 0.7],\n",
    ":theta2 => 0.15,\n",
    ":theta1 => 0.05,\n",
    ":sigma => 0.01,\n",
    ":cbeta => 0.04,\n",
    ":sW => 0.6416875048295452,\n",
    ":hW => 0.054701836208134846,\n",
    ":dW => 0.1267124266934907,\n",
    ":vW => -1.588850577499782,\n",
    ":constant_excitation => -0.37242520737694207,\n",
    ":const_pro_bias => 0.04366897857834884,\n",
    ":target_period_excitation => 0.15315254453690974,\n",
    ":right_light_pro_extra => 0,\n",
    ":pro_rule_strength => 0.05,\n",
    ":nPro => 200,\n",
    ":nAnti => 200,\n",
    ")\n",
    "\n",
    "\n",
    "extra_pars = Dict(\n",
    ":plot_list        =>   [], \n",
    ":plot_conditions  =>   true,\n",
    ":verbose          =>   true,\n",
    ":opto_periods     =>   String[\"trial_start\" \"trial_start-0.1\"],\n",
    ":opto_targets     =>   [0.9,  0.7],\n",
    ":opto_times       =>   [\"trial_start\", \"trial_start-0.1\"],       # This one is for run_ntrials\n",
    ":cbeta            =>   0.001,\n",
    ":search_range     =>   1.2,\n",
    ")\n",
    "\n",
    "\n",
    "search_conditions = Dict(   # :param    default_start   search_box  bound_box\n",
    ":vW     =>                   [mypars[:vW],                       [-0.5, 0.5],  [-5,   5]], \n",
    ":hW     =>                   [mypars[:hW],                       [-0.5, 0.5],  [-5,   5]],\n",
    ":dW     =>                   [mypars[:dW],                       [-0.5, 0.5],  [-5,   5]],\n",
    ":sW     =>                   [mypars[:sW],                       [0,    0.5],  [-5,   5]],\n",
    ":sigma  =>                   [0.11,                              [0.1,  0.2],  [-2,   2]],\n",
    ":constant_excitation      => [mypars[:constant_excitation],      [-1,     1],  [-30, 30]], \n",
    ":target_period_excitation => [mypars[:target_period_excitation], [0.001,0.5],  [-30  30]],\n",
    ":right_light_excitation   => [mypars[:right_light_excitation],   [0.05, 0.5],  [-30, 30]],\n",
    ":const_pro_bias           => [mypars[:const_pro_bias],           [-0.5, 0.5],  [-30, 30]],\n",
    ":opto_strength            => [mypars[:opto_strength],            [0,      1],  [0,    1]],\n",
    ":pro_rule_strength        => [mypars[:pro_rule_strength],        [0,   0.2,],  [0,   30]],\n",
    ":anti_rule_strength       => [mypars[:anti_rule_strength],       [0,   0.2,],  [0,   30]],\n",
    ")\n",
    "\n"
   ]
  },
  {
   "cell_type": "code",
   "execution_count": null,
   "metadata": {
    "collapsed": true
   },
   "outputs": [],
   "source": [
    "#@include_me  opto_reduced.jl\n",
    "\n",
    "extra_pars[:seedrand] = Int64(round(1000*time()))   \n",
    "srand(extra_pars[:seedrand])\n",
    "search_range = extra_pars[:search_range]; \n",
    "\n",
    "README = \"\"\"\n",
    "\n",
    "Farm C17: Like C16, with opto_strength and pro_rule_stregth and anti_rule_strength as \n",
    "trainable parameters, but with reasonable bounds on the appropriate parameters,\n",
    "not no bounds at all.\n",
    "\n",
    "\"\"\"\n",
    "\n",
    "extra_pars[:opto_periods]  = String[\n",
    "    \"trial_start-0.1\"     \"trial_start-0.2\" ; \n",
    "    \"target_start-0.4\"    \"target_start\" ; \n",
    "    \"target_start+0.016\"  \"target_end\" ; \n",
    "]\n",
    "\n",
    "extra_pars[:opto_targets] = [\n",
    "    0.9   0.7  ;\n",
    "    0.85  0.5  ;\n",
    "    0.9   0.7  ;\n",
    "]\n",
    "\n",
    "ftraj2 = []; cost2 = [];\n",
    "\n",
    "if !isdir(\"../NewFarms\"); mkdir(\"../NewFarms\"); end\n",
    "fbasename = \"../NewFarms/farm_C17_\"\n",
    "# If we wanted a unique identifier per processor run the following line would help:\n",
    "# if ~isnull(tryparse(Int64, ARGS[1])); fbasename = fbasename * ARGS[1] * \"_\"; end\n",
    "\n",
    "@printf(\"\\n\\n\\nStarting with random seed %d\\n\\n\\n\", extra_pars[:seedrand])\n",
    "\n",
    "while true\n",
    "    \n",
    "    @printf(\"\\n\\n--- new run ---\\n\\n\")\n",
    "    args = []; seed = []; bbox = Dict()\n",
    "    for k in keys(search_conditions)\n",
    "        search_box = search_conditions[k][2]\n",
    "        args = [args; String(k)]\n",
    "        # --- search within the indicated search range:\n",
    "        myseed = search_conditions[k][1] + search_range*(rand()-0.5)*diff(search_box); myseed = myseed[1]\n",
    "        if myseed > search_box[2]; myseed = search_box[2]; end\n",
    "        if myseed < search_box[1]; myseed = search_box[1]; end\n",
    "        seed = [seed ;  myseed]\n",
    "        # --- No search, just start at the indicated position:\n",
    "        # seed = [seed ; search_conditions[k][1]]\n",
    "        # --- search within the full indicated search box\n",
    "        # seed = [seed ; rand()*diff(search_box) + search_box[1]]\n",
    "        bbox = merge(bbox, Dict(k => Array{Float64}(search_conditions[k][3])))\n",
    "    end\n",
    "    args = Array{String}(args)\n",
    "    seed = Array{Float64}(seed)\n",
    "\n",
    "\n",
    "    maxiter1 = 1000;   # for func1, the regular search\n",
    "    testruns = 10000;  # Number of trials for evaluating the results of the model. 10000 is a good number \n",
    "\n",
    "\n",
    "    # Make sure to keep the noise frozen over the search, meaning JJ() needs the seedrand parameter\n",
    "    func1 =  (;params...) -> JJ(mypars[:nPro], mypars[:nAnti]; verbose=false, \n",
    "        merge(merge(mypars, extra_pars), Dict(params))...)[1]\n",
    "    \n",
    "    try\n",
    "        pars3, traj3, cost3, cpm_traj3, ftraj3 = bbox_Hessian_keyword_minimization(seed, \n",
    "            args, bbox, func1, \n",
    "            start_eta = 0.01, tol=1e-12, \n",
    "            verbose=true, verbose_every=1, maxiter=maxiter1)\n",
    "            \n",
    "        # evaluate the result with many trials, for accuracy\n",
    "        cost, cost1s, cost2s, hP, hA, dP, dA, hBP, hBA = JJ(testruns, testruns; verbose=false, \n",
    "            make_dict(args, pars3, merge(merge(mypars, extra_pars)))...)\n",
    "        \n",
    "        # Write out the results\n",
    "        myfilename = next_file(fbasename, 4)\n",
    "        myfilename = myfilename*\".jld\"\n",
    "\n",
    "        @printf(\"\\n\\n ****** writing to file %s *******\\n\\n\", myfilename)\n",
    "        \n",
    "        # write file\n",
    "        save(myfilename, Dict(\"README\"=>README, \"nPro\"=>mypars[:nPro], \"nAnti\"=>mypars[:nAnti], \n",
    "            \"mypars\"=>mypars, \"extra_pars\"=>extra_pars, \"args\"=>args, \"seed\"=>seed, \"bbox\"=>bbox, \n",
    "            \"search_conditions\"=>search_conditions,\n",
    "            \"pars3\"=>pars3, \"traj3\"=>traj3, \"cost3\"=>cost3, \"cpm_traj3\"=>cpm_traj3, \"ftraj3\"=>ftraj3,\n",
    "            \"cost\"=>cost, \"cost1s\"=>cost1s, \"cost2s\"=>cost2s,\n",
    "            \"hP\"=>hP, \"hA\"=>hA, \"dP\"=>dP, \"dA\"=>dA, \"hBP\"=>hBP, \"hBA\"=>hBA))\n",
    "\n",
    "    catch y\n",
    "        # Interrupts should not get caught:\n",
    "        if isa(y, InterruptException); throw(InterruptException()); end\n",
    "\n",
    "        # Other errors get caught and a warning is issued but then we run again\n",
    "        @printf(\"\\n\\nWhoopsety, unkown error!\\n\\n\");\n",
    "        @printf(\"Error was :\\n\"); print(y); @printf(\"\\n\\nTrying new random seed.\\n\\n\")\n",
    "    end\n",
    "\n",
    "    # Change random seed before next iteration so we don't get stuck in one loop\n",
    "    extra_pars[:seedrand] = extra_pars[:seedrand]+1\n",
    "end\n",
    "    \n",
    "\n"
   ]
  },
  {
   "cell_type": "markdown",
   "metadata": {},
   "source": [
    "# Analyzing runs from reduced_farm.jl : analyze_reduced_farm.jl"
   ]
  },
  {
   "cell_type": "code",
   "execution_count": null,
   "metadata": {
    "collapsed": false
   },
   "outputs": [],
   "source": [
    "#@include_me  analyze_reduced_farm.jl\n",
    "\n",
    "include(\"pro_anti.jl\")\n",
    "\n",
    "#\n",
    "#  We're assuming that results of reduced_farm.jl were already generated.\n",
    "#"
   ]
  },
  {
   "cell_type": "code",
   "execution_count": null,
   "metadata": {
    "collapsed": false
   },
   "outputs": [],
   "source": [
    "#@include_me  analyze_reduced_farm.jl\n",
    "\n",
    "\"\"\"\n",
    "hBP, hBA, d = function show_run(run_name, ntrials=100; farmdir=\"FarmFields\", further_pars...)\n",
    "\n",
    "Given a string representing the filename of a run generated in reduced_farm.jl\n",
    "(for example, \"farm_C3_0027.jld\"), tries to load that file from within \"FarmFields/\"\n",
    "runs it to plot 30 Pro trials in figure 1 and 30 Anti trials in figure 2,\n",
    "and indicates in those figures the corresponding number of binarized hits.\n",
    "\n",
    "Any further parameters override the contents of the farm and are passed on to \n",
    "run_ntrials(), so for example you can set rule_and_delay_period=0.2\n",
    "\n",
    "# RETURNS:\n",
    "\n",
    "- hBP, hBA   binarized Pro % hit and Anti % hit\n",
    "\n",
    "- d          the raw dictionary obtained from first loading the file.\n",
    "\n",
    "\"\"\"\n",
    "function show_run(run_name, ntrials=100; farmdir=\"FarmFields\", further_pars...)\n",
    "\n",
    "    pygui(true)\n",
    "    figure(1); clf();\n",
    "    figure(2); clf();\n",
    "\n",
    "    if endswith(farmdir, \"/\"); farmdir=farmdir[1:end-1]; end;\n",
    "    \n",
    "    if endswith(run_name, \".jld\")\n",
    "        d = load(farmdir * \"/\" * run_name)\n",
    "\n",
    "        extra_pars = d[\"extra_pars\"]\n",
    "        mypars     = d[\"mypars\"]\n",
    "        args       = d[\"args\"]\n",
    "        pars       = d[\"pars\"]\n",
    "    elseif endswith(run_name, \".mat\")                                \n",
    "        d = matread(farmdir * \"/\" * run_name)\n",
    "        \n",
    "        extra_pars = Dict()\n",
    "        mypars     = symbol_key_ize(d[\"model_params\"])\n",
    "        args       = d[\"args\"]\n",
    "        pars       = d[\"pars\"]\n",
    "    else\n",
    "        error(\"Whoa, I only know how to load .mat and .jld files\")\n",
    "    end\n",
    "\n",
    "    delete!(extra_pars, :plot_list)   # we want our own plot_list\n",
    "    delete!(extra_pars, :seedrand)    # don't use the farm's seedrand. (Could change this if wanted)\n",
    "\n",
    "    # Add or replace alternative period values if needed\n",
    "    # if rule_and_delay_period != nothing; extra_pars[:rule_and_delay_period] = rule_and_delay_period; end;\n",
    "    # if target_period         != nothing; extra_pars[:target_period]         = target_period;         end;\n",
    "    # if post_target_period    != nothing; extra_pars[:post_target_period]    = post_target_period;    end;\n",
    "\n",
    "    # Run it\n",
    "    proVs, antiVs = run_ntrials(ntrials, ntrials; plot_list=[1:30;], \n",
    "        merge(make_dict(args, pars, merge(mypars, extra_pars)), Dict(further_pars))...)[1:2]\n",
    "\n",
    "    # Add titles with the binarized hit rates\n",
    "    hBP = 100*length(find(proVs[1,:]  .> proVs[4,:])) /size(proVs, 2)\n",
    "    hBA = 100*length(find(antiVs[4,:] .> antiVs[1,:]))/size(antiVs,2)\n",
    "\n",
    "    figure(1); subplot(3,1,1); title(@sprintf(\"%s: binarized Pro  hits = %.1f %%\\n\", run_name, hBP))\n",
    "    figure(2); subplot(3,1,1); title(@sprintf(\"%s: binarized Anti hits = %.1f %%\\n\", run_name, hBA))\n",
    "    \n",
    "    return hBP, hBA, d\n",
    "end\n",
    "\n"
   ]
  },
  {
   "cell_type": "code",
   "execution_count": null,
   "metadata": {
    "collapsed": false
   },
   "outputs": [],
   "source": [
    "#@include_me analyze_reduced_farm.jl\n",
    "\n",
    "# IDENTIFY GOOD RUNS FROM FARM\n",
    "\n",
    "using JLD\n",
    "I = results = files = 0\n",
    "\n",
    "farm_id = \"C4\"; farmdir = \"FarmFields\"\n",
    "farm_id = \"C6\"; farmdir = \"../NewFarms\"\n",
    "farm_id = \"C11\"; farmdir = \"../NewFarms\"\n",
    "\n",
    "recompute_me = true; if recompute_me || !isfile(\"Temp/\" * farm_id * \"_results.jld\")\n",
    "    results = zeros(0,4)\n",
    "\n",
    "    files = []\n",
    "    for f in filter(x -> startswith(x, \"farm_\" * farm_id * \"_\"), readdir(farmdir * \"/\"))\n",
    "\n",
    "        hBP, hBA, dP, dA= load(farmdir * \"/\" * f, \"hBP\", \"hBA\", \"dP\", \"dA\")\n",
    "        results = [results; [hBP hBA dP dA]]; \n",
    "        files   = [files ; f]\n",
    "        if length(files)>71; break; end;\n",
    "    end\n",
    "    \n",
    "    I = find((results[:,1] .> 0.85) .& (results[:,2] .> 0.65) .& (results[:,3].>0.9) .& (results[:,4].>0.9) .&\n",
    "                ((results[:,1]-results[:,2]) .> 0.1) )\n",
    "\n",
    "    @save \"Temp/\" * farm_id * \"_results.jld\" results files I\n",
    "else\n",
    "    I, results, files = load(\"Temp/\" * farm_id *\"_results.jld\", \"I\", \"results\", \"files\");\n",
    "end\n",
    "\n",
    "@printf(\"%.2f %% good runs out of %d\\n\", 100*length(I)/length(files), length(files))\n"
   ]
  },
  {
   "cell_type": "markdown",
   "metadata": {},
   "source": [
    "# C17_browser.jl -- Analyzing results from C farms"
   ]
  },
  {
   "cell_type": "code",
   "execution_count": 81,
   "metadata": {
    "collapsed": false
   },
   "outputs": [
    {
     "name": "stderr",
     "output_type": "stream",
     "text": [
      "\u001b[1m\u001b[33mWARNING: \u001b[39m\u001b[22m\u001b[33mreplacing docs for 'axisWidthChange :: Tuple{Any}' in module 'Main'.\u001b[39m\n",
      "\u001b[1m\u001b[33mWARNING: \u001b[39m\u001b[22m\u001b[33mreplacing docs for 'axisHeightChange :: Tuple{Any}' in module 'Main'.\u001b[39m\n",
      "\u001b[1m\u001b[33mWARNING: \u001b[39m\u001b[22m\u001b[33mreplacing docs for 'axisMove :: Tuple{Any,Any}' in module 'Main'.\u001b[39m\n",
      "\u001b[1m\u001b[33mWARNING: \u001b[39m\u001b[22m\u001b[33mreplacing docs for 'remove_xtick_labels :: Union{Tuple{Any}, Tuple{}}' in module 'Main'.\u001b[39m\n",
      "\u001b[1m\u001b[33mWARNING: \u001b[39m\u001b[22m\u001b[33mreplacing docs for 'remove_ytick_labels :: Union{Tuple{Any}, Tuple{}}' in module 'Main'.\u001b[39m\n",
      "\u001b[1m\u001b[33mWARNING: \u001b[39m\u001b[22m\u001b[33mreplacing docs for 'print_vector :: Tuple{Any}' in module 'Main'.\u001b[39m\n",
      "\u001b[1m\u001b[33mWARNING: \u001b[39m\u001b[22m\u001b[33mreplacing docs for 'print_vector_g :: Tuple{Any}' in module 'Main'.\u001b[39m\n",
      "\u001b[1m\u001b[33mWARNING: \u001b[39m\u001b[22m\u001b[33mreplacing docs for 'two_level_copy :: Tuple{Any}' in module 'Main'.\u001b[39m\n",
      "\u001b[1m\u001b[33mWARNING: \u001b[39m\u001b[22m\u001b[33mreplacing docs for 'next_file :: Tuple{Any,Any}' in module 'Main'.\u001b[39m\n",
      "\u001b[1m\u001b[33mWARNING: \u001b[39m\u001b[22m\u001b[33mreplacing docs for 'num2fixed_string :: Tuple{Any,Any}' in module 'Main'.\u001b[39m\n",
      "\u001b[1m\u001b[33mWARNING: \u001b[39m\u001b[22m\u001b[33mreplacing docs for 'ascii_key_ize :: Tuple{Any}' in module 'Main'.\u001b[39m\n",
      "\u001b[1m\u001b[33mWARNING: \u001b[39m\u001b[22m\u001b[33mreplacing docs for 'symbol_key_ize :: Tuple{Any}' in module 'Main'.\u001b[39m\n",
      "\u001b[1m\u001b[33mWARNING: \u001b[39m\u001b[22m\u001b[33mreplacing docs for 'vectorize_dict :: Tuple{Any,Any}' in module 'Main'.\u001b[39m\n",
      "\u001b[1m\u001b[33mWARNING: \u001b[39m\u001b[22m\u001b[33mreplacing docs for 'install_nearest_point_callback :: Tuple{Any,Any}' in module 'Main'.\u001b[39m\n",
      "\u001b[1m\u001b[33mWARNING: \u001b[39m\u001b[22m\u001b[33mreplacing docs for 'install_callback_reporter :: Union{NTuple{4,Any}, NTuple{5,Any}}' in module 'Main'.\u001b[39m\n",
      "\u001b[1m\u001b[33mWARNING: \u001b[39m\u001b[22m\u001b[33mreplacing docs for 'remove_BP :: Tuple{PyCall.PyObject}' in module 'Main'.\u001b[39m\n",
      "\u001b[1m\u001b[33mWARNING: \u001b[39m\u001b[22m\u001b[33mreplacing docs for 'remove_all_BPs :: Tuple{}' in module 'Main'.\u001b[39m\n",
      "\u001b[1m\u001b[33mWARNING: \u001b[39m\u001b[22m\u001b[33mreplacing docs for 'get_current_fig_position :: Tuple{}' in module 'Main'.\u001b[39m\n",
      "\u001b[1m\u001b[33mWARNING: \u001b[39m\u001b[22m\u001b[33mreplacing docs for 'set_current_fig_position :: NTuple{4,Any}' in module 'Main'.\u001b[39m\n",
      "\u001b[1m\u001b[33mWARNING: \u001b[39m\u001b[22m\u001b[33mreplacing docs for 'capture_current_figure_configuration :: Tuple{}' in module 'Main'.\u001b[39m\n",
      "\u001b[1m\u001b[33mWARNING: \u001b[39m\u001b[22m\u001b[33mreplacing docs for 'make_dict :: Union{Tuple{Any,Any,Any}, Tuple{Any,Any}}' in module 'Main'.\u001b[39m\n",
      "\u001b[1m\u001b[33mWARNING: \u001b[39m\u001b[22m\u001b[33mreplacing docs for 'FDversion :: Tuple{}' in module 'Main'.\u001b[39m\n",
      "\u001b[1m\u001b[33mWARNING: \u001b[39m\u001b[22m\u001b[33mreplacing docs for 'get_eltype :: Tuple{Any}' in module 'Main'.\u001b[39m\n",
      "\u001b[1m\u001b[33mWARNING: \u001b[39m\u001b[22m\u001b[33mreplacing docs for 'get_value :: Tuple{Any}' in module 'Main'.\u001b[39m\n",
      "\u001b[1m\u001b[33mWARNING: \u001b[39m\u001b[22m\u001b[33mreplacing docs for 'vgh :: Tuple{Any,Any}' in module 'Main'.\u001b[39m\n",
      "\u001b[1m\u001b[33mWARNING: \u001b[39m\u001b[22m\u001b[33mreplacing docs for 'keyword_vgh :: Tuple{Any,Any,Any}' in module 'Main'.\u001b[39m\n",
      "\u001b[1m\u001b[33mWARNING: \u001b[39m\u001b[22m\u001b[33mreplacing docs for 'one_d_minimizer :: Tuple{Any,Any}' in module 'Main'.\u001b[39m\n",
      "\u001b[1m\u001b[33mWARNING: \u001b[39m\u001b[22m\u001b[33mreplacing docs for 'constrained_parabolic_minimization :: Tuple{Any,Any,Any}' in module 'Main'.\u001b[39m\n",
      "\u001b[1m\u001b[33mWARNING: \u001b[39m\u001b[22m\u001b[33mreplacing docs for 'wallwrap :: Tuple{Any,Any}' in module 'Main'.\u001b[39m\n",
      "\u001b[1m\u001b[33mWARNING: \u001b[39m\u001b[22m\u001b[33mreplacing docs for 'vector_wrap :: Tuple{Any,Any,Any}' in module 'Main'.\u001b[39m\n",
      "\u001b[1m\u001b[33mWARNING: \u001b[39m\u001b[22m\u001b[33mreplacing docs for 'inverse_wall :: Tuple{Any,Any,Any}' in module 'Main'.\u001b[39m\n",
      "\u001b[1m\u001b[33mWARNING: \u001b[39m\u001b[22m\u001b[33mreplacing docs for 'inverse_wall :: Tuple{Any,Any}' in module 'Main'.\u001b[39m\n",
      "\u001b[1m\u001b[33mWARNING: \u001b[39m\u001b[22m\u001b[33mreplacing docs for 'adaptive_gradient_minimization :: Tuple{Any,Any}' in module 'Main'.\u001b[39m\n",
      "\u001b[1m\u001b[33mWARNING: \u001b[39m\u001b[22m\u001b[33mreplacing docs for 'trust_region_Hessian_minimization :: Tuple{Any,Any}' in module 'Main'.\u001b[39m\n",
      "\u001b[1m\u001b[33mWARNING: \u001b[39m\u001b[22m\u001b[33mreplacing docs for 'bbox_Hessian_keyword_minimization :: NTuple{4,Any}' in module 'Main'.\u001b[39m\n",
      "\u001b[1m\u001b[33mWARNING: \u001b[39m\u001b[22m\u001b[33mreplacing docs for 'forwardModel :: Tuple{Any}' in module 'Main'.\u001b[39m\n",
      "\u001b[1m\u001b[33mWARNING: \u001b[39m\u001b[22m\u001b[33mreplacing docs for 'backwardsModel :: Tuple{Any}' in module 'Main'.\u001b[39m\n",
      "\u001b[1m\u001b[33mWARNING: \u001b[39m\u001b[22m\u001b[33mreplacing docs for 'plot_PA :: Tuple{Any,Any,Any}' in module 'Main'.\u001b[39m\n",
      "\u001b[1m\u001b[33mWARNING: \u001b[39m\u001b[22m\u001b[33mreplacing docs for 'parse_opto_times :: Tuple{Any,Any}' in module 'Main'.\u001b[39m\n",
      "\u001b[1m\u001b[33mWARNING: \u001b[39m\u001b[22m\u001b[33mreplacing docs for 'make_input :: Tuple{Any}' in module 'Main'.\u001b[39m\n",
      "\u001b[1m\u001b[33mWARNING: \u001b[39m\u001b[22m\u001b[33mreplacing docs for 'run_ntrials :: Tuple{Any,Any}' in module 'Main'.\u001b[39m\n",
      "\u001b[1m\u001b[33mWARNING: \u001b[39m\u001b[22m\u001b[33mreplacing docs for 'JJ :: Tuple{Any,Any}' in module 'Main'.\u001b[39m\n",
      "\u001b[1m\u001b[33mWARNING: \u001b[39m\u001b[22m\u001b[33mreplacing docs for 'load_run :: Tuple{Any}' in module 'Main'.\u001b[39m\n",
      "\u001b[1m\u001b[33mWARNING: \u001b[39m\u001b[22m\u001b[33mreplacing docs for 'farmload :: Tuple{Any}' in module 'Main'.\u001b[39m\n",
      "\u001b[1m\u001b[33mWARNING: \u001b[39m\u001b[22m\u001b[33mreplacing docs for 'selectize :: Tuple{Any,Any}' in module 'Main'.\u001b[39m\n",
      "\u001b[1m\u001b[33mWARNING: \u001b[39m\u001b[22m\u001b[33mreplacing docs for 'histo_data :: Union{}' in module 'Main'.\u001b[39m\n",
      "\u001b[1m\u001b[33mWARNING: \u001b[39m\u001b[22m\u001b[33mreplacing docs for 'histo_params :: NTuple{5,Any}' in module 'Main'.\u001b[39m\n",
      "\u001b[1m\u001b[33mWARNING: \u001b[39m\u001b[22m\u001b[33mreplacing docs for 'histo_params :: Tuple{Any}' in module 'Main'.\u001b[39m\n",
      "\u001b[1m\u001b[33mWARNING: \u001b[39m\u001b[22m\u001b[33mreplacing docs for 'histo_highlight :: Tuple{Any,histo_data}' in module 'Main'.\u001b[39m\n",
      "\u001b[1m\u001b[33mWARNING: \u001b[39m\u001b[22m\u001b[33mreplacing docs for 'PCAplot_data :: Union{}' in module 'Main'.\u001b[39m\n",
      "\u001b[1m\u001b[33mWARNING: \u001b[39m\u001b[22m\u001b[33mreplacing docs for 'PCA_highlight :: Tuple{Any,PCAplot_data}' in module 'Main'.\u001b[39m\n",
      "\u001b[1m\u001b[33mWARNING: \u001b[39m\u001b[22m\u001b[33mreplacing docs for 'PCA_event_callback :: Tuple{Any,Any,Any,Any,PCAplot_data}' in module 'Main'.\u001b[39m\n",
      "\u001b[1m\u001b[33mWARNING: \u001b[39m\u001b[22m\u001b[33mreplacing docs for 'plot_PCA :: Tuple{Any}' in module 'Main'.\u001b[39m\n",
      "\u001b[1m\u001b[33mWARNING: \u001b[39m\u001b[22m\u001b[33mreplacing docs for 'plot_SVD :: Tuple{}' in module 'Main'.\u001b[39m\n",
      "\u001b[1m\u001b[33mWARNING: \u001b[39m\u001b[22m\u001b[33mreplacing docs for 'plot_farm :: Tuple{Any}' in module 'Main'.\u001b[39m\n"
     ]
    },
    {
     "data": {
      "text/plain": [
       "plot_farm"
      ]
     },
     "execution_count": 81,
     "metadata": {},
     "output_type": "execute_result"
    }
   ],
   "source": [
    "\n",
    "\n",
    "include(\"pro_anti.jl\")\n",
    "\n",
    "using HDF5\n",
    "\n",
    "####################################################################\n",
    "#                                                                  \n",
    "#   Define some helper functions for loading farms,\n",
    "#   plotting histograms over the parameters, and managing\n",
    "#   with GUI interactivity.\n",
    "#\n",
    "####################################################################\n",
    "\n",
    "\"\"\"\n",
    "results = farmload(farm_id; farmdir=\"../NewFarms\", verbose=true, verbose_every=10)\n",
    "\n",
    "Package and return a summary of results from a number of runs.\n",
    "\n",
    "# PARAMETERS:\n",
    "\n",
    "- filename     farm_id  (e.g., \"C17\"); .jld files containing this pattern will be loaded\n",
    "\n",
    "# OPTIONAL PARAMETERS:\n",
    "\n",
    "- farmdir      Directory in which the files are found\n",
    "\n",
    "- verbose      If true, print a brief progress report every verbose_every files loaded\n",
    "\n",
    "- verbose_every  Used if verbose==true (see above)\n",
    "\n",
    "# RETURNS:\n",
    "\n",
    "A dictionary with the keys \"tcost\" (vector or training costs), \"cost\" (vector of test costs), \n",
    "\"dirs\" (vector directories in which files  are found), \"files\" (vector of filenames, including \n",
    "paths), \"qu_out\" (deprecated for farm C17 and other non-pre-search farms), \"params\"\" (nruns-by-\n",
    "nparams matrix of paramters), \"args\" (nparams-long vector of parameter names).\n",
    "\n",
    "Note that most values are nruns-long vectors but \"args\" is only nparams-long, because they are\n",
    "the same names across all the runs.\n",
    "\"\"\"\n",
    "function farmload(farm_id; farmdir=\"../NewFarms\", verbose=true, verbose_every=50)\n",
    "\n",
    "    if typeof(farmdir)==String; farmdir=[farmdir]; end\n",
    "    \n",
    "    results = Dict(); dirs=[]; files =[]; qs=[]; tcosts=[]; costs=[]; pars=[]; n=0;\n",
    "    for dd in farmdir\n",
    "        for f in filter(x -> startswith(x, \"farm_\" * farm_id * \"_\"), readdir(dd * \"/\"))\n",
    "            n += 1\n",
    "            myfile = dd * \"/\" * f; \n",
    "            fj = jldopen(myfile); \n",
    "            if exists(fj, \"qu_out\"); qu_out = load(myfile, \"qu_out\"); \n",
    "            else;                    qu_out = [-1 -1]; \n",
    "            end\n",
    "            close(fj)\n",
    "\n",
    "            args, params, traj3, cost = load(myfile, \"args\", \"pars3\", \"traj3\", \"cost\")\n",
    "\n",
    "            if     !haskey(results, args);       results[\"args\"] = args;\n",
    "            elseif !all(results[\"args\"].==args); error(\"Not all files have same args!\"); \n",
    "            end\n",
    "\n",
    "            files = [files ; myfile]; dirs = [dirs ; dd]\n",
    "            qs = [qs ; qu_out]; tcosts = [tcosts; traj3[2,end]]; costs = [costs; cost]\n",
    "            if length(pars)==0; pars=params'; else pars = [pars ; params']; end\n",
    "            if verbose && rem(n, verbose_every)==0\n",
    "                @printf(\"%s %g\\n\", myfile, tcosts[end])\n",
    "            end\n",
    "        end\n",
    "    end\n",
    "\n",
    "    results[\"dirs\"] = dirs\n",
    "    results[\"files\"]  = files\n",
    "    results[\"qu_out\"] = qs\n",
    "    results[\"tcost\"]  = tcosts\n",
    "    results[\"cost\"]   = costs\n",
    "    results[\"params\"] = pars\n",
    "\n",
    "    return results\n",
    "end\n",
    "\n",
    "\n",
    "\n",
    "\n",
    "\n",
    "\"\"\"\n",
    "    Data structure for parameter and cost histograms\n",
    "\n",
    "`histo_params()` returns one of these objects; used to manage GUI handling.\n",
    "\"\"\"\n",
    "type histo_data\n",
    "    names::Array{String}\n",
    "    values::Array{Float64}\n",
    "    axisHandles::Array{PyCall.PyObject}\n",
    "    LineHandles::Array{PyCall.PyObject}\n",
    "    files::Array{String} \n",
    "end\n",
    "\n",
    "\n",
    "\n",
    "\n",
    "\"\"\"\n",
    "HD = histo_params(args, params, tcosts, costs, files; fignum=1, nbins=10)\n",
    "\n",
    "Histogram each parameter. params should be nentries-by-length(args) in size.\n",
    "args should be a vector of strings. tcosts and costs should be nentries in length,\n",
    "and represent trainig cost, and test cost, respectively. files should be a vector\n",
    "of filenames.\n",
    "\n",
    "# OPTIONAL PARAMS\n",
    "\n",
    "- fignum   The figure in which histograms will be plotted.\n",
    "\n",
    "- nbins    The number of bins to use in each histogram.\n",
    "\n",
    "\"\"\"\n",
    "function histo_params(args, params, tcosts, costs, files; fignum=1, nbins=10, linewidth=3)\n",
    "\n",
    "    pygui(true)\n",
    "    figure(fignum); clf();\n",
    "    \n",
    "    HD = histo_data([], [], [], [], [])\n",
    "\n",
    "    nparams = size(params,2)\n",
    "    nrows = ceil(nparams/3)+1\n",
    "\n",
    "    for i=1:nparams;\n",
    "        HD.axisHandles = [HD.axisHandles ; subplot(nrows,3,i)]; \n",
    "        plt[:hist](params[:,i], nbins)\n",
    "        title(args[i])\n",
    "        \n",
    "        myrow = ceil(i/3)\n",
    "        if myrow < (nrows+1)/2;     axisHeightChange(0.8, lock=\"t\")\n",
    "        elseif myrow > (nrows+1)/2; axisHeightChange(0.8, lock=\"b\")\n",
    "        else                        axisHeightChange(0.8, lock=\"c\")\n",
    "        end    \n",
    "    end\n",
    "\n",
    "    HD.axisHandles = [HD.axisHandles ; subplot(nrows, 2, nrows*2-1)]; axisHeightChange(0.8, lock=\"b\"); \n",
    "    axisMove(0, -0.025); plt[:hist](tcosts*1000, nbins); title(\"training cost*1000\")\n",
    "\n",
    "    HD.axisHandles = [HD.axisHandles ; subplot(nrows, 2, nrows*2)];   axisHeightChange(0.8, lock=\"b\"); \n",
    "    axisMove(0, -0.025); plt[:hist](costs*1000, nbins); title(\"test cost*1000\")\n",
    "\n",
    "    for ax in HD.axisHandles\n",
    "        axes(ax)\n",
    "        h = plot([0 0 0 ; 0 0 0], [ylim()[1] ; ylim()[2]]*ones(1,3), visible=false, linewidth=linewidth)\n",
    "        h[1][:set_color](\"m\"); h[2][:set_color](\"b\"); h[3][:set_color](\"c\")\n",
    "        HD.LineHandles = [HD.LineHandles ; reshape(h[end:-1:1], 1, 3)]\n",
    "    end\n",
    "    \n",
    "    args   = [args ; [\"train cost\" ; \"test cost\"]]\n",
    "    params = [params tcosts*1000 costs*1000]\n",
    "    \n",
    "    HD.names  = args\n",
    "    HD.values = params\n",
    "    HD.files  = files\n",
    "    \n",
    "    return HD\n",
    "end\n",
    "\n",
    "\n",
    "\"\"\"\n",
    "    histo_params(res; threshold=-0.0001, further_params...)\n",
    "\n",
    "Wrapper that calls the other histo_params method, after first selecting for\n",
    "only  runs that have a test cost less than threshold.  further_params are passed\n",
    "on to the other histo_params method.\n",
    "\n",
    "- threshold             training costs below this value are considered \"successful\" (red dots), \n",
    "                        above it are \"unsuccessful\" (blue dots)\n",
    "\n",
    "- cost_choice           String, used to indicate which cost will be used for thresholding. It \n",
    "                        must be either \"cost\", indicating the testing cost, or \"tcost\", the training cost. \n",
    "\n",
    "- fignum                The figure in which histograms will be plotted.\n",
    "\n",
    "- nbins                 The number of bins to use in each histogram.\n",
    "\n",
    "\n",
    "\"\"\"\n",
    "function histo_params(res; threshold=-0.0001, cost_choice=\"cost\", further_params...)\n",
    "    args   = res[\"args\"]\n",
    "    params = res[\"params\"]\n",
    "    tcost  = res[\"tcost\"]\n",
    "    cost   = res[\"cost\"]\n",
    "    files  = res[\"files\"]\n",
    "    \n",
    "    if cost_choice==\"cost\"\n",
    "        I = find(cost.<threshold)\n",
    "    elseif cost_choice==\"tcost\"\n",
    "        I = find(tcost.<threshold)\n",
    "    else\n",
    "        error(\"cost_choice MUST be one of \\\"tcost\\\" or \\\"cost\\\"\")\n",
    "    end\n",
    "    \n",
    "    return histo_params(args, params[I,:], tcost[I], cost[I], files[I,:]; Dict(further_params)...)\n",
    "end\n",
    "\n",
    "\n",
    "\"\"\"\n",
    "    histo_highlight(filename, HD::histo_data)\n",
    "\n",
    "Assuming that histo_params was called, and returned the HD that is passed to this function,\n",
    "this function will put up a vertical bar at the values corresponding to the run indicated\n",
    "by filename.\n",
    "\n",
    "Will put up to three bars, blue for the most recent one asked for; green for one call ago\n",
    "to this function; and magenta for the time the function was called two calls ago. That allows\n",
    "keeping track of a sequence of requested values.\n",
    "\n",
    "This function can be used for GUI interactivity-- if a button click selects a run, the\n",
    "corresponding filename can then be used with this function to highlight that run in the\n",
    "histograms.\n",
    "\n",
    "# EXAMPLE:\n",
    "\n",
    "```jldoctest\n",
    "res = farmload(\"C17\", farmdir=\"MiniFarms\")\n",
    "\n",
    "HD = histo_params(res)\n",
    "I = find(res[\"cost].<-0.0001)  # to match what histo_params shows\n",
    "\n",
    "histo_highlight(res[\"files\"][I[1]], HD)\n",
    "histo_highlight(res[\"files\"][I[2]], HD)\n",
    "histo_highlight(res[\"files\"][I[3]], HD)\n",
    "```\n",
    "\"\"\"\n",
    "function histo_highlight(filename, HD::histo_data)\n",
    "    idx = find(HD.files .== filename)\n",
    "    if length(idx)==0; @printf(\"histo_highlight: Couldn't find filename %s, returning\\n\", filename); return; end\n",
    "    \n",
    "    for i=1:length(HD.names)\n",
    "        for to=size(HD.LineHandles,2):-1:2\n",
    "            from=to-1\n",
    "            HD.LineHandles[i,to][:set_xdata](HD.LineHandles[i,from][:get_xdata]())\n",
    "            HD.LineHandles[i,to][:set_ydata](HD.LineHandles[i,from][:get_ydata]())\n",
    "            HD.LineHandles[i,to][:set_visible](HD.LineHandles[i,from][:get_visible]())\n",
    "        end        \n",
    "        HD.LineHandles[i,1][:set_xdata]([HD.values[idx,i], HD.values[idx,i]])\n",
    "        HD.LineHandles[i,1][:set_visible](true)\n",
    "    end\n",
    "end\n",
    "\n",
    "\n",
    "\"\"\"\n",
    "Data structure for PCA scatterplots\n",
    "\n",
    "`plot_PCA()` returns one of these objects; used to manage GUI handling.\n",
    "\"\"\"\n",
    "type PCAplot_data\n",
    "    # --- stuff about the data that is plotted:\n",
    "    mu::Array{Float64}   # This vector of means is subtracted from a params vector\n",
    "    sd::Array{Float64}   # Which are then ./ by this sd vector to get the whitened params vector\n",
    "    V::Array{Float64}    # matrix of principal components, one per column\n",
    "    C::Array{Float64}    # covariance matrix after whitening\n",
    "    D::Array{Float64}    # Vector of eigenvalues\n",
    "    I::Array{Int64}      # index into \"successful\" runs\n",
    "    nI::Array{Int64}     # index into \"unsuccessful\"runs\n",
    "    Vparams::Array{Float64}  # nruns-by-nparams vector of runs, in PCA space\n",
    "    files::Array{String} # nruns-long vector of corresponding filenames\n",
    "    # --- stuff about graphics handling of the plots:\n",
    "    axisHandles::Array{PyCall.PyObject}  # handles to the plotted axes\n",
    "    axisPCs::Array{Int64}    # naxes-by-2, indicating x- and y-axes PC # for each axis plot\n",
    "    dotHandles::Array{PyCall.PyObject} # naxes-by-ndots, extra dots plotted\n",
    "    BP::PyCall.PyObject # the kbMonitorModule.kb_monitor that will keep track of button presses\n",
    "    callback::Any   # The function to be called after a button press\n",
    "end\n",
    "\n",
    "\n",
    "\n",
    "\n",
    "\n",
    "\"\"\"\n",
    "    PCA_highlight(filename, PC::PCAplot_data)\n",
    "\n",
    "Assuming that `PCA_plot()` was called, and returned the PC that is passed to this function,\n",
    "this function will put up a colored dot, across all axes, at the values corresponding to the run \n",
    "indicated by filename. [Out of the entries in PC::PCAplot_data, this function uses files, \n",
    "Vparams, axHandles, dothandles, and axisPCs]\n",
    "\n",
    "Will put up to three dots, blue for the most recent one asked for; green for one call ago\n",
    "to this function; and magenta for the time the function was called two calls ago. That allows\n",
    "keeping track of a sequence of requested values.\n",
    "\n",
    "This function can be used for GUI interactivity-- if a button click selects a run, the\n",
    "corresponding filename can then be used with this function to highlight that run in the\n",
    "scatterplots.\n",
    "\n",
    "# EXAMPLE:\n",
    "\n",
    "```jldoctest\n",
    "res = farmload(\"C17\", farmdir=\"MiniFarms\")\n",
    "\n",
    "PC = plot_PCA(res)\n",
    "I = find(res[\"tcost].<-0.0002)  # to match what histo_params shows\n",
    "\n",
    "PCA_highlight(res[\"files\"][I[1]], PC)\n",
    "PCA_highlight(res[\"files\"][I[2]], PC)\n",
    "PCA_highlight(res[\"files\"][I[3]], PC)\n",
    "```\n",
    "\"\"\"\n",
    "function PCA_highlight(fname, PC::PCAplot_data)\n",
    "    idx = find(PC.files .== fname)\n",
    "    if length(idx)==0; @printf(\"PCA_highlight: Couldn't find filename %s, returning\\n\", fname); return; end\n",
    "\n",
    "    Vparams = PC.Vparams[idx,:]\n",
    "\n",
    "    # Move our non-red dots along:\n",
    "    if length(PC.dotHandles) > 0            \n",
    "        # The dot in column X will get the coords of the dot in column X-1:\n",
    "        for i=1:length(PC.axisHandles)\n",
    "            for to=size(PC.dotHandles,2):-1:2\n",
    "                from = to-1\n",
    "                PC.dotHandles[i,to][:set_xdata](PC.dotHandles[i,from][:get_xdata]())\n",
    "                PC.dotHandles[i,to][:set_ydata](PC.dotHandles[i,from][:get_ydata]())\n",
    "                PC.dotHandles[i,to][:set_visible](PC.dotHandles[i,from][:get_visible]())\n",
    "            end\n",
    "            # And then the dot in column 1 gets the coords of the red dot closest to the clicked point:\n",
    "            myX = PC.axisPCs[i,1]; myY = PC.axisPCs[i,2]\n",
    "            PC.dotHandles[i,1][:set_xdata](Vparams[end-(myX-1)])\n",
    "            PC.dotHandles[i,1][:set_ydata](Vparams[end-(myY-1)])   \n",
    "            PC.dotHandles[i,1][:set_visible](true)\n",
    "        end\n",
    "    end\n",
    "    axes(PC.axisHandles[end])    \n",
    "    legend(PC.dotHandles[end,1:3], [\"current\", \"1 ago\", \"2 ago\"])\n",
    "    pause(0.001)\n",
    "end\n",
    "\n",
    "\n",
    "\"\"\"\n",
    "    PCA_event_callback(xy, r, linehandle, axhandle, PC::PCAplot_data)\n",
    "\n",
    "Internal function used by `PCA_plot()` to enable GUI interactivity.\n",
    "This function is responsible for turning the position of the \n",
    "selected data point into the corresponding filename, and then\n",
    "calling the callback that was registered with `PCA_plot()` (if any was)\n",
    "\n",
    "Out of the entries in PC::PCAplot_data, this function uses axisHandles, axisPCs,\n",
    "Vparams, files, and callback.\n",
    "\n",
    "\"\"\"\n",
    "function PCA_event_callback(xy, r, linehandle, axhandle, PC::PCAplot_data)\n",
    "    # @printf(\"xy=(%g,%g)\\n\", xy[1], xy[2])\n",
    "    idx = nothing\n",
    "    # Let's go through the axes finding our axis\n",
    "    for i=1:length(PC.axisHandles)\n",
    "        if axhandle == PC.axisHandles[i]            \n",
    "            myX = PC.axisPCs[i,1]; myY = PC.axisPCs[i,2]\n",
    "            # and now find the index of the point at xy\n",
    "            idx = find((PC.Vparams[:, end-(myX-1)].==xy[1]) .& (PC.Vparams[:, end-(myY-1)].==xy[2]))\n",
    "            if length(idx)==0; \n",
    "                @printf(\"PCA_event_callback: Couldn't find point (%.3f,%.3f), returning\\n\", xy[1], xy[2]); \n",
    "                return; \n",
    "            end\n",
    "            idx = idx[1]\n",
    "        end\n",
    "    end\n",
    "    \n",
    "    @printf(\"You selected file %s\\n\", PC.files[idx]); pause(0.0001)    \n",
    "    \n",
    "    # If there is a user callback, call it:\n",
    "    if PC.callback != nothing\n",
    "        PC.callback(PC.files[idx], PC)\n",
    "    end        \n",
    "end \n",
    "    \n",
    "\n",
    "\n",
    "\"\"\"\n",
    "    PC = plot_PCA(res; threshold=-0.0002, fignum=2, pc_offset=0, plot_unsuccessful=true,\n",
    "        compute_good_only=true, unsuccessful_threshold=nothing, cost_choice=\"cost\",\n",
    "        user_callback=nothing)\n",
    "\n",
    "Computes the principal components for a matrix of parameter values across many runs, and puts\n",
    "up several scatterplots of the run parameter values projected onto these principal \n",
    "components. In addition, enables GUI interactivity: users can associate a callback function\n",
    "with buttonclicks on the figure.\n",
    "\n",
    "# PARAMETERS:\n",
    "\n",
    "- res     A dictionary, in the format of the output of `farmload()`\n",
    "\n",
    "# OPTIONAL PARAMETERS:\n",
    "\n",
    "- threshold             costs below this are considered \"successful\" runs\n",
    "\n",
    "- unsuccessful_threshold   costs above this are considered \"UNsuccessful\" runs\n",
    "                        This value defaults to whatever threshold is.  If the two thresholds are\n",
    "                        different, farms with costs in between, in the \"no man's land\", are not plotted.\n",
    "\n",
    "- plot_unsuccessful     If true, dots for unsuccessful runs are shown, otherwise not.\n",
    "\n",
    "- compute_good_only   If true, all runs, whether successful or not, are used to compute the PCs.\n",
    "                        If false, only the successful runs.\n",
    "\n",
    "- cost_choice           String, used to indicate which cost will be used for thresholding. It \n",
    "                        must be either \"cost\", indicating the testing cost, or \"tcost\", the training cost. \n",
    "\n",
    "- pc_offset             Shows PCs from pc_offset+1 to pc_offset+4\n",
    "\n",
    "- user_callback         If set, function that will be called, as `usercallback(filename, PC)` where\n",
    "                        filename is the name of the run that corresponds to the selected point.\n",
    "\n",
    "- fignum                Figure number on which to plot the PC scatterplots\n",
    "\n",
    "\"\"\" \n",
    "function plot_PCA(res; threshold=-0.0001, fignum=2, pc_offset=0, plot_unsuccessful=true,\n",
    "    compute_good_only=true, unsuccessful_threshold=nothing, cost_choice=\"cost\",\n",
    "    user_callback=nothing)\n",
    "\n",
    "    if unsuccessful_threshold==nothing\n",
    "        unsuccessful_threshold = threshold\n",
    "    end\n",
    "\n",
    "    # Initialize a PCAplot_data structure\n",
    "    PC = PCAplot_data([], [], [], [], [], [], [], [], [], [], [], [], nothing, nothing)\n",
    "\n",
    "    # Get the runs' costs and do selection on them:\n",
    "    if ~((cost_choice==\"tcost\")  ||  (cost_choice==\"cost\"))\n",
    "        error(\"cost_choice MUST be one of \\\"tcost\\\" or \\\"cost\\\"\")\n",
    "    end    \n",
    "    mycost = res[cost_choice]; \n",
    "    PC.I  = I  = find(mycost .< threshold)\n",
    "    PC.nI = nI = find(mycost .>= unsuccessful_threshold)\n",
    "\n",
    "    if compute_good_only\n",
    "        # Use the successful runs (sparams) to define PCA space\n",
    "        sparams = copy(res[\"params\"][I,:])\n",
    "        for i=1:size(sparams,2)\n",
    "            sparams[:,i] -= mean(sparams[:,i])\n",
    "            sparams[:,i] /= std(sparams[:,i])\n",
    "        end\n",
    "        C = sparams'*sparams/size(sparams,1)\n",
    "        D,V = eig(C)\n",
    "        pv = 100*D/sum(D)\n",
    "    end\n",
    "\n",
    "    # Then z-score everybody\n",
    "    params = copy(res[\"params\"]); nruns = size(params,1)\n",
    "    PC.mu = mean(params,1);\n",
    "    params = params - ones(nruns,1)*PC.mu\n",
    "    PC.sd = std(params,1);\n",
    "    params = params ./ (ones(nruns,1)*PC.sd)\n",
    "\n",
    "    if !compute_good_only\n",
    "        C = params'*params/nruns\n",
    "        D,V = eig(C)\n",
    "        pv = 100*D/sum(D)\n",
    "    end\n",
    "    PC.V = V\n",
    "\n",
    "    # parameters in the eigen-coords:\n",
    "    PC.Vparams = Vparams = (inv(V)*params')'\n",
    "\n",
    "    figure(fignum); clf(); \n",
    "    # ax1 = subplot(2,2,1); axisHeightChange(0.9, lock=\"t\")\n",
    "    # ax2 = subplot(2,2,2); axisMove(0.05, 0); axisHeightChange(0.9, lock=\"t\")\n",
    "    # ax3 = subplot(2,2,3); axisHeightChange(0.9, lock=\"b\")\n",
    "    # ax4 = subplot(2,2,4); axisMove(0.05, 0); axisHeightChange(0.9, lock=\"b\")\n",
    "    # PC.axisHandles = [ax1, ax2, ax3, ax4]\n",
    "    # PC.axisPCs = [1 2 ; 3 2 ; 1 3 ; 3 4] + pc_offset\n",
    "    ax1 = subplot(1,2,1); ax2 = subplot(1,2,2)\n",
    "    PC.axisHandles = [ax1 ; ax2]\n",
    "    PC.axisPCs = [2 1 ; 3 1]\n",
    "\n",
    "    for i=1:length(PC.axisHandles)\n",
    "        axes(PC.axisHandles[i])\n",
    "        myX = PC.axisPCs[i,1]; myY = PC.axisPCs[i,2]\n",
    "        if plot_unsuccessful\n",
    "            plot(Vparams[nI,end-(myX-1)],  Vparams[nI,end-(myY-1)], \"g.\", markersize=10)\n",
    "        end\n",
    "        plot(Vparams[I,end-(myX-1)],  Vparams[I,end-(myY-1)], \"r.\", markersize=10)\n",
    "        title(@sprintf(\"PCA %d (%.2f%%) vs %d (%.2f%%)\", myY, pv[end-(myY-1)], myX, pv[end-(myX-1)]))\n",
    "    end\n",
    "\n",
    "        \n",
    "    # Add the non-red dots:\n",
    "    hs =Array{PyCall.PyObject}(0, 3)\n",
    "    for i=1:length(PC.axisHandles)\n",
    "        axes(PC.axisHandles[i]); \n",
    "        hs = [hs ; reshape([plot(0, 0, \"m.\") plot(0, 0, \"b.\") plot(0, 0, \"c.\")][end:-1:1], 1, 3)]\n",
    "        # order of handles gets reversed so the last one plotted -- goes on top -- is first handle\n",
    "    end\n",
    "    for h in hs; h[:set_markersize](11); h[:set_visible](false); end\n",
    "    PC.dotHandles = hs\n",
    "    legend(hs[end,1:3], [\"current\", \"1 ago\", \"2 ago\"])\n",
    "    PC.callback = user_callback\n",
    "    PC.files = res[\"files\"]\n",
    "        \n",
    "    # axes(ax3)\n",
    "    # if plot_unsuccessful; legend([\"unsuccessful\", \"successful\"])\n",
    "    # else                   legend([\"successful\"]) \n",
    "    # end\n",
    "\n",
    "    install_nearest_point_callback(figure(fignum), PCA_event_callback, user_data=PC)\n",
    "\n",
    "    return PC \n",
    "end\n",
    "\n",
    "\n",
    "\n",
    "\"\"\"\n",
    "SV = plot_SVD(;threshold =-0.0002, plot_unsuccessful=false, compute_good_only=false,\n",
    "        cost_choice=\"cost\", user_callback=nothing, fignum=100)\n",
    "\n",
    "Uses the pre-computed SVD components for a matrix of parameter values across many runs, and puts\n",
    "up scatterplots of the run parameter values projected onto these SV components (columns of the U \n",
    "matrix. In addition, enables GUI interactivity: users can associate a callback function\n",
    "with buttonclicks on the figure.\n",
    "\n",
    "\n",
    "# OPTIONAL PARAMETERS:\n",
    "\n",
    "- threshold             training costs below this value are considered \"successful\" (red dots), \n",
    "                        above it are \"unsuccessful\" (blue dots)\n",
    "\n",
    "- plot_unsuccessful     If true, dots for unsuccessful runs are shown, otherwise not.\n",
    "\n",
    "- compute_good_only     If true, only the successful runs are used to compute the SVD space\n",
    "\n",
    "- cost_choice           String, used to indicate which cost will be used for thresholding. It \n",
    "                        must be either \"cost\", indicating the testing cost, or \"tcost\", the training cost. \n",
    "\n",
    "- user_callback         If set, function that will be called, as `usercallback(filename, SV)` where\n",
    "                        filename is the name of the run that corresponds to the selected point.\n",
    "\n",
    "- fignum                Figure number on which to plot the PC scatterplots\n",
    "\n",
    "\n",
    "# RETURNS\n",
    "\n",
    "- SV     A structure of type PCAplot_data. (Only its files, Vparams, axHandles, dotHandles\n",
    "         axisPCs and callback entries will have assigned values.)\n",
    "\n",
    "    \n",
    "\"\"\"\n",
    "function plot_SVD(;threshold =-0.0001, plot_unsuccessful=false, compute_good_only=false,\n",
    "    cost_choice=\"cost\", user_callback=nothing, fignum=100)\n",
    "\n",
    "    # get response matrix\n",
    "    response, results = load(\"SVD_response_matrix.jld\", \"response\",\"results\");\n",
    "    # set up filter by nan\n",
    "    nanrows = any(isnan.(response),2);\n",
    "\n",
    "    # Get the runs' costs and do selection on them:\n",
    "    if ~((cost_choice==\"tcost\")  ||  (cost_choice==\"cost\"))\n",
    "        error(\"cost_choice MUST be one of \\\"tcost\\\" or \\\"cost\\\"\")\n",
    "    end    \n",
    "    mycost = results[cost_choice]; \n",
    "    if !compute_good_only\n",
    "        mycost = mycost[.!vec(nanrows),:];\n",
    "        disp_cost = copy(mycost);\n",
    "    end\n",
    "    badcost = mycost .>= threshold;\n",
    "    \n",
    "    # if we are computing SVD only on the good farms, update nanrows and disp_cost\n",
    "    if compute_good_only\n",
    "        nanrows = nanrows .| badcost;\n",
    "        disp_cost = mycost[.!vec(nanrows),:];\n",
    "    end    \n",
    "\n",
    "    # Filter response matrix\n",
    "    r_all = response[.!vec(nanrows),:];\n",
    "    m = mean(r_all,1);\n",
    "    r_all = r_all - repmat(m, size(r_all,1),1);\n",
    "    F = svdfact(r_all);\n",
    "    u = copy(F[:U]); \n",
    "    u1 = u[:,1];\n",
    "    u2 = u[:,2];\n",
    "    u3 = u[:,3];\n",
    "\n",
    "    # Make list of just good farms\n",
    "    if compute_good_only\n",
    "        # nanrows filter already selects for good farms\n",
    "        u1good = u1;\n",
    "        u2good = u2;\n",
    "        u3good = u3;\n",
    "    else\n",
    "        # remove bad cost farms\n",
    "        u1good = u1[.!vec(badcost),:];\n",
    "        u2good = u2[.!vec(badcost),:];\n",
    "        u3good = u3[.!vec(badcost),:];\n",
    "    end\n",
    "    files = results[\"files\"];\n",
    "    files = files[.!vec(nanrows),:];\n",
    "\n",
    "    SV = PCAplot_data([], [], [], [], [], [], [], [], [], [], [], [], nothing, nothing)\n",
    "    SV.files = files\n",
    "    SV.Vparams = u[:,3:-1:1]  # The column vectors are expected in REVERSE order (i.e., as returned by eig(). )\n",
    "    \n",
    "    pygui(true)\n",
    "    figure(fignum); clf();\n",
    "\n",
    "    ax1 = subplot(1,2,1)\n",
    "    if plot_unsuccessful; plot(u[:,3],u[:,1],\"bo\"); end\n",
    "    plot(u3good, u1good, \"ro\")\n",
    "    title(\"SVD U columns 3 and 1\")\n",
    "    ylabel(\"SVD Dim 1\")\n",
    "    xlabel(\"SVD Dim 3\")   \n",
    "    plot(0, 0, \"go\")[1][:set_visible](false)\n",
    "\n",
    "    ax2 = subplot(1,2,2)\n",
    "    if plot_unsuccessful; plot(u[:,2],u[:,1],\"bo\"); end\n",
    "    plot(u2good, u1good, \"ro\")\n",
    "    title(\"SVD U columns 2 and 1\")\n",
    "    xlabel(\"SVD Dim 2\")   \n",
    "    remove_ytick_labels()\n",
    "\n",
    "    SV.axisHandles = [ax1 ; ax2]\n",
    "    SV.axisPCs   = [3 1 ; 2 1]\n",
    "\n",
    "    hs =Array{PyCall.PyObject}(0, 3)\n",
    "    for i=1:length(SV.axisHandles)\n",
    "        axes(SV.axisHandles[i]); \n",
    "        hs = [hs ; reshape([plot(0, 0, \"m.\") plot(0, 0, \"b.\") plot(0, 0, \"c.\")][end:-1:1], 1, 3)]\n",
    "        # order of handles gets reversed so the last one plotted -- goes on top -- is first handle\n",
    "    end\n",
    "    for h in hs; h[:set_markersize](11); h[:set_visible](false); end\n",
    "    SV.dotHandles = hs\n",
    "    legend(hs[end,1:3], [\"current\", \"1 ago\", \"2 ago\"])\n",
    "\n",
    "    SV.callback = user_callback\n",
    "    # [Out of the entries in PC::PCAplot_data, this function uses files,  Vparams, axHandles, dothandles, and axisPCs]\n",
    "\n",
    "    install_nearest_point_callback(figure(fignum), PCA_event_callback, user_data=SV)\n",
    "\n",
    "    return SV\n",
    "end\n",
    "\n",
    "\n",
    "\n",
    "\n",
    "plot_farm_trials = 10    #  The number of trials to be plotted per farm run\n",
    "\n",
    "\"\"\"\n",
    "    params = plot_farm(filename; testruns=nothing, fignum=3, overrideDict=Dict())\n",
    "\n",
    "    Plots multiple trials from a single run of a farm.\n",
    "\n",
    "# PARAMETERS\n",
    "\n",
    "- filename    The filename of the .jld file containing the run, to be loaded\n",
    "\n",
    "# OPTIONAL PARAMETERS\n",
    "\n",
    "- testruns    Number of trials to run. Defaults to value of global variable plot_farm_trials.\n",
    "\n",
    "- fignum      Figure to put the plot up in.\n",
    "\n",
    "- overrideDict   A dictionary containing any model parameter values that will\n",
    "              override any values loaded from the file.  For example\n",
    "              `overrideDict = Dict(:sigma=>0.001)` will run with that value\n",
    "              of sigma, no whater what the file said.\n",
    "\n",
    "\"\"\"\n",
    "function plot_farm(filename; testruns=400, fignum=3, overrideDict=Dict())\n",
    "\n",
    "    mypars, extra_pars, args, pars3 = load(filename, \"mypars\", \"extra_pars\", \"args\", \"pars3\")\n",
    "\n",
    "\n",
    "    pygui(true)\n",
    "    figure(fignum); clf();\n",
    "    \n",
    "    pstrings = [\"CONTROL\", \"DELAY OPTO\", \"CHOICE OPTO\"]\n",
    "    for period = 1:3\n",
    "        these_pars = merge(mypars, extra_pars);\n",
    "        these_pars = merge(these_pars, Dict(\n",
    "        # :opto_strength=>0.3, \n",
    "        :opto_times=>reshape(extra_pars[:opto_periods][period,:], 1, 2),\n",
    "        # :opto_times=>[\"target_start-0.4\" \"target_start\"],\n",
    "        # :opto_times=>[\"target_start\" \"target_end\"],\n",
    "        # :post_target_period=>0.3,\n",
    "        # :rule_and_delay_period=>1.2,\n",
    "        # :dt=>0.005,\n",
    "        ))\n",
    "\n",
    "        # The plot_list should be the one we give it below, not whatever was in the stored parameters\n",
    "        delete!(these_pars, :plot_list)\n",
    "\n",
    "        pvax = subplot(4,3,period);   axisHeightChange(0.9, lock=\"t\")\n",
    "        pdax = subplot(4,3,period+3); axisHeightChange(0.9, lock=\"c\"); \n",
    "        avax = subplot(4,3,period+6); axisHeightChange(0.9, lock=\"c\")\n",
    "        adax = subplot(4,3,period+9); axisHeightChange(0.9, lock=\"b\")\n",
    "\n",
    "        proVs, antiVs = run_ntrials(testruns, testruns; plot_list=[1:20;], plot_Us=false, \n",
    "            ax_set = Dict(\"pro_Vax\"=>pvax, \"pro_Dax\"=>pdax, \"anti_Vax\"=>avax, \"anti_Dax\"=>adax),\n",
    "        merge(make_dict(args, pars3, these_pars), overrideDict)...);\n",
    "\n",
    "        hBP = length(find(proVs[1,:]  .> proVs[4,:])) /size(proVs, 2)\n",
    "        hBA = length(find(antiVs[4,:] .> antiVs[1,:]))/size(antiVs,2)\n",
    "        # @printf(\"period %d:  hBP=%.2f%%, hBA=%.2f%%\\n\\n\", period, 100*hBP, 100*hBA)\n",
    "\n",
    "        axes(pvax); title(@sprintf(\"%s  PRO hits = %.2f%%\", pstrings[period], 100*hBP))\n",
    "        axes(avax); title(@sprintf(\"ANTI hits = %.2f%%\", 100*hBA))\n",
    "        axes(pdax); remove_xtick_labels(); xlabel(\"\")\n",
    "        if period > 1\n",
    "            remove_ytick_labels([pvax, pdax, avax, adax])\n",
    "        end\n",
    "        \n",
    "        figure(fignum)[:canvas][:draw]()\n",
    "        pause(0.0001)\n",
    "    end\n",
    "\n",
    "    for a=1:length(args)\n",
    "        myarg = args[a]; while length(myarg)<20; myarg=myarg*\" \"; end\n",
    "        @printf(\"%s\\t\\t%g\\n\", myarg, pars3[a])\n",
    "    end\n",
    "\n",
    "    return pars3\n",
    "end\n"
   ]
  },
  {
   "cell_type": "code",
   "execution_count": 90,
   "metadata": {
    "collapsed": false
   },
   "outputs": [
    {
     "name": "stdout",
     "output_type": "stream",
     "text": [
      "\n",
      "Wait for PCA and SVD plots to come up.\n",
      "Then click on any dot within the PCA plot or SVD plots to\n",
      "see the corresponding data in the other plots. Click on\n",
      "'Don't plot trials' in figure 5 if you want to go faster,\n",
      "without running trials.\n",
      "\n",
      "The window placement fits a 15-in Macbook Pro, but adjust\n",
      "at will. Once you find window positions you like, run\n",
      "    capture_current_figure_configuration()\n",
      "to get copy-pastable code that reproduces it.\n",
      "\n",
      "ntrials to run is the number of trials per condition that will\n",
      "be run in plot_farm() to compute %correct. Up to 20 of them\n",
      "will be plotted.\n",
      "\n",
      "Override is a dict that will override any paramater values in\n",
      "the plotted trials. For example, if you write\n",
      "    :sigma=>0.2, :rule_and_delay_period=>1.6\n",
      "then no matter what the run's file said, if you ask for trials\n",
      "to be plotted, those trials will run\n",
      "with that sigma and that rule_and_delay_period.\n",
      "\n"
     ]
    },
    {
     "name": "stderr",
     "output_type": "stream",
     "text": [
      "QPixmap::scaled: Pixmap is a null pixmap\n",
      "QPixmap::scaled: Pixmap is a null pixmap\n",
      "QPixmap::scaled: Pixmap is a null pixmap\n",
      "QPixmap::scaled: Pixmap is a null pixmap\n",
      "QPixmap::scaled: Pixmap is a null pixmap\n"
     ]
    },
    {
     "name": "stdout",
     "output_type": "stream",
     "text": [
      "You selected file MiniFarms/farm_C17_Farms024_0646.jld\n",
      "anti_rule_strength  \t\t0.0497992\n",
      "right_light_excitation\t\t1.22284\n",
      "sW                  \t\t1.68559\n",
      "sigma               \t\t-0.167337\n",
      "opto_strength       \t\t0.700664\n",
      "const_pro_bias      \t\t0.0239837\n",
      "dW                  \t\t0.325379\n",
      "target_period_excitation\t\t-0.674757\n",
      "hW                  \t\t0.23944\n",
      "vW                  \t\t-0.623042\n",
      "pro_rule_strength   \t\t0.0156859\n",
      "constant_excitation \t\t-0.703305\n",
      "You selected file MiniFarms/farm_C17_Farms024_0434.jld\n",
      "anti_rule_strength  \t\t0.0682838\n",
      "right_light_excitation\t\t1.54045\n",
      "sW                  \t\t1.48858\n",
      "sigma               \t\t0.216982\n",
      "opto_strength       \t\t0.496767\n",
      "const_pro_bias      \t\t0.0308313\n",
      "dW                  \t\t0.407145\n",
      "target_period_excitation\t\t-0.953245\n",
      "hW                  \t\t0.290716\n",
      "vW                  \t\t-0.578602\n",
      "pro_rule_strength   \t\t0.0192155\n",
      "constant_excitation \t\t-0.688311\n",
      "You selected file MiniFarms/farm_C17_Farms026_0048.jld\n",
      "anti_rule_strength  \t\t0.0864679\n",
      "right_light_excitation\t\t0.379255\n",
      "sW                  \t\t1.22083\n",
      "sigma               \t\t0.0444996\n",
      "opto_strength       \t\t0.688007\n",
      "const_pro_bias      \t\t0.0440854\n",
      "dW                  \t\t-0.021391\n",
      "target_period_excitation\t\t-0.251615\n",
      "hW                  \t\t-0.293037\n",
      "vW                  \t\t-0.362962\n",
      "pro_rule_strength   \t\t0.0194127\n",
      "constant_excitation \t\t-0.271331\n",
      "You selected file MiniFarms/farm_C17_Farms024_0434.jld\n",
      "anti_rule_strength  \t\t0.0682838\n",
      "right_light_excitation\t\t1.54045\n",
      "sW                  \t\t1.48858\n",
      "sigma               \t\t0.216982\n",
      "opto_strength       \t\t0.496767\n",
      "const_pro_bias      \t\t0.0308313\n",
      "dW                  \t\t0.407145\n",
      "target_period_excitation\t\t-0.953245\n",
      "hW                  \t\t0.290716\n",
      "vW                  \t\t-0.578602\n",
      "pro_rule_strength   \t\t0.0192155\n",
      "constant_excitation \t\t-0.688311\n",
      "You selected file MiniFarms/farm_C17_Farms025_0311.jld\n",
      "anti_rule_strength  \t\t0.0986404\n",
      "right_light_excitation\t\t1.39761\n",
      "sW                  \t\t1.54666\n",
      "sigma               \t\t-0.277311\n",
      "opto_strength       \t\t0.380495\n",
      "const_pro_bias      \t\t0.0569116\n",
      "dW                  \t\t0.340467\n",
      "target_period_excitation\t\t-0.708069\n",
      "hW                  \t\t0.256768\n",
      "vW                  \t\t-0.965017\n",
      "pro_rule_strength   \t\t0.000399258\n",
      "constant_excitation \t\t-0.69278\n",
      "You selected file MiniFarms/farm_C17_Farms024_0865.jld\n",
      "anti_rule_strength  \t\t0.0671539\n",
      "right_light_excitation\t\t1.46026\n",
      "sW                  \t\t1.53353\n",
      "sigma               \t\t-0.220965\n",
      "opto_strength       \t\t0.566209\n",
      "const_pro_bias      \t\t0.0315867\n",
      "dW                  \t\t0.356445\n",
      "target_period_excitation\t\t-0.870559\n",
      "hW                  \t\t0.268602\n",
      "vW                  \t\t-0.594338\n",
      "pro_rule_strength   \t\t0.0107764\n",
      "constant_excitation \t\t-0.689847\n",
      "You selected file MiniFarms/farm_C17_Farms025_0081.jld\n",
      "anti_rule_strength  \t\t0.0342025\n",
      "right_light_excitation\t\t0.250298\n",
      "sW                  \t\t2.2199\n",
      "sigma               \t\t0.000443137\n",
      "opto_strength       \t\t0.981735\n",
      "const_pro_bias      \t\t-0.0816504\n",
      "dW                  \t\t-0.0454557\n",
      "target_period_excitation\t\t-0.516352\n",
      "hW                  \t\t-0.274218\n",
      "vW                  \t\t-0.440257\n",
      "pro_rule_strength   \t\t0.131017\n",
      "constant_excitation \t\t-0.668771\n",
      "You selected file MiniFarms/farm_C17_Farms025_0081.jld\n",
      "anti_rule_strength  \t\t0.0342025\n",
      "right_light_excitation\t\t0.250298\n",
      "sW                  \t\t2.2199\n",
      "sigma               \t\t0.000443137\n",
      "opto_strength       \t\t0.981735\n",
      "const_pro_bias      \t\t-0.0816504\n",
      "dW                  \t\t-0.0454557\n",
      "target_period_excitation\t\t-0.516352\n",
      "hW                  \t\t-0.274218\n",
      "vW                  \t\t-0.440257\n",
      "pro_rule_strength   \t\t0.131017\n",
      "constant_excitation \t\t-0.668771\n",
      "You selected file MiniFarms/farm_C17_Farms025_0081.jld\n",
      "anti_rule_strength  \t\t0.0342025\n",
      "right_light_excitation\t\t0.250298\n",
      "sW                  \t\t2.2199\n",
      "sigma               \t\t0.000443137\n",
      "opto_strength       \t\t0.981735\n",
      "const_pro_bias      \t\t-0.0816504\n",
      "dW                  \t\t-0.0454557\n",
      "target_period_excitation\t\t-0.516352\n",
      "hW                  \t\t-0.274218\n",
      "vW                  \t\t-0.440257\n",
      "pro_rule_strength   \t\t0.131017\n",
      "constant_excitation \t\t-0.668771\n",
      "You selected file MiniFarms/farm_C17_Farms024_0430.jld\n",
      "anti_rule_strength  \t\t0.118424\n",
      "right_light_excitation\t\t0.441949\n",
      "sW                  \t\t2.02788\n",
      "sigma               \t\t0.00408345\n",
      "opto_strength       \t\t0.979051\n",
      "const_pro_bias      \t\t-6.46556e-05\n",
      "dW                  \t\t0.201323\n",
      "target_period_excitation\t\t-0.5608\n",
      "hW                  \t\t-0.121376\n",
      "vW                  \t\t-0.35398\n",
      "pro_rule_strength   \t\t0.121726\n",
      "constant_excitation \t\t-0.761411\n"
     ]
    }
   ],
   "source": [
    "\n",
    "#######################################################\n",
    "#\n",
    "#     Actual calls to the functions to run everything\n",
    "#\n",
    "#######################################################\n",
    "\n",
    "\n",
    "\n",
    "if !isdefined(:res)\n",
    "    res = farmload(\"C17\", verbose=true, farmdir=\"MiniFarms\")\n",
    "end\n",
    "\n",
    "pygui(true); \n",
    "remove_all_BPs(); # Clean up any previous links between clicks on figures and callback functions\n",
    "plt[:close](1); plt[:close](2); plt[:close](3); plt[:close](4); plt[:close](5)\n",
    "\n",
    "# Carlos' favored configuration, but adjust to suit -- use capture_current_figure_configuration() \n",
    "# to see code that reproduces a configuration you like once you find it\n",
    "\n",
    "figure(1); set_current_fig_position(1325, 41, 640, 982)   # x, y, width, height\n",
    "figure(2); set_current_fig_position(645, 785, 680, 408)\n",
    "figure(3); set_current_fig_position(0, 785, 641, 407)\n",
    "figure(4); set_current_fig_position(3, 23, 1288, 797)\n",
    "figure(5); set_current_fig_position(1338, 998, 540, 200)\n",
    "\n",
    "figure(5)\n",
    "ax1 = subplot(2,2,1); axisMove(-0.05, 0); axisWidthChange(1.1, lock=\"l\")\n",
    "ax2 = subplot(2,2,2); axisMove(0.05, 0); axisWidthChange(0.6, lock=\"r\")\n",
    "ax3 = subplot(2,1,2); axisMove(0.05, 0)\n",
    "rad = kbMonitorModule.radio_buttons(ax1, [\"Don't plot trials\", \"Plot trials (wait for it)\"])\n",
    "tbx = kbMonitorModule.text_box(ax2, \"ntrials to run \", \"10\")\n",
    "dbx = kbMonitorModule.text_box(ax3, \"Override \", \"\")\n",
    "\n",
    "\n",
    "HD = histo_params(res; threshold=-0.0001, cost_choice=\"cost\");\n",
    "pause(0.001)\n",
    "\n",
    "# The callback function that will be called after clicking on a data dot:\n",
    "function highlight_all(fname, PC, SV)\n",
    "    PCA_highlight(fname, PC);   # Color the selected dots in the PC plot\n",
    "    PCA_highlight(fname, SV);   # Color the selected dots in the SVD plot\n",
    "    histo_highlight(fname, HD)  # Color the selected bars in the histograms\n",
    "    pause(0.001);   # We don't really care about the 1 ms pause; just a convenient way to flush all pending graphics commandsj\n",
    "    if rad[:value_selected] == \"Plot trials (wait for it)\"\n",
    "        if ~isnull(tryparse(Int64, tbx[:text])); \n",
    "            ntrials = parse(Int64, tbx[:text])\n",
    "        else\n",
    "            @printf(\"Couldn't parse the ntrials to plot\\n\")\n",
    "            ntrials = 10\n",
    "        end\n",
    "        try\n",
    "            plot_farm(fname, testruns=ntrials, fignum=4, overrideDict=eval(parse(\"Dict(\"*dbx[:text]*\")\"))) \n",
    "        catch e\n",
    "            @printf(\"Couldn't plot farm, error %s\", e)\n",
    "        end\n",
    "    end\n",
    "end\n",
    "\n",
    "PC = plot_PCA(res; threshold=-0.0001, cost_choice=\"cost\", \n",
    "    user_callback = (fname, Trash) -> highlight_all(fname, PC, SV),\n",
    "    plot_unsuccessful=false, unsuccessful_threshold=0.0001, compute_good_only=true, fignum=2);\n",
    "pause(0.001)\n",
    "\n",
    "SV = plot_SVD(threshold=-0.0001, cost_choice=\"cost\", \n",
    "    user_callback = (fname, Trash) -> highlight_all(fname, PC, SV),\n",
    "    plot_unsuccessful=false, compute_good_only=true, fignum=3);\n",
    "\n",
    "docstring = \"\"\"\n",
    "\n",
    "Wait for PCA and SVD plots to come up.\n",
    "Then click on any dot within the PCA plot or SVD plots to\n",
    "see the corresponding data in the other plots. Click on\n",
    "'Don't plot trials' in figure 5 if you want to go faster,\n",
    "without running trials.\n",
    "\n",
    "The window placement fits a 15-in Macbook Pro, but adjust\n",
    "at will. Once you find window positions you like, run\n",
    "    capture_current_figure_configuration()\n",
    "to get copy-pastable code that reproduces it.\n",
    "\n",
    "ntrials to run is the number of trials per condition that will\n",
    "be run in plot_farm() to compute %correct. Up to 20 of them\n",
    "will be plotted.\n",
    "\n",
    "Override is a dict that will override any paramater values in\n",
    "the plotted trials. For example, if you write\n",
    "    :sigma=>0.2, :rule_and_delay_period=>1.6\n",
    "then no matter what the run's file said, if you ask for trials\n",
    "to be plotted, those trials will run\n",
    "with that sigma and that rule_and_delay_period.\n",
    "\n",
    "\"\"\"\n",
    "\n",
    "@printf(\"%s\", docstring)\n"
   ]
  },
  {
   "cell_type": "code",
   "execution_count": 85,
   "metadata": {
    "collapsed": false
   },
   "outputs": [
    {
     "name": "stdout",
     "output_type": "stream",
     "text": [
      "Opto condition # 1\n",
      "     - 1 - cost=-0.00014407, cost1=6.12756e-05, cost2=-0.000205346\n",
      "     - 1 - mean(hitsP)=0.896437, mean(diffsP)=0.988445 mean(hitsA)=0.71884, mean(diffsA)=0.243629\n",
      "Opto condition # 2\n",
      "     - 2 - cost=-0.000130244, cost1=7.14198e-06, cost2=-0.000137386\n",
      "     - 2 - mean(hitsP)=0.845757, mean(diffsP)=0.799782 mean(hitsA)=0.495015, mean(diffsA)=0.0245355\n",
      "Opto condition # 3\n",
      "     - 3 - cost=-0.000196253, cost1=4.38879e-06, cost2=-0.000200642\n",
      "     - 3 - mean(hitsP)=0.896813, mean(diffsP)=0.98876 mean(hitsA)=0.695978, mean(diffsA)=0.215094\n",
      "OVERALL\n",
      "     -- cost=-0.000156856, cost1=2.42688e-05, cost2=-0.000181125\n"
     ]
    },
    {
     "data": {
      "text/plain": [
       "(-0.0001568559338562538, [0.000183827 0.0 0.0; 2.14259e-5 0.0 0.0; 1.31664e-5 0.0 0.0], [-0.000616037 0.0 0.0; -0.000412159 0.0 0.0; -0.000601927 0.0 0.0], [0.896437; 0.845757; 0.896813], [0.71884; 0.495015; 0.695978], [0.988445; 0.799782; 0.98876], [0.243629; 0.0245355; 0.215094], [0.89875; 0.87; 0.895], [0.58; 0.09875; 0.53875])"
      ]
     },
     "execution_count": 85,
     "metadata": {},
     "output_type": "execute_result"
    }
   ],
   "source": [
    "testruns=800\n",
    "mypars, extra_pars, args, pars3 = load(\"MiniFarms/farm_C17_Farms024_0430.jld\", \"mypars\", \"extra_pars\", \"args\", \"pars3\")\n",
    "\n",
    "cost, cost1s, cost2s, hP, hA, dP, dA, hBP, hBA = JJ(testruns, testruns; verbose=false, \n",
    "    make_dict(args, pars3, merge(merge(mypars, extra_pars)))...)"
   ]
  },
  {
   "cell_type": "code",
   "execution_count": 88,
   "metadata": {
    "collapsed": false
   },
   "outputs": [
    {
     "data": {
      "text/plain": [
       "3×2 Array{Float64,2}:\n",
       " 0.89875  0.58   \n",
       " 0.87     0.09875\n",
       " 0.895    0.53875"
      ]
     },
     "execution_count": 88,
     "metadata": {},
     "output_type": "execute_result"
    },
    {
     "name": "stdout",
     "output_type": "stream",
     "text": [
      "You selected file MiniFarms/farm_C17_Farms025_0288.jld\n",
      "anti_rule_strength  \t\t0.130757\n",
      "right_light_excitation\t\t0.112683\n",
      "sW                  \t\t2.16737\n",
      "sigma               \t\t0.0058295\n",
      "opto_strength       \t\t0.904628\n",
      "const_pro_bias      \t\t-0.0370506\n",
      "dW                  \t\t0.48759\n",
      "target_period_excitation\t\t-0.709303\n",
      "hW                  \t\t-0.0822871\n",
      "vW                  \t\t-0.880882\n",
      "pro_rule_strength   \t\t0.176699\n",
      "constant_excitation \t\t-0.790764\n",
      "overrideDict was Dict()\n",
      "You selected file MiniFarms/farm_C17_Farms024_0453.jld\n",
      "anti_rule_strength  \t\t0.14902\n",
      "right_light_excitation\t\t0.517539\n",
      "sW                  \t\t1.90388\n",
      "sigma               \t\t-0.00219335\n",
      "opto_strength       \t\t0.893178\n",
      "const_pro_bias      \t\t0.0439513\n",
      "dW                  \t\t0.251438\n",
      "target_period_excitation\t\t-0.445429\n",
      "hW                  \t\t-0.232844\n",
      "vW                  \t\t-0.218031\n",
      "pro_rule_strength   \t\t0.109863\n",
      "constant_excitation \t\t-0.757036\n",
      "overrideDict was Dict()\n",
      "You selected file MiniFarms/farm_C17_Farms025_0081.jld\n",
      "anti_rule_strength  \t\t0.0342025\n",
      "right_light_excitation\t\t0.250298\n",
      "sW                  \t\t2.2199\n",
      "sigma               \t\t0.000443137\n",
      "opto_strength       \t\t0.981735\n",
      "const_pro_bias      \t\t-0.0816504\n",
      "dW                  \t\t-0.0454557\n",
      "target_period_excitation\t\t-0.516352\n",
      "hW                  \t\t-0.274218\n",
      "vW                  \t\t-0.440257\n",
      "pro_rule_strength   \t\t0.131017\n",
      "constant_excitation \t\t-0.668771\n",
      "overrideDict was Dict()\n",
      "You selected file MiniFarms/farm_C17_Farms026_0130.jld\n",
      "PCA_highlight: Couldn't find filename MiniFarms/farm_C17_Farms026_0130.jld, returning\n",
      "anti_rule_strength  \t\t0.104255\n",
      "right_light_excitation\t\t0.378739\n",
      "sW                  \t\t2.14929\n",
      "sigma               \t\t-0.00592804\n",
      "opto_strength       \t\t0.988572\n",
      "const_pro_bias      \t\t0.049032\n",
      "dW                  \t\t0.338822\n",
      "target_period_excitation\t\t-0.66169\n",
      "hW                  \t\t0.146581\n",
      "vW                  \t\t-0.52882\n",
      "pro_rule_strength   \t\t0.0526576\n",
      "constant_excitation \t\t-0.800396\n",
      "overrideDict was Dict()\n",
      "You selected file MiniFarms/farm_C17_Farms024_0422.jld\n",
      "anti_rule_strength  \t\t0.211687\n",
      "right_light_excitation\t\t1.2999\n",
      "sW                  \t\t1.17295\n",
      "sigma               \t\t0.0425526\n",
      "opto_strength       \t\t0.723879\n",
      "const_pro_bias      \t\t0.0250308\n",
      "dW                  \t\t1.2845\n",
      "target_period_excitation\t\t-1.02611\n",
      "hW                  \t\t0.557591\n",
      "vW                  \t\t-1.02101\n",
      "pro_rule_strength   \t\t0.195221\n",
      "constant_excitation \t\t-0.836155\n",
      "overrideDict was Dict()\n",
      "You selected file MiniFarms/farm_C17_Farms024_0060.jld\n",
      "anti_rule_strength  \t\t0.0961439\n",
      "right_light_excitation\t\t0.8523\n",
      "sW                  \t\t1.54975\n",
      "sigma               \t\t-0.178334\n",
      "opto_strength       \t\t0.68132\n",
      "const_pro_bias      \t\t0.034597\n",
      "dW                  \t\t0.412415\n",
      "target_period_excitation\t\t-0.69648\n",
      "hW                  \t\t0.205765\n",
      "vW                  \t\t-0.477397\n",
      "pro_rule_strength   \t\t0.0607497\n",
      "constant_excitation \t\t-0.710829\n",
      "overrideDict was Dict()\n",
      "You selected file MiniFarms/farm_C17_Farms026_0184.jld\n",
      "anti_rule_strength  \t\t0.118679\n",
      "right_light_excitation\t\t0.786289\n",
      "sW                  \t\t1.63056\n",
      "sigma               \t\t0.150683\n",
      "opto_strength       \t\t0.690791\n",
      "const_pro_bias      \t\t0.0721076\n",
      "dW                  \t\t0.369979\n",
      "target_period_excitation\t\t-0.694839\n",
      "hW                  \t\t0.156942\n",
      "vW                  \t\t-0.546133\n",
      "pro_rule_strength   \t\t0.0347031\n",
      "constant_excitation \t\t-0.725469\n",
      "overrideDict was Dict()\n",
      "You selected file MiniFarms/farm_C17_Farms025_0335.jld\n",
      "anti_rule_strength  \t\t0.0637054\n",
      "right_light_excitation\t\t1.26202\n",
      "sW                  \t\t1.44634\n",
      "sigma               \t\t0.0246854\n",
      "opto_strength       \t\t0.728377\n",
      "const_pro_bias      \t\t5.87042e-06\n",
      "dW                  \t\t0.700291\n",
      "target_period_excitation\t\t-1.18473\n",
      "hW                  \t\t0.224166\n",
      "vW                  \t\t-0.728871\n",
      "pro_rule_strength   \t\t0.0806505\n",
      "constant_excitation \t\t-0.661713\n",
      "overrideDict was Dict()\n",
      "You selected file MiniFarms/farm_C17_Farms026_0333.jld\n",
      "anti_rule_strength  \t\t0.0621789\n",
      "right_light_excitation\t\t2.23195\n",
      "sW                  \t\t2.14914\n",
      "sigma               \t\t-0.211053\n",
      "opto_strength       \t\t0.153546\n",
      "const_pro_bias      \t\t-0.0198426\n",
      "dW                  \t\t0.428495\n",
      "target_period_excitation\t\t-1.25723\n",
      "hW                  \t\t0.208871\n",
      "vW                  \t\t-0.949669\n",
      "pro_rule_strength   \t\t0.138174\n",
      "constant_excitation \t\t-0.797335\n",
      "overrideDict was Dict()\n",
      "You selected file MiniFarms/farm_C17_Farms026_0333.jld\n",
      "anti_rule_strength  \t\t0.0621789\n",
      "right_light_excitation\t\t2.23195\n",
      "sW                  \t\t2.14914\n",
      "sigma               \t\t-0.211053\n",
      "opto_strength       \t\t0.153546\n",
      "const_pro_bias      \t\t-0.0198426\n",
      "dW                  \t\t0.428495\n",
      "target_period_excitation\t\t-1.25723\n",
      "hW                  \t\t0.208871\n",
      "vW                  \t\t-0.949669\n",
      "pro_rule_strength   \t\t0.138174\n",
      "constant_excitation \t\t-0.797335\n",
      "overrideDict was Dict()\n",
      "You selected file MiniFarms/farm_C17_Farms025_0261.jld\n",
      "anti_rule_strength  \t\t0.03078\n",
      "right_light_excitation\t\t1.80975\n",
      "sW                  \t\t1.58583\n",
      "sigma               \t\t-0.205548\n",
      "opto_strength       \t\t0.468375\n",
      "const_pro_bias      \t\t0.00617581\n",
      "dW                  \t\t0.320306\n",
      "target_period_excitation\t\t-1.26801\n",
      "hW                  \t\t0.269599\n",
      "vW                  \t\t-0.54123\n",
      "pro_rule_strength   \t\t0.0364646\n",
      "constant_excitation \t\t-0.663456\n",
      "overrideDict was Dict()\n",
      "You selected file MiniFarms/farm_C17_Farms025_0261.jld\n",
      "anti_rule_strength  \t\t0.03078\n",
      "right_light_excitation\t\t1.80975\n",
      "sW                  \t\t1.58583\n",
      "sigma               \t\t-0.205548\n",
      "opto_strength       \t\t0.468375\n",
      "const_pro_bias      \t\t0.00617581\n",
      "dW                  \t\t0.320306\n",
      "target_period_excitation\t\t-1.26801\n",
      "hW                  \t\t0.269599\n",
      "vW                  \t\t-0.54123\n",
      "pro_rule_strength   \t\t0.0364646\n",
      "constant_excitation \t\t-0.663456\n",
      "overrideDict was Dict()\n",
      "You selected file MiniFarms/farm_C17_Farms026_0156.jld\n",
      "anti_rule_strength  \t\t0.0552926\n",
      "right_light_excitation\t\t1.622\n",
      "sW                  \t\t1.41556\n",
      "sigma               \t\t0.25221\n",
      "opto_strength       \t\t0.602862\n",
      "const_pro_bias      \t\t0.0172175\n",
      "dW                  \t\t0.345364\n",
      "target_period_excitation\t\t-1.1126\n",
      "hW                  \t\t0.242653\n",
      "vW                  \t\t-0.423006\n",
      "pro_rule_strength   \t\t0.0475065\n",
      "constant_excitation \t\t-0.664082\n",
      "overrideDict was Dict()\n",
      "You selected file MiniFarms/farm_C17_Farms026_0156.jld\n",
      "anti_rule_strength  \t\t0.0552926\n",
      "right_light_excitation\t\t1.622\n",
      "sW                  \t\t1.41556\n",
      "sigma               \t\t0.25221\n",
      "opto_strength       \t\t0.602862\n",
      "const_pro_bias      \t\t0.0172175\n",
      "dW                  \t\t0.345364\n",
      "target_period_excitation\t\t-1.1126\n",
      "hW                  \t\t0.242653\n",
      "vW                  \t\t-0.423006\n",
      "pro_rule_strength   \t\t0.0475065\n",
      "constant_excitation \t\t-0.664082\n",
      "overrideDict was Dict()\n",
      "You selected file MiniFarms/farm_C17_Farms026_0156.jld\n",
      "anti_rule_strength  \t\t0.0552926\n",
      "right_light_excitation\t\t1.622\n",
      "sW                  \t\t1.41556\n",
      "sigma               \t\t0.25221\n",
      "opto_strength       \t\t0.602862\n",
      "const_pro_bias      \t\t0.0172175\n",
      "dW                  \t\t0.345364\n",
      "target_period_excitation\t\t-1.1126\n",
      "hW                  \t\t0.242653\n",
      "vW                  \t\t-0.423006\n",
      "pro_rule_strength   \t\t0.0475065\n",
      "constant_excitation \t\t-0.664082\n",
      "overrideDict was Dict()\n",
      "You selected file MiniFarms/farm_C17_Farms026_0238.jld\n",
      "anti_rule_strength  \t\t0.0624823\n",
      "right_light_excitation\t\t1.18244\n",
      "sW                  \t\t1.53116\n",
      "sigma               \t\t0.0635395\n",
      "opto_strength       \t\t0.873618\n",
      "const_pro_bias      \t\t0.0263283\n",
      "dW                  \t\t0.390565\n",
      "target_period_excitation\t\t-1.17502\n",
      "hW                  \t\t0.140046\n",
      "vW                  \t\t-0.310405\n",
      "pro_rule_strength   \t\t0.0389144\n",
      "constant_excitation \t\t-0.675555\n",
      "overrideDict was Dict()\n",
      "You selected file MiniFarms/farm_C17_Farms024_0532.jld\n",
      "anti_rule_strength  \t\t0.0862991\n",
      "right_light_excitation\t\t1.07825\n",
      "sW                  \t\t1.64947\n",
      "sigma               \t\t-0.105036\n",
      "opto_strength       \t\t0.679106\n",
      "const_pro_bias      \t\t0.0370837\n",
      "dW                  \t\t0.4668\n",
      "target_period_excitation\t\t-0.940768\n",
      "hW                  \t\t0.215833\n",
      "vW                  \t\t-0.496588\n",
      "pro_rule_strength   \t\t0.0469213\n",
      "constant_excitation \t\t-0.720064\n",
      "overrideDict was Dict()\n",
      "You selected file MiniFarms/farm_C17_Farms024_0532.jld\n",
      "anti_rule_strength  \t\t0.0862991\n",
      "right_light_excitation\t\t1.07825\n",
      "sW                  \t\t1.64947\n",
      "sigma               \t\t-0.105036\n",
      "opto_strength       \t\t0.679106\n",
      "const_pro_bias      \t\t0.0370837\n",
      "dW                  \t\t0.4668\n",
      "target_period_excitation\t\t-0.940768\n",
      "hW                  \t\t0.215833\n",
      "vW                  \t\t-0.496588\n",
      "pro_rule_strength   \t\t0.0469213\n",
      "constant_excitation \t\t-0.720064\n",
      "overrideDict was Dict()\n",
      "You selected file MiniFarms/farm_C17_Farms024_0538.jld\n",
      "Couldn't plot farm, error ErrorException(\"syntax: keyword argument is not a symbol: \\\":rule_and_delay_period\\\"\")You selected file MiniFarms/farm_C17_Farms026_0075.jld\n",
      "anti_rule_strength  \t\t0.0311901\n",
      "right_light_excitation\t\t1.42587\n",
      "sW                  \t\t1.68504\n",
      "sigma               \t\t0.0670799\n",
      "opto_strength       \t\t0.841838\n",
      "const_pro_bias      \t\t0.0170417\n",
      "dW                  \t\t0.424026\n",
      "target_period_excitation\t\t-1.37962\n",
      "hW                  \t\t0.26224\n",
      "vW                  \t\t-0.51363\n",
      "pro_rule_strength   \t\t0.0150321\n",
      "constant_excitation \t\t-0.674049\n",
      "overrideDict was Dict(:rule_and_delay_period=>1)\n",
      "You selected file MiniFarms/farm_C17_Farms026_0184.jld\n",
      "anti_rule_strength  \t\t0.118679\n",
      "right_light_excitation\t\t0.786289\n",
      "sW                  \t\t1.63056\n",
      "sigma               \t\t0.150683\n",
      "opto_strength       \t\t0.690791\n",
      "const_pro_bias      \t\t0.0721076\n",
      "dW                  \t\t0.369979\n",
      "target_period_excitation\t\t-0.694839\n",
      "hW                  \t\t0.156942\n",
      "vW                  \t\t-0.546133\n",
      "pro_rule_strength   \t\t0.0347031\n",
      "constant_excitation \t\t-0.725469\n",
      "overrideDict was Dict(:rule_and_delay_period=>1)\n",
      "You selected file MiniFarms/farm_C17_Farms025_0029.jld\n",
      "anti_rule_strength  \t\t0.0821294\n",
      "right_light_excitation\t\t0.708187\n",
      "sW                  \t\t1.4698\n",
      "sigma               \t\t0.13858\n",
      "opto_strength       \t\t0.743782\n",
      "const_pro_bias      \t\t0.0425848\n",
      "dW                  \t\t0.361235\n",
      "target_period_excitation\t\t-0.656923\n",
      "hW                  \t\t0.160714\n",
      "vW                  \t\t-0.449872\n",
      "pro_rule_strength   \t\t0.0354315\n",
      "constant_excitation \t\t-0.661158\n",
      "overrideDict was Dict(:rule_and_delay_period=>1)\n",
      "You selected file MiniFarms/farm_C17_Farms025_0034.jld\n",
      "anti_rule_strength  \t\t0.168453\n",
      "right_light_excitation\t\t1.67964\n",
      "sW                  \t\t1.51695\n",
      "sigma               \t\t0.337384\n",
      "opto_strength       \t\t0.250734\n",
      "const_pro_bias      \t\t0.0219006\n",
      "dW                  \t\t0.347359\n",
      "target_period_excitation\t\t-0.896464\n",
      "hW                  \t\t0.0968671\n",
      "vW                  \t\t-0.586818\n",
      "pro_rule_strength   \t\t0.154348\n",
      "constant_excitation \t\t-0.680871\n",
      "overrideDict was Dict(:rule_and_delay_period=>1)\n",
      "You selected file MiniFarms/farm_C17_Farms025_0390.jld\n",
      "You selected file MiniFarms/farm_C17_Farms025_0390.jld\n",
      "anti_rule_strength  \t\t0.047494\n",
      "right_light_excitation\t\t0.700862\n",
      "sW                  \t\t1.66154\n",
      "sigma               \t\t7.96196e-06\n",
      "opto_strength       \t\t0.964026\n",
      "const_pro_bias      \t\t0.0723111\n",
      "dW                  \t\t-0.280221\n",
      "target_period_excitation\t\t0.502106\n",
      "hW                  \t\t-0.816153\n",
      "vW                  \t\t-1.08266\n",
      "pro_rule_strength   \t\t0.0316047\n",
      "constant_excitation \t\t-0.380581\n",
      "overrideDict was Dict(:rule_and_delay_period=>1.2)\n",
      "anti_rule_strength  \t\t0.047494\n",
      "right_light_excitation\t\t0.700862\n",
      "sW                  \t\t1.66154\n",
      "sigma               \t\t7.96196e-06\n",
      "opto_strength       \t\t0.964026\n",
      "const_pro_bias      \t\t0.0723111\n",
      "dW                  \t\t-0.280221\n",
      "target_period_excitation\t\t0.502106\n",
      "hW                  \t\t-0.816153\n",
      "vW                  \t\t-1.08266\n",
      "pro_rule_strength   \t\t0.0316047\n",
      "constant_excitation \t\t-0.380581\n",
      "overrideDict was Dict(:rule_and_delay_period=>1.2)\n"
     ]
    }
   ],
   "source": [
    "[hBP hBA]"
   ]
  },
  {
   "cell_type": "code",
   "execution_count": 86,
   "metadata": {
    "collapsed": false
   },
   "outputs": [
    {
     "name": "stdout",
     "output_type": "stream",
     "text": [
      "anti_rule_strength  \t\t0.118424\n",
      "right_light_excitation\t\t0.441949\n",
      "sW                  \t\t2.02788\n",
      "sigma               \t\t0.00408345\n",
      "opto_strength       \t\t0.979051\n",
      "const_pro_bias      \t\t-6.46556e-05\n",
      "dW                  \t\t0.201323\n",
      "target_period_excitation\t\t-0.5608\n",
      "hW                  \t\t-0.121376\n",
      "vW                  \t\t-0.35398\n",
      "pro_rule_strength   \t\t0.121726\n",
      "constant_excitation \t\t-0.761411\n"
     ]
    },
    {
     "name": "stderr",
     "output_type": "stream",
     "text": [
      "QPixmap::scaled: Pixmap is a null pixmap\n"
     ]
    },
    {
     "data": {
      "text/plain": [
       "12-element Array{Float64,1}:\n",
       "  0.118424  \n",
       "  0.441949  \n",
       "  2.02788   \n",
       "  0.00408345\n",
       "  0.979051  \n",
       " -6.46556e-5\n",
       "  0.201323  \n",
       " -0.5608    \n",
       " -0.121376  \n",
       " -0.35398   \n",
       "  0.121726  \n",
       " -0.761411  "
      ]
     },
     "execution_count": 86,
     "metadata": {},
     "output_type": "execute_result"
    }
   ],
   "source": [
    "ppps = plot_farm(\"MiniFarms/farm_C17_Farms024_0430.jld\", testruns=800, fignum=10)"
   ]
  },
  {
   "cell_type": "code",
   "execution_count": 46,
   "metadata": {
    "collapsed": false
   },
   "outputs": [
    {
     "data": {
      "text/plain": [
       "PyObject <matplotlib.widgets.TextBox object at 0x1609152b0>"
      ]
     },
     "execution_count": 46,
     "metadata": {},
     "output_type": "execute_result"
    }
   ],
   "source": [
    "figure(5); clf();\n",
    "ax1 = subplot(2,2,1); axisMove(-0.05, 0); axisWidthChange(1.1, lock=\"l\")\n",
    "ax2 = subplot(2,2,2); axisMove(0.05, 0); axisWidthChange(0.6, lock=\"r\")\n",
    "ax3 = subplot(2,1,2); axisMove(0.05, 0)\n",
    "rad = kbMonitorModule.radio_buttons(ax1, [\"Don't plot trials\", \"Plot trials (wait for it)\"])\n",
    "tbx = kbMonitorModule.text_box(ax2, \"ntrials to run \", \"10\")\n",
    "dbx = kbMonitorModule.text_box(ax3, \"Override \", \"\")\n"
   ]
  },
  {
   "cell_type": "code",
   "execution_count": 35,
   "metadata": {
    "collapsed": false
   },
   "outputs": [
    {
     "data": {
      "text/plain": [
       "(0, 2)"
      ]
     },
     "execution_count": 35,
     "metadata": {},
     "output_type": "execute_result"
    }
   ],
   "source": [
    "axes(ax1)\n",
    "ylim(0, 2)"
   ]
  },
  {
   "cell_type": "code",
   "execution_count": null,
   "metadata": {
    "collapsed": false
   },
   "outputs": [],
   "source": []
  },
  {
   "cell_type": "code",
   "execution_count": null,
   "metadata": {
    "collapsed": false
   },
   "outputs": [],
   "source": [
    "res = farmload(\"C17\", verbose=true, farmdir=\"MiniFarms\")\n",
    "\n",
    "res[\"args\"]"
   ]
  },
  {
   "cell_type": "code",
   "execution_count": null,
   "metadata": {
    "collapsed": false
   },
   "outputs": [],
   "source": [
    "HD = histo_params(res, threshold=0.0001, fignum=1)\n",
    "remove_all_BPs(); SV = plot_SVD(user_callback=\n",
    "    (fname, PC) -> begin PCA_highlight(fname, PC); histo_highlight(fname, HD); end);"
   ]
  },
  {
   "cell_type": "code",
   "execution_count": null,
   "metadata": {
    "collapsed": false
   },
   "outputs": [],
   "source": [
    "\n",
    "load(\"MiniFarms/farm_C17_Farms024_0001.jld\", \"args\")"
   ]
  },
  {
   "cell_type": "code",
   "execution_count": null,
   "metadata": {
    "collapsed": false
   },
   "outputs": [],
   "source": [
    "include(\"general_utils.jl\")"
   ]
  },
  {
   "cell_type": "code",
   "execution_count": null,
   "metadata": {
    "collapsed": false
   },
   "outputs": [],
   "source": [
    "BP = __permanent_BP_store[1]\n",
    "BP[:buttonlist]()"
   ]
  },
  {
   "cell_type": "code",
   "execution_count": null,
   "metadata": {
    "collapsed": false
   },
   "outputs": [],
   "source": [
    "\n",
    "\"\"\"\n",
    "    make_mini_farm()\n",
    "\n",
    "Takes the C17 runs in ../Farms024, ../Farms025, and ../Farms026, which are not on git,\n",
    "and puts a small-size sumamry of them in \"MiniFarms/\". That MiniFarms directory is\n",
    "a reasonabale size for git (only 63MBytes compred to GBytes)\n",
    "\n",
    "The MiniFarms directory can be used for the C17_browser in lieu of the original farms.\n",
    "\n",
    "\"\"\"\n",
    "function make_min_farm()\n",
    "    \n",
    "    res = farmload(\"C17\", verbose=true, farmdir=[\"../Farms024\", \"../Farms025\", \"../Farms026\"])\n",
    "\n",
    "    if ~isdir(\"MiniFarms\"); mkdir(\"MiniFarms\"); end;\n",
    "\n",
    "    sdict = []; dirname=[]; filename=[]\n",
    "\n",
    "    for i in 1:length(res[\"tcost\"])    \n",
    "        mypars, extra_pars, args, pars3 = load(res[\"files\"][i], \"mypars\", \"extra_pars\", \n",
    "            \"args\", \"pars3\")\n",
    "        sdict = Dict(\"mypars\"=>mypars, \"extra_pars\"=>extra_pars, \n",
    "            \"args\"=>args, \"pars3\"=>pars3)\n",
    "        for k in keys(res)\n",
    "            if k==\"tcost\"\n",
    "                sdict[\"traj3\"] = [0 ; res[\"tcost\"][i]; 0]\n",
    "            elseif !(k==\"args\" || k==\"params\")\n",
    "                sdict[k] = res[k][i]\n",
    "            end\n",
    "        end\n",
    "\n",
    "        dirname, filename = splitdir(res[\"files\"][i]); dirname=splitdir(dirname)[2]\n",
    "\n",
    "        save(\"MiniFarms/\"*filename[1:9]*dirname*\"_\"*filename[10:end], sdict)\n",
    "        if rem(i, 20)==0\n",
    "            @printf(\"Did %d/%d\\n\", i, length(res[\"tcost\"]))\n",
    "        end\n",
    "    end\n",
    "end\n",
    "\n"
   ]
  },
  {
   "cell_type": "code",
   "execution_count": null,
   "metadata": {
    "collapsed": false
   },
   "outputs": [],
   "source": [
    "remove_all_BPs()"
   ]
  },
  {
   "cell_type": "code",
   "execution_count": null,
   "metadata": {
    "collapsed": false
   },
   "outputs": [],
   "source": [
    "histo_params(res; threshold=-0.0001, nbins=10, fignum=1)"
   ]
  },
  {
   "cell_type": "code",
   "execution_count": null,
   "metadata": {
    "collapsed": false
   },
   "outputs": [],
   "source": [
    "\n",
    "####################################################################\n",
    "#                                                                  \n",
    "#   Now use farmload() to load a summary of the farms into variable res\n",
    "#   run histo_params() on it to put histograms up on figure 1\n",
    "#\n",
    "#   Note that default for histo_params() and plot_PCA() is to use training\n",
    "#   cost (\"tcost\") not testing cost (\"cost)\n",
    "#\n",
    "####################################################################\n",
    "\n",
    "# --- Load the data, plot histograms, and show the PCA scatter\n",
    "\n",
    "# The following line \n",
    "# res = farmload(\"C17\", verbose=true, farmdir=[\"../Farms024\" \"../Farms025\" \"../Farms026\"])\n",
    "res = farmload(\"C17\", verbose=true, farmdir=\"MiniFarms\")\n",
    "\n",
    "threshold = -0.0002  # Cost below this is needed to count as a successful run \n",
    "\n",
    "histo_params(res; threshold=threshold, nbins=10, fignum=1)\n",
    "I  = find(res[\"tcost\"].<threshold)\n",
    "nI = find(res[\"tcost\"] .>= threshold)\n",
    "\n",
    "@printf(\"There were %d/%d (%.2f%%) successful runs\\n\", length(I), length(res[\"tcost\"]), \n",
    "100*length(I)/length(res[\"tcost\"]))\n",
    "\n"
   ]
  },
  {
   "cell_type": "code",
   "execution_count": null,
   "metadata": {
    "collapsed": false
   },
   "outputs": [],
   "source": [
    "figure(5); clf()\n",
    "I = find(res[\"cost\"].<0.0001)\n",
    "subplot(1,2,1); plot(res[\"tcost\"][I,:], res[\"cost\"][I,:], \"b.\")\n",
    "subplot(1,2,2); plt[:hist](res[\"cost\"][I,:]-res[\"tcost\"][I,:]);\n",
    "\n",
    "cla();\n",
    "plt[:hist](res[\"cost\"][I,:]', 40);\n",
    "size(I)"
   ]
  },
  {
   "cell_type": "code",
   "execution_count": null,
   "metadata": {
    "collapsed": false
   },
   "outputs": [],
   "source": [
    "\n",
    "####################################################################\n",
    "#                                                                  \n",
    "#   MAIN DATA BROWSER FUNCTION\n",
    "#\n",
    "####################################################################\n",
    "\n",
    "\n",
    "global BP = []    # Declare this outside so the BP variable is available outside the function\n",
    "\n",
    "\"\"\"\n",
    "    restart_figure2(res ; testruns=20)\n",
    "\n",
    "Given a variable res containing a summary of farm runs (as produced by farmload()), \n",
    "puts up a plot of run paramaters in the first four PCs, and makes it clickable:\n",
    "clicking on any of the points in the PCA space will brung up testrun individual new runs\n",
    "using plot_farm() in figure 3.\n",
    "\n",
    "\"\"\"\n",
    "function restart_figure2(res ; testruns=20, use_all_runs_for_PCA=false)\n",
    "    # First put up the PCA plot\n",
    "    C, V, D, Vparams, I, nI  = plot_PCA(res; threshold=threshold,\n",
    "        use_all_runs_for_PCA=use_all_runs_for_PCA,\n",
    "        pc_offset=0, plot_unsuccessful=false, fignum=2);\n",
    "\n",
    "    files = res[\"files\"]\n",
    "    mu = mean(res[\"params\"],1)\n",
    "    sd = std( res[\"params\"],1)\n",
    "\n",
    "\n",
    "    # Set up initial blue, green, and magenta dots; as the user clicks\n",
    "    # the will follow along\n",
    "    hs = []; \n",
    "    figure(2)\n",
    "    ax1 = subplot(2,2,1); hs = [hs ; [plot(0, 0, \"b.\") plot(0, 0, \"g.\") plot(0, 0, \"m.\")]]\n",
    "    ax2 = subplot(2,2,2); hs = [hs ; [plot(0, 0, \"b.\") plot(0, 0, \"g.\") plot(0, 0, \"m.\")]]\n",
    "    ax3 = subplot(2,2,3); hs = [hs ; [plot(0, 0, \"b.\") plot(0, 0, \"g.\") plot(0, 0, \"m.\")]]\n",
    "    ax4 = subplot(2,2,4); hs = [hs ; [plot(0, 0, \"b.\") plot(0, 0, \"g.\") plot(0, 0, \"m.\")]]\n",
    "\n",
    "\n",
    "    # Now the function that will get called after every key press or button press in the PCA\n",
    "    # figure\n",
    "    function event_callback()\n",
    "        # Get the list of button presses in the figure:\n",
    "        bpe = BP[:buttonlist]()\n",
    "        # Remove any leading buttonpresses that were not within axes:\n",
    "        while length(bpe)>0 && bpe[1][1] == nothing\n",
    "            bpe = bpe[2:end]\n",
    "        end\n",
    "        # If there are any remaining button presses, deal with them:\n",
    "        if length(bpe)>0        \n",
    "\n",
    "            # We know which axes go with which principal components from knowing how\n",
    "            # plot_PCA is written-- but it would be better if we didn't have to know\n",
    "            # that in order to write this function:\n",
    "            #  J will be a list of squared distances to points on the clicked axis\n",
    "            if bpe[1][1]==ax1\n",
    "                J = (Vparams[I,end]   - bpe[1][2]).^2 + (Vparams[I,end-2] - bpe[1][3]).^2            \n",
    "            elseif bpe[1][1]==ax2\n",
    "                J = (Vparams[I,end-1] - bpe[1][2]).^2 + (Vparams[I,end-3] - bpe[1][3]).^2\n",
    "            elseif bpe[1][1]==ax3\n",
    "                J = (Vparams[I,end]   - bpe[1][2]).^2 + (Vparams[I,end-1] - bpe[1][3]).^2\n",
    "            elseif bpe[1][1]==ax4\n",
    "                J = (Vparams[I,end-2] - bpe[1][2]).^2 + (Vparams[I,end-3] - bpe[1][3]).^2\n",
    "            else\n",
    "                error(\"Which axes did this buttonpress come from???\")\n",
    "            end\n",
    "            # We're going to go to the red point closest to the clicked position\n",
    "            idx = indmin(J)\n",
    "\n",
    "            @printf(\"---- FILE %s: -----\\n\", files[I[idx]])\n",
    "            pars = plot_farm(files[I[idx]], testruns=testruns, fignum=3)\n",
    "            # pars = load(files[I[idx]], \"pars3\")\n",
    "            pars = (pars-mu')./sd'\n",
    "            vpars = inv(V)*pars\n",
    "            # print(\"\\n\"); print(vpars); print(\"\\n\")\n",
    "\n",
    "            # The dot in column 3 will get the coords of the dot in column 2;\n",
    "            # the dot on column 2 will get the coords of the dot in column 1.\n",
    "            for row=1:4\n",
    "                for from=2:-1:1\n",
    "                    to = from+1\n",
    "                    hs[row,to][:set_xdata](hs[row,from][:get_xdata]())\n",
    "                    hs[row,to][:set_ydata](hs[row,from][:get_ydata]())\n",
    "                end\n",
    "            end\n",
    "\n",
    "            # And then the dot in column 1 gets the coords of the red dot closestto the clicked point:\n",
    "            hs[1,1][:set_xdata](vpars[end  ]); hs[1,1][:set_ydata](vpars[end-2])\n",
    "            hs[2,1][:set_xdata](vpars[end-1]); hs[2,1][:set_ydata](vpars[end-3])\n",
    "            hs[3,1][:set_xdata](vpars[end  ]); hs[3,1][:set_ydata](vpars[end-1])\n",
    "            hs[4,1][:set_xdata](vpars[end-2]); hs[4,1][:set_ydata](vpars[end-3])\n",
    "\n",
    "            # If we just sorted out a button press on figure 2, (e.g., ran plot_farm()\n",
    "            # onto figure 3), now make sure figure 2 \n",
    "            # is the current figure again after having dealt with the button press:\n",
    "            figure(2)\n",
    "        end\n",
    "        # Clear the button press list after we have dealt with it:\n",
    "        BP[:clear_buttonlist]()\n",
    "    end\n",
    "\n",
    "    # When we are first run, set up the button press monitor:\n",
    "    global BP = kbMonitorModule.kb_monitor(figure(2), callback=event_callback)\n",
    "    legend(hs[4,1:3], [\"current\", \"1 ago\", \"2 ago\"])\n",
    "end\n",
    "\n",
    "# Bring up PCA plot in figure 2 and make it clickable:\n",
    "restart_figure2(res)\n",
    "\n",
    "\n",
    "@printf(\"\\n\\nClicking on any red dot in figure 2 will bring up 20 trials of the\\n\")\n",
    "@printf(\"corresponding run on figure 3.\\n\\n\")\n",
    "@printf(\"The blue dot is the current farm displayed; green is one click ago;\\n\")\n",
    "@printf(\"and magenta is two clicks ago.\\n\\n\")"
   ]
  },
  {
   "cell_type": "code",
   "execution_count": null,
   "metadata": {
    "collapsed": false
   },
   "outputs": [],
   "source": [
    "restart_figure2(res, use_all_runs_for_PCA=true)"
   ]
  },
  {
   "cell_type": "code",
   "execution_count": null,
   "metadata": {
    "collapsed": true
   },
   "outputs": [],
   "source": []
  },
  {
   "cell_type": "code",
   "execution_count": null,
   "metadata": {
    "collapsed": false
   },
   "outputs": [],
   "source": [
    "pars = plot_farm(\"MiniFarms/farm_C17_Farms024_0001.jld\", testruns=20, fignum=3)"
   ]
  },
  {
   "cell_type": "code",
   "execution_count": null,
   "metadata": {
    "collapsed": true
   },
   "outputs": [],
   "source": []
  },
  {
   "cell_type": "code",
   "execution_count": null,
   "metadata": {
    "collapsed": true
   },
   "outputs": [],
   "source": []
  },
  {
   "cell_type": "code",
   "execution_count": null,
   "metadata": {
    "collapsed": true
   },
   "outputs": [],
   "source": []
  },
  {
   "cell_type": "code",
   "execution_count": null,
   "metadata": {
    "collapsed": false
   },
   "outputs": [],
   "source": [
    "I = find(res[\"tcost\"].<-0.0002)\n",
    "files = res[\"files\"][I,:]\n",
    "\n",
    "mu = mean(res[\"params\"],1)\n",
    "sd = std( res[\"params\"],1)\n",
    "\n",
    "apars = copy(res[\"params\"][I,:])\n",
    "apars = apars - ones(size(apars,1),1)*mu\n",
    "apars = apars ./ (ones(size(apars,1))*sd)\n",
    "avpars = (inv(V)*apars')'\n",
    "\n",
    "P = sortperm(avpars[:,end])\n",
    "1"
   ]
  },
  {
   "cell_type": "code",
   "execution_count": null,
   "metadata": {
    "collapsed": false
   },
   "outputs": [],
   "source": [
    "I = find(res[\"tcost\"].<-0.0002)\n",
    "files = res[\"files\"][I,:]\n",
    "\n",
    "mu = mean(res[\"params\"],1)\n",
    "sd = std( res[\"params\"],1)\n",
    "\n",
    "apars = copy(res[\"params\"][I,:])\n",
    "apars = apars - ones(size(apars,1),1)*mu\n",
    "apars = apars ./ (ones(size(apars,1))*sd)\n",
    "avpars = (inv(V)*apars')'\n",
    "\n",
    "P = sortperm(avpars[:,end])\n",
    "\n",
    "for k=1:5:length(P)\n",
    "\n",
    "    @printf(\"---- FILE %s: -----\\n\", files[P[k]])\n",
    "    pars = plot_farm(files[P[k]], testruns=20, fignum=3)\n",
    "    pars = (pars-mu')./sd'\n",
    "    vpars = inv(V)*pars\n",
    "    \n",
    "    hs = []\n",
    "    figure(2)\n",
    "    subplot(2,2,1); hs = [hs ; plot(vpars[end], vpars[end-2], \"b.\")]\n",
    "    subplot(2,2,3); hs = [hs ; plot(vpars[end], vpars[end-1], \"b.\")]\n",
    "    subplot(2,2,2); hs = [hs ; plot(vpars[end-1], vpars[end-3], \"b.\")]\n",
    "    subplot(2,2,4); hs = [hs ; plot(vpars[end-2], vpars[end-3], \"b.\")]\n",
    "    \n",
    "    ans = chomp(readline())\n",
    "    if startswith(ans, \"q\") || startswith(ans, \"Q\")\n",
    "        for ii in hs; ii[:remove](); end\n",
    "        break\n",
    "    end\n",
    "\n",
    "    for ii in hs; ii[:remove](); end        \n",
    "end\n",
    "\n",
    "\n",
    "# h = plot(0, -0.1, \"b.\")\n",
    "\n",
    "# Ls = gca()[:lines]\n",
    "# h[1][:remove]()"
   ]
  },
  {
   "cell_type": "code",
   "execution_count": null,
   "metadata": {
    "collapsed": false
   },
   "outputs": [],
   "source": [
    "PyCall.pyversion"
   ]
  },
  {
   "cell_type": "code",
   "execution_count": null,
   "metadata": {
    "collapsed": false
   },
   "outputs": [],
   "source": [
    "BP = myModule.kb_monitor(figure(2))"
   ]
  },
  {
   "cell_type": "code",
   "execution_count": null,
   "metadata": {
    "collapsed": false
   },
   "outputs": [],
   "source": [
    "hs = plot(0, 0, \"b.\")"
   ]
  },
  {
   "cell_type": "code",
   "execution_count": null,
   "metadata": {
    "collapsed": false
   },
   "outputs": [],
   "source": [
    "BP[:clear_buttonlist]()"
   ]
  },
  {
   "cell_type": "code",
   "execution_count": null,
   "metadata": {
    "collapsed": false
   },
   "outputs": [],
   "source": [
    "for i in hs; i[:set_color](\"y\"); end\n",
    "figure(2)[:canvas][:draw]()"
   ]
  },
  {
   "cell_type": "code",
   "execution_count": null,
   "metadata": {
    "collapsed": false
   },
   "outputs": [],
   "source": [
    "PyPlot.show()"
   ]
  },
  {
   "cell_type": "code",
   "execution_count": null,
   "metadata": {
    "collapsed": false
   },
   "outputs": [],
   "source": [
    "files = selectize(res, find(res[\"tcost\"].<-0.0002))[\"files\"]\n",
    "\n",
    "for f in files\n",
    "    plot_farm(f, testruns=200)\n",
    "    \n",
    "    ans = chomp(readline())\n",
    "    if startswith(ans, \"q\") || startswith(ans, \"Q\")\n",
    "        break\n",
    "    end\n",
    "end\n"
   ]
  },
  {
   "cell_type": "code",
   "execution_count": null,
   "metadata": {
    "collapsed": false
   },
   "outputs": [],
   "source": []
  },
  {
   "cell_type": "code",
   "execution_count": null,
   "metadata": {
    "collapsed": false
   },
   "outputs": [],
   "source": []
  },
  {
   "cell_type": "code",
   "execution_count": null,
   "metadata": {
    "collapsed": false
   },
   "outputs": [],
   "source": [
    "f = \"farm_C17_0032.jld\"\n",
    "root = f[1:end-8]"
   ]
  },
  {
   "cell_type": "markdown",
   "metadata": {},
   "source": [
    "## Look at individual trials"
   ]
  },
  {
   "cell_type": "code",
   "execution_count": null,
   "metadata": {
    "collapsed": false
   },
   "outputs": [],
   "source": []
  },
  {
   "cell_type": "code",
   "execution_count": null,
   "metadata": {
    "collapsed": false
   },
   "outputs": [],
   "source": []
  },
  {
   "cell_type": "code",
   "execution_count": null,
   "metadata": {
    "collapsed": false
   },
   "outputs": [],
   "source": [
    "args = res[\"args\"]\n",
    "I= find((res[\"tcost\"].<-0.0002))\n",
    "res[\"files\"][I]"
   ]
  },
  {
   "cell_type": "code",
   "execution_count": 83,
   "metadata": {
    "collapsed": false
   },
   "outputs": [
    {
     "name": "stdout",
     "output_type": "stream",
     "text": [
      "Opto condition # 1\n",
      "     - 1 - cost=-0.00014407, cost1=6.12756e-05, cost2=-0.000205346\n",
      "     - 1 - mean(hitsP)=0.896437, mean(diffsP)=0.988445 mean(hitsA)=0.71884, mean(diffsA)=0.243629\n",
      "Opto condition # 2\n",
      "     - 2 - cost=-0.000130244, cost1=7.14198e-06, cost2=-0.000137386\n",
      "     - 2 - mean(hitsP)=0.845757, mean(diffsP)=0.799782 mean(hitsA)=0.495015, mean(diffsA)=0.0245355\n",
      "Opto condition # 3\n",
      "     - 3 - cost=-0.000196253, cost1=4.38879e-06, cost2=-0.000200642\n",
      "     - 3 - mean(hitsP)=0.896813, mean(diffsP)=0.98876 mean(hitsA)=0.695978, mean(diffsA)=0.215094\n",
      "OVERALL\n",
      "     -- cost=-0.000156856, cost1=2.42688e-05, cost2=-0.000181125\n"
     ]
    },
    {
     "data": {
      "text/plain": [
       "(-0.0001568559338562538, [0.000183827 0.0 0.0; 2.14259e-5 0.0 0.0; 1.31664e-5 0.0 0.0], [-0.000616037 0.0 0.0; -0.000412159 0.0 0.0; -0.000601927 0.0 0.0], [0.896437; 0.845757; 0.896813], [0.71884; 0.495015; 0.695978], [0.988445; 0.799782; 0.98876], [0.243629; 0.0245355; 0.215094], [0.89875; 0.87; 0.895], [0.58; 0.09875; 0.53875])"
      ]
     },
     "execution_count": 83,
     "metadata": {},
     "output_type": "execute_result"
    }
   ],
   "source": [
    "testruns=800\n",
    "mypars, extra_pars, args, pars3 = load(\"MiniFarms/farm_C17_Farms024_0430.jld\", \"mypars\", \"extra_pars\", \"args\", \"pars3\")\n",
    "\n",
    "cost, cost1s, cost2s, hP, hA, dP, dA, hBP, hBA = JJ(testruns, testruns; verbose=false, \n",
    "    make_dict(args, pars3, merge(merge(mypars, extra_pars)))...)"
   ]
  },
  {
   "cell_type": "code",
   "execution_count": null,
   "metadata": {
    "collapsed": false
   },
   "outputs": [],
   "source": [
    "pygui(true)\n",
    "figure(1); clf();\n",
    "figure(2); clf();\n",
    "\n",
    "these_pars = merge(mypars, extra_pars);\n",
    "these_pars = merge(these_pars, Dict(\n",
    "# :opto_strength=>0.3, \n",
    ":opto_times=>reshape(extra_pars[:opto_periods][2,:], 1, 2),\n",
    "# :opto_times=>[\"target_start-0.4\" \"target_start\"],\n",
    "# :opto_times=>[\"target_start\" \"target_end\"],\n",
    ":post_target_period=>0.3,\n",
    ":rule_and_delay_period=>1.2,\n",
    ":dt=>0.005,\n",
    "))\n",
    "delete!(these_pars, :plot_list)\n",
    "\n",
    "override = Dict(\n",
    "# :sigma=>0.02,\n",
    ")\n",
    "\n",
    "proVs, antiVs = run_ntrials(20, 20; plot_list=[1:20;], plot_Us=false, \n",
    "    merge(make_dict(args, pars3, these_pars), override)...);\n",
    "hBP = length(find(proVs[1,:]  .> proVs[4,:])) /size(proVs, 2)\n",
    "hBA = length(find(antiVs[4,:] .> antiVs[1,:]))/size(antiVs,2)\n",
    "@printf(\"hBP=%.2f%%, hBA=%.2f%%\\n\", 100*hBP, 100*hBA)\n",
    "\n",
    "figure(1); subplot(2,1,1)\n",
    "title(@sprintf(\"PRO hits = %.2f%%\", 100*hBP))\n",
    "figure(2); subplot(2,1,1)\n",
    "title(@sprintf(\"ANTI hits = %.2f%%\", 100*hBA))\n",
    "\n",
    "[args pars3]"
   ]
  },
  {
   "cell_type": "code",
   "execution_count": null,
   "metadata": {
    "collapsed": false
   },
   "outputs": [],
   "source": [
    "pygui(true)\n",
    "figure(1); clf();\n",
    "figure(2); clf();\n",
    "\n",
    "these_pars = merge(mypars, extra_pars);\n",
    "these_pars = merge(these_pars, Dict(\n",
    "# :opto_strength=>0.3, \n",
    ":opto_times=>reshape(extra_pars[:opto_periods][2,:], 1, 2),\n",
    "# :opto_times=>[\"target_start-0.4\" \"target_start\"],\n",
    "# :opto_times=>[\"target_start\" \"target_end\"],\n",
    ":post_target_period=>0.3,\n",
    ":rule_and_delay_period=>1.2,\n",
    ":dt=>0.005,\n",
    "))\n",
    "delete!(these_pars, :plot_list)\n",
    "\n",
    "override = Dict(\n",
    "# :sigma=>0.02,\n",
    ")\n",
    "\n",
    "proVs, antiVs = run_ntrials(100, 100; plot_list=[1:20;], plot_Us=false, \n",
    "    merge(make_dict(args, pars3, these_pars), override)...);\n",
    "hBP = length(find(proVs[1,:]  .> proVs[4,:])) /size(proVs, 2)\n",
    "hBA = length(find(antiVs[4,:] .> antiVs[1,:]))/size(antiVs,2)\n",
    "@printf(\"hBP=%.2f%%, hBA=%.2f%%\\n\", 100*hBP, 100*hBA)\n",
    "\n",
    "figure(1); subplot(2,1,1)\n",
    "title(@sprintf(\"PRO hits = %.2f%%\", 100*hBP))\n",
    "figure(2); subplot(2,1,1)\n",
    "title(@sprintf(\"ANTI hits = %.2f%%\", 100*hBA))\n"
   ]
  },
  {
   "cell_type": "code",
   "execution_count": null,
   "metadata": {
    "collapsed": true
   },
   "outputs": [],
   "source": []
  },
  {
   "cell_type": "code",
   "execution_count": null,
   "metadata": {
    "collapsed": false
   },
   "outputs": [],
   "source": [
    "clf();\n",
    "ax = gca();\n",
    "axisHeightChange(0.5, ax=ax, lock=\"b\")"
   ]
  },
  {
   "cell_type": "code",
   "execution_count": null,
   "metadata": {
    "collapsed": false
   },
   "outputs": [],
   "source": [
    "for k in keys(ax)\n",
    "    print(k); print(\"\\n\")\n",
    "end\n"
   ]
  },
  {
   "cell_type": "code",
   "execution_count": null,
   "metadata": {
    "collapsed": false
   },
   "outputs": [],
   "source": [
    "ax[:set_position]([0.1, 0.1, 0.1, 0.1])\n",
    "b = ax[:get_position]()[:bounds]\n"
   ]
  },
  {
   "cell_type": "code",
   "execution_count": null,
   "metadata": {
    "collapsed": false
   },
   "outputs": [],
   "source": [
    "figure(2); clf()\n",
    "\n",
    "using StatsBase\n",
    "\n",
    "x = -0.001:0.000001:maximum(tcost)\n",
    "\n",
    "h1 = fit(Histogram, tcost[:,1], x, closed=:right)\n",
    "\n",
    "plot(x, [0 ; cumsum(h1.weights)]/sum(h1.weights), \"b-\")\n",
    "\n",
    "xlabel(\"Training cost\")\n",
    "ylabel(\"fraction of runs\")\n"
   ]
  },
  {
   "cell_type": "code",
   "execution_count": null,
   "metadata": {
    "collapsed": false
   },
   "outputs": [],
   "source": [
    "find(tcost.<-0.00015)"
   ]
  },
  {
   "cell_type": "code",
   "execution_count": null,
   "metadata": {
    "collapsed": false
   },
   "outputs": [],
   "source": [
    "# farm_id = \"C11\"; farmdir = \"../NewFarms\"\n",
    "\n",
    "\"\"\"\n",
    "    results, files, tcosts, qu_outs, sigmas, target_excites = lookem(;farm_id=\"C11\", farmdir=\"../NewFarms\")\n",
    "\"\"\"\n",
    "function lookem(;farm_id=\"C11\", farmdir=\"../NewFarms\")\n",
    "    results = zeros(0,2); files =[]; qu_outs=[]; sigmas=[]; target_excites=[]; tcosts=[];\n",
    "    for f in filter(x -> startswith(x, \"farm_\" * farm_id * \"_\"), readdir(farmdir * \"/\"))\n",
    "        d = load(farmdir * \"/\" * f)\n",
    "        if !haskey(d, \"qu_out\"); d[\"qu_out\"] = [0 0]; end;\n",
    "        traj3 = d[\"traj3\"]; qu_out = d[\"qu_out\"]\n",
    "        @printf(\"%s : sigma=%.3f, q=%.1f, %g\\n\", f, d[\"pars3\"][7], qu_out[1], traj3[2,end])\n",
    "        results = [results ; qu_out[1] traj3[2,end]]\n",
    "        files = [files ; f]\n",
    "        qu_outs = [qu_outs ; d[\"qu_out\"][1]]\n",
    "        sigmas  = [sigmas ; d[\"pars3\"][7]]\n",
    "        target_excites = [target_excites ; d[\"pars3\"][2]]\n",
    "        tcosts  = [tcosts ; traj3[2,end]]\n",
    "    end\n",
    "    return results, files, tcosts, qu_outs, sigmas, target_excites\n",
    "end\n",
    "\n",
    "res14 = lookem(farm_id=\"C14\")"
   ]
  },
  {
   "cell_type": "code",
   "execution_count": null,
   "metadata": {
    "collapsed": false
   },
   "outputs": [],
   "source": [
    "[args pars3]"
   ]
  },
  {
   "cell_type": "code",
   "execution_count": null,
   "metadata": {
    "collapsed": false
   },
   "outputs": [],
   "source": [
    "find(res[:,2].<-0.0002)"
   ]
  },
  {
   "cell_type": "code",
   "execution_count": null,
   "metadata": {
    "collapsed": false
   },
   "outputs": [],
   "source": [
    "res[res[:,2].<-0.0002,:]"
   ]
  },
  {
   "cell_type": "markdown",
   "metadata": {},
   "source": [
    "# Looking at individual trials of individual farms"
   ]
  },
  {
   "cell_type": "code",
   "execution_count": null,
   "metadata": {
    "collapsed": false
   },
   "outputs": [],
   "source": [
    "res16 = farmload(\"C16\")\n",
    "res16[\"params\"][:,5]\n",
    "\n",
    "threshold = -0.0002;\n",
    "I = find(res16[\"tcost\"].<threshold)\n",
    "N = length(res16[\"tcost\"])\n",
    "@printf(\"You get %d/%d (%.2f%%) runs at training cost < %g\\n\", length(I), N, 100*length(I)/N, threshold)"
   ]
  },
  {
   "cell_type": "code",
   "execution_count": null,
   "metadata": {
    "collapsed": false
   },
   "outputs": [],
   "source": [
    "res16[\"args\"]"
   ]
  },
  {
   "cell_type": "code",
   "execution_count": null,
   "metadata": {
    "collapsed": false
   },
   "outputs": [],
   "source": [
    "I= find((res16[\"tcost\"].<-0.0002) .& (res16[\"params\"][:,5].<1) .& (res16[\"params\"][:,1].>0) .& (res16[\"params\"][:,11].>0))\n",
    "res16[\"files\"][I]"
   ]
  },
  {
   "cell_type": "code",
   "execution_count": null,
   "metadata": {
    "collapsed": false
   },
   "outputs": [],
   "source": [
    "testruns=10\n",
    "mypars, extra_pars, args, pars3 = load(\"../NewFarms/farm_C16_0175.jld\", \"mypars\", \"extra_pars\", \"args\", \"pars3\")\n",
    "\n",
    "cost, cost1s, cost2s, hP, hA, dP, dA, hBP, hBA = JJ(testruns, testruns; verbose=false, \n",
    "    make_dict(args, pars3, merge(merge(mypars, extra_pars)))...)\n",
    "\n",
    "pygui(true)\n",
    "figure(1); clf();\n",
    "figure(2); clf();\n",
    "\n",
    "these_pars = merge(mypars, extra_pars);\n",
    "these_pars = merge(these_pars, Dict(\n",
    "# :opto_strength=>0.3, \n",
    ":opto_times=>reshape(extra_pars[:opto_periods][1,:], 1, 2),\n",
    "# :opto_times=>[\"target_start-0.4\" \"target_start\"],\n",
    "# :opto_times=>[\"target_start\" \"target_end\"],\n",
    ":post_target_period=>0.3,\n",
    ":rule_and_delay_period=>1.2,\n",
    ":dt=>0.005,\n",
    "))\n",
    "delete!(these_pars, :plot_list)\n",
    "\n",
    "override = Dict(\n",
    "# :sigma=>0.02,\n",
    ")\n",
    "\n",
    "proVs, antiVs = run_ntrials(100, 100; plot_list=[1:20;], plot_Us=false, \n",
    "    merge(make_dict(args, pars3, these_pars), override)...);\n",
    "hBP = length(find(proVs[1,:]  .> proVs[4,:])) /size(proVs, 2)\n",
    "hBA = length(find(antiVs[4,:] .> antiVs[1,:]))/size(antiVs,2)\n",
    "@printf(\"hBP=%.2f%%, hBA=%.2f%%\\n\", 100*hBP, 100*hBA)\n",
    "\n",
    "figure(1); subplot(2,1,1)\n",
    "title(@sprintf(\"PRO hits = %.2f%%\", 100*hBP))\n",
    "figure(2); subplot(2,1,1)\n",
    "title(@sprintf(\"ANTI hits = %.2f%%\", 100*hBA))\n",
    "\n",
    "[args pars3]"
   ]
  },
  {
   "cell_type": "code",
   "execution_count": null,
   "metadata": {
    "collapsed": false
   },
   "outputs": [],
   "source": [
    "pygui(true)\n",
    "figure(1); clf();\n",
    "figure(2); clf();\n",
    "\n",
    "these_pars = merge(mypars, extra_pars);\n",
    "these_pars = merge(these_pars, Dict(\n",
    "# :opto_strength=>0.3, \n",
    ":opto_times=>reshape(extra_pars[:opto_periods][2,:], 1, 2),\n",
    "# :opto_times=>[\"target_start-0.4\" \"target_start\"],\n",
    "# :opto_times=>[\"target_start\" \"target_end\"],\n",
    ":post_target_period=>0.3,\n",
    ":rule_and_delay_period=>1.2,\n",
    ":dt=>0.005,\n",
    "))\n",
    "delete!(these_pars, :plot_list)\n",
    "\n",
    "override = Dict(\n",
    "# :sigma=>0.02,\n",
    ")\n",
    "\n",
    "proVs, antiVs = run_ntrials(100, 100; plot_list=[1:20;], plot_Us=false, \n",
    "    merge(make_dict(args, pars3, these_pars), override)...);\n",
    "hBP = length(find(proVs[1,:]  .> proVs[4,:])) /size(proVs, 2)\n",
    "hBA = length(find(antiVs[4,:] .> antiVs[1,:]))/size(antiVs,2)\n",
    "@printf(\"hBP=%.2f%%, hBA=%.2f%%\\n\", 100*hBP, 100*hBA)\n",
    "\n",
    "figure(1); subplot(2,1,1)\n",
    "title(@sprintf(\"PRO hits = %.2f%%\", 100*hBP))\n",
    "figure(2); subplot(2,1,1)\n",
    "title(@sprintf(\"ANTI hits = %.2f%%\", 100*hBA))\n"
   ]
  },
  {
   "cell_type": "code",
   "execution_count": null,
   "metadata": {
    "collapsed": false
   },
   "outputs": [],
   "source": [
    "mypars[:dt]"
   ]
  },
  {
   "cell_type": "code",
   "execution_count": null,
   "metadata": {
    "collapsed": false
   },
   "outputs": [],
   "source": []
  },
  {
   "cell_type": "code",
   "execution_count": null,
   "metadata": {
    "collapsed": false
   },
   "outputs": [],
   "source": [
    "res=lookem(farm_id=\"C11\")"
   ]
  },
  {
   "cell_type": "code",
   "execution_count": null,
   "metadata": {
    "collapsed": false
   },
   "outputs": [],
   "source": [
    "load(\"../NewFarms/farm_C11_0001.jld\", \"README\")"
   ]
  },
  {
   "cell_type": "code",
   "execution_count": null,
   "metadata": {
    "collapsed": false
   },
   "outputs": [],
   "source": [
    "# farm_id = \"C11\"; farmdir = \"../NewFarms\"\n",
    "\n",
    "function lookem(;farm_id=\"C11\", farmdir=\"../NewFarms\")\n",
    "    results = zeros(0,2)\n",
    "    for f in filter(x -> startswith(x, \"farm_\" * farm_id * \"_\"), readdir(farmdir * \"/\"))\n",
    "        d = load(farmdir * \"/\" * f)\n",
    "        if !haskey(d, \"qu_out\"); d[\"qu_out\"] = [0 0]; end;\n",
    "        traj3 = d[\"traj3\"]; qu_out = d[\"qu_out\"]\n",
    "        @printf(\"%s : sigma=%.3f, q=%.1f, %g\\n\", f, d[\"pars3\"][7], qu_out[1], traj3[2,end])\n",
    "        results = [results ; qu_out[1] traj3[2,end]]\n",
    "    end\n",
    "    return results\n",
    "end\n",
    "\n",
    "res = lookem(farm_id=\"C12\")"
   ]
  },
  {
   "cell_type": "code",
   "execution_count": null,
   "metadata": {
    "collapsed": false
   },
   "outputs": [],
   "source": [
    "find(res[:,2].<-0.0001)"
   ]
  },
  {
   "cell_type": "code",
   "execution_count": null,
   "metadata": {
    "collapsed": false
   },
   "outputs": [],
   "source": [
    "load(\"../NewFarms/farm_C12_0144.jld\", \"bbox\")"
   ]
  },
  {
   "cell_type": "code",
   "execution_count": null,
   "metadata": {
    "collapsed": false
   },
   "outputs": [],
   "source": [
    "function change_farm_name(from, to; farmdir=\"../NewFarms\")\n",
    "    for f in filter(x -> startswith(x, \"farm_\" * from * \"_\"), readdir(farmdir))\n",
    "        myfrom = farmdir * \"/\" * f\n",
    "        myto   = farmdir * \"/\" * replace(f, \"_\"*from*\"_\", \"_\"*to*\"_\")\n",
    "        @printf(\"mv %s %s\\n\", myfrom, myto)\n",
    "        mv(myfrom, myto)\n",
    "    end\n",
    "end\n",
    "\n",
    "change_farm_name(\"C12\", \"C13\")\n",
    "    "
   ]
  },
  {
   "cell_type": "code",
   "execution_count": null,
   "metadata": {
    "collapsed": false
   },
   "outputs": [],
   "source": [
    "res12 = lookem(farm_id=\"C12\")"
   ]
  },
  {
   "cell_type": "code",
   "execution_count": null,
   "metadata": {
    "collapsed": false
   },
   "outputs": [],
   "source": [
    "gooders = find(res12[:,2].<-0.0002)"
   ]
  },
  {
   "cell_type": "code",
   "execution_count": null,
   "metadata": {
    "collapsed": false
   },
   "outputs": [],
   "source": [
    "# Investigate where farm C12 went outside the bounding box\n",
    "\n",
    "\n",
    "bbox = load(\"../NewFarms/farm_C13_0001.jld\", \"bbox\")\n",
    "print(bbox)\n",
    "\n"
   ]
  },
  {
   "cell_type": "code",
   "execution_count": null,
   "metadata": {
    "collapsed": false
   },
   "outputs": [],
   "source": [
    "function out_of_box(pdict, bbox)\n",
    "    outs = Dict()\n",
    "    for k in keys(bbox)\n",
    "        val = pdict[k]\n",
    "        if val <= bbox[k][1] || bbox[k][2] <= val\n",
    "            outs[k] = val\n",
    "        end\n",
    "    end\n",
    "    return outs\n",
    "end\n",
    "\n",
    "for k in find(res12[:,2].<-0.0002)\n",
    "    mynum = @sprintf(\"%d\", k); while length(mynum)<4; mynum=\"0\"*mynum; end;\n",
    "    \n",
    "    traj3, args = load(\"../NewFarms/farm_C12_\" * mynum * \".jld\", \"traj3\", \"args\") \n",
    "    @printf(\"farm_C12_%s.jld:\\n\", mynum)\n",
    "    print(out_of_box(make_dict(args, traj3[3:end,end]), bbox))\n",
    "    print(\"\\n\")\n",
    "end\n"
   ]
  },
  {
   "cell_type": "code",
   "execution_count": null,
   "metadata": {
    "collapsed": false
   },
   "outputs": [],
   "source": [
    "# Sanity check on whether we are getting results in the trajectory that matches algorithm\n",
    "# behavior\n",
    "\n",
    "ngoods = [0, 0]\n",
    "nguys  = [0, 0]\n",
    "\n",
    "farm_id = \"C6\"; farmdir = \"../NewFarms\"\n",
    "for f in filter(x -> startswith(x, \"farm_\" * farm_id * \"_\"), readdir(farmdir * \"/\"))\n",
    "    d = load(farmdir * \"/\" * f)\n",
    "    @printf(\"n=%d %s: \", d[\"ntries\"], f); \n",
    "    if d[\"ntries\"]==1\n",
    "        print(d[\"traj1\"][2,end])        \n",
    "        nguys[1] += 1\n",
    "        ngoods[1] += d[\"traj1\"][2,end] <= -0.0009 ? 1 : 0\n",
    "    else\n",
    "        print(d[\"traj3\"][2,end])\n",
    "        nguys[2] += 1\n",
    "        ngoods[2] += d[\"traj3\"][2,end] <= -0.0009 ? 1 : 0\n",
    "    end\n",
    "    @printf(\"  hBP=%.2f, hBA=%.2f dP=%.2f dA=%.2f\", d[\"hBP\"][1], d[\"hBA\"][1], \n",
    "        d[\"dP\"][1], d[\"dA\"][1])\n",
    "    @printf(\"\\n\")\n",
    "end\n",
    "\n",
    "@printf(\"\\n For ntries=1, success rate %.2f%%, for ntries=2, rate %.2f%%\\n\", 100*ngoods[1]/nguys[1], 100*ngoods[2]/nguys[2])\n",
    "\n",
    "[\"nguys\" \"ngoods\" ; [nguys ngoods]]"
   ]
  },
  {
   "cell_type": "code",
   "execution_count": null,
   "metadata": {
    "collapsed": false
   },
   "outputs": [],
   "source": [
    "# For C6:\n",
    "\n",
    "For ntries=1, success rate 100.00%, for ntries=2, rate 13.29%\n",
    "Out[84]:\n",
    "3×2 Array{Any,2}:\n",
    "    \"nguys\"     \"ngoods\"\n",
    " 111         111        \n",
    " 143          19     \n",
    "    \n",
    "    \n",
    "# For C7:\n",
    "For ntries=1, success rate 100.00%, for ntries=2, rate 10.71%\n",
    "Out[85]:\n",
    "3×2 Array{Any,2}:\n",
    "    \"nguys\"     \"ngoods\"\n",
    " 107         107        \n",
    " 140          15      "
   ]
  },
  {
   "cell_type": "code",
   "execution_count": null,
   "metadata": {
    "collapsed": false
   },
   "outputs": [],
   "source": [
    "farm_id = \"C10\"; farmdir = \"../NewFarms\"\n",
    "for f in filter(x -> startswith(x, \"farm_\" * farm_id * \"_\"), readdir(farmdir * \"/\"))\n",
    "    d = load(farmdir * \"/\" * f)\n",
    "\n",
    "    @printf(\"%s: qu_out[1]=%.2f, cost=%g\\n\", f, d[\"qu_out\"][1], d[\"traj3\"][2,end]); \n",
    "end"
   ]
  },
  {
   "cell_type": "code",
   "execution_count": null,
   "metadata": {
    "collapsed": false
   },
   "outputs": [],
   "source": [
    "pygui(true)\n",
    "figure(1); clf();\n",
    "\n",
    "myouts = copy(outs);\n",
    "maxx   = -0.0007\n",
    "\n",
    "myouts[myouts[:,1].>maxx,1] = maxx\n",
    "myouts[myouts[:,2].>maxx,2] = maxx\n",
    "\n",
    "ax1 = subplot(2,1,1);\n",
    "plt[:hist](outs[:,1]*1000,-1:0.01:maxx*1000)\n",
    "vlines(-0.95, ylim()[1], ylim()[2], color=\"r\", linestyle=\"--\")\n",
    "ylabel(\"# of runs\")\n",
    "title(\"standard minimization -- left of red dashed line is a good run\")\n",
    "remove_xtick_labels()\n",
    "\n",
    "\n",
    "ax2 = subplot(2,1,2)\n",
    "plt[:hist](outs[:,2]*1000,-1:0.01:maxx*1000)\n",
    "vlines(-0.95, ylim()[1], ylim()[2], color=\"r\", linestyle=\"--\")\n",
    "xlabel(\"Final training cost/1000\")\n",
    "ylabel(\"# of runs\")\n",
    "title(\"minimization with pre-check\")\n",
    "\n"
   ]
  },
  {
   "cell_type": "code",
   "execution_count": null,
   "metadata": {
    "collapsed": false
   },
   "outputs": [],
   "source": [
    "outs"
   ]
  },
  {
   "cell_type": "code",
   "execution_count": null,
   "metadata": {
    "collapsed": false
   },
   "outputs": [],
   "source": [
    "mypars, extra_pars, start_pars, qu_out, args, bbox = load(\"../NewFarms/farm_C10_0008.jld\", \n",
    "    \"mypars\", \"extra_pars\", \"start_pars\", \"qu_out\", \"args\", \"bbox\")\n",
    "\n",
    "\n",
    "func1 =  (;params...) -> JJ(mypars[:nPro], mypars[:nAnti]; verbose=false, \n",
    "    merge(merge(mypars, extra_pars), Dict(params))...)[1]\n",
    "    \n",
    "            \n",
    "pars3, traj3, cost3, cpm_traj3, ftraj3 = bbox_Hessian_keyword_minimization(start_pars, \n",
    "    args, bbox, func1, \n",
    "    start_eta = 0.01, tol=1e-12, \n",
    "    verbose=true, verbose_every=1, maxiter=maxiter1)\n",
    "\n"
   ]
  },
  {
   "cell_type": "code",
   "execution_count": null,
   "metadata": {
    "collapsed": false
   },
   "outputs": [],
   "source": [
    "        cost, cost1s, cost2s, hP, hA, dP, dA, hBP, hBA = JJ(10000, 10000; verbose=false, \n",
    "            make_dict(args, pars3, merge(merge(mypars, extra_pars)))...)\n",
    "        \n"
   ]
  },
  {
   "cell_type": "code",
   "execution_count": null,
   "metadata": {
    "collapsed": false
   },
   "outputs": [],
   "source": [
    "[hBP, hBA, dP, dA]'"
   ]
  },
  {
   "cell_type": "code",
   "execution_count": null,
   "metadata": {
    "collapsed": false
   },
   "outputs": [],
   "source": [
    "        cost, cost1s, cost2s, hP, hA, dP, dA, hBP, hBA = JJ(200, 200; verbose=false, \n",
    "            make_dict(args, pars3, merge(merge(mypars, extra_pars)))...)\n"
   ]
  },
  {
   "cell_type": "code",
   "execution_count": null,
   "metadata": {
    "collapsed": false
   },
   "outputs": [],
   "source": [
    "[hBP, hBA, dP, dA]'"
   ]
  },
  {
   "cell_type": "code",
   "execution_count": null,
   "metadata": {
    "collapsed": false
   },
   "outputs": [],
   "source": [
    "[0.5/sqrt(200) 0.5/sqrt(400)]"
   ]
  },
  {
   "cell_type": "code",
   "execution_count": null,
   "metadata": {
    "collapsed": false
   },
   "outputs": [],
   "source": [
    "d = load(\"../NewFarms/farm_C6_0002.jld\")\n",
    "\n",
    "mypars     = d[\"mypars\"]\n",
    "extra_pars = d[\"extra_pars\"] \n",
    "args       = d[\"args\"]\n",
    "pars1      = d[\"pars1\"]\n",
    "\n",
    "cost, cost1s, cost2s, hP, hA, dP, dA, hBP, hBA = JJ(400, 400; verbose=false, \n",
    "            make_dict(args, pars1, merge(merge(mypars, extra_pars)))...)\n"
   ]
  },
  {
   "cell_type": "code",
   "execution_count": null,
   "metadata": {
    "collapsed": false
   },
   "outputs": [],
   "source": [
    "extra_pars[:seedrand]"
   ]
  },
  {
   "cell_type": "code",
   "execution_count": null,
   "metadata": {
    "collapsed": false
   },
   "outputs": [],
   "source": [
    "~( abs(hBP[1]-0.9)<0.075 && abs(hBA[1]-0.7)<0.075 && dP[1] > 0.8 && dA[1] > 0.8)"
   ]
  },
  {
   "cell_type": "code",
   "execution_count": null,
   "metadata": {
    "collapsed": false
   },
   "outputs": [],
   "source": [
    "#@include_me  analyze_reduced_farm.jl\n",
    "\n",
    "\"\"\"\n",
    "    go_over_good_runs(files, I)\n",
    "\n",
    "Given a list of files, and a list of indices into those files, iterates over the indicated\n",
    "filenames, running show_run() on them, and then asking for user input.\n",
    "\"\"\"\n",
    "function go_over_good_runs(files, I)\n",
    "    for k=1:length(I)\n",
    "        show_run(files[I[k]])\n",
    "\n",
    "        @printf(\"Any key to continue, q to quit: \")\n",
    "        ans = chomp(readline())\n",
    "        if ans==\"q\" || ans==\"Q\"\n",
    "            break\n",
    "        end\n",
    "    end\n",
    "end\n"
   ]
  },
  {
   "cell_type": "code",
   "execution_count": null,
   "metadata": {
    "collapsed": false
   },
   "outputs": [],
   "source": [
    "go_over_good_runs(files, I)"
   ]
  },
  {
   "cell_type": "code",
   "execution_count": null,
   "metadata": {
    "collapsed": false
   },
   "outputs": [],
   "source": [
    "#@include_me analyze_reduced_farm.jl\n",
    "\n",
    "# show_run(\"farm_C3_0027.jld\", 400; opto_times=[\"trial_start\", \"trial_end\"], opto_strength=0.75)\n",
    "# show_run(\"farm_C3_0027.jld\", 400; opto_times=[\"target_start-0.5\", \"target_start\"], opto_strength=0, \n",
    "#   const_pro_bias=0, anti_rule_strength=0.05)\n",
    "show_run(\"farm_C3_0027.jld\", 400; opto_times=[\"target_start+0.016\", \"target_end\"], opto_strength=0.4, \n",
    "    const_pro_bias=0.02476, anti_rule_strength=0.054)"
   ]
  },
  {
   "cell_type": "code",
   "execution_count": null,
   "metadata": {
    "collapsed": false
   },
   "outputs": [],
   "source": [
    "#@include_me analyze_reduced_farm.jl\n",
    "\n",
    "#  TARGET PERIOD OPTO\n",
    "\n",
    "run_name = \"farm_C3_0027.jld\"\n",
    "recompute_me = false; if recompute_me\n",
    "    ostrengths = 0.5:0.1:1\n",
    "    phits      = zeros(1, length(ostrengths))\n",
    "    ahits      = zeros(1, length(ostrengths))\n",
    "\n",
    "    for i=1:length(ostrengths)\n",
    "        phits[i], ahits[i] = show_run(run_name, 4000; \n",
    "        opto_times=[\"target_start+0.016\", \"target_end+0.016\"], opto_strength=ostrengths[i])\n",
    "        @printf(\"ostrength=%g, phits=%.1f, ahits=%.1f\\n\", ostrengths[i], phits[i], ahits[i])\n",
    "    end\n",
    "\n",
    "    @save(\"Temp/opto_target.jld\", ostrengths, ahits, phits)\n",
    "else\n",
    "    ostrengths, ahits, phits = load(\"Temp/opto_target.jld\", \"ostrengths\", \"ahits\", \"phits\")\n",
    "end\n",
    "\n",
    "figure(3);clf();\n",
    "plot(ostrengths, phits[:], \".-\", ostrengths, ahits[:], \".-\")\n",
    "legend([\"pro\", \"anti\"])\n",
    "xlabel(\"opto strength\")\n",
    "ylabel(\"binarized hits\")\n",
    "title(run_name * \" : TARGET PERIOD opto\")\n",
    "grid(\"on\")\n",
    "\n",
    "\n",
    "#  DELAY PERIOD OPTO  ---------\n",
    "\n",
    "recompute_me = false; if recompute_me\n",
    "    ostrengths = 0.5:0.1:1\n",
    "    phits      = zeros(1, length(ostrengths))\n",
    "    ahits      = zeros(1, length(ostrengths))\n",
    "\n",
    "    for i=1:length(ostrengths)\n",
    "        phits[i], ahits[i] = show_run(run_name, 4000; \n",
    "        opto_times=[\"target_start-0.5\", \"target_start\"], opto_strength=ostrengths[i])\n",
    "        @printf(\"ostrength=%g, phits=%.1f, ahits=%.1f\\n\", ostrengths[i], phits[i], ahits[i])\n",
    "    end\n",
    "    @save(\"Temp/opto_delay.jld\", ostrengths, ahits, phits)\n",
    "else\n",
    "    ostrengths, ahits, phits = load(\"Temp/opto_delay.jld\", \"ostrengths\", \"ahits\", \"phits\")\n",
    "end\n",
    "\n",
    "figure(4);clf();\n",
    "plot(ostrengths, phits[:], \".-\", ostrengths, ahits[:], \".-\")\n",
    "legend([\"pro\", \"anti\"])\n",
    "xlabel(\"opto strength\")\n",
    "ylabel(\"binarized hits\")\n",
    "title(run_name * \" : last 500 ms of DELAY PERIOD opto\")\n",
    "grid(\"on\")"
   ]
  },
  {
   "cell_type": "code",
   "execution_count": null,
   "metadata": {
    "collapsed": false
   },
   "outputs": [],
   "source": []
  },
  {
   "cell_type": "markdown",
   "metadata": {},
   "source": [
    "## workspace for double_search.jl"
   ]
  },
  {
   "cell_type": "code",
   "execution_count": null,
   "metadata": {
    "collapsed": false
   },
   "outputs": [],
   "source": [
    "extra_pars[:seedrand] = 1510799260433 # Int64(round(1000*time()))   # 1510782006169 causes lin.alg error but then looks like it'll succeed\n",
    "srand(extra_pars[:seedrand])\n",
    "\n",
    "    args = []; seed = []; bbox = Dict()\n",
    "    for k in keys(search_conditions)\n",
    "        search_box = search_conditions[k][2]\n",
    "        args = [args; String(k)]\n",
    "        # --- search within the indicated search range:\n",
    "        myseed = search_conditions[k][1] + search_range*(rand()-0.5)*diff(search_box); myseed = myseed[1]\n",
    "        if myseed > search_box[2]; myseed = search_box[2]; end\n",
    "        if myseed < search_box[1]; myseed = search_box[1]; end\n",
    "        seed = [seed ;  myseed]\n",
    "        # --- No search, just start at the indicated position:\n",
    "        # seed = [seed ; search_conditions[k][1]]\n",
    "        bbox = merge(bbox, Dict(k => Array{Float64}(search_conditions[k][3])))\n",
    "    end\n",
    "    args = Array{String}(args)\n",
    "    seed = Array{Float64}(seed)\n",
    "\n",
    "\n",
    "func1 =  (;params...) -> JJ(mypars[:nPro], mypars[:nAnti]; verbose=false, \n",
    "    merge(merge(mypars, extra_pars), Dict(params))...)[1]\n",
    "\n",
    "t_pars = [0.378, 0.164, 0.001, -0.203, 0.589, -0.673, 0.105, -0.582, 0.471]\n",
    "\n",
    "pars, traj, cost, cpm_traj, ftraj = bbox_Hessian_keyword_minimization(t_pars, args, bbox, func1, \n",
    "    start_eta = 0.1, tol=1e-12, \n",
    "    verbose=true, verbose_every=1, maxiter=1000)\n"
   ]
  },
  {
   "cell_type": "code",
   "execution_count": null,
   "metadata": {
    "collapsed": false
   },
   "outputs": [],
   "source": [
    "testruns = 1600\n",
    "\n",
    "pars = [0.356712, 0.000825015, 0.0218232, -0.0364268, 0.678269, -2.97884, 0.153528, -0.484789, 1.07313]\n",
    "\n",
    "cost, cost1s, cost2s, hP, hA, dP, dA, hBP, hBA = JJ(testruns, testruns; verbose=false, \n",
    "                make_dict(args, pars, merge(merge(mypars, extra_pars)))...)\n"
   ]
  },
  {
   "cell_type": "code",
   "execution_count": null,
   "metadata": {
    "collapsed": false
   },
   "outputs": [],
   "source": [
    "G = load(\"FarmFields/farm_C4_0041.jld\")"
   ]
  },
  {
   "cell_type": "code",
   "execution_count": null,
   "metadata": {
    "collapsed": false
   },
   "outputs": [],
   "source": [
    "( abs(hBP[1]-0.9)<0.05 && abs(hBA[1]-0.7)<0.05 && dP[1] > 0.8 && dA[1] > 0.8)"
   ]
  },
  {
   "cell_type": "code",
   "execution_count": null,
   "metadata": {
    "collapsed": false
   },
   "outputs": [],
   "source": []
  },
  {
   "cell_type": "code",
   "execution_count": null,
   "metadata": {
    "collapsed": false
   },
   "outputs": [],
   "source": [
    "    args = []; seed = []; bbox = Dict()\n",
    "    for k in keys(search_conditions)\n",
    "        search_box = search_conditions[k][2]\n",
    "        args = [args; String(k)]\n",
    "        # --- search within the indicated search range:\n",
    "        myseed = search_conditions[k][1] + search_range*(rand()-0.5)*diff(search_box); myseed = myseed[1]\n",
    "        if myseed > search_box[2]; myseed = search_box[2]; end\n",
    "        if myseed < search_box[1]; myseed = search_box[1]; end\n",
    "        seed = [seed ;  myseed]\n",
    "        # --- No search, just start at the indicated position:\n",
    "        # seed = [seed ; search_conditions[k][1]]\n",
    "        bbox = merge(bbox, Dict(k => Array{Float64}(search_conditions[k][3])))\n",
    "    end\n",
    "    args = Array{String}(args)\n",
    "    seed = Array{Float64}(seed)\n",
    "\n",
    "\n",
    "    maxiter1 = 10;  # for func1, the regular search\n",
    "    maxiter2 = 20;  # for func2, the reduced search\n",
    "\n",
    "    func1 =  (;params...) -> JJ(mypars[:nPro], mypars[:nAnti]; verbose=false, \n",
    "    merge(merge(mypars, extra_pars), Dict(params))...)[1]\n",
    "    \n",
    "    # For func2:\n",
    "    extra_pars[:opto_conditions] = []    \n",
    "    extra_pars[:plot_list] = [1:10;]    \n",
    "    extra_pars[:plot_condition] = 0\n",
    "\n",
    "    func2 =  (;params...) -> new_J(10, 10; verbose=false, merge(merge(mypars, extra_pars), Dict(params))...)\n",
    "\n",
    "    # For func2:\n",
    "    # This function will get the output of new_J() at each iteration, and will return \"true\", stopping\n",
    "    # the minimization, if hBP and hBA are both above a threshold.\n",
    "    function stopping_func(;cost=0, func_out=[], ignored_extra_params...)\n",
    "        costf, dP, dA, hBP, hBA = func_out\n",
    "        return hBP[1]>=0.6 && hBA[1] >= 0.6\n",
    "    end\n",
    "\n",
    "        extra_pars[:plot_list] = []\n",
    "        cost, cost1s, cost2s, hP, hA, dP, dA, hBP, hBA = JJ(100, 100; verbose=false, \n",
    "            make_dict(args, seed, merge(merge(mypars, extra_pars)))...)\n"
   ]
  },
  {
   "cell_type": "code",
   "execution_count": null,
   "metadata": {
    "collapsed": false
   },
   "outputs": [],
   "source": [
    "dA"
   ]
  },
  {
   "cell_type": "code",
   "execution_count": null,
   "metadata": {
    "collapsed": true
   },
   "outputs": [],
   "source": []
  },
  {
   "cell_type": "code",
   "execution_count": null,
   "metadata": {
    "collapsed": false
   },
   "outputs": [],
   "source": [
    "search_conditions = Dict(   # :param    default_start   search_box  bound_box\n",
    ":vW     =>                   [mypars[:vW],                       [-0.5, 0.5],  [-3,   3]], \n",
    ":hW     =>                   [mypars[:hW],                       [-0.5, 0.5],  [-3,   3]],\n",
    ":dW     =>                   [mypars[:dW],                       [-0.5, 0.5],  [-3,   3]],\n",
    ":sW     =>                   [mypars[:sW],                       [0,    0.5],  [0,    3]],\n",
    ":sigma  =>                   [0.11,                              [0.1,  0.2],  [0.1, 0.4]],\n",
    ":constant_excitation      => [mypars[:constant_excitation],      [-1,     1],  [-2,   2]], \n",
    ":target_period_excitation => [mypars[:target_period_excitation], [0.001,0.5],  [0     4]],\n",
    ":right_light_excitation   => [mypars[:right_light_excitation],   [0.05, 0.5],  [0.05, 4]],\n",
    ":const_pro_bias           => [mypars[:const_pro_bias],           [-0.5, 0.5],  [-2,   2]],\n",
    "# :opto_strength            => [mypars[:opto_strength],            [0.7, 0.99],  [0,    1]],\n",
    ")\n",
    "\n",
    "\n",
    "\n",
    "args = []; seed = []; bbox = Dict()\n",
    "\n",
    "for k in keys(search_conditions)\n",
    "    search_box = search_conditions[k][2]\n",
    "    args = [args; String(k)]\n",
    "    # myseed = rand()*diff(search_box) + search_box[1]; myseed = myseed[1]    \n",
    "    # seed = [seed ;  myseed]    \n",
    "    seed = [seed ; search_conditions[k][1]]    \n",
    "    bbox = merge(bbox, Dict(k => Array{Float64}(search_conditions[k][3])))    \n",
    "end\n",
    "args = Array{String}(args)\n",
    "seed = Array{Float64}(seed)\n",
    "\n",
    "func =  (;params...) -> new_J(10, 10; verbose=true,  merge(merge(mypars, extra_pars), Dict(params))...)[1]\n",
    "\n",
    "pars, traj, cost, cpm_traj, ftraj = bbox_Hessian_keyword_minimization(seed, args, bbox, func, \n",
    "            start_eta = 0.1, tol=1e-12, \n",
    "            verbose=true, verbose_every=1, maxiter=1000)\n"
   ]
  },
  {
   "cell_type": "code",
   "execution_count": null,
   "metadata": {
    "collapsed": true
   },
   "outputs": [],
   "source": []
  },
  {
   "cell_type": "code",
   "execution_count": null,
   "metadata": {
    "collapsed": true
   },
   "outputs": [],
   "source": []
  },
  {
   "cell_type": "code",
   "execution_count": null,
   "metadata": {
    "collapsed": false
   },
   "outputs": [],
   "source": [
    "\n",
    "\n",
    "mypars = Dict(\n",
    ":init_add               =>          0,\n",
    ":const_add              =>          0,\n",
    ":noise                  =>          Any[],\n",
    ":input                  =>          0,\n",
    ":seedrand               =>          1510340076445,\n",
    ":start_anti             =>          [-0.5, -0.5, -0.5, -0.5],\n",
    ":start_pro              =>          [-0.5, -0.5, -0.5, -0.5],\n",
    ":rule_and_delay_period  =>          1.2,\n",
    ":rule_and_delay_periods =>          [1.2],\n",
    ":target_period          =>          0.3,\n",
    ":target_periods         =>          [0.3],\n",
    ":post_target_period     =>          0.3,\n",
    ":post_target_periods    =>          [0.3],\n",
    ":anti_rule_strength     =>          0.054,\n",
    ":U_rest                 =>          0,\n",
    ":theta                  =>          0.05,\n",
    ":beta                   =>          0.5,\n",
    ":g_leak                 =>          1,\n",
    ":nsteps                 =>          301,\n",
    ":dt                     =>          0.024,\n",
    ":tau                    =>          0.09,\n",
    ":right_light_excitation =>          0.49924152955481954,\n",
    ":opto_strength          =>          0.85,\n",
    ":opto_periods           =>          String[\n",
    "                                    \"trial_start\" \"trial_start\"; \n",
    "                                    \"trial_start\" \"trial_end\"; \n",
    "                                    \"trial_start\" \"target_start/2\"; \n",
    "                                    \"target_start/2\" \"target_start\"; \n",
    "                                    \"target_start\" \"target_end\"],\n",
    ":opto_targets          =>           [\n",
    "                                    0.9 0.7; \n",
    "                                    0.9 0.5; \n",
    "                                    0.9 0.7; \n",
    "                                    0.9 0.5; \n",
    "                                    0.9 0.7],\n",
    ":theta2 => 0.15,\n",
    ":theta1 => 0.05,\n",
    ":sigma => 0.01,\n",
    ":cbeta => 0.04,\n",
    ":sW => 0.6416875048295452,\n",
    ":hW => 0.054701836208134846,\n",
    ":dW => 0.1267124266934907,\n",
    ":vW => -1.588850577499782,\n",
    ":constant_excitation => -0.37242520737694207,\n",
    ":const_pro_bias => 0.04366897857834884,\n",
    ":target_period_excitation => 0.15315254453690974,\n",
    ":right_light_pro_extra => 0,\n",
    ":pro_rule_strength => 0.05,\n",
    ":nPro => 100,\n",
    ":nAnti => 100,\n",
    ")\n"
   ]
  },
  {
   "cell_type": "code",
   "execution_count": null,
   "metadata": {
    "collapsed": false
   },
   "outputs": [],
   "source": [
    "\n",
    "\n",
    "extra_pars = Dict(\n",
    ":plot_list        =>   [1:10;], \n",
    ":plot_condition   =>   1,\n",
    ":verbose          =>   true,\n",
    ":opto_conditions  =>   Array{Any}(0, 4),\n",
    ")\n",
    "\n",
    "\n",
    "search_conditions = Dict(   # :param    default_start   search_box  bound_box\n",
    ":vW     =>                   [mypars[:vW],                       [-0.5, 0.5],  [-3,   3]], \n",
    ":hW     =>                   [mypars[:hW],                       [-0.5, 0.5],  [-3,   3]],\n",
    ":dW     =>                   [mypars[:dW],                       [-0.5, 0.5],  [-3,   3]],\n",
    ":sW     =>                   [mypars[:sW],                       [0,    0.5],  [0,    3]],\n",
    ":sigma  =>                   [0.11,                              [0.1,  0.2],  [0.1, 0.4]],\n",
    ":constant_excitation      => [mypars[:constant_excitation],      [-1,     1],  [-2,   2]], \n",
    ":target_period_excitation => [mypars[:target_period_excitation], [0.001,0.5],  [0     4]],\n",
    ":right_light_excitation   => [mypars[:right_light_excitation],   [0.05, 0.5],  [0.05, 4]],\n",
    ":const_pro_bias           => [mypars[:const_pro_bias],           [-0.5, 0.5],  [-2,   2]],\n",
    "# :opto_strength            => [mypars[:opto_strength],            [0.7, 0.99],  [0,    1]],\n",
    ")\n",
    "\n"
   ]
  },
  {
   "cell_type": "code",
   "execution_count": null,
   "metadata": {
    "collapsed": false
   },
   "outputs": [],
   "source": [
    "a=(1, 2, 3, 4, \"5\")\n",
    "\n",
    "b,c,d,e,f = a\n",
    "f\n"
   ]
  },
  {
   "cell_type": "code",
   "execution_count": null,
   "metadata": {
    "collapsed": true
   },
   "outputs": [],
   "source": []
  },
  {
   "cell_type": "code",
   "execution_count": null,
   "metadata": {
    "collapsed": true
   },
   "outputs": [],
   "source": [
    "#@include_me interesting_minimization.jl\n",
    "\n",
    "include(\"pro_anti.jl\")"
   ]
  },
  {
   "cell_type": "code",
   "execution_count": null,
   "metadata": {
    "collapsed": false
   },
   "outputs": [],
   "source": [
    "#@include_me interesting_minimization.jl\n",
    "\n",
    "pygui(true)\n",
    "d = load(\"FarmFields/farm_C3_0005.jld\")\n",
    "mypars     = d[\"mypars\"]\n",
    "extra_pars = d[\"extra_pars\"] \n",
    "\n",
    "seed = d[\"seed\"]\n",
    "args = d[\"args\"]\n",
    "bbox = d[\"bbox\"]\n",
    "\n",
    "extra_pars[:opto_conditions] = []\n",
    "extra_pars[:plot_list] = [1:10;]\n",
    "extra_pars[:plot_condition] = 1\n",
    "\n",
    "# This function will get the output of new_J() at each iteration, and will return \"true\", stopping\n",
    "# the minimization, if hBP and hBA are both above a threshold.\n",
    "function stopping_func(;cost=0, func_out=[], ignored_extra_params...)\n",
    "    costf, dP, dA, hBP, hBA = func_out\n",
    "    return hBP[1]>=0.6 && hBA[1] >= 0.6\n",
    "end\n",
    "\n",
    "func =  (;params...) -> new_J(10, 10; verbose=true, merge(merge(mypars, extra_pars), Dict(params))...)\n",
    "\n",
    "t_pars, traj, cost, cpm_traj, ftraj = bbox_Hessian_keyword_minimization(seed, args, bbox, func, \n",
    "    stopping_function = stopping_func, \n",
    "start_eta = 0.1, tol=1e-12, verbose=true, verbose_every=1, maxiter=2000)\n"
   ]
  },
  {
   "cell_type": "code",
   "execution_count": null,
   "metadata": {
    "collapsed": false
   },
   "outputs": [],
   "source": []
  },
  {
   "cell_type": "code",
   "execution_count": null,
   "metadata": {
    "collapsed": false
   },
   "outputs": [],
   "source": [
    "t_pars = pars"
   ]
  },
  {
   "cell_type": "code",
   "execution_count": null,
   "metadata": {
    "collapsed": false
   },
   "outputs": [],
   "source": [
    "#@include_me  interesting_minimization.jl\n",
    "\n",
    "seed = t_pars\n",
    "\n",
    "func =  (;params...) -> JJ(mypars[:nPro], mypars[:nAnti]; verbose=false, \n",
    "    merge(merge(mypars, extra_pars), Dict(params))...)\n",
    "\n",
    "\n",
    "pars, traj, cost, cpm_traj, ftraj = bbox_Hessian_keyword_minimization(seed, args, bbox, func, \n",
    "    start_eta = 0.1, tol=1e-12, verbose=true, verbose_every=1, maxiter=1000)\n"
   ]
  },
  {
   "cell_type": "code",
   "execution_count": null,
   "metadata": {
    "collapsed": false
   },
   "outputs": [],
   "source": [
    "README = \"\"\"\n",
    "For the code that generated this file, see interesting_minimization.jl.\n",
    "\n",
    "The thing that is interesting, is that at the end of ths minimization, things are going VERY slowly, \n",
    "and cos theta is almost always close to 0! What is going on?  What is the landscape like around\n",
    "there? Are we really taking nicely-directed Hessian jumps?  Or is the wall screwing that up?\n",
    "\"\"\"\n",
    "\n",
    "@save \"Temp/interesting_minimization.jld\"\n"
   ]
  },
  {
   "cell_type": "code",
   "execution_count": null,
   "metadata": {
    "collapsed": false
   },
   "outputs": [],
   "source": [
    "gu = true\n",
    "\n",
    "@printf(\"gu is %s\\n\", false)"
   ]
  },
  {
   "cell_type": "code",
   "execution_count": null,
   "metadata": {
    "collapsed": false
   },
   "outputs": [],
   "source": [
    "\n",
    "\n",
    "\n",
    "fbasename = \"FarmFields/farm_C4_\"\n",
    "\n",
    "# while true\n",
    "    args = []; seed = []; bbox = Dict()\n",
    "    for k in keys(search_conditions)\n",
    "        search_box = search_conditions[k][2]\n",
    "        args = [args; String(k)]\n",
    "        myseed = rand()*diff(search_box) + search_box[1]; myseed = myseed[1]\n",
    "        seed = [seed ;  myseed]\n",
    "        # seed = [seed ; search_conditions[k][1]]\n",
    "        bbox = merge(bbox, Dict(k => Array{Float64}(search_conditions[k][3])))\n",
    "    end\n",
    "    args = Array{String}(args)\n",
    "    seed = Array{Float64}(seed)\n",
    "\n",
    "\n",
    "\n",
    "    func =  (;params...) -> new_J(10, 10; verbose=true, \n",
    "        merge(merge(mypars, extra_pars), Dict(params))...)[1]\n",
    "\n",
    "    try\n",
    "        pars, traj, cost, cpm_traj, ftraj = bbox_Hessian_keyword_minimization(seed, args, bbox, func, \n",
    "            start_eta = 0.1, tol=1e-12, \n",
    "            verbose=true, verbose_every=1, maxiter=1000)\n",
    "\n",
    "\n",
    "        cost, cost1s, cost2s, hP, hA, dP, dA, hBP, hBA = JJ(10000, 10000; verbose=false, \n",
    "        make_dict(args, pars, merge(merge(mypars, extra_pars)))...)\n",
    "\n",
    "        myfilename = next_file(fbasename, 4)\n",
    "        myfilename = myfilename*\".jld\"\n",
    "        # write file\n",
    "        save(myfilename, Dict(\"nPro\"=>mypars[:nPro], \"nAnti\"=>mypars[:nAnti], \n",
    "        \"mypars\"=>mypars, \"extra_pars\"=>extra_pars, \"args\"=>args, \"seed\"=>seed, \"bbox\"=>bbox, \n",
    "        \"pars\"=>pars, \"traj\"=>traj, \"cost\"=>cost, \"cpm_traj\"=>cpm_traj, \"ftraj\"=>ftraj,\n",
    "        \"hP\"=>hP, \"hA\"=>hA, \"dP\"=>dP, \"dA\"=>dA, \"hBP\"=>hBP, \"hBA\"=>hBA))\n",
    "    catch\n",
    "        @printf(\"\\n\\nWhoopsety, unkown error!   Trying new random seed.\\n\\n\")\n",
    "    end\n",
    "# end"
   ]
  },
  {
   "cell_type": "code",
   "execution_count": null,
   "metadata": {
    "collapsed": true
   },
   "outputs": [],
   "source": []
  },
  {
   "cell_type": "markdown",
   "metadata": {},
   "source": [
    "# Alex-style runs"
   ]
  },
  {
   "cell_type": "code",
   "execution_count": null,
   "metadata": {
    "collapsed": true
   },
   "outputs": [],
   "source": [
    "using ForwardDiff\n",
    "using DiffBase\n",
    "using MAT\n",
    "using PyPlot\n"
   ]
  },
  {
   "cell_type": "code",
   "execution_count": null,
   "metadata": {
    "collapsed": false
   },
   "outputs": [],
   "source": [
    "include(\"pro_anti.jl\")"
   ]
  },
  {
   "cell_type": "code",
   "execution_count": null,
   "metadata": {
    "collapsed": true
   },
   "outputs": [],
   "source": [
    "FarmName = \"CARLOS_TEST\"\n",
    "\n",
    "\n",
    "#Define core model parameters\n",
    "model_params = Dict(\n",
    ":dt     =>  0.002,      # Changed hyper-parameter\n",
    ":tau    =>  0.02,       # Changed hyper-parameter\n",
    ":vW     =>  -1.7, #FIT parameter\n",
    ":hW     =>  -1.7, #FIT parameter\n",
    ":sW     =>  0.2,  #FIT parameter\n",
    ":dW     =>  0,    #FIT parameter\n",
    ":nsteps =>  2, \n",
    ":noise  =>  [], \n",
    ":sigma  =>  0.08, #FIT parameter\n",
    ":input  =>  0,    #### Alex thinks this is out-dated \n",
    ":g_leak =>  1,          # Changed hyper-parameter\n",
    ":U_rest =>  0,          # Changed hyper-parameter\n",
    ":theta  =>  0.05,       # Changed hyper-parameter\n",
    ":beta   =>  0.5,        # Changed hyper-parameter \n",
    ":sw     =>  0.2,  #### Alex thinks this is out-dated\n",
    ":hw     =>  -1.7, #### Alex thinks this is out-dated\n",
    ":vw     =>  -1.7, #### Alex thinks this is out-dated\n",
    ":constant_excitation      => 0.19, #FIT  parameter\n",
    ":anti_rule_strength       => 0.05,      # Changed hyper-parameter\n",
    ":pro_rule_strength        => 0.05,      # Changed hyper-parameter\n",
    ":target_period_excitation => 1,    #FIT  parameter\n",
    ":right_light_excitation   => 0.5,  #FIT parameter\n",
    ":right_light_pro_extra    => 0,\n",
    ":const_add                => 0, \n",
    ":init_add                 => 0, \n",
    ":rule_and_delay_period    => 0.4,\n",
    ":target_period            => 0.1,\n",
    ":post_target_period       => 0.5,\n",
    ":const_pro_bias           => 0,    #FIT parameter\n",
    ":nPro                     => 100,\n",
    ":nAnti                    => 100,\n",
    ":theta1                   => 0.01,\n",
    ":theta2                   => 0.15,\n",
    ":start_pro                => [-0.5, -0.5, -0.5, -0.5],\n",
    ":start_anti               => [-0.5, -0.5, -0.5, -0.5],\n",
    ":opto_strength  => .7,             #FIT parameter\n",
    ":opto_periods   => [-1.1 -1; 0 20;0 50; 50 100; 100 20],  \n",
    "# The opto \"conditions\" correspond to the rows of opto_periods.\n",
    "# all conditions are in seconds relative to start of the trial\n",
    "# any value before 0 gets changed to 0\n",
    "# any value after the end of trial gets changed to end of trial\n",
    "# Special values allow for variable durations\n",
    "#  20 codes for \"end of trial\"\n",
    "#  -1 codes for \"start of trial\"\n",
    "# 100 codes for \"end of rule and delay period\"\n",
    "# 200 codes for \"end of target period\"\n",
    "# -------------------------------------------------------------\n",
    "# first column is frachit Pro, next column is Anti, rows are conditions\n",
    "# Actual Opto targets\n",
    "#:opto_targets   => [.75 .73;.77 .58;.75 .74; .72 .66;.73 .75] \n",
    "# Fake Targets\n",
    ":opto_targets => [.9 .7; .9 .5; .9 .7; .9 .5; .9 .7]  \n",
    ");\n",
    "\n",
    "# ======= ARGUMENTS AND SEED VALUES:\n",
    "args = [\"sW\", \"vW\", \"hW\", \"dW\", \"constant_excitation\", \"right_light_excitation\", \"target_period_excitation\", \"const_pro_bias\", \"sigma\",\"opto_strength\"];\n",
    "seed = [0.001,  -1.58,   -0.05,  0.001,    0.001,                0.6,                       0.001,                        0.0427,              0.05, .9];   \n",
    "# ======= BOUNDING BOX:\n",
    "bbox = Dict(:sW=>[0 3], :vW=>[-3 3], :hW=>[-3 3], :dW=>[-3 3], :constant_excitation=>[-2 2],\n",
    ":right_light_excitation=>[0.05 4], :target_period_excitation=>[0 4], :const_pro_bias=>[-2 2],\n",
    ":sigma=>[0.1 0.4],:opto_strength=>[0 1]);\n",
    "\n",
    "# ======== SEARCH ZONE:\n",
    "sbox = Dict(:sW=>[0 .5], :vW=>[-.5 .5], :hW=>[-.5 .5], :dW=>[-.5 .5],\n",
    ":constant_excitation=>[-.5 .5], :right_light_excitation=>[0.05 .5], :target_period_excitation=>[0.001 .5],:const_pro_bias=>[-.5 .5], :sigma=>[0.1 .2],:opto_strength=>[.7 .99]);\n",
    "\n",
    "# define a few hyper parameters\n",
    "cbetas = [4e-3];\n",
    "rule_and_delay_periods = [0.2];\n",
    "post_target_periods    = [0.05];\n",
    "num_eval_runs           = 1000;\n",
    "num_optimize_iter       = 2000;\n",
    "num_optimize_restarts   = 100;\n",
    "\n",
    "# define base filename\n",
    "fbasename = \"FarmFields/farm_\"*string(FarmName);\n",
    "\n",
    "for i=1:num_optimize_restarts   # Iterate this many optimizations\n",
    "for cb in cbetas                # Iterate over beta values, if there are multiple\n",
    "    # figure out initial seed for random number generator\n",
    "    sr = convert(Int64, round(time()))\n",
    "    srand(sr);\n",
    "\n",
    "    dista=rand();\n",
    "    println(\"dista\")\n",
    "    println(dista)\n",
    "    myseed1 = copy(seed);\n",
    "\n",
    "    # get initial parameter values by sampling from sbox\n",
    "    myseed = ForwardDiffZeros(length(args),1);\n",
    "    for j=1:length(args)\n",
    "        sym = Symbol(args[j])\n",
    "        if haskey(sbox, sym)\n",
    "#           myseed[j] = sbox[sym][1] + diff(sbox[sym],2)[1]*rand();\n",
    "            myseed[j] = dista*(sbox[sym][1] + diff(sbox[sym],2)[1]*rand())+(1-dista)*myseed1[j];\n",
    "        if myseed[j] > bbox[sym][2]\n",
    "            myseed[j] =bbox[sym][2] - 0.1;\n",
    "        elseif myseed[j] < bbox[sym][1]\n",
    "            myseed[j] =bbox[sym][1]+0.1;\n",
    "        end\n",
    "        else\n",
    "            myseed[j] = seed[j];\n",
    "        end\n",
    "    end\n",
    "\n",
    "    # define opto function with just value output\n",
    "    func =  (;params...) -> JJ(model_params[:nPro], model_params[:nAnti]; \n",
    "        rule_and_delay_periods=rule_and_delay_periods, \n",
    "        theta1=model_params[:theta1], theta2=model_params[:theta2], \n",
    "        post_target_periods=post_target_periods, seedrand=sr, cbeta=cb, \n",
    "        verbose=false, merge(model_params, Dict(params))...)[1]\n",
    "    \n",
    "    # run optimization with all parameters\n",
    "    @printf(\"Going with seed = \"); print_vector_g(myseed); print(\"\\n\")\n",
    "    pars, traj, cost, cpm_traj = bbox_Hessian_keyword_minimization(myseed, args, bbox, func, start_eta = 1, tol=1e-12, verbose=true, verbose_every=10, maxiter=num_optimize_iter)\n",
    "    @printf(\"Came out with cost %g and pars = \", cost); print_vector_g(pars); print(\"\\n\\n\")\n",
    "\n",
    "    # get gradient and hessian at end of optimization \n",
    "    value, grad, hess = keyword_vgh(func, args, pars)\n",
    "\n",
    "    # define function with all outputs, evaluate on training noise\n",
    "    t_standard_func =  (;params...) -> JJ_opto(model_params[:nPro], model_params[:nAnti]; rule_and_delay_periods=rule_and_delay_periods, theta1=model_params[:theta1], theta2=model_params[:theta2], post_target_periods=post_target_periods, seedrand=sr, cbeta=cb, verbose=false, merge(model_params, Dict(params))...)\n",
    "\n",
    "    # run opto model with all outputs, evaluate on training noise\n",
    "    t_opto_scost, t_opto_scost1, t_opto_scost2, t_opto_hitsP,t_opto_hitsA, t_opto_diffsP, t_opto_diffsA, t_opto_bP, t_opto_bA = t_standard_func(;make_dict(args, pars, model_params)...)\n",
    "    \n",
    "   ## evaluate for long form info\n",
    "    # reset random number generator for testing purposes\n",
    "    test_sr = convert(Int64, round(time()))\n",
    "    srand(test_sr); \n",
    "\n",
    "    # define function with all outputs, evaluate on test noise\n",
    "    standard_func =  (;params...) -> JJ_opto(num_eval_runs, num_eval_runs; rule_and_delay_periods=rule_and_delay_periods, theta1=model_params[:theta1], theta2=model_params[:theta2], post_target_periods=post_target_periods, seedrand=test_sr, cbeta=cb, verbose=false, merge(model_params, Dict(params))...)\n",
    "\n",
    "    # run opto model with all outputs, evaluate on test noise\n",
    "    opto_scost, opto_scost1, opto_scost2, opto_hitsP,opto_hitsA, opto_diffsP, opto_diffsA, opto_bP, opto_bA = standard_func(;make_dict(args, pars, model_params)...)\n",
    "\n",
    "   ## Save this run out to a file\n",
    "    # get filename\n",
    "    myfilename = next_file(fbasename, 4)\n",
    "    myfilename = myfilename*\".mat\"\n",
    "    # write file\n",
    "    matwrite(myfilename, Dict(\"args\"=>args, \"myseed\"=>myseed, \"pars\"=>pars, \"traj\"=>traj, \"cost\"=>cost, \"cpm_traj\"=>cpm_traj, \"nPro\"=>model_params[:nPro], \"nAnti\"=>model_params[:nAnti], \"sr\"=>sr, \"cb\"=>cb, \"theta1\"=>model_params[:theta1], \"theta2\"=>model_params[:theta2],\"value\"=>value,\"grad\"=>grad, \"hess\"=>hess, \"model_params\"=>ascii_key_ize(model_params), \"bbox\"=>ascii_key_ize(bbox), \"sbox\"=>ascii_key_ize(sbox), \"rule_and_delay_periods\"=>rule_and_delay_periods, \"post_target_periods\"=>post_target_periods, \"opto_scost\"=>opto_scost, \"opto_scost1\"=>opto_scost1, \"opto_scost2\"=>opto_scost2, \"opto_hitsP\"=>opto_hitsP, \"opto_hitsA\"=>opto_hitsA, \"opto_diffsP\"=>opto_diffsP, \"opto_diffsA\"=>opto_diffsA,\"test_sr\"=>test_sr,\"opto_bP\"=>opto_bP, \"opto_bA\"=>opto_bA, \"t_opto_scost\"=>t_opto_scost, \"t_opto_scost1\"=>t_opto_scost1, \"t_opto_scost2\"=>t_opto_scost2, \"t_opto_hitsP\"=>t_opto_hitsP, \"t_opto_hitsA\"=>t_opto_hitsA, \"t_opto_diffsP\"=>t_opto_diffsP, \"t_opto_diffsA\"=>t_opto_diffsA,\"t_opto_bP\"=>t_opto_bP, \"t_opto_bA\"=>t_opto_bA,\"dista\"=>dista  ))\n",
    "end\n",
    "end\n",
    "\n"
   ]
  },
  {
   "cell_type": "code",
   "execution_count": null,
   "metadata": {
    "collapsed": true
   },
   "outputs": [],
   "source": []
  },
  {
   "cell_type": "code",
   "execution_count": null,
   "metadata": {
    "collapsed": false,
    "scrolled": true
   },
   "outputs": [],
   "source": [
    "using HypothesisTests"
   ]
  },
  {
   "cell_type": "code",
   "execution_count": null,
   "metadata": {
    "collapsed": false
   },
   "outputs": [],
   "source": [
    "N = 20\n",
    "x = 1+0.2*randn(N,1); y = x - 0.05 + 0.1*randn(N,1);\n",
    "\n",
    "\n",
    "using PyPlot\n",
    "pygui(true)\n",
    "\n",
    "figure(1); clf();\n",
    "subplot(1,2,1)\n",
    "\n",
    "for i=1:N\n",
    "    plot([1, 2], [x[i], y[i]], \"b.-\")\n",
    "end\n",
    "\n",
    "p = pvalue(OneSampleTTest(x[:], y[:]))\n",
    "\n",
    "title(\"Paired t-test :  p<\" * @sprintf(\"%.4g\", p))\n",
    "\n",
    "\n",
    "subplot(1,2,2)\n",
    "plot(x-y, \"b.\")"
   ]
  },
  {
   "cell_type": "code",
   "execution_count": null,
   "metadata": {
    "collapsed": false
   },
   "outputs": [],
   "source": []
  },
  {
   "cell_type": "code",
   "execution_count": null,
   "metadata": {
    "collapsed": false
   },
   "outputs": [],
   "source": []
  },
  {
   "cell_type": "code",
   "execution_count": null,
   "metadata": {
    "collapsed": false
   },
   "outputs": [],
   "source": []
  },
  {
   "cell_type": "markdown",
   "metadata": {},
   "source": [
    "# Marino's model in Marino's parameter settings"
   ]
  },
  {
   "cell_type": "code",
   "execution_count": null,
   "metadata": {
    "collapsed": false
   },
   "outputs": [],
   "source": [
    "#@include_me  scaling_up_dt.jl\n",
    "\n",
    "# In its own cell so we can run it just once\n",
    "\n",
    "include(\"pro_anti.jl\")   # Loads all the necessary pre-requisites\n"
   ]
  },
  {
   "cell_type": "code",
   "execution_count": null,
   "metadata": {
    "collapsed": false
   },
   "outputs": [],
   "source": [
    "#@include_me  scaling_up_dt.jl\n",
    "\n",
    "model_params, F, nPro, nAnti = load_run(\"farm_LD0003\"; farmdir=\"goodfarms\")\n",
    "\n",
    "# mypars = merge(model_params, Dict(:post_target_periods=>0.05))\n",
    "\n",
    "cost, cost1s, cost2s, hP, hA, dP, dA, hBP, hBA, proValls, antiValls, opto_fraction, pro_input, anti_input = \n",
    "JJ(model_params[:nPro], model_params[:nAnti]; verbose=true, model_details=true, model_params...);\n",
    "\n",
    "\n",
    "epochs = [\"control\";\"full\";\"rule\";\"delay\";\"choice\"]\n",
    "titles  = [\"epochs\" \"hitP\" \"hitA\" \"diffP\" \"diffA\" \"hBP\" \"hBA\"]\n",
    "\n",
    "@printf(\"\\n\\n--- The original run:\\n\\n\")\n",
    "\n",
    "sleep(0.5)  # A pause just to make sure everything has printed out \n",
    "display([titles; epochs hP hA dP dA hBP hBA])\n"
   ]
  },
  {
   "cell_type": "code",
   "execution_count": null,
   "metadata": {
    "collapsed": false
   },
   "outputs": [],
   "source": [
    "#@include_me  scaling_up_dt.jl\n",
    "\n",
    "# Now scale things to make dt and tau are much larger, and involve 0.25 x the timesteps\n",
    "\n",
    "mypars = merge(model_params, Dict(:opto_times=>[0 0]))  # default is no opto\n",
    "\n",
    "mypars = merge(model_params, Dict(\n",
    ":dt=>0.024,\n",
    ":tau=>0.09,\n",
    ":rule_and_delay_period=>1.2,\n",
    ":target_period=>0.3,\n",
    ":post_target_period=>0.3,\n",
    ":anti_rule_strength=>0.054,\n",
    "# :post_target_period=>0.05, \n",
    "# :rule_and_delay_period=>0.8, \n",
    "# :opto_times=>[0 0],\n",
    "# :opto_times=>[\"target_start/2\" \"target_start\"],\n",
    "# :opto_times=>[\"target_start\", \"target_end\"],\n",
    ":opto_strength=>0.85,\n",
    "))# , :rule_and_delay_period=>0.8))\n",
    "\n",
    "\n",
    "mypars[:rule_and_delay_periods] = [mypars[:rule_and_delay_period]]\n",
    "mypars[:target_periods]         = [mypars[:target_period]]\n",
    "mypars[:post_target_periods]    = [mypars[:post_target_period]]\n",
    "\n",
    "mypars[:opto_periods] = [\n",
    "    \"trial_start\"     \"trial_start\"  ;\n",
    "    \"trial_start\"     \"trial_end\"    ; \n",
    "    \"trial_start\"     \"target_start/2\"  ;\n",
    "    \"target_start/2\"  \"target_start\"  ;\n",
    "    \"target_start\"    \"target_end\"\n",
    "];\n"
   ]
  },
  {
   "cell_type": "code",
   "execution_count": null,
   "metadata": {
    "collapsed": false
   },
   "outputs": [],
   "source": [
    "#@include_me  scaling_up_dt.jl\n",
    "\n",
    "# And run with these params.  \n",
    "\n",
    "# We run 1000 trials of Pro and ANti each, just to get a good estimate of probability correct in each condition\n",
    "\n",
    "mypars[:seedrand] = Int64(round(time()*1000))\n",
    "\n",
    "ntrials = 1000\n",
    "\n",
    "cost, cost1s, cost2s, hP, hA, dP, dA, hBP, hBA, proValls, antiValls, opto_fraction, pro_input, anti_input = \n",
    "JJ(ntrials, ntrials; verbose=true, model_details=true, mypars...);\n",
    "\n",
    "@printf(\"\\n\\n--- The hand-modified run at dt=0.024 at 4x fewer timesteps than the original:\\n\\n\")\n",
    "\n",
    "\n",
    "sleep(0.5)  # A pause just to make sure everything has printed out \n",
    "display([titles; epochs hP hA dP dA hBP hBA])\n"
   ]
  },
  {
   "cell_type": "code",
   "execution_count": null,
   "metadata": {
    "collapsed": false
   },
   "outputs": [],
   "source": [
    "#@include_me  scaling_up_dt.jl\n",
    "\n",
    "# Finally, display some trajectories:\n",
    "\n",
    "pygui(true)\n",
    "\n",
    "# This example is with opto during the delay\n",
    "\n",
    "mypars = merge(mypars, Dict(\n",
    "# :opto_times => [\"target_start/2\"    \"target_start\"],\n",
    ":opto_times => [0    0],\n",
    ":sigma=>0.01\n",
    "))\n",
    "\n",
    "\n",
    "proVs, antiVs, pro_fullV, anti_fullV, opto_fraction, pro_input, anti_input = run_ntrials(1000, 1000; \n",
    "    plot_list=[1:40;], profig=1, antifig=2, opto_units = 1:4, mypars...);\n",
    "\n",
    "Np = size(proVs,2); Na = size(antiVs,2)\n",
    "@printf(\"hBP = %g, hBA = %g\\n\", length(find(proVs[1,:] .>= proVs[4,:]))/Np, length(find(antiVs[4,:] .> antiVs[1,:]))/Na)\n",
    "\n",
    "@printf(\"\\n\\n\\n---\\n\\nmypars contains all the parameters for the new run with the scaled up dt, tau, etc.\\n\\n\")\n"
   ]
  },
  {
   "cell_type": "code",
   "execution_count": null,
   "metadata": {
    "collapsed": false
   },
   "outputs": [],
   "source": [
    "mypars[:dt]"
   ]
  },
  {
   "cell_type": "code",
   "execution_count": null,
   "metadata": {
    "collapsed": false
   },
   "outputs": [],
   "source": [
    "# Print out mypars in full\n",
    "@printf(\"\\n\\nmypars = Dict(\\n\")\n",
    "for (k,v) in mypars\n",
    "    @printf(\":%s => \", k); print(v); print(\",\\n\")\n",
    "end\n",
    "@printf(\")\\n\\n\")"
   ]
  },
  {
   "cell_type": "markdown",
   "metadata": {},
   "source": [
    "# Make a set of reduced nsteps params and run with them"
   ]
  },
  {
   "cell_type": "code",
   "execution_count": null,
   "metadata": {
    "collapsed": false
   },
   "outputs": [],
   "source": [
    "\n",
    "mypars = Dict(\n",
    ":init_add               =>          0,\n",
    ":const_add              =>          0,\n",
    ":noise                  =>          Any[],\n",
    ":input                  =>          0,\n",
    ":seedrand               =>          1510340076445,\n",
    ":start_anti             =>          [-0.5, -0.5, -0.5, -0.5],\n",
    ":start_pro              =>          [-0.5, -0.5, -0.5, -0.5],\n",
    ":rule_and_delay_period  =>          1.2,\n",
    ":rule_and_delay_periods =>          [1.2],\n",
    ":target_period          =>          0.3,\n",
    ":target_periods         =>          [0.3],\n",
    ":post_target_period     =>          0.3,\n",
    ":post_target_periods    =>          [0.3],\n",
    ":anti_rule_strength     =>          0.054,\n",
    ":U_rest                 =>          0,\n",
    ":theta                  =>          0.05,\n",
    ":beta                   =>          0.5,\n",
    ":g_leak                 =>          1,\n",
    ":nsteps                 =>          301,\n",
    ":dt                     =>          0.024,\n",
    ":tau                    =>          0.09,\n",
    ":right_light_excitation =>          0.49924152955481954,\n",
    ":opto_strength          =>          0.85,\n",
    ":opto_periods           =>          String[\n",
    "                                    \"trial_start\" \"trial_start\"; \n",
    "                                    \"trial_start\" \"trial_end\"; \n",
    "                                    \"trial_start\" \"target_start/2\"; \n",
    "                                    \"target_start/2\" \"target_start\"; \n",
    "                                    \"target_start\" \"target_end\"],\n",
    ":opto_targets          =>           [\n",
    "                                    0.9 0.7; \n",
    "                                    0.9 0.5; \n",
    "                                    0.9 0.7; \n",
    "                                    0.9 0.5; \n",
    "                                    0.9 0.7],\n",
    ":theta2 => 0.15,\n",
    ":theta1 => 0.05,\n",
    ":sigma => 0.01,\n",
    ":cbeta => 0.04,\n",
    ":sW => 0.6416875048295452,\n",
    ":hW => 0.054701836208134846,\n",
    ":dW => 0.1267124266934907,\n",
    ":vW => -1.588850577499782,\n",
    ":constant_excitation => -0.37242520737694207,\n",
    ":const_pro_bias => 0.04366897857834884,\n",
    ":target_period_excitation => 0.15315254453690974,\n",
    ":right_light_pro_extra => 0,\n",
    ":pro_rule_strength => 0.05,\n",
    ":nPro => 100,\n",
    ":nAnti => 100,\n",
    ")\n"
   ]
  },
  {
   "cell_type": "code",
   "execution_count": null,
   "metadata": {
    "collapsed": false
   },
   "outputs": [],
   "source": [
    "\n",
    "extra_pars = Dict(\n",
    ":plot_list        =>   [1:5;], \n",
    ":plot_conditions  =>   true,\n",
    ":verbose          =>   true,\n",
    ":opto_periods     =>   String[\"trial_start\" \"trial_start\"],\n",
    ":opto_targets     =>   [0.9,  0.7],\n",
    ":opto_times       =>   [\"trial_start\", \"trial_start\"],       # This one is for run_ntrials\n",
    ":seedrand         =>   Int64(round(time()*1000)),\n",
    ")\n",
    "\n",
    "\n",
    "# proVs, antiVs, pro_fullV, anti_fullV, opto_fraction, pro_input, anti_input = run_ntrials(1000, 1000; \n",
    "#    merge(mypars, extra_pars)...);\n",
    "\n",
    "\n",
    "JJ(mypars[:nPro], mypars[:nAnti]; merge(mypars, extra_pars)...)[1]\n"
   ]
  },
  {
   "cell_type": "code",
   "execution_count": null,
   "metadata": {
    "collapsed": false
   },
   "outputs": [],
   "source": [
    "extra_pars[:search_range] = 0.4\n",
    "extra_pars"
   ]
  },
  {
   "cell_type": "markdown",
   "metadata": {},
   "source": [
    "# Try a search : reduced_farm.jl\n",
    "\n",
    "`Temp/answers.jld`   contains the result of taking the result of scaling_up_dt.jl, and then optimizing it on control alone, with Pro target=0.9, Anti target = 0.7.  It optimizes very very well."
   ]
  },
  {
   "cell_type": "code",
   "execution_count": null,
   "metadata": {
    "collapsed": false
   },
   "outputs": [],
   "source": [
    "#@include_me reduced_farm.jl\n",
    "\n",
    "include(\"pro_anti.jl\")\n",
    "\n"
   ]
  },
  {
   "cell_type": "code",
   "execution_count": null,
   "metadata": {
    "collapsed": false
   },
   "outputs": [],
   "source": []
  },
  {
   "cell_type": "code",
   "execution_count": null,
   "metadata": {
    "collapsed": false
   },
   "outputs": [],
   "source": [
    "@load(\"FarmFields/farm_C3_0027.jld\")"
   ]
  },
  {
   "cell_type": "code",
   "execution_count": null,
   "metadata": {
    "collapsed": false
   },
   "outputs": [],
   "source": [
    "[args pars]"
   ]
  },
  {
   "cell_type": "code",
   "execution_count": null,
   "metadata": {
    "collapsed": false
   },
   "outputs": [],
   "source": [
    "mypars[:tau]"
   ]
  },
  {
   "cell_type": "code",
   "execution_count": null,
   "metadata": {
    "collapsed": false
   },
   "outputs": [],
   "source": [
    "#@include_me reduced_farm.jl\n",
    "\n",
    "\n",
    "mypars = Dict(\n",
    ":init_add               =>          0,\n",
    ":const_add              =>          0,\n",
    ":noise                  =>          Any[],\n",
    ":input                  =>          0,\n",
    ":start_anti             =>          [-0.5, -0.5, -0.5, -0.5],\n",
    ":start_pro              =>          [-0.5, -0.5, -0.5, -0.5],\n",
    ":rule_and_delay_period  =>          1.2,\n",
    ":rule_and_delay_periods =>          [1.2],\n",
    ":target_period          =>          0.3,\n",
    ":target_periods         =>          [0.3],\n",
    ":post_target_period     =>          0.3,\n",
    ":post_target_periods    =>          [0.3],\n",
    ":anti_rule_strength     =>          0.054,\n",
    ":U_rest                 =>          0,\n",
    ":theta                  =>          0.05,\n",
    ":beta                   =>          0.5,\n",
    ":g_leak                 =>          1,\n",
    ":nsteps                 =>          301,\n",
    ":dt                     =>          0.024,\n",
    ":tau                    =>          0.09,\n",
    ":right_light_excitation =>          0.49924152955481954,\n",
    ":opto_strength          =>          0.85,\n",
    ":opto_periods           =>          String[\n",
    "                                    \"trial_start\" \"trial_start\"; \n",
    "                                    \"trial_start\" \"trial_end\"; \n",
    "                                    \"trial_start\" \"target_start/2\"; \n",
    "                                    \"target_start/2\" \"target_start\"; \n",
    "                                    \"target_start\" \"target_end\"],\n",
    ":opto_targets          =>           [\n",
    "                                    0.9 0.7; \n",
    "                                    0.9 0.5; \n",
    "                                    0.9 0.7; \n",
    "                                    0.9 0.5; \n",
    "                                    0.9 0.7],\n",
    ":theta2 => 0.15,\n",
    ":theta1 => 0.05,\n",
    ":sigma => 0.01,\n",
    ":cbeta => 0.04,\n",
    ":sW => 0.6416875048295452,\n",
    ":hW => 0.054701836208134846,\n",
    ":dW => 0.1267124266934907,\n",
    ":vW => -1.588850577499782,\n",
    ":constant_excitation => -0.37242520737694207,\n",
    ":const_pro_bias => 0.04366897857834884,\n",
    ":target_period_excitation => 0.15315254453690974,\n",
    ":right_light_pro_extra => 0,\n",
    ":pro_rule_strength => 0.05,\n",
    ":nPro => 100,\n",
    ":nAnti => 100,\n",
    ")\n"
   ]
  },
  {
   "cell_type": "code",
   "execution_count": null,
   "metadata": {
    "collapsed": false
   },
   "outputs": [],
   "source": [
    "#@include_me  reduced_farm.jl\n",
    "\n",
    "\n",
    "extra_pars = Dict(\n",
    ":plot_list        =>   [], \n",
    ":plot_conditions  =>   true,\n",
    ":verbose          =>   true,\n",
    ":opto_periods     =>   String[\"trial_start\" \"trial_start-0.1\"],\n",
    ":opto_targets     =>   [0.9,  0.7],\n",
    ":opto_times       =>   [\"trial_start\", \"trial_start-0.1\"],       # This one is for run_ntrials\n",
    ":cbeta            =>   0.001,\n",
    ":search_range     =>   1.2,\n",
    ")\n",
    "\n",
    "\n",
    "search_conditions = Dict(   # :param    default_start   search_box  bound_box\n",
    ":vW     =>                   [mypars[:vW],                       [-0.5, 0.5],  [-3,   3]], \n",
    ":hW     =>                   [mypars[:hW],                       [-0.5, 0.5],  [-3,   3]],\n",
    ":dW     =>                   [mypars[:dW],                       [-0.5, 0.5],  [-3,   3]],\n",
    ":sW     =>                   [mypars[:sW],                       [0,    0.5],  [0,    3]],\n",
    ":sigma  =>                   [0.11,                              [0.1,  0.2],  [0.1, 0.4]],\n",
    ":constant_excitation      => [mypars[:constant_excitation],      [-1,     1],  [-2,   2]], \n",
    ":target_period_excitation => [mypars[:target_period_excitation], [0.001,0.5],  [0     4]],\n",
    ":right_light_excitation   => [mypars[:right_light_excitation],   [0.05, 0.5],  [0.05, 4]],\n",
    ":const_pro_bias           => [mypars[:const_pro_bias],           [-0.5, 0.5],  [-2,   2]],\n",
    "# :opto_strength            => [mypars[:opto_strength],            [0.7, 0.99],  [0,    1]],\n",
    ")\n",
    "\n",
    "\n"
   ]
  },
  {
   "cell_type": "markdown",
   "metadata": {},
   "source": [
    "### Loop for reduced_farm.jl"
   ]
  },
  {
   "cell_type": "code",
   "execution_count": null,
   "metadata": {
    "collapsed": false
   },
   "outputs": [],
   "source": [
    "#@include_me  reduced_farm.jl\n",
    "\n",
    "extra_pars[:seedrand] = Int64(round(time()*1000))\n",
    "srand(extra_pars[:seedrand])\n",
    "\n",
    "@printf(\"\\n\\n\\nStarting with random seed %d\\n\\n\\n\", extra_pars[:seedrand])\n",
    "\n",
    "search_range = extra_pars[:search_range]; \n",
    "\n",
    "fbasename = \"FarmFields/farm_C5_\"\n",
    "\n",
    "while true\n",
    "    args = []; seed = []; bbox = Dict()\n",
    "    for k in keys(search_conditions)\n",
    "        search_box = search_conditions[k][2]\n",
    "        args = [args; String(k)]\n",
    "        myseed = search_conditions[k][1] + search_range*(rand()-0.5)*diff(search_box); myseed = myseed[1]\n",
    "        if myseed > search_box[2]; myseed = search_box[2]; end\n",
    "        if myseed < search_box[1]; myseed = search_box[1]; end\n",
    "        seed = [seed ;  myseed]\n",
    "        # seed = [seed ; search_conditions[k][1]]\n",
    "        bbox = merge(bbox, Dict(k => Array{Float64}(search_conditions[k][3])))\n",
    "    end\n",
    "    args = Array{String}(args)\n",
    "    seed = Array{Float64}(seed)\n",
    "\n",
    "\n",
    "    # Make sure to keep the noise frozen over the search, meaning JJ() needs the seedrand parameter\n",
    "    func =  (;params...) -> JJ(mypars[:nPro], mypars[:nAnti]; verbose=true, \n",
    "        merge(merge(mypars, extra_pars), Dict(params))...)[1]\n",
    "\n",
    "    try\n",
    "        pars, traj, cost, cpm_traj, ftraj = bbox_Hessian_keyword_minimization(seed, args, bbox, func, \n",
    "            start_eta = 0.1, tol=1e-12, \n",
    "            verbose=true, verbose_every=1, maxiter=1000)\n",
    "\n",
    "\n",
    "        cost, cost1s, cost2s, hP, hA, dP, dA, hBP, hBA = JJ(1000, 1000; verbose=false, \n",
    "        make_dict(args, pars, merge(merge(mypars, extra_pars)))...)\n",
    "\n",
    "        myfilename = next_file(fbasename, 4)\n",
    "        myfilename = myfilename*\".jld\"\n",
    "        # write file\n",
    "        save(myfilename, Dict(\"nPro\"=>mypars[:nPro], \"nAnti\"=>mypars[:nAnti], \n",
    "        \"mypars\"=>mypars, \"extra_pars\"=>extra_pars, \"args\"=>args, \"seed\"=>seed, \"bbox\"=>bbox, \n",
    "        \"pars\"=>pars, \"traj\"=>traj, \"cost\"=>cost, \"cpm_traj\"=>cpm_traj, \"ftraj\"=>ftraj,\n",
    "        \"hP\"=>hP, \"hA\"=>hA, \"dP\"=>dP, \"dA\"=>dA, \"hBP\"=>hBP, \"hBA\"=>hBA))\n",
    "    catch y\n",
    "        if isa(y, InterruptException); throw(InterruptException()); end\n",
    "        @printf(\"\\n\\nWhoopsety, unkown error!\\n\\n\");\n",
    "        @printf(\"Error was :\\n\"); print(y); @printf(\"\\n\\nTrying new random seed.\\n\\n\")\n",
    "    end\n",
    "\n",
    "    # Change the frozen noise random seed so we don't get stuck in one loop    \n",
    "    extra_pars[:seedrand] = extra_pars[:seedrand]+1\n",
    "end"
   ]
  },
  {
   "cell_type": "code",
   "execution_count": null,
   "metadata": {
    "collapsed": false
   },
   "outputs": [],
   "source": []
  },
  {
   "cell_type": "code",
   "execution_count": null,
   "metadata": {
    "collapsed": false
   },
   "outputs": [],
   "source": [
    "effective_search_box = Dict()\n",
    "for k in keys(search_conditions)\n",
    "    search_box = search_conditions[k][2]\n",
    "    ebox = zeros(1,2)\n",
    "    ebox[1] = search_conditions[k][1] - 0.5*diff(search_box)[1]\n",
    "    ebox[2] = search_conditions[k][1] + 0.5*diff(search_box)[1]\n",
    "    effective_search_box[k] = ebox\n",
    "end\n",
    "\n",
    "effective_search_box"
   ]
  },
  {
   "cell_type": "code",
   "execution_count": null,
   "metadata": {
    "collapsed": true
   },
   "outputs": [],
   "source": []
  },
  {
   "cell_type": "code",
   "execution_count": null,
   "metadata": {
    "collapsed": false
   },
   "outputs": [],
   "source": []
  },
  {
   "cell_type": "markdown",
   "metadata": {
    "collapsed": false
   },
   "source": [
    "# Analyze a Marino goodfarm:"
   ]
  },
  {
   "cell_type": "code",
   "execution_count": null,
   "metadata": {
    "collapsed": false
   },
   "outputs": [],
   "source": [
    "include(\"pro_anti.jl\")"
   ]
  },
  {
   "cell_type": "code",
   "execution_count": null,
   "metadata": {
    "collapsed": false
   },
   "outputs": [],
   "source": [
    "hBP, hBA, d = show_run(\"farm_LA0001.mat\", 100; farmdir=\"goodfarms\", opto_times=[\"target_start-0.2\", \"target_start\"], \n",
    "const_pro_bias = 0.0, opto_strength = 0)"
   ]
  },
  {
   "cell_type": "code",
   "execution_count": null,
   "metadata": {
    "collapsed": false
   },
   "outputs": [],
   "source": [
    "model_params = symbol_key_ize(d[\"model_params\"])\n",
    "[d[\"args\"] d[\"pars\"]]"
   ]
  },
  {
   "cell_type": "code",
   "execution_count": null,
   "metadata": {
    "collapsed": true
   },
   "outputs": [],
   "source": [
    "show_run(\"farm_LD0053.mat\", 100; farmdir=\"goodfarms\", opto_times=[\"target_start-2\", \"target_end-2\"],\n",
    "    const_pro_bias=0.04745, rule_and_delay_period=0.4, right_light_excitation=0.4)\n"
   ]
  },
  {
   "cell_type": "code",
   "execution_count": null,
   "metadata": {
    "collapsed": false
   },
   "outputs": [],
   "source": [
    "model_params, F, nPro, nAnti = load_run(\"farm_LD0053.mat\"; farmdir=\"goodfarms\")"
   ]
  },
  {
   "cell_type": "code",
   "execution_count": null,
   "metadata": {
    "collapsed": false
   },
   "outputs": [],
   "source": [
    "[F[\"args\"] F[\"pars\"]]"
   ]
  },
  {
   "cell_type": "code",
   "execution_count": null,
   "metadata": {
    "collapsed": false
   },
   "outputs": [],
   "source": [
    "model_params[:opto_periods] = [\n",
    "    \"trial_start-0.1\"   \"trial_start-0.1\"; \n",
    "    \"trial_start\"       \"trial_end\" ; \n",
    "    \"trial_start\"       \"trial_start+0.2\" ; \n",
    "    \"target_start-0.2\"  \"target_start\"  ;\n",
    "    \"target_start\"      \"trial_end\"\n",
    "]\n",
    "\n",
    "model_params[:opto_targets]\n",
    "\n"
   ]
  },
  {
   "cell_type": "code",
   "execution_count": null,
   "metadata": {
    "collapsed": false
   },
   "outputs": [],
   "source": [
    "pygui(true)\n",
    "cost, cost1s, cost2s, hP, hA, dP, dA, hBP, hBA, proValls, antiValls = JJ(100, 100; plot_list=[1:10;], \n",
    "    plot_conditions=[false, false, false, true, false], verbose=true, model_details=true, model_params...);"
   ]
  },
  {
   "cell_type": "code",
   "execution_count": null,
   "metadata": {
    "collapsed": false
   },
   "outputs": [],
   "source": [
    "include(\"farm_plotting_carlos.jl\")"
   ]
  },
  {
   "cell_type": "code",
   "execution_count": null,
   "metadata": {
    "collapsed": false
   },
   "outputs": [],
   "source": []
  },
  {
   "cell_type": "code",
   "execution_count": null,
   "metadata": {
    "collapsed": false
   },
   "outputs": [],
   "source": [
    "show_run(\"farm_C3_0002.jld\")\n"
   ]
  },
  {
   "cell_type": "code",
   "execution_count": null,
   "metadata": {
    "collapsed": false
   },
   "outputs": [],
   "source": [
    "figure(1); subplot(3,1,1); title(@sprintf(\"%s: binarized Pro  hits = %.1f %%\\n\", run_name, 97.3))\n"
   ]
  },
  {
   "cell_type": "code",
   "execution_count": null,
   "metadata": {
    "collapsed": true
   },
   "outputs": [],
   "source": [
    "# @save \"Temp/answers.jld\" \n",
    "# @load \"Temp/answers.jld\""
   ]
  },
  {
   "cell_type": "code",
   "execution_count": null,
   "metadata": {
    "collapsed": false
   },
   "outputs": [],
   "source": [
    "@load \"Temp/answers3.jld\""
   ]
  },
  {
   "cell_type": "code",
   "execution_count": null,
   "metadata": {
    "collapsed": false
   },
   "outputs": [],
   "source": [
    "[args pars seed]"
   ]
  },
  {
   "cell_type": "code",
   "execution_count": null,
   "metadata": {
    "collapsed": false
   },
   "outputs": [],
   "source": [
    "pygui(true)\n",
    "figure(1); clf();\n",
    "\n",
    "delete!(extra_pars, :plot_list)\n",
    "delete!(extra_pars, :seedrand)\n",
    "\n",
    "more_pars = Dict(\n",
    "# :post_target_period => 0.25,\n",
    ":rule_and_delay_period => 2,\n",
    ")\n",
    "proVs, antiVs = run_ntrials(1000, 1000; plot_list=[1:10;], make_dict(args, pars, merge(merge(mypars, extra_pars), more_pars))...)[1:2]\n",
    "\n",
    "@printf(\"Binarized Pro hits = %.1f %%\\n\", 100*length(find(proVs[1,:] .> proVs[4,:]))/size(proVs,2))\n",
    "@printf(\"Binarized Anti hits = %.1f %%\\n\", 100*length(find(antiVs[4,:] .> antiVs[1,:]))/size(antiVs,2))"
   ]
  },
  {
   "cell_type": "code",
   "execution_count": null,
   "metadata": {
    "collapsed": false
   },
   "outputs": [],
   "source": []
  },
  {
   "cell_type": "code",
   "execution_count": null,
   "metadata": {
    "collapsed": false
   },
   "outputs": [],
   "source": [
    "search_conditions"
   ]
  },
  {
   "cell_type": "code",
   "execution_count": null,
   "metadata": {
    "collapsed": false
   },
   "outputs": [],
   "source": [
    "include(\"pro_anti.jl\")"
   ]
  },
  {
   "cell_type": "code",
   "execution_count": null,
   "metadata": {
    "collapsed": false
   },
   "outputs": [],
   "source": [
    "bbox[:dW]"
   ]
  },
  {
   "cell_type": "code",
   "execution_count": null,
   "metadata": {
    "collapsed": false
   },
   "outputs": [],
   "source": [
    "[1, [2,3], 4]\n"
   ]
  },
  {
   "cell_type": "code",
   "execution_count": null,
   "metadata": {
    "collapsed": false
   },
   "outputs": [],
   "source": []
  },
  {
   "cell_type": "code",
   "execution_count": null,
   "metadata": {
    "collapsed": false
   },
   "outputs": [],
   "source": [
    "#  size(proValls)  (4, 301, 100, 5)\n",
    "\n",
    "figure(3); clf(); N=40\n",
    "\n",
    "t = 0:size(proValls, 2)-1; t = model_params[:dt]*t\n",
    "\n",
    "figure(3); clf();\n",
    "for i=1:N \n",
    "    plot_PA(t, 0, proValls[:,:,i,1], fignum=3, plot_Us=false,\n",
    "    rule_and_delay_period=model_params[:rule_and_delay_period], target_period=model_params[:target_period],\n",
    "    post_target_period = model_params[:post_target_period])\n",
    "end\n",
    "\n",
    "figure(4); clf();\n",
    "for i=1:N \n",
    "    plot_PA(t, 0, antiValls[:,:,i,1], fignum=4, plot_Us=false,\n",
    "    rule_and_delay_period=model_params[:rule_and_delay_period], target_period=model_params[:target_period],\n",
    "    post_target_period = model_params[:post_target_period])\n",
    "end\n"
   ]
  },
  {
   "cell_type": "code",
   "execution_count": null,
   "metadata": {
    "collapsed": false
   },
   "outputs": [],
   "source": [
    "print(model_params)"
   ]
  },
  {
   "cell_type": "code",
   "execution_count": null,
   "metadata": {
    "collapsed": false
   },
   "outputs": [],
   "source": []
  },
  {
   "cell_type": "code",
   "execution_count": null,
   "metadata": {
    "collapsed": false
   },
   "outputs": [],
   "source": []
  },
  {
   "cell_type": "code",
   "execution_count": null,
   "metadata": {
    "collapsed": false
   },
   "outputs": [],
   "source": [
    "# Define core model parameters\n",
    "model_params = Dict(\n",
    ":dt     =>  0.002, \n",
    ":tau    =>  0.02, \n",
    ":vW     =>  -1.58,\n",
    ":hW     =>  -0.05,\n",
    ":sW     =>  0,\n",
    ":dW     =>  0,\n",
    ":nsteps =>  301, \n",
    ":noise  =>  [], \n",
    ":sigma  =>  0.08, \n",
    ":input  =>  0, \n",
    ":g_leak =>  1, \n",
    ":U_rest =>  0,\n",
    ":theta  =>  0.05, \n",
    ":beta   =>  0.5, \n",
    ":constant_excitation      => 0, \n",
    ":anti_rule_strength       => 0.05,\n",
    ":pro_rule_strength        => 0.05, \n",
    ":target_period_excitation => 0,\n",
    ":right_light_excitation   => 0.6, \n",
    ":right_light_pro_extra    => 0,\n",
    ":const_add                => 0, \n",
    ":init_add                 => 0, \n",
    ":rule_and_delay_period    => 0.2,\n",
    ":target_period            => 0.1,\n",
    ":post_target_period       => 0.1,\n",
    ":const_pro_bias           => 0.0427,\n",
    ":nPro                     => 100,\n",
    ":nAnti                    => 100,\n",
    ":theta1                   => 0.05,\n",
    ":theta2                   => 0.15,\n",
    ":opto_strength  => .9,\n",
    ":opto_periods   => [\n",
    "    0               0 ; \n",
    "    0              \"trial_end\" ;\n",
    "    \"target_start/2\"  \"target_start\";\n",
    "    \"target_start\"    \"target_end\"],  \n",
    "# set of opto conditions, in seconds, with 0 the start \n",
    "# of the trial (i.e. start of rule_and_delay_period), anything before 0 or after end of trial gets ignored.\n",
    "#:opto_targets   => [.75 .73;.77 .58;.75 .74;.72 .66;.73 .75] \n",
    ":opto_targets => [\n",
    "    .9      .7; \n",
    "    .9      .5; \n",
    "    .9      .55; \n",
    "    .9      .7;\n",
    "    ],  # first column is frachit Pro, next column is Anti, rows are conditions\n",
    "# The \"conditions\" correspond to the rows of opto_periods.\n",
    ");\n",
    "\n",
    "\n",
    "# ======= ARGUMENTS AND SEED VALUES:\n",
    "args = [\"sW\", \"vW\", \"hW\", \"dW\", \"constant_excitation\", \"right_light_excitation\", \"target_period_excitation\"]\n",
    "seed = [0.001,  -1.58,   -0.05,  0.001,    0.001,                0.6,                       0.001]   \n",
    "args = [args ; [\"const_pro_bias\", \"sigma\",\"opto_strength\", \"pro_rule_strength\", \"anti_rule_strength\"]];\n",
    "seed = [seed ; [  0.0427,            .05,      .9,              0.05,                0.05]];\n",
    "\n",
    "# ======= BOUNDING BOX:\n",
    "bbox = Dict(:sW=>[0 3], :vW=>[-3 3], :hW=>[-3 3], :dW=>[-3 3], :constant_excitation=>[-2 2],\n",
    ":right_light_excitation=>[0.05 4], :target_period_excitation=>[0 4], :const_pro_bias=>[-2 2],\n",
    ":sigma=>[0.01 0.2],:opto_strength=>[0 1]);\n",
    "\n",
    "# ======== SEARCH ZONE:\n",
    "sbox = Dict(:sW=>[0 .5], :vW=>[-.5 .5], :hW=>[-.5 .5], :dW=>[-.5 .5],\n",
    ":constant_excitation=>[-.5 .5], :right_light_excitation=>[0.05 .5], :target_period_excitation=>[0.001 .5],:const_pro_bias=>[-.5 .5], :sigma=>[0.02 0.19],:opto_strength=>[.7 .99]);\n",
    "\n",
    "# define a few hyper parameters\n",
    "cbetas = [0.04];\n",
    "rule_and_delay_periods = [0.2];\n",
    "post_target_periods    = [0.1];\n",
    "num_eval_runs           = 100;\n",
    "num_optimize_iter       = 2000;\n",
    "num_optimize_restarts   = 1;\n",
    "\n",
    "\n",
    "cb = 0.04\n",
    "\n",
    "# figure out initial seed for random number generator\n",
    "sr = convert(Int64, round(time()))\n",
    "srand(sr);\n",
    "\n",
    "mypars = merge(model_params, Dict(:opto_times => [\"target_start\", \"target_end\"], :rule_and_delay_period=>0.2,\n",
    ":anti_rule_strength=>0.06))\n",
    "# mypars = merge(model_params, Dict(:opto_times => [0 0], :rule_and_delay_period=>0.1,\n",
    "# :anti_rule_strength=>0.06))\n",
    "pygui(true)\n",
    "proVs, antiVs, pro_fullV, anti_fullV, opto_fraction, pro_input, anti_input = run_ntrials(15, 15; \n",
    "plot_list=[1:15;], profig=1, antifig=2, opto_units = 1:4, mypars...)\n",
    "\n",
    "# define opto function with just value output\n",
    "func =  (;params...) -> JJ(model_params[:nPro], model_params[:nAnti]; \n",
    "    rule_and_delay_periods=rule_and_delay_periods, theta1=model_params[:theta1], theta2=model_params[:theta2], \n",
    "    post_target_periods=post_target_periods, seedrand=sr, cbeta=cb, verbose=true, \n",
    "    merge(mypars, Dict(params))...)[1]\n",
    "\n",
    "\n",
    "# cost, cost1s, cost2s, hP, hA, dP, dA, hBP, hBA = JJ(model_params[:nPro], model_params[:nAnti]; \n",
    "#     rule_and_delay_periods=rule_and_delay_periods, theta1=model_params[:theta1], theta2=model_params[:theta2], \n",
    "#     post_target_periods=post_target_periods, seedrand=sr, cbeta=cb, verbose=true, model_params...)\n",
    "    "
   ]
  },
  {
   "cell_type": "code",
   "execution_count": null,
   "metadata": {
    "collapsed": false
   },
   "outputs": [],
   "source": [
    "@printf(\"Going with seed = \"); print_vector_g(seed); print(\"\\n\")\n",
    "pars, traj, cost, cpm_traj, ftraj = bbox_Hessian_keyword_minimization(seed, args, bbox, func, \n",
    "    start_eta = 1, tol=1e-12, verbose=true, verbose_every=1, maxiter=num_optimize_iter)\n",
    "@printf(\"Came out with cost %g and pars = \", cost); print_vector_g(pars); print(\"\\n\\n\")\n"
   ]
  },
  {
   "cell_type": "code",
   "execution_count": null,
   "metadata": {
    "collapsed": true
   },
   "outputs": [],
   "source": []
  },
  {
   "cell_type": "code",
   "execution_count": null,
   "metadata": {
    "collapsed": true
   },
   "outputs": [],
   "source": []
  },
  {
   "cell_type": "code",
   "execution_count": null,
   "metadata": {
    "collapsed": true
   },
   "outputs": [],
   "source": []
  },
  {
   "cell_type": "code",
   "execution_count": null,
   "metadata": {
    "collapsed": true
   },
   "outputs": [],
   "source": [
    "# run optimization with all parameters\n",
    "@printf(\"Going with seed = \"); print_vector_g(seed); print(\"\\n\")\n",
    "pars, traj, cost, cpm_traj, ftraj = bbox_Hessian_keyword_minimization(seed, args, bbox, func, \n",
    "    start_eta = 1, tol=1e-12, verbose=true, verbose_every=1, maxiter=num_optimize_iter)\n",
    "@printf(\"Came out with cost %g and pars = \", cost); print_vector_g(pars); print(\"\\n\\n\")\n",
    "\n",
    "    # get gradient and hessian at end of optimization \n",
    "    value, grad, hess = keyword_vgh(func, args, pars)\n",
    "\n",
    "    # define function with all outputs, evaluate on training noise\n",
    "    t_standard_func =  (;params...) -> JJ_opto(model_params[:nPro], model_params[:nAnti]; rule_and_delay_periods=rule_and_delay_periods, theta1=model_params[:theta1], theta2=model_params[:theta2], post_target_periods=post_target_periods, seedrand=sr, cbeta=cb, verbose=false, merge(model_params, Dict(params))...)\n",
    "\n",
    "    # run opto model with all outputs, evaluate on training noise\n",
    "    t_opto_scost, t_opto_scost1, t_opto_scost2, t_opto_hitsP,t_opto_hitsA, t_opto_diffsP, t_opto_diffsA, t_opto_bP, t_opto_bA = t_standard_func(;make_dict(args, pars, model_params)...)\n",
    "    \n",
    "   ## evaluate for long form info\n",
    "    # reset random number generator for testing purposes\n",
    "    test_sr = convert(Int64, round(time()))\n",
    "    srand(test_sr); \n",
    "\n",
    "    # define function with all outputs, evaluate on test noise\n",
    "    standard_func =  (;params...) -> JJ_opto(num_eval_runs, num_eval_runs; rule_and_delay_periods=rule_and_delay_periods, theta1=model_params[:theta1], theta2=model_params[:theta2], post_target_periods=post_target_periods, seedrand=test_sr, cbeta=cb, verbose=false, merge(model_params, Dict(params))...)\n",
    "\n",
    "    # run opto model with all outputs, evaluate on test noise\n",
    "    opto_scost, opto_scost1, opto_scost2, opto_hitsP,opto_hitsA, opto_diffsP, opto_diffsA, opto_bP, opto_bA = standard_func(;make_dict(args, pars, model_params)...)\n",
    "\n",
    "    # define non-opto model with all outputs, to check opto model, evaluate on test noise\n",
    "    standard_func =  (;params...) -> JJ(num_eval_runs, num_eval_runs; rule_and_delay_periods=rule_and_delay_periods, theta1=model_params[:theta1], theta2=model_params[:theta2], post_target_periods=post_target_periods, seedrand=test_sr, cbeta=cb, verbose=false, merge(model_params, Dict(params))...)\n",
    "\n",
    "    # run non-opto model with all outputs, evaluate on test noise\n",
    "    scost, scost1, scost2, hitsP,hitsA, diffsP, diffsA = standard_func(;make_dict(args, pars, model_params)...)\n",
    " \n",
    "   ## Save this run out to a file\n",
    "    # get filename\n",
    "    myfilename = next_file(fbasename, 4)\n",
    "    myfilename = myfilename*\".mat\"\n",
    "    # write file\n",
    "    matwrite(myfilename, Dict(\"args\"=>args, \"myseed\"=>myseed, \"dista\"=>dista, \"pars\"=>pars, \"traj\"=>traj, \"cost\"=>cost, \"cpm_traj\"=>cpm_traj, \"nPro\"=>model_params[:nPro], \"nAnti\"=>model_params[:nAnti], \"sr\"=>sr, \"cb\"=>cb, \"theta1\"=>model_params[:theta1], \"theta2\"=>model_params[:theta2],\"value\"=>value,\"grad\"=>grad, \"hess\"=>hess, \"scost\"=>scost, \"scost1\"=>scost1, \"scost2\"=>scost2, \"hitsP\"=>hitsP,\"hitsA\"=>hitsA, \"diffsP\"=>diffsP, \"diffsA\"=>diffsA, \"model_params\"=>ascii_key_ize(model_params), \"bbox\"=>ascii_key_ize(bbox), \"sbox\"=>ascii_key_ize(sbox), \"rule_and_delay_periods\"=>rule_and_delay_periods, \"post_target_periods\"=>post_target_periods, \"opto_scost\"=>opto_scost, \"opto_scost1\"=>opto_scost1, \"opto_scost2\"=>opto_scost2, \"opto_hitsP\"=>opto_hitsP, \"opto_hitsA\"=>opto_hitsA, \"opto_diffsP\"=>opto_diffsP, \"opto_diffsA\"=>opto_diffsA,\"test_sr\"=>test_sr,\"opto_bP\"=>opto_bP, \"opto_bA\"=>opto_bA, \"t_opto_scost\"=>t_opto_scost, \"t_opto_scost1\"=>t_opto_scost1, \"t_opto_scost2\"=>t_opto_scost2, \"t_opto_hitsP\"=>t_opto_hitsP, \"t_opto_hitsA\"=>t_opto_hitsA, \"t_opto_diffsP\"=>t_opto_diffsP, \"t_opto_diffsA\"=>t_opto_diffsA,\"t_opto_bP\"=>t_opto_bP, \"t_opto_bA\"=>t_opto_bA  ))\n",
    "end\n",
    "end"
   ]
  }
 ],
 "metadata": {
  "kernelspec": {
   "display_name": "Julia 0.6.0",
   "language": "julia",
   "name": "julia-0.6"
  },
  "language_info": {
   "file_extension": ".jl",
   "mimetype": "application/julia",
   "name": "julia",
   "version": "0.6.0"
  }
 },
 "nbformat": 4,
 "nbformat_minor": 0
}
