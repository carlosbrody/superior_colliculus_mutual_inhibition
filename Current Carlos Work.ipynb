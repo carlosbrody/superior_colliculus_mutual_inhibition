{
 "cells": [
  {
   "cell_type": "markdown",
   "metadata": {},
   "source": [
    "<h1 id=\"tocheading\">TABLE OF CONTENTS</h1>\n",
    "<div id=\"toc\"></div>\n",
    "\n",
    "**Updates to the table of contents are periodic, but run the cell below to first start or force an update.**"
   ]
  },
  {
   "cell_type": "code",
   "execution_count": null,
   "metadata": {
    "collapsed": false
   },
   "outputs": [],
   "source": [
    "macro javascript_str(s) display(\"text/javascript\", s); end\n",
    "\n",
    "javascript\"\"\"\n",
    "$.getScript('make_table_of_contents.js')\n",
    "\"\"\""
   ]
  },
  {
   "cell_type": "code",
   "execution_count": null,
   "metadata": {
    "collapsed": false
   },
   "outputs": [],
   "source": []
  },
  {
   "cell_type": "markdown",
   "metadata": {},
   "source": [
    "# An attempt at opto after reduced_farm.jl\n",
    "\n",
    "No pre-search yet, but might add it after"
   ]
  },
  {
   "cell_type": "code",
   "execution_count": 285,
   "metadata": {
    "collapsed": false
   },
   "outputs": [
    {
     "name": "stderr",
     "output_type": "stream",
     "text": [
      "\u001b[1m\u001b[33mWARNING: \u001b[39m\u001b[22m\u001b[33mreplacing docs for 'remove_xtick_labels :: Union{Tuple{Any}, Tuple{}}' in module 'Main'.\u001b[39m\n",
      "\u001b[1m\u001b[33mWARNING: \u001b[39m\u001b[22m\u001b[33mreplacing docs for 'print_vector :: Tuple{Any}' in module 'Main'.\u001b[39m\n",
      "\u001b[1m\u001b[33mWARNING: \u001b[39m\u001b[22m\u001b[33mreplacing docs for 'print_vector_g :: Tuple{Any}' in module 'Main'.\u001b[39m\n",
      "\u001b[1m\u001b[33mWARNING: \u001b[39m\u001b[22m\u001b[33mreplacing docs for 'two_level_copy :: Tuple{Any}' in module 'Main'.\u001b[39m\n",
      "\u001b[1m\u001b[33mWARNING: \u001b[39m\u001b[22m\u001b[33mreplacing docs for 'next_file :: Tuple{Any,Any}' in module 'Main'.\u001b[39m\n",
      "\u001b[1m\u001b[33mWARNING: \u001b[39m\u001b[22m\u001b[33mreplacing docs for 'ascii_key_ize :: Tuple{Any}' in module 'Main'.\u001b[39m\n",
      "\u001b[1m\u001b[33mWARNING: \u001b[39m\u001b[22m\u001b[33mreplacing docs for 'symbol_key_ize :: Tuple{Any}' in module 'Main'.\u001b[39m\n",
      "\u001b[1m\u001b[33mWARNING: \u001b[39m\u001b[22m\u001b[33mreplacing docs for 'vectorize_dict :: Tuple{Any,Any}' in module 'Main'.\u001b[39m\n",
      "\u001b[1m\u001b[33mWARNING: \u001b[39m\u001b[22m\u001b[33mreplacing docs for 'make_dict :: Union{Tuple{Any,Any,Any}, Tuple{Any,Any}}' in module 'Main'.\u001b[39m\n",
      "\u001b[1m\u001b[33mWARNING: \u001b[39m\u001b[22m\u001b[33mreplacing docs for 'FDversion :: Tuple{}' in module 'Main'.\u001b[39m\n",
      "\u001b[1m\u001b[33mWARNING: \u001b[39m\u001b[22m\u001b[33mreplacing docs for 'get_eltype :: Tuple{Any}' in module 'Main'.\u001b[39m\n",
      "\u001b[1m\u001b[33mWARNING: \u001b[39m\u001b[22m\u001b[33mreplacing docs for 'get_value :: Tuple{Any}' in module 'Main'.\u001b[39m\n",
      "\u001b[1m\u001b[33mWARNING: \u001b[39m\u001b[22m\u001b[33mreplacing docs for 'vgh :: Tuple{Any,Any}' in module 'Main'.\u001b[39m\n",
      "\u001b[1m\u001b[33mWARNING: \u001b[39m\u001b[22m\u001b[33mreplacing docs for 'keyword_vgh :: Tuple{Any,Any,Any}' in module 'Main'.\u001b[39m\n",
      "\u001b[1m\u001b[33mWARNING: \u001b[39m\u001b[22m\u001b[33mreplacing docs for 'one_d_minimizer :: Tuple{Any,Any}' in module 'Main'.\u001b[39m\n",
      "\u001b[1m\u001b[33mWARNING: \u001b[39m\u001b[22m\u001b[33mreplacing docs for 'constrained_parabolic_minimization :: Tuple{Any,Any,Any}' in module 'Main'.\u001b[39m\n",
      "\u001b[1m\u001b[33mWARNING: \u001b[39m\u001b[22m\u001b[33mreplacing docs for 'wallwrap :: Tuple{Any,Any}' in module 'Main'.\u001b[39m\n",
      "\u001b[1m\u001b[33mWARNING: \u001b[39m\u001b[22m\u001b[33mreplacing docs for 'vector_wrap :: Tuple{Any,Any,Any}' in module 'Main'.\u001b[39m\n",
      "\u001b[1m\u001b[33mWARNING: \u001b[39m\u001b[22m\u001b[33mreplacing docs for 'inverse_wall :: Tuple{Any,Any,Any}' in module 'Main'.\u001b[39m\n",
      "\u001b[1m\u001b[33mWARNING: \u001b[39m\u001b[22m\u001b[33mreplacing docs for 'inverse_wall :: Tuple{Any,Any}' in module 'Main'.\u001b[39m\n",
      "\u001b[1m\u001b[33mWARNING: \u001b[39m\u001b[22m\u001b[33mreplacing docs for 'adaptive_gradient_minimization :: Tuple{Any,Any}' in module 'Main'.\u001b[39m\n",
      "\u001b[1m\u001b[33mWARNING: \u001b[39m\u001b[22m\u001b[33mreplacing docs for 'trust_region_Hessian_minimization :: Tuple{Any,Any}' in module 'Main'.\u001b[39m\n",
      "\u001b[1m\u001b[33mWARNING: \u001b[39m\u001b[22m\u001b[33mreplacing docs for 'bbox_Hessian_keyword_minimization :: NTuple{4,Any}' in module 'Main'.\u001b[39m\n",
      "\u001b[1m\u001b[33mWARNING: \u001b[39m\u001b[22m\u001b[33mreplacing docs for 'forwardModel :: Tuple{Any}' in module 'Main'.\u001b[39m\n",
      "\u001b[1m\u001b[33mWARNING: \u001b[39m\u001b[22m\u001b[33mreplacing docs for 'backwardsModel :: Tuple{Any}' in module 'Main'.\u001b[39m\n",
      "\u001b[1m\u001b[33mWARNING: \u001b[39m\u001b[22m\u001b[33mreplacing docs for 'plot_PA :: Tuple{Any,Any,Any}' in module 'Main'.\u001b[39m\n",
      "\u001b[1m\u001b[33mWARNING: \u001b[39m\u001b[22m\u001b[33mreplacing docs for 'parse_opto_times :: Tuple{Any,Any}' in module 'Main'.\u001b[39m\n",
      "\u001b[1m\u001b[33mWARNING: \u001b[39m\u001b[22m\u001b[33mreplacing docs for 'make_input :: Tuple{Any}' in module 'Main'.\u001b[39m\n",
      "\u001b[1m\u001b[33mWARNING: \u001b[39m\u001b[22m\u001b[33mreplacing docs for 'run_ntrials :: Tuple{Any,Any}' in module 'Main'.\u001b[39m\n",
      "\u001b[1m\u001b[33mWARNING: \u001b[39m\u001b[22m\u001b[33mreplacing docs for 'JJ :: Tuple{Any,Any}' in module 'Main'.\u001b[39m\n",
      "\u001b[1m\u001b[33mWARNING: \u001b[39m\u001b[22m\u001b[33mreplacing docs for 'load_run :: Tuple{Any}' in module 'Main'.\u001b[39m\n"
     ]
    },
    {
     "data": {
      "text/plain": [
       "load_run"
      ]
     },
     "execution_count": 285,
     "metadata": {},
     "output_type": "execute_result"
    }
   ],
   "source": [
    "#@include_me  opto_reduced.jl\n",
    "\n",
    "README_TOP = \"\"\"\n",
    "\n",
    "Code for doing a minimization (no opto) in which we first do a quick search\n",
    "with few trials, not on %correct but instead on specific differences between \n",
    "V[1] and V[4], for example for V[1]-V[4]=0.1 on Pro trials and =-0.1 on Anti \n",
    "trials.\n",
    "\n",
    "We stop that quick pre-search when the binarized hits for Pro and for Anti are\n",
    "both >= 0.7; and it is at those params that we then run the usual minimization.\n",
    "\n",
    "This doesn't make 100% of minimization runs successful, but it does seem to\n",
    "increase the hit rate. \n",
    "\n",
    "\"\"\"\n",
    "\n",
    "include(\"pro_anti.jl\")"
   ]
  },
  {
   "cell_type": "code",
   "execution_count": 286,
   "metadata": {
    "collapsed": false
   },
   "outputs": [
    {
     "data": {
      "text/plain": [
       "Dict{Symbol,Array{Any,1}} with 9 entries:\n",
       "  :dW                       => Any[0.126712, [-0.5, 0.5], [-3, 3]]\n",
       "  :target_period_excitation => Any[0.153153, [0.001, 0.5], [0 4]]\n",
       "  :const_pro_bias           => Any[0.043669, [-0.5, 0.5], [-2, 2]]\n",
       "  :hW                       => Any[0.0547018, [-0.5, 0.5], [-3, 3]]\n",
       "  :sW                       => Any[0.641688, [0.0, 0.5], [0, 3]]\n",
       "  :vW                       => Any[-1.58885, [-0.5, 0.5], [-3, 3]]\n",
       "  :sigma                    => Any[0.11, [0.1, 0.2], [0.1, 0.4]]\n",
       "  :constant_excitation      => Any[-0.372425, [-1, 1], [-2, 2]]\n",
       "  :right_light_excitation   => Any[0.499242, [0.05, 0.5], [0.05, 4.0]]"
      ]
     },
     "execution_count": 286,
     "metadata": {},
     "output_type": "execute_result"
    }
   ],
   "source": [
    "#@include_me  opto_reduced.jl\n",
    "\n",
    "mypars = Dict(\n",
    ":init_add               =>          0,\n",
    ":const_add              =>          0,\n",
    ":noise                  =>          Any[],\n",
    ":input                  =>          0,\n",
    ":start_anti             =>          [-0.5, -0.5, -0.5, -0.5],\n",
    ":start_pro              =>          [-0.5, -0.5, -0.5, -0.5],\n",
    ":rule_and_delay_period  =>          1.2,\n",
    ":rule_and_delay_periods =>          [1.2],\n",
    ":target_period          =>          0.3,\n",
    ":target_periods         =>          [0.3],\n",
    ":post_target_period     =>          0.3,\n",
    ":post_target_periods    =>          [0.3],\n",
    ":anti_rule_strength     =>          0.054,\n",
    ":U_rest                 =>          0,\n",
    ":theta                  =>          0.05,\n",
    ":beta                   =>          0.5,\n",
    ":g_leak                 =>          1,\n",
    ":nsteps                 =>          301,\n",
    ":dt                     =>          0.024,\n",
    ":tau                    =>          0.09,\n",
    ":right_light_excitation =>          0.49924152955481954,\n",
    ":opto_strength          =>          0.85,\n",
    ":opto_periods           =>          String[\n",
    "                                    \"trial_start\" \"trial_start\"; \n",
    "                                    \"trial_start\" \"trial_end\"; \n",
    "                                    \"trial_start\" \"target_start/2\"; \n",
    "                                    \"target_start/2\" \"target_start\"; \n",
    "                                    \"target_start\" \"target_end\"],\n",
    ":opto_targets          =>           [\n",
    "                                    0.9 0.7; \n",
    "                                    0.9 0.5; \n",
    "                                    0.9 0.7; \n",
    "                                    0.9 0.5; \n",
    "                                    0.9 0.7],\n",
    ":theta2 => 0.15,\n",
    ":theta1 => 0.05,\n",
    ":sigma => 0.01,\n",
    ":cbeta => 0.04,\n",
    ":sW => 0.6416875048295452,\n",
    ":hW => 0.054701836208134846,\n",
    ":dW => 0.1267124266934907,\n",
    ":vW => -1.588850577499782,\n",
    ":constant_excitation => -0.37242520737694207,\n",
    ":const_pro_bias => 0.04366897857834884,\n",
    ":target_period_excitation => 0.15315254453690974,\n",
    ":right_light_pro_extra => 0,\n",
    ":pro_rule_strength => 0.05,\n",
    ":nPro => 200,\n",
    ":nAnti => 200,\n",
    ")\n",
    "\n",
    "\n",
    "extra_pars = Dict(\n",
    ":plot_list        =>   [], \n",
    ":plot_conditions  =>   true,\n",
    ":verbose          =>   true,\n",
    ":opto_periods     =>   String[\"trial_start\" \"trial_start-0.1\"],\n",
    ":opto_targets     =>   [0.9,  0.7],\n",
    ":opto_times       =>   [\"trial_start\", \"trial_start-0.1\"],       # This one is for run_ntrials\n",
    ":cbeta            =>   0.001,\n",
    ":search_range     =>   1.2,\n",
    ")\n",
    "\n",
    "\n",
    "search_conditions = Dict(   # :param    default_start   search_box  bound_box\n",
    ":vW     =>                   [mypars[:vW],                       [-0.5, 0.5],  [-3,   3]], \n",
    ":hW     =>                   [mypars[:hW],                       [-0.5, 0.5],  [-3,   3]],\n",
    ":dW     =>                   [mypars[:dW],                       [-0.5, 0.5],  [-3,   3]],\n",
    ":sW     =>                   [mypars[:sW],                       [0,    0.5],  [0,    3]],\n",
    ":sigma  =>                   [0.11,                              [0.1,  0.2],  [0.1, 0.4]],\n",
    ":constant_excitation      => [mypars[:constant_excitation],      [-1,     1],  [-2,   2]], \n",
    ":target_period_excitation => [mypars[:target_period_excitation], [0.001,0.5],  [0     4]],\n",
    ":right_light_excitation   => [mypars[:right_light_excitation],   [0.05, 0.5],  [0.05, 4]],\n",
    ":const_pro_bias           => [mypars[:const_pro_bias],           [-0.5, 0.5],  [-2,   2]],\n",
    "# :opto_strength            => [mypars[:opto_strength],            [0.7, 0.99],  [0,    1]],\n",
    ")\n",
    "\n"
   ]
  },
  {
   "cell_type": "code",
   "execution_count": null,
   "metadata": {
    "collapsed": true
   },
   "outputs": [],
   "source": [
    "#@include_me  opto_reduced.jl\n",
    "\n",
    "extra_pars[:seedrand] = Int64(round(1000*time()))   \n",
    "srand(extra_pars[:seedrand])\n",
    "search_range = extra_pars[:search_range]; \n",
    "\n",
    "README = \"\"\"\n",
    "\n",
    "Farm C13: An attempt at opto without any pre-search yet\n",
    "\n",
    "\"\"\"\n",
    "\n",
    "extra_pars[:opto_periods]  = String[\n",
    "    \"trial_start-0.1\"     \"trial_start-0.2\" ; \n",
    "    \"target_start-0.4\"    \"target_start\" ; \n",
    "    \"target_start+0.016\"  \"target_end\" ; \n",
    "]\n",
    "\n",
    "extra_pars[:opto_targets] = [\n",
    "    0.9   0.7  ;\n",
    "    0.85  0.5  ;\n",
    "    0.9   0.7  ;\n",
    "]\n",
    "\n",
    "ftraj2 = []; cost2 = [];\n",
    "\n",
    "if !isdir(\"../NewFarms\"); mkdir(\"../NewFarms\"); end\n",
    "fbasename = \"../NewFarms/farm_C13_\"\n",
    "# If we wanted a unique identifier per processor run the following line would help:\n",
    "# if ~isnull(tryparse(Int64, ARGS[1])); fbasename = fbasename * ARGS[1] * \"_\"; end\n",
    "\n",
    "@printf(\"\\n\\n\\nStarting with random seed %d\\n\\n\\n\", extra_pars[:seedrand])\n",
    "\n",
    "while true\n",
    "    \n",
    "    @printf(\"\\n\\n--- new run ---\\n\\n\")\n",
    "    args = []; seed = []; bbox = Dict()\n",
    "    for k in keys(search_conditions)\n",
    "        search_box = search_conditions[k][2]\n",
    "        args = [args; String(k)]\n",
    "        # --- search within the indicated search range:\n",
    "        myseed = search_conditions[k][1] + search_range*(rand()-0.5)*diff(search_box); myseed = myseed[1]\n",
    "        if myseed > search_box[2]; myseed = search_box[2]; end\n",
    "        if myseed < search_box[1]; myseed = search_box[1]; end\n",
    "        seed = [seed ;  myseed]\n",
    "        # --- No search, just start at the indicated position:\n",
    "        # seed = [seed ; search_conditions[k][1]]\n",
    "        # --- search within the full indicated search box\n",
    "        # seed = [seed ; rand()*diff(search_box) + search_box[1]]\n",
    "        bbox = merge(bbox, Dict(k => Array{Float64}(search_conditions[k][3])))\n",
    "    end\n",
    "    args = Array{String}(args)\n",
    "    seed = Array{Float64}(seed)\n",
    "\n",
    "\n",
    "    maxiter1 = 1000;   # for func1, the regular search\n",
    "    testruns = 10000;  # Number of trials for evaluating the results of the model. 10000 is a good number \n",
    "\n",
    "\n",
    "    # Make sure to keep the noise frozen over the search, meaning JJ() needs the seedrand parameter\n",
    "    func1 =  (;params...) -> JJ(mypars[:nPro], mypars[:nAnti]; verbose=false, \n",
    "        merge(merge(mypars, extra_pars), Dict(params))...)[1]\n",
    "    \n",
    "    try\n",
    "        pars3, traj3, cost3, cpm_traj3, ftraj3 = bbox_Hessian_keyword_minimization(seed, \n",
    "            args, bbox, func1, \n",
    "            start_eta = 0.01, tol=1e-12, \n",
    "            verbose=true, verbose_every=1, maxiter=maxiter1)\n",
    "            \n",
    "        # evaluate the result with many trials, for accuracy\n",
    "        cost, cost1s, cost2s, hP, hA, dP, dA, hBP, hBA = JJ(testruns, testruns; verbose=false, \n",
    "            make_dict(args, pars3, merge(merge(mypars, extra_pars)))...)\n",
    "        \n",
    "        # Write out the results\n",
    "        myfilename = next_file(fbasename, 4)\n",
    "        myfilename = myfilename*\".jld\"\n",
    "\n",
    "        @printf(\"\\n\\n ****** writing to file %s *******\\n\\n\", myfilename)\n",
    "        \n",
    "        # write file\n",
    "        save(myfilename, Dict(\"README\"=>README, \"nPro\"=>mypars[:nPro], \"nAnti\"=>mypars[:nAnti], \n",
    "            \"mypars\"=>mypars, \"extra_pars\"=>extra_pars, \"args\"=>args, \"seed\"=>seed, \"bbox\"=>bbox, \n",
    "            \"pars3\"=>pars3, \"traj3\"=>traj3, \"cost3\"=>cost3, \"cpm_traj3\"=>cpm_traj3, \"ftraj3\"=>ftraj3,\n",
    "            \"cost\"=>cost, \"cost1s\"=>cost1s, \"cost2s\"=>cost2s,\n",
    "            \"hP\"=>hP, \"hA\"=>hA, \"dP\"=>dP, \"dA\"=>dA, \"hBP\"=>hBP, \"hBA\"=>hBA))\n",
    "\n",
    "    catch y\n",
    "        # Interrupts should not get caught:\n",
    "        if isa(y, InterruptException); throw(InterruptException()); end\n",
    "\n",
    "        # Other errors get caught and a warning is issued but then we run again\n",
    "        @printf(\"\\n\\nWhoopsety, unkown error!\\n\\n\");\n",
    "        @printf(\"Error was :\\n\"); print(y); @printf(\"\\n\\nTrying new random seed.\\n\\n\")\n",
    "    end\n",
    "\n",
    "    # Change random seed before next iteration so we don't get stuck in one loop\n",
    "    extra_pars[:seedrand] = extra_pars[:seedrand]+1\n",
    "end\n",
    "    \n"
   ]
  },
  {
   "cell_type": "markdown",
   "metadata": {},
   "source": [
    "# Analyzing runs from reduced_farm.jl : analyze_reduced_farm.jl"
   ]
  },
  {
   "cell_type": "code",
   "execution_count": null,
   "metadata": {
    "collapsed": true
   },
   "outputs": [],
   "source": [
    "#@include_me  analyze_reduced_farm.jl\n",
    "\n",
    "include(\"pro_anti.jl\")\n",
    "\n",
    "#\n",
    "#  We're assuming that results of reduced_farm.jl were already generated.\n",
    "#"
   ]
  },
  {
   "cell_type": "code",
   "execution_count": null,
   "metadata": {
    "collapsed": false
   },
   "outputs": [],
   "source": [
    "#@include_me  analyze_reduced_farm.jl\n",
    "\n",
    "\"\"\"\n",
    "hBP, hBA, d = function show_run(run_name, ntrials=100; farmdir=\"FarmFields\", further_pars...)\n",
    "\n",
    "Given a string representing the filename of a run generated in reduced_farm.jl\n",
    "(for example, \"farm_C3_0027.jld\"), tries to load that file from within \"FarmFields/\"\n",
    "runs it to plot 30 Pro trials in figure 1 and 30 Anti trials in figure 2,\n",
    "and indicates in those figures the corresponding number of binarized hits.\n",
    "\n",
    "Any further parameters override the contents of the farm and are passed on to \n",
    "run_ntrials(), so for example you can set rule_and_delay_period=0.2\n",
    "\n",
    "# RETURNS:\n",
    "\n",
    "- hBP, hBA   binarized Pro % hit and Anti % hit\n",
    "\n",
    "- d          the raw dictionary obtained from first loading the file.\n",
    "\n",
    "\"\"\"\n",
    "function show_run(run_name, ntrials=100; farmdir=\"FarmFields\", further_pars...)\n",
    "\n",
    "    pygui(true)\n",
    "    figure(1); clf();\n",
    "    figure(2); clf();\n",
    "\n",
    "    if endswith(farmdir, \"/\"); farmdir=farmdir[1:end-1]; end;\n",
    "    \n",
    "    if endswith(run_name, \".jld\")\n",
    "        d = load(farmdir * \"/\" * run_name)\n",
    "\n",
    "        extra_pars = d[\"extra_pars\"]\n",
    "        mypars     = d[\"mypars\"]\n",
    "        args       = d[\"args\"]\n",
    "        pars       = d[\"pars\"]\n",
    "    elseif endswith(run_name, \".mat\")                                \n",
    "        d = matread(farmdir * \"/\" * run_name)\n",
    "        \n",
    "        extra_pars = Dict()\n",
    "        mypars     = symbol_key_ize(d[\"model_params\"])\n",
    "        args       = d[\"args\"]\n",
    "        pars       = d[\"pars\"]\n",
    "    else\n",
    "        error(\"Whoa, I only know how to load .mat and .jld files\")\n",
    "    end\n",
    "\n",
    "    delete!(extra_pars, :plot_list)   # we want our own plot_list\n",
    "    delete!(extra_pars, :seedrand)    # don't use the farm's seedrand. (Could change this if wanted)\n",
    "\n",
    "    # Add or replace alternative period values if needed\n",
    "    # if rule_and_delay_period != nothing; extra_pars[:rule_and_delay_period] = rule_and_delay_period; end;\n",
    "    # if target_period         != nothing; extra_pars[:target_period]         = target_period;         end;\n",
    "    # if post_target_period    != nothing; extra_pars[:post_target_period]    = post_target_period;    end;\n",
    "\n",
    "    # Run it\n",
    "    proVs, antiVs = run_ntrials(ntrials, ntrials; plot_list=[1:30;], \n",
    "        merge(make_dict(args, pars, merge(mypars, extra_pars)), Dict(further_pars))...)[1:2]\n",
    "\n",
    "    # Add titles with the binarized hit rates\n",
    "    hBP = 100*length(find(proVs[1,:]  .> proVs[4,:])) /size(proVs, 2)\n",
    "    hBA = 100*length(find(antiVs[4,:] .> antiVs[1,:]))/size(antiVs,2)\n",
    "\n",
    "    figure(1); subplot(3,1,1); title(@sprintf(\"%s: binarized Pro  hits = %.1f %%\\n\", run_name, hBP))\n",
    "    figure(2); subplot(3,1,1); title(@sprintf(\"%s: binarized Anti hits = %.1f %%\\n\", run_name, hBA))\n",
    "    \n",
    "    return hBP, hBA, d\n",
    "end\n",
    "\n"
   ]
  },
  {
   "cell_type": "code",
   "execution_count": 290,
   "metadata": {
    "collapsed": false
   },
   "outputs": [
    {
     "name": "stdout",
     "output_type": "stream",
     "text": [
      "30.77 % good runs out of 65\n"
     ]
    }
   ],
   "source": [
    "#@include_me analyze_reduced_farm.jl\n",
    "\n",
    "# IDENTIFY GOOD RUNS FROM FARM\n",
    "\n",
    "using JLD\n",
    "I = results = files = 0\n",
    "\n",
    "farm_id = \"C4\"; farmdir = \"FarmFields\"\n",
    "farm_id = \"C6\"; farmdir = \"../NewFarms\"\n",
    "farm_id = \"C11\"; farmdir = \"../NewFarms\"\n",
    "\n",
    "recompute_me = true; if recompute_me || !isfile(\"Temp/\" * farm_id * \"_results.jld\")\n",
    "    results = zeros(0,4)\n",
    "\n",
    "    files = []\n",
    "    for f in filter(x -> startswith(x, \"farm_\" * farm_id * \"_\"), readdir(farmdir * \"/\"))\n",
    "\n",
    "        hBP, hBA, dP, dA= load(farmdir * \"/\" * f, \"hBP\", \"hBA\", \"dP\", \"dA\")\n",
    "        results = [results; [hBP hBA dP dA]]; \n",
    "        files   = [files ; f]\n",
    "        if length(files)>71; break; end;\n",
    "    end\n",
    "    \n",
    "    I = find((results[:,1] .> 0.85) .& (results[:,2] .> 0.65) .& (results[:,3].>0.9) .& (results[:,4].>0.9) .&\n",
    "                ((results[:,1]-results[:,2]) .> 0.1) )\n",
    "\n",
    "    @save \"Temp/\" * farm_id * \"_results.jld\" results files I\n",
    "else\n",
    "    I, results, files = load(\"Temp/\" * farm_id *\"_results.jld\", \"I\", \"results\", \"files\");\n",
    "end\n",
    "\n",
    "@printf(\"%.2f %% good runs out of %d\\n\", 100*length(I)/length(files), length(files))\n"
   ]
  },
  {
   "cell_type": "code",
   "execution_count": 373,
   "metadata": {
    "collapsed": false
   },
   "outputs": [
    {
     "name": "stdout",
     "output_type": "stream",
     "text": [
      "farm_C12_0001.jld : sigma=2.691, q=0.0, 0.0124611\n",
      "farm_C12_0002.jld : sigma=2.203, q=0.0, 0.0157324\n",
      "farm_C12_0003.jld : sigma=-2.232, q=0.0, 0.0135213\n",
      "farm_C12_0004.jld : sigma=-0.135, q=0.0, 0.00092052\n",
      "farm_C12_0005.jld : sigma=2.114, q=0.0, 0.0137117\n",
      "farm_C12_0006.jld : sigma=0.303, q=0.0, 0.000556022\n",
      "farm_C12_0007.jld : sigma=-4.143, q=0.0, 0.0162776\n",
      "farm_C12_0008.jld : sigma=5.063, q=0.0, 0.0106381\n",
      "farm_C12_0009.jld : sigma=1.830, q=0.0, 0.0106238\n",
      "farm_C12_0010.jld : sigma=1.478, q=0.0, 0.0161847\n",
      "farm_C12_0011.jld : sigma=-0.210, q=0.0, 0.000549193\n",
      "farm_C12_0012.jld : sigma=-0.267, q=0.0, 0.000157043\n",
      "farm_C12_0013.jld : sigma=-0.187, q=0.0, 0.000291703\n",
      "farm_C12_0014.jld : sigma=-4.154, q=0.0, 0.0120435\n",
      "farm_C12_0015.jld : sigma=-1.332, q=0.0, 0.0101527\n",
      "farm_C12_0016.jld : sigma=3.135, q=0.0, 0.0147918\n",
      "farm_C12_0017.jld : sigma=-0.117, q=0.0, 0.000445657\n",
      "farm_C12_0018.jld : sigma=1.756, q=0.0, 0.0145529\n",
      "farm_C12_0019.jld : sigma=0.099, q=0.0, 0.000791394\n",
      "farm_C12_0020.jld : sigma=-2.129, q=0.0, 0.0142259\n",
      "farm_C12_0021.jld : sigma=0.174, q=0.0, 0.000375324\n",
      "farm_C12_0022.jld : sigma=3.359, q=0.0, 0.0139975\n",
      "farm_C12_0023.jld : sigma=0.071, q=0.0, 0.000872088\n",
      "farm_C12_0024.jld : sigma=-2.613, q=0.0, 0.0121019\n",
      "farm_C12_0025.jld : sigma=4.782, q=0.0, 0.0143561\n",
      "farm_C12_0026.jld : sigma=-1.545, q=0.0, 0.0109493\n",
      "farm_C12_0027.jld : sigma=0.112, q=0.0, 0.000600218\n",
      "farm_C12_0028.jld : sigma=2.526, q=0.0, 0.0136532\n",
      "farm_C12_0029.jld : sigma=-0.113, q=0.0, -0.000245671\n",
      "farm_C12_0030.jld : sigma=4.090, q=0.0, 0.0154124\n",
      "farm_C12_0031.jld : sigma=0.111, q=0.0, 0.000233013\n",
      "farm_C12_0032.jld : sigma=0.065, q=0.0, -6.35996e-05\n",
      "farm_C12_0033.jld : sigma=0.236, q=0.0, -0.000241941\n",
      "farm_C12_0034.jld : sigma=-2.658, q=0.0, 0.0155635\n",
      "farm_C12_0035.jld : sigma=-0.000, q=0.0, 0.0703611\n",
      "farm_C12_0036.jld : sigma=-0.110, q=0.0, -0.000153827\n",
      "farm_C12_0037.jld : sigma=-2.032, q=0.0, 0.0164453\n",
      "farm_C12_0038.jld : sigma=0.323, q=0.0, 0.00027311\n",
      "farm_C12_0039.jld : sigma=0.893, q=0.0, 0.0164629\n",
      "farm_C12_0040.jld : sigma=-1.678, q=0.0, 0.0107939\n",
      "farm_C12_0041.jld : sigma=0.248, q=0.0, 0.000143462\n",
      "farm_C12_0042.jld : sigma=1.095, q=0.0, 0.0159151\n",
      "farm_C12_0043.jld : sigma=-5.938, q=0.0, 0.0148509\n",
      "farm_C12_0044.jld : sigma=-0.163, q=0.0, -0.000201562\n",
      "farm_C12_0045.jld : sigma=-0.148, q=0.0, 0.000105555\n",
      "farm_C12_0046.jld : sigma=2.024, q=0.0, 0.0123934\n",
      "farm_C12_0047.jld : sigma=3.130, q=0.0, 0.0127437\n",
      "farm_C12_0048.jld : sigma=0.180, q=0.0, 0.000158352\n",
      "farm_C12_0049.jld : sigma=0.057, q=0.0, 0.0329375\n",
      "farm_C12_0050.jld : sigma=1.975, q=0.0, 0.0142286\n",
      "farm_C12_0051.jld : sigma=0.013, q=0.0, 0.00236018\n",
      "farm_C12_0052.jld : sigma=-0.192, q=0.0, 0.000565026\n",
      "farm_C12_0053.jld : sigma=-0.097, q=0.0, 0.000416875\n",
      "farm_C12_0054.jld : sigma=0.186, q=0.0, 0.000411209\n",
      "farm_C12_0055.jld : sigma=-0.202, q=0.0, 0.00106516\n",
      "farm_C12_0056.jld : sigma=-5.590, q=0.0, 0.0129556\n",
      "farm_C12_0057.jld : sigma=-0.313, q=0.0, 0.0144771\n",
      "farm_C12_0058.jld : sigma=0.158, q=0.0, 0.000199293\n",
      "farm_C12_0059.jld : sigma=-0.260, q=0.0, 0.00143367\n",
      "farm_C12_0060.jld : sigma=0.006, q=0.0, 0.000511414\n",
      "farm_C12_0061.jld : sigma=1.848, q=0.0, 0.0162846\n",
      "farm_C12_0062.jld : sigma=-0.005, q=0.0, 0.000419903\n",
      "farm_C12_0063.jld : sigma=0.185, q=0.0, 0.0266068\n",
      "farm_C12_0064.jld : sigma=0.083, q=0.0, 0.00591565\n",
      "farm_C12_0065.jld : sigma=0.073, q=0.0, -0.000259746\n",
      "farm_C12_0066.jld : sigma=0.039, q=0.0, 0.00428382\n",
      "farm_C12_0067.jld : sigma=-0.097, q=0.0, -0.000188392\n",
      "farm_C12_0068.jld : sigma=0.153, q=0.0, -9.59666e-06\n",
      "farm_C12_0069.jld : sigma=0.125, q=0.0, -0.000163534\n",
      "farm_C12_0070.jld : sigma=0.357, q=0.0, 0.0172134\n",
      "farm_C12_0071.jld : sigma=-0.604, q=0.0, 0.0139386\n",
      "farm_C12_0072.jld : sigma=-0.109, q=0.0, -0.000254498\n",
      "farm_C12_0073.jld : sigma=2.198, q=0.0, 0.0165344\n",
      "farm_C12_0074.jld : sigma=-2.170, q=0.0, 0.0145806\n",
      "farm_C12_0075.jld : sigma=-3.275, q=0.0, 0.0151696\n",
      "farm_C12_0076.jld : sigma=-3.035, q=0.0, 0.011777\n",
      "farm_C12_0077.jld : sigma=0.117, q=0.0, -0.000285591\n",
      "farm_C12_0078.jld : sigma=0.222, q=0.0, 0.000211316\n",
      "farm_C12_0079.jld : sigma=-2.035, q=0.0, 0.0114462\n",
      "farm_C12_0080.jld : sigma=-0.261, q=0.0, 0.000520481\n",
      "farm_C12_0081.jld : sigma=0.138, q=0.0, -0.000212568\n",
      "farm_C12_0082.jld : sigma=-0.346, q=0.0, 0.000552093\n",
      "farm_C12_0083.jld : sigma=-1.016, q=0.0, 0.0102891\n",
      "farm_C12_0084.jld : sigma=0.697, q=0.0, 0.0133285\n",
      "farm_C12_0085.jld : sigma=0.197, q=0.0, -0.000177906\n",
      "farm_C12_0086.jld : sigma=4.599, q=0.0, 0.0134118\n",
      "farm_C12_0087.jld : sigma=-0.256, q=0.0, -5.85135e-05\n",
      "farm_C12_0088.jld : sigma=2.107, q=0.0, 0.0128228\n",
      "farm_C12_0089.jld : sigma=2.766, q=0.0, 0.0129757\n",
      "farm_C12_0090.jld : sigma=-3.321, q=0.0, 0.0139298\n",
      "farm_C12_0091.jld : sigma=0.088, q=0.0, 0.00432185\n",
      "farm_C12_0092.jld : sigma=0.140, q=0.0, 0.000549419\n",
      "farm_C12_0093.jld : sigma=0.120, q=0.0, -0.000263899\n",
      "farm_C12_0094.jld : sigma=0.061, q=0.0, 0.000103199\n",
      "farm_C12_0095.jld : sigma=0.181, q=0.0, 0.000627363\n",
      "farm_C12_0096.jld : sigma=0.174, q=0.0, 0.000535646\n",
      "farm_C12_0097.jld : sigma=-0.001, q=0.0, -0.000266277\n",
      "farm_C12_0098.jld : sigma=4.854, q=0.0, 0.0153135\n",
      "farm_C12_0099.jld : sigma=9.252, q=0.0, 0.0170882\n",
      "farm_C12_0100.jld : sigma=-0.039, q=0.0, -0.000293799\n",
      "farm_C12_0101.jld : sigma=0.188, q=0.0, 0.00051713\n",
      "farm_C12_0102.jld : sigma=0.115, q=0.0, -0.00026923\n",
      "farm_C12_0103.jld : sigma=0.073, q=0.0, -0.000185268\n",
      "farm_C12_0104.jld : sigma=0.136, q=0.0, 0.0040118\n",
      "farm_C12_0105.jld : sigma=-3.341, q=0.0, 0.0158276\n",
      "farm_C12_0106.jld : sigma=0.335, q=0.0, 0.00121724\n",
      "farm_C12_0107.jld : sigma=0.959, q=0.0, 0.0144309\n"
     ]
    },
    {
     "data": {
      "text/plain": [
       "107×2 Array{Float64,2}:\n",
       " 0.0   0.0124611  \n",
       " 0.0   0.0157324  \n",
       " 0.0   0.0135213  \n",
       " 0.0   0.00092052 \n",
       " 0.0   0.0137117  \n",
       " 0.0   0.000556022\n",
       " 0.0   0.0162776  \n",
       " 0.0   0.0106381  \n",
       " 0.0   0.0106238  \n",
       " 0.0   0.0161847  \n",
       " 0.0   0.000549193\n",
       " 0.0   0.000157043\n",
       " 0.0   0.000291703\n",
       " ⋮                \n",
       " 0.0   0.000535646\n",
       " 0.0  -0.000266277\n",
       " 0.0   0.0153135  \n",
       " 0.0   0.0170882  \n",
       " 0.0  -0.000293799\n",
       " 0.0   0.00051713 \n",
       " 0.0  -0.00026923 \n",
       " 0.0  -0.000185268\n",
       " 0.0   0.0040118  \n",
       " 0.0   0.0158276  \n",
       " 0.0   0.00121724 \n",
       " 0.0   0.0144309  "
      ]
     },
     "execution_count": 373,
     "metadata": {},
     "output_type": "execute_result"
    }
   ],
   "source": [
    "# farm_id = \"C11\"; farmdir = \"../NewFarms\"\n",
    "\n",
    "function lookem(;farm_id=\"C11\", farmdir=\"../NewFarms\")\n",
    "    results = zeros(0,2)\n",
    "    for f in filter(x -> startswith(x, \"farm_\" * farm_id * \"_\"), readdir(farmdir * \"/\"))\n",
    "        d = load(farmdir * \"/\" * f)\n",
    "        if !haskey(d, \"qu_out\"); d[\"qu_out\"] = [0 0]; end;\n",
    "        traj3 = d[\"traj3\"]; qu_out = d[\"qu_out\"]\n",
    "        @printf(\"%s : sigma=%.3f, q=%.1f, %g\\n\", f, d[\"pars3\"][7], qu_out[1], traj3[2,end])\n",
    "        results = [results ; qu_out[1] traj3[2,end]]\n",
    "    end\n",
    "    return results\n",
    "end\n",
    "\n",
    "res = lookem(farm_id=\"C12\")"
   ]
  },
  {
   "cell_type": "code",
   "execution_count": 383,
   "metadata": {
    "collapsed": false
   },
   "outputs": [
    {
     "data": {
      "text/plain": [
       "11-element Array{Int64,1}:\n",
       "  29\n",
       "  33\n",
       "  44\n",
       "  65\n",
       "  72\n",
       "  77\n",
       "  81\n",
       "  93\n",
       "  97\n",
       " 100\n",
       " 102"
      ]
     },
     "execution_count": 383,
     "metadata": {},
     "output_type": "execute_result"
    }
   ],
   "source": [
    "find(res[:,2].<-0.0002)"
   ]
  },
  {
   "cell_type": "code",
   "execution_count": 406,
   "metadata": {
    "collapsed": false
   },
   "outputs": [
    {
     "data": {
      "text/plain": [
       "0×2 Array{Float64,2}"
      ]
     },
     "execution_count": 406,
     "metadata": {},
     "output_type": "execute_result"
    }
   ],
   "source": [
    "res[res[:,2].<-0.0002,:]"
   ]
  },
  {
   "cell_type": "code",
   "execution_count": 415,
   "metadata": {
    "collapsed": false
   },
   "outputs": [
    {
     "name": "stdout",
     "output_type": "stream",
     "text": [
      "Opto condition # 1\n",
      "     - 1 - cost=-7.09136e-05, cost1=0.000101055, cost2=-0.000171968\n",
      "     - 1 - mean(hitsP)=0.920218, mean(diffsP)=0.856472 mean(hitsA)=0.685944, mean(diffsA)=0.175338\n",
      "Opto condition # 2\n",
      "     - 2 - cost=0.000501836, cost1=0.000667781, cost2=-0.000165945\n",
      "     - 2 - mean(hitsP)=0.879656, mean(diffsP)=0.762681 mean(hitsA)=0.555922, mean(diffsA)=0.232991\n",
      "Opto condition # 3\n",
      "     - 3 - cost=-0.000137425, cost1=2.64785e-05, cost2=-0.000163903\n",
      "     - 3 - mean(hitsP)=0.899541, mean(diffsP)=0.818891 mean(hitsA)=0.712596, mean(diffsA)=0.164528\n",
      "OVERALL\n",
      "     -- cost=9.78326e-05, cost1=0.000265105, cost2=-0.000167272\n"
     ]
    },
    {
     "data": {
      "text/plain": [
       "(9.783261758601329e-5, [0.000303164 0.0 0.0; 0.00200334 0.0 0.0; 7.94354e-5 0.0 0.0], [-0.000515905 0.0 0.0; -0.000497836 0.0 0.0; -0.00049171 0.0 0.0], [0.920218; 0.879656; 0.899541], [0.685944; 0.555922; 0.712596], [0.856472; 0.762681; 0.818891], [0.175338; 0.232991; 0.164528], [0.9125; 0.87375; 0.88875], [0.795; 0.66375; 0.8325])"
      ]
     },
     "execution_count": 415,
     "metadata": {},
     "output_type": "execute_result"
    }
   ],
   "source": [
    "testruns=800\n",
    "mypars, extra_pars, args, pars3 = load(\"../NewFarms/farm_C12_0057.jld\", \"mypars\", \"extra_pars\", \"args\", \"pars3\")\n",
    "\n",
    "cost, cost1s, cost2s, hP, hA, dP, dA, hBP, hBA = JJ(testruns, testruns; verbose=false, \n",
    "    make_dict(args, pars3, merge(merge(mypars, extra_pars)))...)\n"
   ]
  },
  {
   "cell_type": "code",
   "execution_count": 355,
   "metadata": {
    "collapsed": false
   },
   "outputs": [
    {
     "data": {
      "text/plain": [
       "1×2 Array{String,2}:\n",
       " \"target_start-0.4\"  \"target_start\""
      ]
     },
     "execution_count": 355,
     "metadata": {},
     "output_type": "execute_result"
    }
   ],
   "source": [
    "reshape(extra_pars[:opto_periods][2,:], 1, 2)"
   ]
  },
  {
   "cell_type": "code",
   "execution_count": 421,
   "metadata": {
    "collapsed": false
   },
   "outputs": [
    {
     "data": {
      "text/plain": [
       "1"
      ]
     },
     "execution_count": 421,
     "metadata": {},
     "output_type": "execute_result"
    }
   ],
   "source": [
    "pygui(true)\n",
    "figure(1); clf();\n",
    "figure(2); clf();\n",
    "\n",
    "these_pars = merge(mypars, extra_pars);\n",
    "these_pars = merge(these_pars, Dict(:opto_strength=>0.85, :opto_times=>reshape(extra_pars[:opto_periods][3,:], 1, 2)))\n",
    "delete!(these_pars, :plot_list)\n",
    "\n",
    "run_ntrials(20, 20; plot_list=[1:20;], make_dict(args, pars3, these_pars)...);\n",
    "1\n"
   ]
  },
  {
   "cell_type": "code",
   "execution_count": 405,
   "metadata": {
    "collapsed": false
   },
   "outputs": [
    {
     "name": "stdout",
     "output_type": "stream",
     "text": [
      "farm_C12_0001.jld : sigma=0.103, q=0.0, 0.0369306\n",
      "farm_C12_0002.jld : sigma=0.122, q=0.0, 0.000667042\n",
      "farm_C12_0003.jld : sigma=0.171, q=0.0, 0.000546032\n",
      "farm_C12_0004.jld : sigma=0.365, q=0.0, 0.00993586\n",
      "farm_C12_0005.jld : sigma=0.100, q=0.0, 1.3221e-05\n",
      "farm_C12_0006.jld : sigma=0.400, q=0.0, 0.0176453\n",
      "farm_C12_0007.jld : sigma=0.100, q=0.0, 0.00013898\n",
      "farm_C12_0008.jld : sigma=0.100, q=0.0, 5.72093e-05\n",
      "farm_C12_0009.jld : sigma=0.400, q=0.0, 0.0186181\n",
      "farm_C12_0010.jld : sigma=0.400, q=0.0, 0.0116447\n",
      "farm_C12_0011.jld : sigma=0.100, q=0.0, 0.000513379\n",
      "farm_C12_0012.jld : sigma=0.100, q=0.0, 0.00096736\n",
      "farm_C12_0013.jld : sigma=0.186, q=0.0, 0.000188401\n",
      "farm_C12_0014.jld : sigma=0.100, q=0.0, 0.00433324\n",
      "farm_C12_0015.jld : sigma=0.191, q=0.0, 0.0253408\n",
      "farm_C12_0016.jld : sigma=0.100, q=0.0, 0.000491822\n",
      "farm_C12_0017.jld : sigma=0.367, q=0.0, 0.0181701\n",
      "farm_C12_0018.jld : sigma=0.100, q=0.0, 0.000945452\n",
      "farm_C12_0019.jld : sigma=0.100, q=0.0, 0.000597058\n",
      "farm_C12_0020.jld : sigma=0.400, q=0.0, 0.0125171\n",
      "farm_C12_0021.jld : sigma=0.100, q=0.0, 3.96708e-05\n",
      "farm_C12_0022.jld : sigma=0.100, q=0.0, -5.52477e-05\n",
      "farm_C12_0023.jld : sigma=0.100, q=0.0, 0.000439986\n",
      "farm_C12_0024.jld : sigma=0.100, q=0.0, 0.000420984\n",
      "farm_C12_0025.jld : sigma=0.103, q=0.0, 0.000513608\n",
      "farm_C12_0026.jld : sigma=0.400, q=0.0, 0.0115008\n",
      "farm_C12_0027.jld : sigma=0.100, q=0.0, 0.000638457\n",
      "farm_C12_0028.jld : sigma=0.146, q=0.0, 0.000485196\n",
      "farm_C12_0029.jld : sigma=0.100, q=0.0, 1.76587e-05\n",
      "farm_C12_0030.jld : sigma=0.142, q=0.0, 0.000143577\n",
      "farm_C12_0031.jld : sigma=0.160, q=0.0, 0.000996021\n",
      "farm_C12_0032.jld : sigma=0.285, q=0.0, 0.0161326\n",
      "farm_C12_0033.jld : sigma=0.125, q=0.0, 0.0286944\n",
      "farm_C12_0034.jld : sigma=0.101, q=0.0, 0.00431912\n",
      "farm_C12_0035.jld : sigma=0.100, q=0.0, -9.24916e-05\n",
      "farm_C12_0036.jld : sigma=0.400, q=0.0, 0.0164781\n",
      "farm_C12_0037.jld : sigma=0.124, q=0.0, 0.00440216\n",
      "farm_C12_0038.jld : sigma=0.321, q=0.0, 0.0290695\n",
      "farm_C12_0039.jld : sigma=0.103, q=0.0, 0.00194133\n",
      "farm_C12_0040.jld : sigma=0.141, q=0.0, 0.000307846\n",
      "farm_C12_0041.jld : sigma=0.182, q=0.0, 0.00352878\n",
      "farm_C12_0042.jld : sigma=0.100, q=0.0, 0.00496094\n",
      "farm_C12_0043.jld : sigma=0.123, q=0.0, 0.00431807\n",
      "farm_C12_0044.jld : sigma=0.334, q=0.0, 0.000750785\n",
      "farm_C12_0045.jld : sigma=0.382, q=0.0, 0.000695843\n",
      "farm_C12_0046.jld : sigma=0.124, q=0.0, 0.00125055\n",
      "farm_C12_0047.jld : sigma=0.216, q=0.0, 0.000307105\n",
      "farm_C12_0048.jld : sigma=0.144, q=0.0, 5.32033e-05\n",
      "farm_C12_0049.jld : sigma=0.100, q=0.0, 0.000137585\n",
      "farm_C12_0050.jld : sigma=0.400, q=0.0, 0.0159108\n",
      "farm_C12_0051.jld : sigma=0.400, q=0.0, 0.0115945\n",
      "farm_C12_0052.jld : sigma=0.103, q=0.0, 0.0338319\n",
      "farm_C12_0053.jld : sigma=0.112, q=0.0, 0.000552202\n",
      "farm_C12_0054.jld : sigma=0.124, q=0.0, 0.00432238\n",
      "farm_C12_0055.jld : sigma=0.100, q=0.0, -8.02953e-05\n",
      "farm_C12_0056.jld : sigma=0.107, q=0.0, 0.000414934\n",
      "farm_C12_0057.jld : sigma=0.100, q=0.0, -0.000105519\n",
      "farm_C12_0058.jld : sigma=0.134, q=0.0, 0.000762329\n",
      "farm_C12_0059.jld : sigma=0.190, q=0.0, 4.6198e-05\n",
      "farm_C12_0060.jld : sigma=0.278, q=0.0, 0.00107108\n",
      "farm_C12_0061.jld : sigma=0.100, q=0.0, 0.000664621\n",
      "farm_C12_0062.jld : sigma=0.100, q=0.0, 0.0122233\n",
      "farm_C12_0063.jld : sigma=0.100, q=0.0, 0.0043287\n",
      "farm_C12_0064.jld : sigma=0.100, q=0.0, 0.000583618\n",
      "farm_C12_0065.jld : sigma=0.100, q=0.0, 0.000429132\n",
      "farm_C12_0066.jld : sigma=0.277, q=0.0, 0.00124881\n",
      "farm_C12_0067.jld : sigma=0.101, q=0.0, 0.00070694\n",
      "farm_C12_0068.jld : sigma=0.100, q=0.0, 0.000587607\n",
      "farm_C12_0069.jld : sigma=0.163, q=0.0, 0.000546773\n",
      "farm_C12_0070.jld : sigma=0.218, q=0.0, 0.0379528\n",
      "farm_C12_0071.jld : sigma=0.100, q=0.0, 5.00901e-05\n",
      "farm_C12_0072.jld : sigma=0.400, q=0.0, 0.0142886\n",
      "farm_C12_0073.jld : sigma=0.167, q=0.0, 8.27869e-05\n",
      "farm_C12_0074.jld : sigma=0.100, q=0.0, 0.000706939\n",
      "farm_C12_0075.jld : sigma=0.400, q=0.0, 0.0152218\n",
      "farm_C12_0076.jld : sigma=0.133, q=0.0, 0.000626825\n",
      "farm_C12_0077.jld : sigma=0.100, q=0.0, 0.00468501\n",
      "farm_C12_0078.jld : sigma=0.205, q=0.0, 0.000217565\n",
      "farm_C12_0079.jld : sigma=0.198, q=0.0, 4.70853e-05\n",
      "farm_C12_0080.jld : sigma=0.400, q=0.0, 0.0216679\n",
      "farm_C12_0081.jld : sigma=0.130, q=0.0, 0.000475514\n",
      "farm_C12_0082.jld : sigma=0.101, q=0.0, 0.00314493\n",
      "farm_C12_0083.jld : sigma=0.288, q=0.0, 0.0148664\n",
      "farm_C12_0084.jld : sigma=0.100, q=0.0, 0.00041907\n",
      "farm_C12_0085.jld : sigma=0.219, q=0.0, 0.00124036\n",
      "farm_C12_0086.jld : sigma=0.400, q=0.0, 0.0180754\n",
      "farm_C12_0087.jld : sigma=0.106, q=0.0, 0.00432022\n",
      "farm_C12_0088.jld : sigma=0.281, q=0.0, 0.000454325\n",
      "farm_C12_0089.jld : sigma=0.135, q=0.0, 0.00107388\n",
      "farm_C12_0090.jld : sigma=0.336, q=0.0, 0.0047064\n",
      "farm_C12_0091.jld : sigma=0.351, q=0.0, 0.000570272\n",
      "farm_C12_0092.jld : sigma=0.112, q=0.0, 0.00111688\n",
      "farm_C12_0093.jld : sigma=0.100, q=0.0, 0.00480634\n",
      "farm_C12_0094.jld : sigma=0.100, q=0.0, 0.000621915\n",
      "farm_C12_0095.jld : sigma=0.153, q=0.0, 0.000170657\n",
      "farm_C12_0096.jld : sigma=0.400, q=0.0, 0.0195543\n",
      "farm_C12_0097.jld : sigma=0.100, q=0.0, 0.00431802\n",
      "farm_C12_0098.jld : sigma=0.122, q=0.0, 0.00433348\n",
      "farm_C12_0099.jld : sigma=0.400, q=0.0, 0.0200233\n",
      "farm_C12_0100.jld : sigma=0.100, q=0.0, 1.75311e-05\n",
      "farm_C12_0101.jld : sigma=0.100, q=0.0, 0.00229116\n",
      "farm_C12_0102.jld : sigma=0.100, q=0.0, 0.000466969\n",
      "farm_C12_0103.jld : sigma=0.400, q=0.0, 0.0154054\n",
      "farm_C12_0104.jld : sigma=0.100, q=0.0, 3.8774e-05\n",
      "farm_C12_0105.jld : sigma=0.222, q=0.0, 0.0199375\n",
      "farm_C12_0106.jld : sigma=0.263, q=0.0, 0.0116492\n",
      "farm_C12_0107.jld : sigma=0.181, q=0.0, 0.000835029\n",
      "farm_C12_0108.jld : sigma=0.100, q=0.0, 2.72276e-05\n",
      "farm_C12_0109.jld : sigma=0.100, q=0.0, 0.00102466\n",
      "farm_C12_0110.jld : sigma=0.278, q=0.0, 0.000423228\n",
      "farm_C12_0111.jld : sigma=0.133, q=0.0, 0.000631994\n",
      "farm_C12_0112.jld : sigma=0.119, q=0.0, 0.0253415\n",
      "farm_C12_0113.jld : sigma=0.112, q=0.0, -2.32455e-05\n",
      "farm_C12_0114.jld : sigma=0.149, q=0.0, 0.00440368\n",
      "farm_C12_0115.jld : sigma=0.166, q=0.0, 0.0183534\n",
      "farm_C12_0116.jld : sigma=0.100, q=0.0, 0.000190765\n",
      "farm_C12_0117.jld : sigma=0.100, q=0.0, 0.00533117\n",
      "farm_C12_0118.jld : sigma=0.338, q=0.0, 0.000737107\n",
      "farm_C12_0119.jld : sigma=0.155, q=0.0, 6.25493e-05\n",
      "farm_C12_0120.jld : sigma=0.183, q=0.0, 0.000824564\n",
      "farm_C12_0121.jld : sigma=0.100, q=0.0, 0.00320951\n",
      "farm_C12_0122.jld : sigma=0.163, q=0.0, 0.0199546\n",
      "farm_C12_0123.jld : sigma=0.100, q=0.0, 0.0137833\n",
      "farm_C12_0124.jld : sigma=0.100, q=0.0, 0.00316671\n",
      "farm_C12_0125.jld : sigma=0.135, q=0.0, 8.86255e-05\n",
      "farm_C12_0126.jld : sigma=0.100, q=0.0, 0.00467285\n",
      "farm_C12_0127.jld : sigma=0.141, q=0.0, 0.000355882\n",
      "farm_C12_0128.jld : sigma=0.400, q=0.0, 0.0180255\n",
      "farm_C12_0129.jld : sigma=0.109, q=0.0, 0.00431953\n",
      "farm_C12_0130.jld : sigma=0.352, q=0.0, 0.0140268\n",
      "farm_C12_0131.jld : sigma=0.100, q=0.0, 5.82897e-05\n",
      "farm_C12_0132.jld : sigma=0.162, q=0.0, -3.11559e-05\n",
      "farm_C12_0133.jld : sigma=0.119, q=0.0, 0.000714303\n",
      "farm_C12_0134.jld : sigma=0.284, q=0.0, 0.027192\n",
      "farm_C12_0135.jld : sigma=0.165, q=0.0, 0.000161\n",
      "farm_C12_0136.jld : sigma=0.100, q=0.0, 0.00100877\n",
      "farm_C12_0137.jld : sigma=0.232, q=0.0, 0.000485593\n",
      "farm_C12_0138.jld : sigma=0.168, q=0.0, 0.000193634\n",
      "farm_C12_0139.jld : sigma=0.100, q=0.0, 0.000588868\n",
      "farm_C12_0140.jld : sigma=0.100, q=0.0, 0.00488113\n",
      "farm_C12_0141.jld : sigma=0.100, q=0.0, 0.000821695\n",
      "farm_C12_0142.jld : sigma=0.206, q=0.0, 0.000606501\n",
      "farm_C12_0143.jld : sigma=0.100, q=0.0, 0.00431924\n",
      "farm_C12_0144.jld : sigma=0.198, q=0.0, -4.87998e-06\n",
      "farm_C12_0145.jld : sigma=0.100, q=0.0, 0.0166524\n",
      "farm_C12_0146.jld : sigma=0.100, q=0.0, 0.00494264\n",
      "farm_C12_0147.jld : sigma=0.100, q=0.0, 0.00248981\n"
     ]
    },
    {
     "data": {
      "text/plain": [
       "147×2 Array{Float64,2}:\n",
       " 0.0   0.0369306  \n",
       " 0.0   0.000667042\n",
       " 0.0   0.000546032\n",
       " 0.0   0.00993586 \n",
       " 0.0   1.3221e-5  \n",
       " 0.0   0.0176453  \n",
       " 0.0   0.00013898 \n",
       " 0.0   5.72093e-5 \n",
       " 0.0   0.0186181  \n",
       " 0.0   0.0116447  \n",
       " 0.0   0.000513379\n",
       " 0.0   0.00096736 \n",
       " 0.0   0.000188401\n",
       " ⋮                \n",
       " 0.0   0.00100877 \n",
       " 0.0   0.000485593\n",
       " 0.0   0.000193634\n",
       " 0.0   0.000588868\n",
       " 0.0   0.00488113 \n",
       " 0.0   0.000821695\n",
       " 0.0   0.000606501\n",
       " 0.0   0.00431924 \n",
       " 0.0  -4.87998e-6 \n",
       " 0.0   0.0166524  \n",
       " 0.0   0.00494264 \n",
       " 0.0   0.00248981 "
      ]
     },
     "execution_count": 405,
     "metadata": {},
     "output_type": "execute_result"
    }
   ],
   "source": [
    "# farm_id = \"C11\"; farmdir = \"../NewFarms\"\n",
    "\n",
    "function lookem(;farm_id=\"C11\", farmdir=\"../NewFarms\")\n",
    "    results = zeros(0,2)\n",
    "    for f in filter(x -> startswith(x, \"farm_\" * farm_id * \"_\"), readdir(farmdir * \"/\"))\n",
    "        d = load(farmdir * \"/\" * f)\n",
    "        if !haskey(d, \"qu_out\"); d[\"qu_out\"] = [0 0]; end;\n",
    "        traj3 = d[\"traj3\"]; qu_out = d[\"qu_out\"]\n",
    "        @printf(\"%s : sigma=%.3f, q=%.1f, %g\\n\", f, d[\"pars3\"][7], qu_out[1], traj3[2,end])\n",
    "        results = [results ; qu_out[1] traj3[2,end]]\n",
    "    end\n",
    "    return results\n",
    "end\n",
    "\n",
    "res = lookem(farm_id=\"C12\")"
   ]
  },
  {
   "cell_type": "code",
   "execution_count": 414,
   "metadata": {
    "collapsed": false
   },
   "outputs": [
    {
     "data": {
      "text/plain": [
       "1-element Array{Int64,1}:\n",
       " 57"
      ]
     },
     "execution_count": 414,
     "metadata": {},
     "output_type": "execute_result"
    }
   ],
   "source": [
    "find(res[:,2].<-0.0001)"
   ]
  },
  {
   "cell_type": "code",
   "execution_count": 432,
   "metadata": {
    "collapsed": false
   },
   "outputs": [
    {
     "data": {
      "text/plain": [
       "Dict{Any,Any} with 9 entries:\n",
       "  :dW                       => [-3.0, 3.0]\n",
       "  :target_period_excitation => [0.0 4.0]\n",
       "  :const_pro_bias           => [-2.0, 2.0]\n",
       "  :hW                       => [-3.0, 3.0]\n",
       "  :sW                       => [0.0, 3.0]\n",
       "  :vW                       => [-3.0, 3.0]\n",
       "  :sigma                    => [0.1, 0.4]\n",
       "  :constant_excitation      => [-2.0, 2.0]\n",
       "  :right_light_excitation   => [0.05, 4.0]"
      ]
     },
     "execution_count": 432,
     "metadata": {},
     "output_type": "execute_result"
    }
   ],
   "source": [
    "load(\"../NewFarms/farm_C12_0144.jld\", \"bbox\")"
   ]
  },
  {
   "cell_type": "code",
   "execution_count": 433,
   "metadata": {
    "collapsed": false
   },
   "outputs": [
    {
     "name": "stdout",
     "output_type": "stream",
     "text": [
      "mv ../NewFarms/farm_C12_0001.jld ../NewFarms/farm_C13_0001.jld\n",
      "mv ../NewFarms/farm_C12_0002.jld ../NewFarms/farm_C13_0002.jld\n",
      "mv ../NewFarms/farm_C12_0003.jld ../NewFarms/farm_C13_0003.jld\n",
      "mv ../NewFarms/farm_C12_0004.jld ../NewFarms/farm_C13_0004.jld\n",
      "mv ../NewFarms/farm_C12_0005.jld ../NewFarms/farm_C13_0005.jld\n",
      "mv ../NewFarms/farm_C12_0006.jld ../NewFarms/farm_C13_0006.jld\n",
      "mv ../NewFarms/farm_C12_0007.jld ../NewFarms/farm_C13_0007.jld\n",
      "mv ../NewFarms/farm_C12_0008.jld ../NewFarms/farm_C13_0008.jld\n",
      "mv ../NewFarms/farm_C12_0009.jld ../NewFarms/farm_C13_0009.jld\n",
      "mv ../NewFarms/farm_C12_0010.jld ../NewFarms/farm_C13_0010.jld\n",
      "mv ../NewFarms/farm_C12_0011.jld ../NewFarms/farm_C13_0011.jld\n",
      "mv ../NewFarms/farm_C12_0012.jld ../NewFarms/farm_C13_0012.jld\n",
      "mv ../NewFarms/farm_C12_0013.jld ../NewFarms/farm_C13_0013.jld\n",
      "mv ../NewFarms/farm_C12_0014.jld ../NewFarms/farm_C13_0014.jld\n",
      "mv ../NewFarms/farm_C12_0015.jld ../NewFarms/farm_C13_0015.jld\n",
      "mv ../NewFarms/farm_C12_0016.jld ../NewFarms/farm_C13_0016.jld\n",
      "mv ../NewFarms/farm_C12_0017.jld ../NewFarms/farm_C13_0017.jld\n",
      "mv ../NewFarms/farm_C12_0018.jld ../NewFarms/farm_C13_0018.jld\n",
      "mv ../NewFarms/farm_C12_0019.jld ../NewFarms/farm_C13_0019.jld\n",
      "mv ../NewFarms/farm_C12_0020.jld ../NewFarms/farm_C13_0020.jld\n",
      "mv ../NewFarms/farm_C12_0021.jld ../NewFarms/farm_C13_0021.jld\n",
      "mv ../NewFarms/farm_C12_0022.jld ../NewFarms/farm_C13_0022.jld\n",
      "mv ../NewFarms/farm_C12_0023.jld ../NewFarms/farm_C13_0023.jld\n",
      "mv ../NewFarms/farm_C12_0024.jld ../NewFarms/farm_C13_0024.jld\n",
      "mv ../NewFarms/farm_C12_0025.jld ../NewFarms/farm_C13_0025.jld\n",
      "mv ../NewFarms/farm_C12_0026.jld ../NewFarms/farm_C13_0026.jld\n",
      "mv ../NewFarms/farm_C12_0027.jld ../NewFarms/farm_C13_0027.jld\n",
      "mv ../NewFarms/farm_C12_0028.jld ../NewFarms/farm_C13_0028.jld\n",
      "mv ../NewFarms/farm_C12_0029.jld ../NewFarms/farm_C13_0029.jld\n",
      "mv ../NewFarms/farm_C12_0030.jld ../NewFarms/farm_C13_0030.jld\n",
      "mv ../NewFarms/farm_C12_0031.jld ../NewFarms/farm_C13_0031.jld\n",
      "mv ../NewFarms/farm_C12_0032.jld ../NewFarms/farm_C13_0032.jld\n",
      "mv ../NewFarms/farm_C12_0033.jld ../NewFarms/farm_C13_0033.jld\n",
      "mv ../NewFarms/farm_C12_0034.jld ../NewFarms/farm_C13_0034.jld\n",
      "mv ../NewFarms/farm_C12_0035.jld ../NewFarms/farm_C13_0035.jld\n",
      "mv ../NewFarms/farm_C12_0036.jld ../NewFarms/farm_C13_0036.jld\n",
      "mv ../NewFarms/farm_C12_0037.jld ../NewFarms/farm_C13_0037.jld\n",
      "mv ../NewFarms/farm_C12_0038.jld ../NewFarms/farm_C13_0038.jld\n",
      "mv ../NewFarms/farm_C12_0039.jld ../NewFarms/farm_C13_0039.jld\n",
      "mv ../NewFarms/farm_C12_0040.jld ../NewFarms/farm_C13_0040.jld\n",
      "mv ../NewFarms/farm_C12_0041.jld ../NewFarms/farm_C13_0041.jld\n",
      "mv ../NewFarms/farm_C12_0042.jld ../NewFarms/farm_C13_0042.jld\n",
      "mv ../NewFarms/farm_C12_0043.jld ../NewFarms/farm_C13_0043.jld\n",
      "mv ../NewFarms/farm_C12_0044.jld ../NewFarms/farm_C13_0044.jld\n",
      "mv ../NewFarms/farm_C12_0045.jld ../NewFarms/farm_C13_0045.jld\n",
      "mv ../NewFarms/farm_C12_0046.jld ../NewFarms/farm_C13_0046.jld\n",
      "mv ../NewFarms/farm_C12_0047.jld ../NewFarms/farm_C13_0047.jld\n",
      "mv ../NewFarms/farm_C12_0048.jld ../NewFarms/farm_C13_0048.jld\n",
      "mv ../NewFarms/farm_C12_0049.jld ../NewFarms/farm_C13_0049.jld\n",
      "mv ../NewFarms/farm_C12_0050.jld ../NewFarms/farm_C13_0050.jld\n",
      "mv ../NewFarms/farm_C12_0051.jld ../NewFarms/farm_C13_0051.jld\n",
      "mv ../NewFarms/farm_C12_0052.jld ../NewFarms/farm_C13_0052.jld\n",
      "mv ../NewFarms/farm_C12_0053.jld ../NewFarms/farm_C13_0053.jld\n",
      "mv ../NewFarms/farm_C12_0054.jld ../NewFarms/farm_C13_0054.jld\n",
      "mv ../NewFarms/farm_C12_0055.jld ../NewFarms/farm_C13_0055.jld\n",
      "mv ../NewFarms/farm_C12_0056.jld ../NewFarms/farm_C13_0056.jld\n",
      "mv ../NewFarms/farm_C12_0057.jld ../NewFarms/farm_C13_0057.jld\n",
      "mv ../NewFarms/farm_C12_0058.jld ../NewFarms/farm_C13_0058.jld\n",
      "mv ../NewFarms/farm_C12_0059.jld ../NewFarms/farm_C13_0059.jld\n",
      "mv ../NewFarms/farm_C12_0060.jld ../NewFarms/farm_C13_0060.jld\n",
      "mv ../NewFarms/farm_C12_0061.jld ../NewFarms/farm_C13_0061.jld\n",
      "mv ../NewFarms/farm_C12_0062.jld ../NewFarms/farm_C13_0062.jld\n",
      "mv ../NewFarms/farm_C12_0063.jld ../NewFarms/farm_C13_0063.jld\n",
      "mv ../NewFarms/farm_C12_0064.jld ../NewFarms/farm_C13_0064.jld\n",
      "mv ../NewFarms/farm_C12_0065.jld ../NewFarms/farm_C13_0065.jld\n",
      "mv ../NewFarms/farm_C12_0066.jld ../NewFarms/farm_C13_0066.jld\n",
      "mv ../NewFarms/farm_C12_0067.jld ../NewFarms/farm_C13_0067.jld\n",
      "mv ../NewFarms/farm_C12_0068.jld ../NewFarms/farm_C13_0068.jld\n",
      "mv ../NewFarms/farm_C12_0069.jld ../NewFarms/farm_C13_0069.jld\n",
      "mv ../NewFarms/farm_C12_0070.jld ../NewFarms/farm_C13_0070.jld\n",
      "mv ../NewFarms/farm_C12_0071.jld ../NewFarms/farm_C13_0071.jld\n",
      "mv ../NewFarms/farm_C12_0072.jld ../NewFarms/farm_C13_0072.jld\n",
      "mv ../NewFarms/farm_C12_0073.jld ../NewFarms/farm_C13_0073.jld\n",
      "mv ../NewFarms/farm_C12_0074.jld ../NewFarms/farm_C13_0074.jld\n",
      "mv ../NewFarms/farm_C12_0075.jld ../NewFarms/farm_C13_0075.jld\n",
      "mv ../NewFarms/farm_C12_0076.jld ../NewFarms/farm_C13_0076.jld\n",
      "mv ../NewFarms/farm_C12_0077.jld ../NewFarms/farm_C13_0077.jld\n",
      "mv ../NewFarms/farm_C12_0078.jld ../NewFarms/farm_C13_0078.jld\n",
      "mv ../NewFarms/farm_C12_0079.jld ../NewFarms/farm_C13_0079.jld\n",
      "mv ../NewFarms/farm_C12_0080.jld ../NewFarms/farm_C13_0080.jld\n",
      "mv ../NewFarms/farm_C12_0081.jld ../NewFarms/farm_C13_0081.jld\n",
      "mv ../NewFarms/farm_C12_0082.jld ../NewFarms/farm_C13_0082.jld\n",
      "mv ../NewFarms/farm_C12_0083.jld ../NewFarms/farm_C13_0083.jld\n",
      "mv ../NewFarms/farm_C12_0084.jld ../NewFarms/farm_C13_0084.jld\n",
      "mv ../NewFarms/farm_C12_0085.jld ../NewFarms/farm_C13_0085.jld\n",
      "mv ../NewFarms/farm_C12_0086.jld ../NewFarms/farm_C13_0086.jld\n",
      "mv ../NewFarms/farm_C12_0087.jld ../NewFarms/farm_C13_0087.jld\n",
      "mv ../NewFarms/farm_C12_0088.jld ../NewFarms/farm_C13_0088.jld\n",
      "mv ../NewFarms/farm_C12_0089.jld ../NewFarms/farm_C13_0089.jld\n",
      "mv ../NewFarms/farm_C12_0090.jld ../NewFarms/farm_C13_0090.jld\n",
      "mv ../NewFarms/farm_C12_0091.jld ../NewFarms/farm_C13_0091.jld\n",
      "mv ../NewFarms/farm_C12_0092.jld ../NewFarms/farm_C13_0092.jld\n",
      "mv ../NewFarms/farm_C12_0093.jld ../NewFarms/farm_C13_0093.jld\n",
      "mv ../NewFarms/farm_C12_0094.jld ../NewFarms/farm_C13_0094.jld\n",
      "mv ../NewFarms/farm_C12_0095.jld ../NewFarms/farm_C13_0095.jld\n",
      "mv ../NewFarms/farm_C12_0096.jld ../NewFarms/farm_C13_0096.jld\n",
      "mv ../NewFarms/farm_C12_0097.jld ../NewFarms/farm_C13_0097.jld\n",
      "mv ../NewFarms/farm_C12_0098.jld ../NewFarms/farm_C13_0098.jld\n",
      "mv ../NewFarms/farm_C12_0099.jld ../NewFarms/farm_C13_0099.jld\n",
      "mv ../NewFarms/farm_C12_0100.jld ../NewFarms/farm_C13_0100.jld\n",
      "mv ../NewFarms/farm_C12_0101.jld ../NewFarms/farm_C13_0101.jld\n",
      "mv ../NewFarms/farm_C12_0102.jld ../NewFarms/farm_C13_0102.jld\n",
      "mv ../NewFarms/farm_C12_0103.jld ../NewFarms/farm_C13_0103.jld\n",
      "mv ../NewFarms/farm_C12_0104.jld ../NewFarms/farm_C13_0104.jld\n",
      "mv ../NewFarms/farm_C12_0105.jld ../NewFarms/farm_C13_0105.jld\n",
      "mv ../NewFarms/farm_C12_0106.jld ../NewFarms/farm_C13_0106.jld\n",
      "mv ../NewFarms/farm_C12_0107.jld ../NewFarms/farm_C13_0107.jld\n",
      "mv ../NewFarms/farm_C12_0108.jld ../NewFarms/farm_C13_0108.jld\n",
      "mv ../NewFarms/farm_C12_0109.jld ../NewFarms/farm_C13_0109.jld\n",
      "mv ../NewFarms/farm_C12_0110.jld ../NewFarms/farm_C13_0110.jld\n",
      "mv ../NewFarms/farm_C12_0111.jld ../NewFarms/farm_C13_0111.jld\n",
      "mv ../NewFarms/farm_C12_0112.jld ../NewFarms/farm_C13_0112.jld\n",
      "mv ../NewFarms/farm_C12_0113.jld ../NewFarms/farm_C13_0113.jld\n",
      "mv ../NewFarms/farm_C12_0114.jld ../NewFarms/farm_C13_0114.jld\n",
      "mv ../NewFarms/farm_C12_0115.jld ../NewFarms/farm_C13_0115.jld\n",
      "mv ../NewFarms/farm_C12_0116.jld ../NewFarms/farm_C13_0116.jld\n",
      "mv ../NewFarms/farm_C12_0117.jld ../NewFarms/farm_C13_0117.jld\n",
      "mv ../NewFarms/farm_C12_0118.jld ../NewFarms/farm_C13_0118.jld\n",
      "mv ../NewFarms/farm_C12_0119.jld ../NewFarms/farm_C13_0119.jld\n",
      "mv ../NewFarms/farm_C12_0120.jld ../NewFarms/farm_C13_0120.jld\n",
      "mv ../NewFarms/farm_C12_0121.jld ../NewFarms/farm_C13_0121.jld\n",
      "mv ../NewFarms/farm_C12_0122.jld ../NewFarms/farm_C13_0122.jld\n",
      "mv ../NewFarms/farm_C12_0123.jld ../NewFarms/farm_C13_0123.jld\n",
      "mv ../NewFarms/farm_C12_0124.jld ../NewFarms/farm_C13_0124.jld\n",
      "mv ../NewFarms/farm_C12_0125.jld ../NewFarms/farm_C13_0125.jld\n",
      "mv ../NewFarms/farm_C12_0126.jld ../NewFarms/farm_C13_0126.jld\n",
      "mv ../NewFarms/farm_C12_0127.jld ../NewFarms/farm_C13_0127.jld\n",
      "mv ../NewFarms/farm_C12_0128.jld ../NewFarms/farm_C13_0128.jld\n",
      "mv ../NewFarms/farm_C12_0129.jld ../NewFarms/farm_C13_0129.jld\n",
      "mv ../NewFarms/farm_C12_0130.jld ../NewFarms/farm_C13_0130.jld\n",
      "mv ../NewFarms/farm_C12_0131.jld ../NewFarms/farm_C13_0131.jld\n",
      "mv ../NewFarms/farm_C12_0132.jld ../NewFarms/farm_C13_0132.jld\n",
      "mv ../NewFarms/farm_C12_0133.jld ../NewFarms/farm_C13_0133.jld\n",
      "mv ../NewFarms/farm_C12_0134.jld ../NewFarms/farm_C13_0134.jld\n",
      "mv ../NewFarms/farm_C12_0135.jld ../NewFarms/farm_C13_0135.jld\n",
      "mv ../NewFarms/farm_C12_0136.jld ../NewFarms/farm_C13_0136.jld\n",
      "mv ../NewFarms/farm_C12_0137.jld ../NewFarms/farm_C13_0137.jld\n",
      "mv ../NewFarms/farm_C12_0138.jld ../NewFarms/farm_C13_0138.jld\n",
      "mv ../NewFarms/farm_C12_0139.jld ../NewFarms/farm_C13_0139.jld\n",
      "mv ../NewFarms/farm_C12_0140.jld ../NewFarms/farm_C13_0140.jld\n",
      "mv ../NewFarms/farm_C12_0141.jld ../NewFarms/farm_C13_0141.jld\n",
      "mv ../NewFarms/farm_C12_0142.jld ../NewFarms/farm_C13_0142.jld\n",
      "mv ../NewFarms/farm_C12_0143.jld ../NewFarms/farm_C13_0143.jld\n",
      "mv ../NewFarms/farm_C12_0144.jld ../NewFarms/farm_C13_0144.jld\n",
      "mv ../NewFarms/farm_C12_0145.jld ../NewFarms/farm_C13_0145.jld\n",
      "mv ../NewFarms/farm_C12_0146.jld ../NewFarms/farm_C13_0146.jld\n",
      "mv ../NewFarms/farm_C12_0147.jld ../NewFarms/farm_C13_0147.jld\n",
      "mv ../NewFarms/farm_C12_0148.jld ../NewFarms/farm_C13_0148.jld\n",
      "mv ../NewFarms/farm_C12_0149.jld ../NewFarms/farm_C13_0149.jld\n",
      "mv ../NewFarms/farm_C12_0150.jld ../NewFarms/farm_C13_0150.jld\n",
      "mv ../NewFarms/farm_C12_0151.jld ../NewFarms/farm_C13_0151.jld\n",
      "mv ../NewFarms/farm_C12_0152.jld ../NewFarms/farm_C13_0152.jld\n",
      "mv ../NewFarms/farm_C12_0153.jld ../NewFarms/farm_C13_0153.jld\n",
      "mv ../NewFarms/farm_C12_0154.jld ../NewFarms/farm_C13_0154.jld\n",
      "mv ../NewFarms/farm_C12_0155.jld ../NewFarms/farm_C13_0155.jld\n",
      "mv ../NewFarms/farm_C12_0156.jld ../NewFarms/farm_C13_0156.jld\n",
      "mv ../NewFarms/farm_C12_0157.jld ../NewFarms/farm_C13_0157.jld\n",
      "mv ../NewFarms/farm_C12_0158.jld ../NewFarms/farm_C13_0158.jld\n",
      "mv ../NewFarms/farm_C12_0159.jld ../NewFarms/farm_C13_0159.jld\n",
      "mv ../NewFarms/farm_C12_0160.jld ../NewFarms/farm_C13_0160.jld\n",
      "mv ../NewFarms/farm_C12_0161.jld ../NewFarms/farm_C13_0161.jld\n",
      "mv ../NewFarms/farm_C12_0162.jld ../NewFarms/farm_C13_0162.jld\n",
      "mv ../NewFarms/farm_C12_0163.jld ../NewFarms/farm_C13_0163.jld\n",
      "mv ../NewFarms/farm_C12_0164.jld ../NewFarms/farm_C13_0164.jld\n",
      "mv ../NewFarms/farm_C12_0165.jld ../NewFarms/farm_C13_0165.jld\n",
      "mv ../NewFarms/farm_C12_0166.jld ../NewFarms/farm_C13_0166.jld\n",
      "mv ../NewFarms/farm_C12_0167.jld ../NewFarms/farm_C13_0167.jld\n",
      "mv ../NewFarms/farm_C12_0168.jld ../NewFarms/farm_C13_0168.jld\n",
      "mv ../NewFarms/farm_C12_0169.jld ../NewFarms/farm_C13_0169.jld\n",
      "mv ../NewFarms/farm_C12_0170.jld ../NewFarms/farm_C13_0170.jld\n",
      "mv ../NewFarms/farm_C12_0171.jld ../NewFarms/farm_C13_0171.jld\n",
      "mv ../NewFarms/farm_C12_0172.jld ../NewFarms/farm_C13_0172.jld\n",
      "mv ../NewFarms/farm_C12_0173.jld ../NewFarms/farm_C13_0173.jld\n",
      "mv ../NewFarms/farm_C12_0174.jld ../NewFarms/farm_C13_0174.jld\n",
      "mv ../NewFarms/farm_C12_0175.jld ../NewFarms/farm_C13_0175.jld\n",
      "mv ../NewFarms/farm_C12_0176.jld ../NewFarms/farm_C13_0176.jld\n",
      "mv ../NewFarms/farm_C12_0177.jld ../NewFarms/farm_C13_0177.jld\n",
      "mv ../NewFarms/farm_C12_0178.jld ../NewFarms/farm_C13_0178.jld\n",
      "mv ../NewFarms/farm_C12_0179.jld ../NewFarms/farm_C13_0179.jld\n",
      "mv ../NewFarms/farm_C12_0180.jld ../NewFarms/farm_C13_0180.jld\n",
      "mv ../NewFarms/farm_C12_0181.jld ../NewFarms/farm_C13_0181.jld\n",
      "mv ../NewFarms/farm_C12_0182.jld ../NewFarms/farm_C13_0182.jld\n",
      "mv ../NewFarms/farm_C12_0183.jld ../NewFarms/farm_C13_0183.jld\n",
      "mv ../NewFarms/farm_C12_0184.jld ../NewFarms/farm_C13_0184.jld\n",
      "mv ../NewFarms/farm_C12_0185.jld ../NewFarms/farm_C13_0185.jld\n",
      "mv ../NewFarms/farm_C12_0186.jld ../NewFarms/farm_C13_0186.jld\n",
      "mv ../NewFarms/farm_C12_0187.jld ../NewFarms/farm_C13_0187.jld\n",
      "mv ../NewFarms/farm_C12_0188.jld ../NewFarms/farm_C13_0188.jld\n",
      "mv ../NewFarms/farm_C12_0189.jld ../NewFarms/farm_C13_0189.jld\n",
      "mv ../NewFarms/farm_C12_0190.jld ../NewFarms/farm_C13_0190.jld\n",
      "mv ../NewFarms/farm_C12_0191.jld ../NewFarms/farm_C13_0191.jld\n",
      "mv ../NewFarms/farm_C12_0192.jld ../NewFarms/farm_C13_0192.jld\n",
      "mv ../NewFarms/farm_C12_0193.jld ../NewFarms/farm_C13_0193.jld\n",
      "mv ../NewFarms/farm_C12_0194.jld ../NewFarms/farm_C13_0194.jld\n",
      "mv ../NewFarms/farm_C12_0195.jld ../NewFarms/farm_C13_0195.jld\n",
      "mv ../NewFarms/farm_C12_0196.jld ../NewFarms/farm_C13_0196.jld\n",
      "mv ../NewFarms/farm_C12_0197.jld ../NewFarms/farm_C13_0197.jld\n",
      "mv ../NewFarms/farm_C12_0198.jld ../NewFarms/farm_C13_0198.jld\n",
      "mv ../NewFarms/farm_C12_0199.jld ../NewFarms/farm_C13_0199.jld\n",
      "mv ../NewFarms/farm_C12_0200.jld ../NewFarms/farm_C13_0200.jld\n"
     ]
    }
   ],
   "source": [
    "function change_farm_name(from, to; farmdir=\"../NewFarms\")\n",
    "    for f in filter(x -> startswith(x, \"farm_\" * from * \"_\"), readdir(farmdir))\n",
    "        myfrom = farmdir * \"/\" * f\n",
    "        myto   = farmdir * \"/\" * replace(f, \"_\"*from*\"_\", \"_\"*to*\"_\")\n",
    "        @printf(\"mv %s %s\\n\", myfrom, myto)\n",
    "        mv(myfrom, myto)\n",
    "    end\n",
    "end\n",
    "\n",
    "change_farm_name(\"C12\", \"C13\")\n",
    "    "
   ]
  },
  {
   "cell_type": "code",
   "execution_count": 426,
   "metadata": {
    "collapsed": false
   },
   "outputs": [
    {
     "data": {
      "text/plain": [
       "\"farm_gug_0001.jld\""
      ]
     },
     "execution_count": 426,
     "metadata": {},
     "output_type": "execute_result"
    }
   ],
   "source": [
    "str = \"farm_C12_0001.jld\"\n",
    "replace(str, \"C12\", \"gug\")"
   ]
  },
  {
   "cell_type": "code",
   "execution_count": 156,
   "metadata": {
    "collapsed": false
   },
   "outputs": [
    {
     "name": "stdout",
     "output_type": "stream",
     "text": [
      "n=1 farm_C6_0001.jld: -0.0009920749971403522  hBP=0.89, hBA=0.69 dP=0.99 dA=0.99\n",
      "n=1 farm_C6_0002.jld: -0.000996982637802106  hBP=0.85, hBA=0.73 dP=1.00 dA=0.99\n",
      "n=2 farm_C6_0003.jld: 0.05967167743577417  hBP=0.60, hBA=0.39 dP=0.70 dA=0.69\n",
      "n=1 farm_C6_0004.jld: -0.0009910104723029373  hBP=0.86, hBA=0.66 dP=0.98 dA=0.98\n",
      "n=1 farm_C6_0005.jld: -0.0009996789614871414  hBP=0.92, hBA=0.73 dP=1.00 dA=0.99\n",
      "n=1 farm_C6_0006.jld: -0.0009773551393710894  hBP=0.87, hBA=0.70 dP=0.99 dA=0.97\n",
      "n=1 farm_C6_0007.jld: -0.000988437890662487  hBP=0.88, hBA=0.67 dP=1.00 dA=0.98\n",
      "n=1 farm_C6_0008.jld: -0.0009883901829702876  hBP=0.91, hBA=0.71 dP=1.00 dA=0.98\n",
      "n=1 farm_C6_0009.jld: -0.000990580455383993  hBP=0.90, hBA=0.72 dP=1.00 dA=0.99\n",
      "n=1 farm_C6_0010.jld: -0.0009980104780751224  hBP=0.90, hBA=0.75 dP=1.00 dA=0.99\n",
      "n=1 farm_C6_0011.jld: -0.0009958000411572725  hBP=0.87, hBA=0.76 dP=1.00 dA=0.99\n",
      "n=1 farm_C6_0012.jld: -0.000997176112960153  hBP=0.93, hBA=0.74 dP=1.00 dA=0.99\n",
      "n=1 farm_C6_0013.jld: -0.0009999932554138724  hBP=0.92, hBA=0.72 dP=1.00 dA=0.99\n",
      "n=1 farm_C6_0014.jld: -0.000996371484961912  hBP=0.92, hBA=0.70 dP=0.99 dA=0.99\n",
      "n=2 farm_C6_0015.jld: 0.05727130176399074  hBP=0.59, hBA=0.42 dP=0.40 dA=0.39\n",
      "n=1 farm_C6_0016.jld: -0.0009989505032499612  hBP=0.86, hBA=0.73 dP=1.00 dA=0.99\n",
      "n=2 farm_C6_0017.jld: -0.0009918051347714433  hBP=0.91, hBA=0.76 dP=1.00 dA=0.99\n",
      "n=2 farm_C6_0018.jld: 0.060295774283303724  hBP=0.61, hBA=0.38 dP=0.64 dA=0.65\n",
      "n=1 farm_C6_0019.jld: -0.0009999935048411197  hBP=0.91, hBA=0.75 dP=0.99 dA=1.00\n",
      "n=1 farm_C6_0020.jld: -0.0009937228088649575  hBP=0.90, hBA=0.69 dP=0.99 dA=0.99\n",
      "n=1 farm_C6_0021.jld: -0.000998442794216654  hBP=0.91, hBA=0.75 dP=0.99 dA=0.99\n",
      "n=1 farm_C6_0022.jld: -0.0009963083467436008  hBP=0.87, hBA=0.71 dP=1.00 dA=0.99\n",
      "n=1 farm_C6_0023.jld: -0.000993698345071262  hBP=0.92, hBA=0.71 dP=1.00 dA=0.99\n",
      "n=1 farm_C6_0024.jld: -0.0009909659119059294  hBP=0.90, hBA=0.71 dP=1.00 dA=0.98\n",
      "n=1 farm_C6_0025.jld: -0.0009764280119586012  hBP=0.92, hBA=0.68 dP=1.00 dA=0.96\n",
      "n=2 farm_C6_0026.jld: 0.07987917069245418  hBP=0.03, hBA=0.79 dP=0.00 dA=0.40\n",
      "n=1 farm_C6_0027.jld: -0.0009868136412901172  hBP=0.89, hBA=0.71 dP=0.99 dA=0.98\n",
      "n=2 farm_C6_0028.jld: 0.0895625909394224  hBP=1.00, hBA=0.00 dP=0.01 dA=0.01\n",
      "n=1 farm_C6_0029.jld: -0.0009965218653605699  hBP=0.87, hBA=0.75 dP=1.00 dA=0.99\n",
      "n=2 farm_C6_0030.jld: 0.07975817422524539  hBP=0.75, hBA=0.48 dP=0.02 dA=0.46\n",
      "n=1 farm_C6_0031.jld: -0.0009980586414538217  hBP=0.92, hBA=0.74 dP=1.00 dA=0.99\n",
      "n=2 farm_C6_0032.jld: 0.04569028839741703  hBP=0.88, hBA=0.28 dP=0.26 dA=0.01\n",
      "n=2 farm_C6_0033.jld: 0.019606780132579278  hBP=0.98, hBA=0.19 dP=0.81 dA=0.00\n",
      "n=1 farm_C6_0034.jld: -0.0009885710381357469  hBP=0.88, hBA=0.69 dP=1.00 dA=0.96\n",
      "n=2 farm_C6_0035.jld: -0.0004440638571337095  hBP=0.85, hBA=0.89 dP=0.78 dA=0.09\n",
      "n=2 farm_C6_0036.jld: 0.06539587975105665  hBP=0.62, hBA=0.40 dP=0.88 dA=0.89\n",
      "n=1 farm_C6_0037.jld: -0.0009999935038735306  hBP=0.85, hBA=0.68 dP=1.00 dA=1.00\n",
      "n=2 farm_C6_0038.jld: 0.09535872291218278  hBP=0.50, hBA=0.50 dP=0.01 dA=0.00\n",
      "n=1 farm_C6_0039.jld: -0.0009960530909657584  hBP=0.91, hBA=0.72 dP=0.99 dA=0.99\n",
      "n=2 farm_C6_0040.jld: 0.09999999999892883  hBP=0.58, hBA=0.42 dP=0.00 dA=0.00\n",
      "n=1 farm_C6_0041.jld: -0.0009999906951196707  hBP=0.89, hBA=0.68 dP=1.00 dA=0.99\n",
      "n=1 farm_C6_0042.jld: -0.0009996864123353257  hBP=0.89, hBA=0.71 dP=1.00 dA=0.99\n",
      "n=1 farm_C6_0043.jld: -0.0009929643095612543  hBP=0.92, hBA=0.67 dP=1.00 dA=0.98\n",
      "n=1 farm_C6_0044.jld: -0.0009999932438334135  hBP=0.87, hBA=0.70 dP=1.00 dA=1.00\n",
      "n=2 farm_C6_0045.jld: 0.07859699153735346  hBP=0.00, hBA=0.74 dP=0.01 dA=0.84\n",
      "n=2 farm_C6_0046.jld: 0.019600049935163323  hBP=0.92, hBA=0.44 dP=0.77 dA=0.00\n",
      "n=2 farm_C6_0047.jld: 0.01960497966476574  hBP=1.00, hBA=0.00 dP=0.77 dA=0.00\n",
      "n=2 farm_C6_0048.jld: 0.019604785056795696  hBP=1.00, hBA=0.31 dP=0.77 dA=0.00\n",
      "n=1 farm_C6_0049.jld: -0.0009997924808646094  hBP=0.92, hBA=0.67 dP=1.00 dA=0.99\n",
      "n=2 farm_C6_0050.jld: 0.04025715708872549  hBP=0.61, hBA=0.38 dP=0.77 dA=0.77\n",
      "n=1 farm_C6_0051.jld: -0.0009915440905832074  hBP=0.89, hBA=0.69 dP=0.98 dA=0.99\n",
      "n=2 farm_C6_0052.jld: 0.07937181945791423  hBP=0.59, hBA=0.40 dP=0.10 dA=0.04\n",
      "n=2 farm_C6_0053.jld: 0.10000057270211475  hBP=0.65, hBA=0.36 dP=0.00 dA=0.00\n",
      "n=1 farm_C6_0054.jld: -0.0009767627996872638  hBP=0.89, hBA=0.69 dP=0.97 dA=0.97\n",
      "n=1 farm_C6_0055.jld: -0.000999993504305825  hBP=0.91, hBA=0.73 dP=1.00 dA=1.00\n",
      "n=1 farm_C6_0056.jld: -0.0009970502699472408  hBP=0.89, hBA=0.68 dP=1.00 dA=0.99\n",
      "n=1 farm_C6_0057.jld: -0.000995537487880689  hBP=0.88, hBA=0.69 dP=0.99 dA=0.98\n",
      "n=2 farm_C6_0058.jld: 0.0639416126756574  hBP=0.66, hBA=0.35 dP=0.52 dA=0.56\n",
      "n=2 farm_C6_0059.jld: 0.03836160150454061  hBP=1.00, hBA=0.00 dP=0.65 dA=0.15\n",
      "n=2 farm_C6_0060.jld: 0.019145749422952316  hBP=0.91, hBA=0.50 dP=0.56 dA=0.01\n",
      "n=2 farm_C6_0061.jld: 0.08981252815887444  hBP=0.50, hBA=0.50 dP=1.00 dA=1.00\n",
      "n=2 farm_C6_0062.jld: 0.027746910178815053  hBP=0.77, hBA=0.61 dP=0.40 dA=0.08\n",
      "n=2 farm_C6_0063.jld: 0.0799016378221284  hBP=0.05, hBA=0.89 dP=0.00 dA=0.30\n",
      "n=2 farm_C6_0064.jld: 0.06706864908887775  hBP=0.70, hBA=0.39 dP=0.10 dA=0.18\n",
      "n=2 farm_C6_0065.jld: 0.01909366205960078  hBP=0.98, hBA=0.40 dP=0.81 dA=0.03\n",
      "n=1 farm_C6_0066.jld: -0.0009889466423711607  hBP=0.86, hBA=0.71 dP=0.99 dA=0.97\n",
      "n=2 farm_C6_0067.jld: 0.019841833214546096  hBP=0.97, hBA=0.31 dP=0.45 dA=0.00\n",
      "n=2 farm_C6_0068.jld: 0.051958389556354415  hBP=0.62, hBA=0.38 dP=0.64 dA=0.65\n",
      "n=1 farm_C6_0069.jld: -0.0009947641677011405  hBP=0.93, hBA=0.65 dP=1.00 dA=0.99\n",
      "n=2 farm_C6_0070.jld: 0.047370384952158395  hBP=0.57, hBA=0.42 dP=0.85 dA=0.85\n",
      "n=2 farm_C6_0071.jld: 0.07959955907517169  hBP=0.24, hBA=0.73 dP=0.01 dA=0.81\n",
      "n=1 farm_C6_0072.jld: -0.0009983582329494275  hBP=0.87, hBA=0.69 dP=1.00 dA=0.99\n",
      "n=2 farm_C6_0073.jld: 0.019646032056240374  hBP=1.00, hBA=0.00 dP=0.72 dA=0.00\n",
      "n=2 farm_C6_0074.jld: 0.019782469382330605  hBP=0.89, hBA=0.46 dP=0.61 dA=0.00\n",
      "n=2 farm_C6_0075.jld: 0.05926490478462026  hBP=0.60, hBA=0.40 dP=0.39 dA=0.38\n",
      "n=2 farm_C6_0076.jld: 0.023521860191804914  hBP=0.89, hBA=0.22 dP=0.48 dA=0.04\n",
      "n=2 farm_C6_0077.jld: 0.019725806257226502  hBP=0.93, hBA=0.46 dP=0.60 dA=0.00\n",
      "n=1 farm_C6_0078.jld: -0.0009966547275198207  hBP=0.88, hBA=0.72 dP=1.00 dA=0.99\n",
      "n=2 farm_C6_0079.jld: 0.020028835829679525  hBP=0.97, hBA=0.28 dP=0.23 dA=0.00\n",
      "n=1 farm_C6_0080.jld: -0.0009991799230638899  hBP=0.89, hBA=0.74 dP=1.00 dA=0.99\n",
      "n=2 farm_C6_0081.jld: 0.06244560906538751  hBP=0.81, hBA=0.26 dP=0.08 dA=0.18\n",
      "n=2 farm_C6_0082.jld: 0.019600156590837844  hBP=0.92, hBA=0.33 dP=0.77 dA=0.00\n",
      "n=1 farm_C6_0083.jld: -0.000997406294990075  hBP=0.90, hBA=0.68 dP=1.00 dA=0.98\n",
      "n=2 farm_C6_0084.jld: 0.07857861451477352  hBP=0.02, hBA=0.67 dP=0.02 dA=0.87\n",
      "n=2 farm_C6_0085.jld: 0.07981355335502725  hBP=0.00, hBA=1.00 dP=0.00 dA=0.39\n",
      "n=2 farm_C6_0086.jld: 0.04761891076979346  hBP=0.94, hBA=0.32 dP=0.09 dA=0.17\n",
      "n=2 farm_C6_0087.jld: 0.09291277530436066  hBP=0.98, hBA=0.00 dP=0.03 dA=0.01\n",
      "n=2 farm_C6_0088.jld: 0.0981448356423659  hBP=0.63, hBA=0.37 dP=0.00 dA=0.00\n",
      "n=1 farm_C6_0089.jld: -0.0009957448903606919  hBP=0.94, hBA=0.67 dP=1.00 dA=0.99\n",
      "n=2 farm_C6_0090.jld: 0.07125996172537609  hBP=0.63, hBA=0.38 dP=0.41 dA=0.43\n",
      "n=1 farm_C6_0091.jld: -0.0009996857175221935  hBP=0.89, hBA=0.71 dP=1.00 dA=1.00\n",
      "n=1 farm_C6_0092.jld: -0.0009945626059874818  hBP=0.90, hBA=0.69 dP=0.99 dA=0.99\n",
      "n=1 farm_C6_0093.jld: -0.0009931010388836616  hBP=0.85, hBA=0.65 dP=1.00 dA=0.99\n",
      "n=2 farm_C6_0094.jld: 0.07992071285405915  hBP=0.02, hBA=0.90 dP=0.00 dA=0.37\n",
      "n=2 farm_C6_0095.jld: 0.016146918006975694  hBP=0.90, hBA=0.48 dP=0.95 dA=1.00\n",
      "n=2 farm_C6_0096.jld: 0.019612032685900532  hBP=0.89, hBA=0.26 dP=0.82 dA=0.00\n",
      "n=1 farm_C6_0097.jld: -0.0009870042610469652  hBP=0.91, hBA=0.73 dP=1.00 dA=0.97\n",
      "n=2 farm_C6_0098.jld: 0.018675577867669203  hBP=1.00, hBA=0.35 dP=0.71 dA=0.01\n",
      "n=2 farm_C6_0099.jld: 0.07981543186168223  hBP=0.01, hBA=0.99 dP=0.00 dA=0.42\n",
      "n=2 farm_C6_0100.jld: -0.0009914255658402594  hBP=0.92, hBA=0.75 dP=0.99 dA=0.99\n",
      "n=2 farm_C6_0101.jld: 0.040826010238353055  hBP=1.00, hBA=0.00 dP=0.60 dA=0.12\n",
      "n=2 farm_C6_0102.jld: 0.05177609234068654  hBP=0.60, hBA=0.47 dP=0.34 dA=0.18\n",
      "n=1 farm_C6_0103.jld: -0.0009967499174433178  hBP=0.93, hBA=0.68 dP=0.99 dA=0.99\n",
      "n=1 farm_C6_0104.jld: -0.0009938960433731197  hBP=0.88, hBA=0.70 dP=0.99 dA=0.99\n",
      "n=1 farm_C6_0105.jld: -0.000994136220394596  hBP=0.89, hBA=0.67 dP=0.99 dA=0.98\n",
      "n=1 farm_C6_0106.jld: -0.0009982696306598394  hBP=0.95, hBA=0.65 dP=1.00 dA=0.99\n",
      "n=2 farm_C6_0107.jld: 0.09361199336756333  hBP=0.42, hBA=0.59 dP=0.01 dA=0.07\n",
      "n=1 farm_C6_0108.jld: -0.0009745192425355606  hBP=0.85, hBA=0.71 dP=0.97 dA=0.96\n",
      "n=2 farm_C6_0109.jld: 0.01960673993363535  hBP=0.98, hBA=0.16 dP=0.80 dA=0.00\n",
      "n=2 farm_C6_0110.jld: 0.09999873771047578  hBP=0.61, hBA=0.39 dP=0.00 dA=0.00\n",
      "n=2 farm_C6_0111.jld: 0.07959194387131509  hBP=0.00, hBA=0.71 dP=0.00 dA=0.81\n",
      "n=2 farm_C6_0112.jld: 0.09549444785404004  hBP=0.51, hBA=0.48 dP=0.00 dA=0.00\n",
      "n=2 farm_C6_0113.jld: 0.07661836709619792  hBP=0.01, hBA=0.75 dP=0.02 dA=0.86\n",
      "n=1 farm_C6_0114.jld: -0.0009999772813756266  hBP=0.90, hBA=0.69 dP=0.99 dA=0.99\n",
      "n=2 farm_C6_0115.jld: -0.0007780326544572791  hBP=0.86, hBA=0.79 dP=0.98 dA=0.64\n",
      "n=1 farm_C6_0116.jld: -0.0009829923719420657  hBP=0.86, hBA=0.68 dP=0.99 dA=0.97\n",
      "n=1 farm_C6_0117.jld: -0.0009784544307061072  hBP=0.88, hBA=0.69 dP=0.99 dA=0.96\n",
      "n=2 farm_C6_0118.jld: -0.0009852552938829236  hBP=0.95, hBA=0.70 dP=0.98 dA=0.98\n",
      "n=1 farm_C6_0119.jld: -0.0009999925920163495  hBP=0.91, hBA=0.70 dP=1.00 dA=0.99\n",
      "n=2 farm_C6_0120.jld: 0.05202527280115435  hBP=0.73, hBA=0.39 dP=0.25 dA=0.26\n",
      "n=1 farm_C6_0121.jld: -0.0009989733204178355  hBP=0.90, hBA=0.67 dP=1.00 dA=0.99\n",
      "n=2 farm_C6_0122.jld: 0.03879818859858573  hBP=0.93, hBA=0.38 dP=0.09 dA=0.03\n",
      "n=2 farm_C6_0123.jld: 0.08910284347621969  hBP=0.74, hBA=0.24 dP=0.03 dA=0.06\n",
      "n=2 farm_C6_0124.jld: 0.0996147939428537  hBP=0.58, hBA=0.43 dP=0.00 dA=0.02\n",
      "n=2 farm_C6_0125.jld: 0.04046309169825876  hBP=1.00, hBA=0.00 dP=0.45 dA=0.17\n",
      "n=2 farm_C6_0126.jld: 0.07956833902066696  hBP=0.01, hBA=0.75 dP=0.01 dA=0.83\n",
      "n=1 farm_C6_0127.jld: -0.0009980313212553174  hBP=0.86, hBA=0.73 dP=1.00 dA=0.99\n",
      "n=2 farm_C6_0128.jld: 0.05479280444082996  hBP=0.36, hBA=0.84 dP=0.34 dA=0.14\n",
      "n=2 farm_C6_0129.jld: -0.000992971676330312  hBP=0.92, hBA=0.68 dP=0.99 dA=0.99\n",
      "n=1 farm_C6_0130.jld: -0.0009672443543887225  hBP=0.88, hBA=0.71 dP=0.99 dA=0.94\n",
      "n=1 farm_C6_0131.jld: -0.0009951945560482372  hBP=0.89, hBA=0.66 dP=1.00 dA=0.99\n",
      "n=1 farm_C6_0132.jld: -0.0009963222680260844  hBP=0.92, hBA=0.74 dP=1.00 dA=0.98\n",
      "n=1 farm_C6_0133.jld: -0.0009999168146294169  hBP=0.86, hBA=0.72 dP=1.00 dA=0.99\n",
      "n=2 farm_C6_0134.jld: 0.10135958208695987  hBP=0.51, hBA=0.49 dP=0.00 dA=0.01\n",
      "n=2 farm_C6_0135.jld: 0.0656268499962154  hBP=0.56, hBA=0.43 dP=0.82 dA=0.82\n",
      "n=2 farm_C6_0136.jld: -0.0009808826913149772  hBP=0.86, hBA=0.70 dP=1.00 dA=0.97\n",
      "n=2 farm_C6_0137.jld: -0.0009700900564989204  hBP=0.88, hBA=0.69 dP=0.99 dA=0.96\n",
      "n=1 farm_C6_0138.jld: -0.0009878108235114983  hBP=0.91, hBA=0.73 dP=1.00 dA=0.99\n",
      "n=2 farm_C6_0139.jld: 0.1114022648387628  hBP=0.51, hBA=0.50 dP=0.93 dA=0.95\n",
      "n=1 farm_C6_0140.jld: -0.0009985804051372163  hBP=0.91, hBA=0.72 dP=1.00 dA=1.00\n",
      "n=2 farm_C6_0141.jld: 0.0570812746146825  hBP=0.56, hBA=0.44 dP=0.59 dA=0.59\n",
      "n=2 farm_C6_0142.jld: 0.0427027824746843  hBP=0.90, hBA=0.01 dP=0.34 dA=0.04\n",
      "n=2 farm_C6_0143.jld: 0.08806758091017579  hBP=0.73, hBA=0.27 dP=0.05 dA=0.05\n",
      "n=2 farm_C6_0144.jld: 0.08735566009168697  hBP=0.93, hBA=0.02 dP=0.05 dA=0.00\n",
      "n=1 farm_C6_0145.jld: -0.0009907196953248165  hBP=0.88, hBA=0.77 dP=1.00 dA=0.99\n",
      "n=2 farm_C6_0146.jld: 0.031047510359319484  hBP=1.00, hBA=0.00 dP=0.57 dA=0.06\n",
      "n=2 farm_C6_0147.jld: -0.0009964755698872686  hBP=0.89, hBA=0.65 dP=0.99 dA=0.98\n",
      "n=1 farm_C6_0148.jld: -0.0009937388455494463  hBP=0.90, hBA=0.69 dP=1.00 dA=0.99\n",
      "n=1 farm_C6_0149.jld: -0.0009933035195913722  hBP=0.91, hBA=0.64 dP=0.99 dA=0.98\n",
      "n=2 farm_C6_0150.jld: -0.0009999925786834977  hBP=0.88, hBA=0.64 dP=1.00 dA=1.00\n",
      "n=2 farm_C6_0151.jld: -0.0009999933962294772  hBP=0.92, hBA=0.63 dP=1.00 dA=0.99\n",
      "n=1 farm_C6_0152.jld: -0.0009999907743671415  hBP=0.90, hBA=0.69 dP=1.00 dA=0.99\n",
      "n=2 farm_C6_0153.jld: 0.01986537662947993  hBP=0.99, hBA=0.00 dP=0.41 dA=0.00\n",
      "n=2 farm_C6_0154.jld: 0.07962505678542103  hBP=0.00, hBA=0.76 dP=0.00 dA=0.78\n",
      "n=2 farm_C6_0155.jld: 0.07957299439989896  hBP=0.01, hBA=0.72 dP=0.01 dA=0.86\n",
      "n=1 farm_C6_0156.jld: -0.0009999916900759868  hBP=0.91, hBA=0.70 dP=1.00 dA=1.00\n",
      "n=2 farm_C6_0157.jld: 0.08716194010148215  hBP=0.66, hBA=0.34 dP=0.07 dA=0.08\n",
      "n=2 farm_C6_0158.jld: 0.019614414601746122  hBP=1.00, hBA=0.00 dP=0.77 dA=0.00\n",
      "n=2 farm_C6_0159.jld: 0.019046572378460257  hBP=0.91, hBA=0.34 dP=0.92 dA=0.00\n",
      "n=2 farm_C6_0160.jld: 0.06332846972464182  hBP=0.55, hBA=0.44 dP=0.47 dA=0.47\n",
      "n=1 farm_C6_0161.jld: -0.0009967496107350698  hBP=0.90, hBA=0.70 dP=1.00 dA=0.99\n",
      "n=2 farm_C6_0162.jld: 0.014325899759401194  hBP=0.88, hBA=0.47 dP=0.97 dA=0.99\n",
      "n=2 farm_C6_0163.jld: 0.01960440634375587  hBP=0.96, hBA=0.35 dP=0.80 dA=0.00\n",
      "n=1 farm_C6_0164.jld: -0.0009992943705751582  hBP=0.89, hBA=0.72 dP=1.00 dA=0.99\n",
      "n=2 farm_C6_0165.jld: 0.019355941012118738  hBP=0.97, hBA=0.37 dP=0.39 dA=0.01\n",
      "n=1 farm_C6_0166.jld: -0.0009879532463335922  hBP=0.85, hBA=0.66 dP=0.99 dA=0.97\n",
      "n=2 farm_C6_0167.jld: 0.09999020198659775  hBP=0.58, hBA=0.40 dP=0.00 dA=0.00\n",
      "n=2 farm_C6_0168.jld: 0.08774471203133309  hBP=0.99, hBA=0.01 dP=0.02 dA=0.02\n",
      "n=2 farm_C6_0169.jld: 0.08488387232730053  hBP=0.67, hBA=0.43 dP=0.02 dA=0.29\n",
      "n=2 farm_C6_0170.jld: -0.0009999933461461153  hBP=0.88, hBA=0.66 dP=1.00 dA=1.00\n",
      "n=1 farm_C6_0171.jld: -0.0009996299813499327  hBP=0.88, hBA=0.76 dP=1.00 dA=0.99\n",
      "n=2 farm_C6_0172.jld: 0.08431453340795311  hBP=0.54, hBA=0.47 dP=0.22 dA=0.23\n",
      "n=1 farm_C6_0173.jld: -0.0009999517239300466  hBP=0.89, hBA=0.73 dP=0.99 dA=0.99\n",
      "n=2 farm_C6_0174.jld: 0.051494476137510646  hBP=0.57, hBA=0.44 dP=0.69 dA=0.68\n",
      "n=1 farm_C6_0175.jld: -0.0009996447292709289  hBP=0.88, hBA=0.71 dP=1.00 dA=0.99\n",
      "n=1 farm_C6_0176.jld: -0.0009920160422404426  hBP=0.90, hBA=0.74 dP=1.00 dA=0.99\n",
      "n=2 farm_C6_0177.jld: -0.0009895743359377934  hBP=0.87, hBA=0.66 dP=0.98 dA=0.98\n",
      "n=1 farm_C6_0178.jld: -0.000999415457815495  hBP=0.86, hBA=0.70 dP=1.00 dA=0.99\n",
      "n=1 farm_C6_0179.jld: -0.0009995458646812766  hBP=0.91, hBA=0.71 dP=1.00 dA=0.99\n",
      "n=2 farm_C6_0180.jld: 0.02378997145209302  hBP=1.00, hBA=0.00 dP=0.66 dA=0.03\n",
      "n=1 farm_C6_0181.jld: -0.0009999920698634923  hBP=0.89, hBA=0.67 dP=1.00 dA=1.00\n",
      "n=2 farm_C6_0182.jld: -0.000998914061749786  hBP=0.91, hBA=0.74 dP=1.00 dA=1.00\n",
      "n=2 farm_C6_0183.jld: -0.000999934093930852  hBP=0.88, hBA=0.74 dP=1.00 dA=1.00\n",
      "n=2 farm_C6_0184.jld: 0.07987907444127991  hBP=0.02, hBA=0.87 dP=0.00 dA=0.48\n",
      "n=1 farm_C6_0185.jld: -0.0009991018440669774  hBP=0.92, hBA=0.72 dP=1.00 dA=0.99\n",
      "n=1 farm_C6_0186.jld: -0.0009999933934388458  hBP=0.90, hBA=0.73 dP=1.00 dA=1.00\n",
      "n=1 farm_C6_0187.jld: -0.0009840892509478004  hBP=0.89, hBA=0.67 dP=0.96 dA=0.98\n",
      "n=1 farm_C6_0188.jld: -0.0009981122076774048  hBP=0.87, hBA=0.68 dP=0.99 dA=0.99\n",
      "n=2 farm_C6_0189.jld: 0.01940619666414922  hBP=0.97, hBA=0.50 dP=0.29 dA=0.02\n",
      "n=2 farm_C6_0190.jld: -0.0009895784125942234  hBP=0.89, hBA=0.66 dP=1.00 dA=0.98\n",
      "n=1 farm_C6_0191.jld: -0.0009716588298829379  hBP=0.88, hBA=0.71 dP=0.98 dA=0.95\n",
      "n=2 farm_C6_0192.jld: 0.09088379105794131  hBP=0.96, hBA=0.07 dP=0.01 dA=0.01\n",
      "n=2 farm_C6_0193.jld: 0.07014258838984981  hBP=0.67, hBA=0.36 dP=0.12 dA=0.18\n",
      "n=2 farm_C6_0194.jld: 0.01910383942099715  hBP=0.99, hBA=0.31 dP=0.84 dA=0.03\n",
      "n=2 farm_C6_0195.jld: 0.06262500992303317  hBP=0.50, hBA=0.51 dP=1.00 dA=1.00\n",
      "n=1 farm_C6_0196.jld: -0.0009999807919884225  hBP=0.93, hBA=0.66 dP=1.00 dA=1.00\n",
      "n=2 farm_C6_0197.jld: -0.0008351751791037236  hBP=0.91, hBA=0.76 dP=0.97 dA=0.73\n",
      "n=2 farm_C6_0198.jld: 0.0961282817500068  hBP=0.50, hBA=0.49 dP=0.01 dA=0.03\n",
      "n=2 farm_C6_0199.jld: -0.0009918006133133805  hBP=0.90, hBA=0.69 dP=0.99 dA=0.98\n",
      "n=1 farm_C6_0200.jld: -0.0009990358198678064  hBP=0.92, hBA=0.73 dP=1.00 dA=1.00\n",
      "n=2 farm_C6_0201.jld: 0.02531085661299143  hBP=0.85, hBA=0.24 dP=0.42 dA=0.14\n",
      "n=2 farm_C6_0202.jld: 0.06928918001433558  hBP=0.94, hBA=0.09 dP=0.10 dA=0.03\n",
      "n=1 farm_C6_0203.jld: -0.0009900927845419513  hBP=0.88, hBA=0.71 dP=1.00 dA=0.99\n",
      "n=1 farm_C6_0204.jld: -0.0009999933213537282  hBP=0.86, hBA=0.66 dP=1.00 dA=0.99\n",
      "n=2 farm_C6_0205.jld: 0.01961118817949352  hBP=1.00, hBA=0.05 dP=0.78 dA=0.00\n",
      "n=2 farm_C6_0206.jld: 0.018552023101487014  hBP=0.92, hBA=0.36 dP=0.95 dA=0.01\n",
      "n=2 farm_C6_0207.jld: 0.01833719185550176  hBP=0.92, hBA=0.49 dP=0.47 dA=0.06\n",
      "n=2 farm_C6_0208.jld: 0.10000154059523596  hBP=0.56, hBA=0.45 dP=0.00 dA=0.00\n",
      "n=1 farm_C6_0209.jld: -0.0009979835700551006  hBP=0.85, hBA=0.70 dP=1.00 dA=0.99\n",
      "n=1 farm_C6_0210.jld: -0.000989807107189173  hBP=0.85, hBA=0.70 dP=1.00 dA=0.99\n",
      "n=1 farm_C6_0211.jld: -0.0009704015291310327  hBP=0.87, hBA=0.66 dP=0.99 dA=0.95\n",
      "n=1 farm_C6_0212.jld: -0.0009882210162176675  hBP=0.85, hBA=0.67 dP=1.00 dA=0.97\n",
      "n=1 farm_C6_0213.jld: -0.0009986201997068706  hBP=0.91, hBA=0.72 dP=1.00 dA=0.99\n",
      "n=1 farm_C6_0214.jld: -0.0009954993941719843  hBP=0.90, hBA=0.70 dP=1.00 dA=0.98\n",
      "n=1 farm_C6_0215.jld: -0.0009962472033325095  hBP=0.89, hBA=0.73 dP=1.00 dA=0.98\n",
      "n=2 farm_C6_0216.jld: 0.010257744589160714  hBP=0.89, hBA=0.49 dP=0.98 dA=1.00\n",
      "n=2 farm_C6_0217.jld: -0.000999726661534596  hBP=0.91, hBA=0.62 dP=1.00 dA=0.99\n",
      "n=1 farm_C6_0218.jld: -0.000981118178164582  hBP=0.89, hBA=0.73 dP=0.99 dA=0.97\n",
      "n=1 farm_C6_0219.jld: -0.0009989203552693475  hBP=0.90, hBA=0.67 dP=1.00 dA=1.00\n",
      "n=1 farm_C6_0220.jld: -0.0009999818972473782  hBP=0.92, hBA=0.69 dP=1.00 dA=1.00\n",
      "n=1 farm_C6_0221.jld: -0.0009957392903085073  hBP=0.88, hBA=0.75 dP=0.99 dA=0.99\n",
      "n=2 farm_C6_0222.jld: 0.019655791731482665  hBP=0.98, hBA=0.18 dP=0.75 dA=0.01\n",
      "n=1 farm_C6_0223.jld: -0.0009949130793363305  hBP=0.90, hBA=0.75 dP=1.00 dA=0.98\n",
      "n=2 farm_C6_0224.jld: 0.018557342553225258  hBP=0.92, hBA=0.26 dP=0.93 dA=0.01\n",
      "n=2 farm_C6_0225.jld: 0.01962100393991547  hBP=1.00, hBA=0.00 dP=0.78 dA=0.00\n",
      "n=2 farm_C6_0226.jld: 0.09236861003865444  hBP=0.00, hBA=0.96 dP=0.00 dA=0.02\n",
      "n=1 farm_C6_0227.jld: -0.000995531883151527  hBP=0.86, hBA=0.76 dP=1.00 dA=0.99\n",
      "n=2 farm_C6_0228.jld: 0.04635363669651995  hBP=0.50, hBA=0.86 dP=0.06 dA=0.04\n",
      "n=1 farm_C6_0229.jld: -0.0009952723371594468  hBP=0.93, hBA=0.70 dP=1.00 dA=0.99\n",
      "n=2 farm_C6_0230.jld: 0.09074750229044858  hBP=0.91, hBA=0.01 dP=0.00 dA=0.00\n",
      "n=1 farm_C6_0231.jld: -0.0009921067473776274  hBP=0.89, hBA=0.63 dP=1.00 dA=0.98\n",
      "n=2 farm_C6_0232.jld: 0.07987758194031559  hBP=0.14, hBA=0.81 dP=0.00 dA=0.54\n",
      "n=2 farm_C6_0233.jld: -0.0009980438844234961  hBP=0.90, hBA=0.73 dP=1.00 dA=0.99\n",
      "n=1 farm_C6_0234.jld: -0.0009954539017723914  hBP=0.90, hBA=0.72 dP=1.00 dA=0.99\n",
      "n=2 farm_C6_0235.jld: 0.019610360720913652  hBP=0.91, hBA=0.46 dP=0.78 dA=0.00\n",
      "n=1 farm_C6_0236.jld: -0.0009711103552600473  hBP=0.87, hBA=0.72 dP=0.99 dA=0.97\n",
      "n=1 farm_C6_0237.jld: -0.0009939457985081446  hBP=0.90, hBA=0.71 dP=1.00 dA=0.99\n",
      "n=2 farm_C6_0238.jld: 0.0195215484086208  hBP=0.90, hBA=0.43 dP=0.94 dA=0.00\n",
      "n=2 farm_C6_0239.jld: 0.019089925535144513  hBP=0.97, hBA=0.32 dP=0.86 dA=0.00\n",
      "n=2 farm_C6_0240.jld: 0.07959073620369088  hBP=0.01, hBA=0.70 dP=0.00 dA=0.83\n",
      "n=2 farm_C6_0241.jld: 0.05120064052821574  hBP=0.58, hBA=0.41 dP=0.85 dA=0.85\n",
      "n=2 farm_C6_0242.jld: -0.0009979627252709204  hBP=0.91, hBA=0.69 dP=1.00 dA=0.99\n",
      "n=2 farm_C6_0243.jld: 0.01935891037691264  hBP=0.98, hBA=0.35 dP=0.16 dA=0.03\n",
      "n=2 farm_C6_0244.jld: -0.0009997456244684449  hBP=0.92, hBA=0.67 dP=0.99 dA=0.99\n",
      "n=2 farm_C6_0245.jld: 0.07859504710639485  hBP=0.02, hBA=0.73 dP=0.01 dA=0.81\n",
      "n=2 farm_C6_0246.jld: -0.0007959108224939438  hBP=0.91, hBA=0.70 dP=0.95 dA=0.61\n",
      "n=1 farm_C6_0247.jld: -0.0009924395815255225  hBP=0.89, hBA=0.68 dP=1.00 dA=0.99\n",
      "n=2 farm_C6_0248.jld: 0.019612138792801093  hBP=1.00, hBA=0.00 dP=0.82 dA=0.00\n",
      "n=1 farm_C6_0249.jld: -0.0009793308591712886  hBP=0.91, hBA=0.67 dP=0.99 dA=0.96\n",
      "n=2 farm_C6_0250.jld: 0.030191203952813734  hBP=0.85, hBA=0.45 dP=0.58 dA=0.95\n",
      "n=1 farm_C6_0251.jld: -0.0009992717181979325  hBP=0.85, hBA=0.68 dP=1.00 dA=0.99\n",
      "n=2 farm_C6_0252.jld: 0.06686603088894007  hBP=0.64, hBA=0.30 dP=0.30 dA=0.22\n",
      "n=2 farm_C6_0253.jld: 0.08528317023664768  hBP=0.81, hBA=0.11 dP=0.00 dA=0.00\n",
      "n=1 farm_C6_0254.jld: -0.0009971986998336528  hBP=0.89, hBA=0.74 dP=1.00 dA=0.99\n",
      "\n",
      " For ntries=1, success rate 100.00%, for ntries=2, rate 13.29%\n"
     ]
    },
    {
     "data": {
      "text/plain": [
       "3×2 Array{Any,2}:\n",
       "    \"nguys\"     \"ngoods\"\n",
       " 111         111        \n",
       " 143          19        "
      ]
     },
     "execution_count": 156,
     "metadata": {},
     "output_type": "execute_result"
    }
   ],
   "source": [
    "# Sanity check on whether we are getting results in the trajectory that matches algorithm\n",
    "# behavior\n",
    "\n",
    "ngoods = [0, 0]\n",
    "nguys  = [0, 0]\n",
    "\n",
    "farm_id = \"C6\"; farmdir = \"../NewFarms\"\n",
    "for f in filter(x -> startswith(x, \"farm_\" * farm_id * \"_\"), readdir(farmdir * \"/\"))\n",
    "    d = load(farmdir * \"/\" * f)\n",
    "    @printf(\"n=%d %s: \", d[\"ntries\"], f); \n",
    "    if d[\"ntries\"]==1\n",
    "        print(d[\"traj1\"][2,end])        \n",
    "        nguys[1] += 1\n",
    "        ngoods[1] += d[\"traj1\"][2,end] <= -0.0009 ? 1 : 0\n",
    "    else\n",
    "        print(d[\"traj3\"][2,end])\n",
    "        nguys[2] += 1\n",
    "        ngoods[2] += d[\"traj3\"][2,end] <= -0.0009 ? 1 : 0\n",
    "    end\n",
    "    @printf(\"  hBP=%.2f, hBA=%.2f dP=%.2f dA=%.2f\", d[\"hBP\"][1], d[\"hBA\"][1], \n",
    "        d[\"dP\"][1], d[\"dA\"][1])\n",
    "    @printf(\"\\n\")\n",
    "end\n",
    "\n",
    "@printf(\"\\n For ntries=1, success rate %.2f%%, for ntries=2, rate %.2f%%\\n\", 100*ngoods[1]/nguys[1], 100*ngoods[2]/nguys[2])\n",
    "\n",
    "[\"nguys\" \"ngoods\" ; [nguys ngoods]]"
   ]
  },
  {
   "cell_type": "code",
   "execution_count": null,
   "metadata": {
    "collapsed": false
   },
   "outputs": [],
   "source": [
    "# For C6:\n",
    "\n",
    "For ntries=1, success rate 100.00%, for ntries=2, rate 13.29%\n",
    "Out[84]:\n",
    "3×2 Array{Any,2}:\n",
    "    \"nguys\"     \"ngoods\"\n",
    " 111         111        \n",
    " 143          19     \n",
    "    \n",
    "    \n",
    "# For C7:\n",
    "For ntries=1, success rate 100.00%, for ntries=2, rate 10.71%\n",
    "Out[85]:\n",
    "3×2 Array{Any,2}:\n",
    "    \"nguys\"     \"ngoods\"\n",
    " 107         107        \n",
    " 140          15      "
   ]
  },
  {
   "cell_type": "code",
   "execution_count": 157,
   "metadata": {
    "collapsed": false
   },
   "outputs": [
    {
     "name": "stdout",
     "output_type": "stream",
     "text": [
      "farm_C10_0001.jld: qu_out[1]=0.10, cost=-0.000996848\n",
      "farm_C10_0002.jld: qu_out[1]=0.10, cost=-0.000999655\n",
      "farm_C10_0003.jld: qu_out[1]=0.10, cost=-0.000995379\n",
      "farm_C10_0004.jld: qu_out[1]=0.10, cost=-0.00099767\n",
      "farm_C10_0005.jld: qu_out[1]=0.20, cost=-0.000999994\n",
      "farm_C10_0006.jld: qu_out[1]=0.20, cost=-0.000987124\n",
      "farm_C10_0007.jld: qu_out[1]=0.10, cost=-0.000999989\n",
      "farm_C10_0008.jld: qu_out[1]=0.10, cost=-0.000999986\n",
      "farm_C10_0009.jld: qu_out[1]=0.10, cost=-0.000988272\n",
      "farm_C10_0010.jld: qu_out[1]=0.20, cost=-0.0009938\n",
      "farm_C10_0011.jld: qu_out[1]=0.10, cost=-0.000991577\n",
      "farm_C10_0012.jld: qu_out[1]=0.10, cost=-0.000995605\n",
      "farm_C10_0013.jld: qu_out[1]=0.10, cost=-0.000999725\n",
      "farm_C10_0014.jld: qu_out[1]=0.10, cost=-0.000992697\n",
      "farm_C10_0015.jld: qu_out[1]=0.10, cost=-0.000998946\n",
      "farm_C10_0016.jld: qu_out[1]=0.10, cost=-0.000999182\n",
      "farm_C10_0017.jld: qu_out[1]=0.20, cost=-0.000508604\n",
      "farm_C10_0018.jld: qu_out[1]=0.10, cost=-0.000995968\n",
      "farm_C10_0019.jld: qu_out[1]=0.10, cost=-0.000989548\n",
      "farm_C10_0020.jld: qu_out[1]=0.20, cost=-0.000999985\n",
      "farm_C10_0021.jld: qu_out[1]=0.10, cost=-0.000990599\n",
      "farm_C10_0022.jld: qu_out[1]=0.20, cost=-0.000499169\n",
      "farm_C10_0023.jld: qu_out[1]=0.20, cost=-0.000994219\n",
      "farm_C10_0024.jld: qu_out[1]=0.20, cost=-0.000599284\n",
      "farm_C10_0025.jld: qu_out[1]=0.30, cost=-0.000988455\n",
      "farm_C10_0026.jld: qu_out[1]=0.30, cost=-0.000997066\n",
      "farm_C10_0027.jld: qu_out[1]=0.30, cost=-0.000997616\n",
      "farm_C10_0028.jld: qu_out[1]=0.10, cost=-0.000981689\n",
      "farm_C10_0029.jld: qu_out[1]=0.10, cost=-0.000999403\n",
      "farm_C10_0030.jld: qu_out[1]=0.00, cost=0.0729852\n",
      "farm_C10_0031.jld: qu_out[1]=0.20, cost=-0.000999975\n",
      "farm_C10_0032.jld: qu_out[1]=0.20, cost=-0.000475476\n",
      "farm_C10_0033.jld: qu_out[1]=0.30, cost=-0.000996399\n",
      "farm_C10_0034.jld: qu_out[1]=0.20, cost=-0.000999992\n",
      "farm_C10_0035.jld: qu_out[1]=0.20, cost=-0.000995342\n",
      "farm_C10_0036.jld: qu_out[1]=0.10, cost=-0.000998166\n",
      "farm_C10_0037.jld: qu_out[1]=0.30, cost=-0.000999241\n",
      "farm_C10_0038.jld: qu_out[1]=0.40, cost=-0.000975995\n",
      "farm_C10_0039.jld: qu_out[1]=0.30, cost=-0.000989732\n",
      "farm_C10_0040.jld: qu_out[1]=0.10, cost=-0.000994308\n",
      "farm_C10_0041.jld: qu_out[1]=0.00, cost=0.0190134\n",
      "farm_C10_0042.jld: qu_out[1]=0.20, cost=-0.000997385\n",
      "farm_C10_0043.jld: qu_out[1]=0.20, cost=-0.000523364\n",
      "farm_C10_0044.jld: qu_out[1]=0.20, cost=-0.000978485\n",
      "farm_C10_0045.jld: qu_out[1]=0.10, cost=-0.000444757\n",
      "farm_C10_0046.jld: qu_out[1]=0.10, cost=-0.000998952\n",
      "farm_C10_0047.jld: qu_out[1]=0.10, cost=-0.000995446\n",
      "farm_C10_0048.jld: qu_out[1]=0.30, cost=-0.000999986\n",
      "farm_C10_0049.jld: qu_out[1]=0.30, cost=-0.000975668\n",
      "farm_C10_0050.jld: qu_out[1]=0.30, cost=-0.000729945\n"
     ]
    }
   ],
   "source": [
    "farm_id = \"C10\"; farmdir = \"../NewFarms\"\n",
    "for f in filter(x -> startswith(x, \"farm_\" * farm_id * \"_\"), readdir(farmdir * \"/\"))\n",
    "    d = load(farmdir * \"/\" * f)\n",
    "\n",
    "    @printf(\"%s: qu_out[1]=%.2f, cost=%g\\n\", f, d[\"qu_out\"][1], d[\"traj3\"][2,end]); \n",
    "end"
   ]
  },
  {
   "cell_type": "code",
   "execution_count": 210,
   "metadata": {
    "collapsed": false
   },
   "outputs": [
    {
     "data": {
      "text/plain": [
       "PyObject Text(0.5,1,'minimization with pre-check')"
      ]
     },
     "execution_count": 210,
     "metadata": {},
     "output_type": "execute_result"
    }
   ],
   "source": [
    "pygui(true)\n",
    "figure(1); clf();\n",
    "\n",
    "myouts = copy(outs);\n",
    "maxx   = -0.0007\n",
    "\n",
    "myouts[myouts[:,1].>maxx,1] = maxx\n",
    "myouts[myouts[:,2].>maxx,2] = maxx\n",
    "\n",
    "ax1 = subplot(2,1,1);\n",
    "plt[:hist](outs[:,1]*1000,-1:0.01:maxx*1000)\n",
    "vlines(-0.95, ylim()[1], ylim()[2], color=\"r\", linestyle=\"--\")\n",
    "ylabel(\"# of runs\")\n",
    "title(\"standard minimization -- left of red dashed line is a good run\")\n",
    "remove_xtick_labels()\n",
    "\n",
    "\n",
    "ax2 = subplot(2,1,2)\n",
    "plt[:hist](outs[:,2]*1000,-1:0.01:maxx*1000)\n",
    "vlines(-0.95, ylim()[1], ylim()[2], color=\"r\", linestyle=\"--\")\n",
    "xlabel(\"Final training cost/1000\")\n",
    "ylabel(\"# of runs\")\n",
    "title(\"minimization with pre-check\")\n",
    "\n"
   ]
  },
  {
   "cell_type": "code",
   "execution_count": 212,
   "metadata": {
    "collapsed": false
   },
   "outputs": [
    {
     "data": {
      "text/plain": [
       "97×2 Array{Float64,2}:\n",
       " -0.000992075  -0.000996848\n",
       " -0.000996983  -0.000999655\n",
       "  0.0596717    -0.000995379\n",
       " -0.00099101   -0.00099767 \n",
       " -0.000999679  -0.000999994\n",
       " -0.000977355  -0.000987124\n",
       " -0.000988438  -0.000999989\n",
       " -0.00098839   -0.000999986\n",
       " -0.00099058   -0.000988272\n",
       " -0.00099801   -0.0009938  \n",
       " -0.0009958    -0.000991577\n",
       " -0.000997176  -0.000995605\n",
       " -0.000999993  -0.000999725\n",
       "  ⋮                        \n",
       "  0.0196       -0.000999909\n",
       "  0.0480947    -0.000958385\n",
       "  0.0196001    -0.000997303\n",
       " -0.000995745  -0.000827584\n",
       "  0.0701043     0.0489064  \n",
       " -0.000999686  -0.000992905\n",
       " -0.000994563  -0.000844172\n",
       " -0.000993101   0.0197546  \n",
       "  0.0182703    -0.000997401\n",
       "  0.0449214    -0.00099347 \n",
       "  0.020247      0.0678375  \n",
       " -0.000987004  -0.000988269"
      ]
     },
     "execution_count": 212,
     "metadata": {},
     "output_type": "execute_result"
    }
   ],
   "source": [
    "outs"
   ]
  },
  {
   "cell_type": "code",
   "execution_count": null,
   "metadata": {
    "collapsed": false
   },
   "outputs": [],
   "source": [
    "mypars, extra_pars, start_pars, qu_out, args, bbox = load(\"../NewFarms/farm_C10_0008.jld\", \n",
    "    \"mypars\", \"extra_pars\", \"start_pars\", \"qu_out\", \"args\", \"bbox\")\n",
    "\n",
    "\n",
    "func1 =  (;params...) -> JJ(mypars[:nPro], mypars[:nAnti]; verbose=false, \n",
    "    merge(merge(mypars, extra_pars), Dict(params))...)[1]\n",
    "    \n",
    "            \n",
    "pars3, traj3, cost3, cpm_traj3, ftraj3 = bbox_Hessian_keyword_minimization(start_pars, \n",
    "    args, bbox, func1, \n",
    "    start_eta = 0.01, tol=1e-12, \n",
    "    verbose=true, verbose_every=1, maxiter=maxiter1)\n",
    "\n"
   ]
  },
  {
   "cell_type": "code",
   "execution_count": null,
   "metadata": {
    "collapsed": false
   },
   "outputs": [],
   "source": [
    "        cost, cost1s, cost2s, hP, hA, dP, dA, hBP, hBA = JJ(10000, 10000; verbose=false, \n",
    "            make_dict(args, pars3, merge(merge(mypars, extra_pars)))...)\n",
    "        \n"
   ]
  },
  {
   "cell_type": "code",
   "execution_count": null,
   "metadata": {
    "collapsed": false
   },
   "outputs": [],
   "source": [
    "[hBP, hBA, dP, dA]'"
   ]
  },
  {
   "cell_type": "code",
   "execution_count": null,
   "metadata": {
    "collapsed": false
   },
   "outputs": [],
   "source": [
    "        cost, cost1s, cost2s, hP, hA, dP, dA, hBP, hBA = JJ(200, 200; verbose=false, \n",
    "            make_dict(args, pars3, merge(merge(mypars, extra_pars)))...)\n"
   ]
  },
  {
   "cell_type": "code",
   "execution_count": null,
   "metadata": {
    "collapsed": false
   },
   "outputs": [],
   "source": [
    "[hBP, hBA, dP, dA]'"
   ]
  },
  {
   "cell_type": "code",
   "execution_count": 154,
   "metadata": {
    "collapsed": false
   },
   "outputs": [
    {
     "data": {
      "text/plain": [
       "1×2 Array{Float64,2}:\n",
       " 0.0353553  0.025"
      ]
     },
     "execution_count": 154,
     "metadata": {},
     "output_type": "execute_result"
    }
   ],
   "source": [
    "[0.5/sqrt(200) 0.5/sqrt(400)]"
   ]
  },
  {
   "cell_type": "code",
   "execution_count": null,
   "metadata": {
    "collapsed": false
   },
   "outputs": [],
   "source": [
    "d = load(\"../NewFarms/farm_C6_0002.jld\")\n",
    "\n",
    "mypars     = d[\"mypars\"]\n",
    "extra_pars = d[\"extra_pars\"] \n",
    "args       = d[\"args\"]\n",
    "pars1      = d[\"pars1\"]\n",
    "\n",
    "cost, cost1s, cost2s, hP, hA, dP, dA, hBP, hBA = JJ(400, 400; verbose=false, \n",
    "            make_dict(args, pars1, merge(merge(mypars, extra_pars)))...)\n"
   ]
  },
  {
   "cell_type": "code",
   "execution_count": null,
   "metadata": {
    "collapsed": false
   },
   "outputs": [],
   "source": [
    "extra_pars[:seedrand]"
   ]
  },
  {
   "cell_type": "code",
   "execution_count": null,
   "metadata": {
    "collapsed": false
   },
   "outputs": [],
   "source": [
    "~( abs(hBP[1]-0.9)<0.075 && abs(hBA[1]-0.7)<0.075 && dP[1] > 0.8 && dA[1] > 0.8)"
   ]
  },
  {
   "cell_type": "code",
   "execution_count": null,
   "metadata": {
    "collapsed": false
   },
   "outputs": [],
   "source": [
    "#@include_me  analyze_reduced_farm.jl\n",
    "\n",
    "\"\"\"\n",
    "    go_over_good_runs(files, I)\n",
    "\n",
    "Given a list of files, and a list of indices into those files, iterates over the indicated\n",
    "filenames, running show_run() on them, and then asking for user input.\n",
    "\"\"\"\n",
    "function go_over_good_runs(files, I)\n",
    "    for k=1:length(I)\n",
    "        show_run(files[I[k]])\n",
    "\n",
    "        @printf(\"Any key to continue, q to quit: \")\n",
    "        ans = chomp(readline())\n",
    "        if ans==\"q\" || ans==\"Q\"\n",
    "            break\n",
    "        end\n",
    "    end\n",
    "end\n"
   ]
  },
  {
   "cell_type": "code",
   "execution_count": null,
   "metadata": {
    "collapsed": false
   },
   "outputs": [],
   "source": [
    "go_over_good_runs(files, I)"
   ]
  },
  {
   "cell_type": "code",
   "execution_count": null,
   "metadata": {
    "collapsed": false
   },
   "outputs": [],
   "source": [
    "#@include_me analyze_reduced_farm.jl\n",
    "\n",
    "# show_run(\"farm_C3_0027.jld\", 400; opto_times=[\"trial_start\", \"trial_end\"], opto_strength=0.75)\n",
    "# show_run(\"farm_C3_0027.jld\", 400; opto_times=[\"target_start-0.5\", \"target_start\"], opto_strength=0, \n",
    "#   const_pro_bias=0, anti_rule_strength=0.05)\n",
    "show_run(\"farm_C3_0027.jld\", 400; opto_times=[\"target_start+0.016\", \"target_end\"], opto_strength=0.4, \n",
    "    const_pro_bias=0.02476, anti_rule_strength=0.054)"
   ]
  },
  {
   "cell_type": "code",
   "execution_count": null,
   "metadata": {
    "collapsed": false
   },
   "outputs": [],
   "source": [
    "#@include_me analyze_reduced_farm.jl\n",
    "\n",
    "#  TARGET PERIOD OPTO\n",
    "\n",
    "run_name = \"farm_C3_0027.jld\"\n",
    "recompute_me = false; if recompute_me\n",
    "    ostrengths = 0.5:0.1:1\n",
    "    phits      = zeros(1, length(ostrengths))\n",
    "    ahits      = zeros(1, length(ostrengths))\n",
    "\n",
    "    for i=1:length(ostrengths)\n",
    "        phits[i], ahits[i] = show_run(run_name, 4000; \n",
    "        opto_times=[\"target_start+0.016\", \"target_end+0.016\"], opto_strength=ostrengths[i])\n",
    "        @printf(\"ostrength=%g, phits=%.1f, ahits=%.1f\\n\", ostrengths[i], phits[i], ahits[i])\n",
    "    end\n",
    "\n",
    "    @save(\"Temp/opto_target.jld\", ostrengths, ahits, phits)\n",
    "else\n",
    "    ostrengths, ahits, phits = load(\"Temp/opto_target.jld\", \"ostrengths\", \"ahits\", \"phits\")\n",
    "end\n",
    "\n",
    "figure(3);clf();\n",
    "plot(ostrengths, phits[:], \".-\", ostrengths, ahits[:], \".-\")\n",
    "legend([\"pro\", \"anti\"])\n",
    "xlabel(\"opto strength\")\n",
    "ylabel(\"binarized hits\")\n",
    "title(run_name * \" : TARGET PERIOD opto\")\n",
    "grid(\"on\")\n",
    "\n",
    "\n",
    "#  DELAY PERIOD OPTO  ---------\n",
    "\n",
    "recompute_me = false; if recompute_me\n",
    "    ostrengths = 0.5:0.1:1\n",
    "    phits      = zeros(1, length(ostrengths))\n",
    "    ahits      = zeros(1, length(ostrengths))\n",
    "\n",
    "    for i=1:length(ostrengths)\n",
    "        phits[i], ahits[i] = show_run(run_name, 4000; \n",
    "        opto_times=[\"target_start-0.5\", \"target_start\"], opto_strength=ostrengths[i])\n",
    "        @printf(\"ostrength=%g, phits=%.1f, ahits=%.1f\\n\", ostrengths[i], phits[i], ahits[i])\n",
    "    end\n",
    "    @save(\"Temp/opto_delay.jld\", ostrengths, ahits, phits)\n",
    "else\n",
    "    ostrengths, ahits, phits = load(\"Temp/opto_delay.jld\", \"ostrengths\", \"ahits\", \"phits\")\n",
    "end\n",
    "\n",
    "figure(4);clf();\n",
    "plot(ostrengths, phits[:], \".-\", ostrengths, ahits[:], \".-\")\n",
    "legend([\"pro\", \"anti\"])\n",
    "xlabel(\"opto strength\")\n",
    "ylabel(\"binarized hits\")\n",
    "title(run_name * \" : last 500 ms of DELAY PERIOD opto\")\n",
    "grid(\"on\")"
   ]
  },
  {
   "cell_type": "code",
   "execution_count": null,
   "metadata": {
    "collapsed": false
   },
   "outputs": [],
   "source": []
  },
  {
   "cell_type": "markdown",
   "metadata": {},
   "source": [
    "## workspace for double_search.jl"
   ]
  },
  {
   "cell_type": "code",
   "execution_count": null,
   "metadata": {
    "collapsed": false
   },
   "outputs": [],
   "source": [
    "extra_pars[:seedrand] = 1510799260433 # Int64(round(1000*time()))   # 1510782006169 causes lin.alg error but then looks like it'll succeed\n",
    "srand(extra_pars[:seedrand])\n",
    "\n",
    "    args = []; seed = []; bbox = Dict()\n",
    "    for k in keys(search_conditions)\n",
    "        search_box = search_conditions[k][2]\n",
    "        args = [args; String(k)]\n",
    "        # --- search within the indicated search range:\n",
    "        myseed = search_conditions[k][1] + search_range*(rand()-0.5)*diff(search_box); myseed = myseed[1]\n",
    "        if myseed > search_box[2]; myseed = search_box[2]; end\n",
    "        if myseed < search_box[1]; myseed = search_box[1]; end\n",
    "        seed = [seed ;  myseed]\n",
    "        # --- No search, just start at the indicated position:\n",
    "        # seed = [seed ; search_conditions[k][1]]\n",
    "        bbox = merge(bbox, Dict(k => Array{Float64}(search_conditions[k][3])))\n",
    "    end\n",
    "    args = Array{String}(args)\n",
    "    seed = Array{Float64}(seed)\n",
    "\n",
    "\n",
    "func1 =  (;params...) -> JJ(mypars[:nPro], mypars[:nAnti]; verbose=false, \n",
    "    merge(merge(mypars, extra_pars), Dict(params))...)[1]\n",
    "\n",
    "t_pars = [0.378, 0.164, 0.001, -0.203, 0.589, -0.673, 0.105, -0.582, 0.471]\n",
    "\n",
    "pars, traj, cost, cpm_traj, ftraj = bbox_Hessian_keyword_minimization(t_pars, args, bbox, func1, \n",
    "    start_eta = 0.1, tol=1e-12, \n",
    "    verbose=true, verbose_every=1, maxiter=1000)\n"
   ]
  },
  {
   "cell_type": "code",
   "execution_count": null,
   "metadata": {
    "collapsed": false
   },
   "outputs": [],
   "source": [
    "testruns = 1600\n",
    "\n",
    "pars = [0.356712, 0.000825015, 0.0218232, -0.0364268, 0.678269, -2.97884, 0.153528, -0.484789, 1.07313]\n",
    "\n",
    "cost, cost1s, cost2s, hP, hA, dP, dA, hBP, hBA = JJ(testruns, testruns; verbose=false, \n",
    "                make_dict(args, pars, merge(merge(mypars, extra_pars)))...)\n"
   ]
  },
  {
   "cell_type": "code",
   "execution_count": null,
   "metadata": {
    "collapsed": false
   },
   "outputs": [],
   "source": [
    "G = load(\"FarmFields/farm_C4_0041.jld\")"
   ]
  },
  {
   "cell_type": "code",
   "execution_count": null,
   "metadata": {
    "collapsed": false
   },
   "outputs": [],
   "source": [
    "( abs(hBP[1]-0.9)<0.05 && abs(hBA[1]-0.7)<0.05 && dP[1] > 0.8 && dA[1] > 0.8)"
   ]
  },
  {
   "cell_type": "code",
   "execution_count": null,
   "metadata": {
    "collapsed": false
   },
   "outputs": [],
   "source": []
  },
  {
   "cell_type": "code",
   "execution_count": null,
   "metadata": {
    "collapsed": false
   },
   "outputs": [],
   "source": [
    "    args = []; seed = []; bbox = Dict()\n",
    "    for k in keys(search_conditions)\n",
    "        search_box = search_conditions[k][2]\n",
    "        args = [args; String(k)]\n",
    "        # --- search within the indicated search range:\n",
    "        myseed = search_conditions[k][1] + search_range*(rand()-0.5)*diff(search_box); myseed = myseed[1]\n",
    "        if myseed > search_box[2]; myseed = search_box[2]; end\n",
    "        if myseed < search_box[1]; myseed = search_box[1]; end\n",
    "        seed = [seed ;  myseed]\n",
    "        # --- No search, just start at the indicated position:\n",
    "        # seed = [seed ; search_conditions[k][1]]\n",
    "        bbox = merge(bbox, Dict(k => Array{Float64}(search_conditions[k][3])))\n",
    "    end\n",
    "    args = Array{String}(args)\n",
    "    seed = Array{Float64}(seed)\n",
    "\n",
    "\n",
    "    maxiter1 = 10;  # for func1, the regular search\n",
    "    maxiter2 = 20;  # for func2, the reduced search\n",
    "\n",
    "    func1 =  (;params...) -> JJ(mypars[:nPro], mypars[:nAnti]; verbose=false, \n",
    "    merge(merge(mypars, extra_pars), Dict(params))...)[1]\n",
    "    \n",
    "    # For func2:\n",
    "    extra_pars[:opto_conditions] = []    \n",
    "    extra_pars[:plot_list] = [1:10;]    \n",
    "    extra_pars[:plot_condition] = 0\n",
    "\n",
    "    func2 =  (;params...) -> new_J(10, 10; verbose=false, merge(merge(mypars, extra_pars), Dict(params))...)\n",
    "\n",
    "    # For func2:\n",
    "    # This function will get the output of new_J() at each iteration, and will return \"true\", stopping\n",
    "    # the minimization, if hBP and hBA are both above a threshold.\n",
    "    function stopping_func(;cost=0, func_out=[], ignored_extra_params...)\n",
    "        costf, dP, dA, hBP, hBA = func_out\n",
    "        return hBP[1]>=0.6 && hBA[1] >= 0.6\n",
    "    end\n",
    "\n",
    "        extra_pars[:plot_list] = []\n",
    "        cost, cost1s, cost2s, hP, hA, dP, dA, hBP, hBA = JJ(100, 100; verbose=false, \n",
    "            make_dict(args, seed, merge(merge(mypars, extra_pars)))...)\n"
   ]
  },
  {
   "cell_type": "code",
   "execution_count": null,
   "metadata": {
    "collapsed": false
   },
   "outputs": [],
   "source": [
    "dA"
   ]
  },
  {
   "cell_type": "code",
   "execution_count": null,
   "metadata": {
    "collapsed": true
   },
   "outputs": [],
   "source": []
  },
  {
   "cell_type": "code",
   "execution_count": null,
   "metadata": {
    "collapsed": false
   },
   "outputs": [],
   "source": [
    "search_conditions = Dict(   # :param    default_start   search_box  bound_box\n",
    ":vW     =>                   [mypars[:vW],                       [-0.5, 0.5],  [-3,   3]], \n",
    ":hW     =>                   [mypars[:hW],                       [-0.5, 0.5],  [-3,   3]],\n",
    ":dW     =>                   [mypars[:dW],                       [-0.5, 0.5],  [-3,   3]],\n",
    ":sW     =>                   [mypars[:sW],                       [0,    0.5],  [0,    3]],\n",
    ":sigma  =>                   [0.11,                              [0.1,  0.2],  [0.1, 0.4]],\n",
    ":constant_excitation      => [mypars[:constant_excitation],      [-1,     1],  [-2,   2]], \n",
    ":target_period_excitation => [mypars[:target_period_excitation], [0.001,0.5],  [0     4]],\n",
    ":right_light_excitation   => [mypars[:right_light_excitation],   [0.05, 0.5],  [0.05, 4]],\n",
    ":const_pro_bias           => [mypars[:const_pro_bias],           [-0.5, 0.5],  [-2,   2]],\n",
    "# :opto_strength            => [mypars[:opto_strength],            [0.7, 0.99],  [0,    1]],\n",
    ")\n",
    "\n",
    "\n",
    "\n",
    "args = []; seed = []; bbox = Dict()\n",
    "\n",
    "for k in keys(search_conditions)\n",
    "    search_box = search_conditions[k][2]\n",
    "    args = [args; String(k)]\n",
    "    # myseed = rand()*diff(search_box) + search_box[1]; myseed = myseed[1]    \n",
    "    # seed = [seed ;  myseed]    \n",
    "    seed = [seed ; search_conditions[k][1]]    \n",
    "    bbox = merge(bbox, Dict(k => Array{Float64}(search_conditions[k][3])))    \n",
    "end\n",
    "args = Array{String}(args)\n",
    "seed = Array{Float64}(seed)\n",
    "\n",
    "func =  (;params...) -> new_J(10, 10; verbose=true,  merge(merge(mypars, extra_pars), Dict(params))...)[1]\n",
    "\n",
    "pars, traj, cost, cpm_traj, ftraj = bbox_Hessian_keyword_minimization(seed, args, bbox, func, \n",
    "            start_eta = 0.1, tol=1e-12, \n",
    "            verbose=true, verbose_every=1, maxiter=1000)\n"
   ]
  },
  {
   "cell_type": "code",
   "execution_count": null,
   "metadata": {
    "collapsed": true
   },
   "outputs": [],
   "source": []
  },
  {
   "cell_type": "code",
   "execution_count": null,
   "metadata": {
    "collapsed": true
   },
   "outputs": [],
   "source": []
  },
  {
   "cell_type": "code",
   "execution_count": null,
   "metadata": {
    "collapsed": false
   },
   "outputs": [],
   "source": [
    "\n",
    "\n",
    "mypars = Dict(\n",
    ":init_add               =>          0,\n",
    ":const_add              =>          0,\n",
    ":noise                  =>          Any[],\n",
    ":input                  =>          0,\n",
    ":seedrand               =>          1510340076445,\n",
    ":start_anti             =>          [-0.5, -0.5, -0.5, -0.5],\n",
    ":start_pro              =>          [-0.5, -0.5, -0.5, -0.5],\n",
    ":rule_and_delay_period  =>          1.2,\n",
    ":rule_and_delay_periods =>          [1.2],\n",
    ":target_period          =>          0.3,\n",
    ":target_periods         =>          [0.3],\n",
    ":post_target_period     =>          0.3,\n",
    ":post_target_periods    =>          [0.3],\n",
    ":anti_rule_strength     =>          0.054,\n",
    ":U_rest                 =>          0,\n",
    ":theta                  =>          0.05,\n",
    ":beta                   =>          0.5,\n",
    ":g_leak                 =>          1,\n",
    ":nsteps                 =>          301,\n",
    ":dt                     =>          0.024,\n",
    ":tau                    =>          0.09,\n",
    ":right_light_excitation =>          0.49924152955481954,\n",
    ":opto_strength          =>          0.85,\n",
    ":opto_periods           =>          String[\n",
    "                                    \"trial_start\" \"trial_start\"; \n",
    "                                    \"trial_start\" \"trial_end\"; \n",
    "                                    \"trial_start\" \"target_start/2\"; \n",
    "                                    \"target_start/2\" \"target_start\"; \n",
    "                                    \"target_start\" \"target_end\"],\n",
    ":opto_targets          =>           [\n",
    "                                    0.9 0.7; \n",
    "                                    0.9 0.5; \n",
    "                                    0.9 0.7; \n",
    "                                    0.9 0.5; \n",
    "                                    0.9 0.7],\n",
    ":theta2 => 0.15,\n",
    ":theta1 => 0.05,\n",
    ":sigma => 0.01,\n",
    ":cbeta => 0.04,\n",
    ":sW => 0.6416875048295452,\n",
    ":hW => 0.054701836208134846,\n",
    ":dW => 0.1267124266934907,\n",
    ":vW => -1.588850577499782,\n",
    ":constant_excitation => -0.37242520737694207,\n",
    ":const_pro_bias => 0.04366897857834884,\n",
    ":target_period_excitation => 0.15315254453690974,\n",
    ":right_light_pro_extra => 0,\n",
    ":pro_rule_strength => 0.05,\n",
    ":nPro => 100,\n",
    ":nAnti => 100,\n",
    ")\n"
   ]
  },
  {
   "cell_type": "code",
   "execution_count": null,
   "metadata": {
    "collapsed": false
   },
   "outputs": [],
   "source": [
    "\n",
    "\n",
    "extra_pars = Dict(\n",
    ":plot_list        =>   [1:10;], \n",
    ":plot_condition   =>   1,\n",
    ":verbose          =>   true,\n",
    ":opto_conditions  =>   Array{Any}(0, 4),\n",
    ")\n",
    "\n",
    "\n",
    "search_conditions = Dict(   # :param    default_start   search_box  bound_box\n",
    ":vW     =>                   [mypars[:vW],                       [-0.5, 0.5],  [-3,   3]], \n",
    ":hW     =>                   [mypars[:hW],                       [-0.5, 0.5],  [-3,   3]],\n",
    ":dW     =>                   [mypars[:dW],                       [-0.5, 0.5],  [-3,   3]],\n",
    ":sW     =>                   [mypars[:sW],                       [0,    0.5],  [0,    3]],\n",
    ":sigma  =>                   [0.11,                              [0.1,  0.2],  [0.1, 0.4]],\n",
    ":constant_excitation      => [mypars[:constant_excitation],      [-1,     1],  [-2,   2]], \n",
    ":target_period_excitation => [mypars[:target_period_excitation], [0.001,0.5],  [0     4]],\n",
    ":right_light_excitation   => [mypars[:right_light_excitation],   [0.05, 0.5],  [0.05, 4]],\n",
    ":const_pro_bias           => [mypars[:const_pro_bias],           [-0.5, 0.5],  [-2,   2]],\n",
    "# :opto_strength            => [mypars[:opto_strength],            [0.7, 0.99],  [0,    1]],\n",
    ")\n",
    "\n"
   ]
  },
  {
   "cell_type": "code",
   "execution_count": null,
   "metadata": {
    "collapsed": false
   },
   "outputs": [],
   "source": [
    "a=(1, 2, 3, 4, \"5\")\n",
    "\n",
    "b,c,d,e,f = a\n",
    "f\n"
   ]
  },
  {
   "cell_type": "code",
   "execution_count": null,
   "metadata": {
    "collapsed": true
   },
   "outputs": [],
   "source": []
  },
  {
   "cell_type": "code",
   "execution_count": null,
   "metadata": {
    "collapsed": true
   },
   "outputs": [],
   "source": [
    "#@include_me interesting_minimization.jl\n",
    "\n",
    "include(\"pro_anti.jl\")"
   ]
  },
  {
   "cell_type": "code",
   "execution_count": null,
   "metadata": {
    "collapsed": false
   },
   "outputs": [],
   "source": [
    "#@include_me interesting_minimization.jl\n",
    "\n",
    "pygui(true)\n",
    "d = load(\"FarmFields/farm_C3_0005.jld\")\n",
    "mypars     = d[\"mypars\"]\n",
    "extra_pars = d[\"extra_pars\"] \n",
    "\n",
    "seed = d[\"seed\"]\n",
    "args = d[\"args\"]\n",
    "bbox = d[\"bbox\"]\n",
    "\n",
    "extra_pars[:opto_conditions] = []\n",
    "extra_pars[:plot_list] = [1:10;]\n",
    "extra_pars[:plot_condition] = 1\n",
    "\n",
    "# This function will get the output of new_J() at each iteration, and will return \"true\", stopping\n",
    "# the minimization, if hBP and hBA are both above a threshold.\n",
    "function stopping_func(;cost=0, func_out=[], ignored_extra_params...)\n",
    "    costf, dP, dA, hBP, hBA = func_out\n",
    "    return hBP[1]>=0.6 && hBA[1] >= 0.6\n",
    "end\n",
    "\n",
    "func =  (;params...) -> new_J(10, 10; verbose=true, merge(merge(mypars, extra_pars), Dict(params))...)\n",
    "\n",
    "t_pars, traj, cost, cpm_traj, ftraj = bbox_Hessian_keyword_minimization(seed, args, bbox, func, \n",
    "    stopping_function = stopping_func, \n",
    "start_eta = 0.1, tol=1e-12, verbose=true, verbose_every=1, maxiter=2000)\n"
   ]
  },
  {
   "cell_type": "code",
   "execution_count": null,
   "metadata": {
    "collapsed": false
   },
   "outputs": [],
   "source": []
  },
  {
   "cell_type": "code",
   "execution_count": null,
   "metadata": {
    "collapsed": false
   },
   "outputs": [],
   "source": [
    "t_pars = pars"
   ]
  },
  {
   "cell_type": "code",
   "execution_count": null,
   "metadata": {
    "collapsed": false
   },
   "outputs": [],
   "source": [
    "#@include_me  interesting_minimization.jl\n",
    "\n",
    "seed = t_pars\n",
    "\n",
    "func =  (;params...) -> JJ(mypars[:nPro], mypars[:nAnti]; verbose=false, \n",
    "    merge(merge(mypars, extra_pars), Dict(params))...)\n",
    "\n",
    "\n",
    "pars, traj, cost, cpm_traj, ftraj = bbox_Hessian_keyword_minimization(seed, args, bbox, func, \n",
    "    start_eta = 0.1, tol=1e-12, verbose=true, verbose_every=1, maxiter=1000)\n"
   ]
  },
  {
   "cell_type": "code",
   "execution_count": null,
   "metadata": {
    "collapsed": false
   },
   "outputs": [],
   "source": [
    "README = \"\"\"\n",
    "For the code that generated this file, see interesting_minimization.jl.\n",
    "\n",
    "The thing that is interesting, is that at the end of ths minimization, things are going VERY slowly, \n",
    "and cos theta is almost always close to 0! What is going on?  What is the landscape like around\n",
    "there? Are we really taking nicely-directed Hessian jumps?  Or is the wall screwing that up?\n",
    "\"\"\"\n",
    "\n",
    "@save \"Temp/interesting_minimization.jld\"\n"
   ]
  },
  {
   "cell_type": "code",
   "execution_count": null,
   "metadata": {
    "collapsed": false
   },
   "outputs": [],
   "source": [
    "gu = true\n",
    "\n",
    "@printf(\"gu is %s\\n\", false)"
   ]
  },
  {
   "cell_type": "code",
   "execution_count": null,
   "metadata": {
    "collapsed": false
   },
   "outputs": [],
   "source": [
    "\n",
    "\n",
    "\n",
    "fbasename = \"FarmFields/farm_C4_\"\n",
    "\n",
    "# while true\n",
    "    args = []; seed = []; bbox = Dict()\n",
    "    for k in keys(search_conditions)\n",
    "        search_box = search_conditions[k][2]\n",
    "        args = [args; String(k)]\n",
    "        myseed = rand()*diff(search_box) + search_box[1]; myseed = myseed[1]\n",
    "        seed = [seed ;  myseed]\n",
    "        # seed = [seed ; search_conditions[k][1]]\n",
    "        bbox = merge(bbox, Dict(k => Array{Float64}(search_conditions[k][3])))\n",
    "    end\n",
    "    args = Array{String}(args)\n",
    "    seed = Array{Float64}(seed)\n",
    "\n",
    "\n",
    "\n",
    "    func =  (;params...) -> new_J(10, 10; verbose=true, \n",
    "        merge(merge(mypars, extra_pars), Dict(params))...)[1]\n",
    "\n",
    "    try\n",
    "        pars, traj, cost, cpm_traj, ftraj = bbox_Hessian_keyword_minimization(seed, args, bbox, func, \n",
    "            start_eta = 0.1, tol=1e-12, \n",
    "            verbose=true, verbose_every=1, maxiter=1000)\n",
    "\n",
    "\n",
    "        cost, cost1s, cost2s, hP, hA, dP, dA, hBP, hBA = JJ(10000, 10000; verbose=false, \n",
    "        make_dict(args, pars, merge(merge(mypars, extra_pars)))...)\n",
    "\n",
    "        myfilename = next_file(fbasename, 4)\n",
    "        myfilename = myfilename*\".jld\"\n",
    "        # write file\n",
    "        save(myfilename, Dict(\"nPro\"=>mypars[:nPro], \"nAnti\"=>mypars[:nAnti], \n",
    "        \"mypars\"=>mypars, \"extra_pars\"=>extra_pars, \"args\"=>args, \"seed\"=>seed, \"bbox\"=>bbox, \n",
    "        \"pars\"=>pars, \"traj\"=>traj, \"cost\"=>cost, \"cpm_traj\"=>cpm_traj, \"ftraj\"=>ftraj,\n",
    "        \"hP\"=>hP, \"hA\"=>hA, \"dP\"=>dP, \"dA\"=>dA, \"hBP\"=>hBP, \"hBA\"=>hBA))\n",
    "    catch\n",
    "        @printf(\"\\n\\nWhoopsety, unkown error!   Trying new random seed.\\n\\n\")\n",
    "    end\n",
    "# end"
   ]
  },
  {
   "cell_type": "code",
   "execution_count": null,
   "metadata": {
    "collapsed": true
   },
   "outputs": [],
   "source": []
  },
  {
   "cell_type": "markdown",
   "metadata": {},
   "source": [
    "# Alex-style runs"
   ]
  },
  {
   "cell_type": "code",
   "execution_count": null,
   "metadata": {
    "collapsed": true
   },
   "outputs": [],
   "source": [
    "using ForwardDiff\n",
    "using DiffBase\n",
    "using MAT\n",
    "using PyPlot\n"
   ]
  },
  {
   "cell_type": "code",
   "execution_count": null,
   "metadata": {
    "collapsed": false
   },
   "outputs": [],
   "source": [
    "include(\"pro_anti.jl\")"
   ]
  },
  {
   "cell_type": "code",
   "execution_count": null,
   "metadata": {
    "collapsed": true
   },
   "outputs": [],
   "source": [
    "FarmName = \"CARLOS_TEST\"\n",
    "\n",
    "\n",
    "#Define core model parameters\n",
    "model_params = Dict(\n",
    ":dt     =>  0.002,      # Changed hyper-parameter\n",
    ":tau    =>  0.02,       # Changed hyper-parameter\n",
    ":vW     =>  -1.7, #FIT parameter\n",
    ":hW     =>  -1.7, #FIT parameter\n",
    ":sW     =>  0.2,  #FIT parameter\n",
    ":dW     =>  0,    #FIT parameter\n",
    ":nsteps =>  2, \n",
    ":noise  =>  [], \n",
    ":sigma  =>  0.08, #FIT parameter\n",
    ":input  =>  0,    #### Alex thinks this is out-dated \n",
    ":g_leak =>  1,          # Changed hyper-parameter\n",
    ":U_rest =>  0,          # Changed hyper-parameter\n",
    ":theta  =>  0.05,       # Changed hyper-parameter\n",
    ":beta   =>  0.5,        # Changed hyper-parameter \n",
    ":sw     =>  0.2,  #### Alex thinks this is out-dated\n",
    ":hw     =>  -1.7, #### Alex thinks this is out-dated\n",
    ":vw     =>  -1.7, #### Alex thinks this is out-dated\n",
    ":constant_excitation      => 0.19, #FIT  parameter\n",
    ":anti_rule_strength       => 0.05,      # Changed hyper-parameter\n",
    ":pro_rule_strength        => 0.05,      # Changed hyper-parameter\n",
    ":target_period_excitation => 1,    #FIT  parameter\n",
    ":right_light_excitation   => 0.5,  #FIT parameter\n",
    ":right_light_pro_extra    => 0,\n",
    ":const_add                => 0, \n",
    ":init_add                 => 0, \n",
    ":rule_and_delay_period    => 0.4,\n",
    ":target_period            => 0.1,\n",
    ":post_target_period       => 0.5,\n",
    ":const_pro_bias           => 0,    #FIT parameter\n",
    ":nPro                     => 100,\n",
    ":nAnti                    => 100,\n",
    ":theta1                   => 0.01,\n",
    ":theta2                   => 0.15,\n",
    ":start_pro                => [-0.5, -0.5, -0.5, -0.5],\n",
    ":start_anti               => [-0.5, -0.5, -0.5, -0.5],\n",
    ":opto_strength  => .7,             #FIT parameter\n",
    ":opto_periods   => [-1.1 -1; 0 20;0 50; 50 100; 100 20],  \n",
    "# The opto \"conditions\" correspond to the rows of opto_periods.\n",
    "# all conditions are in seconds relative to start of the trial\n",
    "# any value before 0 gets changed to 0\n",
    "# any value after the end of trial gets changed to end of trial\n",
    "# Special values allow for variable durations\n",
    "#  20 codes for \"end of trial\"\n",
    "#  -1 codes for \"start of trial\"\n",
    "# 100 codes for \"end of rule and delay period\"\n",
    "# 200 codes for \"end of target period\"\n",
    "# -------------------------------------------------------------\n",
    "# first column is frachit Pro, next column is Anti, rows are conditions\n",
    "# Actual Opto targets\n",
    "#:opto_targets   => [.75 .73;.77 .58;.75 .74; .72 .66;.73 .75] \n",
    "# Fake Targets\n",
    ":opto_targets => [.9 .7; .9 .5; .9 .7; .9 .5; .9 .7]  \n",
    ");\n",
    "\n",
    "# ======= ARGUMENTS AND SEED VALUES:\n",
    "args = [\"sW\", \"vW\", \"hW\", \"dW\", \"constant_excitation\", \"right_light_excitation\", \"target_period_excitation\", \"const_pro_bias\", \"sigma\",\"opto_strength\"];\n",
    "seed = [0.001,  -1.58,   -0.05,  0.001,    0.001,                0.6,                       0.001,                        0.0427,              0.05, .9];   \n",
    "# ======= BOUNDING BOX:\n",
    "bbox = Dict(:sW=>[0 3], :vW=>[-3 3], :hW=>[-3 3], :dW=>[-3 3], :constant_excitation=>[-2 2],\n",
    ":right_light_excitation=>[0.05 4], :target_period_excitation=>[0 4], :const_pro_bias=>[-2 2],\n",
    ":sigma=>[0.1 0.4],:opto_strength=>[0 1]);\n",
    "\n",
    "# ======== SEARCH ZONE:\n",
    "sbox = Dict(:sW=>[0 .5], :vW=>[-.5 .5], :hW=>[-.5 .5], :dW=>[-.5 .5],\n",
    ":constant_excitation=>[-.5 .5], :right_light_excitation=>[0.05 .5], :target_period_excitation=>[0.001 .5],:const_pro_bias=>[-.5 .5], :sigma=>[0.1 .2],:opto_strength=>[.7 .99]);\n",
    "\n",
    "# define a few hyper parameters\n",
    "cbetas = [4e-3];\n",
    "rule_and_delay_periods = [0.2];\n",
    "post_target_periods    = [0.05];\n",
    "num_eval_runs           = 1000;\n",
    "num_optimize_iter       = 2000;\n",
    "num_optimize_restarts   = 100;\n",
    "\n",
    "# define base filename\n",
    "fbasename = \"FarmFields/farm_\"*string(FarmName);\n",
    "\n",
    "for i=1:num_optimize_restarts   # Iterate this many optimizations\n",
    "for cb in cbetas                # Iterate over beta values, if there are multiple\n",
    "    # figure out initial seed for random number generator\n",
    "    sr = convert(Int64, round(time()))\n",
    "    srand(sr);\n",
    "\n",
    "    dista=rand();\n",
    "    println(\"dista\")\n",
    "    println(dista)\n",
    "    myseed1 = copy(seed);\n",
    "\n",
    "    # get initial parameter values by sampling from sbox\n",
    "    myseed = ForwardDiffZeros(length(args),1);\n",
    "    for j=1:length(args)\n",
    "        sym = Symbol(args[j])\n",
    "        if haskey(sbox, sym)\n",
    "#           myseed[j] = sbox[sym][1] + diff(sbox[sym],2)[1]*rand();\n",
    "            myseed[j] = dista*(sbox[sym][1] + diff(sbox[sym],2)[1]*rand())+(1-dista)*myseed1[j];\n",
    "        if myseed[j] > bbox[sym][2]\n",
    "            myseed[j] =bbox[sym][2] - 0.1;\n",
    "        elseif myseed[j] < bbox[sym][1]\n",
    "            myseed[j] =bbox[sym][1]+0.1;\n",
    "        end\n",
    "        else\n",
    "            myseed[j] = seed[j];\n",
    "        end\n",
    "    end\n",
    "\n",
    "    # define opto function with just value output\n",
    "    func =  (;params...) -> JJ(model_params[:nPro], model_params[:nAnti]; \n",
    "        rule_and_delay_periods=rule_and_delay_periods, \n",
    "        theta1=model_params[:theta1], theta2=model_params[:theta2], \n",
    "        post_target_periods=post_target_periods, seedrand=sr, cbeta=cb, \n",
    "        verbose=false, merge(model_params, Dict(params))...)[1]\n",
    "    \n",
    "    # run optimization with all parameters\n",
    "    @printf(\"Going with seed = \"); print_vector_g(myseed); print(\"\\n\")\n",
    "    pars, traj, cost, cpm_traj = bbox_Hessian_keyword_minimization(myseed, args, bbox, func, start_eta = 1, tol=1e-12, verbose=true, verbose_every=10, maxiter=num_optimize_iter)\n",
    "    @printf(\"Came out with cost %g and pars = \", cost); print_vector_g(pars); print(\"\\n\\n\")\n",
    "\n",
    "    # get gradient and hessian at end of optimization \n",
    "    value, grad, hess = keyword_vgh(func, args, pars)\n",
    "\n",
    "    # define function with all outputs, evaluate on training noise\n",
    "    t_standard_func =  (;params...) -> JJ_opto(model_params[:nPro], model_params[:nAnti]; rule_and_delay_periods=rule_and_delay_periods, theta1=model_params[:theta1], theta2=model_params[:theta2], post_target_periods=post_target_periods, seedrand=sr, cbeta=cb, verbose=false, merge(model_params, Dict(params))...)\n",
    "\n",
    "    # run opto model with all outputs, evaluate on training noise\n",
    "    t_opto_scost, t_opto_scost1, t_opto_scost2, t_opto_hitsP,t_opto_hitsA, t_opto_diffsP, t_opto_diffsA, t_opto_bP, t_opto_bA = t_standard_func(;make_dict(args, pars, model_params)...)\n",
    "    \n",
    "   ## evaluate for long form info\n",
    "    # reset random number generator for testing purposes\n",
    "    test_sr = convert(Int64, round(time()))\n",
    "    srand(test_sr); \n",
    "\n",
    "    # define function with all outputs, evaluate on test noise\n",
    "    standard_func =  (;params...) -> JJ_opto(num_eval_runs, num_eval_runs; rule_and_delay_periods=rule_and_delay_periods, theta1=model_params[:theta1], theta2=model_params[:theta2], post_target_periods=post_target_periods, seedrand=test_sr, cbeta=cb, verbose=false, merge(model_params, Dict(params))...)\n",
    "\n",
    "    # run opto model with all outputs, evaluate on test noise\n",
    "    opto_scost, opto_scost1, opto_scost2, opto_hitsP,opto_hitsA, opto_diffsP, opto_diffsA, opto_bP, opto_bA = standard_func(;make_dict(args, pars, model_params)...)\n",
    "\n",
    "   ## Save this run out to a file\n",
    "    # get filename\n",
    "    myfilename = next_file(fbasename, 4)\n",
    "    myfilename = myfilename*\".mat\"\n",
    "    # write file\n",
    "    matwrite(myfilename, Dict(\"args\"=>args, \"myseed\"=>myseed, \"pars\"=>pars, \"traj\"=>traj, \"cost\"=>cost, \"cpm_traj\"=>cpm_traj, \"nPro\"=>model_params[:nPro], \"nAnti\"=>model_params[:nAnti], \"sr\"=>sr, \"cb\"=>cb, \"theta1\"=>model_params[:theta1], \"theta2\"=>model_params[:theta2],\"value\"=>value,\"grad\"=>grad, \"hess\"=>hess, \"model_params\"=>ascii_key_ize(model_params), \"bbox\"=>ascii_key_ize(bbox), \"sbox\"=>ascii_key_ize(sbox), \"rule_and_delay_periods\"=>rule_and_delay_periods, \"post_target_periods\"=>post_target_periods, \"opto_scost\"=>opto_scost, \"opto_scost1\"=>opto_scost1, \"opto_scost2\"=>opto_scost2, \"opto_hitsP\"=>opto_hitsP, \"opto_hitsA\"=>opto_hitsA, \"opto_diffsP\"=>opto_diffsP, \"opto_diffsA\"=>opto_diffsA,\"test_sr\"=>test_sr,\"opto_bP\"=>opto_bP, \"opto_bA\"=>opto_bA, \"t_opto_scost\"=>t_opto_scost, \"t_opto_scost1\"=>t_opto_scost1, \"t_opto_scost2\"=>t_opto_scost2, \"t_opto_hitsP\"=>t_opto_hitsP, \"t_opto_hitsA\"=>t_opto_hitsA, \"t_opto_diffsP\"=>t_opto_diffsP, \"t_opto_diffsA\"=>t_opto_diffsA,\"t_opto_bP\"=>t_opto_bP, \"t_opto_bA\"=>t_opto_bA,\"dista\"=>dista  ))\n",
    "end\n",
    "end\n",
    "\n"
   ]
  },
  {
   "cell_type": "code",
   "execution_count": null,
   "metadata": {
    "collapsed": true
   },
   "outputs": [],
   "source": []
  },
  {
   "cell_type": "code",
   "execution_count": null,
   "metadata": {
    "collapsed": false,
    "scrolled": true
   },
   "outputs": [],
   "source": [
    "using HypothesisTests"
   ]
  },
  {
   "cell_type": "code",
   "execution_count": null,
   "metadata": {
    "collapsed": false
   },
   "outputs": [],
   "source": [
    "N = 20\n",
    "x = 1+0.2*randn(N,1); y = x - 0.05 + 0.1*randn(N,1);\n",
    "\n",
    "\n",
    "using PyPlot\n",
    "pygui(true)\n",
    "\n",
    "figure(1); clf();\n",
    "subplot(1,2,1)\n",
    "\n",
    "for i=1:N\n",
    "    plot([1, 2], [x[i], y[i]], \"b.-\")\n",
    "end\n",
    "\n",
    "p = pvalue(OneSampleTTest(x[:], y[:]))\n",
    "\n",
    "title(\"Paired t-test :  p<\" * @sprintf(\"%.4g\", p))\n",
    "\n",
    "\n",
    "subplot(1,2,2)\n",
    "plot(x-y, \"b.\")"
   ]
  },
  {
   "cell_type": "code",
   "execution_count": null,
   "metadata": {
    "collapsed": false
   },
   "outputs": [],
   "source": []
  },
  {
   "cell_type": "code",
   "execution_count": null,
   "metadata": {
    "collapsed": false
   },
   "outputs": [],
   "source": []
  },
  {
   "cell_type": "code",
   "execution_count": null,
   "metadata": {
    "collapsed": false
   },
   "outputs": [],
   "source": []
  },
  {
   "cell_type": "markdown",
   "metadata": {},
   "source": [
    "# Marino's model in Marino's parameter settings"
   ]
  },
  {
   "cell_type": "code",
   "execution_count": null,
   "metadata": {
    "collapsed": false
   },
   "outputs": [],
   "source": [
    "#@include_me  scaling_up_dt.jl\n",
    "\n",
    "# In its own cell so we can run it just once\n",
    "\n",
    "include(\"pro_anti.jl\")   # Loads all the necessary pre-requisites\n"
   ]
  },
  {
   "cell_type": "code",
   "execution_count": null,
   "metadata": {
    "collapsed": false
   },
   "outputs": [],
   "source": [
    "#@include_me  scaling_up_dt.jl\n",
    "\n",
    "model_params, F, nPro, nAnti = load_run(\"farm_LD0003\"; farmdir=\"goodfarms\")\n",
    "\n",
    "# mypars = merge(model_params, Dict(:post_target_periods=>0.05))\n",
    "\n",
    "cost, cost1s, cost2s, hP, hA, dP, dA, hBP, hBA, proValls, antiValls, opto_fraction, pro_input, anti_input = \n",
    "JJ(model_params[:nPro], model_params[:nAnti]; verbose=true, model_details=true, model_params...);\n",
    "\n",
    "\n",
    "epochs = [\"control\";\"full\";\"rule\";\"delay\";\"choice\"]\n",
    "titles  = [\"epochs\" \"hitP\" \"hitA\" \"diffP\" \"diffA\" \"hBP\" \"hBA\"]\n",
    "\n",
    "@printf(\"\\n\\n--- The original run:\\n\\n\")\n",
    "\n",
    "sleep(0.5)  # A pause just to make sure everything has printed out \n",
    "display([titles; epochs hP hA dP dA hBP hBA])\n"
   ]
  },
  {
   "cell_type": "code",
   "execution_count": null,
   "metadata": {
    "collapsed": false
   },
   "outputs": [],
   "source": [
    "#@include_me  scaling_up_dt.jl\n",
    "\n",
    "# Now scale things to make dt and tau are much larger, and involve 0.25 x the timesteps\n",
    "\n",
    "mypars = merge(model_params, Dict(:opto_times=>[0 0]))  # default is no opto\n",
    "\n",
    "mypars = merge(model_params, Dict(\n",
    ":dt=>0.024,\n",
    ":tau=>0.09,\n",
    ":rule_and_delay_period=>1.2,\n",
    ":target_period=>0.3,\n",
    ":post_target_period=>0.3,\n",
    ":anti_rule_strength=>0.054,\n",
    "# :post_target_period=>0.05, \n",
    "# :rule_and_delay_period=>0.8, \n",
    "# :opto_times=>[0 0],\n",
    "# :opto_times=>[\"target_start/2\" \"target_start\"],\n",
    "# :opto_times=>[\"target_start\", \"target_end\"],\n",
    ":opto_strength=>0.85,\n",
    "))# , :rule_and_delay_period=>0.8))\n",
    "\n",
    "\n",
    "mypars[:rule_and_delay_periods] = [mypars[:rule_and_delay_period]]\n",
    "mypars[:target_periods]         = [mypars[:target_period]]\n",
    "mypars[:post_target_periods]    = [mypars[:post_target_period]]\n",
    "\n",
    "mypars[:opto_periods] = [\n",
    "    \"trial_start\"     \"trial_start\"  ;\n",
    "    \"trial_start\"     \"trial_end\"    ; \n",
    "    \"trial_start\"     \"target_start/2\"  ;\n",
    "    \"target_start/2\"  \"target_start\"  ;\n",
    "    \"target_start\"    \"target_end\"\n",
    "];\n"
   ]
  },
  {
   "cell_type": "code",
   "execution_count": null,
   "metadata": {
    "collapsed": false
   },
   "outputs": [],
   "source": [
    "#@include_me  scaling_up_dt.jl\n",
    "\n",
    "# And run with these params.  \n",
    "\n",
    "# We run 1000 trials of Pro and ANti each, just to get a good estimate of probability correct in each condition\n",
    "\n",
    "mypars[:seedrand] = Int64(round(time()*1000))\n",
    "\n",
    "ntrials = 1000\n",
    "\n",
    "cost, cost1s, cost2s, hP, hA, dP, dA, hBP, hBA, proValls, antiValls, opto_fraction, pro_input, anti_input = \n",
    "JJ(ntrials, ntrials; verbose=true, model_details=true, mypars...);\n",
    "\n",
    "@printf(\"\\n\\n--- The hand-modified run at dt=0.024 at 4x fewer timesteps than the original:\\n\\n\")\n",
    "\n",
    "\n",
    "sleep(0.5)  # A pause just to make sure everything has printed out \n",
    "display([titles; epochs hP hA dP dA hBP hBA])\n"
   ]
  },
  {
   "cell_type": "code",
   "execution_count": null,
   "metadata": {
    "collapsed": false
   },
   "outputs": [],
   "source": [
    "#@include_me  scaling_up_dt.jl\n",
    "\n",
    "# Finally, display some trajectories:\n",
    "\n",
    "pygui(true)\n",
    "\n",
    "# This example is with opto during the delay\n",
    "\n",
    "mypars = merge(mypars, Dict(\n",
    "# :opto_times => [\"target_start/2\"    \"target_start\"],\n",
    ":opto_times => [0    0],\n",
    ":sigma=>0.01\n",
    "))\n",
    "\n",
    "\n",
    "proVs, antiVs, pro_fullV, anti_fullV, opto_fraction, pro_input, anti_input = run_ntrials(1000, 1000; \n",
    "    plot_list=[1:40;], profig=1, antifig=2, opto_units = 1:4, mypars...);\n",
    "\n",
    "Np = size(proVs,2); Na = size(antiVs,2)\n",
    "@printf(\"hBP = %g, hBA = %g\\n\", length(find(proVs[1,:] .>= proVs[4,:]))/Np, length(find(antiVs[4,:] .> antiVs[1,:]))/Na)\n",
    "\n",
    "@printf(\"\\n\\n\\n---\\n\\nmypars contains all the parameters for the new run with the scaled up dt, tau, etc.\\n\\n\")\n"
   ]
  },
  {
   "cell_type": "code",
   "execution_count": null,
   "metadata": {
    "collapsed": false
   },
   "outputs": [],
   "source": [
    "mypars[:dt]"
   ]
  },
  {
   "cell_type": "code",
   "execution_count": null,
   "metadata": {
    "collapsed": false
   },
   "outputs": [],
   "source": [
    "# Print out mypars in full\n",
    "@printf(\"\\n\\nmypars = Dict(\\n\")\n",
    "for (k,v) in mypars\n",
    "    @printf(\":%s => \", k); print(v); print(\",\\n\")\n",
    "end\n",
    "@printf(\")\\n\\n\")"
   ]
  },
  {
   "cell_type": "markdown",
   "metadata": {},
   "source": [
    "# Make a set of reduced nsteps params and run with them"
   ]
  },
  {
   "cell_type": "code",
   "execution_count": null,
   "metadata": {
    "collapsed": false
   },
   "outputs": [],
   "source": [
    "\n",
    "mypars = Dict(\n",
    ":init_add               =>          0,\n",
    ":const_add              =>          0,\n",
    ":noise                  =>          Any[],\n",
    ":input                  =>          0,\n",
    ":seedrand               =>          1510340076445,\n",
    ":start_anti             =>          [-0.5, -0.5, -0.5, -0.5],\n",
    ":start_pro              =>          [-0.5, -0.5, -0.5, -0.5],\n",
    ":rule_and_delay_period  =>          1.2,\n",
    ":rule_and_delay_periods =>          [1.2],\n",
    ":target_period          =>          0.3,\n",
    ":target_periods         =>          [0.3],\n",
    ":post_target_period     =>          0.3,\n",
    ":post_target_periods    =>          [0.3],\n",
    ":anti_rule_strength     =>          0.054,\n",
    ":U_rest                 =>          0,\n",
    ":theta                  =>          0.05,\n",
    ":beta                   =>          0.5,\n",
    ":g_leak                 =>          1,\n",
    ":nsteps                 =>          301,\n",
    ":dt                     =>          0.024,\n",
    ":tau                    =>          0.09,\n",
    ":right_light_excitation =>          0.49924152955481954,\n",
    ":opto_strength          =>          0.85,\n",
    ":opto_periods           =>          String[\n",
    "                                    \"trial_start\" \"trial_start\"; \n",
    "                                    \"trial_start\" \"trial_end\"; \n",
    "                                    \"trial_start\" \"target_start/2\"; \n",
    "                                    \"target_start/2\" \"target_start\"; \n",
    "                                    \"target_start\" \"target_end\"],\n",
    ":opto_targets          =>           [\n",
    "                                    0.9 0.7; \n",
    "                                    0.9 0.5; \n",
    "                                    0.9 0.7; \n",
    "                                    0.9 0.5; \n",
    "                                    0.9 0.7],\n",
    ":theta2 => 0.15,\n",
    ":theta1 => 0.05,\n",
    ":sigma => 0.01,\n",
    ":cbeta => 0.04,\n",
    ":sW => 0.6416875048295452,\n",
    ":hW => 0.054701836208134846,\n",
    ":dW => 0.1267124266934907,\n",
    ":vW => -1.588850577499782,\n",
    ":constant_excitation => -0.37242520737694207,\n",
    ":const_pro_bias => 0.04366897857834884,\n",
    ":target_period_excitation => 0.15315254453690974,\n",
    ":right_light_pro_extra => 0,\n",
    ":pro_rule_strength => 0.05,\n",
    ":nPro => 100,\n",
    ":nAnti => 100,\n",
    ")\n"
   ]
  },
  {
   "cell_type": "code",
   "execution_count": null,
   "metadata": {
    "collapsed": false
   },
   "outputs": [],
   "source": [
    "\n",
    "extra_pars = Dict(\n",
    ":plot_list        =>   [1:5;], \n",
    ":plot_conditions  =>   true,\n",
    ":verbose          =>   true,\n",
    ":opto_periods     =>   String[\"trial_start\" \"trial_start\"],\n",
    ":opto_targets     =>   [0.9,  0.7],\n",
    ":opto_times       =>   [\"trial_start\", \"trial_start\"],       # This one is for run_ntrials\n",
    ":seedrand         =>   Int64(round(time()*1000)),\n",
    ")\n",
    "\n",
    "\n",
    "# proVs, antiVs, pro_fullV, anti_fullV, opto_fraction, pro_input, anti_input = run_ntrials(1000, 1000; \n",
    "#    merge(mypars, extra_pars)...);\n",
    "\n",
    "\n",
    "JJ(mypars[:nPro], mypars[:nAnti]; merge(mypars, extra_pars)...)[1]\n"
   ]
  },
  {
   "cell_type": "code",
   "execution_count": null,
   "metadata": {
    "collapsed": false
   },
   "outputs": [],
   "source": [
    "extra_pars[:search_range] = 0.4\n",
    "extra_pars"
   ]
  },
  {
   "cell_type": "markdown",
   "metadata": {},
   "source": [
    "# Try a search : reduced_farm.jl\n",
    "\n",
    "`Temp/answers.jld`   contains the result of taking the result of scaling_up_dt.jl, and then optimizing it on control alone, with Pro target=0.9, Anti target = 0.7.  It optimizes very very well."
   ]
  },
  {
   "cell_type": "code",
   "execution_count": null,
   "metadata": {
    "collapsed": false
   },
   "outputs": [],
   "source": [
    "#@include_me reduced_farm.jl\n",
    "\n",
    "include(\"pro_anti.jl\")\n",
    "\n"
   ]
  },
  {
   "cell_type": "code",
   "execution_count": null,
   "metadata": {
    "collapsed": false
   },
   "outputs": [],
   "source": []
  },
  {
   "cell_type": "code",
   "execution_count": null,
   "metadata": {
    "collapsed": false
   },
   "outputs": [],
   "source": [
    "@load(\"FarmFields/farm_C3_0027.jld\")"
   ]
  },
  {
   "cell_type": "code",
   "execution_count": null,
   "metadata": {
    "collapsed": false
   },
   "outputs": [],
   "source": [
    "[args pars]"
   ]
  },
  {
   "cell_type": "code",
   "execution_count": null,
   "metadata": {
    "collapsed": false
   },
   "outputs": [],
   "source": [
    "mypars[:tau]"
   ]
  },
  {
   "cell_type": "code",
   "execution_count": null,
   "metadata": {
    "collapsed": false
   },
   "outputs": [],
   "source": [
    "#@include_me reduced_farm.jl\n",
    "\n",
    "\n",
    "mypars = Dict(\n",
    ":init_add               =>          0,\n",
    ":const_add              =>          0,\n",
    ":noise                  =>          Any[],\n",
    ":input                  =>          0,\n",
    ":start_anti             =>          [-0.5, -0.5, -0.5, -0.5],\n",
    ":start_pro              =>          [-0.5, -0.5, -0.5, -0.5],\n",
    ":rule_and_delay_period  =>          1.2,\n",
    ":rule_and_delay_periods =>          [1.2],\n",
    ":target_period          =>          0.3,\n",
    ":target_periods         =>          [0.3],\n",
    ":post_target_period     =>          0.3,\n",
    ":post_target_periods    =>          [0.3],\n",
    ":anti_rule_strength     =>          0.054,\n",
    ":U_rest                 =>          0,\n",
    ":theta                  =>          0.05,\n",
    ":beta                   =>          0.5,\n",
    ":g_leak                 =>          1,\n",
    ":nsteps                 =>          301,\n",
    ":dt                     =>          0.024,\n",
    ":tau                    =>          0.09,\n",
    ":right_light_excitation =>          0.49924152955481954,\n",
    ":opto_strength          =>          0.85,\n",
    ":opto_periods           =>          String[\n",
    "                                    \"trial_start\" \"trial_start\"; \n",
    "                                    \"trial_start\" \"trial_end\"; \n",
    "                                    \"trial_start\" \"target_start/2\"; \n",
    "                                    \"target_start/2\" \"target_start\"; \n",
    "                                    \"target_start\" \"target_end\"],\n",
    ":opto_targets          =>           [\n",
    "                                    0.9 0.7; \n",
    "                                    0.9 0.5; \n",
    "                                    0.9 0.7; \n",
    "                                    0.9 0.5; \n",
    "                                    0.9 0.7],\n",
    ":theta2 => 0.15,\n",
    ":theta1 => 0.05,\n",
    ":sigma => 0.01,\n",
    ":cbeta => 0.04,\n",
    ":sW => 0.6416875048295452,\n",
    ":hW => 0.054701836208134846,\n",
    ":dW => 0.1267124266934907,\n",
    ":vW => -1.588850577499782,\n",
    ":constant_excitation => -0.37242520737694207,\n",
    ":const_pro_bias => 0.04366897857834884,\n",
    ":target_period_excitation => 0.15315254453690974,\n",
    ":right_light_pro_extra => 0,\n",
    ":pro_rule_strength => 0.05,\n",
    ":nPro => 100,\n",
    ":nAnti => 100,\n",
    ")\n"
   ]
  },
  {
   "cell_type": "code",
   "execution_count": null,
   "metadata": {
    "collapsed": false
   },
   "outputs": [],
   "source": [
    "#@include_me  reduced_farm.jl\n",
    "\n",
    "\n",
    "extra_pars = Dict(\n",
    ":plot_list        =>   [], \n",
    ":plot_conditions  =>   true,\n",
    ":verbose          =>   true,\n",
    ":opto_periods     =>   String[\"trial_start\" \"trial_start-0.1\"],\n",
    ":opto_targets     =>   [0.9,  0.7],\n",
    ":opto_times       =>   [\"trial_start\", \"trial_start-0.1\"],       # This one is for run_ntrials\n",
    ":cbeta            =>   0.001,\n",
    ":search_range     =>   1.2,\n",
    ")\n",
    "\n",
    "\n",
    "search_conditions = Dict(   # :param    default_start   search_box  bound_box\n",
    ":vW     =>                   [mypars[:vW],                       [-0.5, 0.5],  [-3,   3]], \n",
    ":hW     =>                   [mypars[:hW],                       [-0.5, 0.5],  [-3,   3]],\n",
    ":dW     =>                   [mypars[:dW],                       [-0.5, 0.5],  [-3,   3]],\n",
    ":sW     =>                   [mypars[:sW],                       [0,    0.5],  [0,    3]],\n",
    ":sigma  =>                   [0.11,                              [0.1,  0.2],  [0.1, 0.4]],\n",
    ":constant_excitation      => [mypars[:constant_excitation],      [-1,     1],  [-2,   2]], \n",
    ":target_period_excitation => [mypars[:target_period_excitation], [0.001,0.5],  [0     4]],\n",
    ":right_light_excitation   => [mypars[:right_light_excitation],   [0.05, 0.5],  [0.05, 4]],\n",
    ":const_pro_bias           => [mypars[:const_pro_bias],           [-0.5, 0.5],  [-2,   2]],\n",
    "# :opto_strength            => [mypars[:opto_strength],            [0.7, 0.99],  [0,    1]],\n",
    ")\n",
    "\n",
    "\n"
   ]
  },
  {
   "cell_type": "markdown",
   "metadata": {},
   "source": [
    "### Loop for reduced_farm.jl"
   ]
  },
  {
   "cell_type": "code",
   "execution_count": null,
   "metadata": {
    "collapsed": false
   },
   "outputs": [],
   "source": [
    "#@include_me  reduced_farm.jl\n",
    "\n",
    "extra_pars[:seedrand] = Int64(round(time()*1000))\n",
    "srand(extra_pars[:seedrand])\n",
    "\n",
    "@printf(\"\\n\\n\\nStarting with random seed %d\\n\\n\\n\", extra_pars[:seedrand])\n",
    "\n",
    "search_range = extra_pars[:search_range]; \n",
    "\n",
    "fbasename = \"FarmFields/farm_C5_\"\n",
    "\n",
    "while true\n",
    "    args = []; seed = []; bbox = Dict()\n",
    "    for k in keys(search_conditions)\n",
    "        search_box = search_conditions[k][2]\n",
    "        args = [args; String(k)]\n",
    "        myseed = search_conditions[k][1] + search_range*(rand()-0.5)*diff(search_box); myseed = myseed[1]\n",
    "        if myseed > search_box[2]; myseed = search_box[2]; end\n",
    "        if myseed < search_box[1]; myseed = search_box[1]; end\n",
    "        seed = [seed ;  myseed]\n",
    "        # seed = [seed ; search_conditions[k][1]]\n",
    "        bbox = merge(bbox, Dict(k => Array{Float64}(search_conditions[k][3])))\n",
    "    end\n",
    "    args = Array{String}(args)\n",
    "    seed = Array{Float64}(seed)\n",
    "\n",
    "\n",
    "    # Make sure to keep the noise frozen over the search, meaning JJ() needs the seedrand parameter\n",
    "    func =  (;params...) -> JJ(mypars[:nPro], mypars[:nAnti]; verbose=true, \n",
    "        merge(merge(mypars, extra_pars), Dict(params))...)[1]\n",
    "\n",
    "    try\n",
    "        pars, traj, cost, cpm_traj, ftraj = bbox_Hessian_keyword_minimization(seed, args, bbox, func, \n",
    "            start_eta = 0.1, tol=1e-12, \n",
    "            verbose=true, verbose_every=1, maxiter=1000)\n",
    "\n",
    "\n",
    "        cost, cost1s, cost2s, hP, hA, dP, dA, hBP, hBA = JJ(1000, 1000; verbose=false, \n",
    "        make_dict(args, pars, merge(merge(mypars, extra_pars)))...)\n",
    "\n",
    "        myfilename = next_file(fbasename, 4)\n",
    "        myfilename = myfilename*\".jld\"\n",
    "        # write file\n",
    "        save(myfilename, Dict(\"nPro\"=>mypars[:nPro], \"nAnti\"=>mypars[:nAnti], \n",
    "        \"mypars\"=>mypars, \"extra_pars\"=>extra_pars, \"args\"=>args, \"seed\"=>seed, \"bbox\"=>bbox, \n",
    "        \"pars\"=>pars, \"traj\"=>traj, \"cost\"=>cost, \"cpm_traj\"=>cpm_traj, \"ftraj\"=>ftraj,\n",
    "        \"hP\"=>hP, \"hA\"=>hA, \"dP\"=>dP, \"dA\"=>dA, \"hBP\"=>hBP, \"hBA\"=>hBA))\n",
    "    catch y\n",
    "        if isa(y, InterruptException); throw(InterruptException()); end\n",
    "        @printf(\"\\n\\nWhoopsety, unkown error!\\n\\n\");\n",
    "        @printf(\"Error was :\\n\"); print(y); @printf(\"\\n\\nTrying new random seed.\\n\\n\")\n",
    "    end\n",
    "\n",
    "    # Change the frozen noise random seed so we don't get stuck in one loop    \n",
    "    extra_pars[:seedrand] = extra_pars[:seedrand]+1\n",
    "end"
   ]
  },
  {
   "cell_type": "code",
   "execution_count": null,
   "metadata": {
    "collapsed": false
   },
   "outputs": [],
   "source": []
  },
  {
   "cell_type": "code",
   "execution_count": null,
   "metadata": {
    "collapsed": false
   },
   "outputs": [],
   "source": [
    "effective_search_box = Dict()\n",
    "for k in keys(search_conditions)\n",
    "    search_box = search_conditions[k][2]\n",
    "    ebox = zeros(1,2)\n",
    "    ebox[1] = search_conditions[k][1] - 0.5*diff(search_box)[1]\n",
    "    ebox[2] = search_conditions[k][1] + 0.5*diff(search_box)[1]\n",
    "    effective_search_box[k] = ebox\n",
    "end\n",
    "\n",
    "effective_search_box"
   ]
  },
  {
   "cell_type": "code",
   "execution_count": null,
   "metadata": {
    "collapsed": true
   },
   "outputs": [],
   "source": []
  },
  {
   "cell_type": "code",
   "execution_count": null,
   "metadata": {
    "collapsed": false
   },
   "outputs": [],
   "source": []
  },
  {
   "cell_type": "markdown",
   "metadata": {
    "collapsed": false
   },
   "source": [
    "# Analyze a Marino goodfarm:"
   ]
  },
  {
   "cell_type": "code",
   "execution_count": null,
   "metadata": {
    "collapsed": false
   },
   "outputs": [],
   "source": [
    "include(\"pro_anti.jl\")"
   ]
  },
  {
   "cell_type": "code",
   "execution_count": null,
   "metadata": {
    "collapsed": false
   },
   "outputs": [],
   "source": [
    "hBP, hBA, d = show_run(\"farm_LA0001.mat\", 100; farmdir=\"goodfarms\", opto_times=[\"target_start-0.2\", \"target_start\"], \n",
    "const_pro_bias = 0.0, opto_strength = 0)"
   ]
  },
  {
   "cell_type": "code",
   "execution_count": null,
   "metadata": {
    "collapsed": false
   },
   "outputs": [],
   "source": [
    "model_params = symbol_key_ize(d[\"model_params\"])\n",
    "[d[\"args\"] d[\"pars\"]]"
   ]
  },
  {
   "cell_type": "code",
   "execution_count": null,
   "metadata": {
    "collapsed": true
   },
   "outputs": [],
   "source": [
    "show_run(\"farm_LD0053.mat\", 100; farmdir=\"goodfarms\", opto_times=[\"target_start-2\", \"target_end-2\"],\n",
    "    const_pro_bias=0.04745, rule_and_delay_period=0.4, right_light_excitation=0.4)\n"
   ]
  },
  {
   "cell_type": "code",
   "execution_count": null,
   "metadata": {
    "collapsed": false
   },
   "outputs": [],
   "source": [
    "model_params, F, nPro, nAnti = load_run(\"farm_LD0053.mat\"; farmdir=\"goodfarms\")"
   ]
  },
  {
   "cell_type": "code",
   "execution_count": null,
   "metadata": {
    "collapsed": false
   },
   "outputs": [],
   "source": [
    "[F[\"args\"] F[\"pars\"]]"
   ]
  },
  {
   "cell_type": "code",
   "execution_count": null,
   "metadata": {
    "collapsed": false
   },
   "outputs": [],
   "source": [
    "model_params[:opto_periods] = [\n",
    "    \"trial_start-0.1\"   \"trial_start-0.1\"; \n",
    "    \"trial_start\"       \"trial_end\" ; \n",
    "    \"trial_start\"       \"trial_start+0.2\" ; \n",
    "    \"target_start-0.2\"  \"target_start\"  ;\n",
    "    \"target_start\"      \"trial_end\"\n",
    "]\n",
    "\n",
    "model_params[:opto_targets]\n",
    "\n"
   ]
  },
  {
   "cell_type": "code",
   "execution_count": null,
   "metadata": {
    "collapsed": false
   },
   "outputs": [],
   "source": [
    "pygui(true)\n",
    "cost, cost1s, cost2s, hP, hA, dP, dA, hBP, hBA, proValls, antiValls = JJ(100, 100; plot_list=[1:10;], \n",
    "    plot_conditions=[false, false, false, true, false], verbose=true, model_details=true, model_params...);"
   ]
  },
  {
   "cell_type": "code",
   "execution_count": null,
   "metadata": {
    "collapsed": false
   },
   "outputs": [],
   "source": [
    "include(\"farm_plotting_carlos.jl\")"
   ]
  },
  {
   "cell_type": "code",
   "execution_count": null,
   "metadata": {
    "collapsed": false
   },
   "outputs": [],
   "source": []
  },
  {
   "cell_type": "code",
   "execution_count": null,
   "metadata": {
    "collapsed": false
   },
   "outputs": [],
   "source": [
    "show_run(\"farm_C3_0002.jld\")\n"
   ]
  },
  {
   "cell_type": "code",
   "execution_count": null,
   "metadata": {
    "collapsed": false
   },
   "outputs": [],
   "source": [
    "figure(1); subplot(3,1,1); title(@sprintf(\"%s: binarized Pro  hits = %.1f %%\\n\", run_name, 97.3))\n"
   ]
  },
  {
   "cell_type": "code",
   "execution_count": null,
   "metadata": {
    "collapsed": true
   },
   "outputs": [],
   "source": [
    "# @save \"Temp/answers.jld\" \n",
    "# @load \"Temp/answers.jld\""
   ]
  },
  {
   "cell_type": "code",
   "execution_count": null,
   "metadata": {
    "collapsed": false
   },
   "outputs": [],
   "source": [
    "@load \"Temp/answers3.jld\""
   ]
  },
  {
   "cell_type": "code",
   "execution_count": null,
   "metadata": {
    "collapsed": false
   },
   "outputs": [],
   "source": [
    "[args pars seed]"
   ]
  },
  {
   "cell_type": "code",
   "execution_count": null,
   "metadata": {
    "collapsed": false
   },
   "outputs": [],
   "source": [
    "pygui(true)\n",
    "figure(1); clf();\n",
    "\n",
    "delete!(extra_pars, :plot_list)\n",
    "delete!(extra_pars, :seedrand)\n",
    "\n",
    "more_pars = Dict(\n",
    "# :post_target_period => 0.25,\n",
    ":rule_and_delay_period => 2,\n",
    ")\n",
    "proVs, antiVs = run_ntrials(1000, 1000; plot_list=[1:10;], make_dict(args, pars, merge(merge(mypars, extra_pars), more_pars))...)[1:2]\n",
    "\n",
    "@printf(\"Binarized Pro hits = %.1f %%\\n\", 100*length(find(proVs[1,:] .> proVs[4,:]))/size(proVs,2))\n",
    "@printf(\"Binarized Anti hits = %.1f %%\\n\", 100*length(find(antiVs[4,:] .> antiVs[1,:]))/size(antiVs,2))"
   ]
  },
  {
   "cell_type": "code",
   "execution_count": null,
   "metadata": {
    "collapsed": false
   },
   "outputs": [],
   "source": []
  },
  {
   "cell_type": "code",
   "execution_count": null,
   "metadata": {
    "collapsed": false
   },
   "outputs": [],
   "source": [
    "search_conditions"
   ]
  },
  {
   "cell_type": "code",
   "execution_count": null,
   "metadata": {
    "collapsed": false
   },
   "outputs": [],
   "source": [
    "include(\"pro_anti.jl\")"
   ]
  },
  {
   "cell_type": "code",
   "execution_count": null,
   "metadata": {
    "collapsed": false
   },
   "outputs": [],
   "source": [
    "bbox[:dW]"
   ]
  },
  {
   "cell_type": "code",
   "execution_count": null,
   "metadata": {
    "collapsed": false
   },
   "outputs": [],
   "source": [
    "[1, [2,3], 4]\n"
   ]
  },
  {
   "cell_type": "code",
   "execution_count": null,
   "metadata": {
    "collapsed": false
   },
   "outputs": [],
   "source": []
  },
  {
   "cell_type": "code",
   "execution_count": null,
   "metadata": {
    "collapsed": false
   },
   "outputs": [],
   "source": [
    "#  size(proValls)  (4, 301, 100, 5)\n",
    "\n",
    "figure(3); clf(); N=40\n",
    "\n",
    "t = 0:size(proValls, 2)-1; t = model_params[:dt]*t\n",
    "\n",
    "figure(3); clf();\n",
    "for i=1:N \n",
    "    plot_PA(t, 0, proValls[:,:,i,1], fignum=3, plot_Us=false,\n",
    "    rule_and_delay_period=model_params[:rule_and_delay_period], target_period=model_params[:target_period],\n",
    "    post_target_period = model_params[:post_target_period])\n",
    "end\n",
    "\n",
    "figure(4); clf();\n",
    "for i=1:N \n",
    "    plot_PA(t, 0, antiValls[:,:,i,1], fignum=4, plot_Us=false,\n",
    "    rule_and_delay_period=model_params[:rule_and_delay_period], target_period=model_params[:target_period],\n",
    "    post_target_period = model_params[:post_target_period])\n",
    "end\n"
   ]
  },
  {
   "cell_type": "code",
   "execution_count": null,
   "metadata": {
    "collapsed": false
   },
   "outputs": [],
   "source": [
    "print(model_params)"
   ]
  },
  {
   "cell_type": "code",
   "execution_count": null,
   "metadata": {
    "collapsed": false
   },
   "outputs": [],
   "source": []
  },
  {
   "cell_type": "code",
   "execution_count": null,
   "metadata": {
    "collapsed": false
   },
   "outputs": [],
   "source": []
  },
  {
   "cell_type": "code",
   "execution_count": null,
   "metadata": {
    "collapsed": false
   },
   "outputs": [],
   "source": [
    "# Define core model parameters\n",
    "model_params = Dict(\n",
    ":dt     =>  0.002, \n",
    ":tau    =>  0.02, \n",
    ":vW     =>  -1.58,\n",
    ":hW     =>  -0.05,\n",
    ":sW     =>  0,\n",
    ":dW     =>  0,\n",
    ":nsteps =>  301, \n",
    ":noise  =>  [], \n",
    ":sigma  =>  0.08, \n",
    ":input  =>  0, \n",
    ":g_leak =>  1, \n",
    ":U_rest =>  0,\n",
    ":theta  =>  0.05, \n",
    ":beta   =>  0.5, \n",
    ":constant_excitation      => 0, \n",
    ":anti_rule_strength       => 0.05,\n",
    ":pro_rule_strength        => 0.05, \n",
    ":target_period_excitation => 0,\n",
    ":right_light_excitation   => 0.6, \n",
    ":right_light_pro_extra    => 0,\n",
    ":const_add                => 0, \n",
    ":init_add                 => 0, \n",
    ":rule_and_delay_period    => 0.2,\n",
    ":target_period            => 0.1,\n",
    ":post_target_period       => 0.1,\n",
    ":const_pro_bias           => 0.0427,\n",
    ":nPro                     => 100,\n",
    ":nAnti                    => 100,\n",
    ":theta1                   => 0.05,\n",
    ":theta2                   => 0.15,\n",
    ":opto_strength  => .9,\n",
    ":opto_periods   => [\n",
    "    0               0 ; \n",
    "    0              \"trial_end\" ;\n",
    "    \"target_start/2\"  \"target_start\";\n",
    "    \"target_start\"    \"target_end\"],  \n",
    "# set of opto conditions, in seconds, with 0 the start \n",
    "# of the trial (i.e. start of rule_and_delay_period), anything before 0 or after end of trial gets ignored.\n",
    "#:opto_targets   => [.75 .73;.77 .58;.75 .74;.72 .66;.73 .75] \n",
    ":opto_targets => [\n",
    "    .9      .7; \n",
    "    .9      .5; \n",
    "    .9      .55; \n",
    "    .9      .7;\n",
    "    ],  # first column is frachit Pro, next column is Anti, rows are conditions\n",
    "# The \"conditions\" correspond to the rows of opto_periods.\n",
    ");\n",
    "\n",
    "\n",
    "# ======= ARGUMENTS AND SEED VALUES:\n",
    "args = [\"sW\", \"vW\", \"hW\", \"dW\", \"constant_excitation\", \"right_light_excitation\", \"target_period_excitation\"]\n",
    "seed = [0.001,  -1.58,   -0.05,  0.001,    0.001,                0.6,                       0.001]   \n",
    "args = [args ; [\"const_pro_bias\", \"sigma\",\"opto_strength\", \"pro_rule_strength\", \"anti_rule_strength\"]];\n",
    "seed = [seed ; [  0.0427,            .05,      .9,              0.05,                0.05]];\n",
    "\n",
    "# ======= BOUNDING BOX:\n",
    "bbox = Dict(:sW=>[0 3], :vW=>[-3 3], :hW=>[-3 3], :dW=>[-3 3], :constant_excitation=>[-2 2],\n",
    ":right_light_excitation=>[0.05 4], :target_period_excitation=>[0 4], :const_pro_bias=>[-2 2],\n",
    ":sigma=>[0.01 0.2],:opto_strength=>[0 1]);\n",
    "\n",
    "# ======== SEARCH ZONE:\n",
    "sbox = Dict(:sW=>[0 .5], :vW=>[-.5 .5], :hW=>[-.5 .5], :dW=>[-.5 .5],\n",
    ":constant_excitation=>[-.5 .5], :right_light_excitation=>[0.05 .5], :target_period_excitation=>[0.001 .5],:const_pro_bias=>[-.5 .5], :sigma=>[0.02 0.19],:opto_strength=>[.7 .99]);\n",
    "\n",
    "# define a few hyper parameters\n",
    "cbetas = [0.04];\n",
    "rule_and_delay_periods = [0.2];\n",
    "post_target_periods    = [0.1];\n",
    "num_eval_runs           = 100;\n",
    "num_optimize_iter       = 2000;\n",
    "num_optimize_restarts   = 1;\n",
    "\n",
    "\n",
    "cb = 0.04\n",
    "\n",
    "# figure out initial seed for random number generator\n",
    "sr = convert(Int64, round(time()))\n",
    "srand(sr);\n",
    "\n",
    "mypars = merge(model_params, Dict(:opto_times => [\"target_start\", \"target_end\"], :rule_and_delay_period=>0.2,\n",
    ":anti_rule_strength=>0.06))\n",
    "# mypars = merge(model_params, Dict(:opto_times => [0 0], :rule_and_delay_period=>0.1,\n",
    "# :anti_rule_strength=>0.06))\n",
    "pygui(true)\n",
    "proVs, antiVs, pro_fullV, anti_fullV, opto_fraction, pro_input, anti_input = run_ntrials(15, 15; \n",
    "plot_list=[1:15;], profig=1, antifig=2, opto_units = 1:4, mypars...)\n",
    "\n",
    "# define opto function with just value output\n",
    "func =  (;params...) -> JJ(model_params[:nPro], model_params[:nAnti]; \n",
    "    rule_and_delay_periods=rule_and_delay_periods, theta1=model_params[:theta1], theta2=model_params[:theta2], \n",
    "    post_target_periods=post_target_periods, seedrand=sr, cbeta=cb, verbose=true, \n",
    "    merge(mypars, Dict(params))...)[1]\n",
    "\n",
    "\n",
    "# cost, cost1s, cost2s, hP, hA, dP, dA, hBP, hBA = JJ(model_params[:nPro], model_params[:nAnti]; \n",
    "#     rule_and_delay_periods=rule_and_delay_periods, theta1=model_params[:theta1], theta2=model_params[:theta2], \n",
    "#     post_target_periods=post_target_periods, seedrand=sr, cbeta=cb, verbose=true, model_params...)\n",
    "    "
   ]
  },
  {
   "cell_type": "code",
   "execution_count": null,
   "metadata": {
    "collapsed": false
   },
   "outputs": [],
   "source": [
    "@printf(\"Going with seed = \"); print_vector_g(seed); print(\"\\n\")\n",
    "pars, traj, cost, cpm_traj, ftraj = bbox_Hessian_keyword_minimization(seed, args, bbox, func, \n",
    "    start_eta = 1, tol=1e-12, verbose=true, verbose_every=1, maxiter=num_optimize_iter)\n",
    "@printf(\"Came out with cost %g and pars = \", cost); print_vector_g(pars); print(\"\\n\\n\")\n"
   ]
  },
  {
   "cell_type": "code",
   "execution_count": null,
   "metadata": {
    "collapsed": true
   },
   "outputs": [],
   "source": []
  },
  {
   "cell_type": "code",
   "execution_count": null,
   "metadata": {
    "collapsed": true
   },
   "outputs": [],
   "source": []
  },
  {
   "cell_type": "code",
   "execution_count": null,
   "metadata": {
    "collapsed": true
   },
   "outputs": [],
   "source": []
  },
  {
   "cell_type": "code",
   "execution_count": null,
   "metadata": {
    "collapsed": true
   },
   "outputs": [],
   "source": [
    "# run optimization with all parameters\n",
    "@printf(\"Going with seed = \"); print_vector_g(seed); print(\"\\n\")\n",
    "pars, traj, cost, cpm_traj, ftraj = bbox_Hessian_keyword_minimization(seed, args, bbox, func, \n",
    "    start_eta = 1, tol=1e-12, verbose=true, verbose_every=1, maxiter=num_optimize_iter)\n",
    "@printf(\"Came out with cost %g and pars = \", cost); print_vector_g(pars); print(\"\\n\\n\")\n",
    "\n",
    "    # get gradient and hessian at end of optimization \n",
    "    value, grad, hess = keyword_vgh(func, args, pars)\n",
    "\n",
    "    # define function with all outputs, evaluate on training noise\n",
    "    t_standard_func =  (;params...) -> JJ_opto(model_params[:nPro], model_params[:nAnti]; rule_and_delay_periods=rule_and_delay_periods, theta1=model_params[:theta1], theta2=model_params[:theta2], post_target_periods=post_target_periods, seedrand=sr, cbeta=cb, verbose=false, merge(model_params, Dict(params))...)\n",
    "\n",
    "    # run opto model with all outputs, evaluate on training noise\n",
    "    t_opto_scost, t_opto_scost1, t_opto_scost2, t_opto_hitsP,t_opto_hitsA, t_opto_diffsP, t_opto_diffsA, t_opto_bP, t_opto_bA = t_standard_func(;make_dict(args, pars, model_params)...)\n",
    "    \n",
    "   ## evaluate for long form info\n",
    "    # reset random number generator for testing purposes\n",
    "    test_sr = convert(Int64, round(time()))\n",
    "    srand(test_sr); \n",
    "\n",
    "    # define function with all outputs, evaluate on test noise\n",
    "    standard_func =  (;params...) -> JJ_opto(num_eval_runs, num_eval_runs; rule_and_delay_periods=rule_and_delay_periods, theta1=model_params[:theta1], theta2=model_params[:theta2], post_target_periods=post_target_periods, seedrand=test_sr, cbeta=cb, verbose=false, merge(model_params, Dict(params))...)\n",
    "\n",
    "    # run opto model with all outputs, evaluate on test noise\n",
    "    opto_scost, opto_scost1, opto_scost2, opto_hitsP,opto_hitsA, opto_diffsP, opto_diffsA, opto_bP, opto_bA = standard_func(;make_dict(args, pars, model_params)...)\n",
    "\n",
    "    # define non-opto model with all outputs, to check opto model, evaluate on test noise\n",
    "    standard_func =  (;params...) -> JJ(num_eval_runs, num_eval_runs; rule_and_delay_periods=rule_and_delay_periods, theta1=model_params[:theta1], theta2=model_params[:theta2], post_target_periods=post_target_periods, seedrand=test_sr, cbeta=cb, verbose=false, merge(model_params, Dict(params))...)\n",
    "\n",
    "    # run non-opto model with all outputs, evaluate on test noise\n",
    "    scost, scost1, scost2, hitsP,hitsA, diffsP, diffsA = standard_func(;make_dict(args, pars, model_params)...)\n",
    " \n",
    "   ## Save this run out to a file\n",
    "    # get filename\n",
    "    myfilename = next_file(fbasename, 4)\n",
    "    myfilename = myfilename*\".mat\"\n",
    "    # write file\n",
    "    matwrite(myfilename, Dict(\"args\"=>args, \"myseed\"=>myseed, \"dista\"=>dista, \"pars\"=>pars, \"traj\"=>traj, \"cost\"=>cost, \"cpm_traj\"=>cpm_traj, \"nPro\"=>model_params[:nPro], \"nAnti\"=>model_params[:nAnti], \"sr\"=>sr, \"cb\"=>cb, \"theta1\"=>model_params[:theta1], \"theta2\"=>model_params[:theta2],\"value\"=>value,\"grad\"=>grad, \"hess\"=>hess, \"scost\"=>scost, \"scost1\"=>scost1, \"scost2\"=>scost2, \"hitsP\"=>hitsP,\"hitsA\"=>hitsA, \"diffsP\"=>diffsP, \"diffsA\"=>diffsA, \"model_params\"=>ascii_key_ize(model_params), \"bbox\"=>ascii_key_ize(bbox), \"sbox\"=>ascii_key_ize(sbox), \"rule_and_delay_periods\"=>rule_and_delay_periods, \"post_target_periods\"=>post_target_periods, \"opto_scost\"=>opto_scost, \"opto_scost1\"=>opto_scost1, \"opto_scost2\"=>opto_scost2, \"opto_hitsP\"=>opto_hitsP, \"opto_hitsA\"=>opto_hitsA, \"opto_diffsP\"=>opto_diffsP, \"opto_diffsA\"=>opto_diffsA,\"test_sr\"=>test_sr,\"opto_bP\"=>opto_bP, \"opto_bA\"=>opto_bA, \"t_opto_scost\"=>t_opto_scost, \"t_opto_scost1\"=>t_opto_scost1, \"t_opto_scost2\"=>t_opto_scost2, \"t_opto_hitsP\"=>t_opto_hitsP, \"t_opto_hitsA\"=>t_opto_hitsA, \"t_opto_diffsP\"=>t_opto_diffsP, \"t_opto_diffsA\"=>t_opto_diffsA,\"t_opto_bP\"=>t_opto_bP, \"t_opto_bA\"=>t_opto_bA  ))\n",
    "end\n",
    "end"
   ]
  }
 ],
 "metadata": {
  "kernelspec": {
   "display_name": "Julia 0.6.0",
   "language": "julia",
   "name": "julia-0.6"
  },
  "language_info": {
   "file_extension": ".jl",
   "mimetype": "application/julia",
   "name": "julia",
   "version": "0.6.0"
  }
 },
 "nbformat": 4,
 "nbformat_minor": 0
}
