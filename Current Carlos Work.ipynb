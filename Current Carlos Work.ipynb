{
 "cells": [
  {
   "cell_type": "markdown",
   "metadata": {},
   "source": [
    "<h1 id=\"tocheading\">TABLE OF CONTENTS</h1>\n",
    "<div id=\"toc\"></div>\n",
    "\n",
    "**Updates to the table of contents are periodic, but run the cell below to first start or force an update.**"
   ]
  },
  {
   "cell_type": "code",
   "execution_count": null,
   "metadata": {
    "collapsed": false
   },
   "outputs": [],
   "source": [
    "macro javascript_str(s) display(\"text/javascript\", s); end\n",
    "\n",
    "javascript\"\"\"\n",
    "$.getScript('make_table_of_contents.js')\n",
    "\"\"\""
   ]
  },
  {
   "cell_type": "markdown",
   "metadata": {},
   "source": [
    "# New cost function -- double_search.jl"
   ]
  },
  {
   "cell_type": "code",
   "execution_count": 2,
   "metadata": {
    "collapsed": false
   },
   "outputs": [
    {
     "name": "stderr",
     "output_type": "stream",
     "text": [
      "\u001b[1m\u001b[33mWARNING: \u001b[39m\u001b[22m\u001b[33mreplacing docs for 'remove_xtick_labels :: Union{Tuple{Any}, Tuple{}}' in module 'Main'.\u001b[39m\n",
      "\u001b[1m\u001b[33mWARNING: \u001b[39m\u001b[22m\u001b[33mreplacing docs for 'print_vector :: Tuple{Any}' in module 'Main'.\u001b[39m\n",
      "\u001b[1m\u001b[33mWARNING: \u001b[39m\u001b[22m\u001b[33mreplacing docs for 'print_vector_g :: Tuple{Any}' in module 'Main'.\u001b[39m\n",
      "\u001b[1m\u001b[33mWARNING: \u001b[39m\u001b[22m\u001b[33mreplacing docs for 'two_level_copy :: Tuple{Any}' in module 'Main'.\u001b[39m\n",
      "\u001b[1m\u001b[33mWARNING: \u001b[39m\u001b[22m\u001b[33mreplacing docs for 'next_file :: Tuple{Any,Any}' in module 'Main'.\u001b[39m\n",
      "\u001b[1m\u001b[33mWARNING: \u001b[39m\u001b[22m\u001b[33mreplacing docs for 'ascii_key_ize :: Tuple{Any}' in module 'Main'.\u001b[39m\n",
      "\u001b[1m\u001b[33mWARNING: \u001b[39m\u001b[22m\u001b[33mreplacing docs for 'symbol_key_ize :: Tuple{Any}' in module 'Main'.\u001b[39m\n",
      "\u001b[1m\u001b[33mWARNING: \u001b[39m\u001b[22m\u001b[33mreplacing docs for 'vectorize_dict :: Tuple{Any,Any}' in module 'Main'.\u001b[39m\n",
      "\u001b[1m\u001b[33mWARNING: \u001b[39m\u001b[22m\u001b[33mreplacing docs for 'make_dict :: Union{Tuple{Any,Any,Any}, Tuple{Any,Any}}' in module 'Main'.\u001b[39m\n",
      "\u001b[1m\u001b[33mWARNING: \u001b[39m\u001b[22m\u001b[33mreplacing docs for 'FDversion :: Tuple{}' in module 'Main'.\u001b[39m\n",
      "\u001b[1m\u001b[33mWARNING: \u001b[39m\u001b[22m\u001b[33mreplacing docs for 'get_eltype :: Tuple{Any}' in module 'Main'.\u001b[39m\n",
      "\u001b[1m\u001b[33mWARNING: \u001b[39m\u001b[22m\u001b[33mreplacing docs for 'get_value :: Tuple{Any}' in module 'Main'.\u001b[39m\n",
      "\u001b[1m\u001b[33mWARNING: \u001b[39m\u001b[22m\u001b[33mreplacing docs for 'vgh :: Tuple{Any,Any}' in module 'Main'.\u001b[39m\n",
      "\u001b[1m\u001b[33mWARNING: \u001b[39m\u001b[22m\u001b[33mreplacing docs for 'keyword_vgh :: Tuple{Any,Any,Any}' in module 'Main'.\u001b[39m\n",
      "\u001b[1m\u001b[33mWARNING: \u001b[39m\u001b[22m\u001b[33mreplacing docs for 'one_d_minimizer :: Tuple{Any,Any}' in module 'Main'.\u001b[39m\n",
      "\u001b[1m\u001b[33mWARNING: \u001b[39m\u001b[22m\u001b[33mreplacing docs for 'constrained_parabolic_minimization :: Tuple{Any,Any,Any}' in module 'Main'.\u001b[39m\n",
      "\u001b[1m\u001b[33mWARNING: \u001b[39m\u001b[22m\u001b[33mreplacing docs for 'wallwrap :: Tuple{Any,Any}' in module 'Main'.\u001b[39m\n",
      "\u001b[1m\u001b[33mWARNING: \u001b[39m\u001b[22m\u001b[33mreplacing docs for 'vector_wrap :: Tuple{Any,Any,Any}' in module 'Main'.\u001b[39m\n",
      "\u001b[1m\u001b[33mWARNING: \u001b[39m\u001b[22m\u001b[33mreplacing docs for 'inverse_wall :: Tuple{Any,Any,Any}' in module 'Main'.\u001b[39m\n",
      "\u001b[1m\u001b[33mWARNING: \u001b[39m\u001b[22m\u001b[33mreplacing docs for 'inverse_wall :: Tuple{Any,Any}' in module 'Main'.\u001b[39m\n",
      "\u001b[1m\u001b[33mWARNING: \u001b[39m\u001b[22m\u001b[33mreplacing docs for 'adaptive_gradient_minimization :: Tuple{Any,Any}' in module 'Main'.\u001b[39m\n",
      "\u001b[1m\u001b[33mWARNING: \u001b[39m\u001b[22m\u001b[33mreplacing docs for 'trust_region_Hessian_minimization :: Tuple{Any,Any}' in module 'Main'.\u001b[39m\n",
      "\u001b[1m\u001b[33mWARNING: \u001b[39m\u001b[22m\u001b[33mreplacing docs for 'bbox_Hessian_keyword_minimization :: NTuple{4,Any}' in module 'Main'.\u001b[39m\n",
      "\u001b[1m\u001b[33mWARNING: \u001b[39m\u001b[22m\u001b[33mreplacing docs for 'forwardModel :: Tuple{Any}' in module 'Main'.\u001b[39m\n",
      "\u001b[1m\u001b[33mWARNING: \u001b[39m\u001b[22m\u001b[33mreplacing docs for 'backwardsModel :: Tuple{Any}' in module 'Main'.\u001b[39m\n",
      "\u001b[1m\u001b[33mWARNING: \u001b[39m\u001b[22m\u001b[33mreplacing docs for 'plot_PA :: Tuple{Any,Any,Any}' in module 'Main'.\u001b[39m\n",
      "\u001b[1m\u001b[33mWARNING: \u001b[39m\u001b[22m\u001b[33mreplacing docs for 'parse_opto_times :: Tuple{Any,Any}' in module 'Main'.\u001b[39m\n",
      "\u001b[1m\u001b[33mWARNING: \u001b[39m\u001b[22m\u001b[33mreplacing docs for 'make_input :: Tuple{Any}' in module 'Main'.\u001b[39m\n",
      "\u001b[1m\u001b[33mWARNING: \u001b[39m\u001b[22m\u001b[33mreplacing docs for 'run_ntrials :: Tuple{Any,Any}' in module 'Main'.\u001b[39m\n",
      "\u001b[1m\u001b[33mWARNING: \u001b[39m\u001b[22m\u001b[33mreplacing docs for 'JJ :: Tuple{Any,Any}' in module 'Main'.\u001b[39m\n",
      "\u001b[1m\u001b[33mWARNING: \u001b[39m\u001b[22m\u001b[33mreplacing docs for 'load_run :: Tuple{Any}' in module 'Main'.\u001b[39m\n"
     ]
    }
   ],
   "source": [
    "#@include_me double_search.jl\n",
    "\n",
    "README_TOP = \"\"\"\n",
    "\n",
    "File to try a non-opto regular search; if that doesn't work, try first using few trials\n",
    "and a target V[1]-V[4] using new_J() to find seed params; and then try again from there.\n",
    "\n",
    "\"\"\"\n",
    "\n",
    "include(\"pro_anti.jl\")"
   ]
  },
  {
   "cell_type": "code",
   "execution_count": 3,
   "metadata": {
    "collapsed": false
   },
   "outputs": [
    {
     "data": {
      "text/plain": [
       "new_J"
      ]
     },
     "execution_count": 3,
     "metadata": {},
     "output_type": "execute_result"
    }
   ],
   "source": [
    "#@include_me double_search.jl\n",
    "\n",
    "\"\"\"\n",
    "cost, costf, dP, dA, hBP, hBA, proValls, antiValls = \n",
    "    new_J(nPro, nAnti; pro_target_diff=0.1, anti_target_diff=0.1, \n",
    "    opto_conditions = Array{Any}(0,4), plot_condition = 0,\n",
    "    verbose=false, pre_string=\"\", seedrand=NaN, \n",
    "    rule_and_delay_periods = nothing, target_periods = nothing, post_target_periods = nothing,\n",
    "    plot_list = [], model_params...)\n",
    "\n",
    "Runs a proAnti network, with a cost that simply asks for a certain fixed, signed, difference\n",
    "between the Pro units on Pro trials and another fixed, signed, difference between Anti units.\n",
    "Note that there is nothing about per cent correct here! E.g., 100% of Pro trials have the same target.\n",
    "Like JJ(), this function can, if desired, run across multiple opto conditions and multiple period \n",
    "durations and returns resulting total cost.\n",
    "\n",
    "(The motivation is to use a search on this new_J() to seed starting param values for the full JJ().)\n",
    "\n",
    "If rule_and_delay_periods, target_periods, and post_target_periods are not passed, it tries to get them from \n",
    "their singular (not plural) versions in model_params, e.g., model_params[:rule_and_delay_period]. NOTE that this\n",
    "is not what JJ() does for target_period.\n",
    "\n",
    "# PARAMETERS:\n",
    "\n",
    "- nPro, nAnti    The number of Pro and the number of Anti trials to run\n",
    "\n",
    "- pro_target     The target V[1] - V[4] for Pro trials.\n",
    "\n",
    "- anti_target    The target V[4] - V[1] for Anti trials\n",
    "\n",
    "- opto_conditions    Each row is the [start_time, end_time, pro_target, anti_target] for an opto condition. \n",
    "                The first two columns follow the rules of `parse_opto_times()`: they can be arbitrary Julia \n",
    "                expressions involving the terms trial_start, target_start, target_end, and trial_end.\n",
    "\n",
    "- plot_condition   If non-zero, should be an integer in the range of the rows of opto_conditions, and\n",
    "                indicates which condition to plot.  A zero means don't plot any of them.\n",
    "\n",
    "- seedrand      If sets, calls srand() on the value to initialize the random number generator.\n",
    "\n",
    "- verbose       If true, prints out diagnostic information to the console.\n",
    "\n",
    "- pre_string    Relevant only under verbose=true, a string that gets printed out before the rest of the verbose info.\n",
    "\n",
    "- rule_and_delay_periods    Vector, indicating set of rule_and_delay_period lengths to iterate over, \n",
    "                            while testing set of opto_periods, etc. on each one. \n",
    "                            Deafult is to do a single one, as picked out from model_params[:rule_and_delay_period]\n",
    "\n",
    "- target_periods            Vector, indicating set of target_perdiod lengths to iterate over, \n",
    "                            while testing set of opto_periods, etc. on each one.\n",
    "                            ** DEFAULT IS TO USE 0.1**, not to pick it out from model_params\n",
    "\n",
    "- post_target_periods       Vector, indicating set of post_target_period lengths to iterate over, \n",
    "                            while testing set of opto_periods, etc. on each one. \n",
    "                            Deafult is to do a single one, as picked out from model_params[:post_target_period]\n",
    " \n",
    "- plot_list                 A list of trial numbers to plot in each condition, e.g.  [1:10;]\n",
    "\n",
    "- model_params              Any remaining keyword-value params are passed as is on to run_ntrials \n",
    "\n",
    "\n",
    ", get_value(costf), get_value(dP), get_value(dA), get_value(hBP), get_value(hBA), \n",
    "        get_value(proValls), get_value(antiValls)\n",
    "\n",
    "# RETURNS:\n",
    "\n",
    "- cost   The net cost, composed of squared error cost (promoting signed V[1]-V[4] differences close to the desired ones).\n",
    "\n",
    "- costf  A matrix, with cost for each opto x period_length condition\n",
    "\n",
    "- dP     squared error cost, mean of (V[1]-V[4] - pro_target)^2 on Pro trials\n",
    "    \n",
    "- dA     squared error cost, mean of (V[4]-V[1] - anti_target)^2  on Anti trials\n",
    "    \n",
    "- hBP    Pro binarized hits, as computed by binarizing (equivalent to theta1->0)\n",
    "    \n",
    "- hBA    Anti binarized hits\n",
    "\n",
    "- proValls   record of full V as a function of time for Pro trials\n",
    "\n",
    "- antiValls  record of full V as a function of time for Anti trials\n",
    "\n",
    "\n",
    "\"\"\"\n",
    "\n",
    "function new_J(nPro, nAnti; pro_target_diff=0.1, anti_target_diff=0.1, \n",
    "    opto_conditions = Array{Any}(0,4), plot_condition = 0,\n",
    "    verbose=false, pre_string=\"\", seedrand=NaN, \n",
    "    rule_and_delay_periods = nothing, target_periods = nothing, post_target_periods = nothing,\n",
    "    plot_list = [], model_params...)\n",
    "\n",
    "    if FDversion() < 0.6\n",
    "        error(\"Sorry, new_J() runs only on Julia 0.6 or higher\")\n",
    "    end\n",
    "    \n",
    "\n",
    "    # All the variables that we MIGHT choose to differentiate w.r.t. go into this bag -- further down\n",
    "    # we'll use get_eltype(varbag) to check for any of them being ForwardDiff.Dual.\n",
    "    # That is how we'll tell whether new matrices should be regular numbers of ForwardDiff.Dual's.\n",
    "    # *** if you add a new variable you'll want to differentiate w.r.t., it should be added here too ***\n",
    "    varbag = (pro_target_diff, anti_target_diff, opto_conditions, model_params)\n",
    "    # print(\"get_eltype(varbag)=\"); print(get_eltype(varbag)); print(\"\\n\")\n",
    "    \n",
    "    # If the plurals of the periods are not passed in, then use the singular in model_params as the default:\n",
    "    if rule_and_delay_periods==nothing\n",
    "        rule_and_delay_periods = model_params[:rule_and_delay_period]\n",
    "    end\n",
    "    if target_periods==nothing        \n",
    "        target_periods = model_params[:target_period]\n",
    "    end\n",
    "    if post_target_periods==nothing\n",
    "         post_target_periods = model_params[:post_target_period]\n",
    "    end\n",
    "    \n",
    "    if size(opto_conditions,1)==0  # if there's no opto that is being asked for\n",
    "        # Then run with only a single opto_period request, with no opto, and control targets as our targets\n",
    "        opto_conditions = [\"trial_start-1\" \"trial_start-1\" pro_target_diff anti_target_diff]\n",
    "    end\n",
    "    \n",
    "    if size(opto_conditions,2) != 4\n",
    "        try\n",
    "            # Make sure its rows are 4 cols\n",
    "            opto_conditions = reshape(opto_conditions, Int64(round(length(opto_periods)/4)), 4) \n",
    "        catch\n",
    "            error(\"Something is wrong with opto_periods -- it should have 4 columns\")\n",
    "        end\n",
    "    end\n",
    "    \n",
    "    noptos     = size(opto_conditions,1)  # of opto conditions\n",
    "    nruns_each = length(rule_and_delay_periods)*length(target_periods)*length(post_target_periods)    # runs per opto condition\n",
    "    nruns      = nruns_each*noptos  # total conditions\n",
    "\n",
    "    costf = zeros(get_eltype(varbag), noptos, nruns)\n",
    "    \n",
    "    dP  = zeros(noptos, nruns_each);   # Pro  diffs\n",
    "    dA  = zeros(noptos, nruns_each);   # Anti diffs\n",
    "    hBP = zeros(noptos, nruns_each);   # Pro binarized hits\n",
    "    hBA = zeros(noptos, nruns_each);   # Anti binarized hits\n",
    "\n",
    "    proValls         = [];\n",
    "    antiValls        = [];\n",
    "    opto_fraction    = [];\n",
    "    pro_input        = [];\n",
    "    anti_input       = [];\n",
    "    \n",
    "    for nopto=1:noptos # iterate over each opto inactivation period\n",
    "        # @printf(\"size(hBP) is %d, %d\\n\", size(hBP,1), size(hBP,2))\n",
    "\n",
    "        # reset random number generator for each opto period, so it cant over fit noise samples\n",
    "        if ~isnan(seedrand); srand(seedrand); end\n",
    "\n",
    "        n = 0  # n is a counter over all period duration conditions\n",
    "        totHitsP = totHitsA = totDiffsP = totDiffsA = 0\n",
    "        for i in rule_and_delay_periods\n",
    "            for j in target_periods\n",
    "                for k = post_target_periods\n",
    "                    n += 1\n",
    "\n",
    "                    # include this opto inactivation in the parameters to pass on\n",
    "                    my_params = make_dict([\"rule_and_delay_period\",\"target_period\",\"post_target_period\"], [i,j,k])\n",
    "                    my_params = make_dict([\"opto_times\"], [reshape(opto_conditions[nopto,1:2], 1, 2)], my_params)\n",
    "                    my_params = merge(Dict(model_params), my_params)  # my_params takes precedence\n",
    "\n",
    "                    my_plot_list = []\n",
    "                    if plot_condition == nopto; my_plot_list = plot_list; else myplot_list=[]; end\n",
    "\n",
    "                    # print(\"model params is \" ); print(model_params); print(\"\\n\")\n",
    "                    proVs, antiVs, proVall, antiVall, opto_fraction,pro_input,anti_input =\n",
    "                        run_ntrials(nPro, nAnti; plot_list=my_plot_list, my_params...)\n",
    "\n",
    "                    if length(proValls)==0\n",
    "                        proValls = zeros(4, size(proVall,2), size(proVall,3), noptos)\n",
    "                    end\n",
    "                    if length(antiValls)==0\n",
    "                        antiValls = zeros(4, size(antiVall,2), size(antiVall,3), noptos)\n",
    "                    end\n",
    "                    proValls[:,:,:,nopto]  = get_value(proVall)  # make sure they're not stored as ForwardDiff Duals\n",
    "                    antiValls[:,:,:,nopto] = get_value(antiVall)\n",
    "                    \n",
    "                    diffsP = proVs[1,:]  - proVs[4,:]\n",
    "                    diffsA = antiVs[4,:] - antiVs[1,:]\n",
    "                    \n",
    "                    # set up storage  -- we do get_value() to make sure to from ForwardDiff.Dual into Float64 if necessary\n",
    "                    dP[nopto, n] = sqrt(mean((get_value(diffsP) - opto_conditions[nopto,3]).^2));\n",
    "                    dA[nopto, n] = sqrt(mean((get_value(diffsA) - opto_conditions[nopto,4]).^2));\n",
    "                    hBP[nopto, n] = get_value(sum(proVs[1,:] .>= proVs[4,:,])/nPro);\n",
    "                    hBA[nopto, n] = get_value(sum(antiVs[4,:] .>  antiVs[1,:,])/nAnti);                    \n",
    "                    \n",
    "                    if nPro>0 && nAnti>0\n",
    "                        # cost can accept ForwardDiff.Dual, so no get_value() for them\n",
    "                        costf[nopto, n] = (nPro *mean((diffsP - opto_conditions[nopto,3]).^2) +\n",
    "                                         nAnti*mean((diffsA - opto_conditions[nopto,4]).^2))/(nPro+nAnti)\n",
    "                    elseif nPro>0\n",
    "                        costf[nopto, n] = mean((diffsP - opto_conditions[nopto,3]).^2)\n",
    "                    else\n",
    "                        costf[nopto, n] = mean((diffsA - opto_conditions[nopto,4]).^2)\n",
    "                    end\n",
    "                end\n",
    "            end\n",
    "        end\n",
    "    \n",
    "        if verbose\n",
    "            pcost = mean(costf[nopto,:])   # partial costs\n",
    "            \n",
    "            # Notice the get_value() calls below, to transform ForwardDiff Duals into Float64s\n",
    "            @printf(\"%s\", pre_string)\n",
    "            @printf(\"Opto condition # %d\\n\", nopto)\n",
    "            @printf(\"     - %d - cost=%g\\n\", nopto, get_value(pcost))\n",
    "            if nPro>0 && nAnti>0\n",
    "                @printf(\"     - %d - hBP=%g, dP=%g, hBA=%g, dA=%g\\n\", nopto, \n",
    "                    mean(hBP[nopto,:]), mean(dP[nopto,:]), mean(hBA[nopto,:]), mean(dA[nopto,:]))\n",
    "            elseif nPro>0\n",
    "                @printf(\"     - %d - hBP=%g, dP=%g\\n\", nopto, mean(hBP[nopto,:]), mean(dP[nopto,:]))\n",
    "            else\n",
    "                @printf(\"     - %d - hBA=%g, dA=%g\\n\", nopto, mean(hBA[nopto,:]), mean(dA[nopto,:]))\n",
    "            end        \n",
    "        end\n",
    "    end\n",
    "        \n",
    "    cost = mean(costf)\n",
    "\n",
    "    if verbose\n",
    "        @printf(\"%s\", pre_string)\n",
    "        @printf(\"OVERALL\\n\")\n",
    "        @printf(\"     -- cost=%g\\n\", get_value(cost))\n",
    "    end\n",
    "    \n",
    "\n",
    "    # The scalar cost should be differentiable, the others should be regular Float64s\n",
    "    return cost, get_value(costf), get_value(dP), get_value(dA), get_value(hBP), get_value(hBA), \n",
    "        get_value(proValls), get_value(antiValls)\n",
    "end                    "
   ]
  },
  {
   "cell_type": "code",
   "execution_count": null,
   "metadata": {
    "collapsed": false
   },
   "outputs": [],
   "source": [
    "pygui(true)\n",
    "figure(1); clf();\n",
    "figure(2); clf();\n",
    "\n",
    "extra_pars[:seedrand] =  Int64(round(time()*1000))\n",
    "\n",
    "cost, costf, dP, dA, hBP, hBA, proValls, antiValls = new_J(10, 10; verbose=true, merge(mypars, extra_pars)...)\n",
    "\n",
    "hBP\n"
   ]
  },
  {
   "cell_type": "code",
   "execution_count": null,
   "metadata": {
    "collapsed": false
   },
   "outputs": [],
   "source": []
  },
  {
   "cell_type": "code",
   "execution_count": 120,
   "metadata": {
    "collapsed": false
   },
   "outputs": [
    {
     "name": "stderr",
     "output_type": "stream",
     "text": [
      "\u001b[1m\u001b[33mWARNING: \u001b[39m\u001b[22m\u001b[33mreplacing docs for 'quick_search :: NTuple{4,Any}' in module 'Main'.\u001b[39m\n"
     ]
    },
    {
     "data": {
      "text/plain": [
       "quick_search"
      ]
     },
     "execution_count": 120,
     "metadata": {},
     "output_type": "execute_result"
    }
   ],
   "source": [
    "#@include_me double_search.jl\n",
    "\n",
    "\"\"\"\n",
    "    pars, [pro_targ_doff, anti_targ_diff] = quick_search(ntrials, seed, args, bbox; \n",
    "        BP_target=0.7, pro_diffs_targets=[0.1, 0.2, 0.3, 0.4], anti_diffs_targets=nothing,\n",
    "        model_params=nothing, verbose=true, maxiter=1000)\n",
    "\n",
    "\"\"\"\n",
    "function quick_search(ntrials, seed, args, bbox; \n",
    "    BP_target=0.7, pro_diffs_targets=[0.1, 0.2, 0.3, 0.4], anti_diffs_targets=nothing,\n",
    "    model_params=nothing, verbose=true, maxiter=1000)\n",
    "   \n",
    "    if model_params==nothing; error(\"You need to specify model_params\"); end\n",
    "    if anti_diffs_targets == nothing; anti_diffs_targets = pro_diffs_targets; end\n",
    "    if length(anti_diffs_targets)!=length(pro_diffs_targets)\n",
    "        error(\"pro_diffs_targets and anti_diffs_targets must be same length (or anti_diffs_targets=nothing)\")\n",
    "    end\n",
    "\n",
    "    for i=1:length(pro_diffs_targets)\n",
    "\n",
    "        function stopping_func(;cost=0, func_out=[], ignored_extra_params...)\n",
    "            costf, dP, dA, hBP, hBA = func_out\n",
    "            return hBP[1]>=BP_target && hBA[1] >= BP_target\n",
    "        end\n",
    "\n",
    "        func2 =  (;params...) -> new_J(ntrials, ntrials; \n",
    "            pro_target_diff=pro_diffs_targets[i], anti_target_diffs=anti_diffs_targets[i],\n",
    "            pre_string=\"new_J(): \", \n",
    "            verbose=false, merge(model_params, Dict(params))...)\n",
    "\n",
    "        pars2, traj2, cost2, cpm_traj2, ftraj2 = bbox_Hessian_keyword_minimization(seed, \n",
    "            args, bbox, func2, \n",
    "            stopping_function = stopping_func, \n",
    "        start_eta = 0.1, tol=1e-12, verbose=verbose, verbose_every=1, maxiter=maxiter)\n",
    "        \n",
    "        if stopping_func(cost=0, func_out=ftraj2[3,end])\n",
    "            return pars2, [pro_diffs_targets[i], anti_diffs_targets[i]]\n",
    "        end\n",
    "    end    \n",
    "\n",
    "    return seed, [0, 0]\n",
    "end"
   ]
  },
  {
   "cell_type": "code",
   "execution_count": 99,
   "metadata": {
    "collapsed": false
   },
   "outputs": [
    {
     "data": {
      "text/plain": [
       "Dict{Symbol,Array{Any,1}} with 9 entries:\n",
       "  :dW                       => Any[0.126712, [-0.5, 0.5], [-3, 3]]\n",
       "  :target_period_excitation => Any[0.153153, [0.001, 0.5], [0 4]]\n",
       "  :const_pro_bias           => Any[0.043669, [-0.5, 0.5], [-2, 2]]\n",
       "  :hW                       => Any[0.0547018, [-0.5, 0.5], [-3, 3]]\n",
       "  :sW                       => Any[0.641688, [0.0, 0.5], [0, 3]]\n",
       "  :vW                       => Any[-1.58885, [-0.5, 0.5], [-3, 3]]\n",
       "  :sigma                    => Any[0.11, [0.1, 0.2], [0.1, 0.4]]\n",
       "  :constant_excitation      => Any[-0.372425, [-1, 1], [-2, 2]]\n",
       "  :right_light_excitation   => Any[0.499242, [0.05, 0.5], [0.05, 4.0]]"
      ]
     },
     "execution_count": 99,
     "metadata": {},
     "output_type": "execute_result"
    }
   ],
   "source": [
    "#@include_me double_search.jl\n",
    "\n",
    "\n",
    "mypars = Dict(\n",
    ":init_add               =>          0,\n",
    ":const_add              =>          0,\n",
    ":noise                  =>          Any[],\n",
    ":input                  =>          0,\n",
    ":start_anti             =>          [-0.5, -0.5, -0.5, -0.5],\n",
    ":start_pro              =>          [-0.5, -0.5, -0.5, -0.5],\n",
    ":rule_and_delay_period  =>          1.2,\n",
    ":rule_and_delay_periods =>          [1.2],\n",
    ":target_period          =>          0.3,\n",
    ":target_periods         =>          [0.3],\n",
    ":post_target_period     =>          0.3,\n",
    ":post_target_periods    =>          [0.3],\n",
    ":anti_rule_strength     =>          0.054,\n",
    ":U_rest                 =>          0,\n",
    ":theta                  =>          0.05,\n",
    ":beta                   =>          0.5,\n",
    ":g_leak                 =>          1,\n",
    ":nsteps                 =>          301,\n",
    ":dt                     =>          0.024,\n",
    ":tau                    =>          0.09,\n",
    ":right_light_excitation =>          0.49924152955481954,\n",
    ":opto_strength          =>          0.85,\n",
    ":opto_periods           =>          String[\n",
    "                                    \"trial_start\" \"trial_start\"; \n",
    "                                    \"trial_start\" \"trial_end\"; \n",
    "                                    \"trial_start\" \"target_start/2\"; \n",
    "                                    \"target_start/2\" \"target_start\"; \n",
    "                                    \"target_start\" \"target_end\"],\n",
    ":opto_targets          =>           [\n",
    "                                    0.9 0.7; \n",
    "                                    0.9 0.5; \n",
    "                                    0.9 0.7; \n",
    "                                    0.9 0.5; \n",
    "                                    0.9 0.7],\n",
    ":theta2 => 0.15,\n",
    ":theta1 => 0.05,\n",
    ":sigma => 0.01,\n",
    ":cbeta => 0.04,\n",
    ":sW => 0.6416875048295452,\n",
    ":hW => 0.054701836208134846,\n",
    ":dW => 0.1267124266934907,\n",
    ":vW => -1.588850577499782,\n",
    ":constant_excitation => -0.37242520737694207,\n",
    ":const_pro_bias => 0.04366897857834884,\n",
    ":target_period_excitation => 0.15315254453690974,\n",
    ":right_light_pro_extra => 0,\n",
    ":pro_rule_strength => 0.05,\n",
    ":nPro => 200,\n",
    ":nAnti => 200,\n",
    ")\n",
    "\n",
    "\n",
    "extra_pars = Dict(\n",
    ":plot_list        =>   [], \n",
    ":plot_conditions  =>   true,\n",
    ":verbose          =>   true,\n",
    ":opto_periods     =>   String[\"trial_start\" \"trial_start-0.1\"],\n",
    ":opto_targets     =>   [0.9,  0.7],\n",
    ":opto_times       =>   [\"trial_start\", \"trial_start-0.1\"],       # This one is for run_ntrials\n",
    ":cbeta            =>   0.001,\n",
    ":search_range     =>   1.2,\n",
    ")\n",
    "\n",
    "\n",
    "search_conditions = Dict(   # :param    default_start   search_box  bound_box\n",
    ":vW     =>                   [mypars[:vW],                       [-0.5, 0.5],  [-3,   3]], \n",
    ":hW     =>                   [mypars[:hW],                       [-0.5, 0.5],  [-3,   3]],\n",
    ":dW     =>                   [mypars[:dW],                       [-0.5, 0.5],  [-3,   3]],\n",
    ":sW     =>                   [mypars[:sW],                       [0,    0.5],  [0,    3]],\n",
    ":sigma  =>                   [0.11,                              [0.1,  0.2],  [0.1, 0.4]],\n",
    ":constant_excitation      => [mypars[:constant_excitation],      [-1,     1],  [-2,   2]], \n",
    ":target_period_excitation => [mypars[:target_period_excitation], [0.001,0.5],  [0     4]],\n",
    ":right_light_excitation   => [mypars[:right_light_excitation],   [0.05, 0.5],  [0.05, 4]],\n",
    ":const_pro_bias           => [mypars[:const_pro_bias],           [-0.5, 0.5],  [-2,   2]],\n",
    "# :opto_strength            => [mypars[:opto_strength],            [0.7, 0.99],  [0,    1]],\n",
    ")\n",
    "\n"
   ]
  },
  {
   "cell_type": "markdown",
   "metadata": {},
   "source": [
    "### Loop for double_search.jl"
   ]
  },
  {
   "cell_type": "code",
   "execution_count": null,
   "metadata": {
    "collapsed": false
   },
   "outputs": [],
   "source": [
    "#@include_me double_search.jl\n",
    "ftraj2 = []; cost2 = [];\n",
    "extra_pars[:seedrand] = Int64(round(1000*time()))   # 1510782006169 causes lin.alg error but then looks like it'll succeed\n",
    "srand(extra_pars[:seedrand])\n",
    "\n",
    "search_range = extra_pars[:search_range]; \n",
    "\n",
    "README = \"\"\"\n",
    "\n",
    "Farm C10: Like C9, but uses the new function quick_search \n",
    "to first do a scan over possible new_J() searches.  Note that\n",
    "we'renw hBP and hBA target in the new_J() search of 0.7, not 0.6\n",
    "\n",
    "\"\"\"\n",
    "\n",
    "if !isdir(\"../NewFarms\"); mkdir(\"../NewFarms\"); end\n",
    "fbasename = \"../NewFarms/farm_C10_\"\n",
    "# If we wanted a unique identifier per processor run the following line would help:\n",
    "# if ~isnull(tryparse(Int64, ARGS[1])); fbasename = fbasename * ARGS[1] * \"_\"; end\n",
    "\n",
    "@printf(\"\\n\\n\\nStarting with random seed %d\\n\\n\\n\", extra_pars[:seedrand])\n",
    "\n",
    "while true\n",
    "    \n",
    "    @printf(\"\\n\\n--- new run ---\\n\\n\")\n",
    "    args = []; seed = []; bbox = Dict()\n",
    "    for k in keys(search_conditions)\n",
    "        search_box = search_conditions[k][2]\n",
    "        args = [args; String(k)]\n",
    "        # --- search within the indicated search range:\n",
    "        myseed = search_conditions[k][1] + search_range*(rand()-0.5)*diff(search_box); myseed = myseed[1]\n",
    "        if myseed > search_box[2]; myseed = search_box[2]; end\n",
    "        if myseed < search_box[1]; myseed = search_box[1]; end\n",
    "        seed = [seed ;  myseed]\n",
    "        # --- No search, just start at the indicated position:\n",
    "        # seed = [seed ; search_conditions[k][1]]\n",
    "        bbox = merge(bbox, Dict(k => Array{Float64}(search_conditions[k][3])))\n",
    "    end\n",
    "    args = Array{String}(args)\n",
    "    seed = Array{Float64}(seed)\n",
    "\n",
    "\n",
    "    maxiter1 = 1000;   # for func1, the regular search\n",
    "    maxiter2 = 500;    # for the quick_search\n",
    "    testruns = 10000; # Number of trials for evaluating the results of the model. 10000 is a good number \n",
    "\n",
    "    # For func2:\n",
    "    extra_pars[:opto_conditions] = []    \n",
    "    extra_pars[:plot_condition] = 0            \n",
    "    extra_pars[:plot_list] = []\n",
    "\n",
    "    # Make sure to keep the noise frozen over the search, meaning JJ() needs the seedrand parameter\n",
    "    func1 =  (;params...) -> JJ(mypars[:nPro], mypars[:nAnti]; verbose=false, \n",
    "        merge(merge(mypars, extra_pars), Dict(params))...)[1]\n",
    "    \n",
    "    try\n",
    "        ntries = 2\n",
    "\n",
    "        start_pars, qu_out = quick_search(40, seed, args, bbox; model_params=merge(mypars, extra_pars),\n",
    "            maxiter=maxiter2)\n",
    "\n",
    "        pars3, traj3, cost3, cpm_traj3, ftraj3 = bbox_Hessian_keyword_minimization(start_pars, \n",
    "            args, bbox, func1, \n",
    "            start_eta = 0.1, tol=1e-12, \n",
    "            verbose=true, verbose_every=1, maxiter=maxiter1)\n",
    "            \n",
    "        cost, cost1s, cost2s, hP, hA, dP, dA, hBP, hBA = JJ(testruns, testruns; verbose=false, \n",
    "            make_dict(args, pars3, merge(merge(mypars, extra_pars)))...)\n",
    "        \n",
    "        myfilename = next_file(fbasename, 4)\n",
    "        myfilename = myfilename*\".jld\"\n",
    "\n",
    "        @printf(\"\\n\\n ****** writing to file %s *******\\n\\n\", myfilename)\n",
    "        \n",
    "        # write file\n",
    "        save(myfilename, Dict(\"README\"=>README, \"nPro\"=>mypars[:nPro], \"nAnti\"=>mypars[:nAnti], \"ntries\"=>ntries, \n",
    "            \"start_pars\"=>start_pars, \"qu_out\"=>qu_out,\n",
    "            \"mypars\"=>mypars, \"extra_pars\"=>extra_pars, \"args\"=>args, \"seed\"=>seed, \"bbox\"=>bbox, \n",
    "            \"pars2\"=>pars2, \"traj2\"=>traj2, \"cost2\"=>cost2, \"cpm_traj2\"=>cpm_traj2, \n",
    "            \"pars3\"=>pars3, \"traj3\"=>traj3, \"cost3\"=>cost3, \"cpm_traj3\"=>cpm_traj3, \"ftraj3\"=>ftraj3,\n",
    "            \"cost\"=>cost, \"cost1s\"=>cost1s, \"cost2s\"=>cost2s,\n",
    "            \"hP\"=>hP, \"hA\"=>hA, \"dP\"=>dP, \"dA\"=>dA, \"hBP\"=>hBP, \"hBA\"=>hBA))\n",
    "\n",
    "    catch y\n",
    "        if isa(y, InterruptException); throw(InterruptException()); end\n",
    "        @printf(\"\\n\\nWhoopsety, unkown error!\\n\\n\");\n",
    "        @printf(\"Error was :\\n\"); print(y); @printf(\"\\n\\nTrying new random seed.\\n\\n\")\n",
    "    end\n",
    "\n",
    "    # Change random seed so we don't get stuck in one loop\n",
    "    extra_pars[:seedrand] = extra_pars[:seedrand]+1\n",
    "end"
   ]
  },
  {
   "cell_type": "code",
   "execution_count": null,
   "metadata": {
    "collapsed": false
   },
   "outputs": [],
   "source": []
  },
  {
   "cell_type": "code",
   "execution_count": null,
   "metadata": {
    "collapsed": false
   },
   "outputs": [],
   "source": [
    "ftraj2 = []; cost2 = [];\n",
    "extra_pars[:seedrand] = 1511025779342 # Int64(round(1000*time()))   # 1510782006169 causes lin.alg error but then looks like it'll succeed\n",
    "srand(extra_pars[:seedrand])\n",
    "\n",
    "search_range = extra_pars[:search_range]; \n",
    "\n",
    "\n",
    "args = []; seed = []; bbox = Dict()\n",
    "for k in keys(search_conditions)\n",
    "    search_box = search_conditions[k][2]\n",
    "    args = [args; String(k)]\n",
    "    # --- search within the indicated search range:\n",
    "    myseed = search_conditions[k][1] + search_range*(rand()-0.5)*diff(search_box); myseed = myseed[1]\n",
    "    if myseed > search_box[2]; myseed = search_box[2]; end\n",
    "    if myseed < search_box[1]; myseed = search_box[1]; end\n",
    "    seed = [seed ;  myseed]\n",
    "    # --- No search, just start at the indicated position:\n",
    "    # seed = [seed ; search_conditions[k][1]]\n",
    "    bbox = merge(bbox, Dict(k => Array{Float64}(search_conditions[k][3])))\n",
    "end\n",
    "args = Array{String}(args)\n",
    "seed = Array{Float64}(seed)\n",
    "\n",
    "\n",
    "maxiter = 1000;   # for func1, the regular search\n",
    "\n",
    "quick_search(40, seed, args, bbox; model_params=merge(mypars, extra_pars))\n"
   ]
  },
  {
   "cell_type": "code",
   "execution_count": 106,
   "metadata": {
    "collapsed": false
   },
   "outputs": [
    {
     "data": {
      "text/plain": [
       "9-element Array{Float64,1}:\n",
       " -0.125277\n",
       "  0.122458\n",
       "  0.010735\n",
       " -0.109207\n",
       "  0.803757\n",
       " -0.623287\n",
       "  0.104722\n",
       " -0.373292\n",
       "  0.287551"
      ]
     },
     "execution_count": 106,
     "metadata": {},
     "output_type": "execute_result"
    }
   ],
   "source": [
    "start_pars = [-0.125277, 0.122458, 0.010735, -0.109207, 0.803757, -0.623287, 0.104722, -0.373292, 0.287551]"
   ]
  },
  {
   "cell_type": "code",
   "execution_count": null,
   "metadata": {
    "collapsed": false
   },
   "outputs": [],
   "source": [
    "maxiter1 = 2000\n",
    "\n",
    "func1 =  (;params...) -> JJ(mypars[:nPro], mypars[:nAnti]; verbose=false, \n",
    "    merge(merge(mypars, extra_pars), Dict(params))...)[1]\n",
    "\n",
    "\n",
    "pars3, traj3, cost3, cpm_traj3, ftraj3 = bbox_Hessian_keyword_minimization(seed, \n",
    "    args, bbox, func1, \n",
    "    start_eta = 0.01, tol=1e-12, \n",
    "    verbose=true, verbose_every=1, maxiter=maxiter1)\n"
   ]
  },
  {
   "cell_type": "code",
   "execution_count": 114,
   "metadata": {
    "collapsed": false
   },
   "outputs": [
    {
     "data": {
      "text/plain": [
       "1511025779342"
      ]
     },
     "execution_count": 114,
     "metadata": {},
     "output_type": "execute_result"
    }
   ],
   "source": [
    "extra_pars[:seedrand]"
   ]
  },
  {
   "cell_type": "code",
   "execution_count": 116,
   "metadata": {
    "collapsed": false
   },
   "outputs": [
    {
     "data": {
      "text/plain": [
       "9×2 Array{Float64,2}:\n",
       " -0.153907  -0.125277\n",
       "  0.124459   0.122458\n",
       "  0.5        0.010735\n",
       "  0.402087  -0.109207\n",
       "  0.457226   0.803757\n",
       " -0.5       -0.623287\n",
       "  0.129645   0.104722\n",
       " -0.5977    -0.373292\n",
       "  0.271233   0.287551"
      ]
     },
     "execution_count": 116,
     "metadata": {},
     "output_type": "execute_result"
    }
   ],
   "source": [
    "[seed start_pars]"
   ]
  },
  {
   "cell_type": "markdown",
   "metadata": {},
   "source": [
    "# Analyzing runs from reduced_farm.jl : analyze_reduced_farm.jl"
   ]
  },
  {
   "cell_type": "code",
   "execution_count": null,
   "metadata": {
    "collapsed": true
   },
   "outputs": [],
   "source": [
    "#@include_me  analyze_reduced_farm.jl\n",
    "\n",
    "include(\"pro_anti.jl\")\n",
    "\n",
    "#\n",
    "#  We're assuming that results of reduced_farm.jl were already generated.\n",
    "#"
   ]
  },
  {
   "cell_type": "code",
   "execution_count": null,
   "metadata": {
    "collapsed": false
   },
   "outputs": [],
   "source": [
    "#@include_me  analyze_reduced_farm.jl\n",
    "\n",
    "\"\"\"\n",
    "hBP, hBA, d = function show_run(run_name, ntrials=100; farmdir=\"FarmFields\", further_pars...)\n",
    "\n",
    "Given a string representing the filename of a run generated in reduced_farm.jl\n",
    "(for example, \"farm_C3_0027.jld\"), tries to load that file from within \"FarmFields/\"\n",
    "runs it to plot 30 Pro trials in figure 1 and 30 Anti trials in figure 2,\n",
    "and indicates in those figures the corresponding number of binarized hits.\n",
    "\n",
    "Any further parameters override the contents of the farm and are passed on to \n",
    "run_ntrials(), so for example you can set rule_and_delay_period=0.2\n",
    "\n",
    "# RETURNS:\n",
    "\n",
    "- hBP, hBA   binarized Pro % hit and Anti % hit\n",
    "\n",
    "- d          the raw dictionary obtained from first loading the file.\n",
    "\n",
    "\"\"\"\n",
    "function show_run(run_name, ntrials=100; farmdir=\"FarmFields\", further_pars...)\n",
    "\n",
    "    pygui(true)\n",
    "    figure(1); clf();\n",
    "    figure(2); clf();\n",
    "\n",
    "    if endswith(farmdir, \"/\"); farmdir=farmdir[1:end-1]; end;\n",
    "    \n",
    "    if endswith(run_name, \".jld\")\n",
    "        d = load(farmdir * \"/\" * run_name)\n",
    "\n",
    "        extra_pars = d[\"extra_pars\"]\n",
    "        mypars     = d[\"mypars\"]\n",
    "        args       = d[\"args\"]\n",
    "        pars       = d[\"pars\"]\n",
    "    elseif endswith(run_name, \".mat\")                                \n",
    "        d = matread(farmdir * \"/\" * run_name)\n",
    "        \n",
    "        extra_pars = Dict()\n",
    "        mypars     = symbol_key_ize(d[\"model_params\"])\n",
    "        args       = d[\"args\"]\n",
    "        pars       = d[\"pars\"]\n",
    "    else\n",
    "        error(\"Whoa, I only know how to load .mat and .jld files\")\n",
    "    end\n",
    "\n",
    "    delete!(extra_pars, :plot_list)   # we want our own plot_list\n",
    "    delete!(extra_pars, :seedrand)    # don't use the farm's seedrand. (Could change this if wanted)\n",
    "\n",
    "    # Add or replace alternative period values if needed\n",
    "    # if rule_and_delay_period != nothing; extra_pars[:rule_and_delay_period] = rule_and_delay_period; end;\n",
    "    # if target_period         != nothing; extra_pars[:target_period]         = target_period;         end;\n",
    "    # if post_target_period    != nothing; extra_pars[:post_target_period]    = post_target_period;    end;\n",
    "\n",
    "    # Run it\n",
    "    proVs, antiVs = run_ntrials(ntrials, ntrials; plot_list=[1:30;], \n",
    "        merge(make_dict(args, pars, merge(mypars, extra_pars)), Dict(further_pars))...)[1:2]\n",
    "\n",
    "    # Add titles with the binarized hit rates\n",
    "    hBP = 100*length(find(proVs[1,:]  .> proVs[4,:])) /size(proVs, 2)\n",
    "    hBA = 100*length(find(antiVs[4,:] .> antiVs[1,:]))/size(antiVs,2)\n",
    "\n",
    "    figure(1); subplot(3,1,1); title(@sprintf(\"%s: binarized Pro  hits = %.1f %%\\n\", run_name, hBP))\n",
    "    figure(2); subplot(3,1,1); title(@sprintf(\"%s: binarized Anti hits = %.1f %%\\n\", run_name, hBA))\n",
    "    \n",
    "    return hBP, hBA, d\n",
    "end\n",
    "\n"
   ]
  },
  {
   "cell_type": "code",
   "execution_count": 127,
   "metadata": {
    "collapsed": false
   },
   "outputs": [
    {
     "name": "stdout",
     "output_type": "stream",
     "text": [
      "44.68 % good runs out of 141\n"
     ]
    }
   ],
   "source": [
    "#@include_me analyze_reduced_farm.jl\n",
    "\n",
    "# IDENTIFY GOOD RUNS FROM FARM\n",
    "\n",
    "I = results = files = 0\n",
    "\n",
    "farm_id = \"C4\"; farmdir = \"FarmFields\"\n",
    "farm_id = \"C6\"; farmdir = \"../NewFarms\"\n",
    "farm_id = \"C9\"; farmdir = \"../NewFarms\"\n",
    "\n",
    "recompute_me = false; if recompute_me || !isfile(\"Temp/\" * farm_id * \"_results.jld\")\n",
    "    results = zeros(0,4)\n",
    "    files = []\n",
    "    for f in filter(x -> startswith(x, \"farm_\" * farm_id * \"_\"), readdir(farmdir * \"/\"))\n",
    "\n",
    "        hBP, hBA, dP, dA= load(farmdir * \"/\" * f, \"hBP\", \"hBA\", \"dP\", \"dA\")\n",
    "        results = [results; [hBP hBA dP dA]]; \n",
    "        files   = [files ; f]\n",
    "    end\n",
    "    \n",
    "    I = find((results[:,1] .> 0.85) .& (results[:,2] .> 0.65) .& (results[:,3].>0.9) .& (results[:,4].>0.9) .&\n",
    "                ((results[:,1]-results[:,2]) .> 0.15) )\n",
    "\n",
    "    @save \"Temp/\" * farm_id * \"_results.jld\" results files I\n",
    "else\n",
    "    I, results, files = load(\"Temp/\" * farm_id *\"_results.jld\", \"I\", \"results\", \"files\");\n",
    "end\n",
    "\n",
    "@printf(\"%.2f %% good runs out of %d\\n\", 100*length(I)/length(files), length(files))\n"
   ]
  },
  {
   "cell_type": "code",
   "execution_count": null,
   "metadata": {
    "collapsed": false
   },
   "outputs": [],
   "source": [
    "files[I]"
   ]
  },
  {
   "cell_type": "code",
   "execution_count": 85,
   "metadata": {
    "collapsed": false
   },
   "outputs": [
    {
     "name": "stdout",
     "output_type": "stream",
     "text": [
      "n=1 farm_C7_0001.jld: -0.0009827327928172939  hBP=0.85, hBA=0.75 dP=0.98 dA=0.98\n",
      "n=1 farm_C7_0002.jld: -0.0009999934779928862  hBP=0.88, hBA=0.67 dP=1.00 dA=1.00\n",
      "n=1 farm_C7_0003.jld: -0.000999814580497267  hBP=0.89, hBA=0.65 dP=1.00 dA=1.00\n",
      "n=1 farm_C7_0004.jld: -0.0009946918208887947  hBP=0.84, hBA=0.67 dP=0.99 dA=0.99\n",
      "n=1 farm_C7_0005.jld: -0.0009899693941510907  hBP=0.88, hBA=0.73 dP=0.99 dA=0.98\n",
      "n=1 farm_C7_0006.jld: -0.0009871360908565085  hBP=0.89, hBA=0.69 dP=0.99 dA=0.98\n",
      "n=2 farm_C7_0007.jld: 0.04004819819505556  hBP=0.61, hBA=0.45 dP=0.94 dA=0.94\n",
      "n=1 farm_C7_0008.jld: -0.0009910908052183916  hBP=0.90, hBA=0.70 dP=1.00 dA=0.98\n",
      "n=1 farm_C7_0009.jld: -0.000990669535499713  hBP=0.92, hBA=0.70 dP=0.99 dA=0.98\n",
      "n=1 farm_C7_0010.jld: -0.0009919962407295092  hBP=0.90, hBA=0.64 dP=1.00 dA=0.99\n",
      "n=1 farm_C7_0011.jld: -0.000990688134223988  hBP=0.88, hBA=0.69 dP=1.00 dA=0.98\n",
      "n=1 farm_C7_0012.jld: -0.0009918845144216326  hBP=0.89, hBA=0.63 dP=0.99 dA=0.98\n",
      "n=1 farm_C7_0013.jld: -0.0009886986284349422  hBP=0.90, hBA=0.67 dP=0.99 dA=0.98\n",
      "n=2 farm_C7_0014.jld: 0.07961568677469165  hBP=0.00, hBA=0.69 dP=0.00 dA=0.81\n",
      "n=2 farm_C7_0015.jld: -0.0009906773458799468  hBP=0.90, hBA=0.68 dP=1.00 dA=0.99\n",
      "n=1 farm_C7_0016.jld: -0.0009723332457256899  hBP=0.92, hBA=0.69 dP=0.99 dA=0.97\n",
      "n=2 farm_C7_0017.jld: 0.046927707213079484  hBP=0.76, hBA=0.40 dP=0.29 dA=0.12\n",
      "n=1 farm_C7_0018.jld: -0.0009991697449914139  hBP=0.92, hBA=0.73 dP=1.00 dA=0.99\n",
      "n=1 farm_C7_0019.jld: -0.0009918455136688237  hBP=0.88, hBA=0.70 dP=1.00 dA=0.99\n",
      "n=1 farm_C7_0020.jld: -0.0009987317174334307  hBP=0.92, hBA=0.76 dP=1.00 dA=0.99\n",
      "n=1 farm_C7_0021.jld: -0.0009876465658963675  hBP=0.90, hBA=0.75 dP=1.00 dA=0.98\n",
      "n=2 farm_C7_0022.jld: 0.06605597657063295  hBP=0.60, hBA=0.47 dP=0.26 dA=0.21\n",
      "n=1 farm_C7_0023.jld: -0.0009963614040754839  hBP=0.85, hBA=0.71 dP=1.00 dA=0.99\n",
      "n=1 farm_C7_0024.jld: -0.0009856463223106018  hBP=0.88, hBA=0.74 dP=1.00 dA=0.98\n",
      "n=1 farm_C7_0025.jld: -0.0009837016250380604  hBP=0.88, hBA=0.73 dP=0.98 dA=0.98\n",
      "n=2 farm_C7_0026.jld: 0.07857513067826044  hBP=0.00, hBA=0.75 dP=0.01 dA=0.84\n",
      "n=2 farm_C7_0027.jld: 0.09069661649814507  hBP=0.51, hBA=0.49 dP=0.15 dA=0.01\n",
      "n=1 farm_C7_0028.jld: -0.0009273862752647935  hBP=0.91, hBA=0.69 dP=0.98 dA=0.89\n",
      "n=2 farm_C7_0029.jld: 0.0883330043664426  hBP=1.00, hBA=0.00 dP=0.01 dA=0.02\n",
      "n=1 farm_C7_0030.jld: -0.0009964732744937913  hBP=0.88, hBA=0.69 dP=0.99 dA=0.99\n",
      "n=2 farm_C7_0031.jld: 0.011077751345281703  hBP=0.85, hBA=0.45 dP=0.98 dA=0.99\n",
      "n=2 farm_C7_0032.jld: 0.010936733908877538  hBP=0.90, hBA=0.50 dP=0.48 dA=0.11\n",
      "n=1 farm_C7_0033.jld: -0.0009988334026538356  hBP=0.93, hBA=0.73 dP=1.00 dA=0.99\n",
      "n=2 farm_C7_0034.jld: 0.009539226422639269  hBP=0.90, hBA=0.50 dP=0.95 dA=1.00\n",
      "n=1 farm_C7_0035.jld: -0.0009924844279770601  hBP=0.91, hBA=0.70 dP=1.00 dA=0.98\n",
      "n=1 farm_C7_0036.jld: -0.0009955152279745797  hBP=0.91, hBA=0.69 dP=0.99 dA=0.98\n",
      "n=2 farm_C7_0037.jld: 0.019618125375120574  hBP=0.97, hBA=0.16 dP=0.79 dA=0.00\n",
      "n=2 farm_C7_0038.jld: 0.06522431213970377  hBP=0.56, hBA=0.45 dP=0.35 dA=0.45\n",
      "n=1 farm_C7_0039.jld: -0.0009925293606211853  hBP=0.92, hBA=0.70 dP=1.00 dA=0.98\n",
      "n=2 farm_C7_0040.jld: 0.09999995289270133  hBP=0.56, hBA=0.43 dP=0.00 dA=0.00\n",
      "n=2 farm_C7_0041.jld: 0.025528834525791206  hBP=1.00, hBA=0.00 dP=0.54 dA=0.02\n",
      "n=1 farm_C7_0042.jld: -0.0009998741236126583  hBP=0.88, hBA=0.71 dP=0.99 dA=0.99\n",
      "n=1 farm_C7_0043.jld: -0.0009940469265518233  hBP=0.88, hBA=0.72 dP=1.00 dA=0.99\n",
      "n=2 farm_C7_0044.jld: 0.07300629899943296  hBP=0.61, hBA=0.39 dP=0.65 dA=0.65\n",
      "n=2 farm_C7_0045.jld: 0.019619999160620148  hBP=1.00, hBA=0.00 dP=0.79 dA=0.00\n",
      "n=1 farm_C7_0046.jld: -0.0009890218769424157  hBP=0.91, hBA=0.66 dP=0.99 dA=0.98\n",
      "n=2 farm_C7_0047.jld: 0.009665638758170423  hBP=0.87, hBA=0.48 dP=0.89 dA=0.99\n",
      "n=2 farm_C7_0048.jld: 0.08001440935723872  hBP=0.02, hBA=0.99 dP=0.00 dA=0.24\n",
      "n=2 farm_C7_0049.jld: 0.09311401991638868  hBP=0.39, hBA=0.62 dP=0.05 dA=0.02\n",
      "n=1 farm_C7_0050.jld: -0.0009999921149925095  hBP=0.90, hBA=0.70 dP=1.00 dA=1.00\n",
      "n=2 farm_C7_0051.jld: -0.0004661158358474208  hBP=0.85, hBA=1.00 dP=0.87 dA=0.03\n",
      "n=2 farm_C7_0052.jld: -0.0009937516937902188  hBP=0.91, hBA=0.72 dP=1.00 dA=0.99\n",
      "n=2 farm_C7_0053.jld: 0.03649439676459902  hBP=0.69, hBA=0.44 dP=0.65 dA=0.83\n",
      "n=1 farm_C7_0054.jld: -0.00099954210472315  hBP=0.88, hBA=0.71 dP=1.00 dA=1.00\n",
      "n=2 farm_C7_0055.jld: 0.017609260189316935  hBP=0.94, hBA=0.49 dP=0.43 dA=0.02\n",
      "n=2 farm_C7_0056.jld: 0.05164712462098628  hBP=0.55, hBA=0.47 dP=0.75 dA=0.76\n",
      "n=2 farm_C7_0057.jld: 0.07959988587228531  hBP=0.00, hBA=0.79 dP=0.01 dA=0.81\n",
      "n=2 farm_C7_0058.jld: 0.08948482837803522  hBP=1.00, hBA=0.00 dP=0.01 dA=0.02\n",
      "n=1 farm_C7_0059.jld: -0.0009946920774693698  hBP=0.90, hBA=0.70 dP=1.00 dA=0.99\n",
      "n=1 farm_C7_0060.jld: -0.0009919507081544876  hBP=0.91, hBA=0.69 dP=0.99 dA=0.99\n",
      "n=2 farm_C7_0061.jld: 0.01961590160304346  hBP=1.00, hBA=0.00 dP=0.81 dA=0.00\n",
      "n=1 farm_C7_0062.jld: -0.0009939089435129394  hBP=0.89, hBA=0.71 dP=0.99 dA=0.98\n",
      "n=1 farm_C7_0063.jld: -0.0009965007579594808  hBP=0.91, hBA=0.68 dP=1.00 dA=0.99\n",
      "n=1 farm_C7_0064.jld: -0.0009999932443887167  hBP=0.94, hBA=0.71 dP=0.99 dA=1.00\n",
      "n=1 farm_C7_0065.jld: -0.0009999927042841676  hBP=0.89, hBA=0.73 dP=0.99 dA=0.99\n",
      "n=2 farm_C7_0066.jld: 0.04541724881815647  hBP=0.77, hBA=0.01 dP=0.29 dA=0.02\n",
      "n=1 farm_C7_0067.jld: -0.0009966771549611143  hBP=0.92, hBA=0.75 dP=1.00 dA=0.98\n",
      "n=2 farm_C7_0068.jld: 0.09881427781135556  hBP=0.49, hBA=0.52 dP=0.00 dA=0.00\n",
      "n=1 farm_C7_0069.jld: -0.0009970430834125327  hBP=0.91, hBA=0.68 dP=1.00 dA=0.99\n",
      "n=2 farm_C7_0070.jld: 0.08715026716738089  hBP=0.89, hBA=0.11 dP=0.11 dA=0.09\n",
      "n=2 farm_C7_0071.jld: 0.027804906144204045  hBP=0.90, hBA=0.28 dP=0.53 dA=0.39\n",
      "n=1 farm_C7_0072.jld: -0.0009874404250212923  hBP=0.91, hBA=0.66 dP=1.00 dA=0.98\n",
      "n=2 farm_C7_0073.jld: 0.049472658116702255  hBP=0.56, hBA=0.45 dP=0.53 dA=0.53\n",
      "n=2 farm_C7_0074.jld: 0.07892938342871034  hBP=0.83, hBA=0.15 dP=0.05 dA=0.02\n",
      "n=2 farm_C7_0075.jld: 0.01915455518445369  hBP=0.88, hBA=0.15 dP=0.71 dA=0.02\n",
      "n=2 farm_C7_0076.jld: 0.02328072114500956  hBP=0.86, hBA=0.12 dP=0.77 dA=0.04\n",
      "n=1 farm_C7_0077.jld: -0.0009949848378360095  hBP=0.90, hBA=0.68 dP=1.00 dA=0.99\n",
      "n=1 farm_C7_0078.jld: -0.000999951223362175  hBP=0.90, hBA=0.72 dP=1.00 dA=0.99\n",
      "n=1 farm_C7_0079.jld: -0.0009963932278318649  hBP=0.90, hBA=0.73 dP=1.00 dA=0.99\n",
      "n=2 farm_C7_0080.jld: 0.01959915588905975  hBP=0.89, hBA=0.06 dP=0.87 dA=0.00\n",
      "n=1 farm_C7_0081.jld: -0.0009898544691893337  hBP=0.89, hBA=0.71 dP=1.00 dA=0.98\n",
      "n=2 farm_C7_0082.jld: 0.06512286539349472  hBP=0.52, hBA=0.48 dP=0.93 dA=0.95\n",
      "n=2 farm_C7_0083.jld: 0.01953017191095707  hBP=0.97, hBA=0.34 dP=0.16 dA=0.00\n",
      "n=2 farm_C7_0084.jld: 0.012684607018046018  hBP=0.91, hBA=0.48 dP=0.54 dA=0.11\n",
      "n=2 farm_C7_0085.jld: 0.019495883320123492  hBP=0.99, hBA=0.40 dP=0.20 dA=0.01\n",
      "n=1 farm_C7_0086.jld: -0.0009987442605425773  hBP=0.90, hBA=0.65 dP=1.00 dA=0.99\n",
      "n=1 farm_C7_0087.jld: -0.0009987008511865782  hBP=0.90, hBA=0.64 dP=0.99 dA=0.99\n",
      "n=2 farm_C7_0088.jld: 0.019893642397080274  hBP=0.95, hBA=0.39 dP=0.23 dA=0.00\n",
      "n=2 farm_C7_0089.jld: 0.06156542362689987  hBP=0.56, hBA=0.44 dP=0.78 dA=0.78\n",
      "n=2 farm_C7_0090.jld: 0.018913053621946042  hBP=0.88, hBA=0.23 dP=0.57 dA=0.03\n",
      "n=1 farm_C7_0091.jld: -0.0009853071375323357  hBP=0.88, hBA=0.70 dP=0.99 dA=0.98\n",
      "n=1 farm_C7_0092.jld: -0.0009931170575389688  hBP=0.93, hBA=0.64 dP=0.99 dA=0.98\n",
      "n=2 farm_C7_0093.jld: -0.0006578984448846224  hBP=0.89, hBA=0.70 dP=0.91 dA=0.40\n",
      "n=2 farm_C7_0094.jld: 0.09782114391828843  hBP=0.38, hBA=0.63 dP=0.01 dA=0.01\n",
      "n=2 farm_C7_0095.jld: 0.019953375569273266  hBP=0.97, hBA=0.48 dP=0.66 dA=0.00\n",
      "n=1 farm_C7_0096.jld: -0.0009997188291763772  hBP=0.90, hBA=0.75 dP=1.00 dA=1.00\n",
      "n=2 farm_C7_0097.jld: 0.022498413460039286  hBP=1.00, hBA=0.00 dP=0.66 dA=0.00\n",
      "n=2 farm_C7_0098.jld: 0.014776443588359224  hBP=0.94, hBA=0.50 dP=0.33 dA=0.07\n",
      "n=1 farm_C7_0099.jld: -0.0009999112966315676  hBP=0.85, hBA=0.68 dP=1.00 dA=1.00\n",
      "n=2 farm_C7_0100.jld: 0.09788382116808525  hBP=0.26, hBA=0.73 dP=0.00 dA=0.03\n",
      "n=2 farm_C7_0101.jld: 0.019925371110672416  hBP=0.98, hBA=0.27 dP=0.17 dA=0.00\n",
      "n=2 farm_C7_0102.jld: 0.019600006576338366  hBP=0.99, hBA=0.16 dP=0.84 dA=0.00\n",
      "n=2 farm_C7_0103.jld: 0.017637905741639533  hBP=0.92, hBA=0.32 dP=0.94 dA=0.05\n",
      "n=1 farm_C7_0104.jld: -0.000984061910340818  hBP=0.90, hBA=0.65 dP=0.99 dA=0.98\n",
      "n=2 farm_C7_0105.jld: 0.06751184245832038  hBP=0.63, hBA=0.37 dP=0.39 dA=0.41\n",
      "n=1 farm_C7_0106.jld: -0.000996305894751106  hBP=0.89, hBA=0.65 dP=1.00 dA=0.99\n",
      "n=2 farm_C7_0107.jld: 0.019101637046314575  hBP=0.99, hBA=0.18 dP=0.80 dA=0.01\n",
      "n=1 farm_C7_0108.jld: -0.000995121276433514  hBP=0.91, hBA=0.69 dP=1.00 dA=0.99\n",
      "n=1 farm_C7_0109.jld: -0.0009999874046353872  hBP=0.89, hBA=0.70 dP=1.00 dA=1.00\n",
      "n=2 farm_C7_0110.jld: 0.07979640576433016  hBP=0.94, hBA=0.45 dP=0.00 dA=0.44\n",
      "n=2 farm_C7_0111.jld: 0.04397059228255019  hBP=0.83, hBA=0.33 dP=0.26 dA=0.03\n",
      "n=2 farm_C7_0112.jld: 0.01960956022897669  hBP=0.92, hBA=0.31 dP=0.91 dA=0.01\n",
      "n=1 farm_C7_0113.jld: -0.0009899564162976376  hBP=0.94, hBA=0.66 dP=1.00 dA=0.98\n",
      "n=1 farm_C7_0114.jld: -0.0009952304798175042  hBP=0.90, hBA=0.67 dP=1.00 dA=0.99\n",
      "n=1 farm_C7_0115.jld: -0.0009696254670244418  hBP=0.91, hBA=0.68 dP=0.99 dA=0.96\n",
      "n=2 farm_C7_0116.jld: -0.0009997743296570154  hBP=0.82, hBA=0.69 dP=0.99 dA=0.99\n",
      "n=1 farm_C7_0117.jld: -0.0009909193238347943  hBP=0.90, hBA=0.71 dP=0.99 dA=0.99\n",
      "n=2 farm_C7_0118.jld: 0.028640893368177576  hBP=0.84, hBA=0.20 dP=0.45 dA=0.03\n",
      "n=2 farm_C7_0119.jld: -0.0006944306750448604  hBP=0.89, hBA=0.48 dP=0.91 dA=0.46\n",
      "n=2 farm_C7_0120.jld: -0.0009838237697569298  hBP=0.89, hBA=0.69 dP=0.99 dA=0.98\n",
      "n=1 farm_C7_0121.jld: -0.000999855624535164  hBP=0.92, hBA=0.68 dP=1.00 dA=1.00\n",
      "n=2 farm_C7_0122.jld: 0.020170672689439874  hBP=0.96, hBA=0.48 dP=0.20 dA=0.00\n",
      "n=1 farm_C7_0123.jld: -0.0009955939641693155  hBP=0.89, hBA=0.66 dP=1.00 dA=0.98\n",
      "n=2 farm_C7_0124.jld: 0.04403614971776534  hBP=0.89, hBA=0.27 dP=0.22 dA=0.01\n",
      "n=2 farm_C7_0125.jld: 0.01981336853743025  hBP=0.87, hBA=0.34 dP=0.48 dA=0.00\n",
      "n=1 farm_C7_0126.jld: -0.000997197364527173  hBP=0.91, hBA=0.74 dP=1.00 dA=0.99\n",
      "n=2 farm_C7_0127.jld: -0.0008294197139712099  hBP=0.90, hBA=0.70 dP=0.96 dA=0.70\n",
      "n=1 farm_C7_0128.jld: -0.0009935405339266117  hBP=0.88, hBA=0.72 dP=1.00 dA=0.99\n",
      "n=2 farm_C7_0129.jld: 0.04647728523850614  hBP=0.87, hBA=0.32 dP=0.21 dA=0.02\n",
      "n=1 farm_C7_0130.jld: -0.0009999882057229817  hBP=0.92, hBA=0.75 dP=1.00 dA=0.99\n",
      "n=2 farm_C7_0131.jld: 0.01960223905672418  hBP=1.00, hBA=0.00 dP=0.80 dA=0.00\n",
      "n=2 farm_C7_0132.jld: 0.09358347404230855  hBP=0.85, hBA=0.15 dP=0.01 dA=0.01\n",
      "n=2 farm_C7_0133.jld: 0.019864022132145248  hBP=0.99, hBA=0.17 dP=0.31 dA=0.00\n",
      "n=1 farm_C7_0134.jld: -0.0009992621868323865  hBP=0.91, hBA=0.69 dP=1.00 dA=0.99\n",
      "n=2 farm_C7_0135.jld: 0.07994220209697651  hBP=0.02, hBA=0.97 dP=0.00 dA=0.25\n",
      "n=2 farm_C7_0136.jld: 0.019611353099781223  hBP=1.00, hBA=0.00 dP=0.83 dA=0.00\n",
      "n=1 farm_C7_0137.jld: -0.0009951590498527097  hBP=0.90, hBA=0.69 dP=1.00 dA=0.99\n",
      "n=2 farm_C7_0138.jld: 0.09764970499819338  hBP=0.49, hBA=0.50 dP=0.00 dA=0.01\n",
      "n=2 farm_C7_0139.jld: 0.06546827924120564  hBP=0.63, hBA=0.38 dP=0.51 dA=0.51\n",
      "n=2 farm_C7_0140.jld: 0.019051691856084057  hBP=0.92, hBA=0.35 dP=0.92 dA=0.00\n",
      "n=1 farm_C7_0141.jld: -0.0009889362328195808  hBP=0.92, hBA=0.69 dP=1.00 dA=0.98\n",
      "n=2 farm_C7_0142.jld: 0.09978607993480496  hBP=0.51, hBA=0.47 dP=0.00 dA=0.06\n",
      "n=2 farm_C7_0143.jld: 0.019499648098980617  hBP=1.00, hBA=0.30 dP=0.40 dA=0.06\n",
      "n=2 farm_C7_0144.jld: 0.01741709926660195  hBP=0.98, hBA=0.34 dP=0.43 dA=0.07\n",
      "n=2 farm_C7_0145.jld: 0.018685717103176118  hBP=0.98, hBA=0.48 dP=0.18 dA=0.01\n",
      "n=2 farm_C7_0146.jld: 0.0018125258043937668  hBP=0.81, hBA=0.60 dP=1.00 dA=1.00\n",
      "n=1 farm_C7_0147.jld: -0.0009937987150138632  hBP=0.91, hBA=0.64 dP=1.00 dA=0.99\n",
      "n=1 farm_C7_0148.jld: -0.0009963668378624277  hBP=0.90, hBA=0.73 dP=1.00 dA=0.98\n",
      "n=2 farm_C7_0149.jld: 0.05217200747573596  hBP=1.00, hBA=0.00 dP=0.25 dA=0.02\n",
      "n=1 farm_C7_0150.jld: -0.0009504248613509349  hBP=0.92, hBA=0.69 dP=0.99 dA=0.92\n",
      "n=2 farm_C7_0151.jld: 0.020107928725326747  hBP=0.97, hBA=0.50 dP=0.15 dA=0.00\n",
      "n=2 farm_C7_0152.jld: 0.01923776016029444  hBP=0.93, hBA=0.35 dP=0.63 dA=0.00\n",
      "n=2 farm_C7_0153.jld: 0.020387089815041833  hBP=0.97, hBA=0.28 dP=0.23 dA=0.00\n",
      "n=2 farm_C7_0154.jld: -0.0009998474040231872  hBP=0.84, hBA=0.74 dP=1.00 dA=0.99\n",
      "n=1 farm_C7_0155.jld: -0.0009977799554733455  hBP=0.91, hBA=0.68 dP=1.00 dA=0.99\n",
      "n=2 farm_C7_0156.jld: 0.019875173109434412  hBP=1.00, hBA=0.00 dP=0.24 dA=0.00\n",
      "n=2 farm_C7_0157.jld: 0.02124410412506233  hBP=0.96, hBA=0.48 dP=0.20 dA=0.00\n",
      "n=2 farm_C7_0158.jld: 0.06120717994682666  hBP=0.82, hBA=0.34 dP=0.31 dA=0.07\n",
      "n=2 farm_C7_0159.jld: 0.018531729154781722  hBP=0.88, hBA=0.32 dP=0.94 dA=0.02\n",
      "n=2 farm_C7_0160.jld: 0.0627825899327677  hBP=0.51, hBA=0.48 dP=0.75 dA=0.75\n",
      "n=2 farm_C7_0161.jld: 0.04392961861277065  hBP=0.60, hBA=0.40 dP=0.77 dA=0.77\n",
      "n=2 farm_C7_0162.jld: 0.02037041615211153  hBP=0.98, hBA=0.32 dP=0.15 dA=0.00\n",
      "n=1 farm_C7_0163.jld: -0.0009793010605539582  hBP=0.87, hBA=0.69 dP=0.98 dA=0.98\n",
      "n=2 farm_C7_0164.jld: -0.00045600534502781767  hBP=0.89, hBA=1.00 dP=0.89 dA=0.02\n",
      "n=2 farm_C7_0165.jld: 0.019823487018147675  hBP=0.94, hBA=0.45 dP=0.39 dA=0.00\n",
      "n=1 farm_C7_0166.jld: -0.0009993148279367114  hBP=0.92, hBA=0.73 dP=1.00 dA=0.99\n",
      "n=2 farm_C7_0167.jld: 0.01960051534449286  hBP=0.98, hBA=0.28 dP=0.82 dA=0.00\n",
      "n=1 farm_C7_0168.jld: -0.0009999745765760608  hBP=0.89, hBA=0.67 dP=1.00 dA=1.00\n",
      "n=2 farm_C7_0169.jld: 0.0196079889540799  hBP=1.00, hBA=0.00 dP=0.78 dA=0.00\n",
      "n=2 farm_C7_0170.jld: -0.00047606029030024347  hBP=0.91, hBA=1.00 dP=0.92 dA=0.03\n",
      "n=2 farm_C7_0171.jld: 0.05363151932961587  hBP=0.59, hBA=0.42 dP=0.85 dA=0.85\n",
      "n=2 farm_C7_0172.jld: 0.019600042353640434  hBP=0.99, hBA=0.07 dP=0.82 dA=0.00\n",
      "n=2 farm_C7_0173.jld: -0.000999071957269187  hBP=0.91, hBA=0.72 dP=1.00 dA=1.00\n",
      "n=2 farm_C7_0174.jld: 0.08456048307482483  hBP=0.71, hBA=0.28 dP=0.05 dA=0.05\n",
      "n=2 farm_C7_0175.jld: -0.0009977239739149511  hBP=0.89, hBA=0.71 dP=0.99 dA=0.99\n",
      "n=1 farm_C7_0176.jld: -0.0009976777291662382  hBP=0.92, hBA=0.73 dP=1.00 dA=0.99\n",
      "n=1 farm_C7_0177.jld: -0.0009419842526008202  hBP=0.85, hBA=0.68 dP=0.99 dA=0.98\n",
      "n=1 farm_C7_0178.jld: -0.0009899181932353112  hBP=0.90, hBA=0.72 dP=1.00 dA=0.97\n",
      "n=1 farm_C7_0179.jld: -0.0009923251391942582  hBP=0.88, hBA=0.77 dP=0.99 dA=0.98\n",
      "n=2 farm_C7_0180.jld: 0.09999999999972792  hBP=0.51, hBA=0.48 dP=0.00 dA=0.00\n",
      "n=2 farm_C7_0181.jld: -0.0009983687984437284  hBP=0.89, hBA=0.69 dP=0.99 dA=0.99\n",
      "n=2 farm_C7_0182.jld: 0.01772766461166678  hBP=0.93, hBA=0.49 dP=0.32 dA=0.03\n",
      "n=1 farm_C7_0183.jld: -0.0009969455266676719  hBP=0.88, hBA=0.71 dP=1.00 dA=0.99\n",
      "n=2 farm_C7_0184.jld: 0.0197061611786808  hBP=0.93, hBA=0.47 dP=0.64 dA=0.00\n",
      "n=2 farm_C7_0185.jld: 0.007517841668479137  hBP=0.88, hBA=0.49 dP=0.84 dA=1.00\n",
      "n=2 farm_C7_0186.jld: 0.09641075769575749  hBP=0.62, hBA=0.38 dP=0.01 dA=0.01\n",
      "n=2 farm_C7_0187.jld: -0.000828672523596874  hBP=0.92, hBA=0.77 dP=0.95 dA=0.68\n",
      "n=1 farm_C7_0188.jld: -0.0009970231030819912  hBP=0.87, hBA=0.65 dP=1.00 dA=0.99\n",
      "n=1 farm_C7_0189.jld: -0.000975423168908392  hBP=0.89, hBA=0.73 dP=0.98 dA=0.98\n",
      "n=1 farm_C7_0190.jld: -0.0009968277517576282  hBP=0.85, hBA=0.69 dP=1.00 dA=0.98\n",
      "n=2 farm_C7_0191.jld: -0.0009904007380430939  hBP=0.91, hBA=0.77 dP=1.00 dA=0.98\n",
      "n=1 farm_C7_0192.jld: -0.0009962141618582933  hBP=0.89, hBA=0.72 dP=1.00 dA=0.99\n",
      "n=1 farm_C7_0193.jld: -0.000995675791272447  hBP=0.91, hBA=0.70 dP=1.00 dA=0.99\n",
      "n=2 farm_C7_0194.jld: 0.01956355089251761  hBP=0.93, hBA=0.24 dP=0.83 dA=0.00\n",
      "n=2 farm_C7_0195.jld: 0.04631701436390023  hBP=1.00, hBA=0.00 dP=0.33 dA=0.03\n",
      "n=1 farm_C7_0196.jld: -0.000999210735759866  hBP=0.88, hBA=0.69 dP=1.00 dA=0.99\n",
      "n=2 farm_C7_0197.jld: 0.09856126634090756  hBP=0.50, hBA=0.50 dP=0.00 dA=0.00\n",
      "n=2 farm_C7_0198.jld: 0.07858749315132522  hBP=0.00, hBA=0.68 dP=0.00 dA=0.86\n",
      "n=1 farm_C7_0199.jld: -0.0009998316153155841  hBP=0.86, hBA=0.66 dP=1.00 dA=0.99\n",
      "n=2 farm_C7_0200.jld: 0.019686990830678888  hBP=0.94, hBA=0.48 dP=0.60 dA=0.00\n",
      "n=1 farm_C7_0201.jld: -0.0009997838400240464  hBP=0.90, hBA=0.70 dP=1.00 dA=0.99\n",
      "n=2 farm_C7_0202.jld: 0.06215883485411959  hBP=0.61, hBA=0.39 dP=0.72 dA=0.72\n",
      "n=1 farm_C7_0203.jld: -0.0009894821055584776  hBP=0.91, hBA=0.71 dP=0.99 dA=0.99\n",
      "n=2 farm_C7_0204.jld: 0.01960102328766983  hBP=1.00, hBA=0.34 dP=0.82 dA=0.02\n",
      "n=2 farm_C7_0205.jld: 0.019586368936266925  hBP=0.96, hBA=0.28 dP=0.86 dA=0.00\n",
      "n=1 farm_C7_0206.jld: -0.00099996882286948  hBP=0.91, hBA=0.65 dP=1.00 dA=1.00\n",
      "n=1 farm_C7_0207.jld: -0.0009971009483138939  hBP=0.85, hBA=0.66 dP=1.00 dA=0.99\n",
      "n=2 farm_C7_0208.jld: 0.09830489897053502  hBP=0.56, hBA=0.43 dP=0.01 dA=0.02\n",
      "n=2 farm_C7_0209.jld: -0.000999952341170285  hBP=0.90, hBA=0.72 dP=1.00 dA=0.99\n",
      "n=2 farm_C7_0210.jld: 0.019540359478097614  hBP=0.88, hBA=0.27 dP=0.95 dA=0.00\n",
      "n=2 farm_C7_0211.jld: 0.039083113732067756  hBP=0.73, hBA=0.43 dP=0.37 dA=0.04\n",
      "n=1 farm_C7_0212.jld: -0.0009999728036731714  hBP=0.86, hBA=0.72 dP=1.00 dA=1.00\n",
      "n=2 farm_C7_0213.jld: -0.0009606270229047548  hBP=0.93, hBA=0.68 dP=0.99 dA=0.94\n",
      "n=2 farm_C7_0214.jld: 0.019600070157238445  hBP=0.99, hBA=0.06 dP=0.80 dA=0.00\n",
      "n=1 farm_C7_0215.jld: -0.0009984050685573327  hBP=0.92, hBA=0.69 dP=1.00 dA=0.99\n",
      "n=2 farm_C7_0216.jld: 0.020381192451986545  hBP=0.95, hBA=0.39 dP=0.18 dA=0.00\n",
      "n=2 farm_C7_0217.jld: -0.0006881499992631018  hBP=0.92, hBA=0.85 dP=0.96 dA=0.35\n",
      "n=2 farm_C7_0218.jld: 0.0999999996577954  hBP=0.58, hBA=0.41 dP=0.00 dA=0.00\n",
      "n=1 farm_C7_0219.jld: -0.0009962424387325952  hBP=0.89, hBA=0.69 dP=0.99 dA=0.98\n",
      "n=1 farm_C7_0220.jld: -0.0009877247452426945  hBP=0.91, hBA=0.69 dP=0.99 dA=0.98\n",
      "n=1 farm_C7_0221.jld: -0.0009983082282734224  hBP=0.92, hBA=0.70 dP=1.00 dA=0.98\n",
      "n=2 farm_C7_0222.jld: -0.000335805298909236  hBP=0.87, hBA=0.63 dP=1.00 dA=1.00\n",
      "n=1 farm_C7_0223.jld: -0.0009907816444406415  hBP=0.91, hBA=0.67 dP=1.00 dA=0.98\n",
      "n=1 farm_C7_0224.jld: -0.0009999935164509276  hBP=0.85, hBA=0.69 dP=1.00 dA=1.00\n",
      "n=2 farm_C7_0225.jld: -0.0009999933950117152  hBP=0.91, hBA=0.68 dP=1.00 dA=1.00\n",
      "n=1 farm_C7_0226.jld: -0.0009968024661624185  hBP=0.91, hBA=0.74 dP=1.00 dA=0.98\n",
      "n=1 farm_C7_0227.jld: -0.0009932476065259788  hBP=0.86, hBA=0.73 dP=1.00 dA=0.99\n",
      "n=2 farm_C7_0228.jld: 0.018088087371943357  hBP=0.98, hBA=0.34 dP=0.83 dA=0.01\n",
      "n=2 farm_C7_0229.jld: 0.07953771486554466  hBP=0.75, hBA=0.25 dP=0.20 dA=0.19\n",
      "n=1 farm_C7_0230.jld: -0.0009996634761728661  hBP=0.87, hBA=0.68 dP=1.00 dA=0.99\n",
      "n=2 farm_C7_0231.jld: 0.04492968145481394  hBP=0.87, hBA=0.24 dP=0.28 dA=0.01\n",
      "n=1 farm_C7_0232.jld: -0.000999987859679867  hBP=0.87, hBA=0.72 dP=1.00 dA=1.00\n",
      "n=1 farm_C7_0233.jld: -0.0009998855766344683  hBP=0.84, hBA=0.66 dP=1.00 dA=0.99\n",
      "n=2 farm_C7_0234.jld: -0.0005274878540260738  hBP=0.92, hBA=0.78 dP=1.00 dA=0.46\n",
      "n=1 farm_C7_0235.jld: -0.0009846776272838856  hBP=0.94, hBA=0.74 dP=1.00 dA=0.97\n",
      "n=1 farm_C7_0236.jld: -0.0009956749174204653  hBP=0.91, hBA=0.72 dP=1.00 dA=0.99\n",
      "n=2 farm_C7_0237.jld: 0.11230749629688953  hBP=0.34, hBA=0.67 dP=0.02 dA=0.04\n",
      "n=1 farm_C7_0238.jld: -0.000984248859279345  hBP=0.89, hBA=0.66 dP=1.00 dA=0.97\n",
      "n=1 farm_C7_0239.jld: -0.000993004394496689  hBP=0.86, hBA=0.74 dP=0.99 dA=0.98\n",
      "n=1 farm_C7_0240.jld: -0.0009930334593041873  hBP=0.89, hBA=0.68 dP=0.98 dA=0.99\n",
      "n=2 farm_C7_0241.jld: -0.000999993467521616  hBP=0.88, hBA=0.68 dP=1.00 dA=1.00\n",
      "n=2 farm_C7_0242.jld: 0.01953255933138251  hBP=0.92, hBA=0.24 dP=0.95 dA=0.00\n",
      "n=2 farm_C7_0243.jld: -0.0009626043408084102  hBP=0.89, hBA=0.62 dP=0.98 dA=0.95\n",
      "n=2 farm_C7_0244.jld: 0.04787508591665035  hBP=0.59, hBA=0.40 dP=0.77 dA=0.77\n",
      "n=2 farm_C7_0245.jld: -0.000995633916073457  hBP=0.91, hBA=0.72 dP=0.99 dA=0.99\n",
      "n=2 farm_C7_0246.jld: 0.09073402222659578  hBP=1.00, hBA=0.00 dP=0.00 dA=0.00\n",
      "n=1 farm_C7_0247.jld: -0.000995414352386798  hBP=0.92, hBA=0.72 dP=1.00 dA=0.99\n",
      "\n",
      " For ntries=1, success rate 100.00%, for ntries=2, rate 10.71%\n"
     ]
    },
    {
     "data": {
      "text/plain": [
       "3×2 Array{Any,2}:\n",
       "    \"nguys\"     \"ngoods\"\n",
       " 107         107        \n",
       " 140          15        "
      ]
     },
     "execution_count": 85,
     "metadata": {},
     "output_type": "execute_result"
    }
   ],
   "source": [
    "# Sanity check on whether we are getting results in the trajectory that matches algorithm\n",
    "# behavior\n",
    "\n",
    "ngoods = [0, 0]\n",
    "nguys  = [0, 0]\n",
    "\n",
    "farm_id = \"C7\"; farmdir = \"../NewFarms\"\n",
    "for f in filter(x -> startswith(x, \"farm_\" * farm_id * \"_\"), readdir(farmdir * \"/\"))\n",
    "    d = load(farmdir * \"/\" * f)\n",
    "    @printf(\"n=%d %s: \", d[\"ntries\"], f); \n",
    "    if d[\"ntries\"]==1\n",
    "        print(d[\"traj1\"][2,end])        \n",
    "        nguys[1] += 1\n",
    "        ngoods[1] += d[\"traj1\"][2,end] <= -0.0009 ? 1 : 0\n",
    "    else\n",
    "        print(d[\"traj3\"][2,end])\n",
    "        nguys[2] += 1\n",
    "        ngoods[2] += d[\"traj3\"][2,end] <= -0.0009 ? 1 : 0\n",
    "    end\n",
    "    @printf(\"  hBP=%.2f, hBA=%.2f dP=%.2f dA=%.2f\", d[\"hBP\"][1], d[\"hBA\"][1], \n",
    "        d[\"dP\"][1], d[\"dA\"][1])\n",
    "    @printf(\"\\n\")\n",
    "end\n",
    "\n",
    "@printf(\"\\n For ntries=1, success rate %.2f%%, for ntries=2, rate %.2f%%\\n\", 100*ngoods[1]/nguys[1], 100*ngoods[2]/nguys[2])\n",
    "\n",
    "[\"nguys\" \"ngoods\" ; [nguys ngoods]]"
   ]
  },
  {
   "cell_type": "code",
   "execution_count": 81,
   "metadata": {
    "collapsed": false
   },
   "outputs": [
    {
     "data": {
      "text/plain": [
       "3×2 Array{Any,2}:\n",
       "   \"nguys\"    \"ngoods\"\n",
       " 39         39        \n",
       " 30          1        "
      ]
     },
     "execution_count": 81,
     "metadata": {},
     "output_type": "execute_result"
    }
   ],
   "source": [
    "# For C6:\n",
    "\n",
    "For ntries=1, success rate 100.00%, for ntries=2, rate 13.29%\n",
    "Out[84]:\n",
    "3×2 Array{Any,2}:\n",
    "    \"nguys\"     \"ngoods\"\n",
    " 111         111        \n",
    " 143          19     \n",
    "    \n",
    "    \n",
    "# For C7:\n",
    "For ntries=1, success rate 100.00%, for ntries=2, rate 10.71%\n",
    "Out[85]:\n",
    "3×2 Array{Any,2}:\n",
    "    \"nguys\"     \"ngoods\"\n",
    " 107         107        \n",
    " 140          15      "
   ]
  },
  {
   "cell_type": "code",
   "execution_count": null,
   "metadata": {
    "collapsed": false
   },
   "outputs": [],
   "source": [
    "d = load(\"../NewFarms/farm_C6_0002.jld\")\n",
    "\n",
    "mypars     = d[\"mypars\"]\n",
    "extra_pars = d[\"extra_pars\"] \n",
    "args       = d[\"args\"]\n",
    "pars1      = d[\"pars1\"]\n",
    "\n",
    "cost, cost1s, cost2s, hP, hA, dP, dA, hBP, hBA = JJ(400, 400; verbose=false, \n",
    "            make_dict(args, pars1, merge(merge(mypars, extra_pars)))...)\n"
   ]
  },
  {
   "cell_type": "code",
   "execution_count": null,
   "metadata": {
    "collapsed": false
   },
   "outputs": [],
   "source": [
    "extra_pars[:seedrand]"
   ]
  },
  {
   "cell_type": "code",
   "execution_count": null,
   "metadata": {
    "collapsed": false
   },
   "outputs": [],
   "source": [
    "~( abs(hBP[1]-0.9)<0.075 && abs(hBA[1]-0.7)<0.075 && dP[1] > 0.8 && dA[1] > 0.8)"
   ]
  },
  {
   "cell_type": "code",
   "execution_count": null,
   "metadata": {
    "collapsed": false
   },
   "outputs": [],
   "source": [
    "#@include_me  analyze_reduced_farm.jl\n",
    "\n",
    "\"\"\"\n",
    "    go_over_good_runs(files, I)\n",
    "\n",
    "Given a list of files, and a list of indices into those files, iterates over the indicated\n",
    "filenames, running show_run() on them, and then asking for user input.\n",
    "\"\"\"\n",
    "function go_over_good_runs(files, I)\n",
    "    for k=1:length(I)\n",
    "        show_run(files[I[k]])\n",
    "\n",
    "        @printf(\"Any key to continue, q to quit: \")\n",
    "        ans = chomp(readline())\n",
    "        if ans==\"q\" || ans==\"Q\"\n",
    "            break\n",
    "        end\n",
    "    end\n",
    "end\n"
   ]
  },
  {
   "cell_type": "code",
   "execution_count": null,
   "metadata": {
    "collapsed": false
   },
   "outputs": [],
   "source": [
    "go_over_good_runs(files, I)"
   ]
  },
  {
   "cell_type": "code",
   "execution_count": null,
   "metadata": {
    "collapsed": false
   },
   "outputs": [],
   "source": [
    "#@include_me analyze_reduced_farm.jl\n",
    "\n",
    "# show_run(\"farm_C3_0027.jld\", 400; opto_times=[\"trial_start\", \"trial_end\"], opto_strength=0.75)\n",
    "# show_run(\"farm_C3_0027.jld\", 400; opto_times=[\"target_start-0.5\", \"target_start\"], opto_strength=0, \n",
    "#   const_pro_bias=0, anti_rule_strength=0.05)\n",
    "show_run(\"farm_C3_0027.jld\", 400; opto_times=[\"target_start+0.016\", \"target_end\"], opto_strength=0.4, \n",
    "    const_pro_bias=0.02476, anti_rule_strength=0.054)"
   ]
  },
  {
   "cell_type": "code",
   "execution_count": null,
   "metadata": {
    "collapsed": false
   },
   "outputs": [],
   "source": [
    "#@include_me analyze_reduced_farm.jl\n",
    "\n",
    "#  TARGET PERIOD OPTO\n",
    "\n",
    "run_name = \"farm_C3_0027.jld\"\n",
    "recompute_me = false; if recompute_me\n",
    "    ostrengths = 0.5:0.1:1\n",
    "    phits      = zeros(1, length(ostrengths))\n",
    "    ahits      = zeros(1, length(ostrengths))\n",
    "\n",
    "    for i=1:length(ostrengths)\n",
    "        phits[i], ahits[i] = show_run(run_name, 4000; \n",
    "        opto_times=[\"target_start+0.016\", \"target_end+0.016\"], opto_strength=ostrengths[i])\n",
    "        @printf(\"ostrength=%g, phits=%.1f, ahits=%.1f\\n\", ostrengths[i], phits[i], ahits[i])\n",
    "    end\n",
    "\n",
    "    @save(\"Temp/opto_target.jld\", ostrengths, ahits, phits)\n",
    "else\n",
    "    ostrengths, ahits, phits = load(\"Temp/opto_target.jld\", \"ostrengths\", \"ahits\", \"phits\")\n",
    "end\n",
    "\n",
    "figure(3);clf();\n",
    "plot(ostrengths, phits[:], \".-\", ostrengths, ahits[:], \".-\")\n",
    "legend([\"pro\", \"anti\"])\n",
    "xlabel(\"opto strength\")\n",
    "ylabel(\"binarized hits\")\n",
    "title(run_name * \" : TARGET PERIOD opto\")\n",
    "grid(\"on\")\n",
    "\n",
    "\n",
    "#  DELAY PERIOD OPTO  ---------\n",
    "\n",
    "recompute_me = false; if recompute_me\n",
    "    ostrengths = 0.5:0.1:1\n",
    "    phits      = zeros(1, length(ostrengths))\n",
    "    ahits      = zeros(1, length(ostrengths))\n",
    "\n",
    "    for i=1:length(ostrengths)\n",
    "        phits[i], ahits[i] = show_run(run_name, 4000; \n",
    "        opto_times=[\"target_start-0.5\", \"target_start\"], opto_strength=ostrengths[i])\n",
    "        @printf(\"ostrength=%g, phits=%.1f, ahits=%.1f\\n\", ostrengths[i], phits[i], ahits[i])\n",
    "    end\n",
    "    @save(\"Temp/opto_delay.jld\", ostrengths, ahits, phits)\n",
    "else\n",
    "    ostrengths, ahits, phits = load(\"Temp/opto_delay.jld\", \"ostrengths\", \"ahits\", \"phits\")\n",
    "end\n",
    "\n",
    "figure(4);clf();\n",
    "plot(ostrengths, phits[:], \".-\", ostrengths, ahits[:], \".-\")\n",
    "legend([\"pro\", \"anti\"])\n",
    "xlabel(\"opto strength\")\n",
    "ylabel(\"binarized hits\")\n",
    "title(run_name * \" : last 500 ms of DELAY PERIOD opto\")\n",
    "grid(\"on\")"
   ]
  },
  {
   "cell_type": "code",
   "execution_count": null,
   "metadata": {
    "collapsed": false
   },
   "outputs": [],
   "source": []
  },
  {
   "cell_type": "markdown",
   "metadata": {},
   "source": [
    "## workspace for double_search.jl"
   ]
  },
  {
   "cell_type": "code",
   "execution_count": null,
   "metadata": {
    "collapsed": false
   },
   "outputs": [],
   "source": [
    "extra_pars[:seedrand] = 1510799260433 # Int64(round(1000*time()))   # 1510782006169 causes lin.alg error but then looks like it'll succeed\n",
    "srand(extra_pars[:seedrand])\n",
    "\n",
    "    args = []; seed = []; bbox = Dict()\n",
    "    for k in keys(search_conditions)\n",
    "        search_box = search_conditions[k][2]\n",
    "        args = [args; String(k)]\n",
    "        # --- search within the indicated search range:\n",
    "        myseed = search_conditions[k][1] + search_range*(rand()-0.5)*diff(search_box); myseed = myseed[1]\n",
    "        if myseed > search_box[2]; myseed = search_box[2]; end\n",
    "        if myseed < search_box[1]; myseed = search_box[1]; end\n",
    "        seed = [seed ;  myseed]\n",
    "        # --- No search, just start at the indicated position:\n",
    "        # seed = [seed ; search_conditions[k][1]]\n",
    "        bbox = merge(bbox, Dict(k => Array{Float64}(search_conditions[k][3])))\n",
    "    end\n",
    "    args = Array{String}(args)\n",
    "    seed = Array{Float64}(seed)\n",
    "\n",
    "\n",
    "func1 =  (;params...) -> JJ(mypars[:nPro], mypars[:nAnti]; verbose=false, \n",
    "    merge(merge(mypars, extra_pars), Dict(params))...)[1]\n",
    "\n",
    "t_pars = [0.378, 0.164, 0.001, -0.203, 0.589, -0.673, 0.105, -0.582, 0.471]\n",
    "\n",
    "pars, traj, cost, cpm_traj, ftraj = bbox_Hessian_keyword_minimization(t_pars, args, bbox, func1, \n",
    "    start_eta = 0.1, tol=1e-12, \n",
    "    verbose=true, verbose_every=1, maxiter=1000)\n"
   ]
  },
  {
   "cell_type": "code",
   "execution_count": null,
   "metadata": {
    "collapsed": false
   },
   "outputs": [],
   "source": [
    "testruns = 1600\n",
    "\n",
    "pars = [0.356712, 0.000825015, 0.0218232, -0.0364268, 0.678269, -2.97884, 0.153528, -0.484789, 1.07313]\n",
    "\n",
    "cost, cost1s, cost2s, hP, hA, dP, dA, hBP, hBA = JJ(testruns, testruns; verbose=false, \n",
    "                make_dict(args, pars, merge(merge(mypars, extra_pars)))...)\n"
   ]
  },
  {
   "cell_type": "code",
   "execution_count": null,
   "metadata": {
    "collapsed": false
   },
   "outputs": [],
   "source": [
    "G = load(\"FarmFields/farm_C4_0041.jld\")"
   ]
  },
  {
   "cell_type": "code",
   "execution_count": null,
   "metadata": {
    "collapsed": false
   },
   "outputs": [],
   "source": [
    "( abs(hBP[1]-0.9)<0.05 && abs(hBA[1]-0.7)<0.05 && dP[1] > 0.8 && dA[1] > 0.8)"
   ]
  },
  {
   "cell_type": "code",
   "execution_count": null,
   "metadata": {
    "collapsed": false
   },
   "outputs": [],
   "source": []
  },
  {
   "cell_type": "code",
   "execution_count": null,
   "metadata": {
    "collapsed": false
   },
   "outputs": [],
   "source": [
    "    args = []; seed = []; bbox = Dict()\n",
    "    for k in keys(search_conditions)\n",
    "        search_box = search_conditions[k][2]\n",
    "        args = [args; String(k)]\n",
    "        # --- search within the indicated search range:\n",
    "        myseed = search_conditions[k][1] + search_range*(rand()-0.5)*diff(search_box); myseed = myseed[1]\n",
    "        if myseed > search_box[2]; myseed = search_box[2]; end\n",
    "        if myseed < search_box[1]; myseed = search_box[1]; end\n",
    "        seed = [seed ;  myseed]\n",
    "        # --- No search, just start at the indicated position:\n",
    "        # seed = [seed ; search_conditions[k][1]]\n",
    "        bbox = merge(bbox, Dict(k => Array{Float64}(search_conditions[k][3])))\n",
    "    end\n",
    "    args = Array{String}(args)\n",
    "    seed = Array{Float64}(seed)\n",
    "\n",
    "\n",
    "    maxiter1 = 10;  # for func1, the regular search\n",
    "    maxiter2 = 20;  # for func2, the reduced search\n",
    "\n",
    "    func1 =  (;params...) -> JJ(mypars[:nPro], mypars[:nAnti]; verbose=false, \n",
    "    merge(merge(mypars, extra_pars), Dict(params))...)[1]\n",
    "    \n",
    "    # For func2:\n",
    "    extra_pars[:opto_conditions] = []    \n",
    "    extra_pars[:plot_list] = [1:10;]    \n",
    "    extra_pars[:plot_condition] = 0\n",
    "\n",
    "    func2 =  (;params...) -> new_J(10, 10; verbose=false, merge(merge(mypars, extra_pars), Dict(params))...)\n",
    "\n",
    "    # For func2:\n",
    "    # This function will get the output of new_J() at each iteration, and will return \"true\", stopping\n",
    "    # the minimization, if hBP and hBA are both above a threshold.\n",
    "    function stopping_func(;cost=0, func_out=[], ignored_extra_params...)\n",
    "        costf, dP, dA, hBP, hBA = func_out\n",
    "        return hBP[1]>=0.6 && hBA[1] >= 0.6\n",
    "    end\n",
    "\n",
    "        extra_pars[:plot_list] = []\n",
    "        cost, cost1s, cost2s, hP, hA, dP, dA, hBP, hBA = JJ(100, 100; verbose=false, \n",
    "            make_dict(args, seed, merge(merge(mypars, extra_pars)))...)\n"
   ]
  },
  {
   "cell_type": "code",
   "execution_count": null,
   "metadata": {
    "collapsed": false
   },
   "outputs": [],
   "source": [
    "dA"
   ]
  },
  {
   "cell_type": "code",
   "execution_count": null,
   "metadata": {
    "collapsed": true
   },
   "outputs": [],
   "source": []
  },
  {
   "cell_type": "code",
   "execution_count": null,
   "metadata": {
    "collapsed": false
   },
   "outputs": [],
   "source": [
    "search_conditions = Dict(   # :param    default_start   search_box  bound_box\n",
    ":vW     =>                   [mypars[:vW],                       [-0.5, 0.5],  [-3,   3]], \n",
    ":hW     =>                   [mypars[:hW],                       [-0.5, 0.5],  [-3,   3]],\n",
    ":dW     =>                   [mypars[:dW],                       [-0.5, 0.5],  [-3,   3]],\n",
    ":sW     =>                   [mypars[:sW],                       [0,    0.5],  [0,    3]],\n",
    ":sigma  =>                   [0.11,                              [0.1,  0.2],  [0.1, 0.4]],\n",
    ":constant_excitation      => [mypars[:constant_excitation],      [-1,     1],  [-2,   2]], \n",
    ":target_period_excitation => [mypars[:target_period_excitation], [0.001,0.5],  [0     4]],\n",
    ":right_light_excitation   => [mypars[:right_light_excitation],   [0.05, 0.5],  [0.05, 4]],\n",
    ":const_pro_bias           => [mypars[:const_pro_bias],           [-0.5, 0.5],  [-2,   2]],\n",
    "# :opto_strength            => [mypars[:opto_strength],            [0.7, 0.99],  [0,    1]],\n",
    ")\n",
    "\n",
    "\n",
    "\n",
    "args = []; seed = []; bbox = Dict()\n",
    "\n",
    "for k in keys(search_conditions)\n",
    "    search_box = search_conditions[k][2]\n",
    "    args = [args; String(k)]\n",
    "    # myseed = rand()*diff(search_box) + search_box[1]; myseed = myseed[1]    \n",
    "    # seed = [seed ;  myseed]    \n",
    "    seed = [seed ; search_conditions[k][1]]    \n",
    "    bbox = merge(bbox, Dict(k => Array{Float64}(search_conditions[k][3])))    \n",
    "end\n",
    "args = Array{String}(args)\n",
    "seed = Array{Float64}(seed)\n",
    "\n",
    "func =  (;params...) -> new_J(10, 10; verbose=true,  merge(merge(mypars, extra_pars), Dict(params))...)[1]\n",
    "\n",
    "pars, traj, cost, cpm_traj, ftraj = bbox_Hessian_keyword_minimization(seed, args, bbox, func, \n",
    "            start_eta = 0.1, tol=1e-12, \n",
    "            verbose=true, verbose_every=1, maxiter=1000)\n"
   ]
  },
  {
   "cell_type": "code",
   "execution_count": null,
   "metadata": {
    "collapsed": true
   },
   "outputs": [],
   "source": []
  },
  {
   "cell_type": "code",
   "execution_count": null,
   "metadata": {
    "collapsed": true
   },
   "outputs": [],
   "source": []
  },
  {
   "cell_type": "code",
   "execution_count": null,
   "metadata": {
    "collapsed": false
   },
   "outputs": [],
   "source": [
    "\n",
    "\n",
    "mypars = Dict(\n",
    ":init_add               =>          0,\n",
    ":const_add              =>          0,\n",
    ":noise                  =>          Any[],\n",
    ":input                  =>          0,\n",
    ":seedrand               =>          1510340076445,\n",
    ":start_anti             =>          [-0.5, -0.5, -0.5, -0.5],\n",
    ":start_pro              =>          [-0.5, -0.5, -0.5, -0.5],\n",
    ":rule_and_delay_period  =>          1.2,\n",
    ":rule_and_delay_periods =>          [1.2],\n",
    ":target_period          =>          0.3,\n",
    ":target_periods         =>          [0.3],\n",
    ":post_target_period     =>          0.3,\n",
    ":post_target_periods    =>          [0.3],\n",
    ":anti_rule_strength     =>          0.054,\n",
    ":U_rest                 =>          0,\n",
    ":theta                  =>          0.05,\n",
    ":beta                   =>          0.5,\n",
    ":g_leak                 =>          1,\n",
    ":nsteps                 =>          301,\n",
    ":dt                     =>          0.024,\n",
    ":tau                    =>          0.09,\n",
    ":right_light_excitation =>          0.49924152955481954,\n",
    ":opto_strength          =>          0.85,\n",
    ":opto_periods           =>          String[\n",
    "                                    \"trial_start\" \"trial_start\"; \n",
    "                                    \"trial_start\" \"trial_end\"; \n",
    "                                    \"trial_start\" \"target_start/2\"; \n",
    "                                    \"target_start/2\" \"target_start\"; \n",
    "                                    \"target_start\" \"target_end\"],\n",
    ":opto_targets          =>           [\n",
    "                                    0.9 0.7; \n",
    "                                    0.9 0.5; \n",
    "                                    0.9 0.7; \n",
    "                                    0.9 0.5; \n",
    "                                    0.9 0.7],\n",
    ":theta2 => 0.15,\n",
    ":theta1 => 0.05,\n",
    ":sigma => 0.01,\n",
    ":cbeta => 0.04,\n",
    ":sW => 0.6416875048295452,\n",
    ":hW => 0.054701836208134846,\n",
    ":dW => 0.1267124266934907,\n",
    ":vW => -1.588850577499782,\n",
    ":constant_excitation => -0.37242520737694207,\n",
    ":const_pro_bias => 0.04366897857834884,\n",
    ":target_period_excitation => 0.15315254453690974,\n",
    ":right_light_pro_extra => 0,\n",
    ":pro_rule_strength => 0.05,\n",
    ":nPro => 100,\n",
    ":nAnti => 100,\n",
    ")\n"
   ]
  },
  {
   "cell_type": "code",
   "execution_count": null,
   "metadata": {
    "collapsed": false
   },
   "outputs": [],
   "source": [
    "\n",
    "\n",
    "extra_pars = Dict(\n",
    ":plot_list        =>   [1:10;], \n",
    ":plot_condition   =>   1,\n",
    ":verbose          =>   true,\n",
    ":opto_conditions  =>   Array{Any}(0, 4),\n",
    ")\n",
    "\n",
    "\n",
    "search_conditions = Dict(   # :param    default_start   search_box  bound_box\n",
    ":vW     =>                   [mypars[:vW],                       [-0.5, 0.5],  [-3,   3]], \n",
    ":hW     =>                   [mypars[:hW],                       [-0.5, 0.5],  [-3,   3]],\n",
    ":dW     =>                   [mypars[:dW],                       [-0.5, 0.5],  [-3,   3]],\n",
    ":sW     =>                   [mypars[:sW],                       [0,    0.5],  [0,    3]],\n",
    ":sigma  =>                   [0.11,                              [0.1,  0.2],  [0.1, 0.4]],\n",
    ":constant_excitation      => [mypars[:constant_excitation],      [-1,     1],  [-2,   2]], \n",
    ":target_period_excitation => [mypars[:target_period_excitation], [0.001,0.5],  [0     4]],\n",
    ":right_light_excitation   => [mypars[:right_light_excitation],   [0.05, 0.5],  [0.05, 4]],\n",
    ":const_pro_bias           => [mypars[:const_pro_bias],           [-0.5, 0.5],  [-2,   2]],\n",
    "# :opto_strength            => [mypars[:opto_strength],            [0.7, 0.99],  [0,    1]],\n",
    ")\n",
    "\n"
   ]
  },
  {
   "cell_type": "code",
   "execution_count": null,
   "metadata": {
    "collapsed": false
   },
   "outputs": [],
   "source": [
    "a=(1, 2, 3, 4, \"5\")\n",
    "\n",
    "b,c,d,e,f = a\n",
    "f\n"
   ]
  },
  {
   "cell_type": "code",
   "execution_count": null,
   "metadata": {
    "collapsed": true
   },
   "outputs": [],
   "source": []
  },
  {
   "cell_type": "code",
   "execution_count": null,
   "metadata": {
    "collapsed": true
   },
   "outputs": [],
   "source": [
    "#@include_me interesting_minimization.jl\n",
    "\n",
    "include(\"pro_anti.jl\")"
   ]
  },
  {
   "cell_type": "code",
   "execution_count": null,
   "metadata": {
    "collapsed": false
   },
   "outputs": [],
   "source": [
    "#@include_me interesting_minimization.jl\n",
    "\n",
    "pygui(true)\n",
    "d = load(\"FarmFields/farm_C3_0005.jld\")\n",
    "mypars     = d[\"mypars\"]\n",
    "extra_pars = d[\"extra_pars\"] \n",
    "\n",
    "seed = d[\"seed\"]\n",
    "args = d[\"args\"]\n",
    "bbox = d[\"bbox\"]\n",
    "\n",
    "extra_pars[:opto_conditions] = []\n",
    "extra_pars[:plot_list] = [1:10;]\n",
    "extra_pars[:plot_condition] = 1\n",
    "\n",
    "# This function will get the output of new_J() at each iteration, and will return \"true\", stopping\n",
    "# the minimization, if hBP and hBA are both above a threshold.\n",
    "function stopping_func(;cost=0, func_out=[], ignored_extra_params...)\n",
    "    costf, dP, dA, hBP, hBA = func_out\n",
    "    return hBP[1]>=0.6 && hBA[1] >= 0.6\n",
    "end\n",
    "\n",
    "func =  (;params...) -> new_J(10, 10; verbose=true, merge(merge(mypars, extra_pars), Dict(params))...)\n",
    "\n",
    "t_pars, traj, cost, cpm_traj, ftraj = bbox_Hessian_keyword_minimization(seed, args, bbox, func, \n",
    "    stopping_function = stopping_func, \n",
    "start_eta = 0.1, tol=1e-12, verbose=true, verbose_every=1, maxiter=2000)\n"
   ]
  },
  {
   "cell_type": "code",
   "execution_count": null,
   "metadata": {
    "collapsed": false
   },
   "outputs": [],
   "source": []
  },
  {
   "cell_type": "code",
   "execution_count": null,
   "metadata": {
    "collapsed": false
   },
   "outputs": [],
   "source": [
    "t_pars = pars"
   ]
  },
  {
   "cell_type": "code",
   "execution_count": null,
   "metadata": {
    "collapsed": false
   },
   "outputs": [],
   "source": [
    "#@include_me  interesting_minimization.jl\n",
    "\n",
    "seed = t_pars\n",
    "\n",
    "func =  (;params...) -> JJ(mypars[:nPro], mypars[:nAnti]; verbose=false, \n",
    "    merge(merge(mypars, extra_pars), Dict(params))...)\n",
    "\n",
    "\n",
    "pars, traj, cost, cpm_traj, ftraj = bbox_Hessian_keyword_minimization(seed, args, bbox, func, \n",
    "    start_eta = 0.1, tol=1e-12, verbose=true, verbose_every=1, maxiter=1000)\n"
   ]
  },
  {
   "cell_type": "code",
   "execution_count": null,
   "metadata": {
    "collapsed": false
   },
   "outputs": [],
   "source": [
    "README = \"\"\"\n",
    "For the code that generated this file, see interesting_minimization.jl.\n",
    "\n",
    "The thing that is interesting, is that at the end of ths minimization, things are going VERY slowly, \n",
    "and cos theta is almost always close to 0! What is going on?  What is the landscape like around\n",
    "there? Are we really taking nicely-directed Hessian jumps?  Or is the wall screwing that up?\n",
    "\"\"\"\n",
    "\n",
    "@save \"Temp/interesting_minimization.jld\"\n"
   ]
  },
  {
   "cell_type": "code",
   "execution_count": null,
   "metadata": {
    "collapsed": false
   },
   "outputs": [],
   "source": [
    "gu = true\n",
    "\n",
    "@printf(\"gu is %s\\n\", false)"
   ]
  },
  {
   "cell_type": "code",
   "execution_count": null,
   "metadata": {
    "collapsed": false
   },
   "outputs": [],
   "source": [
    "\n",
    "\n",
    "\n",
    "fbasename = \"FarmFields/farm_C4_\"\n",
    "\n",
    "# while true\n",
    "    args = []; seed = []; bbox = Dict()\n",
    "    for k in keys(search_conditions)\n",
    "        search_box = search_conditions[k][2]\n",
    "        args = [args; String(k)]\n",
    "        myseed = rand()*diff(search_box) + search_box[1]; myseed = myseed[1]\n",
    "        seed = [seed ;  myseed]\n",
    "        # seed = [seed ; search_conditions[k][1]]\n",
    "        bbox = merge(bbox, Dict(k => Array{Float64}(search_conditions[k][3])))\n",
    "    end\n",
    "    args = Array{String}(args)\n",
    "    seed = Array{Float64}(seed)\n",
    "\n",
    "\n",
    "\n",
    "    func =  (;params...) -> new_J(10, 10; verbose=true, \n",
    "        merge(merge(mypars, extra_pars), Dict(params))...)[1]\n",
    "\n",
    "    try\n",
    "        pars, traj, cost, cpm_traj, ftraj = bbox_Hessian_keyword_minimization(seed, args, bbox, func, \n",
    "            start_eta = 0.1, tol=1e-12, \n",
    "            verbose=true, verbose_every=1, maxiter=1000)\n",
    "\n",
    "\n",
    "        cost, cost1s, cost2s, hP, hA, dP, dA, hBP, hBA = JJ(10000, 10000; verbose=false, \n",
    "        make_dict(args, pars, merge(merge(mypars, extra_pars)))...)\n",
    "\n",
    "        myfilename = next_file(fbasename, 4)\n",
    "        myfilename = myfilename*\".jld\"\n",
    "        # write file\n",
    "        save(myfilename, Dict(\"nPro\"=>mypars[:nPro], \"nAnti\"=>mypars[:nAnti], \n",
    "        \"mypars\"=>mypars, \"extra_pars\"=>extra_pars, \"args\"=>args, \"seed\"=>seed, \"bbox\"=>bbox, \n",
    "        \"pars\"=>pars, \"traj\"=>traj, \"cost\"=>cost, \"cpm_traj\"=>cpm_traj, \"ftraj\"=>ftraj,\n",
    "        \"hP\"=>hP, \"hA\"=>hA, \"dP\"=>dP, \"dA\"=>dA, \"hBP\"=>hBP, \"hBA\"=>hBA))\n",
    "    catch\n",
    "        @printf(\"\\n\\nWhoopsety, unkown error!   Trying new random seed.\\n\\n\")\n",
    "    end\n",
    "# end"
   ]
  },
  {
   "cell_type": "code",
   "execution_count": null,
   "metadata": {
    "collapsed": true
   },
   "outputs": [],
   "source": []
  },
  {
   "cell_type": "markdown",
   "metadata": {},
   "source": [
    "# Alex-style runs"
   ]
  },
  {
   "cell_type": "code",
   "execution_count": null,
   "metadata": {
    "collapsed": true
   },
   "outputs": [],
   "source": [
    "using ForwardDiff\n",
    "using DiffBase\n",
    "using MAT\n",
    "using PyPlot\n"
   ]
  },
  {
   "cell_type": "code",
   "execution_count": null,
   "metadata": {
    "collapsed": false
   },
   "outputs": [],
   "source": [
    "include(\"pro_anti.jl\")"
   ]
  },
  {
   "cell_type": "code",
   "execution_count": null,
   "metadata": {
    "collapsed": true
   },
   "outputs": [],
   "source": [
    "FarmName = \"CARLOS_TEST\"\n",
    "\n",
    "\n",
    "#Define core model parameters\n",
    "model_params = Dict(\n",
    ":dt     =>  0.002,      # Changed hyper-parameter\n",
    ":tau    =>  0.02,       # Changed hyper-parameter\n",
    ":vW     =>  -1.7, #FIT parameter\n",
    ":hW     =>  -1.7, #FIT parameter\n",
    ":sW     =>  0.2,  #FIT parameter\n",
    ":dW     =>  0,    #FIT parameter\n",
    ":nsteps =>  2, \n",
    ":noise  =>  [], \n",
    ":sigma  =>  0.08, #FIT parameter\n",
    ":input  =>  0,    #### Alex thinks this is out-dated \n",
    ":g_leak =>  1,          # Changed hyper-parameter\n",
    ":U_rest =>  0,          # Changed hyper-parameter\n",
    ":theta  =>  0.05,       # Changed hyper-parameter\n",
    ":beta   =>  0.5,        # Changed hyper-parameter \n",
    ":sw     =>  0.2,  #### Alex thinks this is out-dated\n",
    ":hw     =>  -1.7, #### Alex thinks this is out-dated\n",
    ":vw     =>  -1.7, #### Alex thinks this is out-dated\n",
    ":constant_excitation      => 0.19, #FIT  parameter\n",
    ":anti_rule_strength       => 0.05,      # Changed hyper-parameter\n",
    ":pro_rule_strength        => 0.05,      # Changed hyper-parameter\n",
    ":target_period_excitation => 1,    #FIT  parameter\n",
    ":right_light_excitation   => 0.5,  #FIT parameter\n",
    ":right_light_pro_extra    => 0,\n",
    ":const_add                => 0, \n",
    ":init_add                 => 0, \n",
    ":rule_and_delay_period    => 0.4,\n",
    ":target_period            => 0.1,\n",
    ":post_target_period       => 0.5,\n",
    ":const_pro_bias           => 0,    #FIT parameter\n",
    ":nPro                     => 100,\n",
    ":nAnti                    => 100,\n",
    ":theta1                   => 0.01,\n",
    ":theta2                   => 0.15,\n",
    ":start_pro                => [-0.5, -0.5, -0.5, -0.5],\n",
    ":start_anti               => [-0.5, -0.5, -0.5, -0.5],\n",
    ":opto_strength  => .7,             #FIT parameter\n",
    ":opto_periods   => [-1.1 -1; 0 20;0 50; 50 100; 100 20],  \n",
    "# The opto \"conditions\" correspond to the rows of opto_periods.\n",
    "# all conditions are in seconds relative to start of the trial\n",
    "# any value before 0 gets changed to 0\n",
    "# any value after the end of trial gets changed to end of trial\n",
    "# Special values allow for variable durations\n",
    "#  20 codes for \"end of trial\"\n",
    "#  -1 codes for \"start of trial\"\n",
    "# 100 codes for \"end of rule and delay period\"\n",
    "# 200 codes for \"end of target period\"\n",
    "# -------------------------------------------------------------\n",
    "# first column is frachit Pro, next column is Anti, rows are conditions\n",
    "# Actual Opto targets\n",
    "#:opto_targets   => [.75 .73;.77 .58;.75 .74; .72 .66;.73 .75] \n",
    "# Fake Targets\n",
    ":opto_targets => [.9 .7; .9 .5; .9 .7; .9 .5; .9 .7]  \n",
    ");\n",
    "\n",
    "# ======= ARGUMENTS AND SEED VALUES:\n",
    "args = [\"sW\", \"vW\", \"hW\", \"dW\", \"constant_excitation\", \"right_light_excitation\", \"target_period_excitation\", \"const_pro_bias\", \"sigma\",\"opto_strength\"];\n",
    "seed = [0.001,  -1.58,   -0.05,  0.001,    0.001,                0.6,                       0.001,                        0.0427,              0.05, .9];   \n",
    "# ======= BOUNDING BOX:\n",
    "bbox = Dict(:sW=>[0 3], :vW=>[-3 3], :hW=>[-3 3], :dW=>[-3 3], :constant_excitation=>[-2 2],\n",
    ":right_light_excitation=>[0.05 4], :target_period_excitation=>[0 4], :const_pro_bias=>[-2 2],\n",
    ":sigma=>[0.1 0.4],:opto_strength=>[0 1]);\n",
    "\n",
    "# ======== SEARCH ZONE:\n",
    "sbox = Dict(:sW=>[0 .5], :vW=>[-.5 .5], :hW=>[-.5 .5], :dW=>[-.5 .5],\n",
    ":constant_excitation=>[-.5 .5], :right_light_excitation=>[0.05 .5], :target_period_excitation=>[0.001 .5],:const_pro_bias=>[-.5 .5], :sigma=>[0.1 .2],:opto_strength=>[.7 .99]);\n",
    "\n",
    "# define a few hyper parameters\n",
    "cbetas = [4e-3];\n",
    "rule_and_delay_periods = [0.2];\n",
    "post_target_periods    = [0.05];\n",
    "num_eval_runs           = 1000;\n",
    "num_optimize_iter       = 2000;\n",
    "num_optimize_restarts   = 100;\n",
    "\n",
    "# define base filename\n",
    "fbasename = \"FarmFields/farm_\"*string(FarmName);\n",
    "\n",
    "for i=1:num_optimize_restarts   # Iterate this many optimizations\n",
    "for cb in cbetas                # Iterate over beta values, if there are multiple\n",
    "    # figure out initial seed for random number generator\n",
    "    sr = convert(Int64, round(time()))\n",
    "    srand(sr);\n",
    "\n",
    "    dista=rand();\n",
    "    println(\"dista\")\n",
    "    println(dista)\n",
    "    myseed1 = copy(seed);\n",
    "\n",
    "    # get initial parameter values by sampling from sbox\n",
    "    myseed = ForwardDiffZeros(length(args),1);\n",
    "    for j=1:length(args)\n",
    "        sym = Symbol(args[j])\n",
    "        if haskey(sbox, sym)\n",
    "#           myseed[j] = sbox[sym][1] + diff(sbox[sym],2)[1]*rand();\n",
    "            myseed[j] = dista*(sbox[sym][1] + diff(sbox[sym],2)[1]*rand())+(1-dista)*myseed1[j];\n",
    "        if myseed[j] > bbox[sym][2]\n",
    "            myseed[j] =bbox[sym][2] - 0.1;\n",
    "        elseif myseed[j] < bbox[sym][1]\n",
    "            myseed[j] =bbox[sym][1]+0.1;\n",
    "        end\n",
    "        else\n",
    "            myseed[j] = seed[j];\n",
    "        end\n",
    "    end\n",
    "\n",
    "    # define opto function with just value output\n",
    "    func =  (;params...) -> JJ(model_params[:nPro], model_params[:nAnti]; \n",
    "        rule_and_delay_periods=rule_and_delay_periods, \n",
    "        theta1=model_params[:theta1], theta2=model_params[:theta2], \n",
    "        post_target_periods=post_target_periods, seedrand=sr, cbeta=cb, \n",
    "        verbose=false, merge(model_params, Dict(params))...)[1]\n",
    "    \n",
    "    # run optimization with all parameters\n",
    "    @printf(\"Going with seed = \"); print_vector_g(myseed); print(\"\\n\")\n",
    "    pars, traj, cost, cpm_traj = bbox_Hessian_keyword_minimization(myseed, args, bbox, func, start_eta = 1, tol=1e-12, verbose=true, verbose_every=10, maxiter=num_optimize_iter)\n",
    "    @printf(\"Came out with cost %g and pars = \", cost); print_vector_g(pars); print(\"\\n\\n\")\n",
    "\n",
    "    # get gradient and hessian at end of optimization \n",
    "    value, grad, hess = keyword_vgh(func, args, pars)\n",
    "\n",
    "    # define function with all outputs, evaluate on training noise\n",
    "    t_standard_func =  (;params...) -> JJ_opto(model_params[:nPro], model_params[:nAnti]; rule_and_delay_periods=rule_and_delay_periods, theta1=model_params[:theta1], theta2=model_params[:theta2], post_target_periods=post_target_periods, seedrand=sr, cbeta=cb, verbose=false, merge(model_params, Dict(params))...)\n",
    "\n",
    "    # run opto model with all outputs, evaluate on training noise\n",
    "    t_opto_scost, t_opto_scost1, t_opto_scost2, t_opto_hitsP,t_opto_hitsA, t_opto_diffsP, t_opto_diffsA, t_opto_bP, t_opto_bA = t_standard_func(;make_dict(args, pars, model_params)...)\n",
    "    \n",
    "   ## evaluate for long form info\n",
    "    # reset random number generator for testing purposes\n",
    "    test_sr = convert(Int64, round(time()))\n",
    "    srand(test_sr); \n",
    "\n",
    "    # define function with all outputs, evaluate on test noise\n",
    "    standard_func =  (;params...) -> JJ_opto(num_eval_runs, num_eval_runs; rule_and_delay_periods=rule_and_delay_periods, theta1=model_params[:theta1], theta2=model_params[:theta2], post_target_periods=post_target_periods, seedrand=test_sr, cbeta=cb, verbose=false, merge(model_params, Dict(params))...)\n",
    "\n",
    "    # run opto model with all outputs, evaluate on test noise\n",
    "    opto_scost, opto_scost1, opto_scost2, opto_hitsP,opto_hitsA, opto_diffsP, opto_diffsA, opto_bP, opto_bA = standard_func(;make_dict(args, pars, model_params)...)\n",
    "\n",
    "   ## Save this run out to a file\n",
    "    # get filename\n",
    "    myfilename = next_file(fbasename, 4)\n",
    "    myfilename = myfilename*\".mat\"\n",
    "    # write file\n",
    "    matwrite(myfilename, Dict(\"args\"=>args, \"myseed\"=>myseed, \"pars\"=>pars, \"traj\"=>traj, \"cost\"=>cost, \"cpm_traj\"=>cpm_traj, \"nPro\"=>model_params[:nPro], \"nAnti\"=>model_params[:nAnti], \"sr\"=>sr, \"cb\"=>cb, \"theta1\"=>model_params[:theta1], \"theta2\"=>model_params[:theta2],\"value\"=>value,\"grad\"=>grad, \"hess\"=>hess, \"model_params\"=>ascii_key_ize(model_params), \"bbox\"=>ascii_key_ize(bbox), \"sbox\"=>ascii_key_ize(sbox), \"rule_and_delay_periods\"=>rule_and_delay_periods, \"post_target_periods\"=>post_target_periods, \"opto_scost\"=>opto_scost, \"opto_scost1\"=>opto_scost1, \"opto_scost2\"=>opto_scost2, \"opto_hitsP\"=>opto_hitsP, \"opto_hitsA\"=>opto_hitsA, \"opto_diffsP\"=>opto_diffsP, \"opto_diffsA\"=>opto_diffsA,\"test_sr\"=>test_sr,\"opto_bP\"=>opto_bP, \"opto_bA\"=>opto_bA, \"t_opto_scost\"=>t_opto_scost, \"t_opto_scost1\"=>t_opto_scost1, \"t_opto_scost2\"=>t_opto_scost2, \"t_opto_hitsP\"=>t_opto_hitsP, \"t_opto_hitsA\"=>t_opto_hitsA, \"t_opto_diffsP\"=>t_opto_diffsP, \"t_opto_diffsA\"=>t_opto_diffsA,\"t_opto_bP\"=>t_opto_bP, \"t_opto_bA\"=>t_opto_bA,\"dista\"=>dista  ))\n",
    "end\n",
    "end\n",
    "\n"
   ]
  },
  {
   "cell_type": "code",
   "execution_count": null,
   "metadata": {
    "collapsed": true
   },
   "outputs": [],
   "source": []
  },
  {
   "cell_type": "code",
   "execution_count": null,
   "metadata": {
    "collapsed": false,
    "scrolled": true
   },
   "outputs": [],
   "source": [
    "using HypothesisTests"
   ]
  },
  {
   "cell_type": "code",
   "execution_count": null,
   "metadata": {
    "collapsed": false
   },
   "outputs": [],
   "source": [
    "N = 20\n",
    "x = 1+0.2*randn(N,1); y = x - 0.05 + 0.1*randn(N,1);\n",
    "\n",
    "\n",
    "using PyPlot\n",
    "pygui(true)\n",
    "\n",
    "figure(1); clf();\n",
    "subplot(1,2,1)\n",
    "\n",
    "for i=1:N\n",
    "    plot([1, 2], [x[i], y[i]], \"b.-\")\n",
    "end\n",
    "\n",
    "p = pvalue(OneSampleTTest(x[:], y[:]))\n",
    "\n",
    "title(\"Paired t-test :  p<\" * @sprintf(\"%.4g\", p))\n",
    "\n",
    "\n",
    "subplot(1,2,2)\n",
    "plot(x-y, \"b.\")"
   ]
  },
  {
   "cell_type": "code",
   "execution_count": null,
   "metadata": {
    "collapsed": false
   },
   "outputs": [],
   "source": []
  },
  {
   "cell_type": "code",
   "execution_count": null,
   "metadata": {
    "collapsed": false
   },
   "outputs": [],
   "source": []
  },
  {
   "cell_type": "code",
   "execution_count": null,
   "metadata": {
    "collapsed": false
   },
   "outputs": [],
   "source": []
  },
  {
   "cell_type": "markdown",
   "metadata": {},
   "source": [
    "# Marino's model in Marino's parameter settings"
   ]
  },
  {
   "cell_type": "code",
   "execution_count": null,
   "metadata": {
    "collapsed": false
   },
   "outputs": [],
   "source": [
    "#@include_me  scaling_up_dt.jl\n",
    "\n",
    "# In its own cell so we can run it just once\n",
    "\n",
    "include(\"pro_anti.jl\")   # Loads all the necessary pre-requisites\n"
   ]
  },
  {
   "cell_type": "code",
   "execution_count": null,
   "metadata": {
    "collapsed": false
   },
   "outputs": [],
   "source": [
    "#@include_me  scaling_up_dt.jl\n",
    "\n",
    "model_params, F, nPro, nAnti = load_run(\"farm_LD0003\"; farmdir=\"goodfarms\")\n",
    "\n",
    "# mypars = merge(model_params, Dict(:post_target_periods=>0.05))\n",
    "\n",
    "cost, cost1s, cost2s, hP, hA, dP, dA, hBP, hBA, proValls, antiValls, opto_fraction, pro_input, anti_input = \n",
    "JJ(model_params[:nPro], model_params[:nAnti]; verbose=true, model_details=true, model_params...);\n",
    "\n",
    "\n",
    "epochs = [\"control\";\"full\";\"rule\";\"delay\";\"choice\"]\n",
    "titles  = [\"epochs\" \"hitP\" \"hitA\" \"diffP\" \"diffA\" \"hBP\" \"hBA\"]\n",
    "\n",
    "@printf(\"\\n\\n--- The original run:\\n\\n\")\n",
    "\n",
    "sleep(0.5)  # A pause just to make sure everything has printed out \n",
    "display([titles; epochs hP hA dP dA hBP hBA])\n"
   ]
  },
  {
   "cell_type": "code",
   "execution_count": null,
   "metadata": {
    "collapsed": false
   },
   "outputs": [],
   "source": [
    "#@include_me  scaling_up_dt.jl\n",
    "\n",
    "# Now scale things to make dt and tau are much larger, and involve 0.25 x the timesteps\n",
    "\n",
    "mypars = merge(model_params, Dict(:opto_times=>[0 0]))  # default is no opto\n",
    "\n",
    "mypars = merge(model_params, Dict(\n",
    ":dt=>0.024,\n",
    ":tau=>0.09,\n",
    ":rule_and_delay_period=>1.2,\n",
    ":target_period=>0.3,\n",
    ":post_target_period=>0.3,\n",
    ":anti_rule_strength=>0.054,\n",
    "# :post_target_period=>0.05, \n",
    "# :rule_and_delay_period=>0.8, \n",
    "# :opto_times=>[0 0],\n",
    "# :opto_times=>[\"target_start/2\" \"target_start\"],\n",
    "# :opto_times=>[\"target_start\", \"target_end\"],\n",
    ":opto_strength=>0.85,\n",
    "))# , :rule_and_delay_period=>0.8))\n",
    "\n",
    "\n",
    "mypars[:rule_and_delay_periods] = [mypars[:rule_and_delay_period]]\n",
    "mypars[:target_periods]         = [mypars[:target_period]]\n",
    "mypars[:post_target_periods]    = [mypars[:post_target_period]]\n",
    "\n",
    "mypars[:opto_periods] = [\n",
    "    \"trial_start\"     \"trial_start\"  ;\n",
    "    \"trial_start\"     \"trial_end\"    ; \n",
    "    \"trial_start\"     \"target_start/2\"  ;\n",
    "    \"target_start/2\"  \"target_start\"  ;\n",
    "    \"target_start\"    \"target_end\"\n",
    "];\n"
   ]
  },
  {
   "cell_type": "code",
   "execution_count": null,
   "metadata": {
    "collapsed": false
   },
   "outputs": [],
   "source": [
    "#@include_me  scaling_up_dt.jl\n",
    "\n",
    "# And run with these params.  \n",
    "\n",
    "# We run 1000 trials of Pro and ANti each, just to get a good estimate of probability correct in each condition\n",
    "\n",
    "mypars[:seedrand] = Int64(round(time()*1000))\n",
    "\n",
    "ntrials = 1000\n",
    "\n",
    "cost, cost1s, cost2s, hP, hA, dP, dA, hBP, hBA, proValls, antiValls, opto_fraction, pro_input, anti_input = \n",
    "JJ(ntrials, ntrials; verbose=true, model_details=true, mypars...);\n",
    "\n",
    "@printf(\"\\n\\n--- The hand-modified run at dt=0.024 at 4x fewer timesteps than the original:\\n\\n\")\n",
    "\n",
    "\n",
    "sleep(0.5)  # A pause just to make sure everything has printed out \n",
    "display([titles; epochs hP hA dP dA hBP hBA])\n"
   ]
  },
  {
   "cell_type": "code",
   "execution_count": null,
   "metadata": {
    "collapsed": false
   },
   "outputs": [],
   "source": [
    "#@include_me  scaling_up_dt.jl\n",
    "\n",
    "# Finally, display some trajectories:\n",
    "\n",
    "pygui(true)\n",
    "\n",
    "# This example is with opto during the delay\n",
    "\n",
    "mypars = merge(mypars, Dict(\n",
    "# :opto_times => [\"target_start/2\"    \"target_start\"],\n",
    ":opto_times => [0    0],\n",
    ":sigma=>0.01\n",
    "))\n",
    "\n",
    "\n",
    "proVs, antiVs, pro_fullV, anti_fullV, opto_fraction, pro_input, anti_input = run_ntrials(1000, 1000; \n",
    "    plot_list=[1:40;], profig=1, antifig=2, opto_units = 1:4, mypars...);\n",
    "\n",
    "Np = size(proVs,2); Na = size(antiVs,2)\n",
    "@printf(\"hBP = %g, hBA = %g\\n\", length(find(proVs[1,:] .>= proVs[4,:]))/Np, length(find(antiVs[4,:] .> antiVs[1,:]))/Na)\n",
    "\n",
    "@printf(\"\\n\\n\\n---\\n\\nmypars contains all the parameters for the new run with the scaled up dt, tau, etc.\\n\\n\")\n"
   ]
  },
  {
   "cell_type": "code",
   "execution_count": null,
   "metadata": {
    "collapsed": false
   },
   "outputs": [],
   "source": [
    "mypars[:dt]"
   ]
  },
  {
   "cell_type": "code",
   "execution_count": null,
   "metadata": {
    "collapsed": false
   },
   "outputs": [],
   "source": [
    "# Print out mypars in full\n",
    "@printf(\"\\n\\nmypars = Dict(\\n\")\n",
    "for (k,v) in mypars\n",
    "    @printf(\":%s => \", k); print(v); print(\",\\n\")\n",
    "end\n",
    "@printf(\")\\n\\n\")"
   ]
  },
  {
   "cell_type": "markdown",
   "metadata": {},
   "source": [
    "# Make a set of reduced nsteps params and run with them"
   ]
  },
  {
   "cell_type": "code",
   "execution_count": null,
   "metadata": {
    "collapsed": false
   },
   "outputs": [],
   "source": [
    "\n",
    "mypars = Dict(\n",
    ":init_add               =>          0,\n",
    ":const_add              =>          0,\n",
    ":noise                  =>          Any[],\n",
    ":input                  =>          0,\n",
    ":seedrand               =>          1510340076445,\n",
    ":start_anti             =>          [-0.5, -0.5, -0.5, -0.5],\n",
    ":start_pro              =>          [-0.5, -0.5, -0.5, -0.5],\n",
    ":rule_and_delay_period  =>          1.2,\n",
    ":rule_and_delay_periods =>          [1.2],\n",
    ":target_period          =>          0.3,\n",
    ":target_periods         =>          [0.3],\n",
    ":post_target_period     =>          0.3,\n",
    ":post_target_periods    =>          [0.3],\n",
    ":anti_rule_strength     =>          0.054,\n",
    ":U_rest                 =>          0,\n",
    ":theta                  =>          0.05,\n",
    ":beta                   =>          0.5,\n",
    ":g_leak                 =>          1,\n",
    ":nsteps                 =>          301,\n",
    ":dt                     =>          0.024,\n",
    ":tau                    =>          0.09,\n",
    ":right_light_excitation =>          0.49924152955481954,\n",
    ":opto_strength          =>          0.85,\n",
    ":opto_periods           =>          String[\n",
    "                                    \"trial_start\" \"trial_start\"; \n",
    "                                    \"trial_start\" \"trial_end\"; \n",
    "                                    \"trial_start\" \"target_start/2\"; \n",
    "                                    \"target_start/2\" \"target_start\"; \n",
    "                                    \"target_start\" \"target_end\"],\n",
    ":opto_targets          =>           [\n",
    "                                    0.9 0.7; \n",
    "                                    0.9 0.5; \n",
    "                                    0.9 0.7; \n",
    "                                    0.9 0.5; \n",
    "                                    0.9 0.7],\n",
    ":theta2 => 0.15,\n",
    ":theta1 => 0.05,\n",
    ":sigma => 0.01,\n",
    ":cbeta => 0.04,\n",
    ":sW => 0.6416875048295452,\n",
    ":hW => 0.054701836208134846,\n",
    ":dW => 0.1267124266934907,\n",
    ":vW => -1.588850577499782,\n",
    ":constant_excitation => -0.37242520737694207,\n",
    ":const_pro_bias => 0.04366897857834884,\n",
    ":target_period_excitation => 0.15315254453690974,\n",
    ":right_light_pro_extra => 0,\n",
    ":pro_rule_strength => 0.05,\n",
    ":nPro => 100,\n",
    ":nAnti => 100,\n",
    ")\n"
   ]
  },
  {
   "cell_type": "code",
   "execution_count": null,
   "metadata": {
    "collapsed": false
   },
   "outputs": [],
   "source": [
    "\n",
    "extra_pars = Dict(\n",
    ":plot_list        =>   [1:5;], \n",
    ":plot_conditions  =>   true,\n",
    ":verbose          =>   true,\n",
    ":opto_periods     =>   String[\"trial_start\" \"trial_start\"],\n",
    ":opto_targets     =>   [0.9,  0.7],\n",
    ":opto_times       =>   [\"trial_start\", \"trial_start\"],       # This one is for run_ntrials\n",
    ":seedrand         =>   Int64(round(time()*1000)),\n",
    ")\n",
    "\n",
    "\n",
    "# proVs, antiVs, pro_fullV, anti_fullV, opto_fraction, pro_input, anti_input = run_ntrials(1000, 1000; \n",
    "#    merge(mypars, extra_pars)...);\n",
    "\n",
    "\n",
    "JJ(mypars[:nPro], mypars[:nAnti]; merge(mypars, extra_pars)...)[1]\n"
   ]
  },
  {
   "cell_type": "code",
   "execution_count": null,
   "metadata": {
    "collapsed": false
   },
   "outputs": [],
   "source": [
    "extra_pars[:search_range] = 0.4\n",
    "extra_pars"
   ]
  },
  {
   "cell_type": "markdown",
   "metadata": {},
   "source": [
    "# Try a search : reduced_farm.jl\n",
    "\n",
    "`Temp/answers.jld`   contains the result of taking the result of scaling_up_dt.jl, and then optimizing it on control alone, with Pro target=0.9, Anti target = 0.7.  It optimizes very very well."
   ]
  },
  {
   "cell_type": "code",
   "execution_count": null,
   "metadata": {
    "collapsed": false
   },
   "outputs": [],
   "source": [
    "#@include_me reduced_farm.jl\n",
    "\n",
    "include(\"pro_anti.jl\")\n",
    "\n"
   ]
  },
  {
   "cell_type": "code",
   "execution_count": null,
   "metadata": {
    "collapsed": false
   },
   "outputs": [],
   "source": []
  },
  {
   "cell_type": "code",
   "execution_count": null,
   "metadata": {
    "collapsed": false
   },
   "outputs": [],
   "source": [
    "@load(\"FarmFields/farm_C3_0027.jld\")"
   ]
  },
  {
   "cell_type": "code",
   "execution_count": null,
   "metadata": {
    "collapsed": false
   },
   "outputs": [],
   "source": [
    "[args pars]"
   ]
  },
  {
   "cell_type": "code",
   "execution_count": null,
   "metadata": {
    "collapsed": false
   },
   "outputs": [],
   "source": [
    "mypars[:tau]"
   ]
  },
  {
   "cell_type": "code",
   "execution_count": null,
   "metadata": {
    "collapsed": false
   },
   "outputs": [],
   "source": [
    "#@include_me reduced_farm.jl\n",
    "\n",
    "\n",
    "mypars = Dict(\n",
    ":init_add               =>          0,\n",
    ":const_add              =>          0,\n",
    ":noise                  =>          Any[],\n",
    ":input                  =>          0,\n",
    ":start_anti             =>          [-0.5, -0.5, -0.5, -0.5],\n",
    ":start_pro              =>          [-0.5, -0.5, -0.5, -0.5],\n",
    ":rule_and_delay_period  =>          1.2,\n",
    ":rule_and_delay_periods =>          [1.2],\n",
    ":target_period          =>          0.3,\n",
    ":target_periods         =>          [0.3],\n",
    ":post_target_period     =>          0.3,\n",
    ":post_target_periods    =>          [0.3],\n",
    ":anti_rule_strength     =>          0.054,\n",
    ":U_rest                 =>          0,\n",
    ":theta                  =>          0.05,\n",
    ":beta                   =>          0.5,\n",
    ":g_leak                 =>          1,\n",
    ":nsteps                 =>          301,\n",
    ":dt                     =>          0.024,\n",
    ":tau                    =>          0.09,\n",
    ":right_light_excitation =>          0.49924152955481954,\n",
    ":opto_strength          =>          0.85,\n",
    ":opto_periods           =>          String[\n",
    "                                    \"trial_start\" \"trial_start\"; \n",
    "                                    \"trial_start\" \"trial_end\"; \n",
    "                                    \"trial_start\" \"target_start/2\"; \n",
    "                                    \"target_start/2\" \"target_start\"; \n",
    "                                    \"target_start\" \"target_end\"],\n",
    ":opto_targets          =>           [\n",
    "                                    0.9 0.7; \n",
    "                                    0.9 0.5; \n",
    "                                    0.9 0.7; \n",
    "                                    0.9 0.5; \n",
    "                                    0.9 0.7],\n",
    ":theta2 => 0.15,\n",
    ":theta1 => 0.05,\n",
    ":sigma => 0.01,\n",
    ":cbeta => 0.04,\n",
    ":sW => 0.6416875048295452,\n",
    ":hW => 0.054701836208134846,\n",
    ":dW => 0.1267124266934907,\n",
    ":vW => -1.588850577499782,\n",
    ":constant_excitation => -0.37242520737694207,\n",
    ":const_pro_bias => 0.04366897857834884,\n",
    ":target_period_excitation => 0.15315254453690974,\n",
    ":right_light_pro_extra => 0,\n",
    ":pro_rule_strength => 0.05,\n",
    ":nPro => 100,\n",
    ":nAnti => 100,\n",
    ")\n"
   ]
  },
  {
   "cell_type": "code",
   "execution_count": null,
   "metadata": {
    "collapsed": false
   },
   "outputs": [],
   "source": [
    "#@include_me  reduced_farm.jl\n",
    "\n",
    "\n",
    "extra_pars = Dict(\n",
    ":plot_list        =>   [], \n",
    ":plot_conditions  =>   true,\n",
    ":verbose          =>   true,\n",
    ":opto_periods     =>   String[\"trial_start\" \"trial_start-0.1\"],\n",
    ":opto_targets     =>   [0.9,  0.7],\n",
    ":opto_times       =>   [\"trial_start\", \"trial_start-0.1\"],       # This one is for run_ntrials\n",
    ":cbeta            =>   0.001,\n",
    ":search_range     =>   1.2,\n",
    ")\n",
    "\n",
    "\n",
    "search_conditions = Dict(   # :param    default_start   search_box  bound_box\n",
    ":vW     =>                   [mypars[:vW],                       [-0.5, 0.5],  [-3,   3]], \n",
    ":hW     =>                   [mypars[:hW],                       [-0.5, 0.5],  [-3,   3]],\n",
    ":dW     =>                   [mypars[:dW],                       [-0.5, 0.5],  [-3,   3]],\n",
    ":sW     =>                   [mypars[:sW],                       [0,    0.5],  [0,    3]],\n",
    ":sigma  =>                   [0.11,                              [0.1,  0.2],  [0.1, 0.4]],\n",
    ":constant_excitation      => [mypars[:constant_excitation],      [-1,     1],  [-2,   2]], \n",
    ":target_period_excitation => [mypars[:target_period_excitation], [0.001,0.5],  [0     4]],\n",
    ":right_light_excitation   => [mypars[:right_light_excitation],   [0.05, 0.5],  [0.05, 4]],\n",
    ":const_pro_bias           => [mypars[:const_pro_bias],           [-0.5, 0.5],  [-2,   2]],\n",
    "# :opto_strength            => [mypars[:opto_strength],            [0.7, 0.99],  [0,    1]],\n",
    ")\n",
    "\n",
    "\n"
   ]
  },
  {
   "cell_type": "markdown",
   "metadata": {},
   "source": [
    "### Loop for reduced_farm.jl"
   ]
  },
  {
   "cell_type": "code",
   "execution_count": null,
   "metadata": {
    "collapsed": false
   },
   "outputs": [],
   "source": [
    "#@include_me  reduced_farm.jl\n",
    "\n",
    "extra_pars[:seedrand] = Int64(round(time()*1000))\n",
    "srand(extra_pars[:seedrand])\n",
    "\n",
    "@printf(\"\\n\\n\\nStarting with random seed %d\\n\\n\\n\", extra_pars[:seedrand])\n",
    "\n",
    "search_range = extra_pars[:search_range]; \n",
    "\n",
    "fbasename = \"FarmFields/farm_C5_\"\n",
    "\n",
    "while true\n",
    "    args = []; seed = []; bbox = Dict()\n",
    "    for k in keys(search_conditions)\n",
    "        search_box = search_conditions[k][2]\n",
    "        args = [args; String(k)]\n",
    "        myseed = search_conditions[k][1] + search_range*(rand()-0.5)*diff(search_box); myseed = myseed[1]\n",
    "        if myseed > search_box[2]; myseed = search_box[2]; end\n",
    "        if myseed < search_box[1]; myseed = search_box[1]; end\n",
    "        seed = [seed ;  myseed]\n",
    "        # seed = [seed ; search_conditions[k][1]]\n",
    "        bbox = merge(bbox, Dict(k => Array{Float64}(search_conditions[k][3])))\n",
    "    end\n",
    "    args = Array{String}(args)\n",
    "    seed = Array{Float64}(seed)\n",
    "\n",
    "\n",
    "    # Make sure to keep the noise frozen over the search, meaning JJ() needs the seedrand parameter\n",
    "    func =  (;params...) -> JJ(mypars[:nPro], mypars[:nAnti]; verbose=true, \n",
    "        merge(merge(mypars, extra_pars), Dict(params))...)[1]\n",
    "\n",
    "    try\n",
    "        pars, traj, cost, cpm_traj, ftraj = bbox_Hessian_keyword_minimization(seed, args, bbox, func, \n",
    "            start_eta = 0.1, tol=1e-12, \n",
    "            verbose=true, verbose_every=1, maxiter=1000)\n",
    "\n",
    "\n",
    "        cost, cost1s, cost2s, hP, hA, dP, dA, hBP, hBA = JJ(1000, 1000; verbose=false, \n",
    "        make_dict(args, pars, merge(merge(mypars, extra_pars)))...)\n",
    "\n",
    "        myfilename = next_file(fbasename, 4)\n",
    "        myfilename = myfilename*\".jld\"\n",
    "        # write file\n",
    "        save(myfilename, Dict(\"nPro\"=>mypars[:nPro], \"nAnti\"=>mypars[:nAnti], \n",
    "        \"mypars\"=>mypars, \"extra_pars\"=>extra_pars, \"args\"=>args, \"seed\"=>seed, \"bbox\"=>bbox, \n",
    "        \"pars\"=>pars, \"traj\"=>traj, \"cost\"=>cost, \"cpm_traj\"=>cpm_traj, \"ftraj\"=>ftraj,\n",
    "        \"hP\"=>hP, \"hA\"=>hA, \"dP\"=>dP, \"dA\"=>dA, \"hBP\"=>hBP, \"hBA\"=>hBA))\n",
    "    catch y\n",
    "        if isa(y, InterruptException); throw(InterruptException()); end\n",
    "        @printf(\"\\n\\nWhoopsety, unkown error!\\n\\n\");\n",
    "        @printf(\"Error was :\\n\"); print(y); @printf(\"\\n\\nTrying new random seed.\\n\\n\")\n",
    "    end\n",
    "\n",
    "    # Change the frozen noise random seed so we don't get stuck in one loop    \n",
    "    extra_pars[:seedrand] = extra_pars[:seedrand]+1\n",
    "end"
   ]
  },
  {
   "cell_type": "code",
   "execution_count": null,
   "metadata": {
    "collapsed": false
   },
   "outputs": [],
   "source": []
  },
  {
   "cell_type": "code",
   "execution_count": null,
   "metadata": {
    "collapsed": false
   },
   "outputs": [],
   "source": [
    "effective_search_box = Dict()\n",
    "for k in keys(search_conditions)\n",
    "    search_box = search_conditions[k][2]\n",
    "    ebox = zeros(1,2)\n",
    "    ebox[1] = search_conditions[k][1] - 0.5*diff(search_box)[1]\n",
    "    ebox[2] = search_conditions[k][1] + 0.5*diff(search_box)[1]\n",
    "    effective_search_box[k] = ebox\n",
    "end\n",
    "\n",
    "effective_search_box"
   ]
  },
  {
   "cell_type": "code",
   "execution_count": null,
   "metadata": {
    "collapsed": true
   },
   "outputs": [],
   "source": []
  },
  {
   "cell_type": "code",
   "execution_count": null,
   "metadata": {
    "collapsed": false
   },
   "outputs": [],
   "source": []
  },
  {
   "cell_type": "markdown",
   "metadata": {
    "collapsed": false
   },
   "source": [
    "# Analyze a Marino goodfarm:"
   ]
  },
  {
   "cell_type": "code",
   "execution_count": null,
   "metadata": {
    "collapsed": false
   },
   "outputs": [],
   "source": [
    "include(\"pro_anti.jl\")"
   ]
  },
  {
   "cell_type": "code",
   "execution_count": null,
   "metadata": {
    "collapsed": false
   },
   "outputs": [],
   "source": [
    "hBP, hBA, d = show_run(\"farm_LA0001.mat\", 100; farmdir=\"goodfarms\", opto_times=[\"target_start-0.2\", \"target_start\"], \n",
    "const_pro_bias = 0.0, opto_strength = 0)"
   ]
  },
  {
   "cell_type": "code",
   "execution_count": null,
   "metadata": {
    "collapsed": false
   },
   "outputs": [],
   "source": [
    "model_params = symbol_key_ize(d[\"model_params\"])\n",
    "[d[\"args\"] d[\"pars\"]]"
   ]
  },
  {
   "cell_type": "code",
   "execution_count": null,
   "metadata": {
    "collapsed": true
   },
   "outputs": [],
   "source": [
    "show_run(\"farm_LD0053.mat\", 100; farmdir=\"goodfarms\", opto_times=[\"target_start-2\", \"target_end-2\"],\n",
    "    const_pro_bias=0.04745, rule_and_delay_period=0.4, right_light_excitation=0.4)\n"
   ]
  },
  {
   "cell_type": "code",
   "execution_count": null,
   "metadata": {
    "collapsed": false
   },
   "outputs": [],
   "source": [
    "model_params, F, nPro, nAnti = load_run(\"farm_LD0053.mat\"; farmdir=\"goodfarms\")"
   ]
  },
  {
   "cell_type": "code",
   "execution_count": null,
   "metadata": {
    "collapsed": false
   },
   "outputs": [],
   "source": [
    "[F[\"args\"] F[\"pars\"]]"
   ]
  },
  {
   "cell_type": "code",
   "execution_count": null,
   "metadata": {
    "collapsed": false
   },
   "outputs": [],
   "source": [
    "model_params[:opto_periods] = [\n",
    "    \"trial_start-0.1\"   \"trial_start-0.1\"; \n",
    "    \"trial_start\"       \"trial_end\" ; \n",
    "    \"trial_start\"       \"trial_start+0.2\" ; \n",
    "    \"target_start-0.2\"  \"target_start\"  ;\n",
    "    \"target_start\"      \"trial_end\"\n",
    "]\n",
    "\n",
    "model_params[:opto_targets]\n",
    "\n"
   ]
  },
  {
   "cell_type": "code",
   "execution_count": null,
   "metadata": {
    "collapsed": false
   },
   "outputs": [],
   "source": [
    "pygui(true)\n",
    "cost, cost1s, cost2s, hP, hA, dP, dA, hBP, hBA, proValls, antiValls = JJ(100, 100; plot_list=[1:10;], \n",
    "    plot_conditions=[false, false, false, true, false], verbose=true, model_details=true, model_params...);"
   ]
  },
  {
   "cell_type": "code",
   "execution_count": null,
   "metadata": {
    "collapsed": false
   },
   "outputs": [],
   "source": [
    "include(\"farm_plotting_carlos.jl\")"
   ]
  },
  {
   "cell_type": "code",
   "execution_count": null,
   "metadata": {
    "collapsed": false
   },
   "outputs": [],
   "source": []
  },
  {
   "cell_type": "code",
   "execution_count": null,
   "metadata": {
    "collapsed": false
   },
   "outputs": [],
   "source": [
    "show_run(\"farm_C3_0002.jld\")\n"
   ]
  },
  {
   "cell_type": "code",
   "execution_count": null,
   "metadata": {
    "collapsed": false
   },
   "outputs": [],
   "source": [
    "figure(1); subplot(3,1,1); title(@sprintf(\"%s: binarized Pro  hits = %.1f %%\\n\", run_name, 97.3))\n"
   ]
  },
  {
   "cell_type": "code",
   "execution_count": null,
   "metadata": {
    "collapsed": true
   },
   "outputs": [],
   "source": [
    "# @save \"Temp/answers.jld\" \n",
    "# @load \"Temp/answers.jld\""
   ]
  },
  {
   "cell_type": "code",
   "execution_count": null,
   "metadata": {
    "collapsed": false
   },
   "outputs": [],
   "source": [
    "@load \"Temp/answers3.jld\""
   ]
  },
  {
   "cell_type": "code",
   "execution_count": null,
   "metadata": {
    "collapsed": false
   },
   "outputs": [],
   "source": [
    "[args pars seed]"
   ]
  },
  {
   "cell_type": "code",
   "execution_count": null,
   "metadata": {
    "collapsed": false
   },
   "outputs": [],
   "source": [
    "pygui(true)\n",
    "figure(1); clf();\n",
    "\n",
    "delete!(extra_pars, :plot_list)\n",
    "delete!(extra_pars, :seedrand)\n",
    "\n",
    "more_pars = Dict(\n",
    "# :post_target_period => 0.25,\n",
    ":rule_and_delay_period => 2,\n",
    ")\n",
    "proVs, antiVs = run_ntrials(1000, 1000; plot_list=[1:10;], make_dict(args, pars, merge(merge(mypars, extra_pars), more_pars))...)[1:2]\n",
    "\n",
    "@printf(\"Binarized Pro hits = %.1f %%\\n\", 100*length(find(proVs[1,:] .> proVs[4,:]))/size(proVs,2))\n",
    "@printf(\"Binarized Anti hits = %.1f %%\\n\", 100*length(find(antiVs[4,:] .> antiVs[1,:]))/size(antiVs,2))"
   ]
  },
  {
   "cell_type": "code",
   "execution_count": null,
   "metadata": {
    "collapsed": false
   },
   "outputs": [],
   "source": []
  },
  {
   "cell_type": "code",
   "execution_count": null,
   "metadata": {
    "collapsed": false
   },
   "outputs": [],
   "source": [
    "search_conditions"
   ]
  },
  {
   "cell_type": "code",
   "execution_count": null,
   "metadata": {
    "collapsed": false
   },
   "outputs": [],
   "source": [
    "include(\"pro_anti.jl\")"
   ]
  },
  {
   "cell_type": "code",
   "execution_count": null,
   "metadata": {
    "collapsed": false
   },
   "outputs": [],
   "source": [
    "bbox[:dW]"
   ]
  },
  {
   "cell_type": "code",
   "execution_count": null,
   "metadata": {
    "collapsed": false
   },
   "outputs": [],
   "source": [
    "[1, [2,3], 4]\n"
   ]
  },
  {
   "cell_type": "code",
   "execution_count": null,
   "metadata": {
    "collapsed": false
   },
   "outputs": [],
   "source": []
  },
  {
   "cell_type": "code",
   "execution_count": null,
   "metadata": {
    "collapsed": false
   },
   "outputs": [],
   "source": [
    "#  size(proValls)  (4, 301, 100, 5)\n",
    "\n",
    "figure(3); clf(); N=40\n",
    "\n",
    "t = 0:size(proValls, 2)-1; t = model_params[:dt]*t\n",
    "\n",
    "figure(3); clf();\n",
    "for i=1:N \n",
    "    plot_PA(t, 0, proValls[:,:,i,1], fignum=3, plot_Us=false,\n",
    "    rule_and_delay_period=model_params[:rule_and_delay_period], target_period=model_params[:target_period],\n",
    "    post_target_period = model_params[:post_target_period])\n",
    "end\n",
    "\n",
    "figure(4); clf();\n",
    "for i=1:N \n",
    "    plot_PA(t, 0, antiValls[:,:,i,1], fignum=4, plot_Us=false,\n",
    "    rule_and_delay_period=model_params[:rule_and_delay_period], target_period=model_params[:target_period],\n",
    "    post_target_period = model_params[:post_target_period])\n",
    "end\n"
   ]
  },
  {
   "cell_type": "code",
   "execution_count": null,
   "metadata": {
    "collapsed": false
   },
   "outputs": [],
   "source": [
    "print(model_params)"
   ]
  },
  {
   "cell_type": "code",
   "execution_count": null,
   "metadata": {
    "collapsed": false
   },
   "outputs": [],
   "source": []
  },
  {
   "cell_type": "code",
   "execution_count": null,
   "metadata": {
    "collapsed": false
   },
   "outputs": [],
   "source": []
  },
  {
   "cell_type": "code",
   "execution_count": null,
   "metadata": {
    "collapsed": false
   },
   "outputs": [],
   "source": [
    "# Define core model parameters\n",
    "model_params = Dict(\n",
    ":dt     =>  0.002, \n",
    ":tau    =>  0.02, \n",
    ":vW     =>  -1.58,\n",
    ":hW     =>  -0.05,\n",
    ":sW     =>  0,\n",
    ":dW     =>  0,\n",
    ":nsteps =>  301, \n",
    ":noise  =>  [], \n",
    ":sigma  =>  0.08, \n",
    ":input  =>  0, \n",
    ":g_leak =>  1, \n",
    ":U_rest =>  0,\n",
    ":theta  =>  0.05, \n",
    ":beta   =>  0.5, \n",
    ":constant_excitation      => 0, \n",
    ":anti_rule_strength       => 0.05,\n",
    ":pro_rule_strength        => 0.05, \n",
    ":target_period_excitation => 0,\n",
    ":right_light_excitation   => 0.6, \n",
    ":right_light_pro_extra    => 0,\n",
    ":const_add                => 0, \n",
    ":init_add                 => 0, \n",
    ":rule_and_delay_period    => 0.2,\n",
    ":target_period            => 0.1,\n",
    ":post_target_period       => 0.1,\n",
    ":const_pro_bias           => 0.0427,\n",
    ":nPro                     => 100,\n",
    ":nAnti                    => 100,\n",
    ":theta1                   => 0.05,\n",
    ":theta2                   => 0.15,\n",
    ":opto_strength  => .9,\n",
    ":opto_periods   => [\n",
    "    0               0 ; \n",
    "    0              \"trial_end\" ;\n",
    "    \"target_start/2\"  \"target_start\";\n",
    "    \"target_start\"    \"target_end\"],  \n",
    "# set of opto conditions, in seconds, with 0 the start \n",
    "# of the trial (i.e. start of rule_and_delay_period), anything before 0 or after end of trial gets ignored.\n",
    "#:opto_targets   => [.75 .73;.77 .58;.75 .74;.72 .66;.73 .75] \n",
    ":opto_targets => [\n",
    "    .9      .7; \n",
    "    .9      .5; \n",
    "    .9      .55; \n",
    "    .9      .7;\n",
    "    ],  # first column is frachit Pro, next column is Anti, rows are conditions\n",
    "# The \"conditions\" correspond to the rows of opto_periods.\n",
    ");\n",
    "\n",
    "\n",
    "# ======= ARGUMENTS AND SEED VALUES:\n",
    "args = [\"sW\", \"vW\", \"hW\", \"dW\", \"constant_excitation\", \"right_light_excitation\", \"target_period_excitation\"]\n",
    "seed = [0.001,  -1.58,   -0.05,  0.001,    0.001,                0.6,                       0.001]   \n",
    "args = [args ; [\"const_pro_bias\", \"sigma\",\"opto_strength\", \"pro_rule_strength\", \"anti_rule_strength\"]];\n",
    "seed = [seed ; [  0.0427,            .05,      .9,              0.05,                0.05]];\n",
    "\n",
    "# ======= BOUNDING BOX:\n",
    "bbox = Dict(:sW=>[0 3], :vW=>[-3 3], :hW=>[-3 3], :dW=>[-3 3], :constant_excitation=>[-2 2],\n",
    ":right_light_excitation=>[0.05 4], :target_period_excitation=>[0 4], :const_pro_bias=>[-2 2],\n",
    ":sigma=>[0.01 0.2],:opto_strength=>[0 1]);\n",
    "\n",
    "# ======== SEARCH ZONE:\n",
    "sbox = Dict(:sW=>[0 .5], :vW=>[-.5 .5], :hW=>[-.5 .5], :dW=>[-.5 .5],\n",
    ":constant_excitation=>[-.5 .5], :right_light_excitation=>[0.05 .5], :target_period_excitation=>[0.001 .5],:const_pro_bias=>[-.5 .5], :sigma=>[0.02 0.19],:opto_strength=>[.7 .99]);\n",
    "\n",
    "# define a few hyper parameters\n",
    "cbetas = [0.04];\n",
    "rule_and_delay_periods = [0.2];\n",
    "post_target_periods    = [0.1];\n",
    "num_eval_runs           = 100;\n",
    "num_optimize_iter       = 2000;\n",
    "num_optimize_restarts   = 1;\n",
    "\n",
    "\n",
    "cb = 0.04\n",
    "\n",
    "# figure out initial seed for random number generator\n",
    "sr = convert(Int64, round(time()))\n",
    "srand(sr);\n",
    "\n",
    "mypars = merge(model_params, Dict(:opto_times => [\"target_start\", \"target_end\"], :rule_and_delay_period=>0.2,\n",
    ":anti_rule_strength=>0.06))\n",
    "# mypars = merge(model_params, Dict(:opto_times => [0 0], :rule_and_delay_period=>0.1,\n",
    "# :anti_rule_strength=>0.06))\n",
    "pygui(true)\n",
    "proVs, antiVs, pro_fullV, anti_fullV, opto_fraction, pro_input, anti_input = run_ntrials(15, 15; \n",
    "plot_list=[1:15;], profig=1, antifig=2, opto_units = 1:4, mypars...)\n",
    "\n",
    "# define opto function with just value output\n",
    "func =  (;params...) -> JJ(model_params[:nPro], model_params[:nAnti]; \n",
    "    rule_and_delay_periods=rule_and_delay_periods, theta1=model_params[:theta1], theta2=model_params[:theta2], \n",
    "    post_target_periods=post_target_periods, seedrand=sr, cbeta=cb, verbose=true, \n",
    "    merge(mypars, Dict(params))...)[1]\n",
    "\n",
    "\n",
    "# cost, cost1s, cost2s, hP, hA, dP, dA, hBP, hBA = JJ(model_params[:nPro], model_params[:nAnti]; \n",
    "#     rule_and_delay_periods=rule_and_delay_periods, theta1=model_params[:theta1], theta2=model_params[:theta2], \n",
    "#     post_target_periods=post_target_periods, seedrand=sr, cbeta=cb, verbose=true, model_params...)\n",
    "    "
   ]
  },
  {
   "cell_type": "code",
   "execution_count": null,
   "metadata": {
    "collapsed": false
   },
   "outputs": [],
   "source": [
    "@printf(\"Going with seed = \"); print_vector_g(seed); print(\"\\n\")\n",
    "pars, traj, cost, cpm_traj, ftraj = bbox_Hessian_keyword_minimization(seed, args, bbox, func, \n",
    "    start_eta = 1, tol=1e-12, verbose=true, verbose_every=1, maxiter=num_optimize_iter)\n",
    "@printf(\"Came out with cost %g and pars = \", cost); print_vector_g(pars); print(\"\\n\\n\")\n"
   ]
  },
  {
   "cell_type": "code",
   "execution_count": null,
   "metadata": {
    "collapsed": true
   },
   "outputs": [],
   "source": []
  },
  {
   "cell_type": "code",
   "execution_count": null,
   "metadata": {
    "collapsed": true
   },
   "outputs": [],
   "source": []
  },
  {
   "cell_type": "code",
   "execution_count": null,
   "metadata": {
    "collapsed": true
   },
   "outputs": [],
   "source": []
  },
  {
   "cell_type": "code",
   "execution_count": null,
   "metadata": {
    "collapsed": true
   },
   "outputs": [],
   "source": [
    "# run optimization with all parameters\n",
    "@printf(\"Going with seed = \"); print_vector_g(seed); print(\"\\n\")\n",
    "pars, traj, cost, cpm_traj, ftraj = bbox_Hessian_keyword_minimization(seed, args, bbox, func, \n",
    "    start_eta = 1, tol=1e-12, verbose=true, verbose_every=1, maxiter=num_optimize_iter)\n",
    "@printf(\"Came out with cost %g and pars = \", cost); print_vector_g(pars); print(\"\\n\\n\")\n",
    "\n",
    "    # get gradient and hessian at end of optimization \n",
    "    value, grad, hess = keyword_vgh(func, args, pars)\n",
    "\n",
    "    # define function with all outputs, evaluate on training noise\n",
    "    t_standard_func =  (;params...) -> JJ_opto(model_params[:nPro], model_params[:nAnti]; rule_and_delay_periods=rule_and_delay_periods, theta1=model_params[:theta1], theta2=model_params[:theta2], post_target_periods=post_target_periods, seedrand=sr, cbeta=cb, verbose=false, merge(model_params, Dict(params))...)\n",
    "\n",
    "    # run opto model with all outputs, evaluate on training noise\n",
    "    t_opto_scost, t_opto_scost1, t_opto_scost2, t_opto_hitsP,t_opto_hitsA, t_opto_diffsP, t_opto_diffsA, t_opto_bP, t_opto_bA = t_standard_func(;make_dict(args, pars, model_params)...)\n",
    "    \n",
    "   ## evaluate for long form info\n",
    "    # reset random number generator for testing purposes\n",
    "    test_sr = convert(Int64, round(time()))\n",
    "    srand(test_sr); \n",
    "\n",
    "    # define function with all outputs, evaluate on test noise\n",
    "    standard_func =  (;params...) -> JJ_opto(num_eval_runs, num_eval_runs; rule_and_delay_periods=rule_and_delay_periods, theta1=model_params[:theta1], theta2=model_params[:theta2], post_target_periods=post_target_periods, seedrand=test_sr, cbeta=cb, verbose=false, merge(model_params, Dict(params))...)\n",
    "\n",
    "    # run opto model with all outputs, evaluate on test noise\n",
    "    opto_scost, opto_scost1, opto_scost2, opto_hitsP,opto_hitsA, opto_diffsP, opto_diffsA, opto_bP, opto_bA = standard_func(;make_dict(args, pars, model_params)...)\n",
    "\n",
    "    # define non-opto model with all outputs, to check opto model, evaluate on test noise\n",
    "    standard_func =  (;params...) -> JJ(num_eval_runs, num_eval_runs; rule_and_delay_periods=rule_and_delay_periods, theta1=model_params[:theta1], theta2=model_params[:theta2], post_target_periods=post_target_periods, seedrand=test_sr, cbeta=cb, verbose=false, merge(model_params, Dict(params))...)\n",
    "\n",
    "    # run non-opto model with all outputs, evaluate on test noise\n",
    "    scost, scost1, scost2, hitsP,hitsA, diffsP, diffsA = standard_func(;make_dict(args, pars, model_params)...)\n",
    " \n",
    "   ## Save this run out to a file\n",
    "    # get filename\n",
    "    myfilename = next_file(fbasename, 4)\n",
    "    myfilename = myfilename*\".mat\"\n",
    "    # write file\n",
    "    matwrite(myfilename, Dict(\"args\"=>args, \"myseed\"=>myseed, \"dista\"=>dista, \"pars\"=>pars, \"traj\"=>traj, \"cost\"=>cost, \"cpm_traj\"=>cpm_traj, \"nPro\"=>model_params[:nPro], \"nAnti\"=>model_params[:nAnti], \"sr\"=>sr, \"cb\"=>cb, \"theta1\"=>model_params[:theta1], \"theta2\"=>model_params[:theta2],\"value\"=>value,\"grad\"=>grad, \"hess\"=>hess, \"scost\"=>scost, \"scost1\"=>scost1, \"scost2\"=>scost2, \"hitsP\"=>hitsP,\"hitsA\"=>hitsA, \"diffsP\"=>diffsP, \"diffsA\"=>diffsA, \"model_params\"=>ascii_key_ize(model_params), \"bbox\"=>ascii_key_ize(bbox), \"sbox\"=>ascii_key_ize(sbox), \"rule_and_delay_periods\"=>rule_and_delay_periods, \"post_target_periods\"=>post_target_periods, \"opto_scost\"=>opto_scost, \"opto_scost1\"=>opto_scost1, \"opto_scost2\"=>opto_scost2, \"opto_hitsP\"=>opto_hitsP, \"opto_hitsA\"=>opto_hitsA, \"opto_diffsP\"=>opto_diffsP, \"opto_diffsA\"=>opto_diffsA,\"test_sr\"=>test_sr,\"opto_bP\"=>opto_bP, \"opto_bA\"=>opto_bA, \"t_opto_scost\"=>t_opto_scost, \"t_opto_scost1\"=>t_opto_scost1, \"t_opto_scost2\"=>t_opto_scost2, \"t_opto_hitsP\"=>t_opto_hitsP, \"t_opto_hitsA\"=>t_opto_hitsA, \"t_opto_diffsP\"=>t_opto_diffsP, \"t_opto_diffsA\"=>t_opto_diffsA,\"t_opto_bP\"=>t_opto_bP, \"t_opto_bA\"=>t_opto_bA  ))\n",
    "end\n",
    "end"
   ]
  }
 ],
 "metadata": {
  "kernelspec": {
   "display_name": "Julia 0.6.0",
   "language": "julia",
   "name": "julia-0.6"
  },
  "language_info": {
   "file_extension": ".jl",
   "mimetype": "application/julia",
   "name": "julia",
   "version": "0.6.0"
  }
 },
 "nbformat": 4,
 "nbformat_minor": 0
}
