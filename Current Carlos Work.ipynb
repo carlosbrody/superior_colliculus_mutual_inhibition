{
 "cells": [
  {
   "cell_type": "markdown",
   "metadata": {},
   "source": [
    "<h1 id=\"tocheading\">TABLE OF CONTENTS</h1>\n",
    "<div id=\"toc\"></div>\n",
    "\n",
    "**Updates to the table of contents are periodic, but run the cell below to first start or force an update.**"
   ]
  },
  {
   "cell_type": "code",
   "execution_count": null,
   "metadata": {
    "collapsed": false
   },
   "outputs": [],
   "source": [
    "macro javascript_str(s) display(\"text/javascript\", s); end\n",
    "\n",
    "javascript\"\"\"\n",
    "$.getScript('make_table_of_contents.js')\n",
    "\"\"\""
   ]
  },
  {
   "cell_type": "markdown",
   "metadata": {},
   "source": [
    "# Alex-style runs"
   ]
  },
  {
   "cell_type": "code",
   "execution_count": null,
   "metadata": {
    "collapsed": true
   },
   "outputs": [],
   "source": [
    "using ForwardDiff\n",
    "using DiffBase\n",
    "using MAT\n",
    "using PyPlot\n"
   ]
  },
  {
   "cell_type": "code",
   "execution_count": null,
   "metadata": {
    "collapsed": false
   },
   "outputs": [],
   "source": [
    "include(\"pro_anti.jl\")"
   ]
  },
  {
   "cell_type": "code",
   "execution_count": null,
   "metadata": {
    "collapsed": true
   },
   "outputs": [],
   "source": [
    "FarmName = \"CARLOS_TEST\"\n",
    "\n",
    "\n",
    "#Define core model parameters\n",
    "model_params = Dict(\n",
    ":dt     =>  0.002,      # Changed hyper-parameter\n",
    ":tau    =>  0.02,       # Changed hyper-parameter\n",
    ":vW     =>  -1.7, #FIT parameter\n",
    ":hW     =>  -1.7, #FIT parameter\n",
    ":sW     =>  0.2,  #FIT parameter\n",
    ":dW     =>  0,    #FIT parameter\n",
    ":nsteps =>  2, \n",
    ":noise  =>  [], \n",
    ":sigma  =>  0.08, #FIT parameter\n",
    ":input  =>  0,    #### Alex thinks this is out-dated \n",
    ":g_leak =>  1,          # Changed hyper-parameter\n",
    ":U_rest =>  0,          # Changed hyper-parameter\n",
    ":theta  =>  0.05,       # Changed hyper-parameter\n",
    ":beta   =>  0.5,        # Changed hyper-parameter \n",
    ":sw     =>  0.2,  #### Alex thinks this is out-dated\n",
    ":hw     =>  -1.7, #### Alex thinks this is out-dated\n",
    ":vw     =>  -1.7, #### Alex thinks this is out-dated\n",
    ":constant_excitation      => 0.19, #FIT  parameter\n",
    ":anti_rule_strength       => 0.05,      # Changed hyper-parameter\n",
    ":pro_rule_strength        => 0.05,      # Changed hyper-parameter\n",
    ":target_period_excitation => 1,    #FIT  parameter\n",
    ":right_light_excitation   => 0.5,  #FIT parameter\n",
    ":right_light_pro_extra    => 0,\n",
    ":const_add                => 0, \n",
    ":init_add                 => 0, \n",
    ":rule_and_delay_period    => 0.4,\n",
    ":target_period            => 0.1,\n",
    ":post_target_period       => 0.5,\n",
    ":const_pro_bias           => 0,    #FIT parameter\n",
    ":nPro                     => 100,\n",
    ":nAnti                    => 100,\n",
    ":theta1                   => 0.01,\n",
    ":theta2                   => 0.15,\n",
    ":start_pro                => [-0.5, -0.5, -0.5, -0.5],\n",
    ":start_anti               => [-0.5, -0.5, -0.5, -0.5],\n",
    ":opto_strength  => .7,             #FIT parameter\n",
    ":opto_periods   => [-1.1 -1; 0 20;0 50; 50 100; 100 20],  \n",
    "# The opto \"conditions\" correspond to the rows of opto_periods.\n",
    "# all conditions are in seconds relative to start of the trial\n",
    "# any value before 0 gets changed to 0\n",
    "# any value after the end of trial gets changed to end of trial\n",
    "# Special values allow for variable durations\n",
    "#  20 codes for \"end of trial\"\n",
    "#  -1 codes for \"start of trial\"\n",
    "# 100 codes for \"end of rule and delay period\"\n",
    "# 200 codes for \"end of target period\"\n",
    "# -------------------------------------------------------------\n",
    "# first column is frachit Pro, next column is Anti, rows are conditions\n",
    "# Actual Opto targets\n",
    "#:opto_targets   => [.75 .73;.77 .58;.75 .74; .72 .66;.73 .75] \n",
    "# Fake Targets\n",
    ":opto_targets => [.9 .7; .9 .5; .9 .7; .9 .5; .9 .7]  \n",
    ");\n",
    "\n",
    "# ======= ARGUMENTS AND SEED VALUES:\n",
    "args = [\"sW\", \"vW\", \"hW\", \"dW\", \"constant_excitation\", \"right_light_excitation\", \"target_period_excitation\", \"const_pro_bias\", \"sigma\",\"opto_strength\"];\n",
    "seed = [0.001,  -1.58,   -0.05,  0.001,    0.001,                0.6,                       0.001,                        0.0427,              0.05, .9];   \n",
    "# ======= BOUNDING BOX:\n",
    "bbox = Dict(:sW=>[0 3], :vW=>[-3 3], :hW=>[-3 3], :dW=>[-3 3], :constant_excitation=>[-2 2],\n",
    ":right_light_excitation=>[0.05 4], :target_period_excitation=>[0 4], :const_pro_bias=>[-2 2],\n",
    ":sigma=>[0.1 0.4],:opto_strength=>[0 1]);\n",
    "\n",
    "# ======== SEARCH ZONE:\n",
    "sbox = Dict(:sW=>[0 .5], :vW=>[-.5 .5], :hW=>[-.5 .5], :dW=>[-.5 .5],\n",
    ":constant_excitation=>[-.5 .5], :right_light_excitation=>[0.05 .5], :target_period_excitation=>[0.001 .5],:const_pro_bias=>[-.5 .5], :sigma=>[0.1 .2],:opto_strength=>[.7 .99]);\n",
    "\n",
    "# define a few hyper parameters\n",
    "cbetas = [4e-3];\n",
    "rule_and_delay_periods = [0.2];\n",
    "post_target_periods    = [0.05];\n",
    "num_eval_runs           = 1000;\n",
    "num_optimize_iter       = 2000;\n",
    "num_optimize_restarts   = 100;\n",
    "\n",
    "# define base filename\n",
    "fbasename = \"FarmFields/farm_\"*string(FarmName);\n",
    "\n",
    "for i=1:num_optimize_restarts   # Iterate this many optimizations\n",
    "for cb in cbetas                # Iterate over beta values, if there are multiple\n",
    "    # figure out initial seed for random number generator\n",
    "    sr = convert(Int64, round(time()))\n",
    "    srand(sr);\n",
    "\n",
    "    dista=rand();\n",
    "    println(\"dista\")\n",
    "    println(dista)\n",
    "    myseed1 = copy(seed);\n",
    "\n",
    "    # get initial parameter values by sampling from sbox\n",
    "    myseed = ForwardDiffZeros(length(args),1);\n",
    "    for j=1:length(args)\n",
    "        sym = Symbol(args[j])\n",
    "        if haskey(sbox, sym)\n",
    "#           myseed[j] = sbox[sym][1] + diff(sbox[sym],2)[1]*rand();\n",
    "            myseed[j] = dista*(sbox[sym][1] + diff(sbox[sym],2)[1]*rand())+(1-dista)*myseed1[j];\n",
    "        if myseed[j] > bbox[sym][2]\n",
    "            myseed[j] =bbox[sym][2] - 0.1;\n",
    "        elseif myseed[j] < bbox[sym][1]\n",
    "            myseed[j] =bbox[sym][1]+0.1;\n",
    "        end\n",
    "        else\n",
    "            myseed[j] = seed[j];\n",
    "        end\n",
    "    end\n",
    "\n",
    "    # define opto function with just value output\n",
    "    func =  (;params...) -> JJ(model_params[:nPro], model_params[:nAnti]; \n",
    "        rule_and_delay_periods=rule_and_delay_periods, \n",
    "        theta1=model_params[:theta1], theta2=model_params[:theta2], \n",
    "        post_target_periods=post_target_periods, seedrand=sr, cbeta=cb, \n",
    "        verbose=false, merge(model_params, Dict(params))...)[1]\n",
    "    \n",
    "    # run optimization with all parameters\n",
    "    @printf(\"Going with seed = \"); print_vector_g(myseed); print(\"\\n\")\n",
    "    pars, traj, cost, cpm_traj = bbox_Hessian_keyword_minimization(myseed, args, bbox, func, start_eta = 1, tol=1e-12, verbose=true, verbose_every=10, maxiter=num_optimize_iter)\n",
    "    @printf(\"Came out with cost %g and pars = \", cost); print_vector_g(pars); print(\"\\n\\n\")\n",
    "\n",
    "    # get gradient and hessian at end of optimization \n",
    "    value, grad, hess = keyword_vgh(func, args, pars)\n",
    "\n",
    "    # define function with all outputs, evaluate on training noise\n",
    "    t_standard_func =  (;params...) -> JJ_opto(model_params[:nPro], model_params[:nAnti]; rule_and_delay_periods=rule_and_delay_periods, theta1=model_params[:theta1], theta2=model_params[:theta2], post_target_periods=post_target_periods, seedrand=sr, cbeta=cb, verbose=false, merge(model_params, Dict(params))...)\n",
    "\n",
    "    # run opto model with all outputs, evaluate on training noise\n",
    "    t_opto_scost, t_opto_scost1, t_opto_scost2, t_opto_hitsP,t_opto_hitsA, t_opto_diffsP, t_opto_diffsA, t_opto_bP, t_opto_bA = t_standard_func(;make_dict(args, pars, model_params)...)\n",
    "    \n",
    "   ## evaluate for long form info\n",
    "    # reset random number generator for testing purposes\n",
    "    test_sr = convert(Int64, round(time()))\n",
    "    srand(test_sr); \n",
    "\n",
    "    # define function with all outputs, evaluate on test noise\n",
    "    standard_func =  (;params...) -> JJ_opto(num_eval_runs, num_eval_runs; rule_and_delay_periods=rule_and_delay_periods, theta1=model_params[:theta1], theta2=model_params[:theta2], post_target_periods=post_target_periods, seedrand=test_sr, cbeta=cb, verbose=false, merge(model_params, Dict(params))...)\n",
    "\n",
    "    # run opto model with all outputs, evaluate on test noise\n",
    "    opto_scost, opto_scost1, opto_scost2, opto_hitsP,opto_hitsA, opto_diffsP, opto_diffsA, opto_bP, opto_bA = standard_func(;make_dict(args, pars, model_params)...)\n",
    "\n",
    "   ## Save this run out to a file\n",
    "    # get filename\n",
    "    myfilename = next_file(fbasename, 4)\n",
    "    myfilename = myfilename*\".mat\"\n",
    "    # write file\n",
    "    matwrite(myfilename, Dict(\"args\"=>args, \"myseed\"=>myseed, \"pars\"=>pars, \"traj\"=>traj, \"cost\"=>cost, \"cpm_traj\"=>cpm_traj, \"nPro\"=>model_params[:nPro], \"nAnti\"=>model_params[:nAnti], \"sr\"=>sr, \"cb\"=>cb, \"theta1\"=>model_params[:theta1], \"theta2\"=>model_params[:theta2],\"value\"=>value,\"grad\"=>grad, \"hess\"=>hess, \"model_params\"=>ascii_key_ize(model_params), \"bbox\"=>ascii_key_ize(bbox), \"sbox\"=>ascii_key_ize(sbox), \"rule_and_delay_periods\"=>rule_and_delay_periods, \"post_target_periods\"=>post_target_periods, \"opto_scost\"=>opto_scost, \"opto_scost1\"=>opto_scost1, \"opto_scost2\"=>opto_scost2, \"opto_hitsP\"=>opto_hitsP, \"opto_hitsA\"=>opto_hitsA, \"opto_diffsP\"=>opto_diffsP, \"opto_diffsA\"=>opto_diffsA,\"test_sr\"=>test_sr,\"opto_bP\"=>opto_bP, \"opto_bA\"=>opto_bA, \"t_opto_scost\"=>t_opto_scost, \"t_opto_scost1\"=>t_opto_scost1, \"t_opto_scost2\"=>t_opto_scost2, \"t_opto_hitsP\"=>t_opto_hitsP, \"t_opto_hitsA\"=>t_opto_hitsA, \"t_opto_diffsP\"=>t_opto_diffsP, \"t_opto_diffsA\"=>t_opto_diffsA,\"t_opto_bP\"=>t_opto_bP, \"t_opto_bA\"=>t_opto_bA,\"dista\"=>dista  ))\n",
    "end\n",
    "end\n",
    "\n"
   ]
  },
  {
   "cell_type": "code",
   "execution_count": null,
   "metadata": {
    "collapsed": true
   },
   "outputs": [],
   "source": []
  },
  {
   "cell_type": "code",
   "execution_count": null,
   "metadata": {
    "collapsed": false,
    "scrolled": true
   },
   "outputs": [],
   "source": [
    "using HypothesisTests"
   ]
  },
  {
   "cell_type": "code",
   "execution_count": null,
   "metadata": {
    "collapsed": false
   },
   "outputs": [],
   "source": [
    "N = 20\n",
    "x = 1+0.2*randn(N,1); y = x - 0.05 + 0.1*randn(N,1);\n",
    "\n",
    "\n",
    "using PyPlot\n",
    "pygui(true)\n",
    "\n",
    "figure(1); clf();\n",
    "subplot(1,2,1)\n",
    "\n",
    "for i=1:N\n",
    "    plot([1, 2], [x[i], y[i]], \"b.-\")\n",
    "end\n",
    "\n",
    "p = pvalue(OneSampleTTest(x[:], y[:]))\n",
    "\n",
    "title(\"Paired t-test :  p<\" * @sprintf(\"%.4g\", p))\n",
    "\n",
    "\n",
    "subplot(1,2,2)\n",
    "plot(x-y, \"b.\")"
   ]
  },
  {
   "cell_type": "code",
   "execution_count": null,
   "metadata": {
    "collapsed": false
   },
   "outputs": [],
   "source": []
  },
  {
   "cell_type": "code",
   "execution_count": null,
   "metadata": {
    "collapsed": false
   },
   "outputs": [],
   "source": []
  },
  {
   "cell_type": "code",
   "execution_count": null,
   "metadata": {
    "collapsed": false
   },
   "outputs": [],
   "source": []
  },
  {
   "cell_type": "markdown",
   "metadata": {},
   "source": [
    "# Marino's model in Marino's parameter settings"
   ]
  },
  {
   "cell_type": "code",
   "execution_count": null,
   "metadata": {
    "collapsed": false
   },
   "outputs": [],
   "source": [
    "#@include_me  scaling_up_dt.jl\n",
    "\n",
    "# In its own cell so we can run it just once\n",
    "\n",
    "include(\"pro_anti.jl\")   # Loads all the necessary pre-requisites\n"
   ]
  },
  {
   "cell_type": "code",
   "execution_count": null,
   "metadata": {
    "collapsed": false
   },
   "outputs": [],
   "source": [
    "#@include_me  scaling_up_dt.jl\n",
    "\n",
    "model_params, F, nPro, nAnti = load_run(\"farm_LD0003\"; farmdir=\"goodfarms\")\n",
    "\n",
    "# mypars = merge(model_params, Dict(:post_target_periods=>0.05))\n",
    "\n",
    "cost, cost1s, cost2s, hP, hA, dP, dA, hBP, hBA, proValls, antiValls, opto_fraction, pro_input, anti_input = \n",
    "JJ(model_params[:nPro], model_params[:nAnti]; verbose=true, model_details=true, model_params...);\n",
    "\n",
    "\n",
    "epochs = [\"control\";\"full\";\"rule\";\"delay\";\"choice\"]\n",
    "titles  = [\"epochs\" \"hitP\" \"hitA\" \"diffP\" \"diffA\" \"hBP\" \"hBA\"]\n",
    "\n",
    "@printf(\"\\n\\n--- The original run:\\n\\n\")\n",
    "\n",
    "sleep(0.5)  # A pause just to make sure everything has printed out \n",
    "display([titles; epochs hP hA dP dA hBP hBA])\n"
   ]
  },
  {
   "cell_type": "code",
   "execution_count": null,
   "metadata": {
    "collapsed": false
   },
   "outputs": [],
   "source": [
    "#@include_me  scaling_up_dt.jl\n",
    "\n",
    "# Now scale things to make dt and tau are much larger, and involve 0.25 x the timesteps\n",
    "\n",
    "mypars = merge(model_params, Dict(:opto_times=>[0 0]))  # default is no opto\n",
    "\n",
    "mypars = merge(model_params, Dict(\n",
    ":dt=>0.024,\n",
    ":tau=>0.09,\n",
    ":rule_and_delay_period=>1.2,\n",
    ":target_period=>0.3,\n",
    ":post_target_period=>0.3,\n",
    ":anti_rule_strength=>0.054,\n",
    "# :post_target_period=>0.05, \n",
    "# :rule_and_delay_period=>0.8, \n",
    "# :opto_times=>[0 0],\n",
    "# :opto_times=>[\"target_start/2\" \"target_start\"],\n",
    "# :opto_times=>[\"target_start\", \"target_end\"],\n",
    ":opto_strength=>0.85,\n",
    "))# , :rule_and_delay_period=>0.8))\n",
    "\n",
    "\n",
    "mypars[:rule_and_delay_periods] = [mypars[:rule_and_delay_period]]\n",
    "mypars[:target_periods]         = [mypars[:target_period]]\n",
    "mypars[:post_target_periods]    = [mypars[:post_target_period]]\n",
    "\n",
    "mypars[:opto_periods] = [\n",
    "    \"trial_start\"     \"trial_start\"  ;\n",
    "    \"trial_start\"     \"trial_end\"    ; \n",
    "    \"trial_start\"     \"target_start/2\"  ;\n",
    "    \"target_start/2\"  \"target_start\"  ;\n",
    "    \"target_start\"    \"target_end\"\n",
    "];\n"
   ]
  },
  {
   "cell_type": "code",
   "execution_count": null,
   "metadata": {
    "collapsed": false
   },
   "outputs": [],
   "source": [
    "#@include_me  scaling_up_dt.jl\n",
    "\n",
    "# And run with these params.  \n",
    "\n",
    "# We run 1000 trials of Pro and ANti each, just to get a good estimate of probability correct in each condition\n",
    "\n",
    "mypars[:seedrand] = Int64(round(time()*1000))\n",
    "\n",
    "ntrials = 1000\n",
    "\n",
    "cost, cost1s, cost2s, hP, hA, dP, dA, hBP, hBA, proValls, antiValls, opto_fraction, pro_input, anti_input = \n",
    "JJ(ntrials, ntrials; verbose=true, model_details=true, mypars...);\n",
    "\n",
    "@printf(\"\\n\\n--- The hand-modified run at dt=0.024 at 4x fewer timesteps than the original:\\n\\n\")\n",
    "\n",
    "\n",
    "sleep(0.5)  # A pause just to make sure everything has printed out \n",
    "display([titles; epochs hP hA dP dA hBP hBA])\n"
   ]
  },
  {
   "cell_type": "code",
   "execution_count": null,
   "metadata": {
    "collapsed": false
   },
   "outputs": [],
   "source": [
    "#@include_me  scaling_up_dt.jl\n",
    "\n",
    "# Finally, display some trajectories:\n",
    "\n",
    "pygui(true)\n",
    "\n",
    "# This example is with opto during the delay\n",
    "\n",
    "mypars = merge(mypars, Dict(\n",
    "# :opto_times => [\"target_start/2\"    \"target_start\"],\n",
    ":opto_times => [0    0],\n",
    ":sigma=>0.01\n",
    "))\n",
    "\n",
    "\n",
    "proVs, antiVs, pro_fullV, anti_fullV, opto_fraction, pro_input, anti_input = run_ntrials(1000, 1000; \n",
    "    plot_list=[1:40;], profig=1, antifig=2, opto_units = 1:4, mypars...);\n",
    "\n",
    "Np = size(proVs,2); Na = size(antiVs,2)\n",
    "@printf(\"hBP = %g, hBA = %g\\n\", length(find(proVs[1,:] .>= proVs[4,:]))/Np, length(find(antiVs[4,:] .> antiVs[1,:]))/Na)\n",
    "\n",
    "@printf(\"\\n\\n\\n---\\n\\nmypars contains all the parameters for the new run with the scaled up dt, tau, etc.\\n\\n\")\n"
   ]
  },
  {
   "cell_type": "code",
   "execution_count": null,
   "metadata": {
    "collapsed": false
   },
   "outputs": [],
   "source": [
    "mypars[:dt]"
   ]
  },
  {
   "cell_type": "code",
   "execution_count": null,
   "metadata": {
    "collapsed": false
   },
   "outputs": [],
   "source": [
    "# Print out mypars in full\n",
    "@printf(\"\\n\\nmypars = Dict(\\n\")\n",
    "for (k,v) in mypars\n",
    "    @printf(\":%s => \", k); print(v); print(\",\\n\")\n",
    "end\n",
    "@printf(\")\\n\\n\")"
   ]
  },
  {
   "cell_type": "markdown",
   "metadata": {},
   "source": [
    "# Make a set of reduced nsteps params and run with them"
   ]
  },
  {
   "cell_type": "code",
   "execution_count": null,
   "metadata": {
    "collapsed": false
   },
   "outputs": [],
   "source": [
    "\n",
    "mypars = Dict(\n",
    ":init_add               =>          0,\n",
    ":const_add              =>          0,\n",
    ":noise                  =>          Any[],\n",
    ":input                  =>          0,\n",
    ":seedrand               =>          1510340076445,\n",
    ":start_anti             =>          [-0.5, -0.5, -0.5, -0.5],\n",
    ":start_pro              =>          [-0.5, -0.5, -0.5, -0.5],\n",
    ":rule_and_delay_period  =>          1.2,\n",
    ":rule_and_delay_periods =>          [1.2],\n",
    ":target_period          =>          0.3,\n",
    ":target_periods         =>          [0.3],\n",
    ":post_target_period     =>          0.3,\n",
    ":post_target_periods    =>          [0.3],\n",
    ":anti_rule_strength     =>          0.054,\n",
    ":U_rest                 =>          0,\n",
    ":theta                  =>          0.05,\n",
    ":beta                   =>          0.5,\n",
    ":g_leak                 =>          1,\n",
    ":nsteps                 =>          301,\n",
    ":dt                     =>          0.024,\n",
    ":tau                    =>          0.09,\n",
    ":right_light_excitation =>          0.49924152955481954,\n",
    ":opto_strength          =>          0.85,\n",
    ":opto_periods           =>          String[\n",
    "                                    \"trial_start\" \"trial_start\"; \n",
    "                                    \"trial_start\" \"trial_end\"; \n",
    "                                    \"trial_start\" \"target_start/2\"; \n",
    "                                    \"target_start/2\" \"target_start\"; \n",
    "                                    \"target_start\" \"target_end\"],\n",
    ":opto_targets          =>           [\n",
    "                                    0.9 0.7; \n",
    "                                    0.9 0.5; \n",
    "                                    0.9 0.7; \n",
    "                                    0.9 0.5; \n",
    "                                    0.9 0.7],\n",
    ":theta2 => 0.15,\n",
    ":theta1 => 0.05,\n",
    ":sigma => 0.01,\n",
    ":cbeta => 0.04,\n",
    ":sW => 0.6416875048295452,\n",
    ":hW => 0.054701836208134846,\n",
    ":dW => 0.1267124266934907,\n",
    ":vW => -1.588850577499782,\n",
    ":constant_excitation => -0.37242520737694207,\n",
    ":const_pro_bias => 0.04366897857834884,\n",
    ":target_period_excitation => 0.15315254453690974,\n",
    ":right_light_pro_extra => 0,\n",
    ":pro_rule_strength => 0.05,\n",
    ":nPro => 100,\n",
    ":nAnti => 100,\n",
    ")\n"
   ]
  },
  {
   "cell_type": "code",
   "execution_count": null,
   "metadata": {
    "collapsed": false
   },
   "outputs": [],
   "source": [
    "\n",
    "extra_pars = Dict(\n",
    ":plot_list        =>   [1:5;], \n",
    ":plot_conditions  =>   true,\n",
    ":verbose          =>   true,\n",
    ":opto_periods     =>   String[\"trial_start\" \"trial_start\"],\n",
    ":opto_targets     =>   [0.9,  0.7],\n",
    ":opto_times       =>   [\"trial_start\", \"trial_start\"],       # This one is for run_ntrials\n",
    ":seedrand         =>   Int64(round(time()*1000)),\n",
    ")\n",
    "\n",
    "\n",
    "# proVs, antiVs, pro_fullV, anti_fullV, opto_fraction, pro_input, anti_input = run_ntrials(1000, 1000; \n",
    "#    merge(mypars, extra_pars)...);\n",
    "\n",
    "\n",
    "JJ(mypars[:nPro], mypars[:nAnti]; merge(mypars, extra_pars)...)[1]\n"
   ]
  },
  {
   "cell_type": "code",
   "execution_count": null,
   "metadata": {
    "collapsed": false
   },
   "outputs": [],
   "source": [
    "extra_pars[:search_range] = 0.4\n",
    "extra_pars"
   ]
  },
  {
   "cell_type": "markdown",
   "metadata": {},
   "source": [
    "## Try a search\n",
    "\n",
    "`Temp/answers.jld`   contains the result of taking the result of scaling_up_dt.jl, and then optimizing it on control alone, with Pro target=0.9, Anti target = 0.7.  It optimizes very very well."
   ]
  },
  {
   "cell_type": "code",
   "execution_count": 2,
   "metadata": {
    "collapsed": false
   },
   "outputs": [
    {
     "data": {
      "text/plain": [
       "load_run"
      ]
     },
     "execution_count": 2,
     "metadata": {},
     "output_type": "execute_result"
    }
   ],
   "source": [
    "#@include_me reduced_farm.jl\n",
    "\n",
    "include(\"pro_anti.jl\")\n",
    "\n"
   ]
  },
  {
   "cell_type": "code",
   "execution_count": null,
   "metadata": {
    "collapsed": false
   },
   "outputs": [],
   "source": []
  },
  {
   "cell_type": "code",
   "execution_count": 89,
   "metadata": {
    "collapsed": false
   },
   "outputs": [
    {
     "data": {
      "text/plain": [
       "18-element Array{Symbol,1}:\n",
       " :args      \n",
       " :bbox      \n",
       " :cost      \n",
       " :cpm_traj  \n",
       " :dA        \n",
       " :dP        \n",
       " :extra_pars\n",
       " :ftraj     \n",
       " :hA        \n",
       " :hBA       \n",
       " :hBP       \n",
       " :hP        \n",
       " :mypars    \n",
       " :nAnti     \n",
       " :nPro      \n",
       " :pars      \n",
       " :seed      \n",
       " :traj      "
      ]
     },
     "execution_count": 89,
     "metadata": {},
     "output_type": "execute_result"
    }
   ],
   "source": [
    "@load(\"FarmFields/farm_C3_0027.jld\")"
   ]
  },
  {
   "cell_type": "code",
   "execution_count": 90,
   "metadata": {
    "collapsed": false
   },
   "outputs": [
    {
     "data": {
      "text/plain": [
       "9×2 Array{Any,2}:\n",
       " \"dW\"                         0.198366 \n",
       " \"target_period_excitation\"   0.212294 \n",
       " \"const_pro_bias\"             0.0247642\n",
       " \"hW\"                        -0.277058 \n",
       " \"sW\"                         1.54588  \n",
       " \"vW\"                        -1.41822  \n",
       " \"sigma\"                      0.1      \n",
       " \"constant_excitation\"       -0.633155 \n",
       " \"right_light_excitation\"     0.452452 "
      ]
     },
     "execution_count": 90,
     "metadata": {},
     "output_type": "execute_result"
    }
   ],
   "source": [
    "[args pars]"
   ]
  },
  {
   "cell_type": "code",
   "execution_count": 141,
   "metadata": {
    "collapsed": false
   },
   "outputs": [
    {
     "data": {
      "text/plain": [
       "0.09"
      ]
     },
     "execution_count": 141,
     "metadata": {},
     "output_type": "execute_result"
    },
    {
     "name": "stderr",
     "output_type": "stream",
     "text": [
      "QPixmap::scaled: Pixmap is a null pixmap\n"
     ]
    }
   ],
   "source": [
    "mypars[:tau]"
   ]
  },
  {
   "cell_type": "code",
   "execution_count": null,
   "metadata": {
    "collapsed": false
   },
   "outputs": [],
   "source": [
    "#@include_me reduced_farm.jl\n",
    "\n",
    "\n",
    "mypars = Dict(\n",
    ":init_add               =>          0,\n",
    ":const_add              =>          0,\n",
    ":noise                  =>          Any[],\n",
    ":input                  =>          0,\n",
    ":seedrand               =>          1510340076445,\n",
    ":start_anti             =>          [-0.5, -0.5, -0.5, -0.5],\n",
    ":start_pro              =>          [-0.5, -0.5, -0.5, -0.5],\n",
    ":rule_and_delay_period  =>          1.2,\n",
    ":rule_and_delay_periods =>          [1.2],\n",
    ":target_period          =>          0.3,\n",
    ":target_periods         =>          [0.3],\n",
    ":post_target_period     =>          0.3,\n",
    ":post_target_periods    =>          [0.3],\n",
    ":anti_rule_strength     =>          0.054,\n",
    ":U_rest                 =>          0,\n",
    ":theta                  =>          0.05,\n",
    ":beta                   =>          0.5,\n",
    ":g_leak                 =>          1,\n",
    ":nsteps                 =>          301,\n",
    ":dt                     =>          0.024,\n",
    ":tau                    =>          0.09,\n",
    ":right_light_excitation =>          0.49924152955481954,\n",
    ":opto_strength          =>          0.85,\n",
    ":opto_periods           =>          String[\n",
    "                                    \"trial_start\" \"trial_start\"; \n",
    "                                    \"trial_start\" \"trial_end\"; \n",
    "                                    \"trial_start\" \"target_start/2\"; \n",
    "                                    \"target_start/2\" \"target_start\"; \n",
    "                                    \"target_start\" \"target_end\"],\n",
    ":opto_targets          =>           [\n",
    "                                    0.9 0.7; \n",
    "                                    0.9 0.5; \n",
    "                                    0.9 0.7; \n",
    "                                    0.9 0.5; \n",
    "                                    0.9 0.7],\n",
    ":theta2 => 0.15,\n",
    ":theta1 => 0.05,\n",
    ":sigma => 0.01,\n",
    ":cbeta => 0.04,\n",
    ":sW => 0.6416875048295452,\n",
    ":hW => 0.054701836208134846,\n",
    ":dW => 0.1267124266934907,\n",
    ":vW => -1.588850577499782,\n",
    ":constant_excitation => -0.37242520737694207,\n",
    ":const_pro_bias => 0.04366897857834884,\n",
    ":target_period_excitation => 0.15315254453690974,\n",
    ":right_light_pro_extra => 0,\n",
    ":pro_rule_strength => 0.05,\n",
    ":nPro => 100,\n",
    ":nAnti => 100,\n",
    ")\n"
   ]
  },
  {
   "cell_type": "code",
   "execution_count": null,
   "metadata": {
    "collapsed": false
   },
   "outputs": [],
   "source": [
    "#@include_me  reduced_farm.jl\n",
    "\n",
    "\n",
    "extra_pars = Dict(\n",
    ":plot_list        =>   [], \n",
    ":plot_conditions  =>   true,\n",
    ":verbose          =>   true,\n",
    ":opto_periods     =>   String[\"trial_start\" \"trial_start-0.1\"],\n",
    ":opto_targets     =>   [0.9,  0.7],\n",
    ":opto_times       =>   [\"trial_start\", \"trial_start-0.1\"],       # This one is for run_ntrials\n",
    ":seedrand         =>   Int64(round(time()*1000)),  # 1510426840370  Works wonders with search_range = 0.01\n",
    ":cbeta            =>   0.001,\n",
    ":search_range     =>   1.2,\n",
    ")\n",
    "\n",
    "\n",
    "search_conditions = Dict(   # :param    default_start   search_box  bound_box\n",
    ":vW     =>                   [mypars[:vW],                       [-0.5, 0.5],  [-3,   3]], \n",
    ":hW     =>                   [mypars[:hW],                       [-0.5, 0.5],  [-3,   3]],\n",
    ":dW     =>                   [mypars[:dW],                       [-0.5, 0.5],  [-3,   3]],\n",
    ":sW     =>                   [mypars[:sW],                       [0,    0.5],  [0,    3]],\n",
    ":sigma  =>                   [0.11,                              [0.1,  0.2],  [0.1, 0.4]],\n",
    ":constant_excitation      => [mypars[:constant_excitation],      [-1,     1],  [-2,   2]], \n",
    ":target_period_excitation => [mypars[:target_period_excitation], [0.001,0.5],  [0     4]],\n",
    ":right_light_excitation   => [mypars[:right_light_excitation],   [0.05, 0.5],  [0.05, 4]],\n",
    ":const_pro_bias           => [mypars[:const_pro_bias],           [-0.5, 0.5],  [-2,   2]],\n",
    "# :opto_strength            => [mypars[:opto_strength],            [0.7, 0.99],  [0,    1]],\n",
    ")\n",
    "\n",
    "\n"
   ]
  },
  {
   "cell_type": "code",
   "execution_count": null,
   "metadata": {
    "collapsed": false
   },
   "outputs": [],
   "source": [
    "#@include_me  reduced_farm.jl\n",
    "\n",
    "\n",
    "search_range = extra_pars[:search_range]; \n",
    "\n",
    "fbasename = \"FarmFields/farm_C3_\"\n",
    "\n",
    "while true\n",
    "    args = []; seed = []; bbox = Dict()\n",
    "    for k in keys(search_conditions)\n",
    "        search_box = search_conditions[k][2]\n",
    "        args = [args; String(k)]\n",
    "        myseed = search_conditions[k][1] + search_range*(rand()-0.5)*diff(search_box); myseed = myseed[1]\n",
    "        if myseed > search_box[2]; myseed = search_box[2]; end\n",
    "        if myseed < search_box[1]; myseed = search_box[1]; end\n",
    "        seed = [seed ;  myseed]\n",
    "        # seed = [seed ; search_conditions[k][1]]\n",
    "        bbox = merge(bbox, Dict(k => Array{Float64}(search_conditions[k][3])))\n",
    "    end\n",
    "    args = Array{String}(args)\n",
    "    seed = Array{Float64}(seed)\n",
    "\n",
    "\n",
    "\n",
    "    func =  (;params...) -> JJ(mypars[:nPro], mypars[:nAnti]; verbose=false, \n",
    "    merge(merge(mypars, extra_pars), Dict(params))...)[1]\n",
    "\n",
    "    try\n",
    "        pars, traj, cost, cpm_traj, ftraj = bbox_Hessian_keyword_minimization(seed, args, bbox, func, \n",
    "            start_eta = 0.1, tol=1e-12, \n",
    "            verbose=true, verbose_every=1, maxiter=1000)\n",
    "\n",
    "\n",
    "        cost, cost1s, cost2s, hP, hA, dP, dA, hBP, hBA = JJ(10000, 10000; verbose=false, \n",
    "        make_dict(args, pars, merge(merge(mypars, extra_pars)))...)\n",
    "\n",
    "        myfilename = next_file(fbasename, 4)\n",
    "        myfilename = myfilename*\".jld\"\n",
    "        # write file\n",
    "        save(myfilename, Dict(\"nPro\"=>mypars[:nPro], \"nAnti\"=>mypars[:nAnti], \n",
    "        \"mypars\"=>mypars, \"extra_pars\"=>extra_pars, \"args\"=>args, \"seed\"=>seed, \"bbox\"=>bbox, \n",
    "        \"pars\"=>pars, \"traj\"=>traj, \"cost\"=>cost, \"cpm_traj\"=>cpm_traj, \"ftraj\"=>ftraj,\n",
    "        \"hP\"=>hP, \"hA\"=>hA, \"dP\"=>dP, \"dA\"=>dA, \"hBP\"=>hBP, \"hBA\"=>hBA))\n",
    "    catch\n",
    "        @printf(\"\\n\\nWhoopsety, unkown error!   Trying new random seed.\\n\\n\")\n",
    "    end\n",
    "end"
   ]
  },
  {
   "cell_type": "code",
   "execution_count": null,
   "metadata": {
    "collapsed": false
   },
   "outputs": [],
   "source": []
  },
  {
   "cell_type": "code",
   "execution_count": null,
   "metadata": {
    "collapsed": false
   },
   "outputs": [],
   "source": [
    "effective_search_box = Dict()\n",
    "for k in keys(search_conditions)\n",
    "    search_box = search_conditions[k][2]\n",
    "    ebox = zeros(1,2)\n",
    "    ebox[1] = search_conditions[k][1] - 0.5*diff(search_box)[1]\n",
    "    ebox[2] = search_conditions[k][1] + 0.5*diff(search_box)[1]\n",
    "    effective_search_box[k] = ebox\n",
    "end\n",
    "\n",
    "effective_search_box"
   ]
  },
  {
   "cell_type": "code",
   "execution_count": null,
   "metadata": {
    "collapsed": true
   },
   "outputs": [],
   "source": []
  },
  {
   "cell_type": "markdown",
   "metadata": {},
   "source": [
    "# Analyzing runs from reduced_farm.jl"
   ]
  },
  {
   "cell_type": "code",
   "execution_count": null,
   "metadata": {
    "collapsed": true
   },
   "outputs": [],
   "source": [
    "#@include_me  analyze_reduced_farm.jl\n",
    "\n",
    "include(\"pro_anti.jl\")\n",
    "\n",
    "#\n",
    "#  We're assuming that results of reduced_farm.jl were already generated.\n",
    "#"
   ]
  },
  {
   "cell_type": "code",
   "execution_count": 112,
   "metadata": {
    "collapsed": false
   },
   "outputs": [
    {
     "name": "stderr",
     "output_type": "stream",
     "text": [
      "\u001b[1m\u001b[33mWARNING: \u001b[39m\u001b[22m\u001b[33mreplacing docs for 'show_run :: Union{Tuple{Any,Any}, Tuple{Any}}' in module 'Main'.\u001b[39m\n"
     ]
    },
    {
     "data": {
      "text/plain": [
       "show_run"
      ]
     },
     "execution_count": 112,
     "metadata": {},
     "output_type": "execute_result"
    }
   ],
   "source": [
    "#@include_me  analyze_reduced_farm.jl\n",
    "\n",
    "\"\"\"\n",
    "function show_run(run_name, ntrials=100; further_pars...)\n",
    "\n",
    "Given a string representing the filename of a run generated in reduced_farm.jl\n",
    "(for example, \"farm_C3_0027.jld\"), tries to load that file from within \"FarmFields/\"\n",
    "runs it to plot 30 Pro trials in figure 1 and 30 Anti trials in figure 2,\n",
    "and indicates in those figures the corresponding number of binarized hits.\n",
    "\n",
    "Any further parameters override the contents of the farm and are passed on to \n",
    "run_ntrials(), so for example you can set rule_and_delay_period=0.2\n",
    "\"\"\"\n",
    "function show_run(run_name, ntrials=100; further_pars...)\n",
    "\n",
    "    pygui(true)\n",
    "    figure(1); clf();\n",
    "    figure(2); clf();\n",
    "\n",
    "    d = load(\"FarmFields/\" * run_name)\n",
    "\n",
    "    extra_pars = d[\"extra_pars\"]\n",
    "    mypars     = d[\"mypars\"]\n",
    "    args       = d[\"args\"]\n",
    "    pars       = d[\"pars\"]\n",
    "\n",
    "    delete!(extra_pars, :plot_list)   # we want our own plot_list\n",
    "    delete!(extra_pars, :seedrand)    # don't use the farm's seedrand. (Could change this if wanted)\n",
    "\n",
    "    # Add or replace alternative period values if needed\n",
    "    # if rule_and_delay_period != nothing; extra_pars[:rule_and_delay_period] = rule_and_delay_period; end;\n",
    "    # if target_period         != nothing; extra_pars[:target_period]         = target_period;         end;\n",
    "    # if post_target_period    != nothing; extra_pars[:post_target_period]    = post_target_period;    end;\n",
    "\n",
    "    # Run it\n",
    "    proVs, antiVs = run_ntrials(ntrials, ntrials; plot_list=[1:30;], \n",
    "        merge(make_dict(args, pars, merge(mypars, extra_pars)), Dict(further_pars))...)[1:2]\n",
    "\n",
    "    # Add titles with the binarized hit rates\n",
    "    hBP = 100*length(find(proVs[1,:]  .> proVs[4,:])) /size(proVs, 2)\n",
    "    hBA = 100*length(find(antiVs[4,:] .> antiVs[1,:]))/size(antiVs,2)\n",
    "\n",
    "    figure(1); subplot(3,1,1); title(@sprintf(\"%s: binarized Pro  hits = %.1f %%\\n\", run_name, hBP))\n",
    "    figure(2); subplot(3,1,1); title(@sprintf(\"%s: binarized Anti hits = %.1f %%\\n\", run_name, hBA))\n",
    "    \n",
    "    return hBP, hBA\n",
    "end\n"
   ]
  },
  {
   "cell_type": "code",
   "execution_count": 144,
   "metadata": {
    "collapsed": false
   },
   "outputs": [
    {
     "data": {
      "text/plain": [
       "([10, 21, 23, 26, 27, 29, 40, 41, 52, 60  …  1533, 1538, 1548, 1551, 1552, 1557, 1558, 1567, 1576, 1582], [0.5992 0.3987 0.48625 0.477268; 0.492 0.5039 0.998939 0.999669; … ; 0.6679 0.3381 0.67854 0.709378; 0.9801 0.0021 0.355964 0.0506895], Any[\"farm_C3_0001.jld\", \"farm_C3_0002.jld\", \"farm_C3_0003.jld\", \"farm_C3_0004.jld\", \"farm_C3_0005.jld\", \"farm_C3_0006.jld\", \"farm_C3_0007.jld\", \"farm_C3_0008.jld\", \"farm_C3_0009.jld\", \"farm_C3_0010.jld\"  …  \"farm_C3_1579.jld\", \"farm_C3_1580.jld\", \"farm_C3_1581.jld\", \"farm_C3_1582.jld\", \"farm_C3_1583.jld\", \"farm_C3_1584.jld\", \"farm_C3_1585.jld\", \"farm_C3_1586.jld\", \"farm_C3_1587.jld\", \"farm_C3_1588.jld\"])"
      ]
     },
     "execution_count": 144,
     "metadata": {},
     "output_type": "execute_result"
    }
   ],
   "source": [
    "#@include_me analyze_reduced_farm.jl\n",
    "\n",
    "# IDENTIFY GOOD RUNS FROM C3 FARM\n",
    "\n",
    "I = results = files = 0\n",
    "\n",
    "recompute_me = false; if recompute_me\n",
    "    results = zeros(0,4)\n",
    "    files = []\n",
    "    for f in filter(x -> startswith(x, \"farm_C3_\"), readdir(\"FarmFields/\"))\n",
    "        hBP, hBA, dP, dA= load(\"FarmFields/\" * f, \"hBP\", \"hBA\", \"dP\", \"dA\")\n",
    "        results = [results; [hBP hBA dP dA]]; \n",
    "        files   = [files ; f]\n",
    "    end\n",
    "    \n",
    "    I = find((results[:,1] .> 0.9) .& (results[:,2] .> 0.65) .& (results[:,3].>0.85) .& (results[:,4].>0.85))\n",
    "\n",
    "    @save \"Temp/C3_results.jld\" results files I\n",
    "else\n",
    "    I, results, files = load(\"Temp/C3_results.jld\", \"I\", \"results\", \"files\");\n",
    "end\n"
   ]
  },
  {
   "cell_type": "code",
   "execution_count": 146,
   "metadata": {
    "collapsed": false
   },
   "outputs": [
    {
     "name": "stderr",
     "output_type": "stream",
     "text": [
      "\u001b[1m\u001b[33mWARNING: \u001b[39m\u001b[22m\u001b[33mreplacing docs for 'go_over_good_runs :: Tuple{Any,Any}' in module 'Main'.\u001b[39m\n"
     ]
    },
    {
     "data": {
      "text/plain": [
       "go_over_good_runs"
      ]
     },
     "execution_count": 146,
     "metadata": {},
     "output_type": "execute_result"
    }
   ],
   "source": [
    "#@include_me  analyze_reduced_farm.jl\n",
    "\n",
    "\"\"\"\n",
    "    go_over_good_runs(files, I)\n",
    "\n",
    "Given a list of files, and a list of indices into those files, iterates over the indicated\n",
    "filenames, running show_run() on them, and then asking for user input.\n",
    "\"\"\"\n",
    "function go_over_good_runs(files, I)\n",
    "    for k=1:length(I)\n",
    "        show_run(files[I[k]])\n",
    "\n",
    "        @printf(\"Any key to continue, q to quit: \")\n",
    "        ans = chomp(readline())\n",
    "        if ans==\"q\" || ans==\"Q\"\n",
    "            break\n",
    "        end\n",
    "    end\n",
    "end\n"
   ]
  },
  {
   "cell_type": "code",
   "execution_count": 147,
   "metadata": {
    "collapsed": false
   },
   "outputs": [
    {
     "name": "stdout",
     "output_type": "stream",
     "text": [
      "Any key to continue, q to quit: STDIN> \n",
      "Any key to continue, q to quit: STDIN> \n",
      "Any key to continue, q to quit: STDIN> q\n"
     ]
    }
   ],
   "source": [
    "go_over_good_runs(files, I)"
   ]
  },
  {
   "cell_type": "code",
   "execution_count": 140,
   "metadata": {
    "collapsed": false
   },
   "outputs": [
    {
     "data": {
      "text/plain": [
       "(93.5, 63.5)"
      ]
     },
     "execution_count": 140,
     "metadata": {},
     "output_type": "execute_result"
    }
   ],
   "source": [
    "#@include_me analyze_reduced_farm.jl\n",
    "\n",
    "# show_run(\"farm_C3_0027.jld\", 400; opto_times=[\"trial_start\", \"trial_end\"], opto_strength=0.75)\n",
    "# show_run(\"farm_C3_0027.jld\", 400; opto_times=[\"target_start-0.5\", \"target_start\"], opto_strength=0.4, \n",
    "#    const_pro_bias=0.02476, anti_rule_strength=0.05)\n",
    "show_run(\"farm_C3_0027.jld\", 400; opto_times=[\"target_start+0.15\", \"target_end\"], opto_strength=0.4, \n",
    "    const_pro_bias=0.02476, anti_rule_strength=0.054)"
   ]
  },
  {
   "cell_type": "code",
   "execution_count": 152,
   "metadata": {
    "collapsed": false
   },
   "outputs": [],
   "source": [
    "#@include_me analyze_reduced_farm.jl\n",
    "\n",
    "#  TARGET PERIOD OPTO\n",
    "\n",
    "run_name = \"farm_C3_0027.jld\"\n",
    "recompute_me = false; if recompute_me\n",
    "    ostrengths = 0.5:0.1:1\n",
    "    phits      = zeros(1, length(ostrengths))\n",
    "    ahits      = zeros(1, length(ostrengths))\n",
    "\n",
    "    for i=1:length(ostrengths)\n",
    "        phits[i], ahits[i] = show_run(run_name, 4000; \n",
    "        opto_times=[\"target_start+0.016\", \"target_end+0.016\"], opto_strength=ostrengths[i])\n",
    "        @printf(\"ostrength=%g, phits=%.1f, ahits=%.1f\\n\", ostrengths[i], phits[i], ahits[i])\n",
    "    end\n",
    "\n",
    "    @save(\"Temp/opto_target.jld\", ostrengths, ahits, phits)\n",
    "else\n",
    "    ostrengths, ahits, phits = load(\"Temp/opto_target.jld\", \"ostrengths\", \"ahits\", \"phits\")\n",
    "end\n",
    "\n",
    "figure(3);clf();\n",
    "plot(ostrengths, phits[:], \".-\", ostrengths, ahits[:], \".-\")\n",
    "legend([\"pro\", \"anti\"])\n",
    "xlabel(\"opto strength\")\n",
    "ylabel(\"binarized hits\")\n",
    "title(run_name * \" : TARGET PERIOD opto\")\n",
    "grid(\"on\")\n",
    "\n",
    "\n",
    "#  DELAY PERIOD OPTO  ---------\n",
    "\n",
    "recompute_me = false; if recompute_me\n",
    "    ostrengths = 0.5:0.1:1\n",
    "    phits      = zeros(1, length(ostrengths))\n",
    "    ahits      = zeros(1, length(ostrengths))\n",
    "\n",
    "    for i=1:length(ostrengths)\n",
    "        phits[i], ahits[i] = show_run(run_name, 4000; \n",
    "        opto_times=[\"target_start-0.5\", \"target_start\"], opto_strength=ostrengths[i])\n",
    "        @printf(\"ostrength=%g, phits=%.1f, ahits=%.1f\\n\", ostrengths[i], phits[i], ahits[i])\n",
    "    end\n",
    "    @save(\"Temp/opto_delay.jld\", ostrengths, ahits, phits)\n",
    "else\n",
    "    ostrengths, ahits, phits = load(\"Temp/opto_delay.jld\", \"ostrengths\", \"ahits\", \"phits\")\n",
    "end\n",
    "\n",
    "figure(4);clf();\n",
    "plot(ostrengths, phits[:], \".-\", ostrengths, ahits[:], \".-\")\n",
    "legend([\"pro\", \"anti\"])\n",
    "xlabel(\"opto strength\")\n",
    "ylabel(\"binarized hits\")\n",
    "title(run_name * \" : last 500 ms of DELAY PERIOD opto\")\n",
    "grid(\"on\")"
   ]
  },
  {
   "cell_type": "code",
   "execution_count": null,
   "metadata": {
    "collapsed": false
   },
   "outputs": [],
   "source": []
  },
  {
   "cell_type": "code",
   "execution_count": 151,
   "metadata": {
    "collapsed": false
   },
   "outputs": [],
   "source": []
  },
  {
   "cell_type": "code",
   "execution_count": null,
   "metadata": {
    "collapsed": false
   },
   "outputs": [],
   "source": [
    "search_conditions"
   ]
  },
  {
   "cell_type": "code",
   "execution_count": null,
   "metadata": {
    "collapsed": false
   },
   "outputs": [],
   "source": [
    "@load \"Temp/farm_C1_0001.jld\"\n",
    "\n",
    "mypars[:seedrand] = Int64(round(time()*1000))\n",
    "\n",
    "cost, cost1s, cost2s, hP, hA, dP, dA, hBP, hBA = JJ(10000, 10000; verbose=false, \n",
    "make_dict(args, pars, merge(merge(mypars, extra_pars)))...)\n",
    "\n",
    "[hBP  hBA]"
   ]
  },
  {
   "cell_type": "code",
   "execution_count": null,
   "metadata": {
    "collapsed": false
   },
   "outputs": [],
   "source": [
    "[hP hA dP dA hBP hBA]"
   ]
  },
  {
   "cell_type": "code",
   "execution_count": 6,
   "metadata": {
    "collapsed": false
   },
   "outputs": [
    {
     "name": "stdout",
     "output_type": "stream",
     "text": [
      "STDIN> q\n"
     ]
    },
    {
     "data": {
      "text/plain": [
       "\"q\""
      ]
     },
     "execution_count": 6,
     "metadata": {},
     "output_type": "execute_result"
    }
   ],
   "source": [
    "q = chomp(readline())\n",
    "q"
   ]
  },
  {
   "cell_type": "code",
   "execution_count": null,
   "metadata": {
    "collapsed": false
   },
   "outputs": [],
   "source": []
  },
  {
   "cell_type": "code",
   "execution_count": null,
   "metadata": {
    "collapsed": false
   },
   "outputs": [],
   "source": [
    "show_run(\"farm_C3_0002.jld\")\n"
   ]
  },
  {
   "cell_type": "code",
   "execution_count": null,
   "metadata": {
    "collapsed": false
   },
   "outputs": [],
   "source": [
    "figure(1); subplot(3,1,1); title(@sprintf(\"%s: binarized Pro  hits = %.1f %%\\n\", run_name, 97.3))\n"
   ]
  },
  {
   "cell_type": "code",
   "execution_count": null,
   "metadata": {
    "collapsed": true
   },
   "outputs": [],
   "source": [
    "# @save \"Temp/answers.jld\" \n",
    "# @load \"Temp/answers.jld\""
   ]
  },
  {
   "cell_type": "code",
   "execution_count": null,
   "metadata": {
    "collapsed": false
   },
   "outputs": [],
   "source": [
    "@load \"Temp/answers3.jld\""
   ]
  },
  {
   "cell_type": "code",
   "execution_count": null,
   "metadata": {
    "collapsed": false
   },
   "outputs": [],
   "source": [
    "[args pars seed]"
   ]
  },
  {
   "cell_type": "code",
   "execution_count": null,
   "metadata": {
    "collapsed": false
   },
   "outputs": [],
   "source": [
    "pygui(true)\n",
    "figure(1); clf();\n",
    "\n",
    "delete!(extra_pars, :plot_list)\n",
    "delete!(extra_pars, :seedrand)\n",
    "\n",
    "more_pars = Dict(\n",
    "# :post_target_period => 0.25,\n",
    ":rule_and_delay_period => 2,\n",
    ")\n",
    "proVs, antiVs = run_ntrials(1000, 1000; plot_list=[1:10;], make_dict(args, pars, merge(merge(mypars, extra_pars), more_pars))...)[1:2]\n",
    "\n",
    "@printf(\"Binarized Pro hits = %.1f %%\\n\", 100*length(find(proVs[1,:] .> proVs[4,:]))/size(proVs,2))\n",
    "@printf(\"Binarized Anti hits = %.1f %%\\n\", 100*length(find(antiVs[4,:] .> antiVs[1,:]))/size(antiVs,2))"
   ]
  },
  {
   "cell_type": "code",
   "execution_count": null,
   "metadata": {
    "collapsed": false
   },
   "outputs": [],
   "source": []
  },
  {
   "cell_type": "code",
   "execution_count": null,
   "metadata": {
    "collapsed": false
   },
   "outputs": [],
   "source": [
    "search_conditions"
   ]
  },
  {
   "cell_type": "code",
   "execution_count": null,
   "metadata": {
    "collapsed": false
   },
   "outputs": [],
   "source": [
    "include(\"pro_anti.jl\")"
   ]
  },
  {
   "cell_type": "code",
   "execution_count": null,
   "metadata": {
    "collapsed": false
   },
   "outputs": [],
   "source": [
    "bbox[:dW]"
   ]
  },
  {
   "cell_type": "code",
   "execution_count": null,
   "metadata": {
    "collapsed": false
   },
   "outputs": [],
   "source": [
    "[1, [2,3], 4]\n"
   ]
  },
  {
   "cell_type": "code",
   "execution_count": null,
   "metadata": {
    "collapsed": false
   },
   "outputs": [],
   "source": []
  },
  {
   "cell_type": "code",
   "execution_count": null,
   "metadata": {
    "collapsed": false
   },
   "outputs": [],
   "source": [
    "#  size(proValls)  (4, 301, 100, 5)\n",
    "\n",
    "figure(3); clf(); N=40\n",
    "\n",
    "t = 0:size(proValls, 2)-1; t = model_params[:dt]*t\n",
    "\n",
    "figure(3); clf();\n",
    "for i=1:N \n",
    "    plot_PA(t, 0, proValls[:,:,i,1], fignum=3, plot_Us=false,\n",
    "    rule_and_delay_period=model_params[:rule_and_delay_period], target_period=model_params[:target_period],\n",
    "    post_target_period = model_params[:post_target_period])\n",
    "end\n",
    "\n",
    "figure(4); clf();\n",
    "for i=1:N \n",
    "    plot_PA(t, 0, antiValls[:,:,i,1], fignum=4, plot_Us=false,\n",
    "    rule_and_delay_period=model_params[:rule_and_delay_period], target_period=model_params[:target_period],\n",
    "    post_target_period = model_params[:post_target_period])\n",
    "end\n"
   ]
  },
  {
   "cell_type": "code",
   "execution_count": null,
   "metadata": {
    "collapsed": false
   },
   "outputs": [],
   "source": [
    "print(model_params)"
   ]
  },
  {
   "cell_type": "code",
   "execution_count": null,
   "metadata": {
    "collapsed": false
   },
   "outputs": [],
   "source": []
  },
  {
   "cell_type": "code",
   "execution_count": null,
   "metadata": {
    "collapsed": false
   },
   "outputs": [],
   "source": []
  },
  {
   "cell_type": "code",
   "execution_count": null,
   "metadata": {
    "collapsed": false
   },
   "outputs": [],
   "source": [
    "# Define core model parameters\n",
    "model_params = Dict(\n",
    ":dt     =>  0.002, \n",
    ":tau    =>  0.02, \n",
    ":vW     =>  -1.58,\n",
    ":hW     =>  -0.05,\n",
    ":sW     =>  0,\n",
    ":dW     =>  0,\n",
    ":nsteps =>  301, \n",
    ":noise  =>  [], \n",
    ":sigma  =>  0.08, \n",
    ":input  =>  0, \n",
    ":g_leak =>  1, \n",
    ":U_rest =>  0,\n",
    ":theta  =>  0.05, \n",
    ":beta   =>  0.5, \n",
    ":constant_excitation      => 0, \n",
    ":anti_rule_strength       => 0.05,\n",
    ":pro_rule_strength        => 0.05, \n",
    ":target_period_excitation => 0,\n",
    ":right_light_excitation   => 0.6, \n",
    ":right_light_pro_extra    => 0,\n",
    ":const_add                => 0, \n",
    ":init_add                 => 0, \n",
    ":rule_and_delay_period    => 0.2,\n",
    ":target_period            => 0.1,\n",
    ":post_target_period       => 0.1,\n",
    ":const_pro_bias           => 0.0427,\n",
    ":nPro                     => 100,\n",
    ":nAnti                    => 100,\n",
    ":theta1                   => 0.05,\n",
    ":theta2                   => 0.15,\n",
    ":opto_strength  => .9,\n",
    ":opto_periods   => [\n",
    "    0               0 ; \n",
    "    0              \"trial_end\" ;\n",
    "    \"target_start/2\"  \"target_start\";\n",
    "    \"target_start\"    \"target_end\"],  \n",
    "# set of opto conditions, in seconds, with 0 the start \n",
    "# of the trial (i.e. start of rule_and_delay_period), anything before 0 or after end of trial gets ignored.\n",
    "#:opto_targets   => [.75 .73;.77 .58;.75 .74;.72 .66;.73 .75] \n",
    ":opto_targets => [\n",
    "    .9      .7; \n",
    "    .9      .5; \n",
    "    .9      .55; \n",
    "    .9      .7;\n",
    "    ],  # first column is frachit Pro, next column is Anti, rows are conditions\n",
    "# The \"conditions\" correspond to the rows of opto_periods.\n",
    ");\n",
    "\n",
    "\n",
    "# ======= ARGUMENTS AND SEED VALUES:\n",
    "args = [\"sW\", \"vW\", \"hW\", \"dW\", \"constant_excitation\", \"right_light_excitation\", \"target_period_excitation\"]\n",
    "seed = [0.001,  -1.58,   -0.05,  0.001,    0.001,                0.6,                       0.001]   \n",
    "args = [args ; [\"const_pro_bias\", \"sigma\",\"opto_strength\", \"pro_rule_strength\", \"anti_rule_strength\"]];\n",
    "seed = [seed ; [  0.0427,            .05,      .9,              0.05,                0.05]];\n",
    "\n",
    "# ======= BOUNDING BOX:\n",
    "bbox = Dict(:sW=>[0 3], :vW=>[-3 3], :hW=>[-3 3], :dW=>[-3 3], :constant_excitation=>[-2 2],\n",
    ":right_light_excitation=>[0.05 4], :target_period_excitation=>[0 4], :const_pro_bias=>[-2 2],\n",
    ":sigma=>[0.01 0.2],:opto_strength=>[0 1]);\n",
    "\n",
    "# ======== SEARCH ZONE:\n",
    "sbox = Dict(:sW=>[0 .5], :vW=>[-.5 .5], :hW=>[-.5 .5], :dW=>[-.5 .5],\n",
    ":constant_excitation=>[-.5 .5], :right_light_excitation=>[0.05 .5], :target_period_excitation=>[0.001 .5],:const_pro_bias=>[-.5 .5], :sigma=>[0.02 0.19],:opto_strength=>[.7 .99]);\n",
    "\n",
    "# define a few hyper parameters\n",
    "cbetas = [0.04];\n",
    "rule_and_delay_periods = [0.2];\n",
    "post_target_periods    = [0.1];\n",
    "num_eval_runs           = 100;\n",
    "num_optimize_iter       = 2000;\n",
    "num_optimize_restarts   = 1;\n",
    "\n",
    "\n",
    "cb = 0.04\n",
    "\n",
    "# figure out initial seed for random number generator\n",
    "sr = convert(Int64, round(time()))\n",
    "srand(sr);\n",
    "\n",
    "mypars = merge(model_params, Dict(:opto_times => [\"target_start\", \"target_end\"], :rule_and_delay_period=>0.2,\n",
    ":anti_rule_strength=>0.06))\n",
    "# mypars = merge(model_params, Dict(:opto_times => [0 0], :rule_and_delay_period=>0.1,\n",
    "# :anti_rule_strength=>0.06))\n",
    "pygui(true)\n",
    "proVs, antiVs, pro_fullV, anti_fullV, opto_fraction, pro_input, anti_input = run_ntrials(15, 15; \n",
    "plot_list=[1:15;], profig=1, antifig=2, opto_units = 1:4, mypars...)\n",
    "\n",
    "# define opto function with just value output\n",
    "func =  (;params...) -> JJ(model_params[:nPro], model_params[:nAnti]; \n",
    "    rule_and_delay_periods=rule_and_delay_periods, theta1=model_params[:theta1], theta2=model_params[:theta2], \n",
    "    post_target_periods=post_target_periods, seedrand=sr, cbeta=cb, verbose=true, \n",
    "    merge(mypars, Dict(params))...)[1]\n",
    "\n",
    "\n",
    "# cost, cost1s, cost2s, hP, hA, dP, dA, hBP, hBA = JJ(model_params[:nPro], model_params[:nAnti]; \n",
    "#     rule_and_delay_periods=rule_and_delay_periods, theta1=model_params[:theta1], theta2=model_params[:theta2], \n",
    "#     post_target_periods=post_target_periods, seedrand=sr, cbeta=cb, verbose=true, model_params...)\n",
    "    "
   ]
  },
  {
   "cell_type": "code",
   "execution_count": null,
   "metadata": {
    "collapsed": false
   },
   "outputs": [],
   "source": [
    "@printf(\"Going with seed = \"); print_vector_g(seed); print(\"\\n\")\n",
    "pars, traj, cost, cpm_traj, ftraj = bbox_Hessian_keyword_minimization(seed, args, bbox, func, \n",
    "    start_eta = 1, tol=1e-12, verbose=true, verbose_every=1, maxiter=num_optimize_iter)\n",
    "@printf(\"Came out with cost %g and pars = \", cost); print_vector_g(pars); print(\"\\n\\n\")\n"
   ]
  },
  {
   "cell_type": "code",
   "execution_count": null,
   "metadata": {
    "collapsed": true
   },
   "outputs": [],
   "source": []
  },
  {
   "cell_type": "code",
   "execution_count": null,
   "metadata": {
    "collapsed": true
   },
   "outputs": [],
   "source": []
  },
  {
   "cell_type": "code",
   "execution_count": null,
   "metadata": {
    "collapsed": true
   },
   "outputs": [],
   "source": []
  },
  {
   "cell_type": "code",
   "execution_count": null,
   "metadata": {
    "collapsed": true
   },
   "outputs": [],
   "source": [
    "# run optimization with all parameters\n",
    "@printf(\"Going with seed = \"); print_vector_g(seed); print(\"\\n\")\n",
    "pars, traj, cost, cpm_traj, ftraj = bbox_Hessian_keyword_minimization(seed, args, bbox, func, \n",
    "    start_eta = 1, tol=1e-12, verbose=true, verbose_every=1, maxiter=num_optimize_iter)\n",
    "@printf(\"Came out with cost %g and pars = \", cost); print_vector_g(pars); print(\"\\n\\n\")\n",
    "\n",
    "    # get gradient and hessian at end of optimization \n",
    "    value, grad, hess = keyword_vgh(func, args, pars)\n",
    "\n",
    "    # define function with all outputs, evaluate on training noise\n",
    "    t_standard_func =  (;params...) -> JJ_opto(model_params[:nPro], model_params[:nAnti]; rule_and_delay_periods=rule_and_delay_periods, theta1=model_params[:theta1], theta2=model_params[:theta2], post_target_periods=post_target_periods, seedrand=sr, cbeta=cb, verbose=false, merge(model_params, Dict(params))...)\n",
    "\n",
    "    # run opto model with all outputs, evaluate on training noise\n",
    "    t_opto_scost, t_opto_scost1, t_opto_scost2, t_opto_hitsP,t_opto_hitsA, t_opto_diffsP, t_opto_diffsA, t_opto_bP, t_opto_bA = t_standard_func(;make_dict(args, pars, model_params)...)\n",
    "    \n",
    "   ## evaluate for long form info\n",
    "    # reset random number generator for testing purposes\n",
    "    test_sr = convert(Int64, round(time()))\n",
    "    srand(test_sr); \n",
    "\n",
    "    # define function with all outputs, evaluate on test noise\n",
    "    standard_func =  (;params...) -> JJ_opto(num_eval_runs, num_eval_runs; rule_and_delay_periods=rule_and_delay_periods, theta1=model_params[:theta1], theta2=model_params[:theta2], post_target_periods=post_target_periods, seedrand=test_sr, cbeta=cb, verbose=false, merge(model_params, Dict(params))...)\n",
    "\n",
    "    # run opto model with all outputs, evaluate on test noise\n",
    "    opto_scost, opto_scost1, opto_scost2, opto_hitsP,opto_hitsA, opto_diffsP, opto_diffsA, opto_bP, opto_bA = standard_func(;make_dict(args, pars, model_params)...)\n",
    "\n",
    "    # define non-opto model with all outputs, to check opto model, evaluate on test noise\n",
    "    standard_func =  (;params...) -> JJ(num_eval_runs, num_eval_runs; rule_and_delay_periods=rule_and_delay_periods, theta1=model_params[:theta1], theta2=model_params[:theta2], post_target_periods=post_target_periods, seedrand=test_sr, cbeta=cb, verbose=false, merge(model_params, Dict(params))...)\n",
    "\n",
    "    # run non-opto model with all outputs, evaluate on test noise\n",
    "    scost, scost1, scost2, hitsP,hitsA, diffsP, diffsA = standard_func(;make_dict(args, pars, model_params)...)\n",
    " \n",
    "   ## Save this run out to a file\n",
    "    # get filename\n",
    "    myfilename = next_file(fbasename, 4)\n",
    "    myfilename = myfilename*\".mat\"\n",
    "    # write file\n",
    "    matwrite(myfilename, Dict(\"args\"=>args, \"myseed\"=>myseed, \"dista\"=>dista, \"pars\"=>pars, \"traj\"=>traj, \"cost\"=>cost, \"cpm_traj\"=>cpm_traj, \"nPro\"=>model_params[:nPro], \"nAnti\"=>model_params[:nAnti], \"sr\"=>sr, \"cb\"=>cb, \"theta1\"=>model_params[:theta1], \"theta2\"=>model_params[:theta2],\"value\"=>value,\"grad\"=>grad, \"hess\"=>hess, \"scost\"=>scost, \"scost1\"=>scost1, \"scost2\"=>scost2, \"hitsP\"=>hitsP,\"hitsA\"=>hitsA, \"diffsP\"=>diffsP, \"diffsA\"=>diffsA, \"model_params\"=>ascii_key_ize(model_params), \"bbox\"=>ascii_key_ize(bbox), \"sbox\"=>ascii_key_ize(sbox), \"rule_and_delay_periods\"=>rule_and_delay_periods, \"post_target_periods\"=>post_target_periods, \"opto_scost\"=>opto_scost, \"opto_scost1\"=>opto_scost1, \"opto_scost2\"=>opto_scost2, \"opto_hitsP\"=>opto_hitsP, \"opto_hitsA\"=>opto_hitsA, \"opto_diffsP\"=>opto_diffsP, \"opto_diffsA\"=>opto_diffsA,\"test_sr\"=>test_sr,\"opto_bP\"=>opto_bP, \"opto_bA\"=>opto_bA, \"t_opto_scost\"=>t_opto_scost, \"t_opto_scost1\"=>t_opto_scost1, \"t_opto_scost2\"=>t_opto_scost2, \"t_opto_hitsP\"=>t_opto_hitsP, \"t_opto_hitsA\"=>t_opto_hitsA, \"t_opto_diffsP\"=>t_opto_diffsP, \"t_opto_diffsA\"=>t_opto_diffsA,\"t_opto_bP\"=>t_opto_bP, \"t_opto_bA\"=>t_opto_bA  ))\n",
    "end\n",
    "end"
   ]
  }
 ],
 "metadata": {
  "kernelspec": {
   "display_name": "Julia 0.6.0",
   "language": "julia",
   "name": "julia-0.6"
  },
  "language_info": {
   "file_extension": ".jl",
   "mimetype": "application/julia",
   "name": "julia",
   "version": "0.6.0"
  }
 },
 "nbformat": 4,
 "nbformat_minor": 0
}
