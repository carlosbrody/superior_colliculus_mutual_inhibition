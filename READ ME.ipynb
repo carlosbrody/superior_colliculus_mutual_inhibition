{
 "cells": [
  {
   "cell_type": "markdown",
   "metadata": {},
   "source": [
    "# Overview of .ipynb notebooks and their associated .jl files\n",
    "\n",
    "The notebooks in this directory contain code to run and differentiate ProAnti models. Each notebook contains some core source code, that gets auto-extracted into a Julia .jl file, plus documentation and examples that are for illustration and are not extracted into the .jl file.\n",
    "\n",
    "The notebooks are:\n",
    "\n",
    "**Scraper.ipynb** : defines and describes how to auto-scrape notebooks into .jl files\n",
    "\n",
    "**General Utilities.ipynb**  : various utilities, extracted into <span style=\"color:red\">general_utils.jl</span>.\n",
    "\n",
    "**Constrained Parabolic Minimization.ipynb** : finding the minimum of a parabolic surface, constrained to lie within a given radius from the origin. Used by the next notebook, and extracted into <span style=\"color:red\">constrained_parabolic_minimization.jl</span>\n",
    "\n",
    "**Cost Function Minimization and Hessian Utilities.ipynb** : like the title says, for minimizing functions and finding their gradients and hessians, extracted into <span style=\"color:red\">hessian_utils.jl</span>\n",
    "\n",
    "**Rate Networks.ipynb** : running and differentiating arbitrary rate-based neural networks, extracted into <span style=\"color:red\">rate_networks.jl</span>. Loading `rate_networks.jl` will also load all three of `general_utils.jl`, `constrained_parabolic_minimization.jl`, and `hessian_utils.jl`.\n",
    "\n",
    "**ProAnti.ipynb** : Uses all of the above to run and optimize ProAnti models. The model definition, trial running, and the cost function we started with are extracted into <span style=\"color:red\">pro_anti.jl</span>. An example of code for running an optimization farm is extracted into <span style=\"color:red\">farming.jl</span>"
   ]
  }
 ],
 "metadata": {
  "kernelspec": {
   "display_name": "Julia 0.5.2",
   "language": "julia",
   "name": "julia-0.5"
  },
  "language_info": {
   "file_extension": ".jl",
   "mimetype": "application/julia",
   "name": "julia",
   "version": "0.5.2"
  }
 },
 "nbformat": 4,
 "nbformat_minor": 0
}
