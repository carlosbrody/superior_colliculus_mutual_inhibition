{
 "cells": [
  {
   "cell_type": "code",
   "execution_count": 1,
   "metadata": {
    "collapsed": false
   },
   "outputs": [],
   "source": [
    "using Gallium"
   ]
  },
  {
   "cell_type": "code",
   "execution_count": 2,
   "metadata": {
    "collapsed": false
   },
   "outputs": [
    {
     "data": {
      "text/plain": [
       "\"We define functions to convert Duals, the variable types used by ForwardDiff, \\nto Floats. This is useful if we want to print out the value of a variable \\n(since print doesn't know how to Duals). Note that after being converted to a Float, no\\ndifferentiation by ForwardDiff can happen!  e.g. after\\n    x = convert(Float64, y)\\nForwardDiff can still differentiate y, but it can't differentiate x\\n\""
      ]
     },
     "execution_count": 2,
     "metadata": {},
     "output_type": "execute_result"
    }
   ],
   "source": [
    "# import ForwardDiff\n",
    "using PyCall\n",
    "# import PyPlot\n",
    "using PyPlot\n",
    "using ForwardDiff\n",
    "using DiffBase\n",
    "using MAT\n",
    "\n",
    "pygui(true)\n",
    "\n",
    "import Base.convert\n",
    "convert(::Type{Float64}, x::ForwardDiff.Dual) = Float64(x.value)\n",
    "function convert(::Array{Float64}, x::Array{ForwardDiff.Dual}) \n",
    "    y = zeros(size(x)); \n",
    "    for i in 1:prod(size(x)) \n",
    "        y[i] = convert(Float64, x[i]) \n",
    "    end\n",
    "    return y\n",
    "end\n",
    "\n",
    "include(\"hessian_utils.jl\")\n",
    "\n",
    "\"\"\"\n",
    "We define functions to convert Duals, the variable types used by ForwardDiff, \n",
    "to Floats. This is useful if we want to print out the value of a variable \n",
    "(since print doesn't know how to Duals). Note that after being converted to a Float, no\n",
    "differentiation by ForwardDiff can happen!  e.g. after\n",
    "    x = convert(Float64, y)\n",
    "ForwardDiff can still differentiate y, but it can't differentiate x\n",
    "\"\"\"\n",
    "\n",
    "\n"
   ]
  },
  {
   "cell_type": "code",
   "execution_count": 3,
   "metadata": {
    "collapsed": false
   },
   "outputs": [
    {
     "data": {
      "text/plain": [
       "guga (generic function with 1 method)"
      ]
     },
     "execution_count": 3,
     "metadata": {},
     "output_type": "execute_result"
    }
   ],
   "source": [
    "function dummy()\n",
    "    println(\"=========================\")\n",
    "    local q=5\n",
    "    return q+15\n",
    "end\n",
    "\n",
    "\n",
    "function tester(;x=30)\n",
    "    println(\"=========================\")\n",
    "    println(\"=========================\")\n",
    "    y = x^2\n",
    "    z = y^2\n",
    "    return z\n",
    "end\n",
    "\n",
    "function rolypoly(x)\n",
    "    y = x\n",
    "    z = y^3\n",
    "    return z\n",
    "end\n",
    "\n",
    "function guga()    \n",
    "    q = tester(x=5)\n",
    "end\n",
    "\n"
   ]
  },
  {
   "cell_type": "code",
   "execution_count": 4,
   "metadata": {
    "collapsed": false
   },
   "outputs": [
    {
     "data": {
      "text/plain": [
       "Locations (+: active, -: inactive, *: source):\n",
       " * Any method reaching In[3]:17\n",
       " * Any matching specialization of rolypoly(x) at In[3]:17\n",
       " * Any matching specialization of rolypoly(x) at In[3]:17\n"
      ]
     },
     "execution_count": 4,
     "metadata": {},
     "output_type": "execute_result"
    }
   ],
   "source": [
    "breakpoint(\"In[3]\", 17)"
   ]
  },
  {
   "cell_type": "code",
   "execution_count": 5,
   "metadata": {
    "collapsed": false
   },
   "outputs": [
    {
     "name": "stdout",
     "output_type": "stream",
     "text": [
      "\u001b[1m\u001b[31mBody\u001b[0m\n",
      "├─ \u001b[1m\u001b[32mnothing\u001b[0m\n",
      "├─ \u001b[1m\u001b[31m:(_3 = _2)\u001b[0m\n",
      "│  ├─ \u001b[1m\u001b[32m_3\u001b[0m\n",
      "│  └─ \u001b[1m\u001b[33m_2\u001b[0m\n",
      "├─ \u001b[1m\u001b[32mline: 18\u001b[0m\n",
      "├─ \u001b[1m\u001b[31m:(_4 = _3 ^ 3)\u001b[0m\n",
      "│  ├─ \u001b[1m\u001b[32m_4\u001b[0m\n",
      "│  └─ \u001b[1m\u001b[31mCall\u001b[0m\n",
      "│     ├─ \u001b[1m\u001b[31mMain.^\u001b[0m\n",
      "│     ├─ \u001b[1m\u001b[31m_3\u001b[0m\n",
      "│     └─ \u001b[1m\u001b[32m3\u001b[0m\n",
      "├─ \u001b[1m\u001b[32mline: 19\u001b[0m\n",
      "└─ \u001b[1m\u001b[31mReturn\u001b[0m\n",
      "   └─ \u001b[1m\u001b[31m_4\u001b[0m\n",
      "debug> q\n"
     ]
    },
    {
     "data": {
      "text/plain": [
       "64"
      ]
     },
     "execution_count": 5,
     "metadata": {},
     "output_type": "execute_result"
    }
   ],
   "source": [
    "rolypoly(4)"
   ]
  },
  {
   "cell_type": "code",
   "execution_count": null,
   "metadata": {
    "collapsed": false
   },
   "outputs": [],
   "source": [
    "breakpoint(\"In[2]\", 9)"
   ]
  },
  {
   "cell_type": "code",
   "execution_count": null,
   "metadata": {
    "collapsed": false
   },
   "outputs": [],
   "source": [
    "tester(;x=2)"
   ]
  },
  {
   "cell_type": "code",
   "execution_count": null,
   "metadata": {
    "collapsed": true
   },
   "outputs": [],
   "source": []
  }
 ],
 "metadata": {
  "kernelspec": {
   "display_name": "Julia 0.5.2",
   "language": "julia",
   "name": "julia-0.5"
  },
  "language_info": {
   "file_extension": ".jl",
   "mimetype": "application/julia",
   "name": "julia",
   "version": "0.5.2"
  }
 },
 "nbformat": 4,
 "nbformat_minor": 0
}
