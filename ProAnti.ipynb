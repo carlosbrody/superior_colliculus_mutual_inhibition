{
 "cells": [
  {
   "cell_type": "markdown",
   "metadata": {},
   "source": [
    " "
   ]
  },
  {
   "cell_type": "markdown",
   "metadata": {},
   "source": [
    "**RUNNING AND OPTIMIZING PRO_ANTI**\n",
    "\n",
    "The definition of the ProAnti network, as well functions to run it and evaluate the cost of a set of runs, get extracted into\n",
    "\n",
    "    pro_anti.jl\n",
    "    \n",
    "At that point we're reaching current development as opposed to stable files.\n",
    "One cell, an example of running farm F, gets extracted into\n",
    "\n",
    "    farming.jl\n",
    "    \n",
    "    "
   ]
  },
  {
   "cell_type": "markdown",
   "metadata": {},
   "source": [
    "<h1 id=\"tocheading\">TABLE OF CONTENTS</h1>\n",
    "<div id=\"toc\"></div>\n",
    "\n",
    "**Updates to the table of contents are periodic, but run the cell below to first start or force an update.**"
   ]
  },
  {
   "cell_type": "code",
   "execution_count": 2,
   "metadata": {
    "collapsed": false
   },
   "outputs": [
    {
     "data": {
      "application/javascript": [
       "$.getScript('make_table_of_contents.js')\n"
      ]
     },
     "metadata": {},
     "output_type": "display_data"
    },
    {
     "name": "stderr",
     "output_type": "stream",
     "text": [
      "WARNING: Method definition @javascript_str(ANY<:Any) in module Main at In[1]:1 overwritten at In[2]:1.\n"
     ]
    }
   ],
   "source": [
    "macro javascript_str(s) display(\"text/javascript\", s); end\n",
    "\n",
    "javascript\"\"\"\n",
    "$.getScript('make_table_of_contents.js')\n",
    "\"\"\""
   ]
  },
  {
   "cell_type": "markdown",
   "metadata": {},
   "source": [
    "# ProAnti"
   ]
  },
  {
   "cell_type": "code",
   "execution_count": 2,
   "metadata": {
    "collapsed": false
   },
   "outputs": [
    {
     "data": {
      "text/plain": [
       "backwardsModel"
      ]
     },
     "execution_count": 2,
     "metadata": {},
     "output_type": "execute_result"
    }
   ],
   "source": [
    "#@include_me pro_anti.jl\n",
    "\n",
    "include(\"rate_networks.jl\")  # that will also include genera_utils.jl, constrained_parabolic_minimization.jl, and hessian_utils.jl\n"
   ]
  },
  {
   "cell_type": "code",
   "execution_count": 3,
   "metadata": {
    "collapsed": false
   },
   "outputs": [
    {
     "data": {
      "text/plain": [
       "plot_PA"
      ]
     },
     "execution_count": 3,
     "metadata": {},
     "output_type": "execute_result"
    }
   ],
   "source": [
    "#@include_me  pro_anti.jl\n",
    "\n",
    "\"\"\"\n",
    "    plot_PA(t, U, V; fignum=1, clearfig=true, rule_and_delay_period=1, target_period=1, post_target_period=1,\n",
    "        other_unused_params...)\n",
    "\n",
    "Helper function for plotting ProAnti results\n",
    "\"\"\"\n",
    "function plot_PA(t, U, V; fignum=1, clearfig=true, rule_and_delay_period=1, target_period=1, post_target_period=1,\n",
    "    other_unused_params...)\n",
    "    figure(fignum)\n",
    "    if clearfig; clf(); end\n",
    "    \n",
    "    ax1 = subplot(3,1,1)\n",
    "    h = plot(t, V'); \n",
    "    setp(h[1], color=[0, 0, 1])\n",
    "    setp(h[2], color=[1, 0, 0])\n",
    "    setp(h[3], color=[1, 0.5, 0.5])\n",
    "    setp(h[4], color=[0, 1, 1])\n",
    "    ylabel(\"V\")\n",
    "\n",
    "    ax = gca()\n",
    "    oldlims = [ylim()[1]+0.1, ylim()[2]-0.1]\n",
    "    ylim(minimum([V[:];oldlims[1]])-0.1, maximum([V[:];oldlims[2]])+0.1)\n",
    "    yl = [ylim()[1], ylim()[2]]\n",
    "    vlines([rule_and_delay_period, \n",
    "            rule_and_delay_period+target_period,\n",
    "            rule_and_delay_period+target_period+post_target_period], \n",
    "            -0.05, 1.05, linewidth=2)\n",
    "    if yl[1]<0.02\n",
    "        yl[1] = -0.02\n",
    "    end\n",
    "    if yl[2]>0.98\n",
    "        yl[2] = 1.02\n",
    "    end\n",
    "    ylim(yl)\n",
    "    grid(true)\n",
    "    remove_xtick_labels(ax1)\n",
    "        \n",
    "    ax2 = subplot(3,1,2)\n",
    "    hu = plot(t, U')\n",
    "    oldlims = [ylim()[1]+0.1, ylim()[2]-0.1]\n",
    "    ylim(minimum([U[:];oldlims[1]])-0.1, maximum([U[:];oldlims[2]])+0.1)\n",
    "    setp(hu[1], color=[0, 0, 1])\n",
    "    setp(hu[2], color=[1, 0, 0])\n",
    "    setp(hu[3], color=[1, 0.5, 0.5])\n",
    "    setp(hu[4], color=[0, 1, 1])\n",
    "    ylabel(\"U\"); \n",
    "    vlines([rule_and_delay_period, \n",
    "            rule_and_delay_period+target_period,\n",
    "            rule_and_delay_period+target_period+post_target_period], \n",
    "            ylim()[1], ylim()[2], linewidth=2)\n",
    "    remove_xtick_labels(ax2)\n",
    "\n",
    "    grid(true)\n",
    "    \n",
    "    subplot(3,1,3)\n",
    "    delta = V[1,:] - V[4,:]\n",
    "    hr = plot(t, delta)\n",
    "    oldlims = [ylim()[1]+0.1, ylim()[2]-0.1]\n",
    "    ylim(minimum([delta[:];oldlims[1]])-0.1, maximum([delta[:];oldlims[2]])+0.1)\n",
    "    vlines([rule_and_delay_period, \n",
    "            rule_and_delay_period+target_period,\n",
    "            rule_and_delay_period+target_period+post_target_period], \n",
    "            ylim()[1], ylim()[2], linewidth=2)\n",
    "    xlabel(\"t\"); ylabel(\"Pro R - Pro L\")\n",
    "    grid(true)\n",
    "        \n",
    "end\n",
    "\n"
   ]
  },
  {
   "cell_type": "code",
   "execution_count": null,
   "metadata": {
    "collapsed": true
   },
   "outputs": [],
   "source": [
    "#@include_me  pro_anti.jl\n",
    "\n",
    "model_params = Dict(\n",
    ":dt     =>  0.02,    # timestep, in secs\n",
    ":tau    =>  0.1,     # tau, in ms\n",
    ":vW     =>  -1.7,    # vertical weight\n",
    ":hW     =>  -1.7,    # horizontal weight\n",
    ":sW     =>  0.2,     # self-connection weight\n",
    ":dW     =>  0,       # diagonal weight\n",
    ":nsteps =>  2,       # number of timesteps in the simulation\n",
    ":noise  =>  [],      # noise added during simulation. Can be empty matrix, or an nunits-by-nsteps matrix\n",
    ":sigma  =>  0.08,    # standard deviation of Gaussian noise added (will be scaled by sqrt(dt) to be relatively dt-INsensitive)\n",
    ":input  =>  0,       # input current. Can be scalar, nunits-by-1, or nunits-by-nsteps matrix\n",
    ":g_leak =>  0.25,    # leak conductance\n",
    ":U_rest =>  -1,      # resting membrane potential\n",
    ":theta  =>  1,       # inverse slope of g() function\n",
    ":beta   =>  1,       # offset to g() function\n",
    ":constant_excitation      => 0.19,   # constant input, added to all units at all timesteps\n",
    ":anti_rule_strength       => 0.1,    # input added only to anti units during rule_and_delay_period in Anti trials\n",
    ":pro_rule_strength        => 0.1,    # input added only to pro units during rule_and_delay_period in Pro trials\n",
    ":const_pro_bias           => 0,      # input added only to pro units during all times in all trial types\n",
    ":target_period_excitation => 1,      # input added to all units during target_period\n",
    ":right_light_excitation   => 0.5,    # input added to the Anti and the Pro unit on one side during the target_period\n",
    ":right_light_pro_extra    => 0,      # input added to the right side Pro unit alone during the target_period\n",
    ":rule_and_delay_period    => 0.4,    # duration of rule_and_delay_period, in secs\n",
    ":target_period            => 0.1,    # duration of target_period, in secs\n",
    ":post_target_period       => 0.5,    # duration of post_target_period, in secs\n",
    ":const_add => 0,  # from rate_networks.jl, unused here\n",
    ":init_add  => 0,  # from rate_networks.jl, unused here \n",
    ")\n",
    "\n",
    "\n",
    "function make_input(trial_type; dt=0.02, nderivs=0, difforder=0, constant_excitation=0.19, anti_rule_strength=0.1, \n",
    "    pro_rule_strength=0.1, target_period_excitation=1, right_light_excitation=0.5, right_light_pro_extra=0, \n",
    "    rule_and_delay_period=0.4, target_period=0.1, post_target_period=0.4, const_pro_bias=0,\n",
    "    other_unused_params...)\n",
    "\n",
    "    T = rule_and_delay_period + target_period + post_target_period\n",
    "    t = 0:dt:T\n",
    "    nsteps = length(t)\n",
    "\n",
    "    input = constant_excitation + ForwardDiffZeros(4, nsteps, nderivs=nderivs, difforder=difforder)\n",
    "    if trial_type==\"Anti\"\n",
    "        input[2:3, t.<rule_and_delay_period] += anti_rule_strength\n",
    "    elseif trial_type==\"Pro\"\n",
    "        input[[1,4], t.<rule_and_delay_period] += pro_rule_strength\n",
    "    else\n",
    "        error(\"make_input: I don't recognize input type \\\"\" * trial_type * \"\\\"\")\n",
    "    end\n",
    "    \n",
    "    input[:,     (rule_and_delay_period.<=t) & (t.<rule_and_delay_period+target_period)] += target_period_excitation\n",
    "    input[1:2,   (rule_and_delay_period.<=t) & (t.<rule_and_delay_period+target_period)] += right_light_excitation\n",
    "    input[1,     (rule_and_delay_period.<=t) & (t.<rule_and_delay_period+target_period)] += right_light_pro_extra\n",
    "    \n",
    "    input[[1,4],:] += const_pro_bias\n",
    "    \n",
    "    return input, t, nsteps\n",
    "end\n",
    "\n",
    "\n",
    "function run_ntrials(nPro, nAnti; plot_list=[], nderivs=0, difforder=0, model_params...)\n",
    "    pro_input,  t, nsteps = make_input(\"Pro\" ; model_params...)\n",
    "    anti_input, t, nsteps = make_input(\"Anti\"; model_params...)\n",
    "\n",
    "    model_params = Dict(model_params)\n",
    "    sW = model_params[:sW]\n",
    "    hW = model_params[:hW]\n",
    "    vW = model_params[:vW]\n",
    "    dW = model_params[:dW]\n",
    "    model_params = make_dict([\"nsteps\", \"W\"], [nsteps, [sW vW dW hW; vW sW hW dW; dW hW sW vW; hW dW vW sW]], \n",
    "        model_params)\n",
    "    model_params = make_dict([\"nderivs\", \"difforder\"], [nderivs, difforder], model_params)\n",
    "    \n",
    "    proVs  = ForwardDiffZeros(4, nPro, nderivs=nderivs, difforder=difforder)\n",
    "    antiVs = ForwardDiffZeros(4, nAnti, nderivs=nderivs, difforder=difforder)\n",
    "\n",
    "    # --- PRO ---\n",
    "    if length(plot_list)>0; figure(1); clf(); end\n",
    "    model_params = make_dict([\"input\"], [pro_input], model_params)\n",
    "    for i=1:nPro\n",
    "        startU = [-0.3, -0.7, -0.7, -0.3]\n",
    "        Uend, Vend, U, V = forwardModel(startU, do_plot=false; model_params...)\n",
    "        proVs[:,i] = Vend\n",
    "        if any(plot_list.==i) \n",
    "            plot_PA(t, U, V; fignum=1, clearfig=false, model_params...)\n",
    "            subplot(3,1,1); title(\"PRO\")\n",
    "        end\n",
    "    end\n",
    "\n",
    "    # --- ANTI ---\n",
    "    if length(plot_list)>0; figure(2); clf(); end\n",
    "    model_params = make_dict([\"input\"], [anti_input], model_params)\n",
    "    for i=1:nAnti\n",
    "        startU = [-0.7, -0.3, -0.3, -0.7]\n",
    "        Uend, Vend, U, V = forwardModel(startU, do_plot=false; model_params...)\n",
    "        antiVs[:,i] = Vend\n",
    "        if any(plot_list.==i) \n",
    "            plot_PA(t, U, V; fignum=2, clearfig=false, model_params...)\n",
    "            subplot(3,1,1); title(\"ANTI\")\n",
    "        end\n",
    "    end\n",
    "    \n",
    "    return proVs, antiVs\n",
    "end\n"
   ]
  },
  {
   "cell_type": "code",
   "execution_count": 4,
   "metadata": {
    "collapsed": false
   },
   "outputs": [
    {
     "name": "stdout",
     "output_type": "stream",
     "text": [
      "  5.122214 seconds (2.97 M allocations: 126.836 MB, 0.81% gc time)\n",
      "Pro % correct = 100%\n",
      "Anti % correct = 80% \n"
     ]
    }
   ],
   "source": [
    "nPro = 10; nAnti = 5;\n",
    "proVs, antiVs = @time(run_ntrials(nPro, nAnti; plot_list=[1:5;], model_params...))\n",
    "\n",
    "@printf(\"Pro %% correct = %g%%\\n\", 100*length(find(proVs[1,:].>proVs[4,:]))/nPro)\n",
    "@printf(\"Anti %% correct = %g%% \\n\", 100*length(find(antiVs[1,:].<antiVs[4,:]))/nAnti)"
   ]
  },
  {
   "cell_type": "markdown",
   "metadata": {},
   "source": [
    "## Cost function\n",
    "\n",
    "Below is a cost function `JJ()` with two terms. Let $C$ be the target fraction \"Go Right\" trials, and $V_R$ and $V_L$ represent the final value of the $V$ variable for the \"Pro Go Right\" and \"Pro Go Left\" units, respectively.\n",
    "\n",
    "$$\n",
    "cost_1 = \\left( \\left\\langle \\frac{1}{2} + \\frac{1}{2}\\tanh(\\frac{V_R - V_L}{\\theta_1}) \\right\\rangle_{trials} - C \\right)^2\n",
    "$$\n",
    "\n",
    "In the limit of $\\theta_1$ very small, the network's ouput is binarized, decisions go like the sign of $V_R-V_L$, and this cost function is minimized at the desired fraction correct. However, the perfectly binary network is not differentiable. So we keep $\\theta1$ smal but non-zero.\n",
    "\n",
    "To try to make sure that output decisions are clear, we have another component to the cost function\n",
    "\n",
    "$$\n",
    "cost_2 = - \\left\\langle \\left( \\tanh(\\frac{V_R - V_L}{\\theta_2}) \\right)^2 \\right \\rangle_{trials}\n",
    "$$\n",
    "\n",
    "This component is minimized when the difference between $V_R$ and $V_L$ is large, but if differences are much bigger than $\\theta_2$, it stops caring about them.\n",
    "\n",
    "We've been using a cost function that is a combination of the two:\n",
    "\n",
    "$$\n",
    "J_{\\rm total} = cost_1 + \\beta \\cdot cost_2\n",
    "$$\n",
    "\n",
    "Meaning our total cost function has three parameters, $\\theta_1$, $\\theta_2$, and $\\beta$, which is a bit of a mess.\n"
   ]
  },
  {
   "cell_type": "code",
   "execution_count": null,
   "metadata": {
    "collapsed": false
   },
   "outputs": [],
   "source": [
    "figure(1); clf();\n",
    "th1 = 0.05\n",
    "th2 = 0.25\n",
    "b   = 0.01\n",
    "C   = 0.7\n",
    "\n",
    "p   = 1\n",
    "\n",
    "vrmvl = -1:0.01:1\n",
    "cost1 = (0.5 + 0.5*tanh(vrmvl/th1) - C).^2\n",
    "cost2 = -tanh((vrmvl/th2).^p).^2\n",
    "\n",
    "ax1 = subplot(3,1,1); plot(vrmvl, cost1)\n",
    "remove_xtick_labels(ax1)\n",
    "ylabel(\"cost_1\")\n",
    "title(\"single-trial cost_1, shown here, not so meaningful\")\n",
    "\n",
    "ax2 = subplot(3,1,2); plot(vrmvl, cost2)\n",
    "remove_xtick_labels(ax2)\n",
    "ylabel(\"cost_2\")\n",
    "\n",
    "ax3 = subplot(3,1,3); plot(vrmvl, cost1 + b*cost2)\n",
    "xlabel(\"V_R - V_L\")\n",
    "ylabel(\"cost_1 + beta*cost_2\")\n",
    "\n"
   ]
  },
  {
   "cell_type": "code",
   "execution_count": null,
   "metadata": {
    "collapsed": true
   },
   "outputs": [],
   "source": [
    "#@include_me  pro_anti.jl\n",
    "\n",
    "function JJ(nPro, nAnti; pro_target=0.9, anti_target=0.7, \n",
    "    theta1=0.025, theta2=0.035, cbeta=0.003, verbose=false, \n",
    "    pre_string=\"\", zero_last_sigmas=0, seedrand=NaN, \n",
    "    rule_and_delay_periods = [0.4], target_periods = [0.1], post_target_periods = [0.5],\n",
    "    nderivs=0, difforder=0, model_params...)\n",
    "\n",
    "    nruns = length(rule_and_delay_periods)*length(target_periods)*length(post_target_periods)\n",
    "    \n",
    "    cost1s = ForwardDiffZeros(1, nruns, nderivs=nderivs, difforder=difforder)\n",
    "    cost2s = ForwardDiffZeros(1, nruns, nderivs=nderivs, difforder=difforder)\n",
    "\n",
    "    if ~isnan(seedrand); srand(seedrand); end\n",
    "    \n",
    "    n = totHitsP = totHitsA = totDiffsP = totDiffsA = 0\n",
    "    for i in rule_and_delay_periods\n",
    "        for j in target_periods\n",
    "            for k = post_target_periods\n",
    "                n += 1\n",
    "                \n",
    "                my_params = make_dict([\"rule_and_delay_period\", \"target_period\", \"post_target_period\"],\n",
    "                [i, j, k], Dict(model_params))\n",
    "    \n",
    "                # print(\"model params is \" ); print(model_params); print(\"\\n\")\n",
    "                proVs, antiVs = run_ntrials(nPro, nAnti; nderivs=nderivs, difforder=difforder, my_params...)\n",
    "\n",
    "                hitsP  = 0.5*(1 + tanh.((proVs[1,:]-proVs[4,:,])/theta1))\n",
    "                diffsP = tanh.((proVs[1,:,]-proVs[4,:])/theta2).^2\n",
    "                hitsA  = 0.5*(1 + tanh.((antiVs[4,:]-antiVs[1,:,])/theta1))\n",
    "                diffsA = tanh.((antiVs[4,:,]-antiVs[1,:])/theta2).^2\n",
    "\n",
    "                if nPro>0 && nAnti>0\n",
    "                    cost1s[n] = (nPro*(mean(hitsP) - pro_target).^2  + nAnti*(mean(hitsA) - anti_target).^2)/(nPro+nAnti)\n",
    "                    cost2s[n] = -cbeta*(nPro*mean(diffsP) + nAnti*mean(diffsA))/(nPro+nAnti)\n",
    "                elseif nPro>0\n",
    "                    cost1s[n] = (mean(hitsP) - pro_target).^2\n",
    "                    cost2s[n] = -cbeta*mean(diffsP)\n",
    "                else\n",
    "                    cost1s[n] = (mean(hitsA) - anti_target).^2\n",
    "                    cost2s[n] = -cbeta*mean(diffsA)\n",
    "                end\n",
    "\n",
    "                totHitsP  += mean(hitsP);  totHitsA  += mean(hitsA); \n",
    "                totDiffsP += mean(diffsP); totDiffsA += mean(diffsA);\n",
    "            end\n",
    "        end\n",
    "    end\n",
    "    \n",
    "    cost1 = mean(cost1s)\n",
    "    cost2 = mean(cost2s)\n",
    "\n",
    "    hitsP = totHitsP/n; hitsA = totHitsA/n; diffsP = totDiffsP/n; diffsA = totDiffsA/n\n",
    "    \n",
    "    if verbose\n",
    "        @printf(\"%s\", pre_string)\n",
    "        @printf(\"     -- cost=%g,   cost1=%g, cost2=%g\\n\", \n",
    "            convert(Float64, cost1+cost2), convert(Float64, cost1), convert(Float64, cost2))\n",
    "        if nPro>0 && nAnti>0\n",
    "            @printf(\"     -- mean(hitsP)=%g, mean(diffsP)=%g mean(hitsA)=%g, mean(diffsA)=%g\\n\", \n",
    "                convert(Float64, mean(hitsP)), convert(Float64, mean(diffsP)),\n",
    "                convert(Float64, mean(hitsA)), convert(Float64, mean(diffsA)))\n",
    "        elseif nPro>0\n",
    "            @printf(\"     -- mean(hitsP)=%g, mean(diffsP)=%g (nAnti=0)\\n\", \n",
    "                convert(Float64, mean(hitsP)), convert(Float64, mean(diffsP)))\n",
    "        else\n",
    "            @printf(\"     -- (nPro=0) mean(hitsA)=%g, mean(diffsA)=%g\\n\", \n",
    "                convert(Float64, mean(hitsA)), convert(Float64, mean(diffsA)))\n",
    "        end        \n",
    "    end\n",
    "    \n",
    "    return cost1 + cost2\n",
    "end"
   ]
  },
  {
   "cell_type": "code",
   "execution_count": 19,
   "metadata": {
    "collapsed": false
   },
   "outputs": [
    {
     "name": "stdout",
     "output_type": "stream",
     "text": [
      "     -- cost=0.0288832,   cost1=0.0289244, cost2=-4.12104e-05\n",
      "     -- mean(hitsP)=0.668551, mean(diffsP)=0.0492102 mean(hitsA)=0.545095, mean(diffsA)=0.00664211\n"
     ]
    },
    {
     "name": "stderr",
     "output_type": "stream",
     "text": [
      "WARNING: Method definition JJ(Any, Any) in module Main at In[5]:9 overwritten at In[19]:9.\n",
      "WARNING: Method definition #JJ(Array{Any, 1}, Main.#JJ, Any, Any) in module Main overwritten.\n"
     ]
    },
    {
     "data": {
      "text/plain": [
       "0.02888318297898893"
      ]
     },
     "execution_count": 19,
     "metadata": {},
     "output_type": "execute_result"
    }
   ],
   "source": [
    "JJ(2, 10; plot_list=1:5, verbose=true, model_params...)"
   ]
  },
  {
   "cell_type": "markdown",
   "metadata": {},
   "source": [
    "### Example of taking the gradient and Hessian of the cost function JJ()"
   ]
  },
  {
   "cell_type": "code",
   "execution_count": null,
   "metadata": {
    "collapsed": false
   },
   "outputs": [],
   "source": [
    "args = [\"sW\", \"vW\", \"hW\", \"constant_excitation\", \"right_light_excitation\", \"target_period_excitation\", \"const_pro_bias\"]\n",
    "seed = [0.2,   -1.7, -1.7,      0.39,                0.15,                       0.1,                       0.1]\n",
    "\n",
    "func = (;params...) -> JJ(100, 0; rule_and_delay_periods = [0.4, 0.8], seedrand=30, cbeta=0.01, \n",
    "plot_list = 1:5, verbose=false, merge(model_params, Dict(params))...)\n",
    "\n",
    "cost, grad, hess = keyword_vgh(func, args, seed)\n",
    "\n",
    "# func(;make_dict(args, seed+ [1,0.2,0,0,0,0,0])...) - func(;make_dict(args, seed)...)\n"
   ]
  },
  {
   "cell_type": "code",
   "execution_count": null,
   "metadata": {
    "collapsed": true
   },
   "outputs": [],
   "source": []
  },
  {
   "cell_type": "markdown",
   "metadata": {
    "collapsed": false
   },
   "source": [
    "# mixed_sign_hessian_farm_F_analysis.jl  -- Looking into Hessians with mixed-sign eigenvalues\n",
    "\n",
    "**RESULT: The mixed-sign Hessian eigenvalues are due to the walls**\n",
    "\n",
    "There are 122 farm F animals that stopped before their 400-iteration limit.  Of those, if we look at the Hessian for only those parameters that had not reached a bounding wall, all but one farm animal had all-positive eigenvalues (including F_0564).\n",
    "\n",
    "The single example with mixed-sign eigenvalues is F_0534. The solution in this farm animal is not terrible, but it ranks as the 203rd best solution out of 751 (27th percentile), far from what we would usually consider. If we took the top 20% solutions we wouldn't even be considering this lone example.\n",
    "\n",
    "Given that, I think I'm going to proceed working on the assumption that for most files, the walls are the issue; the rare files for which that is not true I propose we just toss, and if those become not rare in the future then I will revisit.\n",
    "\n"
   ]
  },
  {
   "cell_type": "code",
   "execution_count": 213,
   "metadata": {
    "collapsed": false
   },
   "outputs": [
    {
     "name": "stderr",
     "output_type": "stream",
     "text": [
      "WARNING: Method definition id_pars_at_walls(Any, Any, Any) in module Main at In[212]:9 overwritten at In[213]:9.\n",
      "WARNING: Method definition #id_pars_at_walls(Array{Any, 1}, Main.#id_pars_at_walls, Any, Any, Any) in module Main overwritten.\n",
      "\u001b[1m\u001b[31mWARNING: replacing docs for 'id_pars_at_walls :: Tuple{Any,Any,Any}' in module 'Main'.\u001b[0m\n"
     ]
    },
    {
     "data": {
      "text/plain": [
       "(Int64[],[1,2,3,4,5,6,7,8,9])"
      ]
     },
     "execution_count": 213,
     "metadata": {},
     "output_type": "execute_result"
    }
   ],
   "source": [
    "#@include_me   mixed_sign_hessian_farm_F_analysis.jl\n",
    "\n",
    "\"\"\"\n",
    "walled, free = id_pars_at_walls(bbox, args, pars; tol=1e-3)\n",
    "\n",
    "Returns a list of elements in pars that are within tol of their bounds described in the bbox Dict(),\n",
    "and a list of those not within tol of their bounds.  The union of walled and free will be equal to 1:length(pars).\n",
    "\n",
    "\"\"\"\n",
    "function id_pars_at_walls(bbox, args, pars; tol=1e-3)\n",
    "    walled = Array{Int}(0)\n",
    "    free   = Array{Int}(0)\n",
    "    i = 1; while i<=length(args)\n",
    "        if typeof(args[i])<:String && haskey(bbox, Symbol(args[i]))\n",
    "            range = bbox[Symbol(args[i])]\n",
    "            if any(abs(pars[i]-range).<tol)\n",
    "                walled = [walled; i]\n",
    "            else\n",
    "                free = [free; i]\n",
    "            end    \n",
    "        elseif typeof(args[i])<:String\n",
    "            free = [free; i]\n",
    "        elseif haskey(bbox, Symbol(args[i][1]))\n",
    "            range = bbox[Symbol(args[i][1])]\n",
    "            for j=1:args[i][2]\n",
    "                if any(abs(pars[i+j-1]-range).<tol)\n",
    "                    walled = [walled; i+j-1]\n",
    "                else\n",
    "                    free = [free; i+j-1]\n",
    "                end    \n",
    "            end\n",
    "            i = i+args[i][2]-1\n",
    "        else\n",
    "            for j=1:args[i][2]; free = [free; i+j-1]; end\n",
    "            i = i+args[i][2]-1\n",
    "        end\n",
    "    i=i+1; end    \n",
    "    \n",
    "    return walled, free\n",
    "end\n",
    "\n",
    "\n",
    "walled, free = id_pars_at_walls(Dict(:a=>[1, 2], :b=>[0.1, 0.2]), [\"c\", \"a\", [\"b\" 2]], [10, 1.9999, 0.1, 0.15])\n",
    "\n",
    "walled, free = id_pars_at_walls(bbox, args, pars; tol=1e-1)"
   ]
  },
  {
   "cell_type": "code",
   "execution_count": 154,
   "metadata": {
    "collapsed": true
   },
   "outputs": [],
   "source": [
    "#@include_me   mixed_sign_hessian_farm_F_analysis.jl\n",
    "\n",
    "# ========  This is copied from the code for farm F, telling us how it was run ==============================\n",
    "\n",
    "# ======= ARGUMENTS AND SEED VALUES:\n",
    "args = [\"sW\", \"vW\", \"hW\", \"dW\", \"constant_excitation\", \"right_light_excitation\", \"target_period_excitation\"]\n",
    "seed = [0.2,   1,   0.2,  1,    0.39,                0.15,                       0.1]\n",
    "\n",
    "args = [args ; [\"const_pro_bias\", \"sigma\"]]\n",
    "seed = [seed ; [0.1,               0.1]]\n",
    "\n",
    "\n",
    "# ======= BOUNDING BOX:\n",
    "bbox = Dict(:sW=>[0 3], :vW=>[-3 3], :hW=>[-3 3], :dW=>[-3 3], :constant_excitation=>[-2 2],\n",
    ":right_light_excitation=>[0.05 4], :target_period_excitation=>[0.05 4], :const_pro_bias=>[-2 2],\n",
    ":sigma=>[0.01 0.2])\n",
    "\n",
    "model_params = merge(model_params, Dict(:post_target_period=>0.5))\n",
    "# seed = [0.0840597,  -1.32677,  -0.437334,  -0.324835,  0.567997, 0.712216,  0.0500075,  0.0858569,  0.25]\n",
    "\n",
    "\n",
    "# ======== SEARCH ZONE:\n",
    "\n",
    "sbox = Dict(:sW=>[0.001 0.5], :vW=>[-0.5 0.5], :hW=>[-0.5 0.5], :dW=>[-0.5 0.5],\n",
    ":constant_excitation=>[-0.5 0.5], :right_light_excitation=>[0.1 0.5], :target_period_excitation=>[0.1 0.5],\n",
    ":const_pro_bias=>[0 0.2], :sigma=>[0.02 0.19])\n",
    "\n",
    "# ========  END  --   This is copied from the code for farm F, telling us how it was run ===================\n",
    "\n",
    "# Now read all the files to get all there costs and iteration numbers\n",
    "\n",
    "fnames = filter(x -> startswith(x, \"farm_F\"), readdir(\"FarmFields/\"))\n",
    "scosts = zeros(size(fnames))\n",
    "niters = zeros(size(fnames))\n",
    "for i=1:length(fnames) \n",
    "    A = matread(\"FarmFields/\" * fnames[i])  \n",
    "    scosts[i] = A[\"scost\"]\n",
    "    niters[i] = size(A[\"traj\"],2)\n",
    "end\n",
    "\n",
    "pygui(true)\n",
    "figure(1); clf();\n",
    "plot(scosts, niters, \".\")\n",
    "xlabel(\"cost at standard beta=0.01\")\n",
    "ylabel(\"number of iterations run\")"
   ]
  },
  {
   "cell_type": "code",
   "execution_count": 220,
   "metadata": {
    "collapsed": false
   },
   "outputs": [
    {
     "name": "stdout",
     "output_type": "stream",
     "text": [
      "1/122: file farm_F_0001 had 7 free parameters, with hessian eigenvalues [16.4017, 2.70442, 0.637223, 0.262911, 0.0162878, 0.00800901, 0.000297804]\n",
      "2/122: file farm_F_0002 had 9 free parameters, with hessian eigenvalues [313.657, 14.9122, 3.36941, 0.461818, 0.0686006, 0.0123295, 0.00938623, 0.00210874, 0.000146347]\n",
      "3/122: file farm_F_0003 had 9 free parameters, with hessian eigenvalues [660.789, 9.15068, 6.7328, 0.781417, 0.25942, 0.0689419, 0.0182595, 0.000275947, 0.00450667]\n",
      "4/122: file farm_F_0004 had 6 free parameters, with hessian eigenvalues [23.4496, 3.60552, 1.48349, 0.135751, 0.0121882, 0.00262976]\n",
      "5/122: file farm_F_0005 had 7 free parameters, with hessian eigenvalues [43.7538, 7.00434, 2.50103, 0.472761, 0.0617727, 0.00532129, 0.0110407]\n",
      "6/122: file farm_F_0010 had 6 free parameters, with hessian eigenvalues [105.056, 13.6158, 3.6562, 0.512544, 0.0271008, 0.00845203]\n",
      "7/122: file farm_F_0029 had 6 free parameters, with hessian eigenvalues [73.3103, 2.98569, 2.30303, 0.205549, 0.0117377, 0.0384868]\n",
      "8/122: file farm_F_0033 had 8 free parameters, with hessian eigenvalues [1719.05, 73.4501, 11.6344, 1.57914, 0.0698259, 0.0435448, 0.0148162, 0.00726356]\n",
      "9/122: file farm_F_0034 had 8 free parameters, with hessian eigenvalues [6082.36, 850.169, 85.7437, 49.816, 1.11299, 0.120631, 0.0341442, 0.00639471]\n",
      "10/122: file farm_F_0057 had 7 free parameters, with hessian eigenvalues [4.72509e-07, 1.87347e-08, 1.85906e-09, 1.04726e-09, 2.46911e-12, 1.05243e-10, 5.744e-11]\n",
      "11/122: file farm_F_0058 had 8 free parameters, with hessian eigenvalues [4900.33, 83.6032, 11.5883, 5.56095, 0.38973, 0.211958, 0.0355738, 0.02392]\n",
      "12/122: file farm_F_0060 had 8 free parameters, with hessian eigenvalues [692.433, 110.328, 9.89981, 0.534608, 0.338846, 0.0389701, 0.0296666, 0.00723731]\n",
      "13/122: file farm_F_0062 had 7 free parameters, with hessian eigenvalues [152.825, 7.26512, 1.94222, 0.093531, 0.0418412, 0.00894705, 0.00495092]\n",
      "14/122: file farm_F_0063 had 6 free parameters, with hessian eigenvalues [294.556, 79.3505, 2.15332, 0.123058, 0.0419477, 0.0144803]\n",
      "15/122: file farm_F_0064 had 7 free parameters, with hessian eigenvalues [139.147, 21.8341, 2.59289, 0.542884, 0.0975339, 0.0264404, 0.00204817]\n",
      "16/122: file farm_F_0065 had 7 free parameters, with hessian eigenvalues [109.038, 6.86227, 2.30523, 0.85616, 0.321819, 0.0162116, 0.0417247]\n",
      "17/122: file farm_F_0067 had 8 free parameters, with hessian eigenvalues [35.2155, 21.3584, 2.56635, 0.39523, 0.039015, 0.0152139, 0.00467397, 0.00023702]\n",
      "18/122: file farm_F_0070 had 7 free parameters, with hessian eigenvalues [119.376, 6.61077, 1.71105, 0.218213, 0.03957, 0.0184745, 0.000827847]\n",
      "19/122: file farm_F_0075 had 7 free parameters, with hessian eigenvalues [5431.17, 7.35795, 2.04444, 1.32429, 0.0798615, 0.000791657, 0.0308345]\n",
      "20/122: file farm_F_0082 had 8 free parameters, with hessian eigenvalues [52.3156, 5.17441, 2.70947, 0.402124, 0.0402371, 0.025182, 0.0018458, 0.000197274]\n",
      "21/122: file farm_F_0088 had 6 free parameters, with hessian eigenvalues [95.2188, 4.63877, 3.60224, 0.265324, 0.0183845, 0.034537]\n",
      "22/122: file farm_F_0094 had 8 free parameters, with hessian eigenvalues [30.0721, 12.6478, 3.10133, 0.0592919, 0.034962, 0.00685801, 0.000448819, 0.00137064]\n",
      "23/122: file farm_F_0114 had 8 free parameters, with hessian eigenvalues [107.808, 17.6614, 3.70639, 1.90453, 0.0828746, 0.0241813, 0.00271523, 0.0050813]\n",
      "24/122: file farm_F_0115 had 6 free parameters, with hessian eigenvalues [53.0732, 4.00118, 0.585237, 0.0961631, 0.00297226, 0.000240751]\n",
      "25/122: file farm_F_0116 had 6 free parameters, with hessian eigenvalues [28.7316, 3.89156, 0.884427, 0.296398, 0.0217484, 0.00030885]\n",
      "26/122: file farm_F_0119 had 8 free parameters, with hessian eigenvalues [140.118, 9.83807, 4.00856, 1.28124, 0.0665517, 0.0241175, 0.00682578, 0.00317099]\n",
      "27/122: file farm_F_0120 had 8 free parameters, with hessian eigenvalues [134.62, 65.6263, 1.78806, 0.105854, 0.0479397, 0.00685385, 0.00439676, 0.000486669]\n",
      "28/122: file farm_F_0123 had 6 free parameters, with hessian eigenvalues [68.0354, 5.44512, 1.07552, 0.175158, 0.00629302, 0.000178713]\n",
      "29/122: file farm_F_0124 had 7 free parameters, with hessian eigenvalues [10350.5, 19.6052, 4.21063, 1.4165, 0.213171, 0.000751621, 0.0653129]\n",
      "30/122: file farm_F_0143 had 6 free parameters, with hessian eigenvalues [29.5532, 4.11493, 0.680474, 0.145178, 0.00794063, 0.00504104]\n",
      "31/122: file farm_F_0161 had 8 free parameters, with hessian eigenvalues [91.9296, 76.5904, 53.3961, 14.2876, 0.980371, 0.264977, 0.0251734, 0.0141546]\n",
      "32/122: file farm_F_0163 had 8 free parameters, with hessian eigenvalues [51.5553, 11.4042, 1.31006, 0.668182, 0.24316, 0.0111565, 0.033786, 0.0382239]\n",
      "33/122: file farm_F_0173 had 9 free parameters, with hessian eigenvalues [210.896, 11.6372, 6.81487, 0.885619, 0.146294, 0.0405175, 0.00922706, 0.00300106, 0.000550859]\n",
      "34/122: file farm_F_0175 had 9 free parameters, with hessian eigenvalues [695.606, 38.4205, 6.63103, 2.10487, 0.208257, 0.0381325, 0.0170658, 0.0105794, 0.000630701]\n",
      "35/122: file farm_F_0176 had 5 free parameters, with hessian eigenvalues [35.9252, 5.88193, 2.12085, 0.0189706, 0.137458]\n",
      "36/122: file farm_F_0177 had 8 free parameters, with hessian eigenvalues [223.14, 28.7424, 9.08042, 2.04792, 1.24671, 0.103379, 0.0524477, 0.00985445]\n",
      "37/122: file farm_F_0180 had 7 free parameters, with hessian eigenvalues [124.57, 5.47311, 2.87183, 0.0832376, 0.0303397, 0.00937294, 0.000617968]\n",
      "38/122: file farm_F_0182 had 8 free parameters, with hessian eigenvalues [462.782, 26.1174, 6.26315, 1.45787, 0.622968, 0.00300937, 0.0284983, 0.0404797]\n",
      "39/122: file farm_F_0184 had 8 free parameters, with hessian eigenvalues [134.92, 106.5, 17.7504, 4.92047, 0.845019, 0.189819, 0.0441626, 0.00551714]\n",
      "40/122: file farm_F_0206 had 5 free parameters, with hessian eigenvalues [25.3464, 2.1276, 0.945342, 0.0020623, 0.05895]\n",
      "41/122: file farm_F_0208 had 7 free parameters, with hessian eigenvalues [272.752, 102.787, 8.77557, 3.2935, 0.41623, 0.0529945, 0.0167382]\n",
      "42/122: file farm_F_0230 had 5 free parameters, with hessian eigenvalues [16.9835, 4.6584, 0.442384, 0.00558584, 0.00376233]\n",
      "43/122: file farm_F_0232 had 8 free parameters, with hessian eigenvalues [153.332, 22.7787, 13.4811, 7.13082, 1.9955, 0.272713, 0.108307, 0.00317969]\n",
      "44/122: file farm_F_0239 had 5 free parameters, with hessian eigenvalues [62.4222, 0.00515983, 0.189703, 1.83265, 2.77831]\n",
      "45/122: file farm_F_0240 had 7 free parameters, with hessian eigenvalues [37.4255, 13.4108, 6.49171, 0.694556, 0.466716, 0.0133112, 0.00603252]\n",
      "46/122: file farm_F_0245 had 7 free parameters, with hessian eigenvalues [7151.77, 18.3248, 3.45802, 2.15155, 0.146742, 0.00346388, 0.0131385]\n",
      "47/122: file farm_F_0251 had 6 free parameters, with hessian eigenvalues [18.2556, 1.70924, 0.86218, 0.101222, 0.00911486, 0.00295163]\n",
      "48/122: file farm_F_0287 had 7 free parameters, with hessian eigenvalues [172.813, 24.2154, 8.19865, 9.91608, 1.30763, 0.0182948, 0.132357]\n",
      "49/122: file farm_F_0288 had 8 free parameters, with hessian eigenvalues [83.9398, 12.3708, 3.37797, 0.136009, 0.0643011, 0.0268157, 0.00526983, 0.00034609]\n",
      "50/122: file farm_F_0295 had 7 free parameters, with hessian eigenvalues [850.045, 54.3966, 11.217, 4.56808, 1.25994, 0.0319126, 0.386205]\n",
      "51/122: file farm_F_0298 had 7 free parameters, with hessian eigenvalues [79.7286, 13.5942, 3.63363, 0.17795, 0.0242425, 0.00905691, 0.00073802]\n",
      "52/122: file farm_F_0299 had 6 free parameters, with hessian eigenvalues [77.2777, 6.52235, 3.81451, 0.357268, 0.00053184, 0.00946344]\n",
      "53/122: file farm_F_0300 had 9 free parameters, with hessian eigenvalues [23327.2, 1385.72, 249.155, 7.98062, 0.520123, 0.12705, 0.0504587, 0.022229, 0.00241116]\n",
      "54/122: file farm_F_0303 had 7 free parameters, with hessian eigenvalues [110.863, 3.32262, 1.23426, 0.106459, 0.0266832, 0.000328286, 0.0113516]\n",
      "55/122: file farm_F_0307 had 8 free parameters, with hessian eigenvalues [753.793, 42.3859, 13.2252, 3.10358, 0.421531, 0.1697, 0.0553688, 0.00393434]\n",
      "56/122: file farm_F_0317 had 6 free parameters, with hessian eigenvalues [87.0753, 9.09099, 6.01487, 0.105082, 0.0613679, 0.0188188]\n",
      "57/122: file farm_F_0338 had 8 free parameters, with hessian eigenvalues [72706.4, 7.76227, 3.85178, 0.445864, 0.0598633, 0.0292617, 0.00440183, 0.000981188]\n",
      "58/122: file farm_F_0339 had 7 free parameters, with hessian eigenvalues [147.335, 7.24697, 2.09318, 0.183956, 0.0667474, 0.0333101, 0.000319212]\n",
      "59/122: file farm_F_0346 had 7 free parameters, with hessian eigenvalues [88.5799, 5.55895, 1.81229, 0.228653, 0.0244035, 0.0127989, 0.00107661]\n",
      "60/122: file farm_F_0347 had 8 free parameters, with hessian eigenvalues [5.01347e-07, 2.03291e-08, 3.34842e-09, 1.11772e-09, 2.01136e-10, 6.7134e-11, 1.75746e-12, 3.11831e-12]\n",
      "61/122: file farm_F_0351 had 5 free parameters, with hessian eigenvalues [118.64, 7.61983, 2.77086, 0.0108141, 0.0666126]\n",
      "62/122: file farm_F_0355 had 6 free parameters, with hessian eigenvalues [72.2016, 7.12159, 2.14103, 0.191925, 0.00101177, 0.00757499]\n",
      "63/122: file farm_F_0362 had 5 free parameters, with hessian eigenvalues [32.922, 6.52913, 0.97521, 0.0103829, 0.11503]\n",
      "64/122: file farm_F_0369 had 6 free parameters, with hessian eigenvalues [129.979, 9.70916, 3.52329, 0.0812773, 0.0314931, 0.0545756]\n",
      "65/122: file farm_F_0379 had 8 free parameters, with hessian eigenvalues [1619.61, 63.1835, 11.4911, 1.67616, 0.0500233, 0.0319695, 0.00598204, 0.00785531]\n",
      "66/122: file farm_F_0405 had 8 free parameters, with hessian eigenvalues [25.6249, 8.04377, 5.99098, 0.541952, 0.131869, 0.0950139, 0.0171756, 0.00445928]\n",
      "67/122: file farm_F_0406 had 8 free parameters, with hessian eigenvalues [124.489, 36.9317, 20.7911, 10.7378, 1.46578, 0.234798, 0.0666409, 0.0309798]\n",
      "68/122: file farm_F_0407 had 8 free parameters, with hessian eigenvalues [79.0386, 16.1381, 7.929, 3.70802, 0.427219, 0.0657037, 0.00951984, 0.00150909]\n",
      "69/122: file farm_F_0408 had 5 free parameters, with hessian eigenvalues [90.9619, 15.5516, 0.470781, 0.00223725, 0.0385645]\n",
      "70/122: file farm_F_0409 had 7 free parameters, with hessian eigenvalues [17.1611, 3.27492, 0.996401, 0.117577, 0.0191221, 0.000506114, 0.000149512]\n",
      "71/122: file farm_F_0410 had 6 free parameters, with hessian eigenvalues [52.7399, 2.95999, 1.76366, 0.353434, 0.0174764, 0.00675957]\n",
      "72/122: file farm_F_0411 had 8 free parameters, with hessian eigenvalues [121.268, 4.56897, 0.613843, 0.00375571, 0.00209149, 0.0015598, 7.58592e-05, 0.000123163]\n",
      "73/122: file farm_F_0412 had 6 free parameters, with hessian eigenvalues [39.9883, 7.70394, 1.53391, 0.17812, 0.00925312, 0.000413407]\n",
      "74/122: file farm_F_0413 had 5 free parameters, with hessian eigenvalues [165.249, 6.77901, 0.847408, 0.111678, 0.0165931]\n",
      "75/122: file farm_F_0414 had 6 free parameters, with hessian eigenvalues [522.414, 96.4579, 16.1011, 0.0340003, 0.716251, 0.541136]\n",
      "76/122: file farm_F_0415 had 7 free parameters, with hessian eigenvalues [63.2547, 5.24853, 1.18141, 1.06038, 0.0553407, 0.0147424, 0.000288401]\n",
      "77/122: file farm_F_0416 had 5 free parameters, with hessian eigenvalues [24.5681, 2.37661, 0.00298972, 0.216689, 1.28384]\n",
      "78/122: file farm_F_0417 had 8 free parameters, with hessian eigenvalues [174.048, 23.0082, 8.96761, 1.58936, 0.991742, 0.0189452, 0.0652139, 0.162965]\n",
      "79/122: file farm_F_0418 had 9 free parameters, with hessian eigenvalues [75.262, 17.7861, 3.77703, 1.04337, 0.151241, 0.0110907, 0.0028796, 9.81235e-05, 0.000443636]\n",
      "80/122: file farm_F_0467 had 8 free parameters, with hessian eigenvalues [4.99905e-07, 2.03366e-08, 3.35093e-09, 1.11669e-09, 2.01424e-10, 6.70507e-11, 1.83001e-12, 3.14044e-12]\n",
      "81/122: file farm_F_0468 had 6 free parameters, with hessian eigenvalues [80.1155, 6.38054, 3.95408, 0.413732, 0.011658, 0.0210642]\n",
      "82/122: file farm_F_0469 had 8 free parameters, with hessian eigenvalues [170.374, 47.787, 4.62383, 1.33482, 0.70692, 0.185488, 0.0311869, 0.00232999]\n",
      "83/122: file farm_F_0471 had 8 free parameters, with hessian eigenvalues [68.5303, 11.3268, 0.848473, 0.257939, 0.0647991, 0.0306753, 0.00308119, 0.000195499]\n",
      "84/122: file farm_F_0475 had 8 free parameters, with hessian eigenvalues [3155.83, 122.511, 17.2419, 0.370559, 0.0346756, 0.0118147, 0.0033908, 0.000985678]\n",
      "85/122: file farm_F_0478 had 8 free parameters, with hessian eigenvalues [217.649, 6.72935, 1.7566, 0.761661, 0.11011, 0.0472816, 0.0142185, 0.000918122]\n",
      "86/122: file farm_F_0482 had 8 free parameters, with hessian eigenvalues [188.004, 44.0087, 29.3719, 0.217069, 0.0221975, 0.0113885, 0.00443293, 0.000444434]\n",
      "87/122: file farm_F_0485 had 8 free parameters, with hessian eigenvalues [143.685, 68.8215, 26.5989, 0.331157, 0.0824646, 0.0246689, 0.00489308, 0.00167078]\n",
      "88/122: file farm_F_0527 had 8 free parameters, with hessian eigenvalues [11.3772, 3.58451, 2.82139, 1.49738, 0.121702, 0.040259, 0.00223459, 0.00137646]\n",
      "89/122: file farm_F_0528 had 6 free parameters, with hessian eigenvalues [46.7617, 3.41298, 1.04515, 0.00953327, 0.0337421, 0.0273121]\n",
      "90/122: file farm_F_0532 had 7 free parameters, with hessian eigenvalues [36.2673, 13.8859, 0.601981, 0.0833891, 0.0408274, 0.024426, 0.000183771]\n",
      "91/122: file farm_F_0533 had 9 free parameters, with hessian eigenvalues [12304.7, 76.6642, 43.2196, 21.6884, 9.19942, 5.56414, 0.576822, 0.247855, 0.260481]\n",
      "92/122: file farm_F_0534 had 9 free parameters, with hessian eigenvalues [132.638, 11.5965, 4.35744, 0.437224, 0.0940996, 0.0238716, 0.00384793, -0.000405187, 0.000426438]\n",
      "\n",
      "    *** File farm_F_0534 had off-wall mixed sign eigenvalues!\n",
      "\n",
      "93/122: file farm_F_0535 had 9 free parameters, with hessian eigenvalues [80377, 641.086, 20.4349, 1.92327, 1.18728, 0.126388, 0.0077121, 0.020429, 0.0507301]\n",
      "94/122: file farm_F_0536 had 8 free parameters, with hessian eigenvalues [13.3832, 3.6587, 2.30643, 1.171, 0.0253919, 0.00448033, 0.00947419, 0.0132827]\n",
      "95/122: file farm_F_0537 had 8 free parameters, with hessian eigenvalues [2570.45, 1066.88, 1.26288, 0.189295, 0.0101866, 0.00402835, 0.000923947, 0.000562978]\n",
      "96/122: file farm_F_0543 had 7 free parameters, with hessian eigenvalues [55.7158, 2.59177, 1.23552, 0.370949, 0.0348508, 0.00882371, 0.000325561]\n",
      "97/122: file farm_F_0544 had 9 free parameters, with hessian eigenvalues [124.587, 50.5123, 28.7712, 1.40925, 0.817961, 0.0393544, 0.0102615, 0.00345123, 0.000378165]\n",
      "98/122: file farm_F_0545 had 9 free parameters, with hessian eigenvalues [2975.96, 531.037, 38.6067, 15.5424, 1.17293, 0.835679, 0.38545, 0.115012, 0.0174613]\n",
      "99/122: file farm_F_0549 had 6 free parameters, with hessian eigenvalues [18.0028, 3.23353, 0.959176, 0.0614071, 0.0124786, 0.000235701]\n",
      "100/122: file farm_F_0550 had 6 free parameters, with hessian eigenvalues [27.9982, 4.32185, 0.878528, 0.155222, 0.0279006, 0.00630583]\n",
      "101/122: file farm_F_0552 had 6 free parameters, with hessian eigenvalues [22.0178, 2.78451, 1.81526, 0.171112, 0.0133083, 0.00835]\n",
      "102/122: file farm_F_0557 had 6 free parameters, with hessian eigenvalues [51.5048, 5.8016, 1.92082, 0.152704, 0.000877974, 0.00821268]\n",
      "103/122: file farm_F_0564 had 7 free parameters, with hessian eigenvalues [44.8329, 12.8456, 2.95007, 0.136669, 0.0389364, 0.00545221, 0.00955626]\n",
      "104/122: file farm_F_0565 had 8 free parameters, with hessian eigenvalues [4482.68, 45.5443, 11.8061, 1.20335, 0.139496, 0.000644837, 0.0135828, 0.0350477]\n",
      "105/122: file farm_F_0574 had 7 free parameters, with hessian eigenvalues [79.6975, 6.12258, 1.46117, 0.126743, 0.0490332, 0.0138507, 0.000726648]\n",
      "106/122: file farm_F_0593 had 8 free parameters, with hessian eigenvalues [55.3807, 4.47268, 0.730814, 0.309881, 0.0373708, 0.0266854, 0.00308214, 0.000490569]\n",
      "107/122: file farm_F_0610 had 8 free parameters, with hessian eigenvalues [30.4997, 4.5336, 0.527055, 0.228637, 0.0529947, 0.0123412, 0.0043343, 0.00020129]\n",
      "108/122: file farm_F_0642 had 6 free parameters, with hessian eigenvalues [604.991, 41.8023, 5.93151, 0.336229, 0.01194, 0.0064263]\n",
      "109/122: file farm_F_0655 had 8 free parameters, with hessian eigenvalues [82.6081, 6.99187, 1.46134, 0.42611, 0.0621765, 0.0188343, 0.0058488, 0.00053466]\n",
      "110/122: file farm_F_0659 had 8 free parameters, with hessian eigenvalues [504.961, 28.7961, 8.39242, 4.96661, 1.45495, 0.537555, 0.0286275, 0.00438986]\n",
      "111/122: file farm_F_0660 had 6 free parameters, with hessian eigenvalues [43.3422, 4.95468, 1.02971, 0.0541932, 0.0209241, 0.00858705]\n",
      "112/122: file farm_F_0665 had 7 free parameters, with hessian eigenvalues [3575.32, 18.4019, 2.30336, 0.998346, 0.081593, 0.000783577, 0.0101646]\n",
      "113/122: file farm_F_0668 had 7 free parameters, with hessian eigenvalues [84.4558, 5.81342, 2.14719, 0.143634, 0.0117241, 0.00211502, 0.000682709]\n",
      "114/122: file farm_F_0670 had 8 free parameters, with hessian eigenvalues [1.50053e+06, 3692.59, 195.791, 17.415, 0.725737, 0.310422, 0.09573, 0.0212632]\n",
      "115/122: file farm_F_0675 had 7 free parameters, with hessian eigenvalues [51.3931, 4.48962, 0.777047, 0.372325, 0.0553476, 0.0146764, 5.83139e-05]\n",
      "116/122: file farm_F_0697 had 6 free parameters, with hessian eigenvalues [28.2275, 7.97441, 1.17483, 0.310571, 0.0459903, 0.00777386]\n",
      "117/122: file farm_F_0710 had 7 free parameters, with hessian eigenvalues [28.9036, 15.3872, 0.75531, 0.302616, 0.137616, 0.0166724, 0.042158]\n",
      "118/122: file farm_F_0712 had 8 free parameters, with hessian eigenvalues [4.9374e-07, 2.02494e-08, 3.32727e-09, 1.06104e-09, 1.98496e-10, 6.68236e-11, 1.80411e-12, 3.0444e-12]\n",
      "119/122: file farm_F_0717 had 7 free parameters, with hessian eigenvalues [82.6317, 12.015, 2.87363, 0.0753694, 0.0533305, 0.00796348, 0.000453694]\n",
      "120/122: file farm_F_0724 had 8 free parameters, with hessian eigenvalues [11805, 312.642, 24.1227, 4.06545, 1.01329, 0.0893858, 0.0139844, 0.0283103]\n",
      "121/122: file farm_F_0727 had 7 free parameters, with hessian eigenvalues [183.38, 4.23191, 1.16603, 0.0903659, 0.0484601, 0.032765, 0.000776102]\n",
      "122/122: file farm_F_0736 had 9 free parameters, with hessian eigenvalues [7283.48, 1311.01, 55.643, 13.0472, 0.741641, 0.231881, 0.0898677, 0.00736288, 0.0148279]\n"
     ]
    }
   ],
   "source": [
    "#@include_me   mixed_sign_hessian_farm_F_analysis.jl\n",
    "\n",
    "\n",
    "# #################  FINALLY TO THE ANALYSIS PART   ################\n",
    "\n",
    "goodies = find((niters.<400)) #  & (scosts.<-0.007))\n",
    "mixed_sign = Array{String}(0)\n",
    "\n",
    "for i=1:length(goodies)\n",
    "    A = matread(\"FarmFields/\" * fnames[goodies[i]])\n",
    "\n",
    "    args = A[\"args\"]\n",
    "    pars = A[\"pars\"]\n",
    "    nPro = A[\"nPro\"]\n",
    "    nAnti = A[\"nAnti\"]\n",
    "    rule_and_delay_periods = A[\"rule_and_delay_periods\"]\n",
    "    post_target_periods    = A[\"post_target_periods\"]\n",
    "    theta1 = A[\"theta1\"]\n",
    "    theta2 = A[\"theta2\"]\n",
    "    sr = A[\"sr\"]\n",
    "    cb = A[\"cb\"]\n",
    "    sbox = symbol_key_ize(A[\"sbox\"])\n",
    "    bbox = symbol_key_ize(A[\"bbox\"])\n",
    "    model_params = symbol_key_ize(A[\"model_params\"])\n",
    "\n",
    "\n",
    "    func =  (;params...) -> JJ(nPro, nAnti; rule_and_delay_periods=rule_and_delay_periods,\n",
    "        theta1=theta1, theta2=theta2,\n",
    "        post_target_periods=post_target_periods,\n",
    "        seedrand=sr, cbeta=cb, verbose=false, merge(model_params, Dict(params))...)[1]\n",
    "\n",
    "    standard_func =  (;params...) -> JJ(nPro, nAnti; rule_and_delay_periods=rule_and_delay_periods,\n",
    "        theta1=theta1, theta2=theta2,\n",
    "        post_target_periods=post_target_periods,\n",
    "        seedrand=sr, cbeta=0.01, verbose=false, merge(model_params, Dict(params))...)[1]\n",
    "\n",
    "\n",
    "    value, grad, hess = keyword_vgh(func, args, pars)\n",
    "\n",
    "    walled, free = id_pars_at_walls(bbox, args, pars)\n",
    "    L, V = eig(hess[free,free])\n",
    "    @printf(\"%d/%d: file %s had %d free parameters, with hessian eigenvalues \", \n",
    "        i, length(goodies), fnames[goodies[i]], length(free))\n",
    "    print_vector_g(L); print(\"\\n\")\n",
    "    \n",
    "    if any(L.<0)\n",
    "        @printf(\"\\n    *** File %s had off-wall mixed sign eigenvalues!\\n\\n\", fnames[goodies[i]])\n",
    "        mixed_sign = [mixed_sign ; fnames[goodies[i]]]\n",
    "    end\n",
    "end\n",
    "\n"
   ]
  },
  {
   "cell_type": "code",
   "execution_count": 222,
   "metadata": {
    "collapsed": false
   },
   "outputs": [
    {
     "data": {
      "text/plain": [
       "-0.005147312775909539"
      ]
     },
     "execution_count": 222,
     "metadata": {},
     "output_type": "execute_result"
    }
   ],
   "source": [
    "find(fnames.==\"farm_F_0534\")\n",
    "scosts[534]"
   ]
  },
  {
   "cell_type": "code",
   "execution_count": 225,
   "metadata": {
    "collapsed": false
   },
   "outputs": [
    {
     "name": "stdout",
     "output_type": "stream",
     "text": [
      "     -- cost=-0.0188042,   cost1=0.000924336, cost2=-0.0197285\n",
      "     -- mean(hitsP)=0.899164, mean(diffsP)=0.983384 mean(hitsA)=0.705556, mean(diffsA)=0.989465\n"
     ]
    },
    {
     "data": {
      "text/plain": [
       "(-0.018804161952976576,[-0.0044078,0.000258897,0.00124851,-0.000814008,0.000464052,-0.00014586,0.00405028,-0.000532188,0.00915997],\n",
       "[12.5913 5.62381 … -14.9681 23.8249; 5.62381 9.76821 … 124.883 47.0639; … ; -14.9681 124.883 … 2559.26 625.841; 23.8249 47.0639 … 625.841 231.702])"
      ]
     },
     "execution_count": 225,
     "metadata": {},
     "output_type": "execute_result"
    }
   ],
   "source": [
    "A = matread(\"FarmFields/farm_F_0007\")\n",
    "\n",
    "args = A[\"args\"]\n",
    "pars = A[\"pars\"]\n",
    "nPro = A[\"nPro\"]\n",
    "nAnti = A[\"nAnti\"]\n",
    "rule_and_delay_periods = A[\"rule_and_delay_periods\"]\n",
    "post_target_periods    = A[\"post_target_periods\"]\n",
    "theta1 = A[\"theta1\"]\n",
    "theta2 = A[\"theta2\"]\n",
    "sr = A[\"sr\"]\n",
    "cb = A[\"cb\"]\n",
    "sbox = symbol_key_ize(A[\"sbox\"])\n",
    "bbox = symbol_key_ize(A[\"bbox\"])\n",
    "model_params = symbol_key_ize(A[\"model_params\"])\n",
    "\n",
    "\n",
    "func =  (;params...) -> JJ(nPro, nAnti; rule_and_delay_periods=rule_and_delay_periods,\n",
    "    theta1=theta1, theta2=theta2,\n",
    "    post_target_periods=post_target_periods,\n",
    "    seedrand=sr, cbeta=cb, verbose=true, merge(model_params, Dict(params))...)[1]\n",
    "\n",
    "standard_func =  (;params...) -> JJ(nPro, nAnti; rule_and_delay_periods=rule_and_delay_periods,\n",
    "    theta1=theta1, theta2=theta2,\n",
    "    post_target_periods=post_target_periods,\n",
    "seedrand=sr, cbeta=0.01, verbose=true, merge(model_params, Dict(params))...)[1]\n",
    "\n",
    "\n",
    "value, grad, hess = keyword_vgh(func, args, pars)\n"
   ]
  },
  {
   "cell_type": "code",
   "execution_count": 226,
   "metadata": {
    "collapsed": false
   },
   "outputs": [
    {
     "name": "stdout",
     "output_type": "stream",
     "text": [
      "     -- cost=-0.0134099,   cost1=0.0031153, cost2=-0.0165252\n",
      "     -- mean(hitsP)=0.913785, mean(diffsP)=0.826011 mean(hitsA)=0.682788, mean(diffsA)=0.826511\n"
     ]
    },
    {
     "data": {
      "text/plain": [
       "(-0.013409921228294583,[0.00075059,3.69887e-5,2.5754e-5,5.33582e-5,8.66638e-5,1.04474e-5,0.00142265,0.000182167,9.07709e-5],\n",
       "[0.846019 -1.42427 … -6.22741 -2.33592; -1.42427 4.00848 … 17.749 7.7746; … ; -6.22741 17.749 … 103.552 31.0119; -2.33592 7.7746 … 31.0119 16.3966])"
      ]
     },
     "execution_count": 226,
     "metadata": {},
     "output_type": "execute_result"
    }
   ],
   "source": [
    "A = matread(\"FarmFields/farm_F_0534\")\n",
    "\n",
    "args = A[\"args\"]\n",
    "pars = A[\"pars\"]\n",
    "nPro = A[\"nPro\"]\n",
    "nAnti = A[\"nAnti\"]\n",
    "rule_and_delay_periods = A[\"rule_and_delay_periods\"]\n",
    "post_target_periods    = A[\"post_target_periods\"]\n",
    "theta1 = A[\"theta1\"]\n",
    "theta2 = A[\"theta2\"]\n",
    "sr = A[\"sr\"]\n",
    "cb = A[\"cb\"]\n",
    "sbox = symbol_key_ize(A[\"sbox\"])\n",
    "bbox = symbol_key_ize(A[\"bbox\"])\n",
    "model_params = symbol_key_ize(A[\"model_params\"])\n",
    "\n",
    "\n",
    "func =  (;params...) -> JJ(nPro, nAnti; rule_and_delay_periods=rule_and_delay_periods,\n",
    "    theta1=theta1, theta2=theta2,\n",
    "    post_target_periods=post_target_periods,\n",
    "    seedrand=sr, cbeta=cb, verbose=true, merge(model_params, Dict(params))...)[1]\n",
    "\n",
    "standard_func =  (;params...) -> JJ(nPro, nAnti; rule_and_delay_periods=rule_and_delay_periods,\n",
    "    theta1=theta1, theta2=theta2,\n",
    "    post_target_periods=post_target_periods,\n",
    "seedrand=sr, cbeta=0.01, verbose=true, merge(model_params, Dict(params))...)[1]\n",
    "\n",
    "\n",
    "value, grad, hess = keyword_vgh(func, args, pars)\n"
   ]
  },
  {
   "cell_type": "code",
   "execution_count": 233,
   "metadata": {
    "collapsed": false
   },
   "outputs": [
    {
     "data": {
      "text/plain": [
       "0.26897470039946736"
      ]
     },
     "execution_count": 233,
     "metadata": {},
     "output_type": "execute_result"
    }
   ],
   "source": [
    "length(find(scosts.<scosts[534]))/length(scosts)"
   ]
  },
  {
   "cell_type": "code",
   "execution_count": 232,
   "metadata": {
    "collapsed": false
   },
   "outputs": [
    {
     "data": {
      "text/plain": [
       "751"
      ]
     },
     "execution_count": 232,
     "metadata": {},
     "output_type": "execute_result"
    }
   ],
   "source": [
    "length(scosts)"
   ]
  },
  {
   "cell_type": "code",
   "execution_count": 137,
   "metadata": {
    "collapsed": false
   },
   "outputs": [
    {
     "data": {
      "text/plain": [
       "Dict{String,Any} with 9 entries:\n",
       "  \"sigma\"                    => [0.01 0.2]\n",
       "  \"const_pro_bias\"           => [-2 2]\n",
       "  \"sW\"                       => [0 3]\n",
       "  \"right_light_excitation\"   => [0.05 4.0]\n",
       "  \"dW\"                       => [-3 3]\n",
       "  \"vW\"                       => [-3 3]\n",
       "  \"constant_excitation\"      => [-2 2]\n",
       "  \"target_period_excitation\" => [0.05 4.0]\n",
       "  \"hW\"                       => [-3 3]"
      ]
     },
     "execution_count": 137,
     "metadata": {},
     "output_type": "execute_result"
    }
   ],
   "source": [
    "bbox"
   ]
  },
  {
   "cell_type": "code",
   "execution_count": 141,
   "metadata": {
    "collapsed": false
   },
   "outputs": [
    {
     "data": {
      "text/plain": [
       "Dict{String,Any} with 21 entries:\n",
       "  \"traj\"                   => [0.01 0.011 … 0.000211781 0.000232959; 0.0605184 …\n",
       "  \"scost\"                  => -0.00893991\n",
       "  \"cpm_traj\"               => [5.0 55.0 … 72.0 64.0; 0.0 0.0 … 0.0 0.0]\n",
       "  \"post_target_periods\"    => [0.5,1.5]\n",
       "  \"grad\"                   => [-0.0044078,0.000258897,0.00124851,-0.000814008,0…\n",
       "  \"rule_and_delay_periods\" => [0.4,1.2]\n",
       "  \"model_params\"           => Dict{String,Any}(Pair{String,Any}(\"const_pro_bias…\n",
       "  \"sr\"                     => 1505632664\n",
       "  \"args\"                   => Any[\"sW\",\"vW\",\"hW\",\"dW\",\"constant_excitation\",\"ri…\n",
       "  \"value\"                  => -0.0188042\n",
       "  \"nAnti\"                  => 100\n",
       "  \"theta2\"                 => 0.25\n",
       "  \"nPro\"                   => 100\n",
       "  \"theta1\"                 => 0.15\n",
       "  \"bbox\"                   => Dict{String,Any}(Pair{String,Any}(\"sigma\",[0.01 0…\n",
       "  \"cost\"                   => -0.0188042\n",
       "  \"myseed\"                 => [0.340015,-0.140855,-0.449796,0.0457599,0.386453,…\n",
       "  \"hess\"                   => [12.5913 5.62381 … -14.9681 23.8249; 5.62381 9.76…\n",
       "  \"pars\"                   => [0.906831,-1.08425,0.14913,1.19913,-0.0475062,1.8…\n",
       "  \"cb\"                     => 0.02\n",
       "  \"sbox\"                   => Dict{String,Any}(Pair{String,Any}(\"sigma\",[0.02 0…"
      ]
     },
     "execution_count": 141,
     "metadata": {},
     "output_type": "execute_result"
    }
   ],
   "source": [
    "A"
   ]
  },
  {
   "cell_type": "code",
   "execution_count": null,
   "metadata": {
    "collapsed": true
   },
   "outputs": [],
   "source": []
  },
  {
   "cell_type": "markdown",
   "metadata": {},
   "source": [
    "# Running a ProAnti optimization  \n",
    "\n",
    "This is the code that ran farm F\n"
   ]
  },
  {
   "cell_type": "code",
   "execution_count": null,
   "metadata": {
    "collapsed": false
   },
   "outputs": [],
   "source": [
    "#@include_me   farming.jl\n",
    "\n",
    "# ======= ARGUMENTS AND SEED VALUES:\n",
    "args = [\"sW\", \"vW\", \"hW\", \"dW\", \"constant_excitation\", \"right_light_excitation\", \"target_period_excitation\"]\n",
    "seed = [0.2,   1,   0.2,  1,    0.39,                0.15,                       0.1]\n",
    "\n",
    "args = [args ; [\"const_pro_bias\", \"sigma\"]]\n",
    "seed = [seed ; [0.1,               0.1]]\n",
    "\n",
    "\n",
    "# ======= BOUNDING BOX:\n",
    "bbox = Dict(:sW=>[0 3], :vW=>[-3 3], :hW=>[-3 3], :dW=>[-3 3], :constant_excitation=>[-2 2],\n",
    ":right_light_excitation=>[0.05 4], :target_period_excitation=>[0.05 4], :const_pro_bias=>[-2 2],\n",
    ":sigma=>[0.01 0.2])\n",
    "\n",
    "model_params = merge(model_params, Dict(:post_target_period=>0.5))\n",
    "# seed = [0.0840597,  -1.32677,  -0.437334,  -0.324835,  0.567997, 0.712216,  0.0500075,  0.0858569,  0.25]\n",
    "\n",
    "\n",
    "# ======== SEARCH ZONE:\n",
    "\n",
    "sbox = Dict(:sW=>[0.001 0.5], :vW=>[-0.5 0.5], :hW=>[-0.5 0.5], :dW=>[-0.5 0.5],\n",
    ":constant_excitation=>[-0.5 0.5], :right_light_excitation=>[0.1 0.5], :target_period_excitation=>[0.1 0.5],\n",
    ":const_pro_bias=>[0 0.2], :sigma=>[0.02 0.19])\n",
    "\n",
    "cbetas = [0.02, 0.04]\n",
    "\n",
    "fbasename = \"FarmFields/farm_F_\"\n",
    "\n",
    "while true\n",
    "    myseed = seed;\n",
    "    sr = convert(Int64, round(time()))\n",
    "\n",
    "    myseed = copy(seed);\n",
    "    for i=1:length(args)\n",
    "        sym = Symbol(args[i])\n",
    "        if haskey(sbox, sym)\n",
    "            myseed[i] = sbox[sym][1] + diff(sbox[sym],2)[1]*rand()\n",
    "        end\n",
    "    end\n",
    "    nPro=100; nAnti=100\n",
    "\n",
    "    rule_and_delay_periods = [0.4, 1.2]\n",
    "    post_target_periods    = [0.5, 1.5]\n",
    "\n",
    "    theta1 = 0.15; theta2 = 0.25\n",
    "\n",
    "    for cb in cbetas\n",
    "        func =  (;params...) -> JJ(nPro, nAnti; rule_and_delay_periods=rule_and_delay_periods,\n",
    "            theta1=theta1, theta2=theta2,\n",
    "            post_target_periods=post_target_periods,\n",
    "            seedrand=sr, cbeta=cb, verbose=false, merge(model_params, Dict(params))...)[1]\n",
    "        \n",
    "        # And at the standard cb=0.01 for comparison to other cbs\n",
    "        standard_func =  (;params...) -> JJ(nPro, nAnti; rule_and_delay_periods=rule_and_delay_periods,\n",
    "            theta1=theta1, theta2=theta2,\n",
    "            post_target_periods=post_target_periods,\n",
    "            seedrand=sr, cbeta=0.01, verbose=false, merge(model_params, Dict(params))...)[1]        \n",
    "                \n",
    "        @printf(\"Going with seed = \"); print_vector_g(myseed); print(\"\\n\")\n",
    "        pars, traj, cost, cpm_traj = bbox_Hessian_keyword_minimization(myseed, args, bbox, func,\n",
    "            start_eta = 0.01, tol=1e-12, verbose=true, verbose_every=10, maxiter=400)\n",
    "        @printf(\"Came out with cost %g and pars = \", cost); print_vector_g(pars); print(\"\\n\\n\")\n",
    "\n",
    "        value, grad, hess = keyword_vgh(func, args, pars)\n",
    "        scost = standard_func(;make_dict(args, pars, model_params)...)\n",
    "        \n",
    "        myfilename = next_file(fbasename, 4)\n",
    "\n",
    "        matwrite(myfilename, Dict(\"args\"=>args, \"myseed\"=>myseed, \"pars\"=>pars, \"traj\"=>traj,\n",
    "        \"cost\"=>cost, \"cpm_traj\"=>cpm_traj, \"nPro\"=>nPro, \"nAnti\"=>nAnti, \"sr\"=>sr, \"cb\"=>cb,\n",
    "        \"theta1\"=>theta1, \"theta2\"=>theta2,\n",
    "        \"scost\"=>scost, \"value\"=>value, \"grad\"=>grad, \"hess\"=>hess,\n",
    "        \"model_params\"=>ascii_key_ize(model_params), \"bbox\"=>ascii_key_ize(bbox), \"sbox\"=>ascii_key_ize(sbox),\n",
    "        \"rule_and_delay_periods\"=>rule_and_delay_periods, \"post_target_periods\"=>post_target_periods))\n",
    "\n",
    "    end\n",
    "end\n"
   ]
  },
  {
   "cell_type": "markdown",
   "metadata": {},
   "source": [
    "# Alex's farm G"
   ]
  },
  {
   "cell_type": "code",
   "execution_count": 79,
   "metadata": {
    "collapsed": false
   },
   "outputs": [
    {
     "name": "stdout",
     "output_type": "stream",
     "text": [
      "traj  scost  cpm_traj  post_target_periods  scost1  grad  rule_and_delay_periods  model_params  scost2  sr  args  value  nAnti  theta2  nPro  theta1  bbox  cost  myseed  hess  pars  cb  sbox  "
     ]
    },
    {
     "data": {
      "text/plain": [
       "Dict{String,Any} with 23 entries:\n",
       "  \"traj\"                   => [0.01; 0.1; … ; 0.172852; 0.0994571]\n",
       "  \"scost\"                  => 0.1\n",
       "  \"cpm_traj\"               => [11.0; -3.07971e-27]\n",
       "  \"post_target_periods\"    => [0.5,1.5]\n",
       "  \"scost1\"                 => 0.1\n",
       "  \"grad\"                   => [1.54393e-15; 1.45436e-15; … ; 1.51452e-15; -1.79…\n",
       "  \"rule_and_delay_periods\" => [0.4,1.2]\n",
       "  \"model_params\"           => Dict{String,Any}(Pair{String,Any}(\"const_pro_bias…\n",
       "  \"scost2\"                 => -2.25156e-31\n",
       "  \"sr\"                     => 1505775670\n",
       "  \"args\"                   => Any[\"sW\",\"vW\",\"hW\",\"dW\",\"constant_excitation\",\"ri…\n",
       "  \"value\"                  => 0.1\n",
       "  \"nAnti\"                  => 100\n",
       "  \"theta2\"                 => 0.25\n",
       "  \"nPro\"                   => 100\n",
       "  \"theta1\"                 => 0.15\n",
       "  \"bbox\"                   => Dict{String,Any}(Pair{String,Any}(\"sigma\",[0.01 0…\n",
       "  \"cost\"                   => 0.1\n",
       "  \"myseed\"                 => [1.0831; 0.189122; … ; 0.172852; 0.0994571]\n",
       "  \"hess\"                   => [-1.15337e-14 -1.08768e-14 … -1.13322e-14 1.33338…\n",
       "  \"pars\"                   => [1.0831; 0.189122; … ; 0.172852; 0.0994571]\n",
       "  \"cb\"                     => 0.04\n",
       "  \"sbox\"                   => Dict{String,Any}(Pair{String,Any}(\"sigma\",[0.02 0…"
      ]
     },
     "execution_count": 79,
     "metadata": {},
     "output_type": "execute_result"
    }
   ],
   "source": [
    "#@include_me alex_farm_g0011.jl\n",
    "\n",
    "include(\"pro_anti.jl\")\n",
    "\n",
    "A = matread(\"FarmFields/farm_G_1.mat0011\")\n",
    "\n",
    "model_params = symbol_key_ize(A[\"model_params\"])\n",
    "for k in keys(A); print(k); print(\"  \"); end\n",
    "\n",
    "A"
   ]
  },
  {
   "cell_type": "code",
   "execution_count": 80,
   "metadata": {
    "collapsed": false
   },
   "outputs": [
    {
     "data": {
      "text/plain": [
       "9×2 Array{Any,2}:\n",
       " \"sW\"                         1.0831   \n",
       " \"vW\"                         0.189122 \n",
       " \"hW\"                         2.35084  \n",
       " \"dW\"                        -0.698891 \n",
       " \"constant_excitation\"        1.83626  \n",
       " \"right_light_excitation\"     3.37559  \n",
       " \"target_period_excitation\"   2.67918  \n",
       " \"const_pro_bias\"             0.172852 \n",
       " \"sigma\"                      0.0994571"
      ]
     },
     "execution_count": 80,
     "metadata": {},
     "output_type": "execute_result"
    }
   ],
   "source": [
    "[args[:]  A[\"myseed\"]]"
   ]
  },
  {
   "cell_type": "code",
   "execution_count": 81,
   "metadata": {
    "collapsed": false
   },
   "outputs": [
    {
     "name": "stdout",
     "output_type": "stream",
     "text": [
      "     -- cost=0.1,   cost1=0.1, cost2=-2.25156e-31\n",
      "     -- mean(hitsP)=0.5, mean(diffsP)=1.45185e-29 mean(hitsA)=0.5, mean(diffsA)=3.05126e-29\n"
     ]
    },
    {
     "data": {
      "text/plain": [
       "(0.09999999999999976,\n",
       "[1.54393e-15; 1.45436e-15; … ; 1.51452e-15; -1.79282e-17],\n",
       "\n",
       "[-1.15337e-14 -1.08768e-14 … -1.13322e-14 1.33338e-16; -1.08768e-14 -1.01711e-14 … -1.06111e-14 1.15375e-16; … ; -1.13322e-14 -1.06111e-14 … -1.10246e-14 1.27875e-16; 1.33338e-16 1.15375e-16 … 1.27875e-16 -2.45237e-16])"
      ]
     },
     "execution_count": 81,
     "metadata": {},
     "output_type": "execute_result"
    }
   ],
   "source": [
    "#@include_me alex_farm_g0011.jl\n",
    "\n",
    "bbox = Dict(:sW=>[0 3], :vW=>[-3 3], :hW=>[-3 3], :dW=>[-3 3], :constant_excitation=>[-2 2],\n",
    ":right_light_excitation=>[0.05 4], :target_period_excitation=>[0.05 4], :const_pro_bias=>[-2 2],\n",
    ":sigma=>[0.01 0.2]);\n",
    "\n",
    "model_params = symbol_key_ize(A[\"model_params\"])\n",
    "\n",
    "    rule_and_delay_periods = [0.4, 1.2]\n",
    "    post_target_periods    = [0.5, 1.5]\n",
    "\n",
    "    standard_func =  (;params...) -> JJ(model_params[:nPro], model_params[:nAnti]; \n",
    "    rule_and_delay_periods=rule_and_delay_periods, theta1=model_params[:theta1], theta2=model_params[:theta2], \n",
    "    post_target_periods=post_target_periods,  seedrand=A[\"sr\"], cbeta=0.01, verbose=true, \n",
    "    merge(model_params, Dict(params))...)[1]        \n",
    "\n",
    "value, grad, hess = keyword_vgh(standard_func, A[\"args\"], A[\"myseed\"])\n"
   ]
  },
  {
   "cell_type": "code",
   "execution_count": 82,
   "metadata": {
    "collapsed": false
   },
   "outputs": [
    {
     "name": "stdout",
     "output_type": "stream",
     "text": [
      "0: eta=0.03 ps=[1.083, 0.189, 2.351, -0.699, 1.836, 3.376, 2.679, 0.173, 0.099]\n",
      "     -- cost=0.1,   cost1=0.1, cost2=-2.25156e-31\n",
      "     -- mean(hitsP)=0.5, mean(diffsP)=1.45185e-29 mean(hitsA)=0.5, mean(diffsA)=3.05126e-29\n",
      "     -- cost=0.1,   cost1=0.1, cost2=-9.43206e-32\n",
      "     -- mean(hitsP)=0.5, mean(diffsP)=6.52141e-30 mean(hitsA)=0.5, mean(diffsA)=1.23427e-29\n",
      "eta going down: new_cost-cost=8.32667e-17 and jumptype='constrained'\n",
      "1: eta=0.015 cost=0.1 jtype=constrained costheta=NaN ps=[1.0831, 0.189122, 2.35084, -0.698891, 1.83626, 3.37559, 2.67918, 0.172852, 0.0994571]\n",
      "     -- cost=0.1,   cost1=0.1, cost2=-3.53385e-31\n",
      "     -- mean(hitsP)=0.5, mean(diffsP)=2.31669e-29 mean(hitsA)=0.5, mean(diffsA)=4.75101e-29\n",
      "eta going down: new_cost-cost=5.55112e-17 and jumptype='constrained'\n",
      "2: eta=0.0075 cost=0.1 jtype=constrained costheta=NaN ps=[1.0831, 0.189122, 2.35084, -0.698891, 1.83626, 3.37559, 2.67918, 0.172852, 0.0994571]\n",
      "     -- cost=0.1,   cost1=0.1, cost2=-2.83255e-31\n",
      "     -- mean(hitsP)=0.5, mean(diffsP)=1.86156e-29 mean(hitsA)=0.5, mean(diffsA)=3.80354e-29\n",
      "eta going down: new_cost-cost=2.77556e-17 and jumptype='constrained'\n",
      "3: eta=0.00375 cost=0.1 jtype=constrained costheta=NaN ps=[1.0831, 0.189122, 2.35084, -0.698891, 1.83626, 3.37559, 2.67918, 0.172852, 0.0994571]\n",
      "     -- cost=0.1,   cost1=0.1, cost2=-2.51866e-31\n",
      "     -- mean(hitsP)=0.5, mean(diffsP)=1.65893e-29 mean(hitsA)=0.5, mean(diffsA)=3.3784e-29\n",
      "eta going down: new_cost-cost=2.77556e-17 and jumptype='constrained'\n",
      "4: eta=0.001875 cost=0.1 jtype=constrained costheta=NaN ps=[1.0831, 0.189122, 2.35084, -0.698891, 1.83626, 3.37559, 2.67918, 0.172852, 0.0994571]\n",
      "     -- cost=0.1,   cost1=0.1, cost2=-2.37455e-31\n",
      "     -- mean(hitsP)=0.5, mean(diffsP)=1.5404e-29 mean(hitsA)=0.5, mean(diffsA)=3.20869e-29\n",
      "eta going down: new_cost-cost=2.77556e-17 and jumptype='constrained'\n",
      "5: eta=0.0009375 cost=0.1 jtype=constrained costheta=NaN ps=[1.0831, 0.189122, 2.35084, -0.698891, 1.83626, 3.37559, 2.67918, 0.172852, 0.0994571]\n",
      "     -- cost=0.1,   cost1=0.1, cost2=-2.31146e-31\n",
      "     -- mean(hitsP)=0.5, mean(diffsP)=1.4909e-29 mean(hitsA)=0.5, mean(diffsA)=3.13202e-29\n",
      "About to break -- tol=1e-18, new_cost-cost=0, eta=0.0009375\n"
     ]
    },
    {
     "data": {
      "text/plain": [
       "(\n",
       "[1.0831; 0.189122; … ; 0.172852; 0.0994571],\n",
       "\n",
       "[0.03 0.015 … 0.001875 0.0009375; 0.1 0.1 … 0.1 0.1; … ; 0.172852 0.172852 … 0.172852 0.172852; 0.0994571 0.0994571 … 0.0994571 0.0994571],\n",
       "\n",
       "0.09999999999999976,\n",
       "[53.0 9.0 … 17.0 19.0; 2.73323e-23 -4.27459e-24 … -5.23046e-26 -2.47464e-22])"
      ]
     },
     "execution_count": 82,
     "metadata": {},
     "output_type": "execute_result"
    }
   ],
   "source": [
    "#@include_me alex_farm_g0011.jl\n",
    "\n",
    "pars, traj, cost, cpm_traj = bbox_Hessian_keyword_minimization(A[\"myseed\"], A[\"args\"], bbox, standard_func,\n",
    "        start_eta = 0.03, tol=1e-18, verbose=true, verbose_every=1, maxiter=4000)\n"
   ]
  },
  {
   "cell_type": "code",
   "execution_count": 49,
   "metadata": {
    "collapsed": false
   },
   "outputs": [
    {
     "data": {
      "text/plain": [
       "11×1 Array{Float64,2}:\n",
       "  0.01    \n",
       "  0.1     \n",
       "  1.89067 \n",
       "  2.88329 \n",
       "  1.02711 \n",
       " -1.38675 \n",
       "  1.64473 \n",
       "  2.47727 \n",
       "  2.86493 \n",
       "  0.393788\n",
       "  0.112603"
      ]
     },
     "execution_count": 49,
     "metadata": {},
     "output_type": "execute_result"
    }
   ],
   "source": [
    "traj"
   ]
  },
  {
   "cell_type": "code",
   "execution_count": null,
   "metadata": {
    "collapsed": true
   },
   "outputs": [],
   "source": []
  },
  {
   "cell_type": "code",
   "execution_count": null,
   "metadata": {
    "collapsed": false
   },
   "outputs": [],
   "source": [
    "\n",
    "fnames = readdir(\"FarmFields/\")\n",
    "for f in filter(x -> startswith(x, \"farm_G_1.mat\"), readdir(\"FarmFields/\"))\n",
    "\n",
    "    A = matread(\"FarmFields/\" * f)\n",
    "    model_params = symbol_key_ize(A[\"model_params\"])\n",
    "\n",
    "    rule_and_delay_periods = [0.4, 1.2]\n",
    "    post_target_periods    = [0.5, 1.5]\n",
    "\n",
    "    standard_func =  (;params...) -> JJ(model_params[:nPro], model_params[:nAnti]; \n",
    "    rule_and_delay_periods=rule_and_delay_periods, theta1=model_params[:theta1], theta2=model_params[:theta2], \n",
    "    post_target_periods=post_target_periods,  seedrand=A[\"sr\"], cbeta=0.01, verbose=true, \n",
    "    merge(model_params, Dict(params))...)[1]        \n",
    "\n",
    "    standard_func(;make_dict(A[\"args\"], A[\"pars\"])...)\n",
    "\n",
    "    @printf(\"File %s, niters was %d\\n\\n\", f, size(A[\"traj\"],2))\n",
    "end"
   ]
  },
  {
   "cell_type": "markdown",
   "metadata": {},
   "source": [
    "# Sandbox -- the in flux crazy wilds from here on\n",
    "\n",
    "various things in progress"
   ]
  },
  {
   "cell_type": "code",
   "execution_count": null,
   "metadata": {
    "collapsed": false
   },
   "outputs": [],
   "source": [
    "next_file(\"FarmFields/farm_E_\", 4)"
   ]
  },
  {
   "cell_type": "code",
   "execution_count": null,
   "metadata": {
    "collapsed": false
   },
   "outputs": [],
   "source": [
    "\"\"\"\n",
    "cost = standard_cost(args, pars, sr, model_params)\n",
    "\n",
    "Computes the cost as if cb had been 0.01 and theta1=0.15 and theta2=0.25\n",
    "\"\"\"\n",
    "function standard_cost(args, pars, sr, model_params)\n",
    "    cb = 0.01\n",
    "    theta1 = 0.15\n",
    "    theta2 = 0.25\n",
    "    nPro=100; nAnti=100\n",
    "\n",
    "    rule_and_delay_periods = [0.4, 1.2]\n",
    "    post_target_periods    = [0.5, 1.5]\n",
    "\n",
    "    func = (;params...) -> JJ(nPro, nAnti; rule_and_delay_periods=rule_and_delay_periods,\n",
    "            post_target_periods=post_target_periods,\n",
    "            theta1=theta1, theta2=theta2, \n",
    "            seedrand=sr, cbeta=cb, verbose=false, merge(model_params, Dict(params))...)\n",
    "    \n",
    "    return func(;make_dict(args, pars)...)\n",
    "end\n",
    "    \n",
    "\"\"\"\n",
    "cost = standard_cost(filename)\n",
    "\n",
    "Returns the standard cost (at cb=0.01, theta1=0.15, theta2=0.25) and inserts it into the file with \n",
    "key \"scost2\" if it wasn't there already\n",
    "\"\"\"\n",
    "function standard_cost(filename; verbose=false)\n",
    "    A = matread(filename)\n",
    "    if !haskey(A, \"scost2\")\n",
    "        get!(A, \"scost2\", standard_cost(A[\"args\"], A[\"pars\"], A[\"sr\"], symbol_key_ize(A[\"model_params\"])))\n",
    "        if verbose\n",
    "            @printf(\"File %s did not have scost, adding its value %g\\n\", filename, A[\"scost\"])\n",
    "        end\n",
    "        matwrite(filename, A)\n",
    "    end\n",
    "    return A[\"scost\"]\n",
    "end\n",
    "\n",
    "#####################################\n",
    "\n",
    "\n",
    "\"\"\"\n",
    "value, grad, hess = standard_vgh(args, pars, sr, model_params)\n",
    "\n",
    "Computes the value, gradient, and hessian as if cb had been 0.01 and theta1=0.15 and theta2=0.25\n",
    "\"\"\"\n",
    "function standard_vgh(args, pars, sr, model_params; theta1=0.025, theta2=0.035)\n",
    "    cb = 0.01\n",
    "    nPro=100; nAnti=100\n",
    "\n",
    "    rule_and_delay_periods = [0.4, 1.2]\n",
    "    post_target_periods    = [0.5, 1.5]\n",
    "\n",
    "    func = (;params...) -> JJ(nPro, nAnti; rule_and_delay_periods=rule_and_delay_periods,\n",
    "            post_target_periods=post_target_periods,\n",
    "            theta1=theta1, theta2=theta2, \n",
    "            seedrand=sr, cbeta=cb, verbose=false, merge(model_params, Dict(params))...)\n",
    "\n",
    "    value, grad, hess = keyword_vgh(func, args, pars)\n",
    "    \n",
    "    return value, grad, hess\n",
    "end\n",
    "\n",
    "func = (;params...) -> JJ(nPro, nAnti; rule_and_delay_periods=rule_and_delay_periods, verbose=true,\n",
    "            post_target_periods=post_target_periods,\n",
    "            theta1=theta1, theta2=theta2,\n",
    "            seedrand=sr, cbeta=cb, verbose=false, merge(my_params, Dict(params))...)[1]\n",
    "\n",
    "\n",
    "\"\"\"\n",
    "value, grad, hess = standard_vgh(filename)\n",
    "\n",
    "Returns the standard cost (at cb=0.01, theta1=0.15, theta2=0.25), gradient, and hessian\n",
    "and inserts them into the file with key \"scost2\", \"grad\" and \"hess\" if they weren't there already\n",
    "\"\"\"\n",
    "function standard_vgh(filename; verbose=false, force=false)\n",
    "    A = matread(filename)\n",
    "    if !haskey(A, \"theta1\"); get!(A, \"theta1\", 0.025); end\n",
    "    if !haskey(A, \"theta2\"); get!(A, \"theta2\", 0.035); end\n",
    "    if !haskey(A, \"rule_and_delay_periods\"); get!(A, \"rule_and_delay_periods\", [0.4, 1.2]); end;\n",
    "    if !haskey(A, \"post_target_periods\");    get!(A, \"post_target_periods\",    [0.5, 1.5]); end;\n",
    "      \n",
    "    if force || !haskey(A, \"value\") || !haskey(A, \"grad\")  || !haskey(A, \"hess\")\n",
    "        value, grad, hess = standard_vgh(A[\"args\"], A[\"pars\"], A[\"sr\"], \n",
    "        symbol_key_ize(A[\"model_params\"]); theta1=A[\"theta1\"], theta2=A[\"theta2\"]) \n",
    "        if !haskey(A, \"value\"); get!(A, \"value\", value); else A[\"value\"] = value; end;\n",
    "        if !haskey(A, \"grad\"); get!(A, \"grad\", grad); else A[\"grad\"] = grad; end;\n",
    "        if !haskey(A, \"hess\"); get!(A, \"hess\", hess); else A[\"hess\"] = hess; end;\n",
    "        if verbose\n",
    "            @printf(\"File %s did not have value or grad or hess, adding its value %g\\n\", filename, A[\"value\"])\n",
    "        end\n",
    "        matwrite(filename, A)\n",
    "    end\n",
    "    return A[\"value\"], A[\"grad\"], A[\"hess\"]\n",
    "end\n",
    "\n"
   ]
  },
  {
   "cell_type": "code",
   "execution_count": null,
   "metadata": {
    "collapsed": false
   },
   "outputs": [],
   "source": []
  },
  {
   "cell_type": "code",
   "execution_count": null,
   "metadata": {
    "collapsed": false
   },
   "outputs": [],
   "source": [
    "# A = matread(\"FarmFields/farm_E_0001\")\n",
    "# value, grad, hess = standard_vgh(A[\"args\"], A[\"pars\"], A[\"sr\"], symbol_key_ize(A[\"model_params\"]))\n",
    "standard_vgh(\"FarmFields/farm_A_0001\"; verbose=true, force=true)\n",
    "A = matread(\"FarmFields/farm_A_0001\")\n"
   ]
  },
  {
   "cell_type": "code",
   "execution_count": null,
   "metadata": {
    "collapsed": false
   },
   "outputs": [],
   "source": [
    "eval(Symbol(\"hess\"))"
   ]
  },
  {
   "cell_type": "code",
   "execution_count": null,
   "metadata": {
    "collapsed": false
   },
   "outputs": [],
   "source": [
    "standard_vgh(\"FarmFields/farm_A_0001\", verbose=true)\n",
    "A = matread(\"FarmFields/farm_A_0001\")\n",
    "A"
   ]
  },
  {
   "cell_type": "code",
   "execution_count": null,
   "metadata": {
    "collapsed": false
   },
   "outputs": [],
   "source": []
  },
  {
   "cell_type": "code",
   "execution_count": null,
   "metadata": {
    "collapsed": false
   },
   "outputs": [],
   "source": [
    "A = matread(\"farm_A_0001\")\n",
    "@printf(\"At cb=0.002, cost was %g. At cb=0.01, cost was %g\\n\", A[\"cost\"], standard_cost(\"farm_A_0001\"))\n"
   ]
  },
  {
   "cell_type": "markdown",
   "metadata": {},
   "source": [
    "### Run the next three cells, in sequence, to see results of an individual farm animal and to see computation of gradient and hessian of the result"
   ]
  },
  {
   "cell_type": "code",
   "execution_count": 11,
   "metadata": {
    "collapsed": false
   },
   "outputs": [
    {
     "name": "stdout",
     "output_type": "stream",
     "text": [
      "Cost went from 0.1 to 0.1 (at standard beta=0.01, cost ended at 0.1); max iters on cpm was 14\n",
      "\n"
     ]
    },
    {
     "data": {
      "text/plain": [
       "Dict{String,Any} with 23 entries:\n",
       "  \"traj\"                   => [0.01; 0.1; … ; -1.06468; 0.159138]\n",
       "  \"scost\"                  => 0.1\n",
       "  \"cpm_traj\"               => [14.0; -4.73147e-22]\n",
       "  \"post_target_periods\"    => [0.5,1.5]\n",
       "  \"scost1\"                 => 0.1\n",
       "  \"grad\"                   => [-6.10773e-14; -4.80262e-15; … ; -1.01875e-10; -1…\n",
       "  \"rule_and_delay_periods\" => [0.4,1.2]\n",
       "  \"model_params\"           => Dict{String,Any}(Pair{String,Any}(\"const_pro_bias…\n",
       "  \"scost2\"                 => -1.37453e-22\n",
       "  \"sr\"                     => 1505775643\n",
       "  \"args\"                   => Any[\"sW\",\"vW\",\"hW\",\"dW\",\"constant_excitation\",\"ri…\n",
       "  \"value\"                  => 0.1\n",
       "  \"nAnti\"                  => 100\n",
       "  \"theta2\"                 => 0.25\n",
       "  \"nPro\"                   => 100\n",
       "  \"theta1\"                 => 0.15\n",
       "  \"bbox\"                   => Dict{String,Any}(Pair{String,Any}(\"sigma\",[0.01 0…\n",
       "  \"cost\"                   => 0.1\n",
       "  \"myseed\"                 => [1.44209; 2.52901; … ; -1.06468; 0.159138]\n",
       "  \"hess\"                   => [-1.87793e-15 1.25961e-16 … -4.6767e-13 -1.74503e…\n",
       "  \"pars\"                   => [1.44209; 2.52901; … ; -1.06468; 0.159138]\n",
       "  \"cb\"                     => 0.02\n",
       "  \"sbox\"                   => Dict{String,Any}(Pair{String,Any}(\"sigma\",[0.02 0…"
      ]
     },
     "execution_count": 11,
     "metadata": {},
     "output_type": "execute_result"
    }
   ],
   "source": [
    "A = matread(\"FarmFields/farm_G_1.mat0001\")\n",
    "model_params = symbol_key_ize(A[\"model_params\"])\n",
    "args         = A[\"args\"];\n",
    "nAnti        = A[\"nAnti\"]\n",
    "nPro         = A[\"nPro\"]\n",
    "pars         = A[\"pars\"]\n",
    "sr           = A[\"sr\"]\n",
    "traj         = A[\"traj\"]\n",
    "cpm_traj     = A[\"cpm_traj\"]\n",
    "cb           = A[\"cb\"]\n",
    "theta1       = A[\"theta1\"]\n",
    "theta2       = A[\"theta2\"]\n",
    "rule_and_delay_periods = A[\"rule_and_delay_periods\"]\n",
    "post_target_periods    = A[\"post_target_periods\"]\n",
    "\n",
    "\n",
    "@printf(\"Cost went from %g to %g (at standard beta=0.01, cost ended at %g); max iters on cpm was %d\\n\\n\", \n",
    "traj[2,1], traj[2,end], A[\"scost\"], maximum(cpm_traj[1,:]))\n",
    "\n",
    "A"
   ]
  },
  {
   "cell_type": "code",
   "execution_count": 12,
   "metadata": {
    "collapsed": false
   },
   "outputs": [
    {
     "data": {
      "text/plain": [
       "(11,1)"
      ]
     },
     "execution_count": 12,
     "metadata": {},
     "output_type": "execute_result"
    }
   ],
   "source": []
  },
  {
   "cell_type": "code",
   "execution_count": null,
   "metadata": {
    "collapsed": false
   },
   "outputs": [],
   "source": [
    "good_seed = [0.0840597,  -1.32677,  -0.437334,  -0.324835,  0.567997, 0.712216,  0.0500075,  0.0858569,  0.25]\n",
    "\n",
    "[args pars good_seed]"
   ]
  },
  {
   "cell_type": "code",
   "execution_count": null,
   "metadata": {
    "collapsed": false
   },
   "outputs": [],
   "source": [
    "# --------------------\n",
    "# NOW EVALUATE RESULTS HERE\n",
    "# --------------------\n",
    "\n",
    "my_params = make_dict([args; \"plot_list\"; \"post_target_period\"; \"rule_and_delay_period\"; \"dt\"], \n",
    "[pars; [[1:10;]]; 0.2; 0.4; 0.02], model_params)\n",
    "\n",
    "run_factor = 2\n",
    "\n",
    "proVs, antiVs = @time(run_ntrials(nPro*run_factor, nAnti*run_factor; plot_list=[], my_params...))\n",
    "\n",
    "if nPro>0;  @printf(\"Pro %% correct = %g%%\\n\", 100*length(find(proVs[1,:].>proVs[4,:]))/(nPro*run_factor)); end;\n",
    "if nAnti>0; @printf(\"Anti %% correct = %g%% \\n\", 100*length(find(antiVs[1,:].<antiVs[4,:]))/(nAnti*run_factor)); end;\n",
    "\n",
    "\n",
    "figure(3); clf();\n",
    "ax1 = subplot(2,1,1)\n",
    "h = plt[:hist](proVs[1,:]-proVs[4,:],-1:0.02:1)\n",
    "title(\"PRO Vr - Vl\")\n",
    "remove_xtick_labels(ax1)\n",
    "vlines(0, ylim()[1], ylim()[2])\n",
    "\n",
    "ax2 = subplot(2,1,2)\n",
    "h = plt[:hist](antiVs[1,:]-antiVs[4,:],-1:0.02:1)\n",
    "title(\"ANTI Vr - Vl\")\n",
    "vlines(0, ylim()[1], ylim()[2])\n",
    "\n",
    "figure(1); clf(); figure(2); clf();\n",
    "\n",
    "JJ(nPro, nAnti; verbose=true, seedrand=sr, rule_and_delay_periods=my_params[:rule_and_delay_period], \n",
    "post_target_periods=my_params[:post_target_period], my_params...)\n",
    "\n",
    "\n",
    "# A function that takes only keyword-value pairs and returns a scalar. Its default parameter values are the result\n",
    "# of the farm (as put into my_params, which hold the farm's output)\n",
    "func = (;params...) -> JJ(nPro, nAnti; rule_and_delay_periods=rule_and_delay_periods, verbose=true,\n",
    "            post_target_periods=post_target_periods,\n",
    "            theta1=theta1, theta2=theta2,\n",
    "            seedrand=sr, cbeta=cb, verbose=false, merge(my_params, Dict(params))...)[1]\n",
    "\n",
    "# keyword_vgh takes that kind of function\n",
    "cost, grad, hess = keyword_vgh(func, args, pars)\n",
    "\n"
   ]
  },
  {
   "cell_type": "code",
   "execution_count": null,
   "metadata": {
    "collapsed": false
   },
   "outputs": [],
   "source": [
    "traj[:,end]"
   ]
  },
  {
   "cell_type": "markdown",
   "metadata": {},
   "source": [
    "### Evaluating the results across many farm animals"
   ]
  },
  {
   "cell_type": "code",
   "execution_count": 14,
   "metadata": {
    "collapsed": false
   },
   "outputs": [
    {
     "data": {
      "text/plain": [
       "2-element Array{Float64,1}:\n",
       " 0.02\n",
       " 0.04"
      ]
     },
     "execution_count": 14,
     "metadata": {},
     "output_type": "execute_result"
    }
   ],
   "source": [
    "basename = \"farm_G_1.mat\"\n",
    "fnames = readdir(\"FarmFields\")\n",
    "matched_filenames = Array{Bool}(length(fnames))\n",
    "for i=1:length(fnames)\n",
    "    matched_filenames[i] = ismatch(Regex(@sprintf(\"^%s\", basename)), fnames[i])\n",
    "end\n",
    "myguys = fnames[find(matched_filenames)]\n",
    "costs  = zeros(size(myguys))\n",
    "cbs    = zeros(size(myguys))\n",
    "nsteps = zeros(size(myguys)) \n",
    "for i=1:length(myguys)\n",
    "    A = matread(\"FarmFields/\" * myguys[i])\n",
    "    costs[i]  = A[\"cost\"] # standard_cost(myguys[i]; verbose=true)\n",
    "    cbs[i]    = A[\"cb\"]\n",
    "    nsteps[i] = size(A[\"traj\"],2)\n",
    "end\n",
    "\n",
    "\n",
    "cbset = unique(cbs)\n",
    "\n",
    "figure(3); clf();\n",
    "for i=1:length(cbset)    \n",
    "    ax1 = subplot(length(cbset),1,i)\n",
    "    h1 = plt[:hist](costs[find(cbs.==cbset[i])]) # , -0.02:0.001:0.008);\n",
    "    ylabel(\"# of runs\")\n",
    "    title(@sprintf(\"cb=%g  (%d total)\", cbset[i], length(find(cbs.==cbset[i]))))\n",
    "    if i < length(cbset)\n",
    "        remove_xtick_labels(ax1)\n",
    "    end\n",
    "    if i==length(cbset)\n",
    "        xlabel(\"final cost\")\n",
    "    end\n",
    "end\n",
    "        \n",
    "unique(cbs)"
   ]
  },
  {
   "cell_type": "code",
   "execution_count": 18,
   "metadata": {
    "collapsed": false
   },
   "outputs": [],
   "source": [
    "figure(3); clf()\n",
    "plt[:hist](nsteps, 0:2:400);"
   ]
  },
  {
   "cell_type": "code",
   "execution_count": 6,
   "metadata": {
    "collapsed": false
   },
   "outputs": [
    {
     "data": {
      "text/plain": [
       "Dict{String,Any} with 23 entries:\n",
       "  \"traj\"                   => [0.01; 0.1; … ; -1.06468; 0.159138]\n",
       "  \"scost\"                  => 0.1\n",
       "  \"cpm_traj\"               => [14.0; -4.73147e-22]\n",
       "  \"post_target_periods\"    => [0.5,1.5]\n",
       "  \"scost1\"                 => 0.1\n",
       "  \"grad\"                   => [-6.10773e-14; -4.80262e-15; … ; -1.01875e-10; -1…\n",
       "  \"rule_and_delay_periods\" => [0.4,1.2]\n",
       "  \"model_params\"           => Dict{String,Any}(Pair{String,Any}(\"const_pro_bias…\n",
       "  \"scost2\"                 => -1.37453e-22\n",
       "  \"sr\"                     => 1505775643\n",
       "  \"args\"                   => Any[\"sW\",\"vW\",\"hW\",\"dW\",\"constant_excitation\",\"ri…\n",
       "  \"value\"                  => 0.1\n",
       "  \"nAnti\"                  => 100\n",
       "  \"theta2\"                 => 0.25\n",
       "  \"nPro\"                   => 100\n",
       "  \"theta1\"                 => 0.15\n",
       "  \"bbox\"                   => Dict{String,Any}(Pair{String,Any}(\"sigma\",[0.01 0…\n",
       "  \"cost\"                   => 0.1\n",
       "  \"myseed\"                 => [1.44209; 2.52901; … ; -1.06468; 0.159138]\n",
       "  \"hess\"                   => [-1.87793e-15 1.25961e-16 … -4.6767e-13 -1.74503e…\n",
       "  \"pars\"                   => [1.44209; 2.52901; … ; -1.06468; 0.159138]\n",
       "  \"cb\"                     => 0.02\n",
       "  \"sbox\"                   => Dict{String,Any}(Pair{String,Any}(\"sigma\",[0.02 0…"
      ]
     },
     "execution_count": 6,
     "metadata": {},
     "output_type": "execute_result"
    }
   ],
   "source": [
    "A = matread(\"FarmFields/farm_G_1.mat0001\")"
   ]
  },
  {
   "cell_type": "markdown",
   "metadata": {},
   "source": [
    "# Example of 9-param, including diagonal weight and sigma, and robust across 3x in rule/delay period and post-target period"
   ]
  },
  {
   "cell_type": "code",
   "execution_count": null,
   "metadata": {
    "collapsed": false
   },
   "outputs": [],
   "source": []
  },
  {
   "cell_type": "code",
   "execution_count": null,
   "metadata": {
    "collapsed": false
   },
   "outputs": [],
   "source": [
    "args = [\"sW\", \"vW\", \"hW\", \"constant_excitation\", \"right_light_excitation\", \"target_period_excitation\", \"sigma\"]\n",
    "seed = [0.2,   -1.7, -1.7,      0.19,                0.5,                       1,                       0.1]\n",
    "seed = [0.2,   0.17,  0.17,      0.19,                0.5,                       1,                       0.1]\n",
    "seed = [0.2,   -1.7, -1.7,      -0.19,                0.5,                       1,                       0.1]\n",
    "seed = [0.2,   -1.7, -1.7,      0.39,                0.15,                       0.1,                     0.1]\n",
    "bbox = Dict(:sW=>[0 3], :vW=>[-3 3], :hW=>[-3 3], :constant_excitation=>[-2 2],\n",
    ":right_light_excitation=>[0.05 4], :target_period_excitation=>[0.05 4], :sigma=>[0.05 1])\n",
    "model_params = merge(model_params, Dict(:post_target_period=>0.5))\n",
    "\n",
    "\n",
    "# Now with constant_pro_bias and a fixed sigma=0.1\n",
    "args = [\"sW\", \"vW\", \"hW\", \"dW\", \"constant_excitation\", \"right_light_excitation\", \"target_period_excitation\"]\n",
    "seed = [0.2,   -1.7, -1.7,  0,    0.39,                0.15,                       0.1]\n",
    "args = [args ; [\"const_pro_bias\", \"sigma\"]]\n",
    "seed = [seed ; [0.1,               0.1]]\n",
    "model_params = merge(model_params, Dict(:post_target_period=>0.5))\n",
    "bbox = Dict(:sW=>[0 3], :vW=>[-3 3], :hW=>[-3 3], :dW=>[-3 3], :constant_excitation=>[-2 2],\n",
    ":right_light_excitation=>[0.05 4], :target_period_excitation=>[0.05 4], :const_pro_bias=>[-2 2],\n",
    ":sigma=>[0.01 0.25])\n",
    "\n",
    "# seed = [0.0840597,  -1.32677,  -0.437334,  -0.324835,  0.567997, 0.712216,  0.0500075,  0.0858569,  0.25]\n",
    "\n",
    "# ==========\n",
    "\n",
    "nPro=100; nAnti=100\n",
    "\n",
    "rule_and_delay_periods = [0.4, 1.2]\n",
    "post_target_periods    = [0.5, 1.5]\n",
    "\n",
    "pars, traj, cost, cpm_traj = bbox_Hessian_keyword_minimization(seed, args, bbox, \n",
    "(;params...) -> JJ(nPro, nAnti; rule_and_delay_periods=rule_and_delay_periods,\n",
    "post_target_periods=post_target_periods,\n",
    "seedrand=31, cbeta=0.01, verbose=true, merge(model_params, Dict(params))...),\n",
    "start_eta = 0.01, tol=1e-9, verbose=true)\n",
    "\n",
    "pars'"
   ]
  },
  {
   "cell_type": "code",
   "execution_count": null,
   "metadata": {
    "collapsed": false,
    "scrolled": true
   },
   "outputs": [],
   "source": [
    "[args pars]"
   ]
  },
  {
   "cell_type": "code",
   "execution_count": null,
   "metadata": {
    "collapsed": false
   },
   "outputs": [],
   "source": [
    "# --------------------\n",
    "# NOW EVALUATE RESULTS HERE\n",
    "# --------------------\n",
    "\n",
    "my_params = make_dict([args; \"plot_list\"; \"post_target_period\"; \"rule_and_delay_period\"; \"dt\"], \n",
    "[pars; [[1:10;]]; 1.5; 1; 0.01], model_params)\n",
    "\n",
    "run_factor = 10\n",
    "\n",
    "proVs, antiVs = @time(run_ntrials(nPro*run_factor, nAnti*run_factor; plot_list=[], my_params...))\n",
    "\n",
    "if nPro>0;  @printf(\"Pro %% correct = %g%%\\n\", 100*length(find(proVs[1,:].>proVs[4,:]))/(nPro*run_factor)); end;\n",
    "if nAnti>0; @printf(\"Anti %% correct = %g%% \\n\", 100*length(find(antiVs[1,:].<antiVs[4,:]))/(nAnti*run_factor)); end;\n",
    "\n",
    "\n",
    "figure(3); clf();\n",
    "ax1 = subplot(2,1,1)\n",
    "h = plt[:hist](proVs[1,:]-proVs[4,:],-1:0.02:1)\n",
    "title(\"PRO Vr - Vl\")\n",
    "remove_xtick_labels(ax1)\n",
    "vlines(0, ylim()[1], ylim()[2])\n",
    "\n",
    "ax2 = subplot(2,1,2)\n",
    "h = plt[:hist](antiVs[1,:]-antiVs[4,:],-1:0.02:1)\n",
    "title(\"ANTI Vr - Vl\")\n",
    "vlines(0, ylim()[1], ylim()[2])\n",
    "\n",
    "figure(1); clf(); figure(2); clf();\n",
    "\n",
    "JJ(nPro, nAnti; rule_and_delay_periods=my_params[:rule_and_delay_period], \n",
    "post_target_periods=my_params[:post_target_period], my_params...)\n"
   ]
  },
  {
   "cell_type": "markdown",
   "metadata": {},
   "source": [
    "# Example of a ProAnti network optimization\n",
    "\n",
    "This one uses two rule periods and two post_target_periods to try to get some stability in the trained network."
   ]
  },
  {
   "cell_type": "code",
   "execution_count": null,
   "metadata": {
    "collapsed": false
   },
   "outputs": [],
   "source": [
    "args = [\"sW\", \"vW\", \"hW\", \"constant_excitation\", \"right_light_excitation\", \"target_period_excitation\", \"sigma\"]\n",
    "seed = [0.2,   -1.7, -1.7,      0.19,                0.5,                       1,                       0.1]\n",
    "seed = [0.2,   0.17,  0.17,      0.19,                0.5,                       1,                       0.1]\n",
    "seed = [0.2,   -1.7, -1.7,      -0.19,                0.5,                       1,                       0.1]\n",
    "seed = [0.2,   -1.7, -1.7,      0.39,                0.15,                       0.1,                       0.1]\n",
    "bbox = Dict(:sW=>[0 3], :vW=>[-3 3], :hW=>[-3 3], :constant_excitation=>[-2 2],\n",
    ":right_light_excitation=>[0.05 4], :target_period_excitation=>[0.05 4], :sigma=>[0.05 1])\n",
    "model_params = merge(model_params, Dict(:post_target_period=>0.5))\n",
    "\n",
    "\n",
    "# Now with constant_pro_bias and a fixed sigma=0.1\n",
    "args = [\"sW\", \"vW\", \"hW\", \"constant_excitation\", \"right_light_excitation\", \"target_period_excitation\", \"const_pro_bias\"]\n",
    "seed = [0.2,   -1.7, -1.7,      0.39,                0.15,                       0.1,                       0.1]\n",
    "model_params = merge(model_params, Dict(:post_target_period=>0.5, :sigma=>0.1))\n",
    "bbox = Dict(:sW=>[0 3], :vW=>[-3 3], :hW=>[-3 3], :constant_excitation=>[-2 2],\n",
    ":right_light_excitation=>[0.05 4], :target_period_excitation=>[0.05 4], :const_pro_bias=>[-2 2])\n",
    "\n",
    "# ==========\n",
    "\n",
    "nPro=100; nAnti=100\n",
    "\n",
    "rule_and_delay_periods = [0.4, 0.8]\n",
    "post_target_periods    = [0.5, 1]\n",
    "\n",
    "pars, traj, cost, cpm_traj = bbox_Hessian_keyword_minimization(seed, args, bbox, \n",
    "(;params...) -> JJ(nPro, nAnti; rule_and_delay_periods=rule_and_delay_periods,\n",
    "post_target_periods=post_target_periods,\n",
    "seedrand=31, cbeta=0.01, verbose=true, merge(model_params, Dict(params))...),\n",
    "start_eta = 0.01, tol=1e-12, verbose=true, maxiter=2)\n",
    "\n",
    "pars'"
   ]
  },
  {
   "cell_type": "code",
   "execution_count": null,
   "metadata": {
    "collapsed": false,
    "scrolled": true
   },
   "outputs": [],
   "source": [
    "cost"
   ]
  },
  {
   "cell_type": "code",
   "execution_count": null,
   "metadata": {
    "collapsed": false
   },
   "outputs": [],
   "source": [
    "# --------------------\n",
    "# NOW EVALUATE RESULTS HERE\n",
    "# --------------------\n",
    "\n",
    "my_params = make_dict([args; \"plot_list\"; \"post_target_period\"; \"rule_and_delay_period\"; \"dt\"], \n",
    "[pars; [[1:10;]]; 1.5; 0.5; 0.02], model_params)\n",
    "\n",
    "run_factor = 10\n",
    "\n",
    "proVs, antiVs = @time(run_ntrials(nPro*run_factor, nAnti*run_factor; plot_list=[], my_params...))\n",
    "\n",
    "if nPro>0;  @printf(\"Pro %% correct = %g%%\\n\", 100*length(find(proVs[1,:].>proVs[4,:]))/(nPro*run_factor)); end;\n",
    "if nAnti>0; @printf(\"Anti %% correct = %g%% \\n\", 100*length(find(antiVs[1,:].<antiVs[4,:]))/(nAnti*run_factor)); end;\n",
    "\n",
    "\n",
    "figure(3); clf();\n",
    "ax1 = subplot(2,1,1)\n",
    "h = plt[:hist](proVs[1,:]-proVs[4,:],-1:0.02:1)\n",
    "title(\"PRO Vr - Vl\")\n",
    "remove_xtick_labels(ax1)\n",
    "vlines(0, ylim()[1], ylim()[2])\n",
    "\n",
    "ax2 = subplot(2,1,2)\n",
    "h = plt[:hist](antiVs[1,:]-antiVs[4,:],-1:0.02:1)\n",
    "title(\"ANTI Vr - Vl\")\n",
    "vlines(0, ylim()[1], ylim()[2])\n",
    "\n",
    "figure(1); clf(); figure(2); clf();\n",
    "\n",
    "JJ(nPro, nAnti; rule_and_delay_periods=my_params[:rule_and_delay_period], \n",
    "post_target_periods=my_params[:post_target_period], my_params...)\n"
   ]
  },
  {
   "cell_type": "code",
   "execution_count": null,
   "metadata": {
    "collapsed": false
   },
   "outputs": [],
   "source": []
  },
  {
   "cell_type": "code",
   "execution_count": null,
   "metadata": {
    "collapsed": true
   },
   "outputs": [],
   "source": []
  },
  {
   "cell_type": "code",
   "execution_count": null,
   "metadata": {
    "collapsed": false
   },
   "outputs": [],
   "source": [
    "######################################################\n",
    "#                                                    #\n",
    "#         BBOX_HESSIAN_KEYWORD_MINIMIZATION          #\n",
    "#                                                    #\n",
    "######################################################\n",
    "\n",
    "\n",
    "\n",
    "\n",
    "\"\"\"\n",
    "pdict = wallwrap(bdict, pdict)\n",
    "Given bdict, a dictionary of symbols to [minval, maxval] vectors, and pdict, a dictionary of symbols\n",
    "to values (or, alternatively, an Array of (Symbol, value) tuples], goes through each of the symbols in \n",
    "bdict and modifies the corresponding value in pdict putting it through a tanh so the final output lies \n",
    "within the limits in bdict.  Returns the new pdict.  Makes a copy of pdict so as not to modify the original.\n",
    "\"\"\"\n",
    "function wallwrap(bdict, epdict)\n",
    "    local pdict = two_level_copy(epdict)\n",
    "    if typeof(pdict)<:Array\n",
    "        pdict = Dict(pdict)\n",
    "    end\n",
    "\n",
    "    allkeys = keys(bdict)\n",
    "\n",
    "    for k in allkeys\n",
    "        local bbox = bdict[k]\n",
    "        d = 0.5*(bbox[2] - bbox[1])\n",
    "        m = 0.5*(bbox[2] + bbox[1])\n",
    "\n",
    "        pdict[k] = bbox[1] + d*(tanh((pdict[k]-m)/d)+1)\n",
    "    end\n",
    "    return pdict\n",
    "end\n",
    "\n",
    "    \n",
    "\"\"\"\n",
    "params = vector_wrap(bbox, args, eparams)\n",
    "Given bdict, a dictionary of symbols to [minval, maxval] vectors, args, an array of strings representing\n",
    "symbols, and params, an array of values corresponding to the args list, puts each param that has an entry \n",
    "in bdict through the tanh-walling mechanism, and returns the result. Does not modify the contents of the \n",
    "original params vector (or bdict or args).\n",
    "\"\"\"\n",
    "function vector_wrap(bbox, args, eparams)\n",
    "    local params = two_level_copy(eparams)\n",
    "    pdict = wallwrap(bbox, make_dict(args, params))\n",
    "    i=1; j=1\n",
    "    for i=1:length(args)\n",
    "        if typeof(args[i])<:Array\n",
    "            params[j:j+args[i][2]-1] = pdict[Symbol(args[i][1])]\n",
    "            j += args[i][2]-1\n",
    "        else\n",
    "            params[j] = pdict[Symbol(args[i])]\n",
    "        end\n",
    "    j = j+1\n",
    "    end\n",
    "    return params\n",
    "end\n",
    "\n",
    "\n",
    "\"\"\"\n",
    "params = inverse_wall(bdict, args, wparams)\n",
    "Given bdict, a dictionary of symbols to [minval, maxval] vectors, args, an array of strings representing\n",
    "symbols, and wparams, an array of values corresponding to the args list where each param that has an entry \n",
    "in bdict has alreadt been through the tanh-walling mechanism, UNwalls the ones that have a bdict entry and\n",
    "returns the result. Does not modify the contents of the original params vector (or bdict or args).\n",
    "\"\"\"\n",
    "function inverse_wall(bdict, args, wparams)\n",
    "    local params = two_level_copy(wparams)\n",
    "    pdict = inverse_wall(bdict, make_dict(args, params))\n",
    "    i=1; j=1\n",
    "    for i=1:length(args)\n",
    "        if typeof(args[i])<:Array\n",
    "            params[j:j+args[i][2]-1] = pdict[Symbol(args[i][1])]\n",
    "            j += args[i][2]-1\n",
    "        else\n",
    "            params[j] = pdict[Symbol(args[i])]\n",
    "        end\n",
    "        j = j+1\n",
    "    end\n",
    "    return params    \n",
    "end\n",
    "\n",
    "    \n",
    "\"\"\"\n",
    "pdict = inverse_wall(bdict, wdict)\n",
    "Given bdict, a dictionary of symbols to [minval, maxval] vectors, and wdict, a dictionary of symbols to values\n",
    "(or vectors of values)  UNwalls the ones that have a bdict entry and\n",
    "returns the result. Does not modify the contents of any dictionaries.\n",
    "\"\"\"\n",
    "function inverse_wall(bdict, wdict)\n",
    "    local pdict = two_level_copy(wdict)\n",
    "\n",
    "    allkeys = keys(bdict)\n",
    "    for k in allkeys\n",
    "        local bbox = bdict[k]\n",
    "        d = 0.5*(bbox[2] - bbox[1])\n",
    "        m = 0.5*(bbox[2] + bbox[1])\n",
    "\n",
    "        try\n",
    "            pdict[k] = m + d*0.5*log((pdict[k]-bbox[1])./(2*d - pdict[k] + bbox[1]))\n",
    "        catch\n",
    "            error(@sprintf(\"Had trouble with key %s\", string(k)))\n",
    "        end\n",
    "    end\n",
    "    return(pdict)\n",
    "end\n",
    "  \n",
    "\n",
    "\n",
    "\"\"\"\n",
    "function bbox_Hessian_keyword_minimization(seed, args, bbox, func; wallwidth=NaN, start_eta=10, tol=1e-6, \n",
    "    maxiter=400, verbose=false)\n",
    "\n",
    "Like constrained_Hessian_minimization, but uses keyword_hessian!(). \n",
    "\n",
    "# PARAMETERS:\n",
    "\n",
    "- seed        column vector, representing the starting value of the parameters.\n",
    "\n",
    "- args        List of strings identifying parameters for differentiation, e.g., [\"const_E\", \"w_self]\n",
    "\n",
    "- bbox        If softbox=true (the default), should then be a Dict of Symbol=>[minval maxval] entries. An entry\n",
    "            in this Dict indicates that the corresponding parameter is to be bounded, as indicated by the associated \n",
    "            [minval maxval] vector. The bbox dictionary can have fewer entries than the number of parameters, and its\n",
    "            default value is Dict(), indicating an unbounded search.\n",
    "                If softbox=false, then bbox should be an nargs-by-2 matrix indicating the range for each argument,\n",
    "            with the minima (first column) and maxima (second column), and entries for ALL parameters.\n",
    "\n",
    "- func        func must take only optional keyword args, and must \n",
    "            take nderivs=0, difforder=0  and declare any new matrices using ForwardDiffZeros() instead of zeros()\n",
    "\n",
    "\n",
    "# OPTIONAL PARAMETERS:\n",
    "\n",
    "- start_eta    Starting value of the radius.  It's good to start with somethibg biggish, if it is\n",
    "             too much, it'll quickly get cut down.\n",
    "\n",
    "- tol=1e-6     Numerical tolerance. If a proposed jump produces a change in func that is less than\n",
    "             this, the minimization stops.\n",
    "\n",
    "- maxiter=400  Maximum number of iterations to do before stopping\n",
    "\n",
    "- verbose=false   If true, print out a report on each iteration of iteration number, radius size (eta),\n",
    "                what type jump was proposed (\"Newton\" means going straight to global min, \"constrained\" means jump has \n",
    "                norm eta, failed means that finding the minimum at a given radius somehow didn't work). Will also\n",
    "                print out the cosine of the angle between the proposed jump and the gradient.\n",
    "\n",
    "- verbose_level   If less than 2, regular verbose output, if 2 or greater, very verbose, for debugging.\n",
    "\n",
    "- softbox         If true, then bbox must be a Dict() and we use the tanh() mechanism for putting a fixed limit\n",
    "                on the parameters.\n",
    "\n",
    "- hardbox=false   If true, ignores wallwidth, and just rests parameter values to the bounding box if they go outside it.\n",
    "                If false, adds cost function \"walls\" to implement the bounding box.\n",
    "\n",
    "- walldith=NaN     Used for putting up cost function \"walls\" that implement the bounding box limits. Can be NaN.\n",
    "                If it is NaN, then the wallwidth is a constant factor of the range width for each argument. If not NaN, must\n",
    "                be an nargs-long vector that indicates the actual wall widths.\n",
    "\n",
    "- wallwidth_factor=0.18   Only relevant if wallwidth is NaN, otherwise ignored. For each arg, the wall width\n",
    "                is going to be wall_width_factor*(bbox[i,2] - bbox[i,1])\n",
    "\n",
    "\n",
    "# RETURNS:\n",
    "\n",
    "- params       A vector the size of seed that has the last values of the minimizing parameters for func\n",
    "- trajectory   A (2+length(params))-by-nsteps matrix. Each column corresponds to an iteration step, and contains\n",
    "                 the value of eta used, the cost, and the value of the parameters at that iteration\n",
    "- cost         Final value of objective function\n",
    "- cpm_traj     A 2-by-nsteps matrix, containing reports from the contrained parabolic minimization at each timestep.\n",
    "             The first row is niters (how many iterations cpm's 1-d minimization ran for) and the second row is\n",
    "             Dlambda, the last change in the parameter being minimized in cpm's internal search\n",
    "\n",
    "\n",
    "# EXAMPLE:\n",
    "\n",
    "```\n",
    "function tester(;x=5, y=10, z=20, nderivs=0, difforder=0)\n",
    "    return x^2*y + z/tanh(y)\n",
    "end\n",
    "\n",
    "params, trajectory = bbox_Hessian_keyword_minimization([0.5, 0.5], [\"x\", \"y\"], [1.1 2 ; 1.1 4], tester, \n",
    "    verbose=true, tol=1e-12, start_eta=1);\n",
    "```\n",
    "\n",
    "\n",
    "\"\"\"\n",
    "function bbox_Hessian_keyword_minimization(seed, args, bbox, func; start_eta=0.1, tol=1e-6, maxiter=400,\n",
    "    verbose=false, verbose_level=1, verbose_every=1, \n",
    "    softbox=true, hardbox=false, wallwidth=NaN, wallwidth_factor=0.18)\n",
    "\n",
    "      \n",
    "    \"\"\"\n",
    "    Given args, a list of string representing the arguments of interest, a bounding box for each,\n",
    "    and a Symbol=>value dictionary with the corresponding parameters, computes and returns a high cost for \n",
    "    being outside the bounding box\n",
    "    \"\"\"\n",
    "    function wall_cost(args, bbox; wallwidth=NaN, nderivs=0, difforder=0, pars...) \n",
    "        myparams = ForwardDiffZeros(length(pars), 1, nderivs=nderivs, difforder=difforder)\n",
    "        pars2 = Dict()\n",
    "        for i in [1:length(pars);]\n",
    "            pars2[string(pars[i][1])] = pars[i][2]\n",
    "        end\n",
    "        for i in [1:length(args);]\n",
    "            myparams[i] = pars2[args[i]]\n",
    "        end\n",
    "        \n",
    "        if isnan(wallwidth)\n",
    "            # We know that we're going to be taking hessian for params, so declare zeros accordingly:\n",
    "            wallwidth = ForwardDiffZeros(length(myparams), 1, nderivs=nderivs, difforder=difforder)\n",
    "\n",
    "            for i in [1:length(myparams);]\n",
    "                wallwidth[i] = wallwidth_factor*(bbox[i,2]-bbox[i,1])\n",
    "            end\n",
    "        end\n",
    "\n",
    "        retval = 0\n",
    "        for i in [1:length(myparams);]\n",
    "            if myparams[i]<bbox[i,1]\n",
    "                retval += cosh((bbox[i,1]-myparams[i])/wallwidth[i])-1.0\n",
    "            elseif bbox[i,2] < myparams[i]\n",
    "                retval += cosh((myparams[i]-bbox[i,2])/wallwidth[i])-1.0                \n",
    "            end\n",
    "        end\n",
    "\n",
    "        return 2*retval\n",
    "    end\n",
    "\n",
    "    traj_increment = 100\n",
    "    params = 0  # Make sure to have this here so that params stays defined beyond the try/catch\n",
    "    if ( !(typeof(bbox)<:Dict) ); error(\"Currently only supporting softbox=true, bbox must be a Dict\"); end;\n",
    "    try\n",
    "        params = copy(inverse_wall(bbox, args, seed))\n",
    "    catch y\n",
    "        @printf(\"inverse_wall failed with error %s\\n\", y)\n",
    "        error(\"Were all initial param values within the indicated walls?\")\n",
    "    end\n",
    "    eta = start_eta\n",
    "    trajectory = zeros(2+length(params), traj_increment); cpm_traj = zeros(2, traj_increment)\n",
    "\n",
    "    if verbose\n",
    "        @printf \"%d: eta=%g ps=\" 0 eta \n",
    "        print_vector(vector_wrap(bbox, args, params))\n",
    "        @printf \"\\n\"\n",
    "    end\n",
    "    \n",
    "    if softbox\n",
    "        if !(typeof(bbox)<:Dict); error(\"bhm: If softbox=true, then bbox must eb a Dict\"); end\n",
    "        cost, grad, hess = keyword_vgh((;pars...)->func(;wallwrap(bbox, pars)...), args, params)\n",
    "    elseif hardbox\n",
    "        cost, grad, hess = keyword_vgh((;pars...) -> func(;pars...), args, params)\n",
    "    else\n",
    "        cost, grad, hess = keyword_vgh((;pars...) -> func(;pars...) + wall_cost(args, bbox; wallwidth=wallwidth, pars...),\n",
    "            args, params)        \n",
    "    end\n",
    "        \n",
    "    chessdelta = zeros(size(params))\n",
    "    \n",
    "    i=0  # here so variable i is available outside the loop\n",
    "    for i in [1:maxiter;]\n",
    "        if i > size(trajectory, 2)\n",
    "            trajectory = [trajectory zeros(2+length(params), traj_increment)]\n",
    "            cpm_traj   = [cpm_traj   zeros(2, traj_increment)]\n",
    "        end\n",
    "        trajectory[1:2, i]   = [eta;cost]\n",
    "        trajectory[3:end, i] = vector_wrap(bbox, args, params)\n",
    "        \n",
    "        hessdelta  = - inv(hess)*grad\n",
    "        try\n",
    "            if verbose && verbose_level >= 2\n",
    "                @printf(\"bhm: about to try cpm with grad : \"); print_vector_g(grad); print(\"\\n\")\n",
    "                @printf(\"bhm:   hess :\"); print_vector_g(hess[:]); print(\"\\n\");\n",
    "            end\n",
    "            if verbose && verbose_level >= 2\n",
    "                cpm_out = constrained_parabolic_minimization(hess, grad'', eta, \n",
    "                    maxiter=500, tol=1e-20, do_plot=true, verbose=true)                \n",
    "            else\n",
    "                cpm_out = constrained_parabolic_minimization(hess, grad'', eta, maxiter=500, tol=1e-20)\n",
    "            end\n",
    "            chessdelta = cpm_out[1]; cpm_traj[1,i] = cpm_out[5]; cpm_traj[2,i] = cpm_out[6]\n",
    "            jumptype = \"not failed\"\n",
    "        catch y\n",
    "            jumptype = \"failed\"\n",
    "            if verbose\n",
    "                @printf \"Constrained parabolic minimization failed with error %s\\n\" y\n",
    "                @printf \"\\n\"\n",
    "                @printf \"eta was %g\\n\" eta\n",
    "                @printf \"grad was\\n\"\n",
    "                print_vector(grad)\n",
    "                @printf \"\\n\\nhess was\\n\"\n",
    "                for k in [1:length(grad);]\n",
    "                    print_vector(hess[k,:])\n",
    "                    @printf \"\\n\"\n",
    "                end\n",
    "                @printf \"\\n\"\n",
    "                matwrite(\"error_report.mat\", Dict(\"grad\"=>grad, \"hess\"=>hess, \"eta\"=>eta))\n",
    "            end\n",
    "            break\n",
    "        end\n",
    "\n",
    "        if norm(hessdelta) <= eta\n",
    "            new_params = params + hessdelta\n",
    "            jumptype = \"Newton\"\n",
    "        elseif jumptype != \"failed\" \n",
    "            new_params = params + chessdelta\n",
    "            jumptype  = \"constrained\"\n",
    "        end\n",
    "\n",
    "        if jumptype != \"failed\"\n",
    "            if softbox\n",
    "                new_cost, new_grad, new_hess = \n",
    "                    keyword_vgh((;pars...) -> func(;wallwrap(bbox, pars)...), args, new_params)\n",
    "                if verbose && verbose_level >=2\n",
    "                    @printf(\"bhm: had new_params = : \"); print_vector_g(vector_wrap(bbox, args, params)); print(\"\\n\");\n",
    "                    @printf(\"bhm: and my bbox was : \"); print(bbox); print(\"\\n\")\n",
    "                    @printf(\"bhm: and my wallwrap output was : \"); print(wallwrap(bbox, make_dict(args, new_params))); print(\"\\n\")\n",
    "                    @printf(\"bhm: and this produced new_grad : \"); print_vector_g(new_grad); print(\"\\n\")\n",
    "                    @printf(\"bhm:   new_hess :\"); print_vector_g(new_hess[:]); print(\"\\n\");                                        \n",
    "                end\n",
    "            elseif hardbox\n",
    "                for p in [1:length(new_params);]\n",
    "                    if new_params[p] < bbox[p,1]; new_params[p] = bbox[p,1]; end\n",
    "                    if bbox[p,2] < new_params[p]; new_params[p] = bbox[p,2]; end\n",
    "                 end        \n",
    "                \n",
    "                new_cost, new_grad, new_hess = keyword_vgh((;pars...) -> func(;pars...), args, new_params)\n",
    "            else\n",
    "                new_cost, new_grad, new_hess = keyword_vgh((;pars...) -> func(;pars...) + \n",
    "                        wall_cost(args, bbox; wallwidth=wallwidth, pars...),\n",
    "                    args, new_params)                \n",
    "            end\n",
    "            \n",
    "            if abs(new_cost - cost) < tol || eta < tol\n",
    "                if verbose\n",
    "                    @printf(\"About to break -- tol=%g, new_cost-cost=%g, eta=%g\\n\", tol, new_cost-cost, eta)\n",
    "                end\n",
    "                break\n",
    "            end\n",
    "        end\n",
    "\n",
    "        if jumptype == \"failed\" || new_cost >= cost  \n",
    "            if verbose\n",
    "                @printf(\"eta going down: new_cost-cost=%g and jumptype='%s'\\n\", new_cost-cost, jumptype)\n",
    "                if verbose_level >= 2\n",
    "                    nwp = vector_wrap(bbox, args, new_params); wp = vector_wrap(bbox, args, params)\n",
    "                    @printf(\"   vvv: proposed new params were : \"); print_vector_g(nwp); print(\"\\n\")\n",
    "                    @printf(\"   vvv: proposed delta params was : \"); print_vector_g(nwp-wp); print(\"\\n\")\n",
    "                    @printf(\"   vvv: grad was : \"); print_vector_g(grad); print(\"\\n\")\n",
    "                    costheta = dot(new_params-params, grad)/(norm(new_params-params)*norm(grad))\n",
    "                    @printf(\"   vvv: costheta of proposed jump was %g\\n\", costheta)\n",
    "                end\n",
    "            end\n",
    "            eta = eta/2\n",
    "            costheta = NaN\n",
    "            if eta < tol\n",
    "                if verbose\n",
    "                    @printf(\"About to break -- tol=%g, new_cost-cost=%g, eta=%g\\n\", tol, new_cost-cost, eta)\n",
    "                end\n",
    "                break\n",
    "            end\n",
    "        else\n",
    "            eta = eta*1.1\n",
    "            costheta = dot(new_params-params, grad)/(norm(new_params-params)*norm(grad))\n",
    "\n",
    "            params = new_params\n",
    "            cost = new_cost\n",
    "            grad = new_grad\n",
    "            hess = new_hess\n",
    "        end\n",
    "\n",
    "        if verbose\n",
    "            if rem(i, verbose_every)==0\n",
    "                @printf \"%d: eta=%g cost=%g jtype=%s costheta=%.3f ps=\" i eta cost jumptype costheta\n",
    "                print_vector_g(vector_wrap(bbox, args, params))\n",
    "                @printf \"\\n\"\n",
    "                if verbose_level >= 3\n",
    "                    @printf \"    At this point, grad is =\"\n",
    "                    print_vector_g(grad)\n",
    "                    @printf \"\\n\"                \n",
    "                end\n",
    "            end\n",
    "        end\n",
    "    end\n",
    "\n",
    "    trajectory = trajectory[:,1:i]; cpm_traj = cpm_traj[:,1:i]\n",
    "    return vector_wrap(bbox, args, params), trajectory, cost, cpm_traj\n",
    "end\n"
   ]
  },
  {
   "cell_type": "code",
   "execution_count": null,
   "metadata": {
    "collapsed": true
   },
   "outputs": [],
   "source": [
    "bbox_Hessian_keyword_minimization()"
   ]
  },
  {
   "cell_type": "markdown",
   "metadata": {},
   "source": [
    "### Looking at the distribution of VR - VL"
   ]
  },
  {
   "cell_type": "code",
   "execution_count": null,
   "metadata": {
    "collapsed": false
   },
   "outputs": [],
   "source": [
    "ntrials = 500\n",
    "proVs, antiVs = @time(run_ntrials(ntrials; plot_list=[], model_params...))\n",
    "\n",
    "@printf(\"Pro %% correct = %g%%\\n\", 100*length(find(proVs[1,:].>proVs[4,:]))/ntrials)\n",
    "@printf(\"Anti %% correct = %g%% \\n\", 100*length(find(antiVs[1,:].<antiVs[4,:]))/ntrials)\n",
    "\n",
    "figure(1); clf();\n",
    "ax1 = subplot(2,1,1)\n",
    "h = plt[:hist](proVs[1,:]-proVs[4,:],-0.1:0.002:0.1)\n",
    "title(\"PRO Vr - Vl\")\n",
    "remove_xtick_labels(ax1)\n",
    "vlines(0, ylim()[1], ylim()[2])\n",
    "\n",
    "ax2 = subplot(2,1,2)\n",
    "h = plt[:hist](antiVs[1,:]-antiVs[4,:],-0.1:0.002:0.1)\n",
    "title(\"ANTI Vr - Vl\")\n",
    "vlines(0, ylim()[1], ylim()[2])\n"
   ]
  }
 ],
 "metadata": {
  "kernelspec": {
   "display_name": "Julia 0.5.2",
   "language": "julia",
   "name": "julia-0.5"
  },
  "language_info": {
   "file_extension": ".jl",
   "mimetype": "application/julia",
   "name": "julia",
   "version": "0.5.2"
  }
 },
 "nbformat": 4,
 "nbformat_minor": 0
}
