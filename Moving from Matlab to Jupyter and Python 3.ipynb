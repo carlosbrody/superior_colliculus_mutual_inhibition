{
 "cells": [
  {
   "cell_type": "markdown",
   "metadata": {},
   "source": [
    "# Personal tips that helped Carlos in moving from Matlab to Jupyter and Python -- in progress\n",
    "\n",
    "These are personal tips based on personal preferences that Carlos Brody encountered in the Summer and Fall of 2016 as he moved from Matlab to Jupyter/Python -- others might like things differently!"
   ]
  },
  {
   "cell_type": "markdown",
   "metadata": {},
   "source": [
    "<h1 id=\"tocheading\">Making a table of contents</h1>\n",
    "<div id=\"toc\"></div>\n"
   ]
  },
  {
   "cell_type": "code",
   "execution_count": null,
   "metadata": {
    "collapsed": false
   },
   "outputs": [],
   "source": [
    "%%javascript\n",
    "$.getScript('https://sites.google.com/site/brodylabhome/files/make_table_of_contents.js')\n"
   ]
  },
  {
   "cell_type": "markdown",
   "metadata": {},
   "source": [
    "# 1) Having static figure windows outside the browser\n",
    "\n",
    "I like figure windows that don't scroll away every time I run some code.\n",
    "\n",
    "The way to do that is to ask `matplotlib`, from the outset of the session, to use `qt` as its back end:"
   ]
  },
  {
   "cell_type": "code",
   "execution_count": null,
   "metadata": {
    "collapsed": true
   },
   "outputs": [],
   "source": [
    "%matplotlib qt\n",
    "\n",
    "from matplotlib import pyplot as plt"
   ]
  },
  {
   "cell_type": "markdown",
   "metadata": {},
   "source": [
    "And then we can place figures where we want them on the screen and they stay there."
   ]
  },
  {
   "cell_type": "code",
   "execution_count": null,
   "metadata": {
    "collapsed": false
   },
   "outputs": [],
   "source": [
    "def create_and_place_figure(x=1270, y=50, width=640, height=550, fignum=None):\n",
    "    \"\"\"\n",
    "    Creates and places a figure at the indicated x, y, width, and height, in pixels, counted\n",
    "    from the top left of the screen.\n",
    "    \n",
    "    PARAMETERS:\n",
    "    \n",
    "        x=1270     top left position of figure, in pixels    \n",
    "        y=50       top left position of figure, in pixels\n",
    "        width=640  width of figure, in pixels\n",
    "        height=550 height of figure, in pixels\n",
    "\n",
    "        fignum=None    If not passed, a new figure is created. If passed, it should be a figure object,\n",
    "                   and then a new figure will not be created but instead the passed figure will be resized\n",
    "                   and repositioned\n",
    "               \n",
    "    RETURNS:\n",
    "    \n",
    "        fig    The figure object affected.\n",
    "    \"\"\"\n",
    "    if fignum==None:\n",
    "        fig = plt.figure()\n",
    "    else:\n",
    "        fig = plt.figure(fignum)\n",
    "\n",
    "    manager = plt.get_current_fig_manager()\n",
    "    wpos = list(manager.window.geometry().getRect())\n",
    "    wpos[0] = x\n",
    "    wpos[1] = y\n",
    "    wpos[2] = width\n",
    "    wpos[3] = height\n",
    "    \n",
    "    manager.window.setGeometry(wpos[0], wpos[1], wpos[2], wpos[3])\n",
    "    manager.window.raise_()\n",
    "    \n",
    "    fig.canvas.draw()\n",
    "    fig.canvas.flush_events()\n",
    "    return fig\n",
    "\n",
    "\n"
   ]
  },
  {
   "cell_type": "markdown",
   "metadata": {},
   "source": [
    "# 2) One-dimensional matrices\n",
    "\n",
    "If you take a slice of a 2-d matrix, surprisingly (to a Matlab refugee), you don't get back a matrix with only one column or only one vector: you get back a 1-d matrix, (which is neither a row nor a column vector), so if you multiply a amtrix times it, you don't get the expected row vector back:"
   ]
  },
  {
   "cell_type": "code",
   "execution_count": 13,
   "metadata": {
    "collapsed": false
   },
   "outputs": [
    {
     "name": "stdout",
     "output_type": "stream",
     "text": [
      "A = \n",
      " [[ 1  2  3]\n",
      " [ 4  5  6]\n",
      " [ 7  8  9]\n",
      " [10 11 12]]\n",
      "shape(b) =  (3,) \n",
      "b = \n",
      " [7 8 9]\n",
      "shape(A@b) =  (4,)\n"
     ]
    }
   ],
   "source": [
    "import numpy as np\n",
    "\n",
    "A = np.array([[1,2,3], [4,5,6], [7,8,9], [10,11,12]])\n",
    "print(\"A = \\n\", A)\n",
    "\n",
    "b = A[2,:].T\n",
    "print(\"shape(b) = \", np.shape(b), \"\\nb = \\n\", b)\n",
    "\n",
    "print(\"shape(A@b) = \", np.shape(A@b))"
   ]
  },
  {
   "cell_type": "markdown",
   "metadata": {},
   "source": [
    "If you really wanted b to be a row vector, you can reshape it, but that's tedious.\n",
    "\n",
    "The other approach, if you really want a 2-d slice (with a single row or column) is to specify both the starting and ending indices in the slice:"
   ]
  },
  {
   "cell_type": "code",
   "execution_count": 14,
   "metadata": {
    "collapsed": false
   },
   "outputs": [
    {
     "name": "stdout",
     "output_type": "stream",
     "text": [
      "shape(b) =  (3, 1) \n",
      "b = \n",
      " [[7]\n",
      " [8]\n",
      " [9]]\n",
      "shape(A@b) =  (4, 1)\n"
     ]
    }
   ],
   "source": [
    "b = A[2:3,:].T\n",
    "print(\"shape(b) = \", np.shape(b), \"\\nb = \\n\", b)\n",
    "\n",
    "print(\"shape(A@b) = \", np.shape(A@b))\n"
   ]
  },
  {
   "cell_type": "markdown",
   "metadata": {},
   "source": [
    "# 3) Default arguments, their initialization, and kwarg dictionaries"
   ]
  },
  {
   "cell_type": "markdown",
   "metadata": {},
   "source": [
    "# 4) Variables passed by reference"
   ]
  },
  {
   "cell_type": "markdown",
   "metadata": {},
   "source": [
    "# 5) inheriting the caller's namespace"
   ]
  }
 ],
 "metadata": {
  "kernelspec": {
   "display_name": "Python 3",
   "language": "python",
   "name": "python3"
  },
  "language_info": {
   "codemirror_mode": {
    "name": "ipython",
    "version": 3
   },
   "file_extension": ".py",
   "mimetype": "text/x-python",
   "name": "python",
   "nbconvert_exporter": "python",
   "pygments_lexer": "ipython3",
   "version": "3.5.2"
  }
 },
 "nbformat": 4,
 "nbformat_minor": 0
}
