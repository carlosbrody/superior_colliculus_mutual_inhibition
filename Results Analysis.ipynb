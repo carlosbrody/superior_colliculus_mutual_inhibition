{
 "cells": [
  {
   "cell_type": "markdown",
   "metadata": {},
   "source": [
    "<h1 id=\"tocheading\">TABLE OF CONTENTS</h1>\n",
    "<div id=\"toc\"></div>\n",
    "\n",
    "**Updates to the table of contents are periodic, but run the cell below to first start or force an update.**"
   ]
  },
  {
   "cell_type": "code",
   "execution_count": null,
   "metadata": {
    "collapsed": false
   },
   "outputs": [],
   "source": [
    "macro javascript_str(s) display(\"text/javascript\", s); end\n",
    "\n",
    "javascript\"\"\"\n",
    "$.getScript('make_table_of_contents.js')\n",
    "\"\"\""
   ]
  },
  {
   "cell_type": "markdown",
   "metadata": {},
   "source": [
    "# Workflow\n",
    "\n",
    "Here we describe how to download a set of runs from the gcloud VMs, run Alex's code to compute SVD on the dynamics, and then run Marino's code to compute the number of clusters we should look at. At that point you are good to run a browser like `LDA_browser`.\n",
    "\n",
    "## Getting the files from gcloud\n",
    "\n",
    "Suppose you have processes running that have generated runs in machine:directory.  First you need to download those runs.  \n",
    "\n",
    "* If the directory is a subdirectory of superior_colliculus_mutual_inhibition, you will want those runs on git. You can therefore use git to bring any new runs over. For each machine:directory combination, use the shell (not Julia) script \n",
    "\n",
    "    ./pull_results.sh machine farm_id directory  [E.g., ./pull_results proanti024 C17 Farms_C17]\n",
    "    \n",
    "    This script goes into the gcloud VM, does a git pull, then adds any new files in the indicated directory to git, commits and pushes them, comes back to the local machine, and does a git pull.\n",
    "    \n",
    "* If the directory is NOT a subdirectory of superior_colliculus_mutual_inhibition, then you will want to use the shell (not Julia) script\n",
    "\n",
    "    ./get_new.sh  machine farm_id cloud_directory local_directory  [E.g., ../get_new.sh proanti028 C19 ../Farms_C19 ../Farms_C19]\n",
    "    \n",
    "    This script will look for any files in the cloud directory that are NOT already in the local directory, will make a compressed tar file with them, will copy that over, and extract it locally. It then cleans up after itself, removing the tar file both remotely and locally.\n",
    "    \n",
    "    You might then want to make a Mini farm, a directory with small versions of the runs that is appropriate in size for putting on git. Now in Julia, after having included \"results_analysis.jld\", \n",
    "    \n",
    "    > make_mini_farm(\"C19\", fromdirs=\"../Farms_C19\", todir=\"Mini_C19\")\n",
    "    \n",
    "    \n",
    "    \n",
    "## Running Alex's code to compute the response matrix and SVD of dynamics\n",
    "\n",
    "You must call\n",
    "\n",
    "    include(\"svd_cluster.jl\")\n",
    "    \n",
    "to use Alex's code.\n",
    "\n",
    "* If you want the Hessian and the encoding analysis run, then call the very slow\n",
    "    \n",
    "    update_farm(\"C19\", \"Mini_C19\")\n",
    "        \n",
    "* Otherwise, if you're good without those, then\n",
    "\n",
    "   update_farm(\"C19\", \"Mini_C19\", build_hessian=false, build_encoding=false)\n",
    "\n",
    "    which is still slow but not as slow as the encoding part.\n",
    "   \n",
    "The main files we want are named \\<farmdir\\>\\<farmid\\>_SVD_response_matrixn[_reduced].jld . We'll use as standard n-3 and reduced, for for \"C19\", \"Mini_C19\", this is file \"Mini_C19C19_SVD_response_matrix3_reduced.jld\". Marino's code needs that.\n",
    "\n",
    "At this point, you could run LDA_browser, but we haven't yet determined how many clusters to show. We use Marino's code for that.\n",
    "\n",
    "## Running Marino's code\n",
    "\n",
    "You must call\n",
    "\n",
    "    include(\"cluster_farms.jl\")l\n",
    "    \n",
    "to use Marino's code.\n",
    "\n",
    "* Then within Juia call\n",
    "\n",
    "    cluster_farms(\"C19\", farmdir=\"Mini_C19\")\n",
    "    \n",
    "    \n",
    "This will produce a file \"compute_clustering/MarinoCode_C19_MiniC19.jld\" that has the output of the computation. For the optimal number of clusters, according to the BIC score on mixtures-of-Gaussians fits to the data,\n",
    "\n",
    "    load(\"compute_clustering/MarinoCode_C19_MiniC19.jld\", \"ngroups\")\n",
    "    \n"
   ]
  },
  {
   "cell_type": "markdown",
   "metadata": {
    "collapsed": false
   },
   "source": [
    "# Sandlot"
   ]
  },
  {
   "cell_type": "code",
   "execution_count": null,
   "metadata": {
    "collapsed": false
   },
   "outputs": [],
   "source": [
    "pygui(true)\n",
    "figure(300); clf();\n",
    "\n",
    "x = -0.02:0.00001:0.02\n",
    "plot(x, sqrt.(0.0001 + x.^2))"
   ]
  },
  {
   "cell_type": "code",
   "execution_count": null,
   "metadata": {
    "collapsed": false
   },
   "outputs": [],
   "source": [
    "if !isdefined(:plot_PA)\n",
    "    include(\"pro_anti.jl\")\n",
    "end\n",
    "\n",
    "fname = \"MiniOptimized/farm_C17_Farms024_0049.jld\"\n",
    "\n",
    "mypars, extra_pars, args, params = load(fname,\"mypars\", \"extra_pars\", \"args\", \"pars3\")\n",
    "\n",
    "new_pars = Dict(\n",
    ":rule_and_delay_period  =>          1.2,\n",
    ":rule_and_delay_periods =>          [1, 1.2],\n",
    ":target_period          =>          0.4,\n",
    ":target_periods         =>          [0.4],\n",
    ":post_target_period     =>          0.0001,\n",
    ":post_target_periods    =>          [0.0001],\n",
    ")\n",
    "\n",
    "mypars = merge(merge(mypars, extra_pars), new_pars)\n",
    "\n",
    "cost, cost1s, cost2s, hP, hA, dP, dA, hBP, hBA = JJ(20, 20; verbose=true, make_dict(args, params, mypars)...)\n",
    "\n",
    "size(hBP)"
   ]
  },
  {
   "cell_type": "code",
   "execution_count": null,
   "metadata": {
    "collapsed": false
   },
   "outputs": [],
   "source": [
    "Pro_targets  = extra_pars[:opto_targets][:,1]*ones(1,size(hBP,2))\n",
    "Anti_targets = extra_pars[:opto_targets][:,1]*ones(1,size(hBA,2))\n",
    "mean(abs.([Pro_targets Anti_targets] - [hBP hBA]))\n",
    "all(hBP .> hBA)\n",
    "\n",
    "hBA[2,:] .<= hBA[1,:]\n",
    "\n",
    "hBA"
   ]
  },
  {
   "cell_type": "markdown",
   "metadata": {},
   "source": [
    "# Example of loading a C17 run and finding its gradient and Hessian"
   ]
  },
  {
   "cell_type": "code",
   "execution_count": null,
   "metadata": {
    "collapsed": false
   },
   "outputs": [],
   "source": [
    "if !isdefined(:plot_PA)\n",
    "    include(\"pro_anti.jl\")\n",
    "end\n",
    "\n",
    "fname = \"MiniOptimized/farm_C17_Farms024_0049.jld\"\n",
    "\n",
    "mypars, extra_pars, args, params = load(fname,\"mypars\", \"extra_pars\", \"args\", \"pars3\")\n",
    "\n",
    "# Use this line if you want a new random seed for the trials\n",
    "# extra_pars[:seedrand] = Int64(round(time()*1000))\n",
    "\n",
    "# func1 =  (;params...) -> JJ(20, 20; # mypars[:nPro], mypars[:nAnti]; \n",
    "#    verbose=true, merge(merge(mypars, extra_pars), Dict(params))...)[1]\n",
    "\n",
    "\n",
    "val, grad, hess = keyword_vgh(func1, args, params)"
   ]
  },
  {
   "cell_type": "markdown",
   "metadata": {},
   "source": [
    "# results_analysis.jl -- Analyzing results from C17 farms\n",
    "\n",
    "The functions in `C17_browser.jl` run mostly from a databse of summarized results generated by `farmload()` (defined below). The exception is the SVD analysis, which uses a file of pre-computed analysis generated by Alex.\n",
    "\n",
    "`farmload()` expects that .jld file, corresponding to a training run, will have the following entries:\n",
    "\n",
    "* `\"args\"`   a String vector containing the names of the trained parameters\n",
    "* `\"pars3\"`  a Float64 vector, containing the value of the parameters names in `\"args\"`. \n",
    "\n",
    "    Note the funny name! In the output of `farmload()`, these will correspond to `\"params\"`, for historical reasons in the .jld files we expect them labeled as `\"pars3\"`\n",
    "\n",
    "\n",
    "* `\"cost\"`   a goodness-of-fit measure, run on test trials, not training trials. (On the C17 farm, this was from measured 10000 test trials per condition.)\n",
    "* `\"tcost\"`  the same goodness-of-fit measure as in `\"cost\"`, but evaluated on the training trials\n",
    "\n",
    "\n",
    "**Future** analysis methods may well be expected to read other things from the .jld file, such as the Hessian at the pars3 values, percent binarized correect per condition, or other items that may be used for improved cost functions.  The trajectory of how the pars3 got trained may also be of interest.\n"
   ]
  },
  {
   "cell_type": "markdown",
   "metadata": {},
   "source": [
    "## farmload()"
   ]
  },
  {
   "cell_type": "code",
   "execution_count": null,
   "metadata": {
    "collapsed": false
   },
   "outputs": [],
   "source": [
    "#@include_me  results_analysis.jl\n",
    "\n",
    "\n",
    "if !isdefined(:plot_PA)\n",
    "    @printf(\"Loading pro_anti.jl\\n\")\n",
    "    include(\"pro_anti.jl\")\n",
    "end\n",
    "\n",
    "using HDF5\n",
    "\n",
    "####################################################################\n",
    "#                                                                  \n",
    "#   Define some helper functions for loading farms,\n",
    "#   plotting histograms over the parameters, and managing\n",
    "#   with GUI interactivity.\n",
    "#\n",
    "####################################################################\n",
    "\n",
    "\n",
    "\"\"\"\n",
    "results = farmload(farm_id; farmdir=\"../NewFarms\", verbose=true, verbose_every=10)\n",
    "\n",
    "Package and return a summary of results from a number of runs.\n",
    "\n",
    "# PARAMETERS:\n",
    "\n",
    "- filename     farm_id  (e.g., \"C17\"); .jld files containing this pattern will be loaded\n",
    "\n",
    "# OPTIONAL PARAMETERS:\n",
    "\n",
    "- farmdir      String indicating directory in which the files are found; alternatively, a vector\n",
    "               of strings; runs from all of those directories will be loaded.\n",
    "\n",
    "- verbose      If true, print a brief progress report every verbose_every files loaded\n",
    "\n",
    "- verbose_every  Used if verbose==true (see above)\n",
    "\n",
    "# RETURNS:\n",
    "\n",
    "A dictionary with the keys:\n",
    "    - \"tcost\" (vector or training costs), \n",
    "    - \"cost\" (vector of test costs), \n",
    "    - \"dirs\" (vector directories in which files  are found), \n",
    "    - \"files\" (vector of filenames, including paths), \n",
    "    - \"qu_out\" (deprecated for farm C17 and other non-pre-search farms), \n",
    "    - \"params\"\" (nruns-by-nparams matrix of paramters), \n",
    "    - \"args\" (nparams-long vector of parameter names).\n",
    "    - \"grads\" (nruns-by-nparams matrix of training cost gradients). If not available in the file, all elements will be \"nothing\".\n",
    "    - \"hessians\" (nruns vector of nparams-by-nparams hessian matrices). If not available in the file, all elements will be \"nothing\".\n",
    "\n",
    "Note that most values are nruns-long vectors but \"args\" is only nparams-long, because they are\n",
    "the same names across all the runs.\n",
    "\"\"\"\n",
    "function farmload(farm_id; farmdir=\"../NewFarms\", verbose=true, verbose_every=50)\n",
    "\n",
    "    if typeof(farmdir)==String; farmdir=[farmdir]; end\n",
    "    \n",
    "    results = Dict(); dirs=[]; files =[]; qs=[]; tcosts=[]; costs=[]; pars=[]; hBPs=[]; hBAs=[];\n",
    "    grads = []; hessians = Array{Array{Float64}}(0,1);\n",
    "    n=0;\n",
    "    for dd in farmdir\n",
    "        for f in filter(x -> startswith(x, \"farm_\" * farm_id * \"_\"), readdir(dd * \"/\"))\n",
    "            n += 1\n",
    "            myfile = dd * \"/\" * f; \n",
    "            fj = jldopen(myfile); \n",
    "            if exists(fj, \"qu_out\"); qu_out = load(myfile, \"qu_out\"); \n",
    "            else;                    qu_out = [-1 -1]; \n",
    "            end\n",
    "            # if exists(fj, \"ftraj3\"); ftraj3 = load(myfile, \"ftraj3\"); mygrad=ftraj3[1,end]'; myhess=ftraj3[2,end]\n",
    "            # else                     \n",
    "                ftraj3 = nothing;            mygrad=nothing;        myhess=nothing\n",
    "            # end\n",
    "            close(fj)\n",
    "\n",
    "            args, params, traj3, cost, hBP, hBA = load(myfile, \"args\", \"pars3\", \"traj3\", \"cost\", \"hBP\", \"hBA\")\n",
    "\n",
    "            if     !haskey(results, args);       results[\"args\"] = args;\n",
    "            elseif !all(results[\"args\"].==args); error(\"Not all files have same args!\"); \n",
    "            end\n",
    "\n",
    "            files = [files ; myfile]; dirs = [dirs ; dd]\n",
    "            qs = [qs ; qu_out]; tcosts = [tcosts; traj3[2,end]]; costs = [costs; cost]\n",
    "            if length(pars) ==0; pars =params';  else pars  = [pars  ; params']; end\n",
    "            if length(hBPs) ==0; hBPs =hBP';     else hBPs  = [hBPs  ; hBP'];    end\n",
    "            if length(hBAs) ==0; hBAs =hBA';     else hBAs  = [hBAs  ; hBA'];    end\n",
    "            \n",
    "            if mygrad==nothing\n",
    "                if length(grads)==0; grads=[mygrad];   else grads = [grads ; [mygrad]]; end\n",
    "            else\n",
    "                if length(grads)==0; grads=mygrad;     else grads = [grads ; mygrad];   end\n",
    "            end\n",
    "            if myhess==nothing\n",
    "                if length(hessians)==0; hessians = [nothing]; \n",
    "                else hessians = [hessians ; [nothing]];\n",
    "                end\n",
    "            else\n",
    "                hessians = [hessians ; [myhess]]\n",
    "            end\n",
    "            \n",
    "            if verbose && rem(n, verbose_every)==0\n",
    "                @printf(\"%s %g\\n\", myfile, tcosts[end])\n",
    "            end\n",
    "        end\n",
    "    end\n",
    "\n",
    "    results[\"dirs\"]     = dirs\n",
    "    results[\"files\"]    = files\n",
    "    results[\"qu_out\"]   = qs\n",
    "    results[\"tcost\"]    = tcosts\n",
    "    results[\"cost\"]     = costs\n",
    "    results[\"params\"]   = pars\n",
    "    results[\"grads\"]    = grads\n",
    "    results[\"hessians\"] = hessians\n",
    "    results[\"hBP\"]      = hBPs\n",
    "    results[\"hBA\"]      = hBAs\n",
    "\n",
    "    return results\n",
    "end"
   ]
  },
  {
   "cell_type": "markdown",
   "metadata": {},
   "source": [
    "## interactive scatterplot utilities"
   ]
  },
  {
   "cell_type": "code",
   "execution_count": null,
   "metadata": {
    "collapsed": false
   },
   "outputs": [],
   "source": [
    "unique([1 2 3 ; 1 2 3 ; 4 5 6], 1)"
   ]
  },
  {
   "cell_type": "raw",
   "metadata": {},
   "source": []
  },
  {
   "cell_type": "code",
   "execution_count": null,
   "metadata": {
    "collapsed": false
   },
   "outputs": [],
   "source": [
    "#@include_me  results_analysis.jl\n",
    "\n",
    "\n",
    "\"\"\"\n",
    "Data structure for interactive scatterplots\n",
    "\n",
    "`interactive_scatter()` returns one of these objects; used to manage GUI handling.\n",
    "\n",
    "A mutlidimensional set of data points is plotted in a set of scatterplots, each of which \n",
    "shows the scatterplot of one dimension against another. Each data point is identified\n",
    "by a unique string.  When the user clicks on one of the axes, the closest point to it\n",
    "is identified, and if defined, a callback function is called, with the string ID that\n",
    "datapoint passed as one of its parameters.\n",
    "\n",
    "The points can be divided into different subsets of them, with each set plotted\n",
    "in its own color. In addition, a series of initially invisible dots can also be \n",
    "added to the plot. If scatter_highlight() is defined as the callback function, then\n",
    "these initially invidible points will become sequentially visible as the user clicks \n",
    "on the scatterplots.\n",
    "\n",
    "The main function that is called to set things up is `interactive_scatter()`. The \n",
    "usual callback is `scatter_highlight()`. \n",
    "\n",
    "These functions work with a scatter_data data structure, defined here.\n",
    "\n",
    "The data structure's fields are:\n",
    "\n",
    "    Data::Array{Float64}     # npoints-by-ndims Array{Float64} of original data\n",
    "    stringIDs::Array{String} # npoints-long vector of unique strings, each identifying the corresponding rows of Data. (E.g., the filename from which that point came.)\n",
    "    I::Array{Array{Int64}}   # Vector of index vectors. Each element, for example, I[i] is a vector, whose elements in turn are integers, indicating the row numbers in Data that correspond to the \"set i\" points\n",
    "    # --- stuff about graphics handling of the plots:\n",
    "    axisHandles::Array{PyCall.PyObject}  # handles to the plotted axes\n",
    "    axisDims::Array{Int64}               # naxes-by-2. Each row indicates the x- and y-axes dimension for each axis plot. E.g., if row j contains [2 3] that means that the jth scatterplot has column 2 of Data as its x-axis and column 3 of Data as its y-axis\n",
    "    dotHandles::Array{PyCall.PyObject}   # naxes-by-ndots, handles to the extra, initially invisible, dots plotted\n",
    "    callback::Any                        # A function that could be called after a button press. \n",
    "                                         # Function should be defined as taking two parameters, callback(str, SD::scatterdata). \n",
    "                                         # str will be one of the strings in stringIDs\n",
    "\n",
    "\"\"\"\n",
    "type scatter_data\n",
    "    Data::Array{Float64}     # npoints-by-ndims Array{Float64} of data\n",
    "    stringIDs::Array{String} # npoints-long vector of unique strings, identifying the corresponding rows of Data. (E.g., the filename from which that point came.)\n",
    "    I::Array{Array{Int64}}   # Vector of index vectors. I[i] is a vector, containing row numbers of \"set i\" points\n",
    "    # --- stuff about graphics handling of the plots:\n",
    "    axisHandles::Array{PyCall.PyObject}  # handles to the plotted axes\n",
    "    axisDims::Array{Int64}               # naxes-by-2, indicating x- and y-axes dimension for each axis plot\n",
    "    dotHandles::Array{PyCall.PyObject}   # naxes-by-ndots, extra dots plotted\n",
    "    callback::Any                        # A function to be called after a button press\n",
    "end\n",
    "\n",
    "\"\"\"\n",
    "SD = interactive_scatters(Data, stringIDs; set_indices=nothing, \n",
    "    plot_set2=false, axisDims = [2 1 ; 3 1], user_callback=nothing,\n",
    "    n_invisible_dots = 3, invisible_colors = [\"c\"; \"b\"; \"m\"],\n",
    "    fignum = nothing, axisHandles = nothing, plot_colors = [\"r\"; \"g\"; \"k\"; \"y\" ; \"m\"], \n",
    "    markersize=10, marker=\".\")\n",
    "\n",
    "A multidimensional set of data points is plotted in a set of scatterplots, each of which \n",
    "shows the scatterplot of one dimension against another. Each data point is identified\n",
    "by a unique string.  When the user clicks on one of the axes, the closest point to it\n",
    "is identified, and if defined, a callback function is called, with the string ID that\n",
    "datapoint passed as one of its parameters.\n",
    "\n",
    "The points can be divided into different subsets of them, with each set plotted\n",
    "in its own color. In addition, a series of initially invisible dots can also be \n",
    "added to the plot. If scatter_highlight() is defined as the callback function, then\n",
    "these initially invidible points will become sequentially visible as the user clicks \n",
    "on the scatterplots.\n",
    "\n",
    "The main function that is called to set things up is `interactive_scatter()`. The \n",
    "usual callback is `scatter_highlight()`. \n",
    "\n",
    "This function, `interactive_scatter()`: Given a set of multidimensional data points, \n",
    "puts up at most two scatterplots of different dimensions\n",
    "against each other. (If data has only two dimensions, only one scatterplot goes up.)\n",
    "In addition, enables GUI interactivity: users can associate a callback function\n",
    "with buttonclicks on the plots. Also puts up some invisible points on the plot with can later\n",
    "be used by `scatter_highlight()`.  Returns a data structure with info as to what is plotted where,\n",
    "meant to be used by GUI callbacks and functions such as `scatter_highlight()`.\n",
    "\n",
    "If the user clicks on one of the plots, the plotted data point closest to the clicked point\n",
    "will be identified, and if the user callback was defined, then user_callback will be called \n",
    "as user_callback(stringID, SD)\n",
    "\n",
    "If desired, only a subset of the points in Data can be plotted; and multiple different subsets can be \n",
    "requested to be plotted, in different colors.\n",
    "\n",
    "# PARAMETERS:\n",
    "\n",
    "- Data          An npoints-by-ndims Array{Float64}\n",
    "\n",
    "- stringIDs     And npoints-long vector of unique strings, each of which will be used to \n",
    "                identify the corresponding row in Data.\n",
    "\n",
    "# OPTIONAL PARAMETERS:\n",
    "\n",
    "- set_indices           Default is a vector with one element, which itself is 1:size(Data,1), \n",
    "                        i.e., default will plot all points in Data as \"set 1\" points. \n",
    "                        If passed, set_indices should be a vector of vectors; each\n",
    "                        element should be a vectors of integers, each within 1:size(Data,2). \n",
    "                        The rows of Data in set_indices[i] will be plotted with color plot_colors[i].\n",
    "\n",
    "- plot_colors           n-row Array, with row i containing the color to be used for set i.\n",
    "\n",
    "- markersize            Size of each point in the scatterplots\n",
    "\n",
    "- marker                Type of each point in the scatterplots\n",
    "\n",
    "- plot_set2             If true, dots for sets 2:end are plotted, otherwise not.\n",
    "\n",
    "- axisDims              Array of integers, Naxes-by-2 in size. Each row indicates with dimensions\n",
    "                        to show as horizontal axis (first column of axisDims) and vertical axis (second column)\n",
    "                        in the corresponding axis.\n",
    "\n",
    "- user_callback         If set, function that will be called, as `user_callback(stringID, SD)` where\n",
    "                        stringID is the string for the row that corresponds to the selected point.\n",
    "\n",
    "- fignum                If optional parameters axisHandles is not passed, then this will indicate the\n",
    "                        Figure number on which to plot the scatterplots.If not passed, a new figure is created.\n",
    "\n",
    "- axisHandles           Two element vector containing PyPlot axis handles, indicating where to put up\n",
    "                        the scatterplots. If not passed, the figure is cleared and two side-by-side \n",
    "                        subplots will be made.\n",
    "\n",
    "- n_invisible_dots      Number of auxiliary, initially invisible, dots to put up\n",
    "\n",
    "- invisible_colors      n_invisible_dots-long vector, indicating the color that each dot, when made\n",
    "                        visible, should have.  The dots will be plotted with the first color on top.\n",
    "\n",
    "# RETURNS\n",
    "\n",
    "- SD::scatter_data      A structure, holindg information about the plot. See documentation for scatter_data   \n",
    "\n",
    "\n",
    "# EXAMPLE\n",
    "\n",
    "```jldoctest\n",
    "pygui(true)\n",
    "npoints    = 10\n",
    "Data       = randn(npoints,2)\n",
    "string_IDs = map(x -> @sprintf(\"%d\", x), 1:npoints)\n",
    "remove_all_BPs()  # delete any previous click handlers, for cleanliness\n",
    "\n",
    "SD = interactive_scatters(Data, string_IDs, fignum=20, user_callback=scatter_highlight);\n",
    "```jldoctest\n",
    "\n",
    "\"\"\" \n",
    "function interactive_scatters(Data, stringIDs; set_indices=nothing, \n",
    "    plot_set2=false, axisDims = [2 1 ; 3 1], user_callback=nothing,\n",
    "    n_invisible_dots = 3, invisible_colors = [\"c\"; \"b\"; \"m\"],\n",
    "    fignum = nothing, axisHandles = nothing, plot_colors = [\"r\"; \"g\"; \"k\"; \"y\" ; \"m\"], \n",
    "    markersize=10, marker=\".\")\n",
    "\n",
    "    @doc \"\"\"\n",
    "    scatter_event_callback(xy, r, linehandle, axhandle, SD::scatter_data)\n",
    "\n",
    "    Internal function used by `interactive_scatters()` to enable GUI interactivity.\n",
    "    This function is responsible for turning the position of the \n",
    "    selected data point into the corresponding filename, and then\n",
    "    calling the callback that was registered with `interactive_scatters()` (if any was)\n",
    "\n",
    "    Out of the entries in SD::scatter_data, this function uses axisHandles, axisDims,\n",
    "    Data, stringIDs, and callback.\n",
    "\n",
    "    \"\"\" function scatter_event_callback(xy, r, linehandle, axhandle, SD::scatter_data)\n",
    "        # @printf(\"xy=(%g,%g)\\n\", xy[1], xy[2])\n",
    "        idx = nothing\n",
    "        # Let's go through the axes finding our axis\n",
    "        for i=1:length(SD.axisHandles)\n",
    "            if axhandle == SD.axisHandles[i]            \n",
    "                myX = SD.axisDims[i,1]; myY = SD.axisDims[i,2]\n",
    "                # and now find the index of the point at xy\n",
    "                idx = find((SD.Data[:, myX].==xy[1]) .& (SD.Data[:, myY].==xy[2]))\n",
    "                if length(idx)==0; \n",
    "                    warn(@sprintf(\"scatter_event_callback: Couldn't find point (%.3f,%.3f), returning\\n\", \n",
    "                        xy[1], xy[2]), bt=true); \n",
    "                    return; \n",
    "                end\n",
    "                idx = idx[1]\n",
    "            end\n",
    "        end\n",
    "\n",
    "        @printf(\"You selected the point with ID %s\\n\", SD.stringIDs[idx]); \n",
    "        pause(0.0001)  # just to get the above printed out\n",
    "\n",
    "        # If there is a user callback, call it:\n",
    "        if SD.callback != nothing\n",
    "            SD.callback(SD.stringIDs[idx], SD)\n",
    "        end        \n",
    "    end \n",
    "\n",
    "    # ---------------  OK, now the actual interactive_scatters() function -------------\n",
    "    \n",
    "    # Initialize a scatter_data structure\n",
    "    SD = scatter_data([], [], [], [], [], [], nothing)\n",
    "    SD.callback  = user_callback\n",
    "    SD.stringIDs = stringIDs\n",
    "    SD.Data      = Data\n",
    "\n",
    "    # Don't try to plot dimensions we don't have:\n",
    "    axisDims[find(axisDims.>size(Data,2))] = size(Data,2)\n",
    "    axisDims = unique(axisDims, 1)\n",
    "    nplots = axisHandles==nothing ? size(axisDims,1) : minimum((size(axisDims, 1), length(axisHandles)))\n",
    "    \n",
    "    # Default is to plot data from all rows as set1\n",
    "    if set_indices == nothing\n",
    "        set_indices = [1:size(Data,1)]\n",
    "    end\n",
    "    \n",
    "    if length(plot_colors) < length(set_indices)\n",
    "        error(\"Need at least as many plot_colors as there are different groups of set_indices\")\n",
    "    end\n",
    "    \n",
    "    # Store indices in the SD structure that will be returned\n",
    "    SD.I = I = set_indices\n",
    "\n",
    "    # If we weren't given the axes, make them:\n",
    "    if axisHandles == nothing\n",
    "        # If we weren't given a figure, make it:\n",
    "        if fignum==nothing\n",
    "            fignum = figure()[:number]\n",
    "        end\n",
    "        # If we're making axes, clear the figure for them:\n",
    "        figure(fignum); clf();\n",
    "        if nplots==1\n",
    "            axisHandles = [gca()]\n",
    "        else\n",
    "            axisHandles = [subplot(1,2,1), subplot(1,2,2)]\n",
    "        end\n",
    "    else\n",
    "        # We were given axes, get figure number from them:\n",
    "        if nplots==1; fignum = axisHandles[1][:figure][:number]\n",
    "        else          \n",
    "            fignum = [axisHandles[1][:figure][:number], axisHandles[2][:figure][:number]]\n",
    "            if fignum[1]==fignum[2]; fignum=fignum[1]; end\n",
    "        end\n",
    "    end\n",
    "    # Store in return structure:\n",
    "    SD.axisHandles  = axisHandles\n",
    "    SD.axisDims     = axisDims\n",
    "\n",
    "    # Now plot the points:\n",
    "    for i=1:length(SD.axisHandles)\n",
    "        safe_axes(SD.axisHandles[i])\n",
    "        # Find the rows that correspond to these axes:\n",
    "        myX = SD.axisDims[i,1]; myY = SD.axisDims[i,2]\n",
    "        for i=length(set_indices):-1:1\n",
    "            if i==1 || plot_set2\n",
    "                plot(Data[set_indices[i],myX],  Data[set_indices[i],myY], \".\", color=plot_colors[i], \n",
    "                    markersize=markersize, marker=marker, linestyle=\"None\")\n",
    "            end            \n",
    "        end\n",
    "        title(@sprintf(\"Dim %d vs %d\", myY, myX))\n",
    "    end\n",
    "\n",
    "    # Add the invisible dots:\n",
    "    hs =Array{PyCall.PyObject}(0, n_invisible_dots)\n",
    "    for i=1:length(SD.axisHandles)\n",
    "        safe_axes(SD.axisHandles[i]); xpos = mean(xlim()); ypos = mean(ylim())\n",
    "        myh = []\n",
    "        for j=1:n_invisible_dots\n",
    "            # Last one to be plotted should be first color (so it'll go on top):\n",
    "            myh = [myh; plot(xpos, ypos, \".\", color=invisible_colors[end-(j-1)], marker=marker)]\n",
    "        end\n",
    "        hs = [hs ; reshape(myh[end:-1:1], 1, n_invisible_dots)]\n",
    "    end\n",
    "    for h in hs; h[:set_markersize](markersize); h[:set_visible](false); end\n",
    "    SD.dotHandles = hs\n",
    "        \n",
    "    for f in fignum\n",
    "        install_nearest_point_callback(figure(f), scatter_event_callback, user_data=SD)\n",
    "    end\n",
    "\n",
    "    return SD \n",
    "\n",
    "end\n",
    "\n",
    "\n",
    "\"\"\"\n",
    "    scatter_highlight(stringID, SD::scatter_data)\n",
    "\n",
    "A multidimensional set of data points is plotted in a set of scatterplots, each of which \n",
    "shows the scatterplot of one dimension against another. Each data point is identified\n",
    "by a unique string.  When the user clicks on one of the axes, the closest point to it\n",
    "is identified, and if defined, a callback function is called, with the string ID that\n",
    "datapoint passed as one of its parameters.\n",
    "\n",
    "The points can be divided into different subsets of them, with each set plotted\n",
    "in its own color. In addition, a series of initially invisible dots can also be \n",
    "added to the plot. If scatter_highlight() is defined as the callback function, then\n",
    "these initially invidible points will become sequentially visible as the user clicks \n",
    "on the scatterplots.\n",
    "\n",
    "The main function that is called to set things up is `interactive_scatter()`. The \n",
    "usual callback is `scatter_highlight()`. \n",
    "\n",
    "This function, 'scatter_highlight()`:\n",
    "Finds the row in SD.stringIDs that equals stringID, and then for each axis in SD.axisHandles,\n",
    "sets the first SD.dotHandle's x,y data to the positon of the corresponding row of SD.Data; \n",
    "moves the second SD.dotHandle to where the first used to be; moves the third to where the\n",
    "second used to be; and so on.\n",
    "\n",
    "# EXAMPLE:\n",
    "\n",
    "```jldoctest\n",
    "SD = interactive_scatters(randn(10,3), map(x -> @sprintf(\"%d\", x), 1:10), fignum=20)\n",
    "\n",
    "scatter_highlight(\"1\", SD)\n",
    "scatter_highlight(\"5\", SD)\n",
    "scatter_highlight(\"9\", SD)\n",
    "```\n",
    "\n",
    "\"\"\"\n",
    "function scatter_highlight(stringID, SD::scatter_data)\n",
    "    idx = find(SD.stringIDs .== stringID)\n",
    "    if length(idx)==0; @printf(\"scatter_highlight: Couldn't find stringID %s, returning\\n\", stringID); return; end\n",
    "\n",
    "    Data = SD.Data[idx,:]\n",
    "\n",
    "    # Move our dots along:\n",
    "    if length(SD.dotHandles) > 0            \n",
    "        # The dot in column X will get the coords of the dot in column X-1:\n",
    "        for i=1:length(SD.axisHandles)\n",
    "            for to=size(SD.dotHandles,2):-1:2\n",
    "                from = to-1\n",
    "                SD.dotHandles[i,to][:set_xdata](SD.dotHandles[i,from][:get_xdata]())\n",
    "                SD.dotHandles[i,to][:set_ydata](SD.dotHandles[i,from][:get_ydata]())\n",
    "                SD.dotHandles[i,to][:set_visible](SD.dotHandles[i,from][:get_visible]())\n",
    "            end\n",
    "            # And then the dot in column 1 gets the coords of the red dot closest to the clicked point:\n",
    "            myX = SD.axisDims[i,1]; myY = SD.axisDims[i,2]\n",
    "            SD.dotHandles[i,1][:set_xdata](Data[myX])\n",
    "            SD.dotHandles[i,1][:set_ydata](Data[myY])   \n",
    "            SD.dotHandles[i,1][:set_visible](true)\n",
    "        end\n",
    "    end\n",
    "    safe_axes(SD.axisHandles[end])    \n",
    "    legend(SD.dotHandles[end,1:3], [\"current\", \"1 ago\", \"2 ago\"])\n",
    "    pause(0.0001)\n",
    "end\n",
    "\n",
    "\n"
   ]
  },
  {
   "cell_type": "code",
   "execution_count": null,
   "metadata": {
    "collapsed": false
   },
   "outputs": [],
   "source": [
    "pygui(true)\n",
    "Data = randn(10,2)\n",
    "remove_all_BPs()\n",
    "SD = interactive_scatters(Data, map(x -> @sprintf(\"%d\", x), 1:10), fignum=20, user_callback=scatter_highlight);"
   ]
  },
  {
   "cell_type": "code",
   "execution_count": null,
   "metadata": {
    "collapsed": false
   },
   "outputs": [],
   "source": [
    "res = farmload(\"C17\"; farmdir=\"MiniOptimized\")\n",
    "res[\"params\"][:,4] = abs.(res[\"params\"][:,4])"
   ]
  },
  {
   "cell_type": "code",
   "execution_count": null,
   "metadata": {
    "collapsed": false
   },
   "outputs": [],
   "source": [
    "res2 = selectize(res, \"cost < -0.0002\")[2]\n"
   ]
  },
  {
   "cell_type": "code",
   "execution_count": null,
   "metadata": {
    "collapsed": false
   },
   "outputs": [],
   "source": [
    "set1_indices = [2, 5, 7]\n",
    "set2_indices = [2, 4]\n",
    "\n",
    "setdiff(set2_indices, set1_indices)\n",
    "\n",
    "figure(11); clf();\n",
    "\n",
    "h = plot([1,2,4], [3,4, 5], linestyle=\"None\", marker=\".\", markersize=12)[1]\n",
    "\n"
   ]
  },
  {
   "cell_type": "markdown",
   "metadata": {},
   "source": [
    "## histo_params(), plot_PCA(), and plot_SVD()"
   ]
  },
  {
   "cell_type": "code",
   "execution_count": null,
   "metadata": {
    "collapsed": false
   },
   "outputs": [],
   "source": [
    "#@include_me  results_analysis.jl\n",
    "\n",
    "\n",
    "\n",
    "\"\"\"\n",
    "    Data structure for parameter and cost histograms\n",
    "\n",
    "`histo_params()` returns one of these objects; used to manage GUI handling.\n",
    "\"\"\"\n",
    "type histo_data\n",
    "    names::Array{String}\n",
    "    values::Array{Float64}\n",
    "    axisHandles::Array{PyCall.PyObject}\n",
    "    LineHandles::Array{PyCall.PyObject}\n",
    "    files::Array{String} \n",
    "end\n",
    "\n",
    "\n",
    "\n",
    "\n",
    "\"\"\"\n",
    "HD = histo_params(args, params, tcosts, costs, files; fignum=1, nbins=10)\n",
    "\n",
    "Histogram each parameter. params should be nentries-by-length(args) in size.\n",
    "args should be a vector of strings. tcosts and costs should be nentries in length,\n",
    "and represent trainig cost, and test cost, respectively. files should be a vector\n",
    "of filenames.\n",
    "\n",
    "# OPTIONAL PARAMS\n",
    "\n",
    "- fignum   The figure in which histograms will be plotted.\n",
    "\n",
    "- nbins    The number of bins to use in each histogram.\n",
    "\n",
    "\"\"\"\n",
    "function histo_params(args, params, tcosts, costs, files; fignum=1, nbins=10, linewidth=3)\n",
    "\n",
    "    pygui(true)\n",
    "    figure(fignum); clf();\n",
    "    \n",
    "    HD = histo_data([], [], [], [], [])\n",
    "\n",
    "    nparams = size(params,2)\n",
    "    nrows = ceil(nparams/3)+1\n",
    "\n",
    "    for i=1:nparams;\n",
    "        HD.axisHandles = [HD.axisHandles ; subplot(nrows,3,i)]; \n",
    "        plt[:hist](params[:,i], nbins)\n",
    "        title(args[i])\n",
    "        \n",
    "        myrow = ceil(i/3)\n",
    "        if myrow < (nrows+1)/2;     axisHeightChange(0.8, lock=\"t\")\n",
    "        elseif myrow > (nrows+1)/2; axisHeightChange(0.8, lock=\"b\")\n",
    "        else                        axisHeightChange(0.8, lock=\"c\")\n",
    "        end    \n",
    "    end\n",
    "\n",
    "    HD.axisHandles = [HD.axisHandles ; subplot(nrows, 2, nrows*2-1)]; axisHeightChange(0.8, lock=\"b\"); \n",
    "    axisMove(0, -0.025); plt[:hist](tcosts*1000, nbins); title(\"training cost*1000\")\n",
    "\n",
    "    HD.axisHandles = [HD.axisHandles ; subplot(nrows, 2, nrows*2)];   axisHeightChange(0.8, lock=\"b\"); \n",
    "    axisMove(0, -0.025); plt[:hist](costs*1000, nbins); title(\"test cost*1000\")\n",
    "\n",
    "    for ax in HD.axisHandles\n",
    "        safe_axes(ax)\n",
    "        h = plot([0 0 0 ; 0 0 0], [ylim()[1] ; ylim()[2]]*ones(1,3), visible=false, linewidth=linewidth)\n",
    "        h[1][:set_color](\"m\"); h[2][:set_color](\"b\"); h[3][:set_color](\"c\")\n",
    "        HD.LineHandles = [HD.LineHandles ; reshape(h[end:-1:1], 1, 3)]\n",
    "    end\n",
    "    \n",
    "    args   = [args ; [\"train cost\" ; \"test cost\"]]\n",
    "    params = [params tcosts*1000 costs*1000]\n",
    "    \n",
    "    HD.names  = args\n",
    "    HD.values = params\n",
    "    HD.files  = files\n",
    "    \n",
    "    return HD\n",
    "end\n",
    "\n",
    "\n",
    "\"\"\"\n",
    "    histo_params(res; threshold=-0.0001, further_params...)\n",
    "\n",
    "Wrapper that calls the other histo_params method, after first selecting for\n",
    "only  runs that have a test cost less than threshold.  further_params are passed\n",
    "on to the other histo_params method.\n",
    "\n",
    "- threshold             training costs below this value are considered \"successful\" (red dots), \n",
    "                        above it are \"unsuccessful\" (blue dots)\n",
    "\n",
    "- cost_choice           String, used to indicate which cost will be used for thresholding. It \n",
    "                        must be either \"cost\", indicating the testing cost, or \"tcost\", the training cost. \n",
    "\n",
    "- fignum                The figure in which histograms will be plotted.\n",
    "\n",
    "- nbins                 The number of bins to use in each histogram.\n",
    "\n",
    "\n",
    "\"\"\"\n",
    "function histo_params(res; threshold=-0.0001, cost_choice=\"cost\", further_params...)\n",
    "    args   = res[\"args\"]\n",
    "    params = res[\"params\"]\n",
    "    tcost  = res[\"tcost\"]\n",
    "    cost   = res[\"cost\"]\n",
    "    files  = res[\"files\"]\n",
    "    \n",
    "    if cost_choice==\"cost\"\n",
    "        I = find(cost.<threshold)\n",
    "    elseif cost_choice==\"tcost\"\n",
    "        I = find(tcost.<threshold)\n",
    "    else\n",
    "        error(\"cost_choice MUST be one of \\\"tcost\\\" or \\\"cost\\\"\")\n",
    "    end\n",
    "    \n",
    "    return histo_params(args, params[I,:], tcost[I], cost[I], files[I,:]; Dict(further_params)...)\n",
    "end\n",
    "\n",
    "\n",
    "\"\"\"\n",
    "    histo_highlight(filename, HD::histo_data)\n",
    "\n",
    "Assuming that histo_params was called, and returned the HD that is passed to this function,\n",
    "this function will put up a vertical bar at the values corresponding to the run indicated\n",
    "by filename.\n",
    "\n",
    "Will put up to three bars, blue for the most recent one asked for; green for one call ago\n",
    "to this function; and magenta for the time the function was called two calls ago. That allows\n",
    "keeping track of a sequence of requested values.\n",
    "\n",
    "This function can be used for GUI interactivity-- if a button click selects a run, the\n",
    "corresponding filename can then be used with this function to highlight that run in the\n",
    "histograms.\n",
    "\n",
    "# EXAMPLE:\n",
    "\n",
    "```jldoctest\n",
    "res = farmload(\"C17\", farmdir=\"MiniFarms\")\n",
    "\n",
    "HD = histo_params(res)\n",
    "I = find(res[\"cost].<-0.0001)  # to match what histo_params shows\n",
    "\n",
    "histo_highlight(res[\"files\"][I[1]], HD)\n",
    "histo_highlight(res[\"files\"][I[2]], HD)\n",
    "histo_highlight(res[\"files\"][I[3]], HD)\n",
    "```\n",
    "\"\"\"\n",
    "function histo_highlight(filename, HD::histo_data)\n",
    "    idx = find(HD.files .== filename)\n",
    "    if length(idx)==0; @printf(\"histo_highlight: Couldn't find filename %s, returning\\n\", filename); return; end\n",
    "    \n",
    "    for i=1:length(HD.names)\n",
    "        for to=size(HD.LineHandles,2):-1:2\n",
    "            from=to-1\n",
    "            HD.LineHandles[i,to][:set_xdata](HD.LineHandles[i,from][:get_xdata]())\n",
    "            HD.LineHandles[i,to][:set_ydata](HD.LineHandles[i,from][:get_ydata]())\n",
    "            HD.LineHandles[i,to][:set_visible](HD.LineHandles[i,from][:get_visible]())\n",
    "        end        \n",
    "        HD.LineHandles[i,1][:set_xdata]([HD.values[idx,i], HD.values[idx,i]])\n",
    "        HD.LineHandles[i,1][:set_visible](true)\n",
    "    end\n",
    "end\n",
    "\n",
    "\n",
    "\"\"\"\n",
    "Data structure for PCA scatterplots\n",
    "\n",
    "`plot_PCA()` returns one of these objects; used to manage GUI handling.\n",
    "\"\"\"\n",
    "type PCAplot_data\n",
    "    # --- stuff about the data that is plotted:\n",
    "    mu::Array{Float64}   # This vector of means is subtracted from a params vector\n",
    "    sd::Array{Float64}   # Which are then ./ by this sd vector to get the whitened params vector\n",
    "    V::Array{Float64}    # matrix of principal components, one per column\n",
    "    C::Array{Float64}    # covariance matrix after whitening\n",
    "    D::Array{Float64}    # Vector of eigenvalues\n",
    "    I::Array{Int64}      # index into \"successful\" runs\n",
    "    nI::Array{Int64}     # index into \"unsuccessful\"runs\n",
    "    Vparams::Array{Float64}  # nruns-by-nparams vector of runs, in PCA space\n",
    "    files::Array{String} # nruns-long vector of corresponding filenames\n",
    "    # --- stuff about graphics handling of the plots:\n",
    "    axisHandles::Array{PyCall.PyObject}  # handles to the plotted axes\n",
    "    axisPCs::Array{Int64}    # naxes-by-2, indicating x- and y-axes PC # for each axis plot\n",
    "    dotHandles::Array{PyCall.PyObject} # naxes-by-ndots, extra dots plotted\n",
    "    BP::PyCall.PyObject # the kbMonitorModule.kb_monitor that will keep track of button presses\n",
    "    callback::Any   # The function to be called after a button press\n",
    "end\n",
    "\n",
    "\n",
    "\n",
    "\n",
    "\n",
    "\"\"\"\n",
    "    PCA_highlight(filename, PC::PCAplot_data)\n",
    "\n",
    "Assuming that `PCA_plot()` was called, and returned the PC that is passed to this function,\n",
    "this function will put up a colored dot, across all axes, at the values corresponding to the run \n",
    "indicated by filename. [Out of the entries in PC::PCAplot_data, this function uses files, \n",
    "Vparams, axHandles, dothandles, and axisPCs]\n",
    "\n",
    "Will put up to three dots, blue for the most recent one asked for; green for one call ago\n",
    "to this function; and magenta for the time the function was called two calls ago. That allows\n",
    "keeping track of a sequence of requested values.\n",
    "\n",
    "This function can be used for GUI interactivity-- if a button click selects a run, the\n",
    "corresponding filename can then be used with this function to highlight that run in the\n",
    "scatterplots.\n",
    "\n",
    "# EXAMPLE:\n",
    "\n",
    "```jldoctest\n",
    "res = farmload(\"C17\", farmdir=\"MiniFarms\")\n",
    "\n",
    "PC = plot_PCA(res)\n",
    "I = find(res[\"tcost].<-0.0002)  # to match what histo_params shows\n",
    "\n",
    "PCA_highlight(res[\"files\"][I[1]], PC)\n",
    "PCA_highlight(res[\"files\"][I[2]], PC)\n",
    "PCA_highlight(res[\"files\"][I[3]], PC)\n",
    "```\n",
    "\"\"\"\n",
    "function PCA_highlight(fname, PC::PCAplot_data)\n",
    "    idx = find(PC.files .== fname)\n",
    "    if length(idx)==0; @printf(\"PCA_highlight: Couldn't find filename %s in the PCAplot_data structure, returning\\n\", fname); return; end\n",
    "\n",
    "    Vparams = PC.Vparams[idx,:]\n",
    "\n",
    "    # Move our non-red dots along:\n",
    "    if length(PC.dotHandles) > 0            \n",
    "        # The dot in column X will get the coords of the dot in column X-1:\n",
    "        for i=1:length(PC.axisHandles)\n",
    "            for to=size(PC.dotHandles,2):-1:2\n",
    "                from = to-1\n",
    "                PC.dotHandles[i,to][:set_xdata](PC.dotHandles[i,from][:get_xdata]())\n",
    "                PC.dotHandles[i,to][:set_ydata](PC.dotHandles[i,from][:get_ydata]())\n",
    "                PC.dotHandles[i,to][:set_visible](PC.dotHandles[i,from][:get_visible]())\n",
    "            end\n",
    "            # And then the dot in column 1 gets the coords of the red dot closest to the clicked point:\n",
    "            myX = PC.axisPCs[i,1]; myY = PC.axisPCs[i,2]\n",
    "            PC.dotHandles[i,1][:set_xdata](Vparams[end-(myX-1)])\n",
    "            PC.dotHandles[i,1][:set_ydata](Vparams[end-(myY-1)])   \n",
    "            PC.dotHandles[i,1][:set_visible](true)\n",
    "        end\n",
    "    end\n",
    "    safe_axes(PC.axisHandles[end])    \n",
    "    legend(PC.dotHandles[end,1:3], [\"current\", \"1 ago\", \"2 ago\"])\n",
    "    pause(0.001)\n",
    "end\n",
    "\n",
    "\n",
    "\"\"\"\n",
    "    PCA_event_callback(xy, r, linehandle, axhandle, PC::PCAplot_data)\n",
    "\n",
    "Internal function used by `PCA_plot()` to enable GUI interactivity.\n",
    "This function is responsible for turning the position of the \n",
    "selected data point into the corresponding filename, and then\n",
    "calling the callback that was registered with `PCA_plot()` (if any was)\n",
    "\n",
    "Out of the entries in PC::PCAplot_data, this function uses axisHandles, axisPCs,\n",
    "Vparams, files, and callback.\n",
    "\n",
    "\"\"\"\n",
    "function PCA_event_callback(xy, r, linehandle, axhandle, PC::PCAplot_data)\n",
    "    # @printf(\"xy=(%g,%g)\\n\", xy[1], xy[2])\n",
    "    idx = nothing\n",
    "    # Let's go through the axes finding our axis\n",
    "    for i=1:length(PC.axisHandles)\n",
    "        if axhandle == PC.axisHandles[i]            \n",
    "            myX = PC.axisPCs[i,1]; myY = PC.axisPCs[i,2]\n",
    "            # and now find the index of the point at xy\n",
    "            idx = find((PC.Vparams[:, end-(myX-1)].==xy[1]) .& (PC.Vparams[:, end-(myY-1)].==xy[2]))\n",
    "            if length(idx)==0; \n",
    "                @printf(\"PCA_event_callback: Couldn't find point (%.3f,%.3f), returning\\n\", xy[1], xy[2]); \n",
    "                return; \n",
    "            end\n",
    "            idx = idx[1]\n",
    "        end\n",
    "    end\n",
    "    \n",
    "    @printf(\"You selected file %s\\n\", PC.files[idx]); pause(0.0001)    \n",
    "    \n",
    "    # If there is a user callback, call it:\n",
    "    if PC.callback != nothing\n",
    "        PC.callback(PC.files[idx], PC)\n",
    "    end        \n",
    "end \n",
    "    \n",
    "\n",
    "\n",
    "\n",
    "\n",
    "\"\"\"\n",
    "    PC = plot_PCA(res; threshold=-0.0002, fignum=2, pc_offset=0, plot_unsuccessful=true,\n",
    "        compute_good_only=true, unsuccessful_threshold=nothing, cost_choice=\"cost\",\n",
    "        user_callback=nothing)\n",
    "\n",
    "Computes the principal components for a matrix of parameter values across many runs, and puts\n",
    "up several scatterplots of the run parameter values projected onto these principal \n",
    "components. In addition, enables GUI interactivity: users can associate a callback function\n",
    "with buttonclicks on the figure.\n",
    "\n",
    "# PARAMETERS:\n",
    "\n",
    "- res     A dictionary, in the format of the output of `farmload()`\n",
    "\n",
    "# OPTIONAL PARAMETERS:\n",
    "\n",
    "- threshold             costs below this are considered \"successful\" runs\n",
    "\n",
    "- unsuccessful_threshold   costs above this are considered \"UNsuccessful\" runs\n",
    "                        This value defaults to whatever threshold is.  If the two thresholds are\n",
    "                        different, farms with costs in between, in the \"no man's land\", are not plotted.\n",
    "\n",
    "- plot_unsuccessful     If true, dots for unsuccessful runs are shown, otherwise not.\n",
    "\n",
    "- compute_good_only   If true, all runs, whether successful or not, are used to compute the PCs.\n",
    "                        If false, only the successful runs.\n",
    "\n",
    "- cost_choice           String, used to indicate which cost will be used for thresholding. It \n",
    "                        must be either \"cost\", indicating the testing cost, or \"tcost\", the training cost. \n",
    "\n",
    "- pc_offset             Shows PCs from pc_offset+1 to pc_offset+4\n",
    "\n",
    "- user_callback         If set, function that will be called, as `usercallback(filename, PC)` where\n",
    "                        filename is the name of the run that corresponds to the selected point.\n",
    "\n",
    "- fignum                Figure number on which to plot the PC scatterplots\n",
    "\n",
    "\"\"\" \n",
    "function plot_PCA(res; threshold=-0.0001, fignum=2, pc_offset=0, plot_unsuccessful=true,\n",
    "    compute_good_only=true, unsuccessful_threshold=nothing, cost_choice=\"cost\",\n",
    "    user_callback=nothing)\n",
    "\n",
    "    if unsuccessful_threshold==nothing\n",
    "        unsuccessful_threshold = threshold\n",
    "    end\n",
    "\n",
    "    # Initialize a PCAplot_data structure\n",
    "    PC = PCAplot_data([], [], [], [], [], [], [], [], [], [], [], [], nothing, nothing)\n",
    "\n",
    "    # Get the runs' costs and do selection on them:\n",
    "    if ~((cost_choice==\"tcost\")  ||  (cost_choice==\"cost\"))\n",
    "        error(\"cost_choice MUST be one of \\\"tcost\\\" or \\\"cost\\\"\")\n",
    "    end    \n",
    "    mycost = res[cost_choice]; \n",
    "    PC.I  = I  = find(mycost .< threshold)\n",
    "    PC.nI = nI = find(mycost .>= unsuccessful_threshold)\n",
    "\n",
    "    if compute_good_only\n",
    "        # Use the successful runs (sparams) to define PCA space\n",
    "        sparams = copy(res[\"params\"][I,:])\n",
    "        for i=1:size(sparams,2)\n",
    "            sparams[:,i] -= mean(sparams[:,i])\n",
    "            sparams[:,i] /= std(sparams[:,i])\n",
    "        end\n",
    "        C = sparams'*sparams/size(sparams,1)\n",
    "        D,V = eig(C)\n",
    "        pv = 100*D/sum(D)\n",
    "    end\n",
    "\n",
    "    # Then z-score everybody\n",
    "    params = copy(res[\"params\"]); nruns = size(params,1)\n",
    "    PC.mu = mean(params,1);\n",
    "    params = params - ones(nruns,1)*PC.mu\n",
    "    PC.sd = std(params,1);\n",
    "    params = params ./ (ones(nruns,1)*PC.sd)\n",
    "\n",
    "    if !compute_good_only\n",
    "        C = params'*params/nruns\n",
    "        D,V = eig(C)\n",
    "        pv = 100*D/sum(D)\n",
    "    end\n",
    "    PC.V = V\n",
    "\n",
    "    # parameters in the eigen-coords:\n",
    "    PC.Vparams = Vparams = (inv(V)*params')'\n",
    "\n",
    "    figure(fignum); clf(); \n",
    "    # ax1 = subplot(2,2,1); axisHeightChange(0.9, lock=\"t\")\n",
    "    # ax2 = subplot(2,2,2); axisMove(0.05, 0); axisHeightChange(0.9, lock=\"t\")\n",
    "    # ax3 = subplot(2,2,3); axisHeightChange(0.9, lock=\"b\")\n",
    "    # ax4 = subplot(2,2,4); axisMove(0.05, 0); axisHeightChange(0.9, lock=\"b\")\n",
    "    # PC.axisHandles = [ax1, ax2, ax3, ax4]\n",
    "    # PC.axisPCs = [1 2 ; 3 2 ; 1 3 ; 3 4] + pc_offset\n",
    "    ax1 = subplot(1,2,1); ax2 = subplot(1,2,2)\n",
    "    PC.axisHandles = [ax1 ; ax2]\n",
    "    PC.axisPCs = [2 1 ; 3 1]\n",
    "\n",
    "    for i=1:length(PC.axisHandles)\n",
    "        safe_axes(PC.axisHandles[i])\n",
    "        myX = PC.axisPCs[i,1]; myY = PC.axisPCs[i,2]\n",
    "        if plot_unsuccessful\n",
    "            plot(Vparams[nI,end-(myX-1)],  Vparams[nI,end-(myY-1)], \"g.\", markersize=10)\n",
    "        end\n",
    "        plot(Vparams[I,end-(myX-1)],  Vparams[I,end-(myY-1)], \"r.\", markersize=10)\n",
    "        title(@sprintf(\"PCA %d (%.2f%%) vs %d (%.2f%%)\", myY, pv[end-(myY-1)], myX, pv[end-(myX-1)]))\n",
    "    end\n",
    "\n",
    "        \n",
    "    # Add the non-red dots:\n",
    "    hs =Array{PyCall.PyObject}(0, 3)\n",
    "    for i=1:length(PC.axisHandles)\n",
    "        safe_axes(PC.axisHandles[i]); \n",
    "        hs = [hs ; reshape([plot(0, 0, \"m.\") plot(0, 0, \"b.\") plot(0, 0, \"c.\")][end:-1:1], 1, 3)]\n",
    "        # order of handles gets reversed so the last one plotted -- goes on top -- is first handle\n",
    "    end\n",
    "    for h in hs; h[:set_markersize](11); h[:set_visible](false); end\n",
    "    PC.dotHandles = hs\n",
    "    legend(hs[end,1:3], [\"current\", \"1 ago\", \"2 ago\"])\n",
    "    PC.callback = user_callback\n",
    "    PC.files = res[\"files\"]\n",
    "        \n",
    "    # safe_axes(ax3)\n",
    "    # if plot_unsuccessful; legend([\"unsuccessful\", \"successful\"])\n",
    "    # else                   legend([\"successful\"]) \n",
    "    # end\n",
    "\n",
    "    install_nearest_point_callback(figure(fignum), PCA_event_callback, user_data=PC)\n",
    "\n",
    "    return PC \n",
    "end\n",
    "\n",
    "\n",
    "\n",
    "\"\"\"\n",
    "SV = plot_SVD(;threshold =-0.0002, plot_unsuccessful=false, compute_good_only=false,\n",
    "        cost_choice=\"cost\", user_callback=nothing, fignum=100)\n",
    "\n",
    "Uses the pre-computed SVD components for a matrix of parameter values across many runs, and puts\n",
    "up scatterplots of the run parameter values projected onto these SV components (columns of the U \n",
    "matrix. In addition, enables GUI interactivity: users can associate a callback function\n",
    "with buttonclicks on the figure.\n",
    "\n",
    "\n",
    "# OPTIONAL PARAMETERS:\n",
    "\n",
    "- threshold             training costs below this value are considered \"successful\" (red dots), \n",
    "                        above it are \"unsuccessful\" (blue dots)\n",
    "\n",
    "- plot_unsuccessful     If true, dots for unsuccessful runs are shown, otherwise not.\n",
    "\n",
    "- compute_good_only     If true, only the successful runs are used to compute the SVD space\n",
    "\n",
    "- cost_choice           String, used to indicate which cost will be used for thresholding. It \n",
    "                        must be either \"cost\", indicating the testing cost, or \"tcost\", the training cost. \n",
    "\n",
    "- user_callback         If set, function that will be called, as `usercallback(filename, SV)` where\n",
    "                        filename is the name of the run that corresponds to the selected point.\n",
    "\n",
    "- fignum                Figure number on which to plot the PC scatterplots\n",
    "\n",
    "\n",
    "# RETURNS\n",
    "\n",
    "- SV     A structure of type PCAplot_data. (Only its files, Vparams, axHandles, dotHandles\n",
    "         axisPCs and callback entries will have assigned values.)\n",
    "\n",
    "    \n",
    "\"\"\"\n",
    "function plot_SVD(;threshold =-0.0001, plot_unsuccessful=false, compute_good_only=false,\n",
    "    cost_choice=\"cost\", user_callback=nothing, fignum=100)\n",
    "\n",
    "    # get response matrix\n",
    "    response, results = load(\"MiniOptimizedC17_SVD_response_matrix3.jld\", \"response\",\"results\");\n",
    "    # set up filter by nan\n",
    "    nanrows = any(isnan.(response),2);\n",
    "\n",
    "    # Get the runs' costs and do selection on them:\n",
    "    if ~((cost_choice==\"tcost\")  ||  (cost_choice==\"cost\"))\n",
    "        error(\"cost_choice MUST be one of \\\"tcost\\\" or \\\"cost\\\"\")\n",
    "    end    \n",
    "    mycost = results[cost_choice]; \n",
    "    if !compute_good_only\n",
    "        mycost = mycost[.!vec(nanrows),:];\n",
    "        disp_cost = copy(mycost);\n",
    "    end\n",
    "    badcost = mycost .>= threshold;\n",
    "    \n",
    "    # if we are computing SVD only on the good farms, update nanrows and disp_cost\n",
    "    if compute_good_only\n",
    "        nanrows = nanrows .| badcost;\n",
    "        disp_cost = mycost[.!vec(nanrows),:];\n",
    "    end    \n",
    "\n",
    "    # Filter response matrix\n",
    "    r_all = response[.!vec(nanrows),:];\n",
    "    m = mean(r_all,1);\n",
    "    r_all = r_all - repmat(m, size(r_all,1),1);\n",
    "    F = svdfact(r_all);\n",
    "    u = copy(F[:U]); \n",
    "    u1 = u[:,1];\n",
    "    u2 = u[:,2];\n",
    "    u3 = u[:,3];\n",
    "\n",
    "    # Make list of just good farms\n",
    "    if compute_good_only\n",
    "        # nanrows filter already selects for good farms\n",
    "        u1good = u1;\n",
    "        u2good = u2;\n",
    "        u3good = u3;\n",
    "    else\n",
    "        # remove bad cost farms\n",
    "        u1good = u1[.!vec(badcost),:];\n",
    "        u2good = u2[.!vec(badcost),:];\n",
    "        u3good = u3[.!vec(badcost),:];\n",
    "    end\n",
    "    files = results[\"files\"];\n",
    "    files = files[.!vec(nanrows),:];\n",
    "\n",
    "    SV = PCAplot_data([], [], [], [], [], [], [], [], [], [], [], [], nothing, nothing)\n",
    "    SV.files = files\n",
    "    SV.Vparams = u[:,3:-1:1]  # The column vectors are expected in REVERSE order (i.e., as returned by eig(). )\n",
    "    \n",
    "    pygui(true)\n",
    "    figure(fignum); clf();\n",
    "\n",
    "    ax1 = subplot(1,2,1)\n",
    "    if plot_unsuccessful; plot(u[:,3],u[:,1],\"bo\"); end\n",
    "    plot(u3good, u1good, \"ro\")\n",
    "    title(\"SVD U columns 3 and 1\")\n",
    "    ylabel(\"SVD Dim 1\")\n",
    "    xlabel(\"SVD Dim 3\")   \n",
    "    plot(0, 0, \"go\")[1][:set_visible](false)\n",
    "\n",
    "    ax2 = subplot(1,2,2)\n",
    "    if plot_unsuccessful; plot(u[:,2],u[:,1],\"bo\"); end\n",
    "    plot(u2good, u1good, \"ro\")\n",
    "    title(\"SVD U columns 2 and 1\")\n",
    "    xlabel(\"SVD Dim 2\")   \n",
    "    remove_ytick_labels()\n",
    "\n",
    "    SV.axisHandles = [ax1 ; ax2]\n",
    "    SV.axisPCs   = [3 1 ; 2 1]\n",
    "\n",
    "    hs =Array{PyCall.PyObject}(0, 3)\n",
    "    for i=1:length(SV.axisHandles)\n",
    "        safe_axes(SV.axisHandles[i]); \n",
    "        hs = [hs ; reshape([plot(0, 0, \"m.\") plot(0, 0, \"b.\") plot(0, 0, \"c.\")][end:-1:1], 1, 3)]\n",
    "        # order of handles gets reversed so the last one plotted -- goes on top -- is first handle\n",
    "    end\n",
    "    for h in hs; h[:set_markersize](11); h[:set_visible](false); end\n",
    "    SV.dotHandles = hs\n",
    "    legend(hs[end,1:3], [\"current\", \"1 ago\", \"2 ago\"])\n",
    "\n",
    "    SV.callback = user_callback\n",
    "    # [Out of the entries in PC::PCAplot_data, this function uses files,  Vparams, axHandles, dothandles, and axisPCs]\n",
    "\n",
    "    install_nearest_point_callback(figure(fignum), PCA_event_callback, user_data=SV)\n",
    "\n",
    "    return SV\n",
    "end"
   ]
  },
  {
   "cell_type": "markdown",
   "metadata": {},
   "source": [
    "## plot_farm() -- show individual trials from a run"
   ]
  },
  {
   "cell_type": "code",
   "execution_count": null,
   "metadata": {
    "collapsed": false
   },
   "outputs": [],
   "source": [
    "include(\"pro_anti.jl\")"
   ]
  },
  {
   "cell_type": "code",
   "execution_count": null,
   "metadata": {
    "collapsed": false
   },
   "outputs": [],
   "source": [
    "pygui(true)\n",
    "figure(300); clf();\n",
    "U = randn(3,20);\n",
    "V = rand(4,20)\n",
    "t = (1:20)*0.15\n",
    "\n",
    "ax1 = subplot(3,1,1); ax2 = subplot(3,1,2); ax3 = subplot(3,1,3)\n",
    "plot_PA2(t, U, V, fignum=300, plot_Us=true) # ,\n",
    "# ax_set=Dict(\"Vax\"=>ax1, \"Uax\"=>ax2, \"Dax\"=>ax3)); # , ax_set = [ax1, ax2])\n"
   ]
  },
  {
   "cell_type": "code",
   "execution_count": null,
   "metadata": {
    "collapsed": false
   },
   "outputs": [],
   "source": []
  },
  {
   "cell_type": "code",
   "execution_count": null,
   "metadata": {
    "collapsed": false
   },
   "outputs": [],
   "source": [
    "#@include_me  results_analysis.jl\n",
    "\n",
    "\n",
    "plot_farm_trials = 10    #  The number of trials to be plotted per farm run\n",
    "\n",
    "\n",
    "\n",
    "\"\"\"\n",
    "    params = plot_farm(filename; testruns=400, setup_file=nothing, fignum=3, \n",
    "        plottables = [\"V\", \"V[1,:]-V[4,:]\"], ylabels=[\"V\", \"ProR-ProL\"], \n",
    "        ylims = [[-0.02, 1.02], [-1.02, 1.02]], plot_list = [1:20;],    \n",
    "        hit_linestyle=\"-\", err_linestyle=\"--\", xlims=nothing,\n",
    "        overrideDict=Dict(), further_params...)\n",
    "\n",
    "    Plots multiple trials from a single run of a farm.\n",
    "\n",
    "# PARAMETERS\n",
    "\n",
    "- filename    Eithe a String, the filename of the .jld file containing the run, \n",
    "to be loaded; OR an Array{Float64} vector, containing the parameter values.\n",
    "In the later case, a setup_file must be defined, to set the other parameters \n",
    "(see optional parameters below).\n",
    "\n",
    "# OPTIONAL PARAMETERS\n",
    "\n",
    "- setup_file  if filename is actaually a parameter vector, then this optional parameter\n",
    "              should be passed as a string pointing to a .jld file that when loaded, will contain\n",
    "              variables \"mypars\", \"extra_pars\", and \"search_conditions\" -- the names of the arguments\n",
    "              corresponding to the different entries of the parameter vector will be taken to be \n",
    "              the string versions of the keys of the dictionary \"search_conditions\".\n",
    "\n",
    "- testruns    Number of trials to run. Defaults to value of global variable plot_farm_trials.\n",
    "\n",
    "- fignum      Figure to put the plot up in.\n",
    "\n",
    "- overrideDict   A dictionary containing any model parameter values that will\n",
    "              override any values loaded from the file.  For example\n",
    "              `overrideDict = Dict(:sigma=>0.001)` will run with that value\n",
    "              of sigma, no whater what the file said.\n",
    "\n",
    "- plottables   A vector of strings. Each of these strings indicates something to \n",
    "            plot; the strings will be evaluated in a context where the variables \"V\", \"U\", \n",
    "            and \"t\" are instantiated to have the values passed to `plot_PA()`. Thus \n",
    "            plottables=[\"V\", \"V[1,:]-V[4,:]\"] indicates that two axes should be used, on\n",
    "            the first one V will be plotted, on the second V[1,:]-V[4,:].\n",
    "                The strings can be any arbitrary Julia expression, with the condition that\n",
    "            their evaluation should produce something with either nrows or ncolumns\n",
    "            equal to length(t).\n",
    "\n",
    "- ylabels   A vector of strings, should be equal in length to plottables; Each element\n",
    "            here will be used as the y label for the corresponding axis.\n",
    "\n",
    "- ylims     A vector of Any, should be in length to plottables. If an element is\n",
    "            `nothing`, then allow automatic scaling of the y axes for this axis. Otherwise,\n",
    "            the element should be a 2-long vector of Float64, indicating the minimum and\n",
    "            the maximum for the y axis, respectively.\n",
    "\n",
    "- xlims     Either nothing (autoscale) or a 2-long vector of Float64, to be applied\n",
    "            to all axes\n",
    "\n",
    "- hit_linestyle  A string indicating the linestyle for hit trials. E.g., \"-\" or \"--\".\n",
    "               If this is passed as the empty string, \"\", then hits are not plotted.\n",
    "\n",
    "- err_linestyle  A string indicating the linestyle for error trials. E.g., \"-\" or \"--\".\n",
    "               If this is passed as the empty string, \"\", then errors are not plotted.\n",
    "\n",
    "- further_params    Any further keyword value params are passed on to run_ntrials.\n",
    "            Note that unilke entries in overrideDict, which take the highest precedence, \n",
    "            keyword-value pairs here take the lowest-precedence: any kw-val pair that also\n",
    "            appears in the farm's .jld file, or in overrideDict, will be ignored in favor\n",
    "            of those higher precedence instances.\n",
    "\n",
    "# RETURNS\n",
    "\n",
    "- params     The parameters of the farm that was plotted.\n",
    "\n",
    "# EXAMPLE CALL\n",
    "\n",
    "```jldoctest\n",
    "plot_farm(\"MiniOptimized/farm_C17_Farms024_0058.jld\", fignum=200, testruns=20, setup_file=\"Setups/setup_C21.jld\", plot_list=[1:5;],\n",
    "    plottables = [\"V\", \"V[1,:]+V[4,:] - (V[2,:]+V[3,:])\"], ylabels=[\"V\", \"Rule encoding\"],\n",
    "    ylims = [[-0.02, 1.02], nothing],\n",
    "    overrideDict=Dict(:dt=>0.0025));\n",
    "\n",
    "```jldoctest\n",
    "\"\"\"\n",
    "function plot_farm(filename; testruns=400, setup_file=nothing, fignum=3, \n",
    "    plottables = [\"V\", \"V[1,:]-V[4,:]\"], ylabels=[\"V\", \"ProR-ProL\"], \n",
    "    ylims = [[-0.02, 1.02], [-1.02, 1.02]], plot_list = [1:20;],    \n",
    "    hit_linestyle=\"-\", err_linestyle=\"--\", xlims=nothing,\n",
    "    overrideDict=Dict(), further_params...)\n",
    "\n",
    "    mypars=extra_pars=args=pars3=[]  # define to be available outside if block\n",
    "    if typeof(filename)==String\n",
    "        mypars, extra_pars, args, pars3 = load(filename, \"mypars\", \"extra_pars\", \"args\", \"pars3\")\n",
    "    else\n",
    "        if setup_file==nothing\n",
    "            error(\"If filename is not a string, need a setup file that, when loaded, defines mypars, extra_pars, and search_conditions. E.g., setup_file=\\\"Setups/setup_C20.jld\\\"\")\n",
    "        end\n",
    "        if ! (typeof(filename)<:Array{Float64})\n",
    "            error(\"If filename is not a string, it should be a vector of Float64s\")\n",
    "        end\n",
    "        mypars, extra_pars, search_conditions=load(setup_file, \"mypars\", \"extra_pars\", \"search_conditions\")\n",
    "        args = map(k -> String(k), keys(search_conditions))\n",
    "        pars3 = filename\n",
    "        if length(args) != length(pars3)\n",
    "            error(\"If filename is not a string, it should be a vector with length equal to the number of keys in setup_file\")\n",
    "        end\n",
    "    end \n",
    "\n",
    "    pygui(true)\n",
    "    figure(fignum); clf();\n",
    "    \n",
    "    pstrings = [\"CONTROL\", \"DELAY OPTO\", \"CHOICE OPTO\"]\n",
    "    for period = 1:3\n",
    "        these_pars = merge(mypars, extra_pars);\n",
    "        these_pars = merge(these_pars, Dict(\n",
    "            :opto_times=>reshape(extra_pars[:opto_periods][period,:], 1, 2),\n",
    "        ))\n",
    "        these_pars = merge(Dict(further_params), these_pars)\n",
    "        \n",
    "        # The plot_list should be the one we give it below, not whatever was in the stored parameters\n",
    "        delete!(these_pars, :plot_list)\n",
    "        \n",
    "        nplots  = length(plottables)\n",
    "        pax_set = Array{PyCall.PyObject}(nplots,1)\n",
    "        aax_set = Array{PyCall.PyObject}(nplots,1)\n",
    "        for i=1:nplots\n",
    "            pax_set[i] = subplot(2*nplots, 3, period + 3*(i-1));\n",
    "            if i<=nplots/2; axisHeightChange(0.9, lock=\"t\")\n",
    "            else            axisHeightChange(0.9, lock=\"c\")\n",
    "            end\n",
    "            \n",
    "            aax_set[i] = subplot(2*nplots, 3, period + 3*(nplots+i-1));\n",
    "            if i<=nplots/2; axisHeightChange(0.9, lock=\"c\")\n",
    "            else            axisHeightChange(0.9, lock=\"b\")\n",
    "            end\n",
    "        end\n",
    "\n",
    "        proVs, antiVs = run_ntrials(testruns, testruns; plot_list=plot_list, \n",
    "            ax_set = [pax_set, aax_set], \n",
    "            plottables = plottables, ylabels=ylabels, ylims=ylims, xlims=xlims,\n",
    "            hit_linestyle=hit_linestyle, err_linestyle=err_linestyle, \n",
    "            merge(make_dict(args, pars3, these_pars), overrideDict)...);\n",
    "        hBP = length(find(proVs[1,:]  .> proVs[4,:])) /size(proVs, 2)\n",
    "        hBA = length(find(antiVs[4,:] .> antiVs[1,:]))/size(antiVs,2)\n",
    "        # @printf(\"period %d:  hBP=%.2f%%, hBA=%.2f%%\\n\\n\", period, 100*hBP, 100*hBA)\n",
    "\n",
    "        safe_axes(pax_set[1]); title(@sprintf(\"%s  PRO hits = %.2f%%\", pstrings[period], 100*hBP))\n",
    "        safe_axes(aax_set[1]); title(@sprintf(\"ANTI hits = %.2f%%\", 100*hBA))\n",
    "        for i=1:(nplots-1)\n",
    "            safe_axes(pax_set[i]); remove_xtick_labels(); xlabel(\"\")\n",
    "            safe_axes(aax_set[i]); remove_xtick_labels(); xlabel(\"\")\n",
    "        end\n",
    "        safe_axes(pax_set[end]); remove_xtick_labels(); xlabel(\"\")\n",
    "        if period > 1\n",
    "            remove_ytick_labels(pax_set)\n",
    "            remove_ytick_labels(aax_set)\n",
    "        end\n",
    "\n",
    "        if period==2 && typeof(filename)<:String\n",
    "            safe_axes(pax_set[1])\n",
    "            text(mean(xlim()), ylim()[2] + 0.35*(ylim()[2]-ylim()[1]), filename,\n",
    "                fontsize=18, horizontalalignment=\"center\")\n",
    "        end\n",
    "        figure(fignum)[:canvas][:draw]()\n",
    "        pause(0.0001)\n",
    "    end\n",
    "\n",
    "    for a=1:length(args)\n",
    "        myarg = args[a]; while length(myarg)<20; myarg=myarg*\" \"; end\n",
    "        @printf(\"%s\\t\\t%g\\n\", myarg, pars3[a])\n",
    "    end\n",
    "\n",
    "    return pars3\n",
    "end"
   ]
  },
  {
   "cell_type": "code",
   "execution_count": null,
   "metadata": {
    "collapsed": false
   },
   "outputs": [],
   "source": [
    "# include(\"pro_anti.jl\"); close(\"all\")"
   ]
  },
  {
   "cell_type": "code",
   "execution_count": null,
   "metadata": {
    "collapsed": false
   },
   "outputs": [],
   "source": [
    "plot_farm(\"MiniOptimized/farm_C17_Farms024_0058.jld\", fignum=200, testruns=20, setup_file=\"Setups/setup_C21.jld\", plot_list=[1:5;],\n",
    "plottables = [\"V\", \"rule\"], ylabels=[\"V\", \"Rule encoding\"],\n",
    "ylims = [[-0.02, 1.02], nothing], xlims=[1, 1.5], selectize=\"Vend[1]>0\",\n",
    "overrideDict=Dict(:dt=>0.0025));\n"
   ]
  },
  {
   "cell_type": "code",
   "execution_count": null,
   "metadata": {
    "collapsed": false
   },
   "outputs": [],
   "source": [
    "close(\"all\")"
   ]
  },
  {
   "cell_type": "code",
   "execution_count": null,
   "metadata": {
    "collapsed": false
   },
   "outputs": [],
   "source": [
    "# ps=[0.305648, 0.699232, 2.46563, -0.0951304, 0.227575, -0.0150118, 0.284325, 0.451524, 0.071832, -0.803347, 0.381372, -1.13649]\n",
    "# plot_farm(ps, fignum=200, testruns=800, setup_file=\"Setups/setup_C20.jld\")\n",
    "\n",
    "ps=[2.85619, 1.54222, 0.608599, -0.603101, 0.939795, 0.814543, 1.4115, -1.48907, 0.658225, -2.9977, 0.341421, 0.173432]\n",
    "plot_farm(ps, fignum=200, testruns=20, setup_file=\"Setups/setup_C21.jld\", plot_list=[1:5;],\n",
    "plottables = [\"V\", \"V[1,:]+V[4,:] - (V[2,:]+V[3,:])\"], ylabels=[\"V\", \"Rule encoding\"],\n",
    "ylims = [[-0.02, 1.02], nothing],\n",
    "overrideDict=Dict(:dt=>0.0025));\n",
    "\n",
    "\n"
   ]
  },
  {
   "cell_type": "code",
   "execution_count": null,
   "metadata": {
    "collapsed": false
   },
   "outputs": [],
   "source": [
    "include(\"results_analysis.jl\")"
   ]
  },
  {
   "cell_type": "markdown",
   "metadata": {},
   "source": [
    "## make_mini_farm()   -- take a set of farms with full runs and produce summaries of them"
   ]
  },
  {
   "cell_type": "code",
   "execution_count": null,
   "metadata": {
    "collapsed": false
   },
   "outputs": [],
   "source": [
    "#@include_me  results_analysis.jl\n",
    "\n",
    "\"\"\"\n",
    "make_mini_farm(farmid ; fromdirs=[\"../Farms024\", \"../Farms025\", \"../Farms026\"], \n",
    "    todir=\"MiniFarms\")    \n",
    "\n",
    "Takes all the  runs in directories fromdirs, (which might not be on git),\n",
    "and puts a small-size sumamry of them in todir. That todir directory will\n",
    "a reasonabale size for git (only MBytes compred to GBytes)\n",
    "\n",
    "The minifarm directory can be used for browsers in lieu of the original farms, but \n",
    "note that files in it do not include Hessian information.\n",
    "\n",
    "# PARAMETERS:\n",
    "\n",
    "- farmid     A pattern that needs to be matched in a filename for it to be included. E.g., \"C17\"\n",
    "\n",
    "# OPTIONAL PARAMETERS:\n",
    "\n",
    "- fromdirs  Either a String, indicating a directory, or a vector of Strings, indicating multiple \n",
    "            directories to be treated together.        \n",
    "\n",
    "- todir     A String indicating the directory where the Mini files should go to. If the\n",
    "            directory did not previously exist, creates it. If the directory was not previously\n",
    "            empty, does not clear it.\n",
    "\n",
    "# EXAMPLE:\n",
    "\n",
    "```jldoctest\n",
    "make_mini_farm(\"C17\", fromdirs=[\"../Farms024], todir=\"MiniNew\")\n",
    "```jldoctest\n",
    "\n",
    "\"\"\"\n",
    "function make_mini_farm(farmid; fromdirs=[\"../Farms024\", \"../Farms025\", \"../Farms026\"], \n",
    "        todir=\"MiniFarms\")\n",
    "    \n",
    "    res = farmload(farmid, verbose=true, farmdir=fromdirs)\n",
    "\n",
    "    if ~isdir(todir); mkdir(todir); end;\n",
    "\n",
    "    sdict = []; dirname=[]; filename=[]\n",
    "\n",
    "    for i in 1:length(res[\"tcost\"])    \n",
    "        mypars, extra_pars, args, pars3 = load(res[\"files\"][i], \"mypars\", \"extra_pars\", \n",
    "            \"args\", \"pars3\")\n",
    "        sdict = Dict(\"mypars\"=>mypars, \"extra_pars\"=>extra_pars, \n",
    "            \"args\"=>args, \"pars3\"=>pars3)\n",
    "        for k in keys(res)\n",
    "            if k==\"tcost\"\n",
    "                sdict[\"traj3\"] = [0 ; res[\"tcost\"][i]; 0]\n",
    "            elseif !(k==\"args\" || k==\"params\")\n",
    "                sdict[k] = res[k][i]\n",
    "            end\n",
    "        end\n",
    "\n",
    "        dirname, filename = splitdir(res[\"files\"][i]); dirname=splitdir(dirname)[2]\n",
    "\n",
    "        save(todir * \"/\" * filename[1:9]*dirname*\"_\"*filename[10:end], sdict)\n",
    "        if rem(i, 20)==0\n",
    "            @printf(\"Did %d/%d\\n\", i, length(res[\"tcost\"]))\n",
    "        end\n",
    "    end\n",
    "end\n",
    "\n"
   ]
  },
  {
   "cell_type": "code",
   "execution_count": null,
   "metadata": {
    "collapsed": false
   },
   "outputs": [],
   "source": [
    "make_mini_farm(\"C17\", fromdirs=\"../C17_Optimized_B/\", todir=\"Mini_C17_Optimized_B\")"
   ]
  },
  {
   "cell_type": "code",
   "execution_count": null,
   "metadata": {
    "collapsed": false
   },
   "outputs": [],
   "source": [
    "res = farmload(\"C17\", farmdir=\"Mini_C17_Optimized_B/\")"
   ]
  },
  {
   "cell_type": "code",
   "execution_count": null,
   "metadata": {
    "collapsed": false
   },
   "outputs": [],
   "source": [
    "length(find(res[\"cost\"].<-0.0002))"
   ]
  },
  {
   "cell_type": "markdown",
   "metadata": {},
   "source": [
    "## make_maxi_farm()   -- take a set of farm directories and put all their runs in the same directory using non-overlapping filenames"
   ]
  },
  {
   "cell_type": "code",
   "execution_count": null,
   "metadata": {
    "collapsed": false
   },
   "outputs": [],
   "source": [
    "#@include_me  results_analysis.jl\n",
    "\n",
    "\"\"\"\n",
    "    make_maxi_farm(farmid, fromdirs, todir)\n",
    "\n",
    "Takes the runs in a passed set of farm directories and copies each file dir/fname*farmid* into\n",
    "newdir/fname*farmid*_dir  so that all files live in one directory but don't have names that\n",
    "step on each other. The files to be copied HAVE to start with \"farm_\", all others are ignored\n",
    "\n",
    "\"\"\"\n",
    "function make_maxi_farm(farm_id, fromdirs, todir)\n",
    "    \n",
    "    if ~isdir(todir); mkdir(todir); end;\n",
    "    if typeof(fromdirs)==String; fromdirs=[fromdirs]; end\n",
    "        \n",
    "    for d in fromdirs\n",
    "        fromname = split(d, \"/\")\n",
    "        while fromname[1]==\"..\" || fromname[1]==\"\"; fromname=fromname[2:end]; end\n",
    "        while fromname[end]==\"\"; fromname=fromname[1:end-1]; end\n",
    "        fromname = join(fromname)\n",
    "        n = length(\"farm_\"*farm_id*\"_\")\n",
    "        for f in filter(x -> startswith(x, \"farm_\" * farm_id * \"_\"), readdir(d))   \n",
    "            toname = todir*\"/farm_\"*farm_id*\"_\"*fromname*\"_\"*f[n+1:end]\n",
    "            @printf(\"cp(%s, %s)\\n\", d*\"/\"*f, toname)\n",
    "            cp(d*\"/\"*f, toname, remove_destination=true)\n",
    "        end\n",
    "    end\n",
    "end\n",
    "\n"
   ]
  },
  {
   "cell_type": "code",
   "execution_count": null,
   "metadata": {
    "collapsed": false
   },
   "outputs": [],
   "source": [
    "# make_maxi_farm(\"C17\", [\"../Farms025b_Optim\", \"../Farms026b_Optim\", \"../Farms027b_Optim\"], \n",
    "    \"../C17_Optimized_B\")\n"
   ]
  },
  {
   "cell_type": "code",
   "execution_count": null,
   "metadata": {
    "collapsed": false
   },
   "outputs": [],
   "source": []
  },
  {
   "cell_type": "code",
   "execution_count": null,
   "metadata": {
    "collapsed": false
   },
   "outputs": [],
   "source": [
    "# include(\"pro_anti.jl\")"
   ]
  },
  {
   "cell_type": "markdown",
   "metadata": {},
   "source": [
    "# C17_browser.jl    User-level code script"
   ]
  },
  {
   "cell_type": "code",
   "execution_count": null,
   "metadata": {
    "collapsed": false
   },
   "outputs": [],
   "source": [
    "#@include_me  C17_browser.jl\n",
    "\n",
    "#######################################################\n",
    "#\n",
    "#     Actual calls to the functions to run everything\n",
    "#\n",
    "#######################################################\n",
    "\n",
    "if !isdefined(:histo_params)\n",
    "    # error(\"You must call include(\\\"results_analysis.jl\\\") before calling include(\\\"C17_browser.jl\\\")\")\n",
    "    include(\"results_analysis.jl\")\n",
    "end\n",
    "\n",
    "if !isdefined(:res)\n",
    "    res = farmload(\"C17\", verbose=true, farmdir=\"MiniOptimized\")\n",
    "    res[\"params\"][:,4] = abs.(res[\"params\"][:,4])\n",
    "end\n",
    "\n",
    "pygui(true); \n",
    "remove_all_BPs(); # Clean up any previous links between clicks on figures and callback functions\n",
    "plt[:close](1); plt[:close](2); plt[:close](3); plt[:close](4); plt[:close](5)\n",
    "\n",
    "# Carlos' favored configuration, but adjust to suit -- use capture_current_figure_configuration() \n",
    "# to see code that reproduces a configuration you like once you find it\n",
    "\n",
    "figure(1); set_current_fig_position(1325, 41, 640, 982)   # x, y, width, height\n",
    "figure(2); set_current_fig_position(645, 785, 680, 408)\n",
    "figure(3); set_current_fig_position(0, 785, 641, 407)\n",
    "figure(4); set_current_fig_position(3, 23, 1288, 797)\n",
    "figure(5); set_current_fig_position(1338, 998, 540, 200)\n",
    "\n",
    "figure(5)\n",
    "ax1 = subplot(2,2,1); axisMove(-0.05, 0); axisWidthChange(1.1, lock=\"l\")\n",
    "ax2 = subplot(2,2,2); axisMove(0.05, 0); axisWidthChange(0.6, lock=\"r\")\n",
    "ax3 = subplot(2,1,2); axisMove(0.05, 0)\n",
    "rad = kbMonitorModule.radio_buttons(ax1, [\"Don't plot trials\", \"Plot trials (wait for it)\"])\n",
    "tbx = dbx = []  # define these outside the try/catch so the vars are available outside the try/catch\n",
    "try \n",
    "    tbx = kbMonitorModule.text_box(ax2, \"ntrials to run \", \"10\")\n",
    "    dbx = kbMonitorModule.text_box(ax3, \"Override \", \"\")\n",
    "catch\n",
    "    @printf(\"\\nI couldn't make the ntrials to run and Override text boxes for you.\\n\")\n",
    "    tbx = Dict(:text=>\"10\")\n",
    "    dbx = Dict(:text=>\"\")\n",
    "end\n",
    "\n",
    "\n",
    "##########################################################\n",
    "#\n",
    "#   next couple of lines define cost type and threshold\n",
    "#\n",
    "##########################################################\n",
    "\n",
    "cost_choice = \"cost\"   # \"cost\" is test cost, \"tcost\" is training cost\n",
    "threshold   = -0.00025  # Below this is a \"successful\" run\n",
    "\n",
    "\n",
    "nsucc = length(find(res[cost_choice].<threshold))\n",
    "@printf(\"\\n%d runs being plotted as successful, with cost `%s' less than %g\\n\\n\", nsucc, cost_choice, threshold)\n",
    "\n",
    "# Put up the histograms\n",
    "HD = histo_params(res; threshold=threshold, cost_choice=cost_choice);\n",
    "pause(0.001)\n",
    "\n",
    "# The callback function that will be called after clicking on a data dot:\n",
    "function highlight_all(fname, PC, SV)\n",
    "    PCA_highlight(fname, PC);   # Color the selected dots in the PC plot\n",
    "    PCA_highlight(fname, SV);   # Color the selected dots in the SVD plot\n",
    "    histo_highlight(fname, HD)  # Color the selected bars in the histograms\n",
    "    pause(0.001);   # We don't really care about the 1 ms pause; just a convenient way to flush all pending graphics commandsj\n",
    "    if rad[:value_selected] == \"Plot trials (wait for it)\"\n",
    "        if ~isnull(tryparse(Int64, tbx[:text])); \n",
    "            ntrials = parse(Int64, tbx[:text])\n",
    "        else\n",
    "            @printf(\"Couldn't parse the ntrials to plot\\n\")\n",
    "            ntrials = 10\n",
    "        end\n",
    "        try\n",
    "            plot_farm(fname, testruns=ntrials, fignum=4, overrideDict=eval(parse(\"Dict(\"*dbx[:text]*\")\"))) \n",
    "        catch e\n",
    "            @printf(\"Couldn't plot farm, error %s\\n\", e)\n",
    "            catch_stacktrace()\n",
    "        end\n",
    "    end\n",
    "end\n",
    "\n",
    "# Put up the PCA plot\n",
    "PC = plot_PCA(res; threshold=threshold, cost_choice=cost_choice, \n",
    "    user_callback = (fname, Trash) -> highlight_all(fname, PC, SV),\n",
    "    plot_unsuccessful=false, unsuccessful_threshold=0.0001, compute_good_only=false, fignum=2);\n",
    "pause(0.001)\n",
    "\n",
    "# Put up the SVD plot\n",
    "SV = plot_SVD(threshold=threshold, cost_choice=cost_choice, \n",
    "    user_callback = (fname, Trash) -> highlight_all(fname, PC, SV),\n",
    "    plot_unsuccessful=false, compute_good_only=false, fignum=3);\n",
    "\n",
    "# Print out some instructions for the user\n",
    "docstring = \"\"\"\n",
    "\n",
    "Wait for PCA and SVD plots to come up.\n",
    "Then click on any dot within the PCA plot or SVD plots to\n",
    "see the corresponding data in the other plots. Click on\n",
    "'Don't plot trials' in figure 5 if you want to go faster,\n",
    "without running trials.\n",
    "\n",
    "The window placement fits a 15-in Macbook Pro, but adjust\n",
    "at will. Once you find window positions you like, run\n",
    "    capture_current_figure_configuration()\n",
    "to get copy-pastable code that reproduces it.\n",
    "\n",
    "ntrials to run is the number of trials per condition that will\n",
    "be run in plot_farm() to compute %correct. Up to 20 of them\n",
    "will be plotted.\n",
    "\n",
    "Override is a dict that will override any paramater values in\n",
    "the plotted trials. For example, if you write\n",
    "    :sigma=>0.2, :rule_and_delay_period=>1.6\n",
    "then no matter what the run's file said, if you ask for trials\n",
    "to be plotted, those trials will run\n",
    "with that sigma and that rule_and_delay_period.\n",
    "\n",
    "\"\"\"\n",
    "\n",
    "@printf(\"%s\", docstring)\n"
   ]
  },
  {
   "cell_type": "code",
   "execution_count": null,
   "metadata": {
    "collapsed": false
   },
   "outputs": [],
   "source": [
    "function highlight_all(fname, PC, SV)\n",
    "    PCA_highlight(fname, PC);   # Color the selected dots in the PC plot\n",
    "    PCA_highlight(fname, SV);   # Color the selected dots in the SVD plot\n",
    "    histo_highlight(fname, HD)  # Color the selected bars in the histograms\n",
    "    pause(0.001);   # We don't really care about the 1 ms pause; just a convenient way to flush all pending graphics commandsj\n",
    "    if rad[:value_selected] == \"Plot trials (wait for it)\"\n",
    "        if ~isnull(tryparse(Int64, tbx[:text])); \n",
    "            ntrials = parse(Int64, tbx[:text])\n",
    "        else\n",
    "            @printf(\"Couldn't parse the ntrials to plot\\n\")\n",
    "            ntrials = 10\n",
    "        end\n",
    "        try\n",
    "            plot_farm(fname, testruns=ntrials, fignum=4, overrideDict=eval(parse(\"Dict(\"*dbx[:text]*\")\"))) \n",
    "        catch e\n",
    "            @printf(\"Couldn't plot farm, error %s\\n\", e)\n",
    "            catch_stacktrace()\n",
    "        end\n",
    "    end\n",
    "end\n"
   ]
  },
  {
   "cell_type": "code",
   "execution_count": null,
   "metadata": {
    "collapsed": false
   },
   "outputs": [],
   "source": [
    "# include(\"pro_anti.jl\")\n",
    "plot_farm(\"MiniOptimized/farm_C17_Farms026_0193.jld\", testruns=20, fignum=4)"
   ]
  },
  {
   "cell_type": "markdown",
   "metadata": {},
   "source": [
    "# LDA_browser.jl    User-level code script"
   ]
  },
  {
   "cell_type": "code",
   "execution_count": null,
   "metadata": {
    "collapsed": false
   },
   "outputs": [],
   "source": [
    "pygui(true)\n",
    "G = matread(\"compute_clustering/LDA_output.mat\")\n",
    "set_indices = [find(G[\"cluster_ids\"].==1), find(G[\"cluster_ids\"].==2), find(G[\"cluster_ids\"].==3)]\n",
    "SD = interactive_scatters(G[\"ldparams\"]', G[\"filenames\"], set_indices=set_indices, plot_set2=true,\n",
    "user_callback=scatter_highlight, fignum=20, axisDims=[1 2 ; 1 2]);\n"
   ]
  },
  {
   "cell_type": "code",
   "execution_count": null,
   "metadata": {
    "collapsed": false
   },
   "outputs": [],
   "source": [
    "pygui(true)\n",
    "figure(5); set_current_fig_position(1338, 736, 540, 450)\n",
    "\n",
    "figure(5); clf();\n",
    "ax1 = axes([0.01, 0.84, 0.37, 0.15])\n",
    "rad = kbMonitorModule.radio_buttons(ax1, [\"Don't plot trials\", \"Plot trials (wait for it)\"])\n",
    "\n",
    "npla = 4; axheight = 0.1; axy = 0.02; \n",
    "plax = Array{PyCall.PyObject}(npla,1); ylax = Array{PyCall.PyObject}(npla,1)\n",
    "plb  = Array{PyCall.PyObject}(npla,1); ylb  = Array{PyCall.PyObject}(npla,1)\n",
    "for i=1:npla\n",
    "    plax[i] = axes([0.13, axy, 0.49, axheight])\n",
    "    plb[i]  = kbMonitorModule.text_box(plax[i], \"plottable\", \"\")\n",
    "    ylax[i] = axes([0.75, axy, 0.24, axheight])\n",
    "    ylb[i]  = kbMonitorModule.text_box(ylax[i], \"ylim\", \"\")\n",
    "    \n",
    "    axy = axy+axheight+0.02\n",
    "end\n",
    "\n",
    "axy += 0.04\n",
    "ax3 = axes([0.13, axy, 0.86, axheight])\n",
    "dbx = kbMonitorModule.text_box(ax3, \"Override \", \"\")\n",
    "\n",
    "axy += axheight + 0.04\n",
    "ax4 = axes([0.23, axy, 0.4, axheight])\n",
    "tbx = kbMonitorModule.text_box(ax4, \"ntrials to run \", \"6\")"
   ]
  },
  {
   "cell_type": "code",
   "execution_count": null,
   "metadata": {
    "collapsed": false
   },
   "outputs": [],
   "source": [
    "typeof(plb)"
   ]
  },
  {
   "cell_type": "code",
   "execution_count": null,
   "metadata": {
    "collapsed": false
   },
   "outputs": [],
   "source": [
    "pygui(true)\n",
    "figure(5); set_current_fig_position(1338, 998, 540, 200)\n",
    "\n",
    "figure(5)\n",
    "ax1 = subplot(2,2,1); axisMove(-0.05, 0); axisWidthChange(1.1, lock=\"l\")\n",
    "ax2 = subplot(2,2,2); axisMove(0.05, 0); axisWidthChange(0.6, lock=\"r\")\n",
    "ax3 = subplot(2,1,2); axisMove(0.05, 0)\n",
    "rad = kbMonitorModule.radio_buttons(ax1, [\"Don't plot trials\", \"Plot trials (wait for it)\"])\n",
    "tbx = dbx = []  # define these outside the try/catch so the vars are available outside the try/catch\n",
    "try \n",
    "    tbx = kbMonitorModule.text_box(ax2, \"ntrials to run \", \"6\")\n",
    "    dbx = kbMonitorModule.text_box(ax3, \"Override \", \"\")\n",
    "catch\n",
    "    @printf(\"\\nI couldn't make the ntrials to run and Override text boxes for you.\\n\")\n",
    "    tbx = Dict(:text=>\"10\")\n",
    "    dbx = Dict(:text=>\"\")\n",
    "end\n"
   ]
  },
  {
   "cell_type": "code",
   "execution_count": null,
   "metadata": {
    "collapsed": false
   },
   "outputs": [],
   "source": [
    "capture_current_figure_configuration()"
   ]
  },
  {
   "cell_type": "code",
   "execution_count": null,
   "metadata": {
    "collapsed": false
   },
   "outputs": [],
   "source": [
    "heb[:value_selected]==\"hit only\""
   ]
  },
  {
   "cell_type": "code",
   "execution_count": null,
   "metadata": {
    "collapsed": false
   },
   "outputs": [],
   "source": [
    "figure(5); clf();\n",
    "# ax7 = axes([0.01, axy, 0.8, 3*axheight])\n",
    "scb = kbMonitorModule.check_buttons(gca(), [\"\"], [true])\n",
    "\n",
    "gca()[:get_children]()[1]"
   ]
  },
  {
   "cell_type": "code",
   "execution_count": null,
   "metadata": {
    "collapsed": false
   },
   "outputs": [],
   "source": []
  },
  {
   "cell_type": "code",
   "execution_count": 5,
   "metadata": {
    "collapsed": false
   },
   "outputs": [
    {
     "name": "stderr",
     "output_type": "stream",
     "text": [
      "\u001b[1m\u001b[33mWARNING: \u001b[39m\u001b[22m\u001b[33mreplacing docs for 'setup_control_figure :: Tuple{Any}' in module 'Main'.\u001b[39m\n"
     ]
    },
    {
     "data": {
      "text/plain": [
       "setup_control_figure"
      ]
     },
     "execution_count": 5,
     "metadata": {},
     "output_type": "execute_result"
    }
   ],
   "source": [
    "#@include_me  LDA_browser.jl\n",
    "\n",
    "\"\"\"\n",
    "    rad, heb, plb, ylb, slb, dbx, tbx, xlb = setup_control_figure(fignum)\n",
    "\n",
    "Configures figure fignum to be a control figure for LDA_browser.\n",
    "\n",
    "# RETURNS:\n",
    "\n",
    "- rad     Radio buttons controlling whether to plot trials or not\n",
    "\n",
    "- heb     All/Hits only/Errors only buttons\n",
    "\n",
    "- plb     Plottables boxes. Non-empty entries here will correspond to an axis\n",
    "per condition when plotting trials. Text inside these boxes can be arbitrary Julia\n",
    "expressions, evaluated in a context where the following variables exist:\n",
    "\n",
    "    - t    time vector\n",
    "\n",
    "    - V    4-by-ntimesteps matrix of V activations\n",
    "\n",
    "    - U    4-by-ntimesteps matrix of U activations\n",
    "\n",
    "    - rule  timesteps-long vector, equal to 0.5*(V[1,:]+V[4,:]-V[2,:]-V[3,:]) (Pro minus Anti)\n",
    "\n",
    "    - decis timesteps-long vector, equal to V[1,:]-V4,:] (Pro_R minus Pro_L)\n",
    "\n",
    "    - diag  timesteps-long vector, equal to 0.5*(V[1,:]+V[3,:]-V[2,:]-V[4,:]) (difference of two diagonals)\n",
    "\n",
    "    So for example you could put in \"rule.^2\" if for whatever reason you wanted to see \n",
    "    the rule squared as a function of time\n",
    "\n",
    "- ylb     Ylim boxes for the plottables\n",
    "\n",
    "    Put in \"[min, max]\" if you want to enforce certain ylimits. Leave empty for auto-scaling.\n",
    "\n",
    "- slb   selectize box. Arbitrary Julia Boolean expressions, evaluated in a context with\n",
    "        the same variables as for the plottables boxes, can be put in here. Only trials for\n",
    "        which the expression is true will be plotted. So, for example, you could write:\n",
    "\n",
    "        \"t0=tbin(t, 1.1); abs.(decis[t0])>0.4\"\n",
    "\n",
    "        to see only trials in which the absolute value of the decision signal at time t=1.1 \n",
    "        would be greater than 0.4\n",
    "\n",
    "- dbx     Override dictionary box. Julia Dict-style entries can go here to override\n",
    "        parameter values in the model. For example, to force running with sigma=0.1 and dt=0.005,\n",
    "        no matter that the particular parameters in the file to be plotted were, you would\n",
    "        write:\n",
    "\n",
    "        :sigma=>0.1, :dt=>0.005\n",
    "\n",
    "        \n",
    "\n",
    "- tbx     number of trials to run box\n",
    "\n",
    "- xlb     xlims box. Write in \"[min, max]\" if you want particular horizontal axis limits\n",
    "          for the various plots.\n",
    "\n",
    "- npla    Number of \"plottables\" boxes\n",
    "\n",
    "\"\"\"\n",
    "function setup_control_figure(fignum)\n",
    "    figure(fignum); clf();\n",
    "    \n",
    "    # rad: plot farm versus not\n",
    "    ax1 = axes([0.01, 0.84, 0.37, 0.15])\n",
    "    rad = kbMonitorModule.radio_buttons(ax1, [\"Plot trials (wait for it)\", \"Don't plot trials\"])\n",
    "\n",
    "    # heb : plot all or hits only or err only\n",
    "    ax0 = axes([0.5, 0.8, 0.37, 0.19])\n",
    "    heb = kbMonitorModule.radio_buttons(ax0, [\"all\", \"hit only\", \"err only\"])\n",
    "\n",
    "    # plb, ylb :  the content of plottables, and their y limits\n",
    "    npla = 3; axheight = 0.1; axy = 0.02; \n",
    "    plax = Array{PyCall.PyObject}(npla,1); ylax = Array{PyCall.PyObject}(npla,1)\n",
    "    plb  = Array{PyCall.PyObject}(npla,1); ylb  = Array{PyCall.PyObject}(npla,1)\n",
    "    for i=1:npla\n",
    "        plax[i] = axes([0.13, axy, 0.49, axheight])\n",
    "        plb[i]  = kbMonitorModule.text_box(plax[i], \"plottable\", \"\")\n",
    "        ylax[i] = axes([0.75, axy, 0.24, axheight])\n",
    "        ylb[i]  = kbMonitorModule.text_box(ylax[i], \"ylim\", \"\")\n",
    "\n",
    "        axy = axy+axheight+0.02\n",
    "    end\n",
    "    # Default is to plot V, rule encoding, and Pro_R - Pro_L:\n",
    "    plb[end][:set_val](\" V \");               ylb[end][:set_val](\"[-0.02, 1.02] \")\n",
    "    plb[end-1][:set_val](\" rule \"); ylb[end-1][:set_val](\"[-1.02, 1.02] \")\n",
    "    plb[end-2][:set_val](\" decis \"); ylb[end-2][:set_val](\"[-1.02, 1.02] \")\n",
    "\n",
    "    # Julia expression to select individual trials for plotting\n",
    "    axy += 0.02\n",
    "    ax6 = axes([0.13, axy, 0.86, axheight])\n",
    "    slb = kbMonitorModule.text_box(ax6, \"Selectize\", \"\")\n",
    "    # ax7 = axes([0.01, axy, 0.1, axheight])\n",
    "    # scb = kbMonitorModule.check_buttons(ax7, \"\", [true])\n",
    "\n",
    "    axy += axheight + 0.02\n",
    "    ax3 = axes([0.13, axy, 0.86, axheight])\n",
    "    dbx = kbMonitorModule.text_box(ax3, \"Override \", \"\")\n",
    "\n",
    "    axy += axheight + 0.03\n",
    "    ax4 = axes([0.2, axy, 0.3, axheight])\n",
    "    tbx = kbMonitorModule.text_box(ax4, \"ntrials to run \", \"6\")\n",
    "\n",
    "    ax5 = axes([0.68, axy, 0.3, axheight])   # working on adding xlims control\n",
    "    xlb = kbMonitorModule.text_box(ax5, \"xlims\", \"\")\n",
    "\n",
    "    return rad, heb, plb, ylb, slb, dbx, tbx, xlb, npla\n",
    "end\n"
   ]
  },
  {
   "cell_type": "code",
   "execution_count": 16,
   "metadata": {
    "collapsed": false
   },
   "outputs": [
    {
     "data": {
      "text/plain": [
       "LDA_browser (generic function with 4 methods)"
      ]
     },
     "execution_count": 16,
     "metadata": {},
     "output_type": "execute_result"
    }
   ],
   "source": [
    "#@include_me  LDA_browser.jl\n",
    "\n",
    "#######################################################\n",
    "#\n",
    "#     Actual calls to the functions to run everything\n",
    "#\n",
    "#######################################################\n",
    "\n",
    "using MultivariateStats\n",
    "using Clustering\n",
    "\n",
    "if !isdefined(:histo_params)\n",
    "    @printf(\"Loading results_analysis.jl\\n\")\n",
    "    include(\"results_analysis.jl\")\n",
    "end\n",
    "\n",
    "function LDA_browser(farmid, farmdir, threshold=-0.0002, cost_choice=\"cost\", nclusters=4)\n",
    "# farmid  = \"C17\"; farmdir = \"Mini_C17_Optimized_B\"\n",
    "# farmid  = \"C19\"; farmdir = \"Mini_C19\"\n",
    "# farmid  = \"C17\"; farmdir = \"C17_Optimized_A\"\n",
    "\n",
    "\n",
    "    if !isdefined(:res) || true\n",
    "        res = farmload(farmid, verbose=true, farmdir=farmdir)\n",
    "        res[\"params\"][:,4] = abs.(res[\"params\"][:,4])\n",
    "    end\n",
    "\n",
    "    pygui(true); \n",
    "    remove_all_BPs(); # Clean up any previous links between clicks on figures and callback functions\n",
    "    plt[:close](1); plt[:close](2); plt[:close](3); plt[:close](4); plt[:close](5)\n",
    "\n",
    "    # Carlos' favored configuration, but adjust to suit -- use capture_current_figure_configuration() \n",
    "    # to see code that reproduces a configuration you like once you find it\n",
    "\n",
    "    figure(1); set_current_fig_position(1325, 41, 640, 672)   # x, y, width, height\n",
    "    figure(2); set_current_fig_position(645, 785, 680, 408)\n",
    "    figure(3); set_current_fig_position(0, 785, 641, 407)\n",
    "    figure(4); set_current_fig_position(3, 23, 1288, 797)\n",
    "    figure(5); set_current_fig_position(1338, 736, 540, 450)\n",
    "\n",
    "    # -------------- SET UP CONTROL FIGURE --------\n",
    "\n",
    "    rad, heb, plb, ylb, slb, dbx, tbx, xlb, npla = setup_control_figure(5)\n",
    "\n",
    "    nsucc = length(find(res[cost_choice].<threshold))\n",
    "    @printf(\"\\n%d runs being plotted as successful, with cost `%s' less than %g\\n\\n\", nsucc, cost_choice, threshold)\n",
    "\n",
    "    # Put up the histograms\n",
    "    HD = histo_params(res; threshold=threshold, cost_choice=cost_choice);\n",
    "    pause(0.001)\n",
    "\n",
    "    # The callback function that will be called after clicking on a data dot:\n",
    "    function highlight_all(fname, SV_space, PARAM_space)\n",
    "        scatter_highlight(fname, SV_space);      # Color the selected dots in the LDA plot\n",
    "        scatter_highlight(fname, PARAM_space);   # Color the selected dots in the LDA plot\n",
    "        histo_highlight(fname, HD)               # Color the selected bars in the histograms\n",
    "        pause(0.001);   # We don't really care about the 1 ms pause; just a convenient way to flush all pending graphics commandsj\n",
    "\n",
    "        if rad[:value_selected] == \"Plot trials (wait for it)\"\n",
    "            if ~isnull(tryparse(Int64, tbx[:text]));               ntrials = parse(Int64, tbx[:text])\n",
    "            else; @printf(\"Couldn't parse the ntrials to plot\\n\"); ntrials = 10\n",
    "            end\n",
    "            plottables = Array{String}(0,1); ylims = Array{Any}(0,1); ylabels = Array{String}(0,1)\n",
    "            for i=npla:-1:1\n",
    "                if plb[i][:text] != \"\"\n",
    "                    plottables = [plottables ; plb[i][:text]]\n",
    "                    ylabels    = [ylabels    ; plb[i][:text]]\n",
    "                    if ylb[i][:text] == \"\"\n",
    "                        ylims = [ylims ; nothing]\n",
    "                    else\n",
    "                        ylims = [ylims ; [eval(parse(ylb[i][:text]))]]\n",
    "                    end                \n",
    "                end\n",
    "            end\n",
    "            xlims = xlb[:text]==\"\" ? nothing : eval(parse(xlb[:text]))\n",
    "            if heb[:value_selected]     == \"all\";      hstyle=\"-\"; estyle=\"--\";\n",
    "            elseif heb[:value_selected] == \"hit only\"; hstyle=\"-\"; estyle=\"\";\n",
    "            else                                       hstyle=\"\";  estyle=\"--\";\n",
    "            end\n",
    "            selectize = slb[:text]==\"\" ? \"true\" : slb[:text]\n",
    "            try\n",
    "                plot_farm(fname, testruns=ntrials, fignum=4, \n",
    "                    plottables=plottables, ylabels=ylabels, ylims=ylims, xlims=xlims,\n",
    "                    hit_linestyle = hstyle, err_linestyle = estyle, selectize=selectize,\n",
    "                    overrideDict=eval(parse(\"Dict(\"*dbx[:text]*\")\"))) \n",
    "            catch e\n",
    "                @printf(\"Couldn't plot farm, error %s\\n\", e)\n",
    "                catch_stacktrace()\n",
    "            end\n",
    "        end\n",
    "    end\n",
    "\n",
    "\n",
    "    # -----------------  Put up the LDA plot  ---------\n",
    "    # We'll use the output from Marino's Matlab code to get number of clusters.\n",
    "    # The rest happens here.-\n",
    "    marino_file = \"compute_clustering/MarinoCode_\"*farmid*\"_\"*farmdir*\".jld\"\n",
    "    if isfile(marino_file)\n",
    "        nclusters, cost_choice_marino, threshold_marino = \n",
    "            load(marino_file, \"ngroups\", \"cost_choice\", \"threshold\")\n",
    "        nclusters=Int64(nclusters)\n",
    "        if threshold_marino != threshold || cost_choice_marino != cost_choice\n",
    "            warn(\"Marino file not generated with requested threshold and cost choice!\\n\", \n",
    "            \"Number of clusters may be off.\\n\")\n",
    "        end\n",
    "    else\n",
    "        warn(@sprintf(\"Didn't find file %s with output from Marino's code, guessing nclusters=%d\\n\",\n",
    "        marino_file, nclusters))\n",
    "    end\n",
    "\n",
    "\n",
    "    alexfile = farmdir*\"_\"*farmid*\"_SVD_response_matrix3_reduced.jld\"\n",
    "    results, response= load(alexfile, \"results\", \"response\")   # these include the trial-averaged PSTHS Alex produced\n",
    "    idx       = find((results[cost_choice].<threshold)  .&  .!any(isnan.(response),2));\n",
    "    files     = results[\"files\"][idx]\n",
    "    params    = results[\"params\"][idx,:]\n",
    "    # Hack params so that sigma is always positive\n",
    "    args      = load(files[1], \"args\")\n",
    "    params[:, find(args.==\"sigma\")] = abs.(params[:, find(args.==\"sigma\")])\n",
    "    # Zero-mean the responses\n",
    "    response  = response[idx,:]\n",
    "    response  = response - ones(size(response,1),1)*mean(response,1)\n",
    "\n",
    "    U, S, V = svd(response)\n",
    "\n",
    "    # We arbitrarily use the top 4 principal components:\n",
    "    ncomponents=4\n",
    "    D = response*V[:,1:ncomponents]\n",
    "    cluster_ids = assignments(kmeans(D', nclusters, init=:kmcen)) # , display=:iter))\n",
    "    set_indices = Array{Any}(nclusters)\n",
    "    for i=1:nclusters; set_indices[i] = find(cluster_ids.==i); end\n",
    "\n",
    "\n",
    "    # Scatterplot in singular value space\n",
    "    SV_space = interactive_scatters(D, files, set_indices=set_indices, plot_set2=true, \n",
    "        fignum=3, axisDims=[1 2], \n",
    "        user_callback=(fname, Trash) -> highlight_all(fname, SV_space, PARAM_space));\n",
    "\n",
    "    # Now do LDA in parameter space, and put up scatter plot in parameter space\n",
    "    M = fit(SubspaceLDA, params', nclusters, cluster_ids) # do multiclass LDA in param space with those cluster ids\n",
    "    ld_data = transform(M, params')'                         # get the parameters in the LDA projection\n",
    "    PARAM_space = interactive_scatters(ld_data, files, set_indices=set_indices, plot_set2=true,\n",
    "        fignum=2, axisDims = [2 1; 3 1],\n",
    "        user_callback=(fname, Trash) -> highlight_all(fname, SV_space, PARAM_space));\n",
    "\n",
    "\n",
    "\n",
    "    # Print out some instructions for the user\n",
    "    docstring = \"\"\"\n",
    "\n",
    "    Wait for PCA and SVD plots to come up.\n",
    "    Then click on any dot within the PCA plot or SVD plots to\n",
    "    see the corresponding data in the other plots. Click on\n",
    "    'Don't plot trials' in figure 5 if you want to go faster,\n",
    "    without running trials.\n",
    "\n",
    "    The window placement fits a 15-in Macbook Pro, but adjust\n",
    "    at will. Once you find window positions you like, run\n",
    "        capture_current_figure_configuration()\n",
    "    to get copy-pastable code that reproduces it.\n",
    "\n",
    "    ntrials to run is the number of trials per condition that will\n",
    "    be run in plot_farm() to compute %correct. Up to 20 of them\n",
    "    will be plotted.\n",
    "\n",
    "    Override is a dict that will override any paramater values in\n",
    "    the plotted trials. For example, if you write\n",
    "        :sigma=>0.2, :rule_and_delay_period=>1.6\n",
    "    then no matter what the run's file said, if you ask for trials\n",
    "    to be plotted, those trials will run\n",
    "    with that sigma and that rule_and_delay_period.\n",
    "\n",
    "    \"\"\"\n",
    "\n",
    "    @printf(\"%s\", docstring)\n",
    "end"
   ]
  },
  {
   "cell_type": "code",
   "execution_count": 15,
   "metadata": {
    "collapsed": false
   },
   "outputs": [
    {
     "name": "stdout",
     "output_type": "stream",
     "text": [
      "Mini_C19/farm_C19_Farms_C19_proanti028_0047.jld -0.000299559\n",
      "Mini_C19/farm_C19_Farms_C19_proanti028_0097.jld -0.000290237\n",
      "Mini_C19/farm_C19_Farms_C19_proanti029_0004.jld -8.63529e-05\n",
      "Mini_C19/farm_C19_Farms_C19_proanti029_0054.jld -4.32425e-05\n",
      "Mini_C19/farm_C19_Farms_C19_proanti029_0104.jld -0.000100218\n",
      "Mini_C19/farm_C19_Farms_C19_proanti030_0021.jld -2.35381e-05\n",
      "\n",
      "118 runs being plotted as successful, with cost `cost' less than -0.0002\n",
      "\n"
     ]
    },
    {
     "name": "stderr",
     "output_type": "stream",
     "text": [
      "QPixmap::scaled: Pixmap is a null pixmap\n",
      "QPixmap::scaled: Pixmap is a null pixmap\n",
      "QPixmap::scaled: Pixmap is a null pixmap\n",
      "QPixmap::scaled: Pixmap is a null pixmap\n",
      "QPixmap::scaled: Pixmap is a null pixmap\n",
      "\u001b[1m\u001b[33mWARNING: \u001b[39m\u001b[22m\u001b[33mreplacing docs for 'scatter_event_callback :: Tuple{Any,Any,Any,Any,scatter_data}' in module 'Main'.\u001b[39m\n",
      "\u001b[1m\u001b[33mWARNING: \u001b[39m\u001b[22m\u001b[33mreplacing docs for 'scatter_event_callback :: Tuple{Any,Any,Any,Any,scatter_data}' in module 'Main'.\u001b[39m\n"
     ]
    },
    {
     "name": "stdout",
     "output_type": "stream",
     "text": [
      "\n",
      "Wait for PCA and SVD plots to come up.\n",
      "Then click on any dot within the PCA plot or SVD plots to\n",
      "see the corresponding data in the other plots. Click on\n",
      "'Don't plot trials' in figure 5 if you want to go faster,\n",
      "without running trials.\n",
      "\n",
      "The window placement fits a 15-in Macbook Pro, but adjust\n",
      "at will. Once you find window positions you like, run\n",
      "    capture_current_figure_configuration()\n",
      "to get copy-pastable code that reproduces it.\n",
      "\n",
      "ntrials to run is the number of trials per condition that will\n",
      "be run in plot_farm() to compute %correct. Up to 20 of them\n",
      "will be plotted.\n",
      "\n",
      "Override is a dict that will override any paramater values in\n",
      "the plotted trials. For example, if you write\n",
      "    :sigma=>0.2, :rule_and_delay_period=>1.6\n",
      "then no matter what the run's file said, if you ask for trials\n",
      "to be plotted, those trials will run\n",
      "with that sigma and that rule_and_delay_period.\n",
      "\n",
      "You selected the point with ID Mini_C19/farm_C19_Farms_C19_proanti028_0046.jld\n",
      "anti_rule_strength  \t\t0.298135\n",
      "right_light_excitation\t\t-0.629611\n",
      "sW                  \t\t1.06378\n",
      "sigma               \t\t1.1642e-05\n",
      "opto_strength       \t\t0.931923\n",
      "const_pro_bias      \t\t0.235684\n",
      "dW                  \t\t-0.365614\n",
      "target_period_excitation\t\t-0.0787219\n",
      "hW                  \t\t-1.10264\n",
      "vW                  \t\t-1.42547\n",
      "pro_rule_strength   \t\t0.267639\n",
      "constant_excitation \t\t1.71517\n"
     ]
    }
   ],
   "source": [
    "LDA_browser(\"C19\", \"Mini_C19\")"
   ]
  },
  {
   "cell_type": "code",
   "execution_count": 17,
   "metadata": {
    "collapsed": false
   },
   "outputs": [
    {
     "data": {
      "text/plain": [
       "0-element Array{Any,1}"
      ]
     },
     "execution_count": 17,
     "metadata": {},
     "output_type": "execute_result"
    }
   ],
   "source": [
    "close(\"all\"); remove_all_BPs()"
   ]
  },
  {
   "cell_type": "code",
   "execution_count": null,
   "metadata": {
    "collapsed": false
   },
   "outputs": [],
   "source": [
    "farmdir=\"Mini_C19\"; farmid=\"C19\"\n",
    "farmdir=\"C17_Optimized_A\"; farmid=\"C17\"\n",
    "farmdir=\"Mini_C17_Optimized_B\"; farmid=\"C17\"\n",
    "threshold=-0.0002\n",
    "\n",
    "G1 = load(farmdir*\"_\"*farmid*\"_SVD_response_matrix3.jld\")\n",
    "u = find((G1[\"results\"][\"cost\"].<threshold)  .&  .!any(isnan.(G1[\"response\"]),2));\n",
    "# u = u[[1:39 ; 41:end]]\n",
    "files2 = G1[\"results\"][\"files\"][u]\n",
    "params = G1[\"results\"][\"params\"][u,:]\n",
    "sel_res = G1[\"response\"][u,:]\n",
    "sel_res = sel_res - ones(size(sel_res,1),1)*mean(sel_res,1)\n",
    "\n",
    "U, S, V = svd(sel_res)\n",
    "\n",
    "nclusters=5\n",
    "\n",
    "D = sel_res*V[:,1:4]\n",
    "cluster_ids = assignments(kmeans(D', nclusters, init=:kmcen, display=:iter))\n",
    "\n",
    "set_indices = Array{Any}(nclusters)\n",
    "for i=1:nclusters\n",
    "    set_indices[i] = find(cluster_ids.==i)\n",
    "end\n",
    "set_indices\n",
    "\n",
    "figure(100); clf()\n",
    "# for i=1:length(set_indices)\n",
    "#    plot(D[set_indices[i],1], D[set_indices[i],2], \".\", markersize=11)\n",
    "#end\n",
    "\n",
    "function mycallback(fname, IS, LD)\n",
    "    scatter_highlight(fname, IS)\n",
    "    scatter_highlight(fname, LD)    \n",
    "    plot_farm(fname, fignum=4, \n",
    "        plottables=[\"V\", \"rule\", \"decis\"], ylabels = [\"V\", \"rule\", \"decis\"],\n",
    "        ylims=[[-0.02, 1.02], [-1.02, 1.02], [-1.02, 1.02]], \n",
    "        testruns=100, plot_list=[1:6;])\n",
    "end\n",
    "\n",
    "IS = interactive_scatters(D, files2, set_indices=set_indices, plot_set2=true, fignum=100,\n",
    "axisDims=[1 2], user_callback=mycallback);\n",
    "\n",
    "\n",
    "M = fit(SubspaceLDA, params', nclusters, cluster_ids) # do multiclass LDA in param space with those cluster ids\n",
    "ld_data = transform(M, params')'                         # get the parameters in the LDA projection\n",
    "\n",
    "LD = interactive_scatters(ld_data, files2, set_indices=set_indices, plot_set2=true,\n",
    "user_callback=(fname, Trash) -> mycallback(fname, IS, LD), \n",
    "        fignum=200, axisDims = [2 1; 3 1]);\n"
   ]
  },
  {
   "cell_type": "code",
   "execution_count": null,
   "metadata": {
    "collapsed": false
   },
   "outputs": [],
   "source": [
    "fig = figure(300); clf()\n",
    "ax = Axes3D(fig)\n",
    "plot_colors = [\"r\"; \"g\"; \"k\"; \"y\" ; \"m\"]\n",
    "for i=1:length(set_indices)\n",
    "    if i!=6\n",
    "        plot3D(ld_data[set_indices[i],1], ld_data[set_indices[i],2], ld_data[set_indices[i],3], \n",
    "            \".\", markersize=11, color=plot_colors[i])\n",
    "    end\n",
    "end\n",
    "\n",
    "size(ld_data)\n"
   ]
  },
  {
   "cell_type": "code",
   "execution_count": null,
   "metadata": {
    "collapsed": false
   },
   "outputs": [],
   "source": []
  },
  {
   "cell_type": "code",
   "execution_count": null,
   "metadata": {
    "collapsed": false
   },
   "outputs": [],
   "source": [
    "plot_farm(files2[set_indices[8][4]], fignum=4, \n",
    "    plottables=[\"V\", \"rule\", \"decis\"], ylabels = [\"V\", \"rule\", \"decis\"],\n",
    "    ylims=[[-0.02, 1.02], [-1.02, 1.02], [-1.02, 1.02]], \n",
    "    testruns=100, plot_list=[1:6;])"
   ]
  },
  {
   "cell_type": "code",
   "execution_count": null,
   "metadata": {
    "collapsed": true
   },
   "outputs": [],
   "source": []
  },
  {
   "cell_type": "code",
   "execution_count": null,
   "metadata": {
    "collapsed": false
   },
   "outputs": [],
   "source": [
    "marino_file = \"compute_clustering/MarinoCode_\"*farmid*\"_\"*farmdir*\".jld\"\n",
    "cluster_ids, bic, response2, threshold2, files2, ndim, cost_choice2,\n",
    "    ngroups, results2 = load(marino_file, \"idx\", \"bic\", \"response\", \"threshold\", \n",
    "    \"files\", \"ndim\", \"cost_choice\", \"ngroups\", \"results\")\n",
    "\n",
    "results2[\"params\"]\n",
    "size(cluster_ids)"
   ]
  },
  {
   "cell_type": "code",
   "execution_count": null,
   "metadata": {
    "collapsed": false
   },
   "outputs": [],
   "source": [
    "length(find(results2[cost_choice].<threshold))"
   ]
  },
  {
   "cell_type": "code",
   "execution_count": null,
   "metadata": {
    "collapsed": false
   },
   "outputs": [],
   "source": [
    "function renamer1(farmid, farmdir)\n",
    "    guys = [\n",
    "        \"SVD_response_matrix.jld\",\n",
    "        \"SVD_response_matrix3.jld\",\n",
    "        \"SVD_response_matrix_reduced.jld\",\n",
    "        \"SVD_response_matrix3_reduced.jld\",\n",
    "        \"encoding.jld\",           \n",
    "        \"hessians.jld\",           \n",
    "        \"results.jld\",           \n",
    "    ]\n",
    "    \n",
    "    for i=1:length(guys)\n",
    "        origname = farmdir*farmid*\"_\"*guys[i]\n",
    "        newname  = farmdir*\"_\"*farmid*\"_\"*guys[i]\n",
    "        if isfile(origname)\n",
    "            @printf(\"git mv %s -> %s\\n\", origname, newname)\n",
    "            run(`git mv $origname $newname`)\n",
    "        else\n",
    "            @printf(\"    -- not found: %s\\n\", origname)\n",
    "        end        \n",
    "    end    \n",
    "end    \n",
    "\n",
    "renamer1(\"C19\", \"Mini_C19\")"
   ]
  },
  {
   "cell_type": "code",
   "execution_count": null,
   "metadata": {
    "collapsed": false
   },
   "outputs": [],
   "source": [
    "file = \"tails.sh\"\n",
    "str = `ls $file`\n",
    "run(str)\n",
    "# typeof(str)"
   ]
  },
  {
   "cell_type": "code",
   "execution_count": null,
   "metadata": {
    "collapsed": false
   },
   "outputs": [],
   "source": [
    "plot_farm(\"Mini_C19/farm_C19_Farms_C19_proanti028_0001.jld\", fignum=4)"
   ]
  },
  {
   "cell_type": "code",
   "execution_count": null,
   "metadata": {
    "collapsed": false
   },
   "outputs": [],
   "source": [
    "Array{Any}(nclusters)"
   ]
  },
  {
   "cell_type": "code",
   "execution_count": null,
   "metadata": {
    "collapsed": false
   },
   "outputs": [],
   "source": [
    "pygui(true); figure(1000); clf();\n",
    "myrad = kbMonitorModule.radio_buttons(gca(), [\"on\"])\n"
   ]
  },
  {
   "cell_type": "code",
   "execution_count": null,
   "metadata": {
    "collapsed": false
   },
   "outputs": [],
   "source": [
    "# include(\"pro_anti.jl\")"
   ]
  },
  {
   "cell_type": "markdown",
   "metadata": {},
   "source": [
    "# Looking at C17 runs and preparing to optimize them"
   ]
  },
  {
   "cell_type": "code",
   "execution_count": null,
   "metadata": {
    "collapsed": false
   },
   "outputs": [],
   "source": [
    "res2 = farmload(\"C17\", farmdir=[\"../Farms025b\", \"../Farms026b\", \"../Farms027b\"])"
   ]
  },
  {
   "cell_type": "code",
   "execution_count": null,
   "metadata": {
    "collapsed": false
   },
   "outputs": [],
   "source": [
    "cost = res2[\"cost\"]\n",
    "tg = G[\"extra_pars\"][:opto_targets]\n",
    "n = length(res2[\"cost\"])\n",
    "\n",
    "hd = zeros(length(res2[\"cost\"]))\n",
    "for i=1:length(res2[\"cost\"])\n",
    "    hd[i] = mean(abs.(tg - [res2[\"hBP\"][i,:]  res2[\"hBA\"][i,:]]))\n",
    "end\n",
    "figure(100); clf();\n",
    "plot(cost, hd, \"b.\")"
   ]
  },
  {
   "cell_type": "code",
   "execution_count": null,
   "metadata": {
    "collapsed": false
   },
   "outputs": [],
   "source": [
    "close(\"all\")"
   ]
  },
  {
   "cell_type": "code",
   "execution_count": null,
   "metadata": {
    "collapsed": false
   },
   "outputs": [],
   "source": [
    "[false true] .& [true true]"
   ]
  },
  {
   "cell_type": "code",
   "execution_count": null,
   "metadata": {
    "collapsed": false
   },
   "outputs": [],
   "source": [
    "figure(100); clf();\n",
    "plt[:hist](res2[\"cost\"], -0.0003:0.00005:0.0003);\n",
    "length(find(res2[\"cost\"].<0.0002))/length(res2[\"cost\"])\n",
    "length(res2[\"cost\"])*0.07"
   ]
  },
  {
   "cell_type": "code",
   "execution_count": null,
   "metadata": {
    "collapsed": false
   },
   "outputs": [],
   "source": [
    "using MultivariateStats\n",
    "using Clustering\n",
    "using JLD\n",
    "using MAT\n",
    "\n",
    "# old_ids  = cluster_ids\n",
    "threshold = -0.0002\n",
    "\n",
    "G1 = load(\"MiniOptimizedC17_SVD_response_matrix3.jld\")\n",
    "idx = find(G1[\"results\"][cost_choice].<=threshold)\n",
    "dynamics_data = G1[\"response\"][idx,:]\n",
    "fnames = G1[\"results\"][\"files\"][idx]\n",
    "params = G1[\"results\"][\"params\"][idx,:]\n",
    "K = kmeans(dynamics_data', 3, init=:kmcen)\n",
    "cluster_ids = assignments(K)\n",
    "\n",
    "MG = matread(\"compute_clustering/LDA_output.mat\")\n",
    "midx = find(MG[cost_choice].<=threshold)\n",
    "marino_cluster_ids = MG[\"cluster_ids\"][midx]\n",
    "\n",
    "# Marino params and my params are not the same!!!!\n",
    "\n",
    "use_marino = false; mycids = use_marino ? marino_cluster_ids : cluster_ids\n",
    "\n",
    "M = fit(SubspaceLDA, params', 3, Array{Int64}(mycids))\n",
    "ld_data = transform(M, params')'\n",
    "# ld_data[:,2] = -ld_data[:,2]\n",
    "ld_data[:,1] = -ld_data[:,1]\n",
    "\n",
    "set_indices = [find(mycids.==1), find(mycids.==2), find(mycids.==3)]\n",
    "\n",
    "LD = interactive_scatters(ld_data, fnames, set_indices=set_indices, plot_set2=true,\n",
    "        user_callback=(fname, Trash) -> highlight_all(fname, LD, SV), fignum=20, axisDims = [1 2]);\n",
    "\n",
    "[cluster_ids marino_cluster_ids];\n"
   ]
  },
  {
   "cell_type": "code",
   "execution_count": null,
   "metadata": {
    "collapsed": false
   },
   "outputs": [],
   "source": [
    "Array{Int64}(marino_cluster_ids)"
   ]
  },
  {
   "cell_type": "code",
   "execution_count": null,
   "metadata": {
    "collapsed": false
   },
   "outputs": [],
   "source": [
    "G = matread(\"compute_clustering/LDA_output.mat\")\n"
   ]
  },
  {
   "cell_type": "code",
   "execution_count": null,
   "metadata": {
    "collapsed": false
   },
   "outputs": [],
   "source": [
    "i = find(res[\"files\"].==\"MiniOptimized/farm_C17_Farms024_0273.jld\")\n",
    "res[\"cost\"][i]\n",
    "length(find(res[\"cost\"].<threshold))"
   ]
  },
  {
   "cell_type": "code",
   "execution_count": null,
   "metadata": {
    "collapsed": false
   },
   "outputs": [],
   "source": [
    "    res = farmload(\"C17\", verbose=true, farmdir=\"MiniOptimized\")\n",
    "    res[\"params\"][:,4] = abs.(res[\"params\"][:,4])\n"
   ]
  },
  {
   "cell_type": "code",
   "execution_count": null,
   "metadata": {
    "collapsed": false
   },
   "outputs": [],
   "source": [
    "dbx[:text]"
   ]
  },
  {
   "cell_type": "code",
   "execution_count": null,
   "metadata": {
    "collapsed": false
   },
   "outputs": [],
   "source": [
    "    if rad[:value_selected] == \"Plot trials (wait for it)\"\n",
    "        if ~isnull(tryparse(Int64, tbx[:text])); \n",
    "            ntrials = parse(Int64, tbx[:text])\n",
    "        else\n",
    "            @printf(\"Couldn't parse the ntrials to plot\\n\")\n",
    "            ntrials = 10\n",
    "        end\n",
    "end"
   ]
  },
  {
   "cell_type": "code",
   "execution_count": null,
   "metadata": {
    "collapsed": false
   },
   "outputs": [],
   "source": [
    "testruns=800\n",
    "mypars, extra_pars, args, pars3 = load(\"MiniFarms/farm_C17_Farms024_0430.jld\", \"mypars\", \"extra_pars\", \"args\", \"pars3\")\n",
    "\n",
    "cost, cost1s, cost2s, hP, hA, dP, dA, hBP, hBA = JJ(testruns, testruns; verbose=false, \n",
    "    make_dict(args, pars3, merge(merge(mypars, extra_pars)))...)"
   ]
  },
  {
   "cell_type": "code",
   "execution_count": null,
   "metadata": {
    "collapsed": false
   },
   "outputs": [],
   "source": [
    "[hBP hBA]"
   ]
  },
  {
   "cell_type": "code",
   "execution_count": null,
   "metadata": {
    "collapsed": false
   },
   "outputs": [],
   "source": [
    "ppps = plot_farm(\"MiniFarms/farm_C17_Farms024_0430.jld\", testruns=800, fignum=10)"
   ]
  },
  {
   "cell_type": "code",
   "execution_count": null,
   "metadata": {
    "collapsed": false
   },
   "outputs": [],
   "source": [
    "figure(5); clf();\n",
    "ax1 = subplot(2,2,1); axisMove(-0.05, 0); axisWidthChange(1.1, lock=\"l\")\n",
    "ax2 = subplot(2,2,2); axisMove(0.05, 0); axisWidthChange(0.6, lock=\"r\")\n",
    "ax3 = subplot(2,1,2); axisMove(0.05, 0)\n",
    "rad = kbMonitorModule.radio_buttons(ax1, [\"Don't plot trials\", \"Plot trials (wait for it)\"])\n",
    "tbx = kbMonitorModule.text_box(ax2, \"ntrials to run \", \"10\")\n",
    "dbx = kbMonitorModule.text_box(ax3, \"Override \", \"\")\n"
   ]
  },
  {
   "cell_type": "code",
   "execution_count": null,
   "metadata": {
    "collapsed": false
   },
   "outputs": [],
   "source": [
    "safe_axes(ax1)\n",
    "ylim(0, 2)"
   ]
  },
  {
   "cell_type": "code",
   "execution_count": null,
   "metadata": {
    "collapsed": false
   },
   "outputs": [],
   "source": []
  },
  {
   "cell_type": "code",
   "execution_count": null,
   "metadata": {
    "collapsed": false
   },
   "outputs": [],
   "source": [
    "res = farmload(\"C17\", verbose=true, farmdir=\"MiniFarms\")\n",
    "\n",
    "res[\"args\"]"
   ]
  },
  {
   "cell_type": "code",
   "execution_count": null,
   "metadata": {
    "collapsed": false
   },
   "outputs": [],
   "source": [
    "HD = histo_params(res, threshold=0.0001, fignum=1)\n",
    "remove_all_BPs(); SV = plot_SVD(user_callback=\n",
    "    (fname, PC) -> begin PCA_highlight(fname, PC); histo_highlight(fname, HD); end);"
   ]
  },
  {
   "cell_type": "code",
   "execution_count": null,
   "metadata": {
    "collapsed": false
   },
   "outputs": [],
   "source": [
    "\n",
    "load(\"MiniFarms/farm_C17_Farms024_0001.jld\", \"args\")"
   ]
  },
  {
   "cell_type": "code",
   "execution_count": null,
   "metadata": {
    "collapsed": false
   },
   "outputs": [],
   "source": [
    "include(\"general_utils.jl\")"
   ]
  },
  {
   "cell_type": "code",
   "execution_count": null,
   "metadata": {
    "collapsed": false
   },
   "outputs": [],
   "source": [
    "BP = __permanent_BP_store[1]\n",
    "BP[:buttonlist]()"
   ]
  },
  {
   "cell_type": "code",
   "execution_count": null,
   "metadata": {
    "collapsed": false
   },
   "outputs": [],
   "source": [
    "H = G[\"ftraj3\"][1,end]\n"
   ]
  },
  {
   "cell_type": "code",
   "execution_count": null,
   "metadata": {
    "collapsed": false
   },
   "outputs": [],
   "source": [
    "G = load(\"MiniOptimized/farm_C17_Farms024_0049.jld\")"
   ]
  },
  {
   "cell_type": "code",
   "execution_count": null,
   "metadata": {
    "collapsed": true
   },
   "outputs": [],
   "source": []
  },
  {
   "cell_type": "code",
   "execution_count": null,
   "metadata": {
    "collapsed": true
   },
   "outputs": [],
   "source": []
  },
  {
   "cell_type": "markdown",
   "metadata": {},
   "source": [
    "# Comparing an optimized run with a re-run using fresh trials\n",
    "\n",
    "Here we look at how variability in the random seeds of trials affects the optimal parameters.\n",
    "\n",
    "The cell below, extracted into standalone script `reoptimization_analysis.jl`, compares corresponding runs in the directories \"MiniOptimized\" and \"MiniOptimized_Redux\".  Files in the latter are obtained through running `optimizing_C17b.jl`, which runs through files in \"MiniOptimized\", gives them a new seed for random trials, and then re-optimizes, starting from the parameters that were optimal for the previous run.\n",
    "\n",
    "The cell below takes those results and makes a plot in the first two principal components of parameter PCA space, connecting the two corresponding runs. Short connections mean similar optimal parameters.\n"
   ]
  },
  {
   "cell_type": "code",
   "execution_count": null,
   "metadata": {
    "collapsed": false
   },
   "outputs": [],
   "source": [
    "#@include_me   reoptimization_analysis.jl\n",
    "\n",
    "if !isdefined(:plot_PA)\n",
    "    @printf(\"Including pro_anti.jl\\n\")\n",
    "    include(\"pro_anti.jl\")\n",
    "end\n",
    "\n",
    "if !isdefined(:farmload)\n",
    "    @printf(\"Including results_analysis.jl\\n\")\n",
    "    include(\"results_analysis.jl\")\n",
    "end\n",
    "\n",
    "if !isdefined(:reso)\n",
    "    @printf(\"Loading MiniOptimized farms\\n\")\n",
    "    reso = farmload(\"C17\"; farmdir=\"MiniOptimized\")\n",
    "end\n",
    "\n",
    "if !isdefined(:resn) || true   # forcing it to run right now so we always get latest updated files\n",
    "    @printf(\"Loading MiniOptimized_Redux farms\\n\")\n",
    "    resn = farmload(\"C17\"; farmdir=\"MiniOptimized_Redux\")\n",
    "end\n",
    "\n",
    "# The next two lines define how we threshold the optimized runs, to choose which ones go into the PCA plot\n",
    "cost_choice = \"cost\"     # \"cost\" means test cost, \"tcost\" means training cost\n",
    "threshold   = -0.0001    # Any run with a cost below this goes in\n",
    "\n",
    "# Next we compute PCA space.\n",
    "paramso = reso[\"params\"][find(res[cost_choice].<=threshold),:]\n",
    "# Whiten (mean zero, std 1):\n",
    "paramso = paramso - ones(size(paramso,1),1)*mean(paramso,1)\n",
    "paramso = paramso ./ (ones(size(paramso,1),1)*std(paramso,1))\n",
    "# compute and diagonalize covariance matrix:\n",
    "C = (paramso' * paramso)/size(paramso,1)\n",
    "D, V = eig(C)\n",
    "# Project old and new parameters onto eigenvectors, reverse so top PCA is first\n",
    "oVparams = (inv(V)*reso[\"params\"]')'[:,end:-1:1]\n",
    "nVparams = (inv(V)*resn[\"params\"]')'[:,end:-1:1]\n",
    "\n",
    "figure(100); clf(); \n",
    "\n",
    "# Plot a red dot for all the old parameters:\n",
    "u = find(res[cost_choice].<=threshold)\n",
    "plot(oVparams[u,1], oVparams[u,2], \"r.\", markersize=11)\n",
    "\n",
    "hg = hr = 0  # define here so vars are available outside for loop\n",
    "# Now plot a green dot and a connecting line for all the new ones:\n",
    "for f in readdir(\"MiniOptimized_Redux/\")\n",
    "    if startswith(f, \"farm_C17\") \n",
    "        iold = find(reso[\"files\"] .== (\"MiniOptimized/\" * f))\n",
    "        inew = find(resn[\"files\"] .== (\"MiniOptimized_Redux/\" * f))\n",
    "        hg = plot([oVparams[iold,1], nVparams[inew,1]], [oVparams[iold,2], nVparams[inew,2]], \n",
    "            \"g.-\", markersize=11)\n",
    "        # Add another red dot on top of old values to keep it red\n",
    "        hr = plot(oVparams[iold,1], oVparams[iold,2], \"r.-\", markersize=11)\n",
    "    end\n",
    "end\n",
    "\n",
    "xlabel(\"PCA Dim 1\")\n",
    "ylabel(\"PCA Dim 2\")\n",
    "legend([hg[1], hr[1]], [\"after re-optimizing with new test trials\", \"training trials\"])"
   ]
  },
  {
   "cell_type": "code",
   "execution_count": null,
   "metadata": {
    "collapsed": false
   },
   "outputs": [],
   "source": [
    "FDversion()"
   ]
  },
  {
   "cell_type": "markdown",
   "metadata": {},
   "source": [
    "# Attempt at using spectral embedding -- went nowhere, not obviously different from PCA"
   ]
  },
  {
   "cell_type": "code",
   "execution_count": null,
   "metadata": {
    "collapsed": false
   },
   "outputs": [],
   "source": [
    "# Looking at spectral embedding\n",
    "\n",
    "if !isdefined(:plot_PA)\n",
    "    include(\"pro_anti.jl\")\n",
    "end\n",
    "\n",
    "if true || !isdefined(:res2)\n",
    "    res=farmload(\"C17\", farmdir=\"MiniOptimized/\")\n",
    "    res2 = selectize(res, \"cost > -0.0002\")[1]\n",
    "end\n",
    "\n",
    "nruns   = size(res2[\"params\"],1)\n",
    "nparams = size(res2[\"params\"],2)\n",
    "wparams = copy(res2[\"params\"])\n",
    "wparams = wparams - ones(nruns,1)*mean(wparams,1)\n",
    "wparams = wparams ./ (ones(nruns, 1)*std(wparams,1))\n",
    "\n",
    "W = zeros(nparams, nparams)\n",
    "for i=1:nparams\n",
    "    for j=1:nparams\n",
    "        W[i,j] = sum((wparams[:,i] - wparams[:,j]).^2)\n",
    "    end\n",
    "end\n",
    "\n",
    "figure(10); clf();\n",
    "subplot(3,2,1); plt[:hist](W[:], 10)\n",
    "\n",
    "offset = 0\n",
    "sigma = mean(W[:])/1\n",
    "W = exp.(-W/sigma)\n",
    "\n",
    "D, V = eig(W)\n",
    "VWparams = (inv(V)*wparams')'\n",
    "\n",
    "subplot(3,2,2); plot(D)\n",
    "\n",
    "subplot(3,2,3); plot(VWparams[:,end-(1+offset)], VWparams[:,end-offset], \"r.\")\n",
    "xlabel(@sprintf(\"%d\", 2+offset)); ylabel(@sprintf(\"%d\", 1+offset))\n",
    "\n",
    "subplot(3,2,4); plot(VWparams[:,end-(2+offset)], VWparams[:,end-offset], \"r.\")\n",
    "xlabel(@sprintf(\"%d\", 3+offset)); ylabel(@sprintf(\"%d\", 1+offset))\n",
    "\n",
    "subplot(3,2,5); plot(VWparams[:,end-(3+offset)], VWparams[:,end-(1+offset)], \"r.\")\n",
    "xlabel(@sprintf(\"%d\", 4+offset)); ylabel(@sprintf(\"%d\", 2+offset))\n",
    "\n",
    "subplot(3,2,6); plot(VWparams[:,end-(2+offset)], VWparams[:,end-(1+offset)], \"r.\")\n",
    "xlabel(@sprintf(\"%d\", 3+offset)); ylabel(@sprintf(\"%d\", 2+offset))\n",
    "\n"
   ]
  },
  {
   "cell_type": "code",
   "execution_count": null,
   "metadata": {
    "collapsed": false
   },
   "outputs": [],
   "source": [
    "fs = readdir(\"MiniOptimized_Redux/\")\n",
    "split(fs[1])"
   ]
  },
  {
   "cell_type": "markdown",
   "metadata": {
    "collapsed": false
   },
   "source": [
    "# Checking on gradient and Hessian"
   ]
  },
  {
   "cell_type": "code",
   "execution_count": null,
   "metadata": {
    "collapsed": false
   },
   "outputs": [],
   "source": [
    "include(\"pro_anti.jl\")"
   ]
  },
  {
   "cell_type": "code",
   "execution_count": null,
   "metadata": {
    "collapsed": false
   },
   "outputs": [],
   "source": [
    "G = load(\"MiniOptimized/farm_C17_Farms024_0060.jld\")\n",
    "mypars = G[\"mypars\"]\n",
    "extra_pars = G[\"extra_pars\"]\n",
    "args = G[\"args\"]\n",
    "params = G[\"pars3\"]\n",
    "\n",
    "fullparams = make_dict(args, params, merge(mypars, extra_pars))"
   ]
  },
  {
   "cell_type": "code",
   "execution_count": null,
   "metadata": {
    "collapsed": false
   },
   "outputs": [],
   "source": [
    "[args params]\n",
    "G[\"cost\"]"
   ]
  },
  {
   "cell_type": "code",
   "execution_count": null,
   "metadata": {
    "collapsed": false
   },
   "outputs": [],
   "source": [
    "H = G[\"ftraj3\"][2,end]\n",
    "D, V1 = eig(H)\n",
    "# D = abs.(D)\n",
    "\n",
    "dJ = 0.0001\n",
    "\n",
    "sqrt.(2*dJ./sort(D))"
   ]
  },
  {
   "cell_type": "code",
   "execution_count": null,
   "metadata": {
    "collapsed": false
   },
   "outputs": [],
   "source": [
    "func1 =  (;params...) -> JJ(mypars[:nPro], mypars[:nAnti]; verbose=true, \n",
    "    merge(merge(mypars, extra_pars), Dict(params))...)[1]\n",
    "\n",
    "\n",
    "val, grad, hess = keyword_vgh(func1, args, params)"
   ]
  },
  {
   "cell_type": "code",
   "execution_count": null,
   "metadata": {
    "collapsed": false
   },
   "outputs": [],
   "source": [
    "search_conditions = Dict(   # :param    default_start   search_box  bound_box\n",
    ":vW     =>                   [mypars[:vW],                       [-0.5, 0.5],  [-5,   5]], \n",
    ":hW     =>                   [mypars[:hW],                       [-0.5, 0.5],  [-5,   5]],\n",
    ":dW     =>                   [mypars[:dW],                       [-0.5, 0.5],  [-5,   5]],\n",
    ":sW     =>                   [mypars[:sW],                       [0,    0.5],  [-5,   5]],\n",
    ":sigma  =>                   [0.11,                              [0.1,  0.2],  [-2,   2]],\n",
    ":constant_excitation      => [mypars[:constant_excitation],      [-1,     1],  [-30, 30]], \n",
    ":target_period_excitation => [mypars[:target_period_excitation], [0.001,0.5],  [-30  30]],\n",
    ":right_light_excitation   => [mypars[:right_light_excitation],   [0.05, 0.5],  [-30, 30]],\n",
    ":const_pro_bias           => [mypars[:const_pro_bias],           [-0.5, 0.5],  [-30, 30]],\n",
    ":opto_strength            => [mypars[:opto_strength],            [0,      1],  [0,    1]],\n",
    ":pro_rule_strength        => [mypars[:pro_rule_strength],        [0,   0.2,],  [0,   30]],\n",
    ":anti_rule_strength       => [mypars[:anti_rule_strength],       [0,   0.2,],  [0,   30]],\n",
    ")\n",
    "\n",
    "\n",
    "bbox = Dict()\n",
    "for k in keys(search_conditions)\n",
    "    bbox = merge(bbox, Dict(k=>search_conditions[k][3]))\n",
    "end\n",
    "bbox\n"
   ]
  },
  {
   "cell_type": "code",
   "execution_count": null,
   "metadata": {
    "collapsed": false
   },
   "outputs": [],
   "source": [
    "func1 =  (;params...) -> JJ(mypars[:nPro], mypars[:nAnti]; verbose=true, \n",
    "    merge(merge(mypars, extra_pars), Dict(params))...)[1]\n",
    "\n",
    "function internal_func(;pars...)\n",
    "    fresults = func1(;wallwrap(bbox, pars)...)   # note use of bbox external to this begin...end\n",
    "    if typeof(fresults)<:Tuple\n",
    "        answer = fresults[1]\n",
    "        further_out = fresults[2:end]\n",
    "    else\n",
    "        answer = fresults\n",
    "    end\n",
    "    return answer  # we assume that the first output of func() will always be a scalar, and that's what we return for ForwardDiff\n",
    "end\n"
   ]
  },
  {
   "cell_type": "code",
   "execution_count": null,
   "metadata": {
    "collapsed": false
   },
   "outputs": [],
   "source": [
    "val, grad, hess = keyword_vgh(func1, args, params)"
   ]
  },
  {
   "cell_type": "code",
   "execution_count": null,
   "metadata": {
    "collapsed": false
   },
   "outputs": [],
   "source": [
    "[args params inverse_wall(bbox, args, params) vector_wrap(bbox, args, inverse_wall(bbox, args, params))]"
   ]
  },
  {
   "cell_type": "code",
   "execution_count": null,
   "metadata": {
    "collapsed": false
   },
   "outputs": [],
   "source": [
    "wval, wgrad, whess = keyword_vgh(internal_func, args, inverse_wall(bbox, args, params))"
   ]
  },
  {
   "cell_type": "code",
   "execution_count": null,
   "metadata": {
    "collapsed": false
   },
   "outputs": [],
   "source": [
    "H - whess"
   ]
  },
  {
   "cell_type": "code",
   "execution_count": null,
   "metadata": {
    "collapsed": false
   },
   "outputs": [],
   "source": [
    "extra_pars2 = copy(extra_pars)\n",
    "# extra_pars2[:seedrand] = Int64(round(time()*1000))\n",
    "# extra_pars2[:cbeta] = 0\n",
    "\n",
    "func1 =  (;params...) -> JJ(mypars[:nPro], mypars[:nAnti]; verbose=true, \n",
    "    merge(merge(mypars, extra_pars2), Dict(params))...)[1]\n",
    "\n",
    "\n",
    "val4, grad4, hess4 = keyword_vgh(func1, args, params)"
   ]
  },
  {
   "cell_type": "code",
   "execution_count": null,
   "metadata": {
    "collapsed": false
   },
   "outputs": [],
   "source": [
    "[G[\"ftraj3\"][1,end] grad2 grad4]"
   ]
  },
  {
   "cell_type": "code",
   "execution_count": null,
   "metadata": {
    "collapsed": false
   },
   "outputs": [],
   "source": []
  },
  {
   "cell_type": "code",
   "execution_count": null,
   "metadata": {
    "collapsed": false
   },
   "outputs": [],
   "source": [
    "extra_pars2 = copy(extra_pars)\n",
    "# extra_pars2[:seedrand] = Int64(round(time()*1000))\n",
    "mypars2 = copy(mypars)\n",
    "mypars2[:cbeta] = 0\n",
    "extra_pars2[:cbeta] = 0\n",
    "\n",
    "func1 =  (;params...) -> JJ(mypars[:nPro], mypars[:nAnti]; verbose=true, \n",
    "    merge(merge(mypars2, extra_pars2), Dict(params))...)[1]\n",
    "\n",
    "\n",
    "val3, grad3, hess3 = keyword_vgh(func1, args, params)"
   ]
  },
  {
   "cell_type": "code",
   "execution_count": null,
   "metadata": {
    "collapsed": false
   },
   "outputs": [],
   "source": [
    "D, V = eig(hess3)\n",
    "sort(D)"
   ]
  },
  {
   "cell_type": "code",
   "execution_count": null,
   "metadata": {
    "collapsed": false
   },
   "outputs": [],
   "source": [
    "extra_pars4 = copy(extra_pars)\n",
    "extra_pars4[:seedrand] = Int64(round(time()*1000))\n",
    "mypars2 = copy(mypars)\n",
    "mypars2[:cbeta] = 0\n",
    "extra_pars4[:cbeta] = 0\n",
    "\n",
    "func1 =  (;params...) -> JJ(mypars[:nPro], mypars[:nAnti]; verbose=true, \n",
    "    merge(merge(mypars2, extra_pars4), Dict(params))...)[1]\n",
    "\n",
    "\n",
    "val4, grad4, hess4 = keyword_vgh(func1, args, params)"
   ]
  },
  {
   "cell_type": "code",
   "execution_count": null,
   "metadata": {
    "collapsed": false
   },
   "outputs": [],
   "source": [
    "D, V = eig(hess4)\n",
    "sort(D)'"
   ]
  },
  {
   "cell_type": "markdown",
   "metadata": {},
   "source": [
    "# Utilities for the results database\n",
    "\n",
    "The database is assumed to be a dictionary, with keys that are strings. One key, `\"args\"`, should hold a vector of strings identifying the parameters minimized. All other keys should have vectors or matrices that have nruns rows, each row corresponding to a run. They may have multiple columns, corresponding to multiple entries for that run (e.g., there is typically a `\"params\"` key that has, for each run, the values of all the arguments, i.e., it will have as many columns as `\"args\"` is long.\n",
    "\n",
    "Some **required** keys include\n",
    "\n",
    "* `\"args\"` a vector of strings, indicating the name of the trained arguments, common across runs\n",
    "* `\"params\"`  Float64 matrix, values of the parameters corresponding to args\n",
    "\n",
    "Some **typical** keys include\n",
    "\n",
    "* `\"tcost\"`  Training cost\n",
    "* `\"cost\"`   Test cost\n",
    "* `\"files\"`  Name of the file in which the run is stored\n",
    "\n"
   ]
  },
  {
   "cell_type": "code",
   "execution_count": null,
   "metadata": {
    "collapsed": false
   },
   "outputs": [],
   "source": [
    "\"\"\"\n",
    "    sres = selectize(res, selector::String)\n",
    "\"\"\"\n",
    "function selectize(res, selector::String)\n",
    "    nruns  = size(res[\"params\"],1)\n",
    "    mykeys = setdiff(keys(res), [\"args\"])    \n",
    "    args   = res[\"args\"]\n",
    "    \n",
    "    I = zeros(nruns,1)\n",
    "    for i=1:nruns\n",
    "        myDict = Dict()\n",
    "        for k in mykeys\n",
    "            if k==\"params\"\n",
    "                for a=1:length(args)\n",
    "                    myDict[args[a]] = res[k][i,a]\n",
    "                end\n",
    "            else\n",
    "                myDict[k] = res[k][i]\n",
    "            end        \n",
    "        end\n",
    "        I[i] = replacer(selector, myDict)\n",
    "    end\n",
    "    I = find(I .!= 0)\n",
    "    \n",
    "    myres = copy(res)\n",
    "    for k in mykeys\n",
    "        myres[k] = res[k][I,:]\n",
    "    end\n",
    "    \n",
    "    return myres, I\n",
    "end"
   ]
  },
  {
   "cell_type": "code",
   "execution_count": null,
   "metadata": {
    "collapsed": false,
    "scrolled": true
   },
   "outputs": [],
   "source": [
    "testres = Dict(\"args\"=>[\"t1\", \"t2\", \"p1\", \"p2\"], \"params\"=>rand(6,4), \"cost\"=>[1;2;3;4;5;6], \"z\"=>[6;5;4;3;2;1])\n",
    "testres[\"cost\"][6]\n",
    "selectize(testres, \"p1  > 0.4\")[\"params\"][:,3]"
   ]
  },
  {
   "cell_type": "code",
   "execution_count": null,
   "metadata": {
    "collapsed": false
   },
   "outputs": [],
   "source": [
    "hs = plot(0, 0, \"b.\")"
   ]
  },
  {
   "cell_type": "code",
   "execution_count": null,
   "metadata": {
    "collapsed": false
   },
   "outputs": [],
   "source": [
    "BP[:clear_buttonlist]()"
   ]
  },
  {
   "cell_type": "code",
   "execution_count": null,
   "metadata": {
    "collapsed": false
   },
   "outputs": [],
   "source": [
    "for i in hs; i[:set_color](\"y\"); end\n",
    "figure(2)[:canvas][:draw]()"
   ]
  },
  {
   "cell_type": "code",
   "execution_count": null,
   "metadata": {
    "collapsed": false
   },
   "outputs": [],
   "source": [
    "PyPlot.show()"
   ]
  },
  {
   "cell_type": "code",
   "execution_count": null,
   "metadata": {
    "collapsed": false
   },
   "outputs": [],
   "source": [
    "files = selectize(res, find(res[\"tcost\"].<-0.0002))[\"files\"]\n",
    "\n",
    "for f in files\n",
    "    plot_farm(f, testruns=200)\n",
    "    \n",
    "    ans = chomp(readline())\n",
    "    if startswith(ans, \"q\") || startswith(ans, \"Q\")\n",
    "        break\n",
    "    end\n",
    "end\n"
   ]
  },
  {
   "cell_type": "code",
   "execution_count": null,
   "metadata": {
    "collapsed": false
   },
   "outputs": [],
   "source": []
  },
  {
   "cell_type": "code",
   "execution_count": null,
   "metadata": {
    "collapsed": false
   },
   "outputs": [],
   "source": []
  },
  {
   "cell_type": "code",
   "execution_count": null,
   "metadata": {
    "collapsed": false
   },
   "outputs": [],
   "source": [
    "f = \"farm_C17_0032.jld\"\n",
    "root = f[1:end-8]"
   ]
  },
  {
   "cell_type": "markdown",
   "metadata": {},
   "source": [
    "## Look at individual trials"
   ]
  },
  {
   "cell_type": "code",
   "execution_count": null,
   "metadata": {
    "collapsed": false
   },
   "outputs": [],
   "source": []
  },
  {
   "cell_type": "code",
   "execution_count": null,
   "metadata": {
    "collapsed": false
   },
   "outputs": [],
   "source": []
  },
  {
   "cell_type": "code",
   "execution_count": null,
   "metadata": {
    "collapsed": false
   },
   "outputs": [],
   "source": [
    "args = res[\"args\"]\n",
    "I= find((res[\"tcost\"].<-0.0002))\n",
    "res[\"files\"][I]"
   ]
  },
  {
   "cell_type": "code",
   "execution_count": null,
   "metadata": {
    "collapsed": false
   },
   "outputs": [],
   "source": [
    "testruns=800\n",
    "mypars, extra_pars, args, pars3 = load(\"MiniFarms/farm_C17_Farms024_0430.jld\", \"mypars\", \"extra_pars\", \"args\", \"pars3\")\n",
    "\n",
    "cost, cost1s, cost2s, hP, hA, dP, dA, hBP, hBA = JJ(testruns, testruns; verbose=false, \n",
    "    make_dict(args, pars3, merge(merge(mypars, extra_pars)))...)"
   ]
  },
  {
   "cell_type": "code",
   "execution_count": null,
   "metadata": {
    "collapsed": false
   },
   "outputs": [],
   "source": [
    "pygui(true)\n",
    "figure(1); clf();\n",
    "figure(2); clf();\n",
    "\n",
    "these_pars = merge(mypars, extra_pars);\n",
    "these_pars = merge(these_pars, Dict(\n",
    "# :opto_strength=>0.3, \n",
    ":opto_times=>reshape(extra_pars[:opto_periods][2,:], 1, 2),\n",
    "# :opto_times=>[\"target_start-0.4\" \"target_start\"],\n",
    "# :opto_times=>[\"target_start\" \"target_end\"],\n",
    ":post_target_period=>0.3,\n",
    ":rule_and_delay_period=>1.2,\n",
    ":dt=>0.005,\n",
    "))\n",
    "delete!(these_pars, :plot_list)\n",
    "\n",
    "override = Dict(\n",
    "# :sigma=>0.02,\n",
    ")\n",
    "\n",
    "proVs, antiVs = run_ntrials(20, 20; plot_list=[1:20;], plot_Us=false, \n",
    "    merge(make_dict(args, pars3, these_pars), override)...);\n",
    "hBP = length(find(proVs[1,:]  .> proVs[4,:])) /size(proVs, 2)\n",
    "hBA = length(find(antiVs[4,:] .> antiVs[1,:]))/size(antiVs,2)\n",
    "@printf(\"hBP=%.2f%%, hBA=%.2f%%\\n\", 100*hBP, 100*hBA)\n",
    "\n",
    "figure(1); subplot(2,1,1)\n",
    "title(@sprintf(\"PRO hits = %.2f%%\", 100*hBP))\n",
    "figure(2); subplot(2,1,1)\n",
    "title(@sprintf(\"ANTI hits = %.2f%%\", 100*hBA))\n",
    "\n",
    "[args pars3]"
   ]
  },
  {
   "cell_type": "code",
   "execution_count": null,
   "metadata": {
    "collapsed": false
   },
   "outputs": [],
   "source": [
    "pygui(true)\n",
    "figure(1); clf();\n",
    "figure(2); clf();\n",
    "\n",
    "these_pars = merge(mypars, extra_pars);\n",
    "these_pars = merge(these_pars, Dict(\n",
    "# :opto_strength=>0.3, \n",
    ":opto_times=>reshape(extra_pars[:opto_periods][2,:], 1, 2),\n",
    "# :opto_times=>[\"target_start-0.4\" \"target_start\"],\n",
    "# :opto_times=>[\"target_start\" \"target_end\"],\n",
    ":post_target_period=>0.3,\n",
    ":rule_and_delay_period=>1.2,\n",
    ":dt=>0.005,\n",
    "))\n",
    "delete!(these_pars, :plot_list)\n",
    "\n",
    "override = Dict(\n",
    "# :sigma=>0.02,\n",
    ")\n",
    "\n",
    "proVs, antiVs = run_ntrials(100, 100; plot_list=[1:20;], plot_Us=false, \n",
    "    merge(make_dict(args, pars3, these_pars), override)...);\n",
    "hBP = length(find(proVs[1,:]  .> proVs[4,:])) /size(proVs, 2)\n",
    "hBA = length(find(antiVs[4,:] .> antiVs[1,:]))/size(antiVs,2)\n",
    "@printf(\"hBP=%.2f%%, hBA=%.2f%%\\n\", 100*hBP, 100*hBA)\n",
    "\n",
    "figure(1); subplot(2,1,1)\n",
    "title(@sprintf(\"PRO hits = %.2f%%\", 100*hBP))\n",
    "figure(2); subplot(2,1,1)\n",
    "title(@sprintf(\"ANTI hits = %.2f%%\", 100*hBA))\n"
   ]
  },
  {
   "cell_type": "code",
   "execution_count": null,
   "metadata": {
    "collapsed": true
   },
   "outputs": [],
   "source": []
  },
  {
   "cell_type": "code",
   "execution_count": null,
   "metadata": {
    "collapsed": false
   },
   "outputs": [],
   "source": [
    "clf();\n",
    "ax = gca();\n",
    "axisHeightChange(0.5, ax=ax, lock=\"b\")"
   ]
  },
  {
   "cell_type": "code",
   "execution_count": null,
   "metadata": {
    "collapsed": false
   },
   "outputs": [],
   "source": [
    "for k in keys(ax)\n",
    "    print(k); print(\"\\n\")\n",
    "end\n"
   ]
  },
  {
   "cell_type": "code",
   "execution_count": null,
   "metadata": {
    "collapsed": false
   },
   "outputs": [],
   "source": [
    "ax[:set_position]([0.1, 0.1, 0.1, 0.1])\n",
    "b = ax[:get_position]()[:bounds]\n"
   ]
  },
  {
   "cell_type": "code",
   "execution_count": null,
   "metadata": {
    "collapsed": false
   },
   "outputs": [],
   "source": [
    "figure(2); clf()\n",
    "\n",
    "using StatsBase\n",
    "\n",
    "x = -0.001:0.000001:maximum(tcost)\n",
    "\n",
    "h1 = fit(Histogram, tcost[:,1], x, closed=:right)\n",
    "\n",
    "plot(x, [0 ; cumsum(h1.weights)]/sum(h1.weights), \"b-\")\n",
    "\n",
    "xlabel(\"Training cost\")\n",
    "ylabel(\"fraction of runs\")\n"
   ]
  },
  {
   "cell_type": "code",
   "execution_count": null,
   "metadata": {
    "collapsed": false
   },
   "outputs": [],
   "source": [
    "find(tcost.<-0.00015)"
   ]
  },
  {
   "cell_type": "code",
   "execution_count": null,
   "metadata": {
    "collapsed": false
   },
   "outputs": [],
   "source": [
    "# farm_id = \"C11\"; farmdir = \"../NewFarms\"\n",
    "\n",
    "\"\"\"\n",
    "    results, files, tcosts, qu_outs, sigmas, target_excites = lookem(;farm_id=\"C11\", farmdir=\"../NewFarms\")\n",
    "\"\"\"\n",
    "function lookem(;farm_id=\"C11\", farmdir=\"../NewFarms\")\n",
    "    results = zeros(0,2); files =[]; qu_outs=[]; sigmas=[]; target_excites=[]; tcosts=[];\n",
    "    for f in filter(x -> startswith(x, \"farm_\" * farm_id * \"_\"), readdir(farmdir * \"/\"))\n",
    "        d = load(farmdir * \"/\" * f)\n",
    "        if !haskey(d, \"qu_out\"); d[\"qu_out\"] = [0 0]; end;\n",
    "        traj3 = d[\"traj3\"]; qu_out = d[\"qu_out\"]\n",
    "        @printf(\"%s : sigma=%.3f, q=%.1f, %g\\n\", f, d[\"pars3\"][7], qu_out[1], traj3[2,end])\n",
    "        results = [results ; qu_out[1] traj3[2,end]]\n",
    "        files = [files ; f]\n",
    "        qu_outs = [qu_outs ; d[\"qu_out\"][1]]\n",
    "        sigmas  = [sigmas ; d[\"pars3\"][7]]\n",
    "        target_excites = [target_excites ; d[\"pars3\"][2]]\n",
    "        tcosts  = [tcosts ; traj3[2,end]]\n",
    "    end\n",
    "    return results, files, tcosts, qu_outs, sigmas, target_excites\n",
    "end\n",
    "\n",
    "res14 = lookem(farm_id=\"C14\")"
   ]
  },
  {
   "cell_type": "code",
   "execution_count": null,
   "metadata": {
    "collapsed": false
   },
   "outputs": [],
   "source": [
    "[args pars3]"
   ]
  },
  {
   "cell_type": "code",
   "execution_count": null,
   "metadata": {
    "collapsed": false
   },
   "outputs": [],
   "source": [
    "find(res[:,2].<-0.0002)"
   ]
  },
  {
   "cell_type": "code",
   "execution_count": null,
   "metadata": {
    "collapsed": false
   },
   "outputs": [],
   "source": [
    "res[res[:,2].<-0.0002,:]"
   ]
  }
 ],
 "metadata": {
  "kernelspec": {
   "display_name": "Julia 0.6.0",
   "language": "julia",
   "name": "julia-0.6"
  },
  "language_info": {
   "file_extension": ".jl",
   "mimetype": "application/julia",
   "name": "julia",
   "version": "0.6.0"
  }
 },
 "nbformat": 4,
 "nbformat_minor": 0
}
